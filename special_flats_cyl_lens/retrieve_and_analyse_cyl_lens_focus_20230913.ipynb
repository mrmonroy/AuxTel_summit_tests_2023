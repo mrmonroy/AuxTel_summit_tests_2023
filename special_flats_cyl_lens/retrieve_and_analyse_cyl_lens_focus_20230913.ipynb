{
 "cells": [
  {
   "cell_type": "markdown",
   "id": "bd0c28d4-0474-4189-bc82-5863b0d67c85",
   "metadata": {},
   "source": [
    "# AuxTel run 12/09/2023 - 15/09/2023 \n",
    "# Focus estimation with cylindrical lens \n",
    "\n",
    "- SITCOM ticket: SITCOM-1012 \n",
    "\n",
    "- Author: Martín Rodríguez Monroy \n",
    "- email: rodriguez-monroy@ijclab.in2p3.fr \\ martin.rodriguez.monroy@gmail.com \n",
    "- Affiliation: IJCLab - CNRS \n",
    "- Creation date: 13/09/2023 \n",
    "- Last update: \n"
   ]
  },
  {
   "cell_type": "code",
   "execution_count": null,
   "id": "35950ed5-8d34-4a45-b475-7bdff543764f",
   "metadata": {
    "tags": []
   },
   "outputs": [],
   "source": [
    "import os\n",
    "import matplotlib.pyplot as plt\n",
    "import matplotlib.colors as colors\n",
    "import matplotlib.cm as cmx\n",
    "import matplotlib.dates as mdates\n",
    "\n",
    "import numpy as np\n",
    "import pandas as pd\n",
    "from scipy.optimize import curve_fit\n",
    "%matplotlib inline\n",
    "from matplotlib.colors import LogNorm\n",
    "\n",
    "from mpl_toolkits.axes_grid1 import make_axes_locatable\n",
    "\n",
    "import matplotlib.ticker                         # here's where the formatter is\n",
    "from matplotlib.ticker import (MultipleLocator, FormatStrFormatter,\n",
    "                               AutoMinorLocator)\n",
    "\n",
    "from astropy.visualization import (MinMaxInterval, SqrtStretch,ZScaleInterval,PercentileInterval,\n",
    "                                   ImageNormalize,imshow_norm)\n",
    "from astropy.visualization.stretch import SinhStretch, LinearStretch,AsinhStretch,LogStretch\n",
    "\n",
    "\n",
    "from astropy.io import fits\n",
    "\n",
    "\n"
   ]
  },
  {
   "cell_type": "code",
   "execution_count": null,
   "id": "a07dfdbe-5cf7-4444-9108-a17f9c6f730a",
   "metadata": {
    "tags": []
   },
   "outputs": [],
   "source": [
    "# Assembly task\n",
    "# https://github.com/lsst/ip_isr/blob/main/python/lsst/ip/isr/isrTask.py\n",
    "\n",
    "from lsst.ip.isr.assembleCcdTask import (AssembleCcdConfig, AssembleCcdTask)\n",
    "from lsst.ip.isr.isrTask import (IsrTask, IsrTaskConfig)\n",
    "\n",
    "#https://github.com/lsst/ip_isr/blob/main/python/lsst/ip/isr/overscan.py\n",
    "from lsst.ip.isr import  OverscanCorrectionTaskConfig, OverscanCorrectionTask"
   ]
  },
  {
   "cell_type": "code",
   "execution_count": null,
   "id": "5a0e62bc-b58a-4b6b-aeeb-913d405e0553",
   "metadata": {
    "tags": []
   },
   "outputs": [],
   "source": [
    "# LSST Display\n",
    "import lsst.afw.display as afwDisplay\n",
    "afwDisplay.setDefaultBackend('matplotlib')"
   ]
  },
  {
   "cell_type": "code",
   "execution_count": null,
   "id": "0f6d44dd-9726-4f30-a485-b7e650450a4d",
   "metadata": {
    "tags": []
   },
   "outputs": [],
   "source": [
    "import warnings\n",
    "warnings.filterwarnings(\"ignore\")"
   ]
  },
  {
   "cell_type": "markdown",
   "id": "c11b22c5-5c8f-48bf-b3f2-8ccd0936ff18",
   "metadata": {},
   "source": [
    "# Butler "
   ]
  },
  {
   "cell_type": "code",
   "execution_count": null,
   "id": "7ac79a8d-4788-42e6-b2ab-073e028f7972",
   "metadata": {
    "tags": []
   },
   "outputs": [],
   "source": [
    "import lsst.daf.butler as dafButler"
   ]
  },
  {
   "cell_type": "code",
   "execution_count": null,
   "id": "6dd75494-8cf9-4e49-94ad-1566f2055e74",
   "metadata": {
    "tags": []
   },
   "outputs": [],
   "source": [
    "embargo = True"
   ]
  },
  {
   "cell_type": "code",
   "execution_count": null,
   "id": "89edd02f-b48c-4270-a088-4738af6d2b6f",
   "metadata": {
    "tags": []
   },
   "outputs": [],
   "source": [
    "if embargo:\n",
    "    repo=\"/sdf/group/rubin/repo/oga/\"\n",
    "else:\n",
    "    repo = \"/sdf/group/rubin/repo/main\"\n",
    "butler = dafButler.Butler(repo)\n",
    "registry = butler.registry"
   ]
  },
  {
   "cell_type": "code",
   "execution_count": null,
   "id": "3d5f7d22-e620-49ae-ad0d-5043dadae5d0",
   "metadata": {
    "tags": []
   },
   "outputs": [],
   "source": [
    "cameraName = 'LATISS'\n",
    "calibCollections = ['LATISS/defaults','LATISS/raw/all']\n",
    "for col in registry.queryCollections(\"*LATISS/calib*\"):\n",
    "    #print(col)\n",
    "    calibCollections.append(col)"
   ]
  },
  {
   "cell_type": "code",
   "execution_count": null,
   "id": "5aa43adb-fe4a-44c2-af0a-bc9cc838933b",
   "metadata": {},
   "outputs": [],
   "source": []
  },
  {
   "cell_type": "code",
   "execution_count": null,
   "id": "89b234e1-60a7-44e3-994e-931573548e2a",
   "metadata": {},
   "outputs": [],
   "source": []
  },
  {
   "cell_type": "markdown",
   "id": "0628b55d-7053-4268-85e1-9beecf853c05",
   "metadata": {},
   "source": [
    "# Functions "
   ]
  },
  {
   "cell_type": "code",
   "execution_count": null,
   "id": "6b833f77-5761-4b8f-b192-16316acfab64",
   "metadata": {
    "tags": []
   },
   "outputs": [],
   "source": [
    "def quad(x,a,b,c):\n",
    "    return a*x**2.+b*x+c"
   ]
  },
  {
   "cell_type": "code",
   "execution_count": null,
   "id": "7ebf7b23-caca-49f8-8068-18dde32ebb14",
   "metadata": {},
   "outputs": [],
   "source": []
  },
  {
   "cell_type": "code",
   "execution_count": null,
   "id": "9394aabb-c329-4a69-a228-4497748d0799",
   "metadata": {},
   "outputs": [],
   "source": []
  },
  {
   "cell_type": "markdown",
   "id": "08b4765f-2ee8-44ca-9aed-d44ea7b82d70",
   "metadata": {},
   "source": [
    "# Paths "
   ]
  },
  {
   "cell_type": "code",
   "execution_count": null,
   "id": "5a542564-5508-4fa4-b8ec-b170a4a6b673",
   "metadata": {
    "tags": []
   },
   "outputs": [],
   "source": [
    "outdir_base = 'output_fits/'\n",
    "if os.path.exists(outdir_base)==False:\n",
    "    os.mkdir(outdir_base)\n",
    "outdir_label = 'cyl_lens_flat_{0}/'"
   ]
  },
  {
   "cell_type": "code",
   "execution_count": null,
   "id": "966cc629-55e9-4bde-812f-2c1377af00eb",
   "metadata": {},
   "outputs": [],
   "source": []
  },
  {
   "cell_type": "code",
   "execution_count": null,
   "id": "26c640ce-8e97-49c0-9719-4f7602729040",
   "metadata": {},
   "outputs": [],
   "source": []
  },
  {
   "cell_type": "markdown",
   "id": "2108a309-1a4b-4b1c-adad-298f3fcb8ec7",
   "metadata": {},
   "source": [
    "We check the different dimension records existing for *physical_filter*: "
   ]
  },
  {
   "cell_type": "code",
   "execution_count": null,
   "id": "02acc2ae-6f68-46e6-b6bc-029da5c80487",
   "metadata": {
    "tags": []
   },
   "outputs": [],
   "source": [
    "phys_filters = list(registry.queryDimensionRecords('physical_filter',where=\"instrument='LATISS'\"))"
   ]
  },
  {
   "cell_type": "markdown",
   "id": "9a6fc904-2698-40aa-bec9-1465b65066cc",
   "metadata": {},
   "source": [
    "Print physical_filters with hologram in place: "
   ]
  },
  {
   "cell_type": "code",
   "execution_count": null,
   "id": "51a841ad-47bf-4490-8805-68832402b003",
   "metadata": {
    "tags": []
   },
   "outputs": [],
   "source": [
    "for f_ in phys_filters:\n",
    "    if 'holo' in f_.name:\n",
    "        print(f_.name)"
   ]
  },
  {
   "cell_type": "code",
   "execution_count": null,
   "id": "f64f933d-c584-4f49-88fa-4ed2d666e6e6",
   "metadata": {},
   "outputs": [],
   "source": []
  },
  {
   "cell_type": "code",
   "execution_count": null,
   "id": "304dab99-82ef-4119-a149-5f8fff0abc13",
   "metadata": {},
   "outputs": [],
   "source": []
  },
  {
   "cell_type": "code",
   "execution_count": null,
   "id": "09ee06e1-b766-4afc-bfba-2993cc1324ad",
   "metadata": {
    "tags": []
   },
   "outputs": [],
   "source": [
    "obs_type = 'engtest'\n",
    "obs_day = 20230913\n",
    "physical_filter = 'cyl_lens~holo4_003' #Note that there are no exposure with this config for the moment "
   ]
  },
  {
   "cell_type": "code",
   "execution_count": null,
   "id": "14fb6b1c-f2b4-4d96-a37e-0ed54980ec61",
   "metadata": {
    "tags": []
   },
   "outputs": [],
   "source": [
    "df_science = pd.DataFrame(columns=['id', 'obs_id','day_obs', 'seq_num','time_start',\n",
    "                                    'time_end' ,'type', 'target','filter_disp','zenith_angle',\n",
    "                                    'expos','ra','dec','skyangle','science_program'])"
   ]
  },
  {
   "cell_type": "code",
   "execution_count": null,
   "id": "8cf3d1b3-224e-44c9-bf1c-176d803ae7ac",
   "metadata": {
    "tags": []
   },
   "outputs": [],
   "source": [
    "\n",
    "where_exps = \"instrument='LATISS' AND exposure.observation_type='{0}' AND exposure.day_obs={1} AND physical_filter='{2}'\".format(obs_type,obs_day,physical_filter)\n",
    "#where_exps = \"instrument='LATISS' AND exposure.observation_type='{0}' AND exposure.day_obs={1}\".format(obs_type,obs_day)\n",
    "for i, info in enumerate(registry.queryDimensionRecords('exposure',where=where_exps)):\n",
    "    \n",
    "    #if info.observation_type=='science':\n",
    "    id_ = info.id\n",
    "    obs_id_ = info.obs_id\n",
    "    day_obs_ = info.day_obs\n",
    "    seq_num_ = info.seq_num\n",
    "    timespan_ = info.timespan\n",
    "    timespan_begin_ = pd.to_datetime(timespan_.begin.to_string())\n",
    "    timespan_end_ = pd.to_datetime(timespan_.end.to_string())\n",
    "    timespan_begin_jd_ = timespan_.begin.jd\n",
    "    timespan_begin_mjd_ = timespan_.begin.mjd\n",
    "\n",
    "    observation_type_ = info.observation_type\n",
    "    target_name_ = info.target_name\n",
    "    physical_filter_ = info.physical_filter\n",
    "    zenith_angle_ = info.zenith_angle\n",
    "    exposure_time_ = info.exposure_time\n",
    "    tracking_ra_ = info.tracking_ra\n",
    "    tracking_dec_ = info.tracking_dec\n",
    "    sky_angle_ = info.sky_angle\n",
    "    science_program_ = info.science_program\n",
    "\n",
    "    df_science.loc[i] = [id_, obs_id_, day_obs_, seq_num_,timespan_begin_,timespan_end_ ,observation_type_, \\\n",
    "                         target_name_, physical_filter_, zenith_angle_, exposure_time_,tracking_ra_, \\\n",
    "                         tracking_dec_, sky_angle_, science_program_]\n",
    "\n",
    "    if i < 2:\n",
    "        print(i)\n",
    "        print(info)\n",
    "        print(\"\\t timespan:            \",info.timespan)\n",
    "        print(\"\\t timespan.begin:      \",info.timespan.begin)\n",
    "        print(\"\\t id:                  \",info.id)\n",
    "        print(\"\\t day_obs:             \",info.day_obs)\n",
    "        print(\"\\t seq_num:             \",info.seq_num)\n",
    "        print(\"\\t type-of-observation: \",info.observation_type)\n",
    "        print(\"\\t target:              \",info.target_name)\n",
    "        print(\"-----------------------------------------------------\")\n",
    "    "
   ]
  },
  {
   "cell_type": "code",
   "execution_count": null,
   "id": "856dad89-b481-41a5-8f55-1b76c98bd143",
   "metadata": {
    "tags": []
   },
   "outputs": [],
   "source": [
    "print('Number of entries = ',len(df_science))"
   ]
  },
  {
   "cell_type": "code",
   "execution_count": null,
   "id": "eeeb7e32-996b-433b-87cd-370eb6e91670",
   "metadata": {
    "tags": []
   },
   "outputs": [],
   "source": [
    "df_science"
   ]
  },
  {
   "cell_type": "code",
   "execution_count": null,
   "id": "fd5f663e-281f-4881-b0a2-2ce4e62928fb",
   "metadata": {},
   "outputs": [],
   "source": []
  },
  {
   "cell_type": "markdown",
   "id": "bcd9e64c-e527-418a-93c3-4179e0ea8f2f",
   "metadata": {},
   "source": [
    "Select exposures: "
   ]
  },
  {
   "cell_type": "code",
   "execution_count": null,
   "id": "57a5d985-6e24-4d1d-97a3-4035355e8c68",
   "metadata": {
    "tags": []
   },
   "outputs": [],
   "source": [
    "seq_nums = np.sort(np.array(df_science.seq_num))\n",
    "print(seq_nums)"
   ]
  },
  {
   "cell_type": "code",
   "execution_count": null,
   "id": "610dea3f-adae-4ee7-b66c-2d0b6186f758",
   "metadata": {
    "tags": []
   },
   "outputs": [],
   "source": [
    "ids = np.sort(np.array(df_science.id))\n",
    "print(ids)"
   ]
  },
  {
   "cell_type": "code",
   "execution_count": null,
   "id": "c9ceb23c-0b37-4c7d-9b5a-d94c4a591c57",
   "metadata": {},
   "outputs": [],
   "source": []
  },
  {
   "cell_type": "markdown",
   "id": "64083af2-b0e1-4860-88f3-ac52c6ab1025",
   "metadata": {},
   "source": [
    "We test retrieving one of them: "
   ]
  },
  {
   "cell_type": "code",
   "execution_count": null,
   "id": "e4ed7f62-08b2-4d13-9106-cdb03eab9267",
   "metadata": {
    "tags": []
   },
   "outputs": [],
   "source": [
    "seq_num0 = seq_nums[0]\n",
    "exp_id0 = ids[0]\n",
    "print(exp_id0)"
   ]
  },
  {
   "cell_type": "code",
   "execution_count": null,
   "id": "6a5ad6c2-5afe-4891-9d8e-f5e2004992fc",
   "metadata": {
    "tags": []
   },
   "outputs": [],
   "source": [
    "test_img = butler.get('raw', dataId={'exposure': exp_id0, 'instrument': 'LATISS', 'detector': 0}, collections = calibCollections)"
   ]
  },
  {
   "cell_type": "code",
   "execution_count": null,
   "id": "eb6cfbb0-5ac7-4f03-a570-0726012f603c",
   "metadata": {
    "tags": []
   },
   "outputs": [],
   "source": [
    "fig = plt.figure(figsize=(12,10))\n",
    "afw_display = afwDisplay.Display(frame=fig)\n",
    "afw_display.scale('linear', 'zscale',None)\n",
    "afw_display.mtv(test_img.image)"
   ]
  },
  {
   "cell_type": "code",
   "execution_count": null,
   "id": "3a1c7bbc-5c8f-4e34-9f4e-d7594f5e103f",
   "metadata": {},
   "outputs": [],
   "source": []
  },
  {
   "cell_type": "markdown",
   "id": "9181d391-731f-4dc5-a82a-dbe2cb62c81f",
   "metadata": {},
   "source": [
    "We do the ISR on this image the same way we do it with the spectra images (i.e., we do our pseudo-postISRCCD): "
   ]
  },
  {
   "cell_type": "code",
   "execution_count": null,
   "id": "e55bddcd-9b10-4e05-9bd7-dc9940a34d02",
   "metadata": {
    "tags": []
   },
   "outputs": [],
   "source": [
    "# configuration\n",
    "isr_config =  IsrTaskConfig()"
   ]
  },
  {
   "cell_type": "code",
   "execution_count": null,
   "id": "cee211d2-429a-48d6-9331-b0e23476b676",
   "metadata": {
    "tags": []
   },
   "outputs": [],
   "source": [
    "isr_config.doDark = False\n",
    "isr_config.doFlat =  False\n",
    "isr_config.doFringe = False\n",
    "isr_config.doDefect = True\n",
    "isr_config.doLinearize = False\n",
    "isr_config.doCrosstalk =  False\n",
    "isr_config.doSaturationInterpolation = False\n",
    "isr_config.overscan.fitType: 'MEDIAN_PER_ROW'\n",
    "isr_config.doBias: True\n"
   ]
  },
  {
   "cell_type": "code",
   "execution_count": null,
   "id": "3a11281b-e7dc-4f6f-8c97-4063f97aa283",
   "metadata": {
    "tags": []
   },
   "outputs": [],
   "source": [
    "isr_task = IsrTask(config=isr_config)"
   ]
  },
  {
   "cell_type": "code",
   "execution_count": null,
   "id": "20b9d026-4dc9-4505-8bd9-1130079a1653",
   "metadata": {
    "tags": []
   },
   "outputs": [],
   "source": [
    "butler = dafButler.Butler(repo, collections=calibCollections)\n",
    "camera = butler.get('camera', instrument=cameraName)\n",
    "#bias = butler.get('bias',instrument=cameraName,detector=0)\n",
    "#defects = butler.get('defects',instrument=cameraName,detector=0)"
   ]
  },
  {
   "cell_type": "code",
   "execution_count": null,
   "id": "9dd9f41c-d54a-4605-8ac5-3e3607a5b084",
   "metadata": {
    "tags": []
   },
   "outputs": [],
   "source": [
    "\n",
    "bias = butler.get(\"bias\",instrument=cameraName, exposure= exp_id0, detector=0, collections=calibCollections)\n",
    "defects = butler.get('defects',instrument=cameraName, exposure= exp_id0,detector=0,collections=calibCollections)\n",
    "\n",
    "#fast ISR \n",
    "isr_test = isr_task.run(test_img,bias=bias,defects=defects)\n"
   ]
  },
  {
   "cell_type": "code",
   "execution_count": null,
   "id": "6e00cd74-ab34-40c7-81fc-581b2a1945d7",
   "metadata": {
    "tags": []
   },
   "outputs": [],
   "source": [
    "isr_test.exposure.visitInfo.getFocusZ()"
   ]
  },
  {
   "cell_type": "code",
   "execution_count": null,
   "id": "c4a4f1cd-b077-44a4-a9f8-e6bdffbef9b9",
   "metadata": {
    "tags": []
   },
   "outputs": [],
   "source": [
    "isr_test.exposure.visitInfo.getId()"
   ]
  },
  {
   "cell_type": "code",
   "execution_count": null,
   "id": "41f7db1d-a99e-4ded-8e2a-90ef7ce7edbb",
   "metadata": {},
   "outputs": [],
   "source": []
  },
  {
   "cell_type": "code",
   "execution_count": null,
   "id": "819b8ec3-8684-42e1-b12f-f7ca35c426a1",
   "metadata": {},
   "outputs": [],
   "source": []
  },
  {
   "cell_type": "code",
   "execution_count": null,
   "id": "886240b3-e9cf-49e4-b7c7-b26410c7b13a",
   "metadata": {
    "tags": []
   },
   "outputs": [],
   "source": [
    "fig = plt.figure(figsize=(10,10))\n",
    "ax = fig.add_subplot(111)\n",
    "im = ax.imshow(isr_test.exposure.image.array,cmap=\"gray\",origin='lower',norm=LogNorm())\n",
    "fig.colorbar(im,ax=ax)"
   ]
  },
  {
   "cell_type": "code",
   "execution_count": null,
   "id": "a07afecb-ecfd-4a31-b711-41ac6ae73da4",
   "metadata": {},
   "outputs": [],
   "source": []
  },
  {
   "cell_type": "code",
   "execution_count": null,
   "id": "d2340467-b8d6-4569-b111-8add9de9a9d4",
   "metadata": {},
   "outputs": [],
   "source": []
  },
  {
   "cell_type": "markdown",
   "id": "ac6bc6f6-2f07-4337-a815-3a2224798813",
   "metadata": {},
   "source": [
    "# Create sum exposure from individual exposures \n",
    "\n",
    "## 1. Do pseudo-postISRCCD "
   ]
  },
  {
   "cell_type": "code",
   "execution_count": null,
   "id": "04fe6cc3-bd24-4c2c-96ec-e82b1370947f",
   "metadata": {
    "tags": []
   },
   "outputs": [],
   "source": [
    "print(seq_nums)"
   ]
  },
  {
   "cell_type": "code",
   "execution_count": null,
   "id": "61f80dd4-1003-42c9-8ac7-21862beaf399",
   "metadata": {},
   "outputs": [],
   "source": []
  },
  {
   "cell_type": "code",
   "execution_count": null,
   "id": "9f1926b7-f5e5-4ac4-b381-4516dcc850b0",
   "metadata": {
    "tags": []
   },
   "outputs": [],
   "source": [
    "exp_dict = {}\n",
    "ampli_boxes = {}\n",
    "ampli_names = []\n",
    "focus_dict = {}\n",
    "for i,exp_id_ in enumerate(ids):\n",
    "    print(exp_id_)\n",
    "    raw_img_ = butler.get('raw', dataId={'exposure': exp_id_, 'instrument': 'LATISS', 'detector': 0}, collections = calibCollections)\n",
    "    print('Raw image retrieved')\n",
    "    \n",
    "    bias_ = butler.get(\"bias\",instrument=cameraName, exposure= exp_id_, detector=0, collections=calibCollections)\n",
    "    defects_ = butler.get('defects',instrument=cameraName, exposure= exp_id_,detector=0,collections=calibCollections)\n",
    "    \n",
    "    #fast ISR \n",
    "    print('Running pseudo-ISR')\n",
    "    isr_img_ = isr_task.run(raw_img_,bias=bias_,defects=defects_)\n",
    "    \n",
    "    assert (isr_img_.exposure.visitInfo.getId()==exp_id_)\n",
    "    focus_ = isr_img_.exposure.visitInfo.getFocusZ()\n",
    "    focus_dict[exp_id_] = focus_\n",
    "    \n",
    "    exp_dict[exp_id_] = isr_img_\n",
    "    print('-----------------')\n",
    "    \n",
    "    if i==0:\n",
    "        for ampIdx, amp in enumerate(raw_img_.getDetector()):\n",
    "            ampli_name_ = amp.getName()\n",
    "            ampli_names.append(ampli_name_)\n",
    "            xbegin = amp.getBBox().x.begin\n",
    "            xend = amp.getBBox().x.end\n",
    "            ybegin = amp.getBBox().y.begin\n",
    "            yend = amp.getBBox().y.end\n",
    "            ampli_boxes[ampli_name_] = (xbegin,xend,ybegin,yend)\n",
    "            \n",
    "            md = raw_img_.getMetadata().toDict()\n",
    "    "
   ]
  },
  {
   "cell_type": "code",
   "execution_count": null,
   "id": "62e8dce0-a5b8-40f1-84fd-50b8a386d1f9",
   "metadata": {
    "tags": []
   },
   "outputs": [],
   "source": [
    "ampli_boxes"
   ]
  },
  {
   "cell_type": "code",
   "execution_count": null,
   "id": "90f654d8-05a4-4dfa-b7a5-f8adde70895a",
   "metadata": {
    "tags": []
   },
   "outputs": [],
   "source": [
    "mapampid = [0,1,2,3,4,5,6,7,15,14,13,12,11,10,9,8]"
   ]
  },
  {
   "cell_type": "code",
   "execution_count": null,
   "id": "2f9625b9-6400-479b-a808-8ea1f1627c91",
   "metadata": {
    "tags": []
   },
   "outputs": [],
   "source": [
    "num_amplis = len(mapampid)"
   ]
  },
  {
   "cell_type": "code",
   "execution_count": null,
   "id": "e90c7265-3c6c-47fa-80fe-21b81ecc66da",
   "metadata": {},
   "outputs": [],
   "source": []
  },
  {
   "cell_type": "code",
   "execution_count": null,
   "id": "5f957f76-5eae-400f-a8fe-ad5f3d36af65",
   "metadata": {
    "tags": []
   },
   "outputs": [],
   "source": [
    "fig = plt.figure(figsize=(20,60))\n",
    "#for i,exp_ in enumerate(exp_list):\n",
    "for i,expi in enumerate(ids):\n",
    "    ax = fig.add_subplot(len(ids),1,i+1)\n",
    "    exp_ = exp_dict[expi]\n",
    "    im = ax.imshow(exp_.exposure.image.array,cmap=\"gray\",origin='lower',norm=LogNorm())\n",
    "    fig.colorbar(im,ax=ax)"
   ]
  },
  {
   "cell_type": "code",
   "execution_count": null,
   "id": "7cee515b-5116-49c7-a3c2-968f450bcf70",
   "metadata": {},
   "outputs": [],
   "source": []
  },
  {
   "cell_type": "code",
   "execution_count": null,
   "id": "cd23a0d6-ccd5-482c-b485-5e250ba9b907",
   "metadata": {},
   "outputs": [],
   "source": []
  },
  {
   "cell_type": "code",
   "execution_count": null,
   "id": "abe2cb4a-ab36-4c75-8f83-39f237192f8c",
   "metadata": {
    "tags": []
   },
   "outputs": [],
   "source": [
    "exp0 = exp_dict[ids[0]].exposure.image.array"
   ]
  },
  {
   "cell_type": "code",
   "execution_count": null,
   "id": "da63e9c7-0c4e-430c-9567-eea3d6a14eac",
   "metadata": {
    "tags": []
   },
   "outputs": [],
   "source": [
    "fig = plt.figure(figsize=(10,8))\n",
    "ax = fig.add_subplot(111)\n",
    "im = ax.imshow(exp0,cmap=\"gray\",origin='lower',vmax=1000)#,norm=LogNorm())\n",
    "fig.colorbar(im,ax=ax)"
   ]
  },
  {
   "cell_type": "code",
   "execution_count": null,
   "id": "b861461e-bceb-4e90-99c9-6604f91faf0a",
   "metadata": {},
   "outputs": [],
   "source": []
  },
  {
   "cell_type": "code",
   "execution_count": null,
   "id": "690e85df-8fe8-4d3b-aa35-5d0d41c46ff0",
   "metadata": {
    "tags": []
   },
   "outputs": [],
   "source": [
    "pos = 1750\n",
    "delta_pos = 5\n",
    "pmin = 200\n",
    "pmax = 400\n",
    "pix = np.arange(pmin,pmax)"
   ]
  },
  {
   "cell_type": "code",
   "execution_count": null,
   "id": "341f0942-da81-42e7-82db-442d7f0945b3",
   "metadata": {
    "tags": []
   },
   "outputs": [],
   "source": [
    "fig = plt.figure(figsize=(8,40))\n",
    "for i,expi in enumerate(ids):\n",
    "    ax = fig.add_subplot(len(ids),1,i+1)\n",
    "    exp_ = exp_dict[expi].exposure.image.array\n",
    "    dd_ = exp_[pmin:pmax,pos]\n",
    "    focus_ = focus_dict[expi]\n",
    "    ax.plot(pix,dd_,label='{0}, {1:.4f}'.format(expi,focus_))\n",
    "    ax.grid()\n",
    "    ax.set_ylim(0,60000)\n",
    "    ax.legend()"
   ]
  },
  {
   "cell_type": "code",
   "execution_count": null,
   "id": "48273d5b-3b53-4513-9525-be4278352a93",
   "metadata": {},
   "outputs": [],
   "source": []
  },
  {
   "cell_type": "code",
   "execution_count": null,
   "id": "ad6408a0-85ea-42d3-8ce5-426bf02b86a0",
   "metadata": {
    "tags": []
   },
   "outputs": [],
   "source": [
    "max_dict = {}\n",
    "sigma_dict = {}\n",
    "fig = plt.figure(figsize=(8,50))\n",
    "for i,expi in enumerate(ids):\n",
    "    ax = fig.add_subplot(len(ids),1,i+1)\n",
    "    exp_ = exp_dict[expi].exposure.image.array\n",
    "    dd_ = exp_[pmin:pmax,pos-delta_pos:pos+delta_pos]\n",
    "    focus_ = focus_dict[expi]\n",
    "    dd_sum = np.sum(dd_,axis=1)\n",
    "    \n",
    "    max_ = np.max(dd_sum)\n",
    "    xmax_ = pix[np.where(dd_sum==max_)[0]][0]\n",
    "    mu_ = np.sum(pix*dd_sum)/np.sum(dd_sum)\n",
    "    sigma_ = np.sqrt(np.sum(dd_sum*(pix-mu_)**2.)/np.sum(dd_sum))\n",
    "    \n",
    "    max_dict[expi] = max_\n",
    "    sigma_dict[expi] = sigma_\n",
    "    \n",
    "    ax.plot(pix,dd_sum,label='{0}, {1:.4f}'.format(id_,focus_))\n",
    "    ax.axvline(x=xmax_,ls='--',color='r',label='Max = {0}'.format(xmax_))\n",
    "    ax.axvline(x=mu_,ls='--',color='b',label=r'$\\mu = $'+'{0:.2f}'.format(mu_))\n",
    "    ax.axvline(x=mu_-sigma_,ls='--',color='orange',label=r'$\\sigma = $'+'{0:.2f}'.format(sigma_))\n",
    "    ax.axvline(x=mu_+sigma_,ls='--',color='orange')\n",
    "    ax.set_ylim(0,600000)\n",
    "    ax.grid()\n",
    "    ax.set_xlabel('Pixel')\n",
    "    ax.set_ylabel('Sum ADU')\n",
    "    ax.legend()\n",
    "plt.tight_layout()"
   ]
  },
  {
   "cell_type": "code",
   "execution_count": null,
   "id": "b6d0d8f7-8c30-496d-b3da-14989c989438",
   "metadata": {},
   "outputs": [],
   "source": []
  },
  {
   "cell_type": "code",
   "execution_count": null,
   "id": "abdab8d7-da65-497f-8687-ca1b154aaf2e",
   "metadata": {
    "tags": []
   },
   "outputs": [],
   "source": []
  },
  {
   "cell_type": "code",
   "execution_count": null,
   "id": "f305a741-b135-41e3-a8a8-2c7b827befdb",
   "metadata": {
    "tags": []
   },
   "outputs": [],
   "source": [
    "fig = plt.figure(figsize=(10,8))\n",
    "ax = fig.add_subplot(111)\n",
    "focus_list = []\n",
    "sigma_list = []\n",
    "for expi in ids:\n",
    "    ax.scatter(focus_dict[expi],sigma_dict[expi],marker='o',color='orange')\n",
    "    focus_list.append(focus_dict[expi])\n",
    "    sigma_list.append(sigma_dict[expi])\n",
    "focus_list = np.array(focus_list)\n",
    "sigma_list = np.array(sigma_list)\n",
    "\n",
    "ax.plot([],[],ls='',marker='o',color='orange',label='Data')\n",
    "\n",
    "psigma,covsigma = curve_fit(quad,focus_list,sigma_list)\n",
    "\n",
    "sigma_fit = quad(focus_list,psigma[0],psigma[1],psigma[2])\n",
    "\n",
    "ax.plot(focus_list,sigma_fit,ls='-',color='orange',label='Fit')\n",
    "\n",
    "foptdata = focus_list[np.where(sigma_list==np.min(sigma_list))[0]][0]\n",
    "foptfit = focus_list[np.where(sigma_fit==np.min(sigma_fit))[0]][0]\n",
    "\n",
    "print('Optimal focus from data = ', foptdata)\n",
    "print('Optimal focus from fit = ', foptfit)\n",
    "\n",
    "ax.axvline(x=foptdata,ls='--',color='g',label=r'$F_{opti}^{data} = $'+'{0:.2f}'.format(foptdata))\n",
    "ax.axvline(x=foptfit,ls='--',color='magenta',label=r'$F_{opti}^{fit} = $'+'{0:.2f}'.format(foptfit))\n",
    "\n",
    "ax.grid()\n",
    "ax.set_xlabel('Focus')\n",
    "ax.set_ylabel(r'$\\sigma$ [pixel]')\n",
    "ax.legend(loc=\"best\")\n"
   ]
  },
  {
   "cell_type": "code",
   "execution_count": null,
   "id": "1650bc02-c67f-4ab9-9afa-63ad51b7fdae",
   "metadata": {},
   "outputs": [],
   "source": []
  },
  {
   "cell_type": "code",
   "execution_count": null,
   "id": "2276fe41-c068-45e7-bb93-0f067ff5d727",
   "metadata": {},
   "outputs": [],
   "source": []
  },
  {
   "cell_type": "code",
   "execution_count": null,
   "id": "c16a0706-bc64-49ad-b847-f326cb0aaec2",
   "metadata": {
    "tags": []
   },
   "outputs": [],
   "source": [
    "fig = plt.figure(figsize=(10,8))\n",
    "ax1 = fig.add_subplot(111)\n",
    "ax2 = ax1.twinx()\n",
    "focus_list = []\n",
    "max_list = []\n",
    "sigma_list = []\n",
    "for expi in ids:\n",
    "    ax1.scatter(focus_dict[expi],max_dict[expi],marker='o',color='b')\n",
    "    ax2.scatter(focus_dict[expi],sigma_dict[expi],marker='s',color='orange')\n",
    "    focus_list.append(focus_dict[expi])\n",
    "    max_list.append(max_dict[expi])\n",
    "    sigma_list.append(sigma_dict[expi])\n",
    "focus_list = np.array(focus_list)\n",
    "max_list = np.array(max_list)\n",
    "sigma_list = np.array(sigma_list)\n",
    "\n",
    "pmax,covmax = curve_fit(quad,focus_list,max_list)\n",
    "psigma,covsigma = curve_fit(quad,focus_list,sigma_list)\n",
    "\n",
    "max_fit = quad(focus_list,pmax[0],pmax[1],pmax[2])\n",
    "sigma_fit = quad(focus_list,psigma[0],psigma[1],psigma[2])\n",
    "\n",
    "print(focus_list[np.where(sigma_fit==np.min(sigma_fit))[0]])\n",
    "\n",
    "ax1.plot(focus_list,max_fit,ls='-',color='b')\n",
    "ax2.plot(focus_list,sigma_fit,ls='-',color='orange')\n",
    "\n",
    "fmax = focus_list[np.where(max_list==np.max(max_list))[0]][0]\n",
    "fsigma = focus_list[np.where(sigma_list==np.min(sigma_list))[0]][0]\n",
    "\n",
    "print(fmax)\n",
    "print(fsigma)\n",
    "\n",
    "ax1.axvline(x=fmax,ls='--',color='b',alpha=0.7)\n",
    "ax2.axvline(x=fsigma,ls='--',color='orange',alpha=0.7)\n",
    "\n",
    "ax1.axvspan(fmax,fsigma,color='yellow',alpha=0.3)\n",
    "\n",
    "ax1.grid()\n",
    "ax1.set_xlabel('Focus')\n",
    "ax1.set_ylabel('Max')\n",
    "ax2.set_ylabel(r'$\\sigma$ [pixel]')\n"
   ]
  },
  {
   "cell_type": "code",
   "execution_count": null,
   "id": "06ed93ad-98e0-472b-8f8d-ff485a09243b",
   "metadata": {},
   "outputs": [],
   "source": []
  },
  {
   "cell_type": "code",
   "execution_count": null,
   "id": "fd938500-ce52-4753-9b92-2cda01963d63",
   "metadata": {},
   "outputs": [],
   "source": []
  },
  {
   "cell_type": "code",
   "execution_count": null,
   "id": "152fa130-dd3f-4591-956d-8809828ca97a",
   "metadata": {},
   "outputs": [],
   "source": []
  },
  {
   "cell_type": "code",
   "execution_count": null,
   "id": "a994021a-e42b-4521-bc87-810715ee2678",
   "metadata": {},
   "outputs": [],
   "source": []
  },
  {
   "cell_type": "code",
   "execution_count": null,
   "id": "93559de4-2924-4e91-bec1-c074888b7863",
   "metadata": {},
   "outputs": [],
   "source": []
  },
  {
   "cell_type": "code",
   "execution_count": null,
   "id": "c897f4ff-14f6-4b16-84f6-184b5cd8e45f",
   "metadata": {},
   "outputs": [],
   "source": []
  }
 ],
 "metadata": {
  "kernelspec": {
   "display_name": "LSST",
   "language": "python",
   "name": "lsst"
  },
  "language_info": {
   "codemirror_mode": {
    "name": "ipython",
    "version": 3
   },
   "file_extension": ".py",
   "mimetype": "text/x-python",
   "name": "python",
   "nbconvert_exporter": "python",
   "pygments_lexer": "ipython3",
   "version": "3.11.4"
  }
 },
 "nbformat": 4,
 "nbformat_minor": 5
}
