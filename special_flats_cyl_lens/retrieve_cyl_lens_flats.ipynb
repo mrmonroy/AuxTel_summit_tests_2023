{
 "cells": [
  {
   "cell_type": "code",
   "execution_count": 1,
   "id": "46d2e23b-69b6-4df7-8531-2d42b53426f7",
   "metadata": {
    "execution": {
     "iopub.execute_input": "2023-09-26T23:30:41.278852Z",
     "iopub.status.busy": "2023-09-26T23:30:41.278586Z",
     "iopub.status.idle": "2023-09-26T23:30:41.848337Z",
     "shell.execute_reply": "2023-09-26T23:30:41.847886Z",
     "shell.execute_reply.started": "2023-09-26T23:30:41.278838Z"
    },
    "tags": []
   },
   "outputs": [],
   "source": [
    "import os\n",
    "import matplotlib.pyplot as plt\n",
    "import matplotlib.colors as colors\n",
    "import matplotlib.cm as cmx\n",
    "import matplotlib.dates as mdates\n",
    "\n",
    "import numpy as np\n",
    "import pandas as pd\n",
    "%matplotlib inline\n",
    "from matplotlib.colors import LogNorm\n",
    "\n",
    "from mpl_toolkits.axes_grid1 import make_axes_locatable\n",
    "\n",
    "import matplotlib.ticker                         # here's where the formatter is\n",
    "from matplotlib.ticker import (MultipleLocator, FormatStrFormatter,\n",
    "                               AutoMinorLocator)\n",
    "\n",
    "from astropy.visualization import (MinMaxInterval, SqrtStretch,ZScaleInterval,PercentileInterval,\n",
    "                                   ImageNormalize,imshow_norm)\n",
    "from astropy.visualization.stretch import SinhStretch, LinearStretch,AsinhStretch,LogStretch\n",
    "\n",
    "\n",
    "from astropy.io import fits\n",
    "\n",
    "\n"
   ]
  },
  {
   "cell_type": "code",
   "execution_count": 2,
   "id": "a07dfdbe-5cf7-4444-9108-a17f9c6f730a",
   "metadata": {
    "execution": {
     "iopub.execute_input": "2023-09-26T23:30:41.849149Z",
     "iopub.status.busy": "2023-09-26T23:30:41.848908Z",
     "iopub.status.idle": "2023-09-26T23:30:45.338683Z",
     "shell.execute_reply": "2023-09-26T23:30:45.338231Z",
     "shell.execute_reply.started": "2023-09-26T23:30:41.849135Z"
    },
    "tags": []
   },
   "outputs": [],
   "source": [
    "# Assembly task\n",
    "# https://github.com/lsst/ip_isr/blob/main/python/lsst/ip/isr/isrTask.py\n",
    "\n",
    "from lsst.ip.isr.assembleCcdTask import (AssembleCcdConfig, AssembleCcdTask)\n",
    "from lsst.ip.isr.isrTask import (IsrTask, IsrTaskConfig)\n",
    "\n",
    "#https://github.com/lsst/ip_isr/blob/main/python/lsst/ip/isr/overscan.py\n",
    "from lsst.ip.isr import  OverscanCorrectionTaskConfig, OverscanCorrectionTask"
   ]
  },
  {
   "cell_type": "code",
   "execution_count": 3,
   "id": "5a0e62bc-b58a-4b6b-aeeb-913d405e0553",
   "metadata": {
    "execution": {
     "iopub.execute_input": "2023-09-26T23:30:45.339423Z",
     "iopub.status.busy": "2023-09-26T23:30:45.339280Z",
     "iopub.status.idle": "2023-09-26T23:30:45.349428Z",
     "shell.execute_reply": "2023-09-26T23:30:45.349066Z",
     "shell.execute_reply.started": "2023-09-26T23:30:45.339409Z"
    },
    "tags": []
   },
   "outputs": [],
   "source": [
    "# LSST Display\n",
    "import lsst.afw.display as afwDisplay\n",
    "afwDisplay.setDefaultBackend('matplotlib')"
   ]
  },
  {
   "cell_type": "code",
   "execution_count": 4,
   "id": "0f6d44dd-9726-4f30-a485-b7e650450a4d",
   "metadata": {
    "execution": {
     "iopub.execute_input": "2023-09-26T23:30:45.350038Z",
     "iopub.status.busy": "2023-09-26T23:30:45.349915Z",
     "iopub.status.idle": "2023-09-26T23:30:45.351920Z",
     "shell.execute_reply": "2023-09-26T23:30:45.351582Z",
     "shell.execute_reply.started": "2023-09-26T23:30:45.350026Z"
    },
    "tags": []
   },
   "outputs": [],
   "source": [
    "import warnings\n",
    "warnings.filterwarnings(\"ignore\")"
   ]
  },
  {
   "cell_type": "code",
   "execution_count": 5,
   "id": "2bec3b04-2ce2-49ca-beea-1ee919d3c827",
   "metadata": {
    "execution": {
     "iopub.execute_input": "2023-09-26T23:30:45.352549Z",
     "iopub.status.busy": "2023-09-26T23:30:45.352425Z",
     "iopub.status.idle": "2023-09-26T23:30:45.715517Z",
     "shell.execute_reply": "2023-09-26T23:30:45.714922Z",
     "shell.execute_reply.started": "2023-09-26T23:30:45.352538Z"
    },
    "tags": []
   },
   "outputs": [
    {
     "name": "stdout",
     "output_type": "stream",
     "text": [
      "afw                   g4728e35f0d+53a8438ab4 \tcurrent w_2023_38 setup\n",
      "alert_packet          g6041bd2d66 \tcurrent w_2023_38 setup\n",
      "analysis_drp          g8a53795882+8240499edc \tcurrent w_2023_38 setup\n",
      "analysis_tools        g1887775915+c89e410209 \tcurrent w_2023_38 setup\n",
      "ap_association        g6a6fcd37b7+f81e0a4cd9 \tcurrent w_2023_38 setup\n",
      "ap_pipe               g06c608b3b8+0cce5f0898 \tcurrent w_2023_38 setup\n",
      "ap_verify             gf37a9491f6+9462b9949d \tcurrent w_2023_38 setup\n",
      "astro_metadata_translator g0978aabd1f+0ce179faa8 \tcurrent w_2023_38 setup\n",
      "astshim               g3273194fdb+f6908454ef \tcurrent w_2023_38 setup\n",
      "atmospec              LOCAL:/home/m/monroy/repos/repos_w_2023_35/atmospec \tsetup\n",
      "base                  g98ffbb4407+81bc2a20b4 \tcurrent w_2023_38 setup\n",
      "cbp                   ga32fcf49c8+387721ca5c \tcurrent w_2023_38 setup\n",
      "cell_coadds           g9faf7ed3f3+8240499edc \tcurrent w_2023_38 setup\n",
      "coadd_utils           g337abbeb29+387721ca5c \tcurrent w_2023_38 setup\n",
      "cp_pipe               g857a3418e4+8240499edc \tcurrent w_2023_38 setup\n",
      "cp_verify             ge14ceffff4+c89e410209 \tcurrent w_2023_38 setup\n",
      "cpputils              g9ddcbc5298+7f7571301f \tcurrent w_2023_38 setup\n",
      "ctrl_bps              gd68f275ad0+68f1e7167d \tcurrent w_2023_38 setup\n",
      "ctrl_bps_htcondor     g228b919396+b6d38c5673 \tcurrent w_2023_38 setup\n",
      "ctrl_bps_panda        gcb68d0d888+b6d38c5673 \tcurrent w_2023_38 setup\n",
      "ctrl_bps_parsl        gff3a74ef83+b6d38c5673 \tcurrent w_2023_38 setup\n",
      "ctrl_execute          g3288a415c1+afd66f60df \tcurrent w_2023_38 setup\n",
      "ctrl_mpexec           g76ae3ab134+f0199d472f \tcurrent w_2023_38 setup\n",
      "ctrl_platform_s3df    g3be6bbf6ee+e440cd2446 \tcurrent w_2023_38 setup\n",
      "daf_base              gf041782ebf+595decdb33 \tcurrent w_2023_38 setup\n",
      "daf_butler            ga1d28be6d8+a9e5a04819 \tcurrent w_2023_38 setup\n",
      "daf_relation          g8a20fa5453+e1da24fbab \tcurrent w_2023_38 setup\n",
      "dax_apdb              g4122c88930+e703383bc9 \tcurrent w_2023_38 setup\n",
      "display_astrowidgets  g2bbee38e9b+387721ca5c \tcurrent w_2023_38 setup\n",
      "display_ds9           gdb4ec4c597+387721ca5c \tcurrent w_2023_38 setup\n",
      "display_firefly       gae46bcf261+387721ca5c \tcurrent w_2023_38 setup\n",
      "display_matplotlib    g0265f82a02+387721ca5c \tcurrent w_2023_38 setup\n",
      "drp_pipe              g158ecb4a2c+cdb7bc0145 \tcurrent w_2023_38 setup\n",
      "drp_tasks             g4394590183+d70b765870 \tcurrent w_2023_38 setup\n",
      "dustmaps_cachedata    gbb0a0c949e+81bc2a20b4 \tcurrent w_2023_38 setup\n",
      "eups                  LOCAL:/opt/lsst/software/stack/conda/miniconda3-py38_4.9.2/envs/lsst-scipipe-7.0.1/eups \tsetup\n",
      "faro                  ge8614a52ae+9e4cfc99e6 \tcurrent w_2023_38 setup\n",
      "felis                 g5a39ba60c6+81bc2a20b4 \tcurrent w_2023_38 setup\n",
      "fgcm                  gb770f3580f \tcurrent w_2023_38 setup\n",
      "fgcmcal               g2ab4ef6978+02160c0701 \tcurrent w_2023_38 setup\n",
      "gbdes                 gaa71a13f5d \tcurrent w_2023_38 setup\n",
      "geom                  ga1e77700b3+32ccf48d86 \tcurrent w_2023_38 setup\n",
      "ip_diffim             gaca53a8f8a+724d9bbba1 \tcurrent w_2023_38 setup\n",
      "ip_isr                ga7ab7f6f60+b95567d9ac \tcurrent w_2023_38 setup\n",
      "jointcal              g4500d70958+4e53ded112 \tcurrent w_2023_38 setup\n",
      "jointcal_cholmod      g81a980c3dd+81bc2a20b4 \tcurrent w_2023_38 setup\n",
      "kht                   gafcb7142de \tcurrent w_2023_38 setup\n",
      "log                   g1e7d6db67d+e1da24fbab \tcurrent w_2023_38 setup\n",
      "lsst_apps             ga3d9597cd8+72db3a2ec6 \tcurrent w_2023_38 setup\n",
      "lsst_bps_plugins      g3a590c521e+77acadd2fb \tcurrent w_2023_38 setup\n",
      "lsst_distrib          g4213664e8e+c98c9b3abc \tcurrent w_2023_38 setup\n",
      "lsst_obs              gea673b7ed9+801782aa8d \tcurrent w_2023_38 setup\n",
      "lsst_sitcom           g1a510c377c+fd59ebdbf2 \tcurrent w_2023_38 setup\n",
      "meas_algorithms       g7dc46dff8f+10617abd6a \tcurrent w_2023_38 setup\n",
      "meas_astrom           gf36cf20d7f+b95567d9ac \tcurrent w_2023_38 setup\n",
      "meas_base             g159b3db504+62ba8334a5 \tcurrent w_2023_38 setup\n",
      "meas_deblender        g2cc88a2952+f5c8c6f8ca \tcurrent w_2023_38 setup\n",
      "meas_extensions_convolved g42fff21dfb+82f91126f9 \tcurrent w_2023_38 setup\n",
      "meas_extensions_gaap  g8dd6597355+c1102ea6c9 \tcurrent w_2023_38 setup\n",
      "meas_extensions_photometryKron gb2715bf1a1+b95567d9ac \tcurrent w_2023_38 setup\n",
      "meas_extensions_piff  gc86a011abf+b95567d9ac \tcurrent w_2023_38 setup\n",
      "meas_extensions_psfex gbeb006f7da+d34dbce381 \tcurrent w_2023_38 setup\n",
      "meas_extensions_scarlet g943cb464a2+1a54898cb6 \tcurrent w_2023_38 setup\n",
      "meas_extensions_shapeHSM g571dde35ae+b95567d9ac \tcurrent w_2023_38 setup\n",
      "meas_extensions_simpleShape gcf0d15dbbd+10617abd6a \tcurrent w_2023_38 setup\n",
      "meas_extensions_trailedSources g47da3c6c86+10617abd6a \tcurrent w_2023_38 setup\n",
      "meas_modelfit         gd162630629+18a84df902 \tcurrent w_2023_38 setup\n",
      "meas_transiNet        gdb5f421a5e+10617abd6a \tcurrent w_2023_38 setup\n",
      "obs_base              gcc620a9fd9+6540d52e01 \tcurrent w_2023_38 setup\n",
      "obs_cfht              g98ea1558ea+60f5ee8110 \tcurrent w_2023_38 setup\n",
      "obs_decam             gcd84e84c5d+888539f08a \tcurrent w_2023_38 setup\n",
      "obs_decam_data        g9eeeb5e174 \tcurrent w_2023_38 setup\n",
      "obs_lsst              g235df5f2a7+d4e81da0d0 \tcurrent w_2023_38 setup\n",
      "obs_lsst_data         g5736ae6652 \tcurrent w_2023_38 setup\n",
      "obs_subaru            g65833fab06+7c7f30b34a \tcurrent w_2023_38 setup\n",
      "obs_subaru_data       g7ff78db354 \tcurrent w_2023_38 setup\n",
      "pex_config            g22560d942e+0ce179faa8 \tcurrent w_2023_38 setup\n",
      "pex_exceptions        gdaeeff99f8+0d8dbea60f \tcurrent w_2023_38 setup\n",
      "pipe_base             g655761b648+94da4844e8 \tcurrent w_2023_38 setup\n",
      "pipe_tasks            ge37a0ae47b+91d6b12347 \tcurrent w_2023_38 setup\n",
      "proxmin               g33b4157f25 \tcurrent w_2023_38 setup\n",
      "psfex                 gc054bea089+81bc2a20b4 \tcurrent w_2023_38 setup\n",
      "resources             g24611a4c00+e1da24fbab \tcurrent w_2023_38 setup\n",
      "scarlet               g63ff1f842d+4083830bf8 \tcurrent w_2023_38 setup\n",
      "scarlet_extensions    g9d18589735+d445b4966c \tcurrent w_2023_38 setup\n",
      "sconsUtils            g80c3e6a29f \tcurrent w_2023_38 setup\n",
      "sdm_schemas           g679c361543 \tcurrent w_2023_38 setup\n",
      "shapelet              g44018dc512+387721ca5c \tcurrent w_2023_38 setup\n",
      "skymap                g93973518b8+01a0ac5232 \tcurrent w_2023_38 setup\n",
      "spectractor           LOCAL:/home/m/monroy/repos/repos_w_2023_35/Spectractor \tsetup\n",
      "sphgeom               g6ae5381d9b+81bc2a20b4 \tcurrent w_2023_38 setup\n",
      "summit_extras         g57c6b4248f+0272ca907b \tcurrent w_2023_38 setup\n",
      "summit_utils          g10219f4517+48c4bfbd37 \tcurrent w_2023_38 setup\n",
      "utils                 g3bf5ff22bb+81bc2a20b4 \tcurrent w_2023_38 setup\n",
      "verify                gffb8816710+98e3160d54 \tcurrent w_2023_38 setup\n",
      "verify_metrics        g3c17f34f15+81bc2a20b4 \tcurrent w_2023_38 setup\n"
     ]
    }
   ],
   "source": [
    "! eups list -s"
   ]
  },
  {
   "cell_type": "markdown",
   "id": "c11b22c5-5c8f-48bf-b3f2-8ccd0936ff18",
   "metadata": {},
   "source": [
    "# Butler "
   ]
  },
  {
   "cell_type": "code",
   "execution_count": 6,
   "id": "7ac79a8d-4788-42e6-b2ab-073e028f7972",
   "metadata": {
    "execution": {
     "iopub.execute_input": "2023-09-26T23:30:45.717338Z",
     "iopub.status.busy": "2023-09-26T23:30:45.717175Z",
     "iopub.status.idle": "2023-09-26T23:30:45.719882Z",
     "shell.execute_reply": "2023-09-26T23:30:45.719516Z",
     "shell.execute_reply.started": "2023-09-26T23:30:45.717322Z"
    },
    "tags": []
   },
   "outputs": [],
   "source": [
    "import lsst.daf.butler as dafButler"
   ]
  },
  {
   "cell_type": "code",
   "execution_count": 7,
   "id": "6dd75494-8cf9-4e49-94ad-1566f2055e74",
   "metadata": {
    "execution": {
     "iopub.execute_input": "2023-09-26T23:30:45.720482Z",
     "iopub.status.busy": "2023-09-26T23:30:45.720348Z",
     "iopub.status.idle": "2023-09-26T23:30:45.724002Z",
     "shell.execute_reply": "2023-09-26T23:30:45.723628Z",
     "shell.execute_reply.started": "2023-09-26T23:30:45.720471Z"
    },
    "tags": []
   },
   "outputs": [],
   "source": [
    "embargo = True"
   ]
  },
  {
   "cell_type": "code",
   "execution_count": 8,
   "id": "89edd02f-b48c-4270-a088-4738af6d2b6f",
   "metadata": {
    "execution": {
     "iopub.execute_input": "2023-09-26T23:30:45.724593Z",
     "iopub.status.busy": "2023-09-26T23:30:45.724468Z",
     "iopub.status.idle": "2023-09-26T23:30:48.030924Z",
     "shell.execute_reply": "2023-09-26T23:30:48.030474Z",
     "shell.execute_reply.started": "2023-09-26T23:30:45.724581Z"
    },
    "tags": []
   },
   "outputs": [],
   "source": [
    "if embargo:\n",
    "    repo=\"/sdf/group/rubin/repo/oga/\"\n",
    "else:\n",
    "    repo = \"/sdf/group/rubin/repo/main\"\n",
    "butler = dafButler.Butler(repo)\n",
    "registry = butler.registry"
   ]
  },
  {
   "cell_type": "code",
   "execution_count": 9,
   "id": "3d5f7d22-e620-49ae-ad0d-5043dadae5d0",
   "metadata": {
    "execution": {
     "iopub.execute_input": "2023-09-26T23:30:48.255170Z",
     "iopub.status.busy": "2023-09-26T23:30:48.254742Z",
     "iopub.status.idle": "2023-09-26T23:30:48.262653Z",
     "shell.execute_reply": "2023-09-26T23:30:48.262273Z",
     "shell.execute_reply.started": "2023-09-26T23:30:48.255155Z"
    },
    "tags": []
   },
   "outputs": [],
   "source": [
    "cameraName = 'LATISS'\n",
    "calibCollections = ['LATISS/defaults','LATISS/raw/all']\n",
    "for col in registry.queryCollections(\"*LATISS/calib*\"):\n",
    "    #print(col)\n",
    "    calibCollections.append(col)"
   ]
  },
  {
   "cell_type": "code",
   "execution_count": null,
   "id": "5aa43adb-fe4a-44c2-af0a-bc9cc838933b",
   "metadata": {},
   "outputs": [],
   "source": []
  },
  {
   "cell_type": "code",
   "execution_count": null,
   "id": "26c640ce-8e97-49c0-9719-4f7602729040",
   "metadata": {},
   "outputs": [],
   "source": []
  },
  {
   "cell_type": "markdown",
   "id": "2108a309-1a4b-4b1c-adad-298f3fcb8ec7",
   "metadata": {},
   "source": [
    "We check the different dimension records existing for *physical_filter*: "
   ]
  },
  {
   "cell_type": "code",
   "execution_count": 10,
   "id": "02acc2ae-6f68-46e6-b6bc-029da5c80487",
   "metadata": {
    "execution": {
     "iopub.execute_input": "2023-09-26T23:31:39.401302Z",
     "iopub.status.busy": "2023-09-26T23:31:39.400771Z",
     "iopub.status.idle": "2023-09-26T23:31:39.645743Z",
     "shell.execute_reply": "2023-09-26T23:31:39.645286Z",
     "shell.execute_reply.started": "2023-09-26T23:31:39.401288Z"
    },
    "tags": []
   },
   "outputs": [],
   "source": [
    "phys_filters = list(registry.queryDimensionRecords('physical_filter',where=\"instrument='LATISS'\"))"
   ]
  },
  {
   "cell_type": "markdown",
   "id": "9a6fc904-2698-40aa-bec9-1465b65066cc",
   "metadata": {},
   "source": [
    "Print physical_filters with hologram in place: "
   ]
  },
  {
   "cell_type": "code",
   "execution_count": 11,
   "id": "51a841ad-47bf-4490-8805-68832402b003",
   "metadata": {
    "execution": {
     "iopub.execute_input": "2023-09-26T23:31:40.651394Z",
     "iopub.status.busy": "2023-09-26T23:31:40.650873Z",
     "iopub.status.idle": "2023-09-26T23:31:40.654336Z",
     "shell.execute_reply": "2023-09-26T23:31:40.653929Z",
     "shell.execute_reply.started": "2023-09-26T23:31:40.651365Z"
    },
    "tags": []
   },
   "outputs": [
    {
     "name": "stdout",
     "output_type": "stream",
     "text": [
      "empty~holo4_003\n",
      "blank_bk7_wg05~holo4_003\n",
      "KPNO_1111_436nm~holo4_003\n",
      "KPNO_373A_677nm~holo4_003\n",
      "KPNO_406_828nm~holo4_003\n",
      "unknown~holo4_003\n",
      "BG40~holo4_003\n",
      "quadnotch1~holo4_003\n",
      "RG610~holo4_003\n",
      "FELH0600~holo4_003\n",
      "SDSSg~holo4_003\n",
      "SDSSr~holo4_003\n",
      "SDSSi~holo4_003\n",
      "BG40_65mm_1~holo4_003\n",
      "BG40_65mm_2~holo4_003\n",
      "OG550_65mm_1~holo4_003\n",
      "OG550_65mm_2~holo4_003\n",
      "SDSSg_65mm~holo4_003\n",
      "SDSSr_65mm~holo4_003\n",
      "SDSSi_65mm~holo4_003\n",
      "SDSSu_65mm~holo4_003\n",
      "SDSSz_65mm~holo4_003\n",
      "SDSSy_65mm~holo4_003\n",
      "empty~holo4_001\n",
      "blank_bk7_wg05~holo4_001\n",
      "KPNO_1111_436nm~holo4_001\n",
      "KPNO_373A_677nm~holo4_001\n",
      "KPNO_406_828nm~holo4_001\n",
      "unknown~holo4_001\n",
      "BG40~holo4_001\n",
      "BG40_65mm_1~holo4_001\n",
      "BG40_65mm_2~holo4_001\n",
      "quadnotch1~holo4_001\n",
      "RG610~holo4_001\n",
      "OG550_65mm_1~holo4_001\n",
      "OG550_65mm_2~holo4_001\n",
      "FELH0600~holo4_001\n",
      "SDSSg~holo4_001\n",
      "SDSSr~holo4_001\n",
      "SDSSi~holo4_001\n",
      "SDSSu_65mm~holo4_001\n",
      "SDSSg_65mm~holo4_001\n",
      "SDSSr_65mm~holo4_001\n",
      "SDSSi_65mm~holo4_001\n",
      "SDSSz_65mm~holo4_001\n",
      "SDSSy_65mm~holo4_001\n",
      "collimator~holo4_003\n",
      "collimator~holo4_001\n",
      "cyl_lens~holo4_003\n",
      "cyl_lens~holo4_001\n"
     ]
    }
   ],
   "source": [
    "for f_ in phys_filters:\n",
    "    if 'holo' in f_.name:\n",
    "        print(f_.name)"
   ]
  },
  {
   "cell_type": "code",
   "execution_count": null,
   "id": "f64f933d-c584-4f49-88fa-4ed2d666e6e6",
   "metadata": {},
   "outputs": [],
   "source": []
  },
  {
   "cell_type": "code",
   "execution_count": null,
   "id": "304dab99-82ef-4119-a149-5f8fff0abc13",
   "metadata": {},
   "outputs": [],
   "source": []
  },
  {
   "cell_type": "markdown",
   "id": "1c7ad245-c408-4bb9-810e-8d5381d2c7e3",
   "metadata": {},
   "source": [
    "# Selection of exposures with cylindrical lens "
   ]
  },
  {
   "cell_type": "code",
   "execution_count": 12,
   "id": "09ee06e1-b766-4afc-bfba-2993cc1324ad",
   "metadata": {
    "execution": {
     "iopub.execute_input": "2023-09-26T23:31:55.193240Z",
     "iopub.status.busy": "2023-09-26T23:31:55.192603Z",
     "iopub.status.idle": "2023-09-26T23:31:55.195800Z",
     "shell.execute_reply": "2023-09-26T23:31:55.195310Z",
     "shell.execute_reply.started": "2023-09-26T23:31:55.193222Z"
    },
    "tags": []
   },
   "outputs": [],
   "source": [
    "obs_type = 'science'\n",
    "physical_filter = 'cyl_lens~holo4_003' #Note that there are no exposure with this config for the moment "
   ]
  },
  {
   "cell_type": "code",
   "execution_count": 13,
   "id": "14fb6b1c-f2b4-4d96-a37e-0ed54980ec61",
   "metadata": {
    "execution": {
     "iopub.execute_input": "2023-09-26T23:32:18.856224Z",
     "iopub.status.busy": "2023-09-26T23:32:18.855658Z",
     "iopub.status.idle": "2023-09-26T23:32:18.860068Z",
     "shell.execute_reply": "2023-09-26T23:32:18.859699Z",
     "shell.execute_reply.started": "2023-09-26T23:32:18.856208Z"
    },
    "tags": []
   },
   "outputs": [],
   "source": [
    "df_science = pd.DataFrame(columns=['id', 'obs_id','day_obs', 'seq_num','time_start',\n",
    "                                    'time_end' ,'type', 'target','filter_disp','zenith_angle',\n",
    "                                    'exp_time','ra','dec','skyangle','science_program'])"
   ]
  },
  {
   "cell_type": "code",
   "execution_count": 14,
   "id": "8cf3d1b3-224e-44c9-bf1c-176d803ae7ac",
   "metadata": {
    "execution": {
     "iopub.execute_input": "2023-09-26T23:32:37.231007Z",
     "iopub.status.busy": "2023-09-26T23:32:37.230713Z",
     "iopub.status.idle": "2023-09-26T23:32:37.332110Z",
     "shell.execute_reply": "2023-09-26T23:32:37.331644Z",
     "shell.execute_reply.started": "2023-09-26T23:32:37.230992Z"
    },
    "tags": []
   },
   "outputs": [
    {
     "name": "stdout",
     "output_type": "stream",
     "text": [
      "0\n",
      "exposure:\n",
      "  instrument: 'LATISS'\n",
      "  id: 2023091200125\n",
      "  physical_filter: 'cyl_lens~holo4_003'\n",
      "  obs_id: 'AT_O_20230912_000125'\n",
      "  exposure_time: 90.0\n",
      "  dark_time: 90.2414\n",
      "  observation_type: 'science'\n",
      "  observation_reason: 'cyl_lens'\n",
      "  day_obs: 20230912\n",
      "  seq_num: 125\n",
      "  seq_start: 125\n",
      "  seq_end: 125\n",
      "  group_name: '2023-09-12T23:45:36.165'\n",
      "  group_id: 2744919361650000\n",
      "  target_name: 'gam Gru'\n",
      "  science_program: 'SITCOM-1009'\n",
      "  tracking_ra: 328.47710063386694\n",
      "  tracking_dec: -37.366563075205136\n",
      "  sky_angle: 353.88281242076397\n",
      "  azimuth: 113.56899044390968\n",
      "  zenith_angle: 42.05053957893198\n",
      "  has_simulated: False\n",
      "  timespan: Timespan(begin=astropy.time.Time('2023-09-12 23:50:10.329008', scale='tai', format='iso'), end=astropy.time.Time('2023-09-12 23:51:40.570000', scale='tai', format='iso'))\n",
      "\t timespan:             [2023-09-12T23:50:10.329008, 2023-09-12T23:51:40.570000)\n",
      "\t timespan.begin:       2023-09-12 23:50:10.329008\n",
      "\t id:                   2023091200125\n",
      "\t day_obs:              20230912\n",
      "\t seq_num:              125\n",
      "\t type-of-observation:  science\n",
      "\t target:               gam Gru\n",
      "-----------------------------------------------------\n",
      "1\n",
      "exposure:\n",
      "  instrument: 'LATISS'\n",
      "  id: 2023091200123\n",
      "  physical_filter: 'cyl_lens~holo4_003'\n",
      "  obs_id: 'AT_O_20230912_000123'\n",
      "  exposure_time: 30.0\n",
      "  dark_time: 30.2362\n",
      "  observation_type: 'science'\n",
      "  observation_reason: 'cyl_lens'\n",
      "  day_obs: 20230912\n",
      "  seq_num: 123\n",
      "  seq_start: 123\n",
      "  seq_end: 123\n",
      "  group_name: '2023-09-12T23:45:36.165'\n",
      "  group_id: 2744919361650000\n",
      "  target_name: 'gam Gru'\n",
      "  science_program: 'SITCOM-1009'\n",
      "  tracking_ra: 328.4772171861976\n",
      "  tracking_dec: -37.367169522747226\n",
      "  sky_angle: 353.883399221978\n",
      "  azimuth: 113.62951114336596\n",
      "  zenith_angle: 42.43409235170854\n",
      "  has_simulated: False\n",
      "  timespan: Timespan(begin=astropy.time.Time('2023-09-12 23:48:14.137001', scale='tai', format='iso'), end=astropy.time.Time('2023-09-12 23:48:44.373000', scale='tai', format='iso'))\n",
      "\t timespan:             [2023-09-12T23:48:14.137001, 2023-09-12T23:48:44.373000)\n",
      "\t timespan.begin:       2023-09-12 23:48:14.137001\n",
      "\t id:                   2023091200123\n",
      "\t day_obs:              20230912\n",
      "\t seq_num:              123\n",
      "\t type-of-observation:  science\n",
      "\t target:               gam Gru\n",
      "-----------------------------------------------------\n"
     ]
    }
   ],
   "source": [
    "\n",
    "where_exps = \"instrument='LATISS' AND exposure.observation_type='{0}' AND physical_filter='{1}'\".format(obs_type,physical_filter)\n",
    "#where_exps = \"instrument='LATISS' AND exposure.observation_type='{0}' AND exposure.day_obs={1}\".format(obs_type,obs_day)\n",
    "for i, info in enumerate(registry.queryDimensionRecords('exposure',where=where_exps)):\n",
    "    \n",
    "    #if info.observation_type=='science':\n",
    "    id_ = info.id\n",
    "    obs_id_ = info.obs_id\n",
    "    day_obs_ = info.day_obs\n",
    "    seq_num_ = info.seq_num\n",
    "    timespan_ = info.timespan\n",
    "    timespan_begin_ = pd.to_datetime(timespan_.begin.to_string())\n",
    "    timespan_end_ = pd.to_datetime(timespan_.end.to_string())\n",
    "    timespan_begin_jd_ = timespan_.begin.jd\n",
    "    timespan_begin_mjd_ = timespan_.begin.mjd\n",
    "\n",
    "    observation_type_ = info.observation_type\n",
    "    target_name_ = info.target_name\n",
    "    physical_filter_ = info.physical_filter\n",
    "    zenith_angle_ = info.zenith_angle\n",
    "    exposure_time_ = info.exposure_time\n",
    "    tracking_ra_ = info.tracking_ra\n",
    "    tracking_dec_ = info.tracking_dec\n",
    "    sky_angle_ = info.sky_angle\n",
    "    science_program_ = info.science_program\n",
    "\n",
    "    df_science.loc[i] = [id_, obs_id_, day_obs_, seq_num_,timespan_begin_,timespan_end_ ,observation_type_, \\\n",
    "                         target_name_, physical_filter_, zenith_angle_, exposure_time_,tracking_ra_, \\\n",
    "                         tracking_dec_, sky_angle_, science_program_]\n",
    "\n",
    "    if i < 2:\n",
    "        print(i)\n",
    "        print(info)\n",
    "        print(\"\\t timespan:            \",info.timespan)\n",
    "        print(\"\\t timespan.begin:      \",info.timespan.begin)\n",
    "        print(\"\\t id:                  \",info.id)\n",
    "        print(\"\\t day_obs:             \",info.day_obs)\n",
    "        print(\"\\t seq_num:             \",info.seq_num)\n",
    "        print(\"\\t type-of-observation: \",info.observation_type)\n",
    "        print(\"\\t target:              \",info.target_name)\n",
    "        print(\"-----------------------------------------------------\")\n",
    "    "
   ]
  },
  {
   "cell_type": "code",
   "execution_count": 15,
   "id": "856dad89-b481-41a5-8f55-1b76c98bd143",
   "metadata": {
    "execution": {
     "iopub.execute_input": "2023-09-26T23:32:42.303342Z",
     "iopub.status.busy": "2023-09-26T23:32:42.303095Z",
     "iopub.status.idle": "2023-09-26T23:32:42.306033Z",
     "shell.execute_reply": "2023-09-26T23:32:42.305627Z",
     "shell.execute_reply.started": "2023-09-26T23:32:42.303327Z"
    },
    "tags": []
   },
   "outputs": [
    {
     "name": "stdout",
     "output_type": "stream",
     "text": [
      "Number of entries =  26\n"
     ]
    }
   ],
   "source": [
    "print('Number of entries = ',len(df_science))"
   ]
  },
  {
   "cell_type": "code",
   "execution_count": 17,
   "id": "eeeb7e32-996b-433b-87cd-370eb6e91670",
   "metadata": {
    "execution": {
     "iopub.execute_input": "2023-09-26T23:32:53.801741Z",
     "iopub.status.busy": "2023-09-26T23:32:53.801343Z",
     "iopub.status.idle": "2023-09-26T23:32:53.810399Z",
     "shell.execute_reply": "2023-09-26T23:32:53.810068Z",
     "shell.execute_reply.started": "2023-09-26T23:32:53.801727Z"
    },
    "tags": []
   },
   "outputs": [
    {
     "data": {
      "text/html": [
       "<div>\n",
       "<style scoped>\n",
       "    .dataframe tbody tr th:only-of-type {\n",
       "        vertical-align: middle;\n",
       "    }\n",
       "\n",
       "    .dataframe tbody tr th {\n",
       "        vertical-align: top;\n",
       "    }\n",
       "\n",
       "    .dataframe thead th {\n",
       "        text-align: right;\n",
       "    }\n",
       "</style>\n",
       "<table border=\"1\" class=\"dataframe\">\n",
       "  <thead>\n",
       "    <tr style=\"text-align: right;\">\n",
       "      <th></th>\n",
       "      <th>id</th>\n",
       "      <th>obs_id</th>\n",
       "      <th>day_obs</th>\n",
       "      <th>seq_num</th>\n",
       "      <th>time_start</th>\n",
       "      <th>time_end</th>\n",
       "      <th>type</th>\n",
       "      <th>target</th>\n",
       "      <th>filter_disp</th>\n",
       "      <th>zenith_angle</th>\n",
       "      <th>exp_time</th>\n",
       "      <th>ra</th>\n",
       "      <th>dec</th>\n",
       "      <th>skyangle</th>\n",
       "      <th>science_program</th>\n",
       "    </tr>\n",
       "  </thead>\n",
       "  <tbody>\n",
       "    <tr>\n",
       "      <th>21</th>\n",
       "      <td>2023091400034</td>\n",
       "      <td>AT_O_20230914_000034</td>\n",
       "      <td>20230914</td>\n",
       "      <td>34</td>\n",
       "      <td>2023-09-15 01:22:06.448998</td>\n",
       "      <td>2023-09-15 01:27:06.698</td>\n",
       "      <td>science</td>\n",
       "      <td>zet Sgr</td>\n",
       "      <td>cyl_lens~holo4_003</td>\n",
       "      <td>14.997183</td>\n",
       "      <td>300.0</td>\n",
       "      <td>285.655414</td>\n",
       "      <td>-29.882545</td>\n",
       "      <td>185.324316</td>\n",
       "      <td>SITCOM-1009</td>\n",
       "    </tr>\n",
       "    <tr>\n",
       "      <th>22</th>\n",
       "      <td>2023091400037</td>\n",
       "      <td>AT_O_20230914_000037</td>\n",
       "      <td>20230914</td>\n",
       "      <td>37</td>\n",
       "      <td>2023-09-15 01:33:13.301989</td>\n",
       "      <td>2023-09-15 01:37:13.532</td>\n",
       "      <td>science</td>\n",
       "      <td>zet Sgr</td>\n",
       "      <td>cyl_lens~holo4_003</td>\n",
       "      <td>17.400084</td>\n",
       "      <td>240.0</td>\n",
       "      <td>285.655332</td>\n",
       "      <td>-29.882516</td>\n",
       "      <td>185.324436</td>\n",
       "      <td>SITCOM-1009</td>\n",
       "    </tr>\n",
       "    <tr>\n",
       "      <th>23</th>\n",
       "      <td>2023091400032</td>\n",
       "      <td>AT_O_20230914_000032</td>\n",
       "      <td>20230914</td>\n",
       "      <td>32</td>\n",
       "      <td>2023-09-15 01:14:38.005001</td>\n",
       "      <td>2023-09-15 01:17:38.245</td>\n",
       "      <td>science</td>\n",
       "      <td>zet Sgr</td>\n",
       "      <td>cyl_lens~holo4_003</td>\n",
       "      <td>13.382216</td>\n",
       "      <td>180.0</td>\n",
       "      <td>285.655311</td>\n",
       "      <td>-29.882547</td>\n",
       "      <td>185.324446</td>\n",
       "      <td>SITCOM-1009</td>\n",
       "    </tr>\n",
       "    <tr>\n",
       "      <th>24</th>\n",
       "      <td>2023091400035</td>\n",
       "      <td>AT_O_20230914_000035</td>\n",
       "      <td>20230914</td>\n",
       "      <td>35</td>\n",
       "      <td>2023-09-15 01:27:47.135020</td>\n",
       "      <td>2023-09-15 01:29:47.362</td>\n",
       "      <td>science</td>\n",
       "      <td>zet Sgr</td>\n",
       "      <td>cyl_lens~holo4_003</td>\n",
       "      <td>16.226019</td>\n",
       "      <td>120.0</td>\n",
       "      <td>285.655276</td>\n",
       "      <td>-29.882529</td>\n",
       "      <td>185.324442</td>\n",
       "      <td>SITCOM-1009</td>\n",
       "    </tr>\n",
       "    <tr>\n",
       "      <th>25</th>\n",
       "      <td>2023091400038</td>\n",
       "      <td>AT_O_20230914_000038</td>\n",
       "      <td>20230914</td>\n",
       "      <td>38</td>\n",
       "      <td>2023-09-15 01:37:26.388003</td>\n",
       "      <td>2023-09-15 01:42:26.636</td>\n",
       "      <td>science</td>\n",
       "      <td>zet Sgr</td>\n",
       "      <td>cyl_lens~holo4_003</td>\n",
       "      <td>18.310889</td>\n",
       "      <td>300.0</td>\n",
       "      <td>285.655313</td>\n",
       "      <td>-29.882513</td>\n",
       "      <td>185.324531</td>\n",
       "      <td>SITCOM-1009</td>\n",
       "    </tr>\n",
       "  </tbody>\n",
       "</table>\n",
       "</div>"
      ],
      "text/plain": [
       "               id                obs_id   day_obs  seq_num  \\\n",
       "21  2023091400034  AT_O_20230914_000034  20230914       34   \n",
       "22  2023091400037  AT_O_20230914_000037  20230914       37   \n",
       "23  2023091400032  AT_O_20230914_000032  20230914       32   \n",
       "24  2023091400035  AT_O_20230914_000035  20230914       35   \n",
       "25  2023091400038  AT_O_20230914_000038  20230914       38   \n",
       "\n",
       "                   time_start                time_end     type   target  \\\n",
       "21 2023-09-15 01:22:06.448998 2023-09-15 01:27:06.698  science  zet Sgr   \n",
       "22 2023-09-15 01:33:13.301989 2023-09-15 01:37:13.532  science  zet Sgr   \n",
       "23 2023-09-15 01:14:38.005001 2023-09-15 01:17:38.245  science  zet Sgr   \n",
       "24 2023-09-15 01:27:47.135020 2023-09-15 01:29:47.362  science  zet Sgr   \n",
       "25 2023-09-15 01:37:26.388003 2023-09-15 01:42:26.636  science  zet Sgr   \n",
       "\n",
       "           filter_disp  zenith_angle  exp_time          ra        dec  \\\n",
       "21  cyl_lens~holo4_003     14.997183     300.0  285.655414 -29.882545   \n",
       "22  cyl_lens~holo4_003     17.400084     240.0  285.655332 -29.882516   \n",
       "23  cyl_lens~holo4_003     13.382216     180.0  285.655311 -29.882547   \n",
       "24  cyl_lens~holo4_003     16.226019     120.0  285.655276 -29.882529   \n",
       "25  cyl_lens~holo4_003     18.310889     300.0  285.655313 -29.882513   \n",
       "\n",
       "      skyangle science_program  \n",
       "21  185.324316     SITCOM-1009  \n",
       "22  185.324436     SITCOM-1009  \n",
       "23  185.324446     SITCOM-1009  \n",
       "24  185.324442     SITCOM-1009  \n",
       "25  185.324531     SITCOM-1009  "
      ]
     },
     "execution_count": 17,
     "metadata": {},
     "output_type": "execute_result"
    }
   ],
   "source": [
    "df_science.tail(5)"
   ]
  },
  {
   "cell_type": "code",
   "execution_count": null,
   "id": "fd5f663e-281f-4881-b0a2-2ce4e62928fb",
   "metadata": {},
   "outputs": [],
   "source": []
  },
  {
   "cell_type": "markdown",
   "id": "e190893f-252f-47f1-b97f-cf7e557bfc96",
   "metadata": {},
   "source": [
    "### Available dates: "
   ]
  },
  {
   "cell_type": "code",
   "execution_count": 19,
   "id": "00c04de4-f9d4-4206-8ae4-f56eaae372c1",
   "metadata": {
    "execution": {
     "iopub.execute_input": "2023-09-26T23:34:32.834756Z",
     "iopub.status.busy": "2023-09-26T23:34:32.834515Z",
     "iopub.status.idle": "2023-09-26T23:34:32.837643Z",
     "shell.execute_reply": "2023-09-26T23:34:32.837209Z",
     "shell.execute_reply.started": "2023-09-26T23:34:32.834740Z"
    },
    "tags": []
   },
   "outputs": [
    {
     "name": "stdout",
     "output_type": "stream",
     "text": [
      "[20230912 20230913 20230914]\n"
     ]
    }
   ],
   "source": [
    "obs_days = np.unique(np.sort(np.array(df_science.day_obs)))\n",
    "print(obs_days)"
   ]
  },
  {
   "cell_type": "markdown",
   "id": "bcd9e64c-e527-418a-93c3-4179e0ea8f2f",
   "metadata": {},
   "source": [
    "### Available exposures for selected date: "
   ]
  },
  {
   "cell_type": "code",
   "execution_count": 21,
   "id": "dcf6740a-9bf3-4ccc-a6d4-64b3e43f9c8b",
   "metadata": {
    "execution": {
     "iopub.execute_input": "2023-09-27T00:04:16.246270Z",
     "iopub.status.busy": "2023-09-27T00:04:16.245574Z",
     "iopub.status.idle": "2023-09-27T00:04:16.250028Z",
     "shell.execute_reply": "2023-09-27T00:04:16.249601Z",
     "shell.execute_reply.started": "2023-09-27T00:04:16.246253Z"
    },
    "tags": []
   },
   "outputs": [],
   "source": [
    "obs_day = 20230914\n",
    "df_selected = df_science[df_science.day_obs==obs_day]"
   ]
  },
  {
   "cell_type": "code",
   "execution_count": 22,
   "id": "57a5d985-6e24-4d1d-97a3-4035355e8c68",
   "metadata": {
    "execution": {
     "iopub.execute_input": "2023-09-27T00:04:23.457612Z",
     "iopub.status.busy": "2023-09-27T00:04:23.457325Z",
     "iopub.status.idle": "2023-09-27T00:04:23.460707Z",
     "shell.execute_reply": "2023-09-27T00:04:23.460284Z",
     "shell.execute_reply.started": "2023-09-27T00:04:23.457598Z"
    },
    "tags": []
   },
   "outputs": [
    {
     "name": "stdout",
     "output_type": "stream",
     "text": [
      "[31 32 33 34 35 36 37 38]\n"
     ]
    }
   ],
   "source": [
    "seq_nums = np.sort(np.array(df_selected.seq_num))\n",
    "print(seq_nums)"
   ]
  },
  {
   "cell_type": "code",
   "execution_count": 23,
   "id": "5ad79caa-95d2-4f1c-9ac2-b1f5b2991989",
   "metadata": {
    "execution": {
     "iopub.execute_input": "2023-09-27T00:04:36.688551Z",
     "iopub.status.busy": "2023-09-27T00:04:36.688190Z",
     "iopub.status.idle": "2023-09-27T00:04:36.692136Z",
     "shell.execute_reply": "2023-09-27T00:04:36.691712Z",
     "shell.execute_reply.started": "2023-09-27T00:04:36.688532Z"
    },
    "tags": []
   },
   "outputs": [
    {
     "name": "stdout",
     "output_type": "stream",
     "text": [
      "[2023091400031 2023091400032 2023091400033 2023091400034 2023091400035\n",
      " 2023091400036 2023091400037 2023091400038]\n"
     ]
    }
   ],
   "source": [
    "ids = np.sort(np.array(df_selected.id))\n",
    "print(ids)"
   ]
  },
  {
   "cell_type": "code",
   "execution_count": null,
   "id": "c9ceb23c-0b37-4c7d-9b5a-d94c4a591c57",
   "metadata": {},
   "outputs": [],
   "source": []
  },
  {
   "cell_type": "code",
   "execution_count": null,
   "id": "5ba491eb-e3a0-41ed-877c-2d3d506b024f",
   "metadata": {
    "tags": []
   },
   "outputs": [],
   "source": []
  },
  {
   "cell_type": "code",
   "execution_count": null,
   "id": "b00354d6-e2ee-43e9-a1ad-e90e05ef28f3",
   "metadata": {},
   "outputs": [],
   "source": []
  },
  {
   "cell_type": "code",
   "execution_count": null,
   "id": "360f6e6a-6313-4fa7-90bd-69837512eb74",
   "metadata": {},
   "outputs": [],
   "source": []
  },
  {
   "cell_type": "code",
   "execution_count": null,
   "id": "8b855e57-2718-4f4c-892a-a3cee9e68f2b",
   "metadata": {},
   "outputs": [],
   "source": []
  },
  {
   "cell_type": "code",
   "execution_count": null,
   "id": "7d3feea0-d680-4b7c-8be0-afdfaa0a6925",
   "metadata": {},
   "outputs": [],
   "source": []
  },
  {
   "cell_type": "code",
   "execution_count": null,
   "id": "ea031506-56dd-421b-948b-0d45fd6b4ce6",
   "metadata": {},
   "outputs": [],
   "source": []
  }
 ],
 "metadata": {
  "kernelspec": {
   "display_name": "LSST",
   "language": "python",
   "name": "lsst"
  },
  "language_info": {
   "codemirror_mode": {
    "name": "ipython",
    "version": 3
   },
   "file_extension": ".py",
   "mimetype": "text/x-python",
   "name": "python",
   "nbconvert_exporter": "python",
   "pygments_lexer": "ipython3",
   "version": "3.11.4"
  }
 },
 "nbformat": 4,
 "nbformat_minor": 5
}
