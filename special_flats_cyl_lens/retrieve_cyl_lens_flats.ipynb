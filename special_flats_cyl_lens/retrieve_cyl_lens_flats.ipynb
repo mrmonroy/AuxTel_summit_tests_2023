{
 "cells": [
  {
   "cell_type": "code",
   "execution_count": 1,
   "id": "46d2e23b-69b6-4df7-8531-2d42b53426f7",
   "metadata": {
    "execution": {
     "iopub.execute_input": "2023-10-05T16:32:45.310492Z",
     "iopub.status.busy": "2023-10-05T16:32:45.310375Z",
     "iopub.status.idle": "2023-10-05T16:32:45.798564Z",
     "shell.execute_reply": "2023-10-05T16:32:45.798140Z",
     "shell.execute_reply.started": "2023-10-05T16:32:45.310480Z"
    },
    "tags": []
   },
   "outputs": [],
   "source": [
    "import os\n",
    "import matplotlib.pyplot as plt\n",
    "import matplotlib.colors as colors\n",
    "import matplotlib.cm as cmx\n",
    "import matplotlib.dates as mdates\n",
    "\n",
    "import numpy as np\n",
    "import pandas as pd\n",
    "%matplotlib inline\n",
    "from matplotlib.colors import LogNorm\n",
    "\n",
    "from mpl_toolkits.axes_grid1 import make_axes_locatable\n",
    "\n",
    "import matplotlib.ticker                         # here's where the formatter is\n",
    "from matplotlib.ticker import (MultipleLocator, FormatStrFormatter,\n",
    "                               AutoMinorLocator)\n",
    "\n",
    "from astropy.visualization import (MinMaxInterval, SqrtStretch,ZScaleInterval,PercentileInterval,\n",
    "                                   ImageNormalize,imshow_norm)\n",
    "from astropy.visualization.stretch import SinhStretch, LinearStretch,AsinhStretch,LogStretch\n",
    "\n",
    "\n",
    "from astropy.io import fits\n",
    "\n",
    "\n"
   ]
  },
  {
   "cell_type": "code",
   "execution_count": 2,
   "id": "a07dfdbe-5cf7-4444-9108-a17f9c6f730a",
   "metadata": {
    "execution": {
     "iopub.execute_input": "2023-10-05T16:32:45.799371Z",
     "iopub.status.busy": "2023-10-05T16:32:45.799136Z",
     "iopub.status.idle": "2023-10-05T16:32:48.943423Z",
     "shell.execute_reply": "2023-10-05T16:32:48.942982Z",
     "shell.execute_reply.started": "2023-10-05T16:32:45.799358Z"
    },
    "tags": []
   },
   "outputs": [],
   "source": [
    "# Assembly task\n",
    "# https://github.com/lsst/ip_isr/blob/main/python/lsst/ip/isr/isrTask.py\n",
    "\n",
    "from lsst.ip.isr.assembleCcdTask import (AssembleCcdConfig, AssembleCcdTask)\n",
    "from lsst.ip.isr.isrTask import (IsrTask, IsrTaskConfig)\n",
    "\n",
    "#https://github.com/lsst/ip_isr/blob/main/python/lsst/ip/isr/overscan.py\n",
    "from lsst.ip.isr import  OverscanCorrectionTaskConfig, OverscanCorrectionTask"
   ]
  },
  {
   "cell_type": "code",
   "execution_count": 3,
   "id": "5a0e62bc-b58a-4b6b-aeeb-913d405e0553",
   "metadata": {
    "execution": {
     "iopub.execute_input": "2023-10-05T16:32:48.944205Z",
     "iopub.status.busy": "2023-10-05T16:32:48.944026Z",
     "iopub.status.idle": "2023-10-05T16:32:48.953121Z",
     "shell.execute_reply": "2023-10-05T16:32:48.952821Z",
     "shell.execute_reply.started": "2023-10-05T16:32:48.944192Z"
    },
    "tags": []
   },
   "outputs": [],
   "source": [
    "# LSST Display\n",
    "import lsst.afw.display as afwDisplay\n",
    "afwDisplay.setDefaultBackend('matplotlib')"
   ]
  },
  {
   "cell_type": "code",
   "execution_count": 4,
   "id": "0f6d44dd-9726-4f30-a485-b7e650450a4d",
   "metadata": {
    "execution": {
     "iopub.execute_input": "2023-10-05T16:32:48.953671Z",
     "iopub.status.busy": "2023-10-05T16:32:48.953545Z",
     "iopub.status.idle": "2023-10-05T16:32:48.955457Z",
     "shell.execute_reply": "2023-10-05T16:32:48.955179Z",
     "shell.execute_reply.started": "2023-10-05T16:32:48.953660Z"
    },
    "tags": []
   },
   "outputs": [],
   "source": [
    "import warnings\n",
    "warnings.filterwarnings(\"ignore\")"
   ]
  },
  {
   "cell_type": "code",
   "execution_count": 5,
   "id": "2bec3b04-2ce2-49ca-beea-1ee919d3c827",
   "metadata": {
    "execution": {
     "iopub.execute_input": "2023-10-05T16:32:48.955967Z",
     "iopub.status.busy": "2023-10-05T16:32:48.955845Z",
     "iopub.status.idle": "2023-10-05T16:32:49.315650Z",
     "shell.execute_reply": "2023-10-05T16:32:49.315117Z",
     "shell.execute_reply.started": "2023-10-05T16:32:48.955956Z"
    },
    "tags": []
   },
   "outputs": [
    {
     "name": "stdout",
     "output_type": "stream",
     "text": [
      "afw                   g29afe694f1+a272651890 \tcurrent w_2023_40 setup\n",
      "alert_packet          g6041bd2d66 \tcurrent w_2023_40 setup\n",
      "analysis_drp          g8a53795882+0c0064919b \tcurrent w_2023_40 setup\n",
      "analysis_tools        g01ff57b274+b4ae54b57f \tcurrent w_2023_40 setup\n",
      "ap_association        g9b2d7c2ad1+0898bae26d \tcurrent w_2023_40 setup\n",
      "ap_pipe               g9f065385ad+72c0e07383 \tcurrent w_2023_40 setup\n",
      "ap_verify             g60239a501b+d279a3926c \tcurrent w_2023_40 setup\n",
      "astro_metadata_translator g0978aabd1f+0ffa813159 \tcurrent w_2023_40 setup\n",
      "astshim               g3273194fdb+f6908454ef \tcurrent w_2023_40 setup\n",
      "atmospec              LOCAL:/home/m/monroy/repos/repos_w_2023_35/atmospec \tsetup\n",
      "base                  g98ffbb4407+81bc2a20b4 \tcurrent w_2023_40 setup\n",
      "cbp                   ga32fcf49c8+650be1a39c \tcurrent w_2023_40 setup\n",
      "cell_coadds           g9faf7ed3f3+0c0064919b \tcurrent w_2023_40 setup\n",
      "coadd_utils           g337abbeb29+650be1a39c \tcurrent w_2023_40 setup\n",
      "cp_pipe               g706f16c6e5+0c0064919b \tcurrent w_2023_40 setup\n",
      "cp_verify             ge14ceffff4+b4ae54b57f \tcurrent w_2023_40 setup\n",
      "cpputils              g9ddcbc5298+7f7571301f \tcurrent w_2023_40 setup\n",
      "ctrl_bps              g1510ddf336+0d501aefd6 \tcurrent w_2023_40 setup\n",
      "ctrl_bps_htcondor     ga0efba6fd5+ac79c06648 \tcurrent w_2023_40 setup\n",
      "ctrl_bps_panda        g84a8fe0248+ac79c06648 \tcurrent w_2023_40 setup\n",
      "ctrl_bps_parsl        g0782abdf86+ac79c06648 \tcurrent w_2023_40 setup\n",
      "ctrl_execute          g3288a415c1+c96752b144 \tcurrent w_2023_40 setup\n",
      "ctrl_mpexec           g8e0072ff9e+5eef50a039 \tcurrent w_2023_40 setup\n",
      "ctrl_platform_s3df    g3be6bbf6ee+61fcefe6a9 \tcurrent w_2023_40 setup\n",
      "daf_base              gf041782ebf+1e6588183a \tcurrent w_2023_40 setup\n",
      "daf_butler            g5a605f6397+f49700b132 \tcurrent w_2023_40 setup\n",
      "daf_relation          g7fe878355c+6c74b93b31 \tcurrent w_2023_40 setup\n",
      "dax_apdb              g4122c88930+bfeb42fd3c \tcurrent w_2023_40 setup\n",
      "display_astrowidgets  g2bbee38e9b+650be1a39c \tcurrent w_2023_40 setup\n",
      "display_ds9           gdb4ec4c597+650be1a39c \tcurrent w_2023_40 setup\n",
      "display_firefly       gae46bcf261+650be1a39c \tcurrent w_2023_40 setup\n",
      "display_matplotlib    g0265f82a02+650be1a39c \tcurrent w_2023_40 setup\n",
      "drp_pipe              ge62833c1e3+cc463552bf \tcurrent w_2023_40 setup\n",
      "drp_tasks             gca624955e7+d41a2e4e03 \tcurrent w_2023_40 setup\n",
      "dustmaps_cachedata    gbb0a0c949e+81bc2a20b4 \tcurrent w_2023_40 setup\n",
      "eups                  LOCAL:/opt/lsst/software/stack/conda/miniconda3-py38_4.9.2/envs/lsst-scipipe-7.0.1/eups \tsetup\n",
      "faro                  ge8614a52ae+0f8b2ab215 \tcurrent w_2023_40 setup\n",
      "felis                 g5a39ba60c6+81bc2a20b4 \tcurrent w_2023_40 setup\n",
      "fgcm                  g8c771ebe41 \tcurrent w_2023_40 setup\n",
      "fgcmcal               gc9537b1561+5f3733e5cc \tcurrent w_2023_40 setup\n",
      "gbdes                 gaa71a13f5d \tcurrent w_2023_40 setup\n",
      "geom                  ga1e77700b3+951263b14e \tcurrent w_2023_40 setup\n",
      "ip_diffim             gaca53a8f8a+a905cae1d3 \tcurrent w_2023_40 setup\n",
      "ip_isr                gba5f90d8bc+b9f2303cd3 \tcurrent w_2023_40 setup\n",
      "jointcal              g4500d70958+06161efcf0 \tcurrent w_2023_40 setup\n",
      "jointcal_cholmod      g81a980c3dd+81bc2a20b4 \tcurrent w_2023_40 setup\n",
      "kht                   gafcb7142de \tcurrent w_2023_40 setup\n",
      "log                   g1e7d6db67d+6c74b93b31 \tcurrent w_2023_40 setup\n",
      "lsst_apps             ga3d9597cd8+e6732a43e6 \tcurrent w_2023_40 setup\n",
      "lsst_bps_plugins      g3a590c521e+39e9c0a090 \tcurrent w_2023_40 setup\n",
      "lsst_distrib          g4213664e8e+7835acb1bb \tcurrent w_2023_40 setup\n",
      "lsst_obs              gea673b7ed9+0c100829c7 \tcurrent w_2023_40 setup\n",
      "lsst_sitcom           g1a510c377c+819a171dd0 \tcurrent w_2023_40 setup\n",
      "meas_algorithms       g728939a55c+eca192031b \tcurrent w_2023_40 setup\n",
      "meas_astrom           gfb315b4925+b9f2303cd3 \tcurrent w_2023_40 setup\n",
      "meas_base             g4fadbfc174+7e19a89f46 \tcurrent w_2023_40 setup\n",
      "meas_deblender        gb700894bec+9d1dfcc488 \tcurrent w_2023_40 setup\n",
      "meas_extensions_convolved g42fff21dfb+65dba1db31 \tcurrent w_2023_40 setup\n",
      "meas_extensions_gaap  g8dd6597355+38260db4f8 \tcurrent w_2023_40 setup\n",
      "meas_extensions_photometryKron gb2715bf1a1+b9f2303cd3 \tcurrent w_2023_40 setup\n",
      "meas_extensions_piff  gc86a011abf+b9f2303cd3 \tcurrent w_2023_40 setup\n",
      "meas_extensions_psfex gbeb006f7da+9fafd809c5 \tcurrent w_2023_40 setup\n",
      "meas_extensions_scarlet gabf74fab76+382349f97b \tcurrent w_2023_40 setup\n",
      "meas_extensions_shapeHSM g571dde35ae+b9f2303cd3 \tcurrent w_2023_40 setup\n",
      "meas_extensions_simpleShape gcf0d15dbbd+eca192031b \tcurrent w_2023_40 setup\n",
      "meas_extensions_trailedSources g3ddfee87b4+eca192031b \tcurrent w_2023_40 setup\n",
      "meas_modelfit         gd162630629+bfe2a65394 \tcurrent w_2023_40 setup\n",
      "meas_transiNet        gdb5f421a5e+eca192031b \tcurrent w_2023_40 setup\n",
      "obs_base              g0720eaffcd+750c1a4cbf \tcurrent w_2023_40 setup\n",
      "obs_cfht              gef70c04d3b+0d88214415 \tcurrent w_2023_40 setup\n",
      "obs_decam             g8fee9bba00+66dcbc7730 \tcurrent w_2023_40 setup\n",
      "obs_decam_data        g9eeeb5e174 \tcurrent w_2023_40 setup\n",
      "obs_lsst              gcadcf6406f+988e7b9bec \tcurrent w_2023_40 setup\n",
      "obs_lsst_data         g5736ae6652 \tcurrent w_2023_40 setup\n",
      "obs_subaru            gbb040eb6ce+458d3abffe \tcurrent w_2023_40 setup\n",
      "obs_subaru_data       g7ff78db354 \tcurrent w_2023_40 setup\n",
      "pex_config            g41b076d227+0ffa813159 \tcurrent w_2023_40 setup\n",
      "pex_exceptions        gdaeeff99f8+0d8dbea60f \tcurrent w_2023_40 setup\n",
      "pipe_base             g76003a3ac4+c89ac86036 \tcurrent w_2023_40 setup\n",
      "pipe_tasks            gf2769dab14+81dab5b8a3 \tcurrent w_2023_40 setup\n",
      "proxmin               g33b4157f25 \tcurrent w_2023_40 setup\n",
      "psfex                 gc054bea089+81bc2a20b4 \tcurrent w_2023_40 setup\n",
      "resources             g8c7666fb0b+6c74b93b31 \tcurrent w_2023_40 setup\n",
      "scarlet               g63ff1f842d+4083830bf8 \tcurrent w_2023_40 setup\n",
      "scarlet_lite          g652c8d4382+81bc2a20b4 \tcurrent w_2023_40 setup\n",
      "sconsUtils            g80c3e6a29f \tcurrent w_2023_40 setup\n",
      "sdm_schemas           g68d4b446e6 \tcurrent w_2023_40 setup\n",
      "shapelet              g44018dc512+650be1a39c \tcurrent w_2023_40 setup\n",
      "skymap                g93973518b8+72908fb122 \tcurrent w_2023_40 setup\n",
      "spectractor           LOCAL:/home/m/monroy/repos/repos_w_2023_35/Spectractor \tsetup\n",
      "sphgeom               g6ae5381d9b+81bc2a20b4 \tcurrent w_2023_40 setup\n",
      "summit_extras         g57c6b4248f+289450e2a4 \tcurrent w_2023_40 setup\n",
      "summit_utils          g273ad4047d+a0dbfa8095 \tcurrent w_2023_40 setup\n",
      "utils                 g384e8880d6+81bc2a20b4 \tcurrent w_2023_40 setup\n",
      "verify                gffb8816710+688c9521e8 \tcurrent w_2023_40 setup\n",
      "verify_metrics        g3c17f34f15+81bc2a20b4 \tcurrent w_2023_40 setup\n"
     ]
    }
   ],
   "source": [
    "! eups list -s"
   ]
  },
  {
   "cell_type": "markdown",
   "id": "c11b22c5-5c8f-48bf-b3f2-8ccd0936ff18",
   "metadata": {},
   "source": [
    "# Butler "
   ]
  },
  {
   "cell_type": "code",
   "execution_count": 6,
   "id": "7ac79a8d-4788-42e6-b2ab-073e028f7972",
   "metadata": {
    "execution": {
     "iopub.execute_input": "2023-10-05T16:32:49.317485Z",
     "iopub.status.busy": "2023-10-05T16:32:49.317331Z",
     "iopub.status.idle": "2023-10-05T16:32:49.319885Z",
     "shell.execute_reply": "2023-10-05T16:32:49.319524Z",
     "shell.execute_reply.started": "2023-10-05T16:32:49.317469Z"
    },
    "tags": []
   },
   "outputs": [],
   "source": [
    "import lsst.daf.butler as dafButler"
   ]
  },
  {
   "cell_type": "code",
   "execution_count": 7,
   "id": "6dd75494-8cf9-4e49-94ad-1566f2055e74",
   "metadata": {
    "execution": {
     "iopub.execute_input": "2023-10-05T16:32:49.320740Z",
     "iopub.status.busy": "2023-10-05T16:32:49.320603Z",
     "iopub.status.idle": "2023-10-05T16:32:49.324213Z",
     "shell.execute_reply": "2023-10-05T16:32:49.323862Z",
     "shell.execute_reply.started": "2023-10-05T16:32:49.320723Z"
    },
    "tags": []
   },
   "outputs": [],
   "source": [
    "embargo = True"
   ]
  },
  {
   "cell_type": "code",
   "execution_count": 8,
   "id": "89edd02f-b48c-4270-a088-4738af6d2b6f",
   "metadata": {
    "execution": {
     "iopub.execute_input": "2023-10-05T16:32:49.324788Z",
     "iopub.status.busy": "2023-10-05T16:32:49.324664Z",
     "iopub.status.idle": "2023-10-05T16:32:51.649886Z",
     "shell.execute_reply": "2023-10-05T16:32:51.649417Z",
     "shell.execute_reply.started": "2023-10-05T16:32:49.324777Z"
    },
    "tags": []
   },
   "outputs": [],
   "source": [
    "if embargo:\n",
    "    repo=\"/sdf/group/rubin/repo/oga/\"\n",
    "else:\n",
    "    repo = \"/sdf/group/rubin/repo/main\"\n",
    "butler = dafButler.Butler(repo)\n",
    "registry = butler.registry"
   ]
  },
  {
   "cell_type": "code",
   "execution_count": 9,
   "id": "3d5f7d22-e620-49ae-ad0d-5043dadae5d0",
   "metadata": {
    "execution": {
     "iopub.execute_input": "2023-10-05T16:32:51.650640Z",
     "iopub.status.busy": "2023-10-05T16:32:51.650509Z",
     "iopub.status.idle": "2023-10-05T16:32:51.657917Z",
     "shell.execute_reply": "2023-10-05T16:32:51.657541Z",
     "shell.execute_reply.started": "2023-10-05T16:32:51.650628Z"
    },
    "tags": []
   },
   "outputs": [],
   "source": [
    "cameraName = 'LATISS'\n",
    "calibCollections = ['LATISS/defaults','LATISS/raw/all']\n",
    "for col in registry.queryCollections(\"*LATISS/calib*\"):\n",
    "    #print(col)\n",
    "    calibCollections.append(col)"
   ]
  },
  {
   "cell_type": "code",
   "execution_count": null,
   "id": "5aa43adb-fe4a-44c2-af0a-bc9cc838933b",
   "metadata": {},
   "outputs": [],
   "source": []
  },
  {
   "cell_type": "code",
   "execution_count": null,
   "id": "26c640ce-8e97-49c0-9719-4f7602729040",
   "metadata": {},
   "outputs": [],
   "source": []
  },
  {
   "cell_type": "markdown",
   "id": "2108a309-1a4b-4b1c-adad-298f3fcb8ec7",
   "metadata": {},
   "source": [
    "We check the different dimension records existing for *physical_filter*: "
   ]
  },
  {
   "cell_type": "code",
   "execution_count": 10,
   "id": "02acc2ae-6f68-46e6-b6bc-029da5c80487",
   "metadata": {
    "execution": {
     "iopub.execute_input": "2023-10-05T16:32:51.658497Z",
     "iopub.status.busy": "2023-10-05T16:32:51.658380Z",
     "iopub.status.idle": "2023-10-05T16:32:51.694451Z",
     "shell.execute_reply": "2023-10-05T16:32:51.694109Z",
     "shell.execute_reply.started": "2023-10-05T16:32:51.658486Z"
    },
    "tags": []
   },
   "outputs": [],
   "source": [
    "phys_filters = list(registry.queryDimensionRecords('physical_filter',where=\"instrument='LATISS'\"))"
   ]
  },
  {
   "cell_type": "markdown",
   "id": "9a6fc904-2698-40aa-bec9-1465b65066cc",
   "metadata": {},
   "source": [
    "Print physical_filters with hologram in place: "
   ]
  },
  {
   "cell_type": "code",
   "execution_count": 11,
   "id": "51a841ad-47bf-4490-8805-68832402b003",
   "metadata": {
    "execution": {
     "iopub.execute_input": "2023-10-05T16:32:51.695065Z",
     "iopub.status.busy": "2023-10-05T16:32:51.694945Z",
     "iopub.status.idle": "2023-10-05T16:32:51.697497Z",
     "shell.execute_reply": "2023-10-05T16:32:51.697145Z",
     "shell.execute_reply.started": "2023-10-05T16:32:51.695055Z"
    },
    "tags": []
   },
   "outputs": [
    {
     "name": "stdout",
     "output_type": "stream",
     "text": [
      "empty~holo4_003\n",
      "blank_bk7_wg05~holo4_003\n",
      "KPNO_1111_436nm~holo4_003\n",
      "KPNO_373A_677nm~holo4_003\n",
      "KPNO_406_828nm~holo4_003\n",
      "unknown~holo4_003\n",
      "BG40~holo4_003\n",
      "quadnotch1~holo4_003\n",
      "RG610~holo4_003\n",
      "FELH0600~holo4_003\n",
      "SDSSg~holo4_003\n",
      "SDSSr~holo4_003\n",
      "SDSSi~holo4_003\n",
      "BG40_65mm_1~holo4_003\n",
      "BG40_65mm_2~holo4_003\n",
      "OG550_65mm_1~holo4_003\n",
      "OG550_65mm_2~holo4_003\n",
      "SDSSg_65mm~holo4_003\n",
      "SDSSr_65mm~holo4_003\n",
      "SDSSi_65mm~holo4_003\n",
      "SDSSu_65mm~holo4_003\n",
      "SDSSz_65mm~holo4_003\n",
      "SDSSy_65mm~holo4_003\n",
      "empty~holo4_001\n",
      "blank_bk7_wg05~holo4_001\n",
      "KPNO_1111_436nm~holo4_001\n",
      "KPNO_373A_677nm~holo4_001\n",
      "KPNO_406_828nm~holo4_001\n",
      "unknown~holo4_001\n",
      "BG40~holo4_001\n",
      "BG40_65mm_1~holo4_001\n",
      "BG40_65mm_2~holo4_001\n",
      "quadnotch1~holo4_001\n",
      "RG610~holo4_001\n",
      "OG550_65mm_1~holo4_001\n",
      "OG550_65mm_2~holo4_001\n",
      "FELH0600~holo4_001\n",
      "SDSSg~holo4_001\n",
      "SDSSr~holo4_001\n",
      "SDSSi~holo4_001\n",
      "SDSSu_65mm~holo4_001\n",
      "SDSSg_65mm~holo4_001\n",
      "SDSSr_65mm~holo4_001\n",
      "SDSSi_65mm~holo4_001\n",
      "SDSSz_65mm~holo4_001\n",
      "SDSSy_65mm~holo4_001\n",
      "collimator~holo4_003\n",
      "collimator~holo4_001\n",
      "cyl_lens~holo4_003\n",
      "cyl_lens~holo4_001\n"
     ]
    }
   ],
   "source": [
    "for f_ in phys_filters:\n",
    "    if 'holo' in f_.name:\n",
    "        print(f_.name)"
   ]
  },
  {
   "cell_type": "code",
   "execution_count": null,
   "id": "f64f933d-c584-4f49-88fa-4ed2d666e6e6",
   "metadata": {},
   "outputs": [],
   "source": []
  },
  {
   "cell_type": "code",
   "execution_count": null,
   "id": "304dab99-82ef-4119-a149-5f8fff0abc13",
   "metadata": {},
   "outputs": [],
   "source": []
  },
  {
   "cell_type": "markdown",
   "id": "1c7ad245-c408-4bb9-810e-8d5381d2c7e3",
   "metadata": {},
   "source": [
    "# Selection of exposures with cylindrical lens "
   ]
  },
  {
   "cell_type": "code",
   "execution_count": 12,
   "id": "09ee06e1-b766-4afc-bfba-2993cc1324ad",
   "metadata": {
    "execution": {
     "iopub.execute_input": "2023-10-05T16:32:51.698165Z",
     "iopub.status.busy": "2023-10-05T16:32:51.698035Z",
     "iopub.status.idle": "2023-10-05T16:32:51.700650Z",
     "shell.execute_reply": "2023-10-05T16:32:51.700291Z",
     "shell.execute_reply.started": "2023-10-05T16:32:51.698153Z"
    },
    "tags": []
   },
   "outputs": [],
   "source": [
    "obs_type = 'science'\n",
    "physical_filter = 'cyl_lens~holo4_003' #Note that there are no exposure with this config for the moment "
   ]
  },
  {
   "cell_type": "code",
   "execution_count": 13,
   "id": "14fb6b1c-f2b4-4d96-a37e-0ed54980ec61",
   "metadata": {
    "execution": {
     "iopub.execute_input": "2023-10-05T16:32:51.701247Z",
     "iopub.status.busy": "2023-10-05T16:32:51.701130Z",
     "iopub.status.idle": "2023-10-05T16:32:51.707002Z",
     "shell.execute_reply": "2023-10-05T16:32:51.706655Z",
     "shell.execute_reply.started": "2023-10-05T16:32:51.701238Z"
    },
    "tags": []
   },
   "outputs": [],
   "source": [
    "df_science = pd.DataFrame(columns=['id', 'obs_id','day_obs', 'seq_num','time_start',\n",
    "                                    'time_end' ,'type', 'target','filter_disp','zenith_angle',\n",
    "                                    'exp_time','ra','dec','skyangle','science_program'])"
   ]
  },
  {
   "cell_type": "code",
   "execution_count": 14,
   "id": "8cf3d1b3-224e-44c9-bf1c-176d803ae7ac",
   "metadata": {
    "execution": {
     "iopub.execute_input": "2023-10-05T16:32:51.707631Z",
     "iopub.status.busy": "2023-10-05T16:32:51.707505Z",
     "iopub.status.idle": "2023-10-05T16:32:51.810034Z",
     "shell.execute_reply": "2023-10-05T16:32:51.809642Z",
     "shell.execute_reply.started": "2023-10-05T16:32:51.707620Z"
    },
    "tags": []
   },
   "outputs": [
    {
     "name": "stdout",
     "output_type": "stream",
     "text": [
      "0\n",
      "exposure:\n",
      "  instrument: 'LATISS'\n",
      "  id: 2023091200125\n",
      "  physical_filter: 'cyl_lens~holo4_003'\n",
      "  obs_id: 'AT_O_20230912_000125'\n",
      "  exposure_time: 90.0\n",
      "  dark_time: 90.2414\n",
      "  observation_type: 'science'\n",
      "  observation_reason: 'cyl_lens'\n",
      "  day_obs: 20230912\n",
      "  seq_num: 125\n",
      "  seq_start: 125\n",
      "  seq_end: 125\n",
      "  group_name: '2023-09-12T23:45:36.165'\n",
      "  group_id: 2744919361650000\n",
      "  target_name: 'gam Gru'\n",
      "  science_program: 'SITCOM-1009'\n",
      "  tracking_ra: 328.47710063386694\n",
      "  tracking_dec: -37.366563075205136\n",
      "  sky_angle: 353.88281242076397\n",
      "  azimuth: 113.56899044390968\n",
      "  zenith_angle: 42.05053957893198\n",
      "  has_simulated: False\n",
      "  timespan: Timespan(begin=astropy.time.Time('2023-09-12 23:50:10.329008', scale='tai', format='iso'), end=astropy.time.Time('2023-09-12 23:51:40.570000', scale='tai', format='iso'))\n",
      "\t timespan:             [2023-09-12T23:50:10.329008, 2023-09-12T23:51:40.570000)\n",
      "\t timespan.begin:       2023-09-12 23:50:10.329008\n",
      "\t id:                   2023091200125\n",
      "\t day_obs:              20230912\n",
      "\t seq_num:              125\n",
      "\t type-of-observation:  science\n",
      "\t target:               gam Gru\n",
      "-----------------------------------------------------\n",
      "1\n",
      "exposure:\n",
      "  instrument: 'LATISS'\n",
      "  id: 2023091200123\n",
      "  physical_filter: 'cyl_lens~holo4_003'\n",
      "  obs_id: 'AT_O_20230912_000123'\n",
      "  exposure_time: 30.0\n",
      "  dark_time: 30.2362\n",
      "  observation_type: 'science'\n",
      "  observation_reason: 'cyl_lens'\n",
      "  day_obs: 20230912\n",
      "  seq_num: 123\n",
      "  seq_start: 123\n",
      "  seq_end: 123\n",
      "  group_name: '2023-09-12T23:45:36.165'\n",
      "  group_id: 2744919361650000\n",
      "  target_name: 'gam Gru'\n",
      "  science_program: 'SITCOM-1009'\n",
      "  tracking_ra: 328.4772171861976\n",
      "  tracking_dec: -37.367169522747226\n",
      "  sky_angle: 353.883399221978\n",
      "  azimuth: 113.62951114336596\n",
      "  zenith_angle: 42.43409235170854\n",
      "  has_simulated: False\n",
      "  timespan: Timespan(begin=astropy.time.Time('2023-09-12 23:48:14.137001', scale='tai', format='iso'), end=astropy.time.Time('2023-09-12 23:48:44.373000', scale='tai', format='iso'))\n",
      "\t timespan:             [2023-09-12T23:48:14.137001, 2023-09-12T23:48:44.373000)\n",
      "\t timespan.begin:       2023-09-12 23:48:14.137001\n",
      "\t id:                   2023091200123\n",
      "\t day_obs:              20230912\n",
      "\t seq_num:              123\n",
      "\t type-of-observation:  science\n",
      "\t target:               gam Gru\n",
      "-----------------------------------------------------\n"
     ]
    }
   ],
   "source": [
    "\n",
    "where_exps = \"instrument='LATISS' AND exposure.observation_type='{0}' AND physical_filter='{1}'\".format(obs_type,physical_filter)\n",
    "#where_exps = \"instrument='LATISS' AND exposure.observation_type='{0}' AND exposure.day_obs={1}\".format(obs_type,obs_day)\n",
    "for i, info in enumerate(registry.queryDimensionRecords('exposure',where=where_exps)):\n",
    "    \n",
    "    #if info.observation_type=='science':\n",
    "    id_ = info.id\n",
    "    obs_id_ = info.obs_id\n",
    "    day_obs_ = info.day_obs\n",
    "    seq_num_ = info.seq_num\n",
    "    timespan_ = info.timespan\n",
    "    timespan_begin_ = pd.to_datetime(timespan_.begin.to_string())\n",
    "    timespan_end_ = pd.to_datetime(timespan_.end.to_string())\n",
    "    timespan_begin_jd_ = timespan_.begin.jd\n",
    "    timespan_begin_mjd_ = timespan_.begin.mjd\n",
    "\n",
    "    observation_type_ = info.observation_type\n",
    "    target_name_ = info.target_name\n",
    "    physical_filter_ = info.physical_filter\n",
    "    zenith_angle_ = info.zenith_angle\n",
    "    exposure_time_ = info.exposure_time\n",
    "    tracking_ra_ = info.tracking_ra\n",
    "    tracking_dec_ = info.tracking_dec\n",
    "    sky_angle_ = info.sky_angle\n",
    "    science_program_ = info.science_program\n",
    "\n",
    "    df_science.loc[i] = [id_, obs_id_, day_obs_, seq_num_,timespan_begin_,timespan_end_ ,observation_type_, \\\n",
    "                         target_name_, physical_filter_, zenith_angle_, exposure_time_,tracking_ra_, \\\n",
    "                         tracking_dec_, sky_angle_, science_program_]\n",
    "\n",
    "    if i < 2:\n",
    "        print(i)\n",
    "        print(info)\n",
    "        print(\"\\t timespan:            \",info.timespan)\n",
    "        print(\"\\t timespan.begin:      \",info.timespan.begin)\n",
    "        print(\"\\t id:                  \",info.id)\n",
    "        print(\"\\t day_obs:             \",info.day_obs)\n",
    "        print(\"\\t seq_num:             \",info.seq_num)\n",
    "        print(\"\\t type-of-observation: \",info.observation_type)\n",
    "        print(\"\\t target:              \",info.target_name)\n",
    "        print(\"-----------------------------------------------------\")\n",
    "    "
   ]
  },
  {
   "cell_type": "code",
   "execution_count": 15,
   "id": "856dad89-b481-41a5-8f55-1b76c98bd143",
   "metadata": {
    "execution": {
     "iopub.execute_input": "2023-10-05T16:32:51.810694Z",
     "iopub.status.busy": "2023-10-05T16:32:51.810570Z",
     "iopub.status.idle": "2023-10-05T16:32:51.813184Z",
     "shell.execute_reply": "2023-10-05T16:32:51.812676Z",
     "shell.execute_reply.started": "2023-10-05T16:32:51.810683Z"
    },
    "tags": []
   },
   "outputs": [
    {
     "name": "stdout",
     "output_type": "stream",
     "text": [
      "Number of entries =  32\n"
     ]
    }
   ],
   "source": [
    "print('Number of entries = ',len(df_science))"
   ]
  },
  {
   "cell_type": "code",
   "execution_count": 16,
   "id": "eeeb7e32-996b-433b-87cd-370eb6e91670",
   "metadata": {
    "execution": {
     "iopub.execute_input": "2023-10-05T16:32:51.813791Z",
     "iopub.status.busy": "2023-10-05T16:32:51.813658Z",
     "iopub.status.idle": "2023-10-05T16:32:51.823575Z",
     "shell.execute_reply": "2023-10-05T16:32:51.823245Z",
     "shell.execute_reply.started": "2023-10-05T16:32:51.813780Z"
    },
    "tags": []
   },
   "outputs": [
    {
     "data": {
      "text/html": [
       "<div>\n",
       "<style scoped>\n",
       "    .dataframe tbody tr th:only-of-type {\n",
       "        vertical-align: middle;\n",
       "    }\n",
       "\n",
       "    .dataframe tbody tr th {\n",
       "        vertical-align: top;\n",
       "    }\n",
       "\n",
       "    .dataframe thead th {\n",
       "        text-align: right;\n",
       "    }\n",
       "</style>\n",
       "<table border=\"1\" class=\"dataframe\">\n",
       "  <thead>\n",
       "    <tr style=\"text-align: right;\">\n",
       "      <th></th>\n",
       "      <th>id</th>\n",
       "      <th>obs_id</th>\n",
       "      <th>day_obs</th>\n",
       "      <th>seq_num</th>\n",
       "      <th>time_start</th>\n",
       "      <th>time_end</th>\n",
       "      <th>type</th>\n",
       "      <th>target</th>\n",
       "      <th>filter_disp</th>\n",
       "      <th>zenith_angle</th>\n",
       "      <th>exp_time</th>\n",
       "      <th>ra</th>\n",
       "      <th>dec</th>\n",
       "      <th>skyangle</th>\n",
       "      <th>science_program</th>\n",
       "    </tr>\n",
       "  </thead>\n",
       "  <tbody>\n",
       "    <tr>\n",
       "      <th>27</th>\n",
       "      <td>2023092700208</td>\n",
       "      <td>AT_O_20230927_000208</td>\n",
       "      <td>20230927</td>\n",
       "      <td>208</td>\n",
       "      <td>2023-09-27 23:47:14.036019</td>\n",
       "      <td>2023-09-27 23:52:14.283</td>\n",
       "      <td>science</td>\n",
       "      <td>del Cap</td>\n",
       "      <td>cyl_lens~holo4_003</td>\n",
       "      <td>34.725847</td>\n",
       "      <td>300.0</td>\n",
       "      <td>326.757926</td>\n",
       "      <td>-16.127419</td>\n",
       "      <td>330.393018</td>\n",
       "      <td>SITCOM-1009</td>\n",
       "    </tr>\n",
       "    <tr>\n",
       "      <th>28</th>\n",
       "      <td>2023092700209</td>\n",
       "      <td>AT_O_20230927_000209</td>\n",
       "      <td>20230927</td>\n",
       "      <td>209</td>\n",
       "      <td>2023-09-27 23:52:37.992017</td>\n",
       "      <td>2023-09-27 23:57:38.222</td>\n",
       "      <td>science</td>\n",
       "      <td>del Cap</td>\n",
       "      <td>cyl_lens~holo4_003</td>\n",
       "      <td>33.609815</td>\n",
       "      <td>300.0</td>\n",
       "      <td>326.760403</td>\n",
       "      <td>-16.126080</td>\n",
       "      <td>330.393008</td>\n",
       "      <td>SITCOM-1009</td>\n",
       "    </tr>\n",
       "    <tr>\n",
       "      <th>29</th>\n",
       "      <td>2023092700210</td>\n",
       "      <td>AT_O_20230927_000210</td>\n",
       "      <td>20230927</td>\n",
       "      <td>210</td>\n",
       "      <td>2023-09-27 23:57:50.909008</td>\n",
       "      <td>2023-09-28 00:02:51.154</td>\n",
       "      <td>science</td>\n",
       "      <td>del Cap</td>\n",
       "      <td>cyl_lens~holo4_003</td>\n",
       "      <td>32.539513</td>\n",
       "      <td>300.0</td>\n",
       "      <td>326.760427</td>\n",
       "      <td>-16.126058</td>\n",
       "      <td>330.393083</td>\n",
       "      <td>SITCOM-1009</td>\n",
       "    </tr>\n",
       "    <tr>\n",
       "      <th>30</th>\n",
       "      <td>2023092700211</td>\n",
       "      <td>AT_O_20230927_000211</td>\n",
       "      <td>20230927</td>\n",
       "      <td>211</td>\n",
       "      <td>2023-09-28 00:03:14.059981</td>\n",
       "      <td>2023-09-28 00:08:14.311</td>\n",
       "      <td>science</td>\n",
       "      <td>del Cap</td>\n",
       "      <td>cyl_lens~holo4_003</td>\n",
       "      <td>31.433937</td>\n",
       "      <td>300.0</td>\n",
       "      <td>326.755358</td>\n",
       "      <td>-16.128835</td>\n",
       "      <td>330.393186</td>\n",
       "      <td>SITCOM-1009</td>\n",
       "    </tr>\n",
       "    <tr>\n",
       "      <th>31</th>\n",
       "      <td>2023092700212</td>\n",
       "      <td>AT_O_20230927_000212</td>\n",
       "      <td>20230927</td>\n",
       "      <td>212</td>\n",
       "      <td>2023-09-28 00:08:27.095017</td>\n",
       "      <td>2023-09-28 00:13:27.336</td>\n",
       "      <td>science</td>\n",
       "      <td>del Cap</td>\n",
       "      <td>cyl_lens~holo4_003</td>\n",
       "      <td>30.373533</td>\n",
       "      <td>300.0</td>\n",
       "      <td>326.755421</td>\n",
       "      <td>-16.128792</td>\n",
       "      <td>330.393123</td>\n",
       "      <td>SITCOM-1009</td>\n",
       "    </tr>\n",
       "  </tbody>\n",
       "</table>\n",
       "</div>"
      ],
      "text/plain": [
       "               id                obs_id   day_obs  seq_num  \\\n",
       "27  2023092700208  AT_O_20230927_000208  20230927      208   \n",
       "28  2023092700209  AT_O_20230927_000209  20230927      209   \n",
       "29  2023092700210  AT_O_20230927_000210  20230927      210   \n",
       "30  2023092700211  AT_O_20230927_000211  20230927      211   \n",
       "31  2023092700212  AT_O_20230927_000212  20230927      212   \n",
       "\n",
       "                   time_start                time_end     type   target  \\\n",
       "27 2023-09-27 23:47:14.036019 2023-09-27 23:52:14.283  science  del Cap   \n",
       "28 2023-09-27 23:52:37.992017 2023-09-27 23:57:38.222  science  del Cap   \n",
       "29 2023-09-27 23:57:50.909008 2023-09-28 00:02:51.154  science  del Cap   \n",
       "30 2023-09-28 00:03:14.059981 2023-09-28 00:08:14.311  science  del Cap   \n",
       "31 2023-09-28 00:08:27.095017 2023-09-28 00:13:27.336  science  del Cap   \n",
       "\n",
       "           filter_disp  zenith_angle  exp_time          ra        dec  \\\n",
       "27  cyl_lens~holo4_003     34.725847     300.0  326.757926 -16.127419   \n",
       "28  cyl_lens~holo4_003     33.609815     300.0  326.760403 -16.126080   \n",
       "29  cyl_lens~holo4_003     32.539513     300.0  326.760427 -16.126058   \n",
       "30  cyl_lens~holo4_003     31.433937     300.0  326.755358 -16.128835   \n",
       "31  cyl_lens~holo4_003     30.373533     300.0  326.755421 -16.128792   \n",
       "\n",
       "      skyangle science_program  \n",
       "27  330.393018     SITCOM-1009  \n",
       "28  330.393008     SITCOM-1009  \n",
       "29  330.393083     SITCOM-1009  \n",
       "30  330.393186     SITCOM-1009  \n",
       "31  330.393123     SITCOM-1009  "
      ]
     },
     "execution_count": 16,
     "metadata": {},
     "output_type": "execute_result"
    }
   ],
   "source": [
    "df_science.tail(5)"
   ]
  },
  {
   "cell_type": "code",
   "execution_count": null,
   "id": "fd5f663e-281f-4881-b0a2-2ce4e62928fb",
   "metadata": {},
   "outputs": [],
   "source": []
  },
  {
   "cell_type": "markdown",
   "id": "e190893f-252f-47f1-b97f-cf7e557bfc96",
   "metadata": {},
   "source": [
    "### Available dates: "
   ]
  },
  {
   "cell_type": "code",
   "execution_count": 17,
   "id": "00c04de4-f9d4-4206-8ae4-f56eaae372c1",
   "metadata": {
    "execution": {
     "iopub.execute_input": "2023-10-05T16:32:51.824168Z",
     "iopub.status.busy": "2023-10-05T16:32:51.824046Z",
     "iopub.status.idle": "2023-10-05T16:32:51.826557Z",
     "shell.execute_reply": "2023-10-05T16:32:51.826196Z",
     "shell.execute_reply.started": "2023-10-05T16:32:51.824157Z"
    },
    "tags": []
   },
   "outputs": [
    {
     "name": "stdout",
     "output_type": "stream",
     "text": [
      "[20230912 20230913 20230914 20230927]\n"
     ]
    }
   ],
   "source": [
    "obs_days = np.unique(np.sort(np.array(df_science.day_obs)))\n",
    "print(obs_days)"
   ]
  },
  {
   "cell_type": "markdown",
   "id": "bcd9e64c-e527-418a-93c3-4179e0ea8f2f",
   "metadata": {},
   "source": [
    "### Available exposures for selected date: "
   ]
  },
  {
   "cell_type": "code",
   "execution_count": 18,
   "id": "dcf6740a-9bf3-4ccc-a6d4-64b3e43f9c8b",
   "metadata": {
    "execution": {
     "iopub.execute_input": "2023-10-05T16:32:51.827135Z",
     "iopub.status.busy": "2023-10-05T16:32:51.827016Z",
     "iopub.status.idle": "2023-10-05T16:32:51.830059Z",
     "shell.execute_reply": "2023-10-05T16:32:51.829716Z",
     "shell.execute_reply.started": "2023-10-05T16:32:51.827124Z"
    },
    "tags": []
   },
   "outputs": [],
   "source": [
    "obs_day = 20230914\n",
    "df_selected = df_science[df_science.day_obs==obs_day]"
   ]
  },
  {
   "cell_type": "code",
   "execution_count": 19,
   "id": "57a5d985-6e24-4d1d-97a3-4035355e8c68",
   "metadata": {
    "execution": {
     "iopub.execute_input": "2023-10-05T16:32:51.830681Z",
     "iopub.status.busy": "2023-10-05T16:32:51.830556Z",
     "iopub.status.idle": "2023-10-05T16:32:51.833536Z",
     "shell.execute_reply": "2023-10-05T16:32:51.833173Z",
     "shell.execute_reply.started": "2023-10-05T16:32:51.830671Z"
    },
    "tags": []
   },
   "outputs": [
    {
     "name": "stdout",
     "output_type": "stream",
     "text": [
      "[31 32 33 34 35 36 37 38]\n"
     ]
    }
   ],
   "source": [
    "seq_nums = np.sort(np.array(df_selected.seq_num))\n",
    "print(seq_nums)"
   ]
  },
  {
   "cell_type": "code",
   "execution_count": 20,
   "id": "5ad79caa-95d2-4f1c-9ac2-b1f5b2991989",
   "metadata": {
    "execution": {
     "iopub.execute_input": "2023-10-05T16:32:51.834133Z",
     "iopub.status.busy": "2023-10-05T16:32:51.834012Z",
     "iopub.status.idle": "2023-10-05T16:32:51.838173Z",
     "shell.execute_reply": "2023-10-05T16:32:51.837813Z",
     "shell.execute_reply.started": "2023-10-05T16:32:51.834122Z"
    },
    "tags": []
   },
   "outputs": [
    {
     "name": "stdout",
     "output_type": "stream",
     "text": [
      "[2023091400031 2023091400032 2023091400033 2023091400034 2023091400035\n",
      " 2023091400036 2023091400037 2023091400038]\n"
     ]
    }
   ],
   "source": [
    "ids = np.sort(np.array(df_selected.id))\n",
    "print(ids)"
   ]
  },
  {
   "cell_type": "code",
   "execution_count": null,
   "id": "c9ceb23c-0b37-4c7d-9b5a-d94c4a591c57",
   "metadata": {},
   "outputs": [],
   "source": []
  },
  {
   "cell_type": "code",
   "execution_count": null,
   "id": "5ba491eb-e3a0-41ed-877c-2d3d506b024f",
   "metadata": {
    "tags": []
   },
   "outputs": [],
   "source": []
  },
  {
   "cell_type": "code",
   "execution_count": null,
   "id": "b00354d6-e2ee-43e9-a1ad-e90e05ef28f3",
   "metadata": {},
   "outputs": [],
   "source": []
  },
  {
   "cell_type": "code",
   "execution_count": null,
   "id": "360f6e6a-6313-4fa7-90bd-69837512eb74",
   "metadata": {},
   "outputs": [],
   "source": []
  },
  {
   "cell_type": "code",
   "execution_count": null,
   "id": "8b855e57-2718-4f4c-892a-a3cee9e68f2b",
   "metadata": {},
   "outputs": [],
   "source": []
  },
  {
   "cell_type": "code",
   "execution_count": null,
   "id": "7d3feea0-d680-4b7c-8be0-afdfaa0a6925",
   "metadata": {},
   "outputs": [],
   "source": []
  },
  {
   "cell_type": "code",
   "execution_count": null,
   "id": "ea031506-56dd-421b-948b-0d45fd6b4ce6",
   "metadata": {},
   "outputs": [],
   "source": []
  }
 ],
 "metadata": {
  "kernelspec": {
   "display_name": "LSST",
   "language": "python",
   "name": "lsst"
  },
  "language_info": {
   "codemirror_mode": {
    "name": "ipython",
    "version": 3
   },
   "file_extension": ".py",
   "mimetype": "text/x-python",
   "name": "python",
   "nbconvert_exporter": "python",
   "pygments_lexer": "ipython3",
   "version": "3.11.4"
  }
 },
 "nbformat": 4,
 "nbformat_minor": 5
}
