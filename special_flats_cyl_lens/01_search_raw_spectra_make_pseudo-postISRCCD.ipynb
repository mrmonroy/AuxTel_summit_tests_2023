{
 "cells": [
  {
   "cell_type": "markdown",
   "id": "dde0d0af-ed3a-4564-be78-7bdae044ce15",
   "metadata": {},
   "source": [
    "## This is based on MakeMyPostISRCCDfromRawForSpectractorSD "
   ]
  },
  {
   "cell_type": "code",
   "execution_count": 1,
   "id": "b7002c4d-b869-4560-9c7a-a535887daeef",
   "metadata": {
    "execution": {
     "iopub.execute_input": "2023-09-04T23:31:16.052774Z",
     "iopub.status.busy": "2023-09-04T23:31:16.052543Z",
     "iopub.status.idle": "2023-09-04T23:31:16.574310Z",
     "shell.execute_reply": "2023-09-04T23:31:16.573699Z",
     "shell.execute_reply.started": "2023-09-04T23:31:16.052759Z"
    },
    "tags": []
   },
   "outputs": [],
   "source": [
    "import os\n",
    "import matplotlib.pyplot as plt\n",
    "import matplotlib.colors as colors\n",
    "import matplotlib.cm as cmx\n",
    "import matplotlib.dates as mdates\n",
    "\n",
    "import numpy as np\n",
    "import pandas as pd\n",
    "%matplotlib inline\n",
    "from matplotlib.colors import LogNorm\n",
    "\n",
    "from mpl_toolkits.axes_grid1 import make_axes_locatable\n",
    "\n",
    "import matplotlib.ticker                         # here's where the formatter is\n",
    "from matplotlib.ticker import (MultipleLocator, FormatStrFormatter,\n",
    "                               AutoMinorLocator)\n",
    "\n",
    "from astropy.visualization import (MinMaxInterval, SqrtStretch,ZScaleInterval,PercentileInterval,\n",
    "                                   ImageNormalize,imshow_norm)\n",
    "from astropy.visualization.stretch import SinhStretch, LinearStretch,AsinhStretch,LogStretch\n",
    "\n",
    "\n",
    "from astropy.io import fits\n",
    "\n",
    "\n"
   ]
  },
  {
   "cell_type": "code",
   "execution_count": 2,
   "id": "0ced9c4f-122b-4fe2-a70b-ff0b15660bee",
   "metadata": {
    "execution": {
     "iopub.execute_input": "2023-09-04T23:31:16.575298Z",
     "iopub.status.busy": "2023-09-04T23:31:16.575019Z",
     "iopub.status.idle": "2023-09-04T23:31:17.816145Z",
     "shell.execute_reply": "2023-09-04T23:31:17.815576Z",
     "shell.execute_reply.started": "2023-09-04T23:31:16.575282Z"
    },
    "tags": []
   },
   "outputs": [],
   "source": [
    "# Assembly task\n",
    "# https://github.com/lsst/ip_isr/blob/main/python/lsst/ip/isr/isrTask.py\n",
    "\n",
    "from lsst.ip.isr.assembleCcdTask import (AssembleCcdConfig, AssembleCcdTask)\n",
    "from lsst.ip.isr.isrTask import (IsrTask, IsrTaskConfig)\n",
    "\n",
    "#https://github.com/lsst/ip_isr/blob/main/python/lsst/ip/isr/overscan.py\n",
    "from lsst.ip.isr import  OverscanCorrectionTaskConfig, OverscanCorrectionTask"
   ]
  },
  {
   "cell_type": "code",
   "execution_count": 3,
   "id": "d7c8c61f-5cfa-4c25-9a5a-97c2eb50fa29",
   "metadata": {
    "execution": {
     "iopub.execute_input": "2023-09-04T23:31:17.816972Z",
     "iopub.status.busy": "2023-09-04T23:31:17.816810Z",
     "iopub.status.idle": "2023-09-04T23:31:17.826662Z",
     "shell.execute_reply": "2023-09-04T23:31:17.826242Z",
     "shell.execute_reply.started": "2023-09-04T23:31:17.816950Z"
    },
    "tags": []
   },
   "outputs": [],
   "source": [
    "# LSST Display\n",
    "import lsst.afw.display as afwDisplay\n",
    "afwDisplay.setDefaultBackend('matplotlib')"
   ]
  },
  {
   "cell_type": "code",
   "execution_count": 4,
   "id": "f2676824-f66f-4714-9a5d-39f9578401cd",
   "metadata": {
    "execution": {
     "iopub.execute_input": "2023-09-04T23:31:17.827375Z",
     "iopub.status.busy": "2023-09-04T23:31:17.827236Z",
     "iopub.status.idle": "2023-09-04T23:31:17.829522Z",
     "shell.execute_reply": "2023-09-04T23:31:17.829129Z",
     "shell.execute_reply.started": "2023-09-04T23:31:17.827362Z"
    },
    "tags": []
   },
   "outputs": [],
   "source": [
    "import warnings\n",
    "warnings.filterwarnings(\"ignore\")"
   ]
  },
  {
   "cell_type": "code",
   "execution_count": null,
   "id": "b2183ad0-8507-4c14-a8dc-5a02a884a9fa",
   "metadata": {},
   "outputs": [],
   "source": []
  },
  {
   "cell_type": "markdown",
   "id": "6c301b37-efd6-4011-ae2e-a25c7eacf25b",
   "metadata": {},
   "source": [
    "# Butler "
   ]
  },
  {
   "cell_type": "code",
   "execution_count": 5,
   "id": "7865001a-3df0-45ab-85a2-ccf138da6b49",
   "metadata": {
    "execution": {
     "iopub.execute_input": "2023-09-04T23:31:17.830227Z",
     "iopub.status.busy": "2023-09-04T23:31:17.830079Z",
     "iopub.status.idle": "2023-09-04T23:31:17.834100Z",
     "shell.execute_reply": "2023-09-04T23:31:17.833685Z",
     "shell.execute_reply.started": "2023-09-04T23:31:17.830210Z"
    },
    "tags": []
   },
   "outputs": [],
   "source": [
    "import lsst.daf.butler as dafButler"
   ]
  },
  {
   "cell_type": "code",
   "execution_count": 6,
   "id": "3fa0ae07-552b-4b4f-a48a-96d6481da7e9",
   "metadata": {
    "execution": {
     "iopub.execute_input": "2023-09-04T23:31:17.835774Z",
     "iopub.status.busy": "2023-09-04T23:31:17.835548Z",
     "iopub.status.idle": "2023-09-04T23:31:17.839358Z",
     "shell.execute_reply": "2023-09-04T23:31:17.838974Z",
     "shell.execute_reply.started": "2023-09-04T23:31:17.835760Z"
    },
    "tags": []
   },
   "outputs": [],
   "source": [
    "embargo = True"
   ]
  },
  {
   "cell_type": "code",
   "execution_count": 7,
   "id": "1afe980c-0e3e-458f-aa10-d5375737893f",
   "metadata": {
    "execution": {
     "iopub.execute_input": "2023-09-04T23:31:17.840027Z",
     "iopub.status.busy": "2023-09-04T23:31:17.839888Z",
     "iopub.status.idle": "2023-09-04T23:31:19.702008Z",
     "shell.execute_reply": "2023-09-04T23:31:19.701516Z",
     "shell.execute_reply.started": "2023-09-04T23:31:17.840015Z"
    },
    "tags": []
   },
   "outputs": [],
   "source": [
    "if embargo:\n",
    "    repo=\"/sdf/group/rubin/repo/oga/\"\n",
    "else:\n",
    "    repo = \"/sdf/group/rubin/repo/main\"\n",
    "butler = dafButler.Butler(repo)\n",
    "registry = butler.registry"
   ]
  },
  {
   "cell_type": "markdown",
   "id": "57898809-7386-43a5-a784-361bf57c1501",
   "metadata": {},
   "source": [
    "Select collection containing raw data "
   ]
  },
  {
   "cell_type": "code",
   "execution_count": 8,
   "id": "9fde0c36-9872-4a59-90a6-6a730b59f7db",
   "metadata": {
    "execution": {
     "iopub.execute_input": "2023-09-04T23:31:19.702831Z",
     "iopub.status.busy": "2023-09-04T23:31:19.702687Z",
     "iopub.status.idle": "2023-09-04T23:31:19.710448Z",
     "shell.execute_reply": "2023-09-04T23:31:19.710048Z",
     "shell.execute_reply.started": "2023-09-04T23:31:19.702818Z"
    },
    "tags": []
   },
   "outputs": [],
   "source": [
    "#collection='LATISS/raw/all'\n",
    "cameraName = 'LATISS'\n",
    "calibCollections = ['LATISS/defaults','LATISS/raw/all']\n",
    "for col in registry.queryCollections(\"*LATISS/calib*\"):\n",
    "    #print(col)\n",
    "    calibCollections.append(col)"
   ]
  },
  {
   "cell_type": "code",
   "execution_count": null,
   "id": "33c59192-8d47-4a0a-a9e3-95d82d733109",
   "metadata": {},
   "outputs": [],
   "source": []
  },
  {
   "cell_type": "markdown",
   "id": "7930a4f6-b8e7-4f33-a649-58dca5743843",
   "metadata": {},
   "source": [
    "## Dataframe with the science exposures "
   ]
  },
  {
   "cell_type": "markdown",
   "id": "a1f6a875-0d61-4a8d-be35-5c223eaa0ea9",
   "metadata": {},
   "source": [
    "Set up dataframe to store the list of exposures and their information. Select only SCIENCE exposures "
   ]
  },
  {
   "cell_type": "code",
   "execution_count": 9,
   "id": "ace9dd2f-9322-4c82-9ba1-9970719f47ae",
   "metadata": {
    "execution": {
     "iopub.execute_input": "2023-09-04T23:31:19.711119Z",
     "iopub.status.busy": "2023-09-04T23:31:19.710983Z",
     "iopub.status.idle": "2023-09-04T23:31:19.716327Z",
     "shell.execute_reply": "2023-09-04T23:31:19.715928Z",
     "shell.execute_reply.started": "2023-09-04T23:31:19.711107Z"
    },
    "tags": []
   },
   "outputs": [],
   "source": [
    "df_science = pd.DataFrame(columns=['id', 'obs_id','day_obs', 'seq_num','time_start',\n",
    "                                    'time_end' ,'type', 'target','filter_disp','zenith_angle',\n",
    "                                    'expos','ra','dec','skyangle','science_program'])"
   ]
  },
  {
   "cell_type": "code",
   "execution_count": 10,
   "id": "79a77a13-3645-496d-b651-9d8d9eec02fd",
   "metadata": {
    "execution": {
     "iopub.execute_input": "2023-09-04T23:31:19.717220Z",
     "iopub.status.busy": "2023-09-04T23:31:19.716873Z",
     "iopub.status.idle": "2023-09-04T23:31:55.059511Z",
     "shell.execute_reply": "2023-09-04T23:31:55.059098Z",
     "shell.execute_reply.started": "2023-09-04T23:31:19.717206Z"
    },
    "tags": []
   },
   "outputs": [
    {
     "name": "stdout",
     "output_type": "stream",
     "text": [
      "0\n",
      "exposure:\n",
      "  instrument: 'LATISS'\n",
      "  id: 2022090200006\n",
      "  physical_filter: 'unknown~unknown'\n",
      "  obs_id: 'AT_O_20220902_000006'\n",
      "  exposure_time: 2.0\n",
      "  dark_time: 2.23911\n",
      "  observation_type: 'flat'\n",
      "  observation_reason: 'flat'\n",
      "  day_obs: 20220902\n",
      "  seq_num: 6\n",
      "  seq_start: 6\n",
      "  seq_end: 6\n",
      "  group_name: '2022090200006'\n",
      "  group_id: 2022090200006\n",
      "  target_name: 'UNKNOWN'\n",
      "  science_program: 'unknown'\n",
      "  tracking_ra: None\n",
      "  tracking_dec: None\n",
      "  sky_angle: None\n",
      "  azimuth: None\n",
      "  zenith_angle: None\n",
      "  has_simulated: False\n",
      "  timespan: Timespan(begin=astropy.time.Time('2022-09-02 19:41:26.805005', scale='tai', format='iso'), end=astropy.time.Time('2022-09-02 19:41:29.045000', scale='tai', format='iso'))\n",
      "\t timespan:             [2022-09-02T19:41:26.805005, 2022-09-02T19:41:29.045000)\n",
      "\t timespan.begin:       2022-09-02 19:41:26.805005\n",
      "\t id:                   2022090200006\n",
      "\t day_obs:              20220902\n",
      "\t seq_num:              6\n",
      "\t type-of-observation:  flat\n",
      "\t target:               UNKNOWN\n",
      "-----------------------------------------------------\n",
      "1\n",
      "exposure:\n",
      "  instrument: 'LATISS'\n",
      "  id: 2022090200009\n",
      "  physical_filter: 'unknown~unknown'\n",
      "  obs_id: 'AT_O_20220902_000009'\n",
      "  exposure_time: 2.0\n",
      "  dark_time: 2.23786\n",
      "  observation_type: 'flat'\n",
      "  observation_reason: 'flat'\n",
      "  day_obs: 20220902\n",
      "  seq_num: 9\n",
      "  seq_start: 9\n",
      "  seq_end: 9\n",
      "  group_name: '2022090200009'\n",
      "  group_id: 2022090200009\n",
      "  target_name: 'UNKNOWN'\n",
      "  science_program: 'unknown'\n",
      "  tracking_ra: None\n",
      "  tracking_dec: None\n",
      "  sky_angle: None\n",
      "  azimuth: None\n",
      "  zenith_angle: None\n",
      "  has_simulated: False\n",
      "  timespan: Timespan(begin=astropy.time.Time('2022-09-02 19:42:52.164993', scale='tai', format='iso'), end=astropy.time.Time('2022-09-02 19:42:54.403000', scale='tai', format='iso'))\n",
      "\t timespan:             [2022-09-02T19:42:52.164993, 2022-09-02T19:42:54.403000)\n",
      "\t timespan.begin:       2022-09-02 19:42:52.164993\n",
      "\t id:                   2022090200009\n",
      "\t day_obs:              20220902\n",
      "\t seq_num:              9\n",
      "\t type-of-observation:  flat\n",
      "\t target:               UNKNOWN\n",
      "-----------------------------------------------------\n"
     ]
    }
   ],
   "source": [
    "\n",
    "#where_exps = \"instrument='LATISS' AND exposure.observation_type='science' AND exposure.day_obs={0} AND physical_filter='{1}'\".format(exp_date,physical_filter)\n",
    "where_exps = \"instrument='LATISS' AND exposure.observation_type='flat'\"\n",
    "for i, info in enumerate(registry.queryDimensionRecords('exposure',where=where_exps)):\n",
    "    \n",
    "    #if info.observation_type=='science':\n",
    "    id_ = info.id\n",
    "    obs_id_ = info.obs_id\n",
    "    day_obs_ = info.day_obs\n",
    "    seq_num_ = info.seq_num\n",
    "    timespan_ = info.timespan\n",
    "    timespan_begin_ = pd.to_datetime(timespan_.begin.to_string())\n",
    "    timespan_end_ = pd.to_datetime(timespan_.end.to_string())\n",
    "    timespan_begin_jd_ = timespan_.begin.jd\n",
    "    timespan_begin_mjd_ = timespan_.begin.mjd\n",
    "\n",
    "    observation_type_ = info.observation_type\n",
    "    target_name_ = info.target_name\n",
    "    physical_filter_ = info.physical_filter\n",
    "    zenith_angle_ = info.zenith_angle\n",
    "    exposure_time_ = info.exposure_time\n",
    "    tracking_ra_ = info.tracking_ra\n",
    "    tracking_dec_ = info.tracking_dec\n",
    "    sky_angle_ = info.sky_angle\n",
    "    science_program_ = info.science_program\n",
    "\n",
    "    df_science.loc[i] = [id_, obs_id_, day_obs_, seq_num_,timespan_begin_,timespan_end_ ,observation_type_, \\\n",
    "                         target_name_, physical_filter_, zenith_angle_, exposure_time_,tracking_ra_, \\\n",
    "                         tracking_dec_, sky_angle_, science_program_]\n",
    "\n",
    "    if i < 2:\n",
    "        print(i)\n",
    "        print(info)\n",
    "        print(\"\\t timespan:            \",info.timespan)\n",
    "        print(\"\\t timespan.begin:      \",info.timespan.begin)\n",
    "        print(\"\\t id:                  \",info.id)\n",
    "        print(\"\\t day_obs:             \",info.day_obs)\n",
    "        print(\"\\t seq_num:             \",info.seq_num)\n",
    "        print(\"\\t type-of-observation: \",info.observation_type)\n",
    "        print(\"\\t target:              \",info.target_name)\n",
    "        print(\"-----------------------------------------------------\")\n",
    "    "
   ]
  },
  {
   "cell_type": "code",
   "execution_count": 11,
   "id": "8b970c22-639c-437d-9467-6586bca282ba",
   "metadata": {
    "execution": {
     "iopub.execute_input": "2023-09-04T23:31:55.060605Z",
     "iopub.status.busy": "2023-09-04T23:31:55.060443Z",
     "iopub.status.idle": "2023-09-04T23:31:55.071018Z",
     "shell.execute_reply": "2023-09-04T23:31:55.070696Z",
     "shell.execute_reply.started": "2023-09-04T23:31:55.060591Z"
    },
    "tags": []
   },
   "outputs": [
    {
     "data": {
      "text/html": [
       "<div>\n",
       "<style scoped>\n",
       "    .dataframe tbody tr th:only-of-type {\n",
       "        vertical-align: middle;\n",
       "    }\n",
       "\n",
       "    .dataframe tbody tr th {\n",
       "        vertical-align: top;\n",
       "    }\n",
       "\n",
       "    .dataframe thead th {\n",
       "        text-align: right;\n",
       "    }\n",
       "</style>\n",
       "<table border=\"1\" class=\"dataframe\">\n",
       "  <thead>\n",
       "    <tr style=\"text-align: right;\">\n",
       "      <th></th>\n",
       "      <th>id</th>\n",
       "      <th>obs_id</th>\n",
       "      <th>day_obs</th>\n",
       "      <th>seq_num</th>\n",
       "      <th>time_start</th>\n",
       "      <th>time_end</th>\n",
       "      <th>type</th>\n",
       "      <th>target</th>\n",
       "      <th>filter_disp</th>\n",
       "      <th>zenith_angle</th>\n",
       "      <th>expos</th>\n",
       "      <th>ra</th>\n",
       "      <th>dec</th>\n",
       "      <th>skyangle</th>\n",
       "      <th>science_program</th>\n",
       "    </tr>\n",
       "  </thead>\n",
       "  <tbody>\n",
       "    <tr>\n",
       "      <th>5707</th>\n",
       "      <td>2023083000143</td>\n",
       "      <td>AT_O_20230830_000143</td>\n",
       "      <td>20230830</td>\n",
       "      <td>143</td>\n",
       "      <td>2023-08-30 22:07:31.709989</td>\n",
       "      <td>2023-08-30 22:07:37.947</td>\n",
       "      <td>flat</td>\n",
       "      <td>FlatField position</td>\n",
       "      <td>SDSSi_65mm~empty</td>\n",
       "      <td>51.057706</td>\n",
       "      <td>6.0</td>\n",
       "      <td>229.882642</td>\n",
       "      <td>-81.106739</td>\n",
       "      <td>None</td>\n",
       "      <td>unknown</td>\n",
       "    </tr>\n",
       "    <tr>\n",
       "      <th>5708</th>\n",
       "      <td>2023083000146</td>\n",
       "      <td>AT_O_20230830_000146</td>\n",
       "      <td>20230830</td>\n",
       "      <td>146</td>\n",
       "      <td>2023-08-30 22:07:57.891983</td>\n",
       "      <td>2023-08-30 22:08:04.129</td>\n",
       "      <td>flat</td>\n",
       "      <td>FlatField position</td>\n",
       "      <td>SDSSi_65mm~empty</td>\n",
       "      <td>51.057719</td>\n",
       "      <td>6.0</td>\n",
       "      <td>229.990206</td>\n",
       "      <td>-81.106940</td>\n",
       "      <td>None</td>\n",
       "      <td>unknown</td>\n",
       "    </tr>\n",
       "    <tr>\n",
       "      <th>5709</th>\n",
       "      <td>2023083000149</td>\n",
       "      <td>AT_O_20230830_000149</td>\n",
       "      <td>20230830</td>\n",
       "      <td>149</td>\n",
       "      <td>2023-08-30 22:08:24.085001</td>\n",
       "      <td>2023-08-30 22:08:30.328</td>\n",
       "      <td>flat</td>\n",
       "      <td>FlatField position</td>\n",
       "      <td>SDSSi_65mm~empty</td>\n",
       "      <td>51.057731</td>\n",
       "      <td>6.0</td>\n",
       "      <td>230.097777</td>\n",
       "      <td>-81.107139</td>\n",
       "      <td>None</td>\n",
       "      <td>unknown</td>\n",
       "    </tr>\n",
       "    <tr>\n",
       "      <th>5710</th>\n",
       "      <td>2023083000152</td>\n",
       "      <td>AT_O_20230830_000152</td>\n",
       "      <td>20230830</td>\n",
       "      <td>152</td>\n",
       "      <td>2023-08-30 22:08:50.275002</td>\n",
       "      <td>2023-08-30 22:08:56.506</td>\n",
       "      <td>flat</td>\n",
       "      <td>FlatField position</td>\n",
       "      <td>SDSSi_65mm~empty</td>\n",
       "      <td>51.057746</td>\n",
       "      <td>6.0</td>\n",
       "      <td>230.205363</td>\n",
       "      <td>-81.107341</td>\n",
       "      <td>None</td>\n",
       "      <td>unknown</td>\n",
       "    </tr>\n",
       "    <tr>\n",
       "      <th>5711</th>\n",
       "      <td>2023083000155</td>\n",
       "      <td>AT_O_20230830_000155</td>\n",
       "      <td>20230830</td>\n",
       "      <td>155</td>\n",
       "      <td>2023-08-30 22:09:16.475987</td>\n",
       "      <td>2023-08-30 22:09:22.716</td>\n",
       "      <td>flat</td>\n",
       "      <td>FlatField position</td>\n",
       "      <td>SDSSi_65mm~empty</td>\n",
       "      <td>51.057755</td>\n",
       "      <td>6.0</td>\n",
       "      <td>230.317097</td>\n",
       "      <td>-81.107545</td>\n",
       "      <td>None</td>\n",
       "      <td>unknown</td>\n",
       "    </tr>\n",
       "  </tbody>\n",
       "</table>\n",
       "</div>"
      ],
      "text/plain": [
       "                 id                obs_id   day_obs  seq_num   \n",
       "5707  2023083000143  AT_O_20230830_000143  20230830      143  \\\n",
       "5708  2023083000146  AT_O_20230830_000146  20230830      146   \n",
       "5709  2023083000149  AT_O_20230830_000149  20230830      149   \n",
       "5710  2023083000152  AT_O_20230830_000152  20230830      152   \n",
       "5711  2023083000155  AT_O_20230830_000155  20230830      155   \n",
       "\n",
       "                     time_start                time_end  type   \n",
       "5707 2023-08-30 22:07:31.709989 2023-08-30 22:07:37.947  flat  \\\n",
       "5708 2023-08-30 22:07:57.891983 2023-08-30 22:08:04.129  flat   \n",
       "5709 2023-08-30 22:08:24.085001 2023-08-30 22:08:30.328  flat   \n",
       "5710 2023-08-30 22:08:50.275002 2023-08-30 22:08:56.506  flat   \n",
       "5711 2023-08-30 22:09:16.475987 2023-08-30 22:09:22.716  flat   \n",
       "\n",
       "                  target       filter_disp  zenith_angle  expos          ra   \n",
       "5707  FlatField position  SDSSi_65mm~empty     51.057706    6.0  229.882642  \\\n",
       "5708  FlatField position  SDSSi_65mm~empty     51.057719    6.0  229.990206   \n",
       "5709  FlatField position  SDSSi_65mm~empty     51.057731    6.0  230.097777   \n",
       "5710  FlatField position  SDSSi_65mm~empty     51.057746    6.0  230.205363   \n",
       "5711  FlatField position  SDSSi_65mm~empty     51.057755    6.0  230.317097   \n",
       "\n",
       "            dec skyangle science_program  \n",
       "5707 -81.106739     None         unknown  \n",
       "5708 -81.106940     None         unknown  \n",
       "5709 -81.107139     None         unknown  \n",
       "5710 -81.107341     None         unknown  \n",
       "5711 -81.107545     None         unknown  "
      ]
     },
     "execution_count": 11,
     "metadata": {},
     "output_type": "execute_result"
    }
   ],
   "source": [
    "df_science.tail(5)"
   ]
  },
  {
   "cell_type": "code",
   "execution_count": 12,
   "id": "3a30c142-2a32-482c-aac9-774b550c2c8b",
   "metadata": {
    "execution": {
     "iopub.execute_input": "2023-09-04T23:31:55.071619Z",
     "iopub.status.busy": "2023-09-04T23:31:55.071485Z",
     "iopub.status.idle": "2023-09-04T23:31:55.074149Z",
     "shell.execute_reply": "2023-09-04T23:31:55.073842Z",
     "shell.execute_reply.started": "2023-09-04T23:31:55.071607Z"
    },
    "tags": []
   },
   "outputs": [
    {
     "data": {
      "text/plain": [
       "5712"
      ]
     },
     "execution_count": 12,
     "metadata": {},
     "output_type": "execute_result"
    }
   ],
   "source": [
    "len(df_science)"
   ]
  },
  {
   "cell_type": "code",
   "execution_count": null,
   "id": "86545c70-d14f-48de-b9bb-f376694f69c5",
   "metadata": {},
   "outputs": [],
   "source": []
  },
  {
   "cell_type": "markdown",
   "id": "7459d605-555d-46ca-b071-6b00b3e718a1",
   "metadata": {},
   "source": [
    "Available sources "
   ]
  },
  {
   "cell_type": "code",
   "execution_count": 13,
   "id": "6e801309-7798-4a7f-9c9c-2fa5dee6fbf0",
   "metadata": {
    "execution": {
     "iopub.execute_input": "2023-09-04T23:31:55.074708Z",
     "iopub.status.busy": "2023-09-04T23:31:55.074582Z",
     "iopub.status.idle": "2023-09-04T23:31:55.080612Z",
     "shell.execute_reply": "2023-09-04T23:31:55.080293Z",
     "shell.execute_reply.started": "2023-09-04T23:31:55.074696Z"
    },
    "tags": []
   },
   "outputs": [
    {
     "data": {
      "text/plain": [
       "array(['FlatField position', 'Park position', 'UNKNOWN', 'azel_target',\n",
       "       'slew_icrs'], dtype='<U18')"
      ]
     },
     "execution_count": 13,
     "metadata": {},
     "output_type": "execute_result"
    }
   ],
   "source": [
    "np.unique(np.array(df_science.target.array).astype('str'))"
   ]
  },
  {
   "cell_type": "code",
   "execution_count": null,
   "id": "191e67bd-1f73-4124-b2df-cdeeb86b96b0",
   "metadata": {},
   "outputs": [],
   "source": []
  },
  {
   "cell_type": "markdown",
   "id": "ab80bd4a-7289-4617-9848-adff6566ab96",
   "metadata": {},
   "source": [
    "Available dates "
   ]
  },
  {
   "cell_type": "code",
   "execution_count": 14,
   "id": "30960138-e9ae-4dfa-9c1d-8adca50e9fef",
   "metadata": {
    "execution": {
     "iopub.execute_input": "2023-09-04T23:31:55.081184Z",
     "iopub.status.busy": "2023-09-04T23:31:55.081054Z",
     "iopub.status.idle": "2023-09-04T23:31:55.084079Z",
     "shell.execute_reply": "2023-09-04T23:31:55.083774Z",
     "shell.execute_reply.started": "2023-09-04T23:31:55.081172Z"
    },
    "tags": []
   },
   "outputs": [
    {
     "data": {
      "text/plain": [
       "array([20220902, 20220907, 20220908, 20220912, 20220913, 20220914,\n",
       "       20220922, 20220923, 20220927, 20220928, 20220929, 20221004,\n",
       "       20221005, 20221007, 20221011, 20221012, 20221013, 20221025,\n",
       "       20221026, 20221027, 20221103, 20221104, 20221108, 20221109,\n",
       "       20221110, 20221122, 20221123, 20221124, 20221209, 20221211,\n",
       "       20221212, 20230110, 20230112, 20230116, 20230117, 20230118,\n",
       "       20230119, 20230127, 20230131, 20230201, 20230202, 20230207,\n",
       "       20230209, 20230214, 20230215, 20230216, 20230301, 20230311,\n",
       "       20230314, 20230321, 20230327, 20230404, 20230420, 20230425,\n",
       "       20230427, 20230502, 20230505, 20230509, 20230510, 20230511,\n",
       "       20230522, 20230523, 20230524, 20230525, 20230704, 20230705,\n",
       "       20230706, 20230718, 20230719, 20230720, 20230724, 20230725,\n",
       "       20230726, 20230727, 20230801, 20230802, 20230803, 20230811,\n",
       "       20230816, 20230817, 20230822, 20230823, 20230829, 20230830])"
      ]
     },
     "execution_count": 14,
     "metadata": {},
     "output_type": "execute_result"
    }
   ],
   "source": [
    "np.unique(np.array(df_science.day_obs.array))"
   ]
  },
  {
   "cell_type": "code",
   "execution_count": null,
   "id": "bd90bd95-3ca4-4ffd-bf32-5d3d716d9bba",
   "metadata": {},
   "outputs": [],
   "source": []
  },
  {
   "cell_type": "markdown",
   "id": "b3b96e19-08e1-4248-bd74-a10b6873a405",
   "metadata": {},
   "source": [
    "Available filters "
   ]
  },
  {
   "cell_type": "code",
   "execution_count": 15,
   "id": "97f547d7-5bd4-4e36-b661-519e10275295",
   "metadata": {
    "execution": {
     "iopub.execute_input": "2023-09-04T23:31:55.084635Z",
     "iopub.status.busy": "2023-09-04T23:31:55.084509Z",
     "iopub.status.idle": "2023-09-04T23:31:55.089733Z",
     "shell.execute_reply": "2023-09-04T23:31:55.089424Z",
     "shell.execute_reply.started": "2023-09-04T23:31:55.084623Z"
    },
    "tags": []
   },
   "outputs": [
    {
     "data": {
      "text/plain": [
       "array(['BG40_65mm_1~empty', 'FELH0600~empty', 'OG550_65mm_1~empty',\n",
       "       'OG550_65mm_1~holo4_003', 'SDSSg_65mm~empty', 'SDSSi_65mm~empty',\n",
       "       'SDSSi_65mm~holo4_003', 'SDSSr_65mm~empty', 'SDSSr~empty',\n",
       "       'empty~blue300lpmm_qn1', 'empty~empty', 'empty~holo4_003',\n",
       "       'empty~ronchi170lpmm', 'unknown~unknown'], dtype=object)"
      ]
     },
     "execution_count": 15,
     "metadata": {},
     "output_type": "execute_result"
    }
   ],
   "source": [
    "np.unique(np.array(df_science.filter_disp.array))"
   ]
  },
  {
   "cell_type": "code",
   "execution_count": null,
   "id": "ec68b079-53fd-423b-84f8-a61f42ba40a0",
   "metadata": {},
   "outputs": [],
   "source": []
  },
  {
   "cell_type": "code",
   "execution_count": null,
   "id": "9b8b4198-6d09-407f-ac7f-267a8e48dd3a",
   "metadata": {},
   "outputs": [],
   "source": []
  },
  {
   "cell_type": "code",
   "execution_count": 16,
   "id": "a7aeec63-5943-482d-9a50-b33155f4b3b9",
   "metadata": {
    "execution": {
     "iopub.execute_input": "2023-09-04T23:31:55.090301Z",
     "iopub.status.busy": "2023-09-04T23:31:55.090172Z",
     "iopub.status.idle": "2023-09-04T23:31:55.093697Z",
     "shell.execute_reply": "2023-09-04T23:31:55.093391Z",
     "shell.execute_reply.started": "2023-09-04T23:31:55.090289Z"
    },
    "tags": []
   },
   "outputs": [],
   "source": [
    "# set 'all' to select all values \n",
    "exp_date = 'all'\n",
    "physical_filter = 'empty~empty'\n",
    "source = 'all'"
   ]
  },
  {
   "cell_type": "code",
   "execution_count": 17,
   "id": "587a20a7-f20c-4b69-b719-efa3ad3d3130",
   "metadata": {
    "execution": {
     "iopub.execute_input": "2023-09-04T23:31:55.094257Z",
     "iopub.status.busy": "2023-09-04T23:31:55.094129Z",
     "iopub.status.idle": "2023-09-04T23:31:55.098045Z",
     "shell.execute_reply": "2023-09-04T23:31:55.097739Z",
     "shell.execute_reply.started": "2023-09-04T23:31:55.094246Z"
    },
    "tags": []
   },
   "outputs": [],
   "source": [
    "#df_science[df_science.target==source]\n",
    "#df_science[(df_science.target==source) & (df_science.day_obs==exp_date)]"
   ]
  },
  {
   "cell_type": "code",
   "execution_count": 18,
   "id": "e589774b-67f1-46e3-8ae2-9551f835ed99",
   "metadata": {
    "execution": {
     "iopub.execute_input": "2023-09-04T23:31:55.098621Z",
     "iopub.status.busy": "2023-09-04T23:31:55.098493Z",
     "iopub.status.idle": "2023-09-04T23:31:55.103319Z",
     "shell.execute_reply": "2023-09-04T23:31:55.102978Z",
     "shell.execute_reply.started": "2023-09-04T23:31:55.098609Z"
    },
    "tags": []
   },
   "outputs": [],
   "source": [
    "if exp_date!='all':\n",
    "    df_science = df_science[df_science.day_obs==exp_date]\n",
    "if source!='all':\n",
    "    df_science = df_science[df_science.target==source]\n",
    "if physical_filter!='all':\n",
    "    df_science = df_science[df_science.filter_disp==physical_filter]"
   ]
  },
  {
   "cell_type": "code",
   "execution_count": null,
   "id": "38c90211-14d6-4996-848e-5df535ad3367",
   "metadata": {},
   "outputs": [],
   "source": []
  },
  {
   "cell_type": "code",
   "execution_count": 19,
   "id": "ea4f2100-e4f4-445a-b955-acfe20f10dc0",
   "metadata": {
    "execution": {
     "iopub.execute_input": "2023-09-04T23:31:55.103900Z",
     "iopub.status.busy": "2023-09-04T23:31:55.103769Z",
     "iopub.status.idle": "2023-09-04T23:31:55.113908Z",
     "shell.execute_reply": "2023-09-04T23:31:55.113602Z",
     "shell.execute_reply.started": "2023-09-04T23:31:55.103887Z"
    },
    "tags": []
   },
   "outputs": [
    {
     "data": {
      "text/html": [
       "<div>\n",
       "<style scoped>\n",
       "    .dataframe tbody tr th:only-of-type {\n",
       "        vertical-align: middle;\n",
       "    }\n",
       "\n",
       "    .dataframe tbody tr th {\n",
       "        vertical-align: top;\n",
       "    }\n",
       "\n",
       "    .dataframe thead th {\n",
       "        text-align: right;\n",
       "    }\n",
       "</style>\n",
       "<table border=\"1\" class=\"dataframe\">\n",
       "  <thead>\n",
       "    <tr style=\"text-align: right;\">\n",
       "      <th></th>\n",
       "      <th>id</th>\n",
       "      <th>obs_id</th>\n",
       "      <th>day_obs</th>\n",
       "      <th>seq_num</th>\n",
       "      <th>time_start</th>\n",
       "      <th>time_end</th>\n",
       "      <th>type</th>\n",
       "      <th>target</th>\n",
       "      <th>filter_disp</th>\n",
       "      <th>zenith_angle</th>\n",
       "      <th>expos</th>\n",
       "      <th>ra</th>\n",
       "      <th>dec</th>\n",
       "      <th>skyangle</th>\n",
       "      <th>science_program</th>\n",
       "    </tr>\n",
       "  </thead>\n",
       "  <tbody>\n",
       "    <tr>\n",
       "      <th>5686</th>\n",
       "      <td>2023083000080</td>\n",
       "      <td>AT_O_20230830_000080</td>\n",
       "      <td>20230830</td>\n",
       "      <td>80</td>\n",
       "      <td>2023-08-30 21:48:29.675990</td>\n",
       "      <td>2023-08-30 21:48:30.920</td>\n",
       "      <td>flat</td>\n",
       "      <td>FlatField position</td>\n",
       "      <td>empty~empty</td>\n",
       "      <td>51.056891</td>\n",
       "      <td>1.0</td>\n",
       "      <td>225.159613</td>\n",
       "      <td>-81.098019</td>\n",
       "      <td>None</td>\n",
       "      <td>unknown</td>\n",
       "    </tr>\n",
       "    <tr>\n",
       "      <th>5687</th>\n",
       "      <td>2023083000083</td>\n",
       "      <td>AT_O_20230830_000083</td>\n",
       "      <td>20230830</td>\n",
       "      <td>83</td>\n",
       "      <td>2023-08-30 21:48:40.871986</td>\n",
       "      <td>2023-08-30 21:48:42.112</td>\n",
       "      <td>flat</td>\n",
       "      <td>FlatField position</td>\n",
       "      <td>empty~empty</td>\n",
       "      <td>51.056901</td>\n",
       "      <td>1.0</td>\n",
       "      <td>225.205082</td>\n",
       "      <td>-81.098102</td>\n",
       "      <td>None</td>\n",
       "      <td>unknown</td>\n",
       "    </tr>\n",
       "    <tr>\n",
       "      <th>5688</th>\n",
       "      <td>2023083000086</td>\n",
       "      <td>AT_O_20230830_000086</td>\n",
       "      <td>20230830</td>\n",
       "      <td>86</td>\n",
       "      <td>2023-08-30 21:48:52.074018</td>\n",
       "      <td>2023-08-30 21:48:53.334</td>\n",
       "      <td>flat</td>\n",
       "      <td>FlatField position</td>\n",
       "      <td>empty~empty</td>\n",
       "      <td>51.056914</td>\n",
       "      <td>1.0</td>\n",
       "      <td>225.250600</td>\n",
       "      <td>-81.098189</td>\n",
       "      <td>None</td>\n",
       "      <td>unknown</td>\n",
       "    </tr>\n",
       "    <tr>\n",
       "      <th>5689</th>\n",
       "      <td>2023083000089</td>\n",
       "      <td>AT_O_20230830_000089</td>\n",
       "      <td>20230830</td>\n",
       "      <td>89</td>\n",
       "      <td>2023-08-30 21:49:03.286993</td>\n",
       "      <td>2023-08-30 21:49:04.519</td>\n",
       "      <td>flat</td>\n",
       "      <td>FlatField position</td>\n",
       "      <td>empty~empty</td>\n",
       "      <td>51.056925</td>\n",
       "      <td>1.0</td>\n",
       "      <td>225.296040</td>\n",
       "      <td>-81.098272</td>\n",
       "      <td>None</td>\n",
       "      <td>unknown</td>\n",
       "    </tr>\n",
       "    <tr>\n",
       "      <th>5690</th>\n",
       "      <td>2023083000092</td>\n",
       "      <td>AT_O_20230830_000092</td>\n",
       "      <td>20230830</td>\n",
       "      <td>92</td>\n",
       "      <td>2023-08-30 21:49:14.475988</td>\n",
       "      <td>2023-08-30 21:49:15.716</td>\n",
       "      <td>flat</td>\n",
       "      <td>FlatField position</td>\n",
       "      <td>empty~empty</td>\n",
       "      <td>51.056934</td>\n",
       "      <td>1.0</td>\n",
       "      <td>225.345660</td>\n",
       "      <td>-81.098363</td>\n",
       "      <td>None</td>\n",
       "      <td>unknown</td>\n",
       "    </tr>\n",
       "  </tbody>\n",
       "</table>\n",
       "</div>"
      ],
      "text/plain": [
       "                 id                obs_id   day_obs  seq_num   \n",
       "5686  2023083000080  AT_O_20230830_000080  20230830       80  \\\n",
       "5687  2023083000083  AT_O_20230830_000083  20230830       83   \n",
       "5688  2023083000086  AT_O_20230830_000086  20230830       86   \n",
       "5689  2023083000089  AT_O_20230830_000089  20230830       89   \n",
       "5690  2023083000092  AT_O_20230830_000092  20230830       92   \n",
       "\n",
       "                     time_start                time_end  type   \n",
       "5686 2023-08-30 21:48:29.675990 2023-08-30 21:48:30.920  flat  \\\n",
       "5687 2023-08-30 21:48:40.871986 2023-08-30 21:48:42.112  flat   \n",
       "5688 2023-08-30 21:48:52.074018 2023-08-30 21:48:53.334  flat   \n",
       "5689 2023-08-30 21:49:03.286993 2023-08-30 21:49:04.519  flat   \n",
       "5690 2023-08-30 21:49:14.475988 2023-08-30 21:49:15.716  flat   \n",
       "\n",
       "                  target  filter_disp  zenith_angle  expos          ra   \n",
       "5686  FlatField position  empty~empty     51.056891    1.0  225.159613  \\\n",
       "5687  FlatField position  empty~empty     51.056901    1.0  225.205082   \n",
       "5688  FlatField position  empty~empty     51.056914    1.0  225.250600   \n",
       "5689  FlatField position  empty~empty     51.056925    1.0  225.296040   \n",
       "5690  FlatField position  empty~empty     51.056934    1.0  225.345660   \n",
       "\n",
       "            dec skyangle science_program  \n",
       "5686 -81.098019     None         unknown  \n",
       "5687 -81.098102     None         unknown  \n",
       "5688 -81.098189     None         unknown  \n",
       "5689 -81.098272     None         unknown  \n",
       "5690 -81.098363     None         unknown  "
      ]
     },
     "execution_count": 19,
     "metadata": {},
     "output_type": "execute_result"
    }
   ],
   "source": [
    "df_science.tail(5)"
   ]
  },
  {
   "cell_type": "code",
   "execution_count": 20,
   "id": "23b9c20c-1064-4f5d-b80b-389fd87f5d73",
   "metadata": {
    "execution": {
     "iopub.execute_input": "2023-09-04T23:31:55.114486Z",
     "iopub.status.busy": "2023-09-04T23:31:55.114356Z",
     "iopub.status.idle": "2023-09-04T23:31:55.117074Z",
     "shell.execute_reply": "2023-09-04T23:31:55.116770Z",
     "shell.execute_reply.started": "2023-09-04T23:31:55.114473Z"
    },
    "tags": []
   },
   "outputs": [
    {
     "data": {
      "text/plain": [
       "666"
      ]
     },
     "execution_count": 20,
     "metadata": {},
     "output_type": "execute_result"
    }
   ],
   "source": [
    "len(df_science)"
   ]
  },
  {
   "cell_type": "code",
   "execution_count": null,
   "id": "fbadefb6-20da-42a0-b606-c159d812c77e",
   "metadata": {},
   "outputs": [],
   "source": []
  },
  {
   "cell_type": "code",
   "execution_count": 21,
   "id": "9ccf566b-a8ea-4c6b-bfe0-a6761d37322e",
   "metadata": {
    "execution": {
     "iopub.execute_input": "2023-09-04T23:31:55.119720Z",
     "iopub.status.busy": "2023-09-04T23:31:55.119434Z",
     "iopub.status.idle": "2023-09-04T23:31:55.121689Z",
     "shell.execute_reply": "2023-09-04T23:31:55.121377Z",
     "shell.execute_reply.started": "2023-09-04T23:31:55.119705Z"
    },
    "tags": []
   },
   "outputs": [],
   "source": [
    "if exp_date!='all':\n",
    "    assert df_science.day_obs.unique()[0]==exp_date"
   ]
  },
  {
   "cell_type": "code",
   "execution_count": 22,
   "id": "a7d0bfc6-95e8-43b9-b274-b47c4b7cd668",
   "metadata": {
    "execution": {
     "iopub.execute_input": "2023-09-04T23:31:55.122616Z",
     "iopub.status.busy": "2023-09-04T23:31:55.122223Z",
     "iopub.status.idle": "2023-09-04T23:31:55.126322Z",
     "shell.execute_reply": "2023-09-04T23:31:55.125976Z",
     "shell.execute_reply.started": "2023-09-04T23:31:55.122601Z"
    },
    "tags": []
   },
   "outputs": [],
   "source": [
    "if source!='all':\n",
    "    assert df_science.target.unique()[0]==source"
   ]
  },
  {
   "cell_type": "code",
   "execution_count": 23,
   "id": "cad76444-be54-49a7-b0be-83918730e23c",
   "metadata": {
    "execution": {
     "iopub.execute_input": "2023-09-04T23:31:55.126897Z",
     "iopub.status.busy": "2023-09-04T23:31:55.126768Z",
     "iopub.status.idle": "2023-09-04T23:31:55.130783Z",
     "shell.execute_reply": "2023-09-04T23:31:55.130460Z",
     "shell.execute_reply.started": "2023-09-04T23:31:55.126885Z"
    },
    "tags": []
   },
   "outputs": [],
   "source": [
    "if physical_filter!='all':\n",
    "    assert df_science.filter_disp.unique()[0]==physical_filter"
   ]
  },
  {
   "cell_type": "code",
   "execution_count": null,
   "id": "f2e3dd73-49aa-4855-92e8-525fc02f1cda",
   "metadata": {},
   "outputs": [],
   "source": []
  },
  {
   "cell_type": "code",
   "execution_count": 24,
   "id": "5cc792a3-8e45-48b8-af4b-4475b658f926",
   "metadata": {
    "execution": {
     "iopub.execute_input": "2023-09-04T23:31:55.131398Z",
     "iopub.status.busy": "2023-09-04T23:31:55.131267Z",
     "iopub.status.idle": "2023-09-04T23:31:55.159438Z",
     "shell.execute_reply": "2023-09-04T23:31:55.159105Z",
     "shell.execute_reply.started": "2023-09-04T23:31:55.131386Z"
    },
    "tags": []
   },
   "outputs": [
    {
     "name": "stdout",
     "output_type": "stream",
     "text": [
      "[2022091200073, 2022091400100, 2022091400104, 2022091400105, 2022091400103, 2022091400108, 2022091400109, 2022091400114, 2022091400112, 2022091400101, 2022091400111, 2022091400106, 2022091400107, 2022091400102, 2022091400113, 2022091400115, 2022091400110, 2022092200029, 2022092200028, 2022092200030, 2022092200027, 2022092200072, 2022092200074, 2022092200081, 2022092200083, 2022092200076, 2022092200080, 2022092200084, 2022092200090, 2022092200031, 2022092200077, 2022092200075, 2022092200079, 2022092200073, 2022092200078, 2022092200082, 2022092200087, 2022092200089, 2022092200088, 2022092200086, 2022092200093, 2022092200094, 2022092200096, 2022092200100, 2022092200101, 2022092200102, 2022092200092, 2022092200091, 2022092200095, 2022092200097, 2022092200099, 2022092200103, 2022092200098, 2022092300263, 2022092700190, 2022092700191, 2022092700193, 2022092700194, 2022092700192, 2022092700195, 2022092700196, 2022092700199, 2022092700197, 2022092700198, 2022100400083, 2022101100805, 2022120900004, 2022120900010, 2022120900011, 2022120900012, 2022120900013, 2022120900014, 2022120900015, 2022120900016, 2022120900017, 2022120900018, 2022120900019, 2022120900020, 2022120900021, 2022120900071, 2022120900073, 2022120900075, 2022120900077, 2022120900079, 2022120900081, 2022120900083, 2022120900085, 2022120900087, 2022120900089, 2022120900070, 2022120900072, 2022120900074, 2022120900076, 2022120900078, 2022120900080, 2022120900082, 2022120900084, 2022120900086, 2022120900088, 2022120900090, 2023011200011, 2023011600015, 2023011600014, 2023011600016, 2023011800014, 2023011800016, 2023011800013, 2023011800015, 2023011800017, 2023021400089, 2023021400090, 2023021400091, 2023021400092, 2023021400093, 2023021400094, 2023021400095, 2023021400096, 2023021400097, 2023032100083, 2023032100084, 2023032100085, 2023032100086, 2023032100092, 2023032100093, 2023032100094, 2023032100095, 2023032100096, 2023032100097, 2023032100098, 2023032100099, 2023032100100, 2023032100101, 2023032100102, 2023032100103, 2023032100104, 2023032100105, 2023032100106, 2023032100107, 2023032100108, 2023032100109, 2023032100110, 2023032100111, 2023032100112, 2023032100113, 2023032100114, 2023032100115, 2023032100116, 2023032100117, 2023032100118, 2023032100119, 2023032100120, 2023032100121, 2023032100122, 2023032100123, 2023032100124, 2023032100125, 2023032100126, 2023032100127, 2023032100128, 2023032100129, 2023032100130, 2023032100131, 2023032100132, 2023032100133, 2023032100134, 2023032100135, 2023032100136, 2023032100137, 2023032100138, 2023032100139, 2023032100140, 2023032100141, 2023032100142, 2023032100143, 2023032100144, 2023032100145, 2023032100146, 2023032100147, 2023032100148, 2023032100149, 2023032100150, 2023032100151, 2023032100152, 2023032100153, 2023032100154, 2023032100155, 2023032100156, 2023032100157, 2023032100158, 2023032100159, 2023032100160, 2023032100161, 2023032100162, 2023032100163, 2023032100164, 2023032100165, 2023032100166, 2023032100167, 2023032100168, 2023032100169, 2023032100170, 2023032100171, 2023032100172, 2023032100173, 2023032100174, 2023032100175, 2023032100176, 2023032100177, 2023032100178, 2023032100179, 2023032100180, 2023032100181, 2023032100182, 2023032100183, 2023032100184, 2023032100185, 2023032100186, 2023032100187, 2023032100188, 2023032100189, 2023032100190, 2023032100191, 2023032100192, 2023032100213, 2023032100214, 2023032100215, 2023032100216, 2023032100217, 2023032100218, 2023032100219, 2023032100220, 2023032100221, 2023032100222, 2023032100223, 2023032100224, 2023032100225, 2023032100226, 2023032100227, 2023032100228, 2023032100229, 2023032100230, 2023032100231, 2023032100232, 2023032100233, 2023032100234, 2023032100235, 2023032100236, 2023032100237, 2023032100238, 2023032100239, 2023032100240, 2023032100241, 2023032100242, 2023032100243, 2023032100244, 2023032100245, 2023032100246, 2023032100247, 2023032100248, 2023032100249, 2023032100250, 2023032100251, 2023032100252, 2023032100253, 2023032100254, 2023032100255, 2023032100256, 2023032100257, 2023032100258, 2023032100259, 2023032100260, 2023032100261, 2023032100262, 2023032100263, 2023032100264, 2023032100265, 2023032100266, 2023032100267, 2023032100268, 2023032100269, 2023032100270, 2023032100271, 2023032100272, 2023032100273, 2023032100274, 2023032100275, 2023032100276, 2023032100277, 2023032100278, 2023032100279, 2023032100280, 2023032100281, 2023032100282, 2023032100283, 2023032100284, 2023032100285, 2023032100286, 2023032100287, 2023032100288, 2023032100289, 2023032100290, 2023032100291, 2023032100292, 2023032100293, 2023032100294, 2023032100295, 2023032100296, 2023032100297, 2023032100298, 2023032100299, 2023032100300, 2023032100301, 2023032100302, 2023032100303, 2023032100304, 2023032100305, 2023032100306, 2023032100307, 2023032100308, 2023032100309, 2023032100310, 2023032100311, 2023032100312, 2023032700001, 2023032700002, 2023032700003, 2023032700004, 2023032700005, 2023032700006, 2023032700007, 2023032700008, 2023032700009, 2023032700010, 2023040400095, 2023042000012, 2023042500021, 2023050900166, 2023050900167, 2023050900168, 2023051000040, 2023051000041, 2023051000042, 2023051000043, 2023051000044, 2023052300078, 2023052300079, 2023052300076, 2023052300077, 2023052300084, 2023052300086, 2023052300085, 2023052300087, 2023052300094, 2023052300093, 2023052300095, 2023052300092, 2023052400064, 2023052400063, 2023052400065, 2023052400066, 2023052400067, 2023052400068, 2023052400069, 2023052400071, 2023052400072, 2023052400074, 2023052400076, 2023052400073, 2023052400075, 2023052400070, 2023052400077, 2023052400078, 2023052400079, 2023052400081, 2023052400080, 2023052400082, 2023052500062, 2023052500065, 2023052500064, 2023052500063, 2023052500068, 2023052500067, 2023052500066, 2023052500069, 2023052500071, 2023052500070, 2023052500072, 2023052500073, 2023052500075, 2023052500074, 2023052500077, 2023052500076, 2023070500173, 2023070500174, 2023070500175, 2023070500176, 2023070500177, 2023070500178, 2023070500179, 2023070600076, 2023070600077, 2023070600078, 2023070600079, 2023070600080, 2023070600081, 2023070600082, 2023070600083, 2023070600084, 2023070600085, 2023070600086, 2023072400001, 2023072400197, 2023072400242, 2023072400243, 2023072400244, 2023072400245, 2023072400246, 2023072400247, 2023072400248, 2023072400249, 2023072400250, 2023072400251, 2023072400252, 2023072400253, 2023072400254, 2023072400255, 2023072400256, 2023072400257, 2023072400258, 2023072400259, 2023072400260, 2023072400261, 2023072400262, 2023072500244, 2023072500245, 2023072500246, 2023072500247, 2023072500248, 2023072500249, 2023072500250, 2023072500251, 2023072500252, 2023072500253, 2023072500254, 2023072500255, 2023072500256, 2023072500257, 2023072500258, 2023072500259, 2023072500260, 2023072500261, 2023072500262, 2023072500263, 2023072500264, 2023072600046, 2023072600045, 2023072600047, 2023072600048, 2023072600049, 2023072600050, 2023072600051, 2023072600053, 2023072600052, 2023072600054, 2023072600055, 2023072600056, 2023072600057, 2023072600058, 2023072600059, 2023072600061, 2023072600060, 2023072600062, 2023072600063, 2023072600064, 2023072600065, 2023072700240, 2023072700241, 2023072700242, 2023072700243, 2023072700244, 2023072700245, 2023072700247, 2023072700246, 2023072700248, 2023072700249, 2023072700250, 2023072700251, 2023072700252, 2023072700253, 2023072700254, 2023072700255, 2023072700256, 2023072700257, 2023072700258, 2023072700259, 2023072700260, 2023080100087, 2023080100086, 2023080200244, 2023080200253, 2023080200261, 2023080200246, 2023080200257, 2023080200258, 2023080200245, 2023080200255, 2023080200264, 2023080200262, 2023080200247, 2023080200252, 2023080200254, 2023080200249, 2023080200263, 2023080200250, 2023080200256, 2023080200248, 2023080200260, 2023080200251, 2023080200259, 2023080300246, 2023080300256, 2023080300247, 2023080300257, 2023080300252, 2023080300262, 2023080300248, 2023080300258, 2023080300249, 2023080300259, 2023080300250, 2023080300260, 2023080300263, 2023080300253, 2023080300255, 2023080300245, 2023080300244, 2023080300264, 2023080300254, 2023080300251, 2023080300261, 2023081100293, 2023081100294, 2023081100295, 2023081100296, 2023081100297, 2023081100298, 2023081100299, 2023081100300, 2023081100301, 2023081100302, 2023081100303, 2023081100304, 2023081100305, 2023081100306, 2023081100307, 2023081100308, 2023081100309, 2023081100310, 2023081100311, 2023081100312, 2023081100313, 2023081600242, 2023081600245, 2023081600248, 2023081600251, 2023081600254, 2023081600257, 2023081600260, 2023081600240, 2023081600243, 2023081600246, 2023081600249, 2023081600252, 2023081600255, 2023081600258, 2023081600241, 2023081600244, 2023081600247, 2023081600250, 2023081600253, 2023081600256, 2023081600259, 2023081700097, 2023081700100, 2023081700103, 2023081700106, 2023081700109, 2023081700112, 2023081700115, 2023081700098, 2023081700101, 2023081700104, 2023081700107, 2023081700110, 2023081700113, 2023081700116, 2023081700096, 2023081700099, 2023081700102, 2023081700105, 2023081700108, 2023081700111, 2023081700114, 2023082300097, 2023082300100, 2023082300096, 2023082300099, 2023082300102, 2023082300098, 2023082300101, 2023082300103, 2023082300106, 2023082300109, 2023082300112, 2023082300115, 2023082300104, 2023082300107, 2023082300110, 2023082300113, 2023082300116, 2023082300105, 2023082300108, 2023082300111, 2023082300114, 2023082900136, 2023082900139, 2023082900142, 2023082900145, 2023082900148, 2023082900151, 2023082900154, 2023082900137, 2023082900140, 2023082900143, 2023082900146, 2023082900149, 2023082900152, 2023082900155, 2023082900138, 2023082900141, 2023082900144, 2023082900147, 2023082900150, 2023082900153, 2023082900156, 2023083000072, 2023083000075, 2023083000078, 2023083000081, 2023083000084, 2023083000087, 2023083000090, 2023083000073, 2023083000076, 2023083000079, 2023083000082, 2023083000085, 2023083000088, 2023083000091, 2023083000074, 2023083000077, 2023083000080, 2023083000083, 2023083000086, 2023083000089, 2023083000092]\n"
     ]
    }
   ],
   "source": [
    "exposures_selected = []\n",
    "for index,row in df_science.iterrows():\n",
    "    #exposure_selected_ = row[\"day_obs\"]*100000+row[\"seq_num\"]\n",
    "    exposure_selected_ = row[\"id\"]\n",
    "    #print(exposure_selected_)\n",
    "    exposures_selected.append(exposure_selected_)\n",
    "print(exposures_selected)"
   ]
  },
  {
   "cell_type": "code",
   "execution_count": null,
   "id": "8db1ac7c-2b63-437e-91dc-decc2315b3c4",
   "metadata": {},
   "outputs": [],
   "source": []
  },
  {
   "cell_type": "code",
   "execution_count": null,
   "id": "8dd0f134-450e-43bf-960b-f3d4370be989",
   "metadata": {},
   "outputs": [],
   "source": []
  },
  {
   "cell_type": "code",
   "execution_count": 25,
   "id": "5d8372f3-a3a9-4438-ae52-72702eaf5eeb",
   "metadata": {
    "execution": {
     "iopub.execute_input": "2023-09-04T23:31:55.160020Z",
     "iopub.status.busy": "2023-09-04T23:31:55.159880Z",
     "iopub.status.idle": "2023-09-04T23:31:55.162099Z",
     "shell.execute_reply": "2023-09-04T23:31:55.161747Z",
     "shell.execute_reply.started": "2023-09-04T23:31:55.160008Z"
    },
    "tags": []
   },
   "outputs": [],
   "source": [
    "#exp_test = exposures_selected[0]\n",
    "exp_test = 2023021500279"
   ]
  },
  {
   "cell_type": "code",
   "execution_count": 26,
   "id": "8097bf4d-e0ce-4c2c-94f8-f76dd4830a65",
   "metadata": {
    "execution": {
     "iopub.execute_input": "2023-09-04T23:31:55.162665Z",
     "iopub.status.busy": "2023-09-04T23:31:55.162535Z",
     "iopub.status.idle": "2023-09-04T23:31:55.992654Z",
     "shell.execute_reply": "2023-09-04T23:31:55.992241Z",
     "shell.execute_reply.started": "2023-09-04T23:31:55.162653Z"
    },
    "tags": []
   },
   "outputs": [],
   "source": [
    "raw_img= butler.get('raw', dataId={'exposure': exp_test, 'instrument': 'LATISS', 'detector': 0}, collections = calibCollections)"
   ]
  },
  {
   "cell_type": "code",
   "execution_count": 27,
   "id": "a185f449-050b-44d6-87a2-212b97d97230",
   "metadata": {
    "collapsed": true,
    "execution": {
     "iopub.execute_input": "2023-09-04T23:31:56.288210Z",
     "iopub.status.busy": "2023-09-04T23:31:56.287773Z",
     "iopub.status.idle": "2023-09-04T23:31:56.501129Z",
     "shell.execute_reply": "2023-09-04T23:31:56.500473Z",
     "shell.execute_reply.started": "2023-09-04T23:31:56.288195Z"
    },
    "jupyter": {
     "outputs_hidden": true
    },
    "tags": []
   },
   "outputs": [
    {
     "ename": "LookupError",
     "evalue": "Dataset flat with data ID {instrument: 'LATISS', detector: 0, exposure: 2023021500279, ...} could not be found in collections ['LATISS/defaults', 'LATISS/raw/all', 'LATISS/calib/DM-28636/curated/19700101T000000Z', 'LATISS/calib/DM-28636/curated/20180101T000000Z', 'LATISS/calib/DM-28636/unbounded', 'LATISS/calib/DM-28636', 'LATISS/calib/DM-33875', 'LATISS/calib', 'LATISS/calib/unbounded', 'LATISS/calib/DM-36484/biasGen.20221005a', 'LATISS/calib/DM-36484/biasGen.20221005a/20221006T000101Z', 'LATISS/calib/DM-36484/verifyBias.20221005a', 'LATISS/calib/DM-36484/verifyBias.20221005a/20221006T000747Z', 'LATISS/calib/DM-36484/verifyBias.20221005a/20221006T213237Z', 'LATISS/calib/DM-36484/darkGen.20221005a', 'LATISS/calib/DM-36484/darkGen.20221005a/20221006T222501Z', 'LATISS/calib/DM-36484/darkGen.20221006a', 'LATISS/calib/DM-36484/darkGen.20221006a/20221006T222921Z', 'LATISS/calib/DM-36484/verifyDark.20221006a', 'LATISS/calib/DM-36484/verifyDark.20221006a/20221006T224403Z', 'LATISS/calib/DM-36484/flatGen-SDSSr.20221006a', 'LATISS/calib/DM-36484/flatGen-SDSSr.20221006a/20221006T233657Z', 'LATISS/calib/DM-36484/verifyFlat-SDSSr.20221006a', 'LATISS/calib/DM-36484/verifyFlat-SDSSr.20221006a/20221006T234341Z', 'LATISS/calib/DM-36484/flatGen-SDSSg.20221006a', 'LATISS/calib/DM-36484/flatGen-SDSSg.20221006a/20221007T002703Z', 'LATISS/calib/DM-36484/verifyFlat-SDSSg.20221006a', 'LATISS/calib/DM-36484/verifyFlat-SDSSg.20221006a/20221007T003418Z', 'LATISS/calib/DM-36484/flatGen-SDSSi.20221006a', 'LATISS/calib/DM-36484/flatGen-SDSSi.20221006a/20221007T003732Z', 'LATISS/calib/DM-36484/verifyFlat-SDSSi.20221006a', 'LATISS/calib/DM-36484/verifyFlat-SDSSi.20221006a/20221007T004423Z', 'LATISS/calib/DM-36484/flatGen-SDSSiD.20221006a', 'LATISS/calib/DM-36484/flatGen-SDSSiD.20221006a/20221007T004708Z', 'LATISS/calib/DM-36484/bias.20221005a', 'LATISS/calib/DM-36484/dark.20221006a', 'LATISS/calib/DM-36484/flat-SDSSg.20221006a', 'LATISS/calib/DM-36484/flat-SDSSr.20221006a', 'LATISS/calib/DM-36484/flat-SDSSi.20221006a', 'LATISS/calib/DM-36484/verifyBias.20221005b', 'LATISS/calib/DM-36484/verifyBias.20221005b/20221019T205236Z', 'LATISS/calib/DM-38563/noRGseq/darkGen.20230718.1', 'LATISS/calib/DM-38563/noRGseq/darkGen.20230718.1/20230717T222513Z', 'LATISS/calib/DM-38563/noRGseq/verifyDark.20230718.1', 'LATISS/calib/DM-38563/noRGseq/verifyDark.20230718.1/20230717T222752Z', 'LATISS/calib/DM-38563/noRGseq/verifyBias.20230719.1', 'LATISS/calib/DM-38563/noRGseq/verifyBias.20230719.1/20230719T221427Z', 'LATISS/calib/DM-39635', 'LATISS/calib/DM-39635/unbounded', 'LATISS/calib/DM-39635/curated/19700101T000000Z', 'LATISS/calib/DM-39635/curated/20180101T000000Z', 'LATISS/calib/DM-38563/noRGseq/flatGen-i.20230718.1', 'LATISS/calib/DM-38563/noRGseq/flatGen-i.20230718.1/20230717T223306Z', 'LATISS/calib/DM-39635/curated/20221005T000000Z', 'LATISS/calib/DM-38563/noRGseq/verifyFlat-i.20230718.1', 'LATISS/calib/DM-38563/noRGseq/verifyFlat-i.20230718.1/20230717T223725Z', 'LATISS/calib/DM-38563/noRGseq/flatGen-i.20230719.1', 'LATISS/calib/DM-38563/noRGseq/flatGen-i.20230719.1/20230719T222106Z', 'LATISS/calib/DM-36719/biasGen.20221107a', 'LATISS/calib/DM-36719/biasGen.20221107a/20221107T205127Z', 'LATISS/calib/DM-36719/biasGen.20221107b', 'LATISS/calib/DM-36719/biasGen.20221107b/20221107T213306Z', 'LATISS/calib/DM-36719/verifyBias.20221107b', 'LATISS/calib/DM-36719/verifyBias.20221107b/20221107T220410Z', 'LATISS/calib/DM-36719/darkGen.20221107a', 'LATISS/calib/DM-36719/darkGen.20221107a/20221107T223409Z', 'LATISS/calib/DM-36719/verifyDark.20221107a', 'LATISS/calib/DM-36719/verifyDark.20221107a/20221107T232823Z', 'LATISS/calib/DM-36719/flatGen-SDSSr.20221107a', 'LATISS/calib/DM-36719/flatGen-SDSSr.20221107a/20221107T235401Z', 'LATISS/calib/DM-36719/verifyFlat-SDSSr.20221107a', 'LATISS/calib/DM-36719/verifyFlat-SDSSr.20221107a/20221108T000940Z', 'LATISS/calib/DM-36719/flatGen-SDSSg.20221107a', 'LATISS/calib/DM-36719/flatGen-SDSSg.20221107a/20221108T002737Z', 'LATISS/calib/DM-36719/verifyFlat-SDSSg.20221107a', 'LATISS/calib/DM-36719/verifyFlat-SDSSg.20221107a/20221108T004225Z', 'LATISS/calib/DM-36719/flatGen-SDSSi.20221107a', 'LATISS/calib/DM-36719/flatGen-SDSSi.20221107a/20221108T005202Z', 'LATISS/calib/DM-36719/verifyFlat-SDSSi.20221107a', 'LATISS/calib/DM-36719/verifyFlat-SDSSi.20221107a/20221108T012110Z', 'LATISS/calib/DM-36719/verifyFlat-SDSSi.20221107a/20221108T014950Z', 'LATISS/calib/DM-36719/ptcGen-SDSSr.20221107a', 'LATISS/calib/DM-36719/ptcGen-SDSSr.20221107a/20221108T180421Z', 'LATISS/calib/DM-36719/bias.20221107', 'LATISS/calib/DM-36719/dark.20221107', 'LATISS/calib/DM-36719/flat-SDSSi.20221107', 'LATISS/calib/DM-36719/flat-SDSSr.20221107', 'LATISS/calib/DM-36719/flat-SDSSg.20221107', 'LATISS/calib/DM-36719', 'LATISS/calib/DM-37587/flatGen-BG40.20230113a', 'LATISS/calib/DM-37587/flatGen-BG40.20230113a/20230113T211456Z', 'LATISS/calib/DM-37587/verifyFlat-BG40.20230113a', 'LATISS/calib/DM-37587/verifyFlat-BG40.20230113a/20230113T212641Z', 'LATISS/calib/DM-37587/flatGen-OG550.20230113b', 'LATISS/calib/DM-37587/flatGen-OG550.20230113b/20230113T213305Z', 'LATISS/calib/DM-37587/verifyFlat-OG550.20230113b', 'LATISS/calib/DM-37587/verifyFlat-OG550.20230113b/20230113T213804Z', 'LATISS/calib/DM-37587/flatGen-SDSSr.20230113c', 'LATISS/calib/DM-37587/flatGen-SDSSr.20230113c/20230113T214159Z', 'LATISS/calib/DM-37587/verifyFlat-SDSSr.20230113c', 'LATISS/calib/DM-37587/verifyFlat-SDSSr.20230113c/20230113T220628Z', 'LATISS/calib/DM-37587/flat-BG40.20230113a', 'LATISS/calib/DM-37587/flat-OG550.20230113a', 'LATISS/calib/DM-37587/flat-SDSSr.20230113a', 'LATISS/calib/DM-38946/noRGseq/biasGen.20230428a', 'LATISS/calib/DM-38946/noRGseq/biasGen.20230428a/20230428T210637Z', 'LATISS/calib/DM-40267/flat_stability_test/flat-g.20230814', 'LATISS/calib/DM-40267/flat_stability_test/flat-empty.20230814', 'LATISS/calib/DM-39749/twilight_flats.20230814/flat-i.20230814', 'LATISS/calib/DM-38946/noRGseq/verifyBias.20230428a', 'LATISS/calib/DM-38946/noRGseq/verifyBias.20230428a/20230428T212239Z', 'LATISS/calib/DM-38946/noRGseq/darkGen.20230428a', 'LATISS/calib/DM-38946/noRGseq/darkGen.20230428a/20230428T213424Z', 'LATISS/calib/DM-38946/noRGseq/verifyBias.20230501a', 'LATISS/calib/DM-38946/noRGseq/verifyBias.20230501a/20230501T200433Z', 'LATISS/calib/DM-38946/noRGseq/verifyDark.20230501a', 'LATISS/calib/DM-38946/noRGseq/verifyDark.20230501a/20230501T201119Z', 'LATISS/calib/DM-38946/noRGseq/verifyDark.20230501a/20230501T201842Z', 'LATISS/calib/DM-38946/noRGseq/flatGen-g.20230501a', 'LATISS/calib/DM-38946/noRGseq/flatGen-g.20230501a/20230501T203920Z', 'LATISS/calib/DM-38946/noRGseq/verifyDark.20230428a', 'LATISS/calib/DM-38946/noRGseq/verifyDark.20230428a/20230428T214216Z', 'LATISS/calib/DM-38946/noRGseq/verifyDark.20230501a/20230501T202742Z', 'LATISS/calib/DM-38946/noRGseq/verifyFlat-g.20230501a', 'LATISS/calib/DM-38946/noRGseq/verifyFlat-g.20230501a/20230501T205150Z', 'LATISS/calib/DM-38946/noRGseq/flatGen-g.20230428a', 'LATISS/calib/DM-38946/noRGseq/flatGen-g.20230428a/20230428T215022Z', 'LATISS/calib/DM-38946/noRGseq/flatGen-r.20230501a', 'LATISS/calib/DM-38946/noRGseq/flatGen-r.20230501a/20230501T205909Z', 'LATISS/calib/DM-40267/flat_stability_test/flat-r.20230814', 'LATISS/calib/DM-40267/flat_stability_test', 'LATISS/calib/DM-39749/twilight_flats.20230814/flat-g.20230814', 'LATISS/calib/DM-39749/twilight_flats.20230814/flat-empty.20230814', 'LATISS/calib/DM-38946/noRGseq/verifyFlat-g.20230428a', 'LATISS/calib/DM-38946/noRGseq/verifyFlat-g.20230428a/20230428T215453Z', 'LATISS/calib/DM-38946/noRGseq/verifyFlat-r.20230501a', 'LATISS/calib/DM-38946/noRGseq/verifyFlat-r.20230501a/20230501T210446Z', 'LATISS/calib/DM-38946/noRGseq/bias.20230503', 'LATISS/calib/DM-38946/noRGseq/flat-r.20230503', 'LATISS/calib/DM-40267/flat_stability_test/flat-i.20230814', 'LATISS/calib/DM-39749/twilight_flats.20230814/flat-r.20230814', 'LATISS/calib/DM-39749/twilight_flats.20230814', 'LATISS/calib/DM-38946/noRGseq/flatGen-r.20230428a', 'LATISS/calib/DM-38946/noRGseq/flatGen-r.20230428a/20230428T215855Z', 'LATISS/calib/DM-38946/noRGseq/flatGen-i.20230501a', 'LATISS/calib/DM-38946/noRGseq/flatGen-i.20230501a/20230501T211541Z', 'LATISS/calib/DM-38946/noRGseq/dark.20230503', 'LATISS/calib/DM-38946/noRGseq/flat-i.20230503', 'LATISS/calib/DM-38946/noRGseq/verifyFlat-r.20230428a', 'LATISS/calib/DM-38946/noRGseq/verifyFlat-r.20230428a/20230428T220322Z', 'LATISS/calib/DM-38946/noRGseq/verifyFlat-i.20230501a', 'LATISS/calib/DM-38946/noRGseq/verifyFlat-i.20230501a/20230501T212007Z', 'LATISS/calib/DM-38946/noRGseq/flat-g.20230503', 'LATISS/calib/DM-38946', 'LATISS/calib/DM-38946/noRGseq/flatGen-i.20230428a', 'LATISS/calib/DM-38946/noRGseq/flatGen-i.20230428a/20230428T220722Z', 'LATISS/calib/DM-40267//flatGen-g.20230801a', 'LATISS/calib/DM-40267//flatGen-g.20230801a/20230801T221948Z', 'LATISS/calib/DM-38946/noRGseq/verifyFlat-i.20230428a', 'LATISS/calib/DM-38946/noRGseq/verifyFlat-i.20230428a/20230428T221137Z', 'LATISS/calib/DM-40267//verifyFlat-g.20230801a', 'LATISS/calib/DM-40267//verifyFlat-g.20230801a/20230801T224741Z', 'LATISS/calib/DM-40267//flatGen-r.20230801a', 'LATISS/calib/DM-40267//flatGen-r.20230801a/20230801T230705Z', 'LATISS/calib/DM-40267//verifyFlat-r.20230801a', 'LATISS/calib/DM-40267//verifyFlat-r.20230801a/20230801T233313Z', 'LATISS/calib/DM-40267//flatGen-i.20230801a', 'LATISS/calib/DM-40267//flatGen-i.20230801a/20230802T012446Z', 'LATISS/calib/DM-40267//verifyFlat-i.20230801a', 'LATISS/calib/DM-40267//verifyFlat-i.20230801a/20230802T015009Z', 'LATISS/calib/DM-40267//flatGen-x.20230801a', 'LATISS/calib/DM-40267//flatGen-x.20230801a/20230802T044912Z', 'LATISS/calib/DM-40267//verifyFlat-x.20230801a', 'LATISS/calib/DM-40267//verifyFlat-x.20230801a/20230802T073350Z', 'LATISS/calib/DM-38563/noRGseq/biasGen.20230713.1', 'LATISS/calib/DM-38563/noRGseq/biasGen.20230713.1/20230713T181502Z', 'LATISS/calib/DM-38563/noRGseq/biasGen.20230718.2', 'LATISS/calib/DM-38563/noRGseq/biasGen.20230718.2/20230718T205400Z', 'LATISS/calib/DM-38563/noRGseq/biasGen.20230720.1', 'LATISS/calib/DM-38563/noRGseq/biasGen.20230720.1/20230720T202023Z', 'LATISS/calib/DM-38563/noRGseq/verifyBias.20230720.1', 'LATISS/calib/DM-38563/noRGseq/verifyBias.20230720.1/20230720T202754Z', 'LATISS/calib/DM-38563/noRGseq/darkGen.20230713.1', 'LATISS/calib/DM-38563/noRGseq/darkGen.20230713.1/20230713T182518Z', 'LATISS/calib/DM-38563/noRGseq/verifyBias.20230718.2', 'LATISS/calib/DM-38563/noRGseq/verifyBias.20230718.2/20230718T210318Z', 'LATISS/calib/DM-38563/noRGseq/darkGen.20230720.1', 'LATISS/calib/DM-38563/noRGseq/darkGen.20230720.1/20230720T203430Z', 'LATISS/calib/DM-39749/SDSSg/flatGen-g.20230621a', 'LATISS/calib/DM-39749/SDSSg/flatGen-g.20230621a/20230621T225902Z', 'LATISS/calib/DM-38563/noRGseq/flatGen-i.20230713.1', 'LATISS/calib/DM-38563/noRGseq/flatGen-i.20230713.1/20230713T182756Z', 'LATISS/calib/DM-38563/noRGseq/biasGen.20230717.1', 'LATISS/calib/DM-38563/noRGseq/biasGen.20230717.1/20230717T184634Z', 'LATISS/calib/DM-38563/noRGseq/verifyDark.20230720.1', 'LATISS/calib/DM-38563/noRGseq/verifyDark.20230720.1/20230720T204114Z', 'LATISS/calib/DM-39749/SDSSg/verifyFlat-g.20230621a', 'LATISS/calib/DM-39749/SDSSg/verifyFlat-g.20230621a/20230621T230225Z', 'LATISS/calib/DM-39749/SDSSr/flatGen-r.20230621a', 'LATISS/calib/DM-39749/SDSSr/flatGen-r.20230621a/20230621T230446Z', 'LATISS/calib/DM-38563/noRGseq/verifyBias.20230717.1', 'LATISS/calib/DM-38563/noRGseq/verifyBias.20230717.1/20230717T185547Z', 'LATISS/calib/DM-38563/noRGseq/flatGen-i.20230718.2', 'LATISS/calib/DM-38563/noRGseq/flatGen-i.20230718.2/20230718T211014Z', 'LATISS/calib/DM-38563/noRGseq/flatGen-i.20230720.1', 'LATISS/calib/DM-38563/noRGseq/flatGen-i.20230720.1/20230720T204637Z', 'LATISS/calib/DM-39505/crosstalk.20230602', 'LATISS/calib/DM-39749/SDSSr/verifyFlat-r.20230621a', 'LATISS/calib/DM-39749/SDSSr/verifyFlat-r.20230621a/20230621T230720Z', 'LATISS/calib/DM-38563/noRGseq/darkGen.20230717.1', 'LATISS/calib/DM-38563/noRGseq/darkGen.20230717.1/20230717T190228Z', 'LATISS/calib/DM-40082', 'LATISS/calib/DM-40082/unbounded', 'LATISS/calib/DM-40082/curated/19700101T000000Z', 'LATISS/calib/DM-40082/curated/20221005T000000Z', 'LATISS/calib/DM-40082/curated/20180101T000000Z', 'LATISS/calib/DM-38563/noRGseq/verifyFlat-i.20230720.1', 'LATISS/calib/DM-38563/noRGseq/verifyFlat-i.20230720.1/20230720T205221Z', 'LATISS/calib/DM-39505', 'LATISS/calib/DM-39749/SDSSi/flatGen-i.20230621a', 'LATISS/calib/DM-39749/SDSSi/flatGen-i.20230621a/20230621T230938Z', 'LATISS/calib/DM-38563/noRGseq/verifyDark.20230717.1', 'LATISS/calib/DM-38563/noRGseq/verifyDark.20230717.1/20230717T190530Z', 'LATISS/calib/DM-39749/SDSSi/verifyFlat-i.20230621a', 'LATISS/calib/DM-39749/SDSSi/verifyFlat-i.20230621a/20230621T231200Z', 'LATISS/calib/DM-38563/noRGseq/flatGen-i.20230717.1', 'LATISS/calib/DM-38563/noRGseq/flatGen-i.20230717.1/20230717T191032Z', 'LATISS/calib/DM-39749/empty/flatGen-x.20230621a', 'LATISS/calib/DM-39749/empty/flatGen-x.20230621a/20230621T231502Z', 'LATISS/calib/DM-39749/empty/verifyFlat-x.20230621a', 'LATISS/calib/DM-39749/empty/verifyFlat-x.20230621a/20230621T231721Z', 'LATISS/calib/DM-38563/noRGseq/verifyFlat-i.20230717.1', 'LATISS/calib/DM-38563/noRGseq/verifyFlat-i.20230717.1/20230717T191458Z', 'LATISS/calib/DM-39749/SDSSg/flatGen-g.20230621b', 'LATISS/calib/DM-39749/SDSSg/flatGen-g.20230621b/20230622T000145Z', 'LATISS/calib/DM-39749/SDSSg/verifyFlat-g.20230621b', 'LATISS/calib/DM-39749/SDSSg/verifyFlat-g.20230621b/20230622T000409Z', 'LATISS/calib/DM-38563/noRGseq/biasGen.20230717.2', 'LATISS/calib/DM-38563/noRGseq/biasGen.20230717.2/20230717T210430Z', 'LATISS/calib/DM-39749/SDSSr/flatGen-r.20230621b', 'LATISS/calib/DM-39749/SDSSr/flatGen-r.20230621b/20230622T000616Z', 'LATISS/calib/DM-38563/noRGseq/verifyBias.20230717.2', 'LATISS/calib/DM-38563/noRGseq/verifyBias.20230717.2/20230717T211221Z', 'LATISS/calib/DM-39749/SDSSr/verifyFlat-r.20230621b', 'LATISS/calib/DM-39749/SDSSr/verifyFlat-r.20230621b/20230622T000836Z', 'LATISS/calib/DM-38563/noRGseq/darkGen.20230717.2', 'LATISS/calib/DM-38563/noRGseq/darkGen.20230717.2/20230717T211927Z', 'LATISS/calib/DM-39749/SDSSi/flatGen-i.20230621b', 'LATISS/calib/DM-39749/SDSSi/flatGen-i.20230621b/20230622T001025Z', 'LATISS/calib/DM-38563/noRGseq/verifyDark.20230717.2', 'LATISS/calib/DM-38563/noRGseq/verifyDark.20230717.2/20230717T212237Z', 'LATISS/calib/DM-39749/SDSSi/verifyFlat-i.20230621b', 'LATISS/calib/DM-39749/SDSSi/verifyFlat-i.20230621b/20230622T001322Z', 'LATISS/calib/DM-38563/noRGseq/flatGen-i.20230717.2', 'LATISS/calib/DM-38563/noRGseq/flatGen-i.20230717.2/20230717T212756Z', 'LATISS/calib/DM-38563/noRGseq/biasGen.20230719.1', 'LATISS/calib/DM-38563/noRGseq/biasGen.20230719.1/20230719T220646Z', 'LATISS/calib/DM-39749/empty/flatGen-x.20230621b', 'LATISS/calib/DM-39749/empty/flatGen-x.20230621b/20230622T001530Z', 'LATISS/calib/DM-38563/noRGseq/verifyFlat-i.20230717.2', 'LATISS/calib/DM-38563/noRGseq/verifyFlat-i.20230717.2/20230717T213216Z', 'LATISS/calib/DM-39749/empty/verifyFlat-x.20230621b', 'LATISS/calib/DM-39749/empty/verifyFlat-x.20230621b/20230622T001938Z', 'LATISS/calib/DM-38563/noRGseq/biasGen.20230718.1', 'LATISS/calib/DM-38563/noRGseq/biasGen.20230718.1/20230717T221007Z', 'LATISS/calib/DM-38563/noRGseq/verifyBias.20230718.1', 'LATISS/calib/DM-38563/noRGseq/verifyBias.20230718.1/20230717T221813Z'].",
     "output_type": "error",
     "traceback": [
      "\u001b[0;31m---------------------------------------------------------------------------\u001b[0m",
      "\u001b[0;31mLookupError\u001b[0m                               Traceback (most recent call last)",
      "Input \u001b[0;32mIn [27]\u001b[0m, in \u001b[0;36m<cell line: 1>\u001b[0;34m()\u001b[0m\n\u001b[0;32m----> 1\u001b[0m flat_img\u001b[38;5;241m=\u001b[39m \u001b[43mbutler\u001b[49m\u001b[38;5;241;43m.\u001b[39;49m\u001b[43mget\u001b[49m\u001b[43m(\u001b[49m\u001b[38;5;124;43m'\u001b[39;49m\u001b[38;5;124;43mflat\u001b[39;49m\u001b[38;5;124;43m'\u001b[39;49m\u001b[43m,\u001b[49m\u001b[43m \u001b[49m\u001b[43mdataId\u001b[49m\u001b[38;5;241;43m=\u001b[39;49m\u001b[43m{\u001b[49m\u001b[38;5;124;43m'\u001b[39;49m\u001b[38;5;124;43mexposure\u001b[39;49m\u001b[38;5;124;43m'\u001b[39;49m\u001b[43m:\u001b[49m\u001b[43m \u001b[49m\u001b[43mexp_test\u001b[49m\u001b[43m,\u001b[49m\u001b[43m \u001b[49m\u001b[38;5;124;43m'\u001b[39;49m\u001b[38;5;124;43minstrument\u001b[39;49m\u001b[38;5;124;43m'\u001b[39;49m\u001b[43m:\u001b[49m\u001b[43m \u001b[49m\u001b[38;5;124;43m'\u001b[39;49m\u001b[38;5;124;43mLATISS\u001b[39;49m\u001b[38;5;124;43m'\u001b[39;49m\u001b[43m,\u001b[49m\u001b[43m \u001b[49m\u001b[38;5;124;43m'\u001b[39;49m\u001b[38;5;124;43mdetector\u001b[39;49m\u001b[38;5;124;43m'\u001b[39;49m\u001b[43m:\u001b[49m\u001b[43m \u001b[49m\u001b[38;5;241;43m0\u001b[39;49m\u001b[43m}\u001b[49m\u001b[43m,\u001b[49m\u001b[43m \u001b[49m\u001b[43mcollections\u001b[49m\u001b[43m \u001b[49m\u001b[38;5;241;43m=\u001b[39;49m\u001b[43m \u001b[49m\u001b[43mcalibCollections\u001b[49m\u001b[43m)\u001b[49m\n",
      "File \u001b[0;32m/opt/lsst/software/stack/stack/miniconda3-py38_4.9.2-6.0.0/Linux64/daf_butler/g98bc2251b0+353af21826/python/lsst/daf/butler/_butler.py:1448\u001b[0m, in \u001b[0;36mButler.get\u001b[0;34m(self, datasetRefOrType, dataId, parameters, collections, storageClass, **kwargs)\u001b[0m\n\u001b[1;32m   1394\u001b[0m \u001b[38;5;250m\u001b[39m\u001b[38;5;124;03m\"\"\"Retrieve a stored dataset.\u001b[39;00m\n\u001b[1;32m   1395\u001b[0m \n\u001b[1;32m   1396\u001b[0m \u001b[38;5;124;03mParameters\u001b[39;00m\n\u001b[0;32m   (...)\u001b[0m\n\u001b[1;32m   1445\u001b[0m \u001b[38;5;124;03m``exposure`` is a temporal dimension.\u001b[39;00m\n\u001b[1;32m   1446\u001b[0m \u001b[38;5;124;03m\"\"\"\u001b[39;00m\n\u001b[1;32m   1447\u001b[0m log\u001b[38;5;241m.\u001b[39mdebug(\u001b[38;5;124m\"\u001b[39m\u001b[38;5;124mButler get: \u001b[39m\u001b[38;5;132;01m%s\u001b[39;00m\u001b[38;5;124m, dataId=\u001b[39m\u001b[38;5;132;01m%s\u001b[39;00m\u001b[38;5;124m, parameters=\u001b[39m\u001b[38;5;132;01m%s\u001b[39;00m\u001b[38;5;124m\"\u001b[39m, datasetRefOrType, dataId, parameters)\n\u001b[0;32m-> 1448\u001b[0m ref \u001b[38;5;241m=\u001b[39m \u001b[38;5;28;43mself\u001b[39;49m\u001b[38;5;241;43m.\u001b[39;49m\u001b[43m_findDatasetRef\u001b[49m\u001b[43m(\u001b[49m\u001b[43mdatasetRefOrType\u001b[49m\u001b[43m,\u001b[49m\u001b[43m \u001b[49m\u001b[43mdataId\u001b[49m\u001b[43m,\u001b[49m\u001b[43m \u001b[49m\u001b[43mcollections\u001b[49m\u001b[38;5;241;43m=\u001b[39;49m\u001b[43mcollections\u001b[49m\u001b[43m,\u001b[49m\u001b[43m \u001b[49m\u001b[38;5;241;43m*\u001b[39;49m\u001b[38;5;241;43m*\u001b[39;49m\u001b[43mkwargs\u001b[49m\u001b[43m)\u001b[49m\n\u001b[1;32m   1449\u001b[0m \u001b[38;5;28;01mreturn\u001b[39;00m \u001b[38;5;28mself\u001b[39m\u001b[38;5;241m.\u001b[39mdatastore\u001b[38;5;241m.\u001b[39mget(ref, parameters\u001b[38;5;241m=\u001b[39mparameters, storageClass\u001b[38;5;241m=\u001b[39mstorageClass)\n",
      "File \u001b[0;32m/opt/lsst/software/stack/stack/miniconda3-py38_4.9.2-6.0.0/Linux64/daf_butler/g98bc2251b0+353af21826/python/lsst/daf/butler/_butler.py:1104\u001b[0m, in \u001b[0;36mButler._findDatasetRef\u001b[0;34m(self, datasetRefOrType, dataId, collections, allowUnresolved, **kwargs)\u001b[0m\n\u001b[1;32m   1102\u001b[0m         \u001b[38;5;28;01mif\u001b[39;00m collections \u001b[38;5;129;01mis\u001b[39;00m \u001b[38;5;28;01mNone\u001b[39;00m:\n\u001b[1;32m   1103\u001b[0m             collections \u001b[38;5;241m=\u001b[39m \u001b[38;5;28mself\u001b[39m\u001b[38;5;241m.\u001b[39mregistry\u001b[38;5;241m.\u001b[39mdefaults\u001b[38;5;241m.\u001b[39mcollections\n\u001b[0;32m-> 1104\u001b[0m         \u001b[38;5;28;01mraise\u001b[39;00m \u001b[38;5;167;01mLookupError\u001b[39;00m(\n\u001b[1;32m   1105\u001b[0m             \u001b[38;5;124mf\u001b[39m\u001b[38;5;124m\"\u001b[39m\u001b[38;5;124mDataset \u001b[39m\u001b[38;5;132;01m{\u001b[39;00mdatasetType\u001b[38;5;241m.\u001b[39mname\u001b[38;5;132;01m}\u001b[39;00m\u001b[38;5;124m with data ID \u001b[39m\u001b[38;5;132;01m{\u001b[39;00mdataId\u001b[38;5;132;01m}\u001b[39;00m\u001b[38;5;124m \u001b[39m\u001b[38;5;124m\"\u001b[39m\n\u001b[1;32m   1106\u001b[0m             \u001b[38;5;124mf\u001b[39m\u001b[38;5;124m\"\u001b[39m\u001b[38;5;124mcould not be found in collections \u001b[39m\u001b[38;5;132;01m{\u001b[39;00mcollections\u001b[38;5;132;01m}\u001b[39;00m\u001b[38;5;124m.\u001b[39m\u001b[38;5;124m\"\u001b[39m\n\u001b[1;32m   1107\u001b[0m         )\n\u001b[1;32m   1108\u001b[0m \u001b[38;5;28;01mif\u001b[39;00m idNumber \u001b[38;5;129;01mis\u001b[39;00m \u001b[38;5;129;01mnot\u001b[39;00m \u001b[38;5;28;01mNone\u001b[39;00m \u001b[38;5;129;01mand\u001b[39;00m idNumber \u001b[38;5;241m!=\u001b[39m ref\u001b[38;5;241m.\u001b[39mid:\n\u001b[1;32m   1109\u001b[0m     \u001b[38;5;28;01mif\u001b[39;00m collections \u001b[38;5;129;01mis\u001b[39;00m \u001b[38;5;28;01mNone\u001b[39;00m:\n",
      "\u001b[0;31mLookupError\u001b[0m: Dataset flat with data ID {instrument: 'LATISS', detector: 0, exposure: 2023021500279, ...} could not be found in collections ['LATISS/defaults', 'LATISS/raw/all', 'LATISS/calib/DM-28636/curated/19700101T000000Z', 'LATISS/calib/DM-28636/curated/20180101T000000Z', 'LATISS/calib/DM-28636/unbounded', 'LATISS/calib/DM-28636', 'LATISS/calib/DM-33875', 'LATISS/calib', 'LATISS/calib/unbounded', 'LATISS/calib/DM-36484/biasGen.20221005a', 'LATISS/calib/DM-36484/biasGen.20221005a/20221006T000101Z', 'LATISS/calib/DM-36484/verifyBias.20221005a', 'LATISS/calib/DM-36484/verifyBias.20221005a/20221006T000747Z', 'LATISS/calib/DM-36484/verifyBias.20221005a/20221006T213237Z', 'LATISS/calib/DM-36484/darkGen.20221005a', 'LATISS/calib/DM-36484/darkGen.20221005a/20221006T222501Z', 'LATISS/calib/DM-36484/darkGen.20221006a', 'LATISS/calib/DM-36484/darkGen.20221006a/20221006T222921Z', 'LATISS/calib/DM-36484/verifyDark.20221006a', 'LATISS/calib/DM-36484/verifyDark.20221006a/20221006T224403Z', 'LATISS/calib/DM-36484/flatGen-SDSSr.20221006a', 'LATISS/calib/DM-36484/flatGen-SDSSr.20221006a/20221006T233657Z', 'LATISS/calib/DM-36484/verifyFlat-SDSSr.20221006a', 'LATISS/calib/DM-36484/verifyFlat-SDSSr.20221006a/20221006T234341Z', 'LATISS/calib/DM-36484/flatGen-SDSSg.20221006a', 'LATISS/calib/DM-36484/flatGen-SDSSg.20221006a/20221007T002703Z', 'LATISS/calib/DM-36484/verifyFlat-SDSSg.20221006a', 'LATISS/calib/DM-36484/verifyFlat-SDSSg.20221006a/20221007T003418Z', 'LATISS/calib/DM-36484/flatGen-SDSSi.20221006a', 'LATISS/calib/DM-36484/flatGen-SDSSi.20221006a/20221007T003732Z', 'LATISS/calib/DM-36484/verifyFlat-SDSSi.20221006a', 'LATISS/calib/DM-36484/verifyFlat-SDSSi.20221006a/20221007T004423Z', 'LATISS/calib/DM-36484/flatGen-SDSSiD.20221006a', 'LATISS/calib/DM-36484/flatGen-SDSSiD.20221006a/20221007T004708Z', 'LATISS/calib/DM-36484/bias.20221005a', 'LATISS/calib/DM-36484/dark.20221006a', 'LATISS/calib/DM-36484/flat-SDSSg.20221006a', 'LATISS/calib/DM-36484/flat-SDSSr.20221006a', 'LATISS/calib/DM-36484/flat-SDSSi.20221006a', 'LATISS/calib/DM-36484/verifyBias.20221005b', 'LATISS/calib/DM-36484/verifyBias.20221005b/20221019T205236Z', 'LATISS/calib/DM-38563/noRGseq/darkGen.20230718.1', 'LATISS/calib/DM-38563/noRGseq/darkGen.20230718.1/20230717T222513Z', 'LATISS/calib/DM-38563/noRGseq/verifyDark.20230718.1', 'LATISS/calib/DM-38563/noRGseq/verifyDark.20230718.1/20230717T222752Z', 'LATISS/calib/DM-38563/noRGseq/verifyBias.20230719.1', 'LATISS/calib/DM-38563/noRGseq/verifyBias.20230719.1/20230719T221427Z', 'LATISS/calib/DM-39635', 'LATISS/calib/DM-39635/unbounded', 'LATISS/calib/DM-39635/curated/19700101T000000Z', 'LATISS/calib/DM-39635/curated/20180101T000000Z', 'LATISS/calib/DM-38563/noRGseq/flatGen-i.20230718.1', 'LATISS/calib/DM-38563/noRGseq/flatGen-i.20230718.1/20230717T223306Z', 'LATISS/calib/DM-39635/curated/20221005T000000Z', 'LATISS/calib/DM-38563/noRGseq/verifyFlat-i.20230718.1', 'LATISS/calib/DM-38563/noRGseq/verifyFlat-i.20230718.1/20230717T223725Z', 'LATISS/calib/DM-38563/noRGseq/flatGen-i.20230719.1', 'LATISS/calib/DM-38563/noRGseq/flatGen-i.20230719.1/20230719T222106Z', 'LATISS/calib/DM-36719/biasGen.20221107a', 'LATISS/calib/DM-36719/biasGen.20221107a/20221107T205127Z', 'LATISS/calib/DM-36719/biasGen.20221107b', 'LATISS/calib/DM-36719/biasGen.20221107b/20221107T213306Z', 'LATISS/calib/DM-36719/verifyBias.20221107b', 'LATISS/calib/DM-36719/verifyBias.20221107b/20221107T220410Z', 'LATISS/calib/DM-36719/darkGen.20221107a', 'LATISS/calib/DM-36719/darkGen.20221107a/20221107T223409Z', 'LATISS/calib/DM-36719/verifyDark.20221107a', 'LATISS/calib/DM-36719/verifyDark.20221107a/20221107T232823Z', 'LATISS/calib/DM-36719/flatGen-SDSSr.20221107a', 'LATISS/calib/DM-36719/flatGen-SDSSr.20221107a/20221107T235401Z', 'LATISS/calib/DM-36719/verifyFlat-SDSSr.20221107a', 'LATISS/calib/DM-36719/verifyFlat-SDSSr.20221107a/20221108T000940Z', 'LATISS/calib/DM-36719/flatGen-SDSSg.20221107a', 'LATISS/calib/DM-36719/flatGen-SDSSg.20221107a/20221108T002737Z', 'LATISS/calib/DM-36719/verifyFlat-SDSSg.20221107a', 'LATISS/calib/DM-36719/verifyFlat-SDSSg.20221107a/20221108T004225Z', 'LATISS/calib/DM-36719/flatGen-SDSSi.20221107a', 'LATISS/calib/DM-36719/flatGen-SDSSi.20221107a/20221108T005202Z', 'LATISS/calib/DM-36719/verifyFlat-SDSSi.20221107a', 'LATISS/calib/DM-36719/verifyFlat-SDSSi.20221107a/20221108T012110Z', 'LATISS/calib/DM-36719/verifyFlat-SDSSi.20221107a/20221108T014950Z', 'LATISS/calib/DM-36719/ptcGen-SDSSr.20221107a', 'LATISS/calib/DM-36719/ptcGen-SDSSr.20221107a/20221108T180421Z', 'LATISS/calib/DM-36719/bias.20221107', 'LATISS/calib/DM-36719/dark.20221107', 'LATISS/calib/DM-36719/flat-SDSSi.20221107', 'LATISS/calib/DM-36719/flat-SDSSr.20221107', 'LATISS/calib/DM-36719/flat-SDSSg.20221107', 'LATISS/calib/DM-36719', 'LATISS/calib/DM-37587/flatGen-BG40.20230113a', 'LATISS/calib/DM-37587/flatGen-BG40.20230113a/20230113T211456Z', 'LATISS/calib/DM-37587/verifyFlat-BG40.20230113a', 'LATISS/calib/DM-37587/verifyFlat-BG40.20230113a/20230113T212641Z', 'LATISS/calib/DM-37587/flatGen-OG550.20230113b', 'LATISS/calib/DM-37587/flatGen-OG550.20230113b/20230113T213305Z', 'LATISS/calib/DM-37587/verifyFlat-OG550.20230113b', 'LATISS/calib/DM-37587/verifyFlat-OG550.20230113b/20230113T213804Z', 'LATISS/calib/DM-37587/flatGen-SDSSr.20230113c', 'LATISS/calib/DM-37587/flatGen-SDSSr.20230113c/20230113T214159Z', 'LATISS/calib/DM-37587/verifyFlat-SDSSr.20230113c', 'LATISS/calib/DM-37587/verifyFlat-SDSSr.20230113c/20230113T220628Z', 'LATISS/calib/DM-37587/flat-BG40.20230113a', 'LATISS/calib/DM-37587/flat-OG550.20230113a', 'LATISS/calib/DM-37587/flat-SDSSr.20230113a', 'LATISS/calib/DM-38946/noRGseq/biasGen.20230428a', 'LATISS/calib/DM-38946/noRGseq/biasGen.20230428a/20230428T210637Z', 'LATISS/calib/DM-40267/flat_stability_test/flat-g.20230814', 'LATISS/calib/DM-40267/flat_stability_test/flat-empty.20230814', 'LATISS/calib/DM-39749/twilight_flats.20230814/flat-i.20230814', 'LATISS/calib/DM-38946/noRGseq/verifyBias.20230428a', 'LATISS/calib/DM-38946/noRGseq/verifyBias.20230428a/20230428T212239Z', 'LATISS/calib/DM-38946/noRGseq/darkGen.20230428a', 'LATISS/calib/DM-38946/noRGseq/darkGen.20230428a/20230428T213424Z', 'LATISS/calib/DM-38946/noRGseq/verifyBias.20230501a', 'LATISS/calib/DM-38946/noRGseq/verifyBias.20230501a/20230501T200433Z', 'LATISS/calib/DM-38946/noRGseq/verifyDark.20230501a', 'LATISS/calib/DM-38946/noRGseq/verifyDark.20230501a/20230501T201119Z', 'LATISS/calib/DM-38946/noRGseq/verifyDark.20230501a/20230501T201842Z', 'LATISS/calib/DM-38946/noRGseq/flatGen-g.20230501a', 'LATISS/calib/DM-38946/noRGseq/flatGen-g.20230501a/20230501T203920Z', 'LATISS/calib/DM-38946/noRGseq/verifyDark.20230428a', 'LATISS/calib/DM-38946/noRGseq/verifyDark.20230428a/20230428T214216Z', 'LATISS/calib/DM-38946/noRGseq/verifyDark.20230501a/20230501T202742Z', 'LATISS/calib/DM-38946/noRGseq/verifyFlat-g.20230501a', 'LATISS/calib/DM-38946/noRGseq/verifyFlat-g.20230501a/20230501T205150Z', 'LATISS/calib/DM-38946/noRGseq/flatGen-g.20230428a', 'LATISS/calib/DM-38946/noRGseq/flatGen-g.20230428a/20230428T215022Z', 'LATISS/calib/DM-38946/noRGseq/flatGen-r.20230501a', 'LATISS/calib/DM-38946/noRGseq/flatGen-r.20230501a/20230501T205909Z', 'LATISS/calib/DM-40267/flat_stability_test/flat-r.20230814', 'LATISS/calib/DM-40267/flat_stability_test', 'LATISS/calib/DM-39749/twilight_flats.20230814/flat-g.20230814', 'LATISS/calib/DM-39749/twilight_flats.20230814/flat-empty.20230814', 'LATISS/calib/DM-38946/noRGseq/verifyFlat-g.20230428a', 'LATISS/calib/DM-38946/noRGseq/verifyFlat-g.20230428a/20230428T215453Z', 'LATISS/calib/DM-38946/noRGseq/verifyFlat-r.20230501a', 'LATISS/calib/DM-38946/noRGseq/verifyFlat-r.20230501a/20230501T210446Z', 'LATISS/calib/DM-38946/noRGseq/bias.20230503', 'LATISS/calib/DM-38946/noRGseq/flat-r.20230503', 'LATISS/calib/DM-40267/flat_stability_test/flat-i.20230814', 'LATISS/calib/DM-39749/twilight_flats.20230814/flat-r.20230814', 'LATISS/calib/DM-39749/twilight_flats.20230814', 'LATISS/calib/DM-38946/noRGseq/flatGen-r.20230428a', 'LATISS/calib/DM-38946/noRGseq/flatGen-r.20230428a/20230428T215855Z', 'LATISS/calib/DM-38946/noRGseq/flatGen-i.20230501a', 'LATISS/calib/DM-38946/noRGseq/flatGen-i.20230501a/20230501T211541Z', 'LATISS/calib/DM-38946/noRGseq/dark.20230503', 'LATISS/calib/DM-38946/noRGseq/flat-i.20230503', 'LATISS/calib/DM-38946/noRGseq/verifyFlat-r.20230428a', 'LATISS/calib/DM-38946/noRGseq/verifyFlat-r.20230428a/20230428T220322Z', 'LATISS/calib/DM-38946/noRGseq/verifyFlat-i.20230501a', 'LATISS/calib/DM-38946/noRGseq/verifyFlat-i.20230501a/20230501T212007Z', 'LATISS/calib/DM-38946/noRGseq/flat-g.20230503', 'LATISS/calib/DM-38946', 'LATISS/calib/DM-38946/noRGseq/flatGen-i.20230428a', 'LATISS/calib/DM-38946/noRGseq/flatGen-i.20230428a/20230428T220722Z', 'LATISS/calib/DM-40267//flatGen-g.20230801a', 'LATISS/calib/DM-40267//flatGen-g.20230801a/20230801T221948Z', 'LATISS/calib/DM-38946/noRGseq/verifyFlat-i.20230428a', 'LATISS/calib/DM-38946/noRGseq/verifyFlat-i.20230428a/20230428T221137Z', 'LATISS/calib/DM-40267//verifyFlat-g.20230801a', 'LATISS/calib/DM-40267//verifyFlat-g.20230801a/20230801T224741Z', 'LATISS/calib/DM-40267//flatGen-r.20230801a', 'LATISS/calib/DM-40267//flatGen-r.20230801a/20230801T230705Z', 'LATISS/calib/DM-40267//verifyFlat-r.20230801a', 'LATISS/calib/DM-40267//verifyFlat-r.20230801a/20230801T233313Z', 'LATISS/calib/DM-40267//flatGen-i.20230801a', 'LATISS/calib/DM-40267//flatGen-i.20230801a/20230802T012446Z', 'LATISS/calib/DM-40267//verifyFlat-i.20230801a', 'LATISS/calib/DM-40267//verifyFlat-i.20230801a/20230802T015009Z', 'LATISS/calib/DM-40267//flatGen-x.20230801a', 'LATISS/calib/DM-40267//flatGen-x.20230801a/20230802T044912Z', 'LATISS/calib/DM-40267//verifyFlat-x.20230801a', 'LATISS/calib/DM-40267//verifyFlat-x.20230801a/20230802T073350Z', 'LATISS/calib/DM-38563/noRGseq/biasGen.20230713.1', 'LATISS/calib/DM-38563/noRGseq/biasGen.20230713.1/20230713T181502Z', 'LATISS/calib/DM-38563/noRGseq/biasGen.20230718.2', 'LATISS/calib/DM-38563/noRGseq/biasGen.20230718.2/20230718T205400Z', 'LATISS/calib/DM-38563/noRGseq/biasGen.20230720.1', 'LATISS/calib/DM-38563/noRGseq/biasGen.20230720.1/20230720T202023Z', 'LATISS/calib/DM-38563/noRGseq/verifyBias.20230720.1', 'LATISS/calib/DM-38563/noRGseq/verifyBias.20230720.1/20230720T202754Z', 'LATISS/calib/DM-38563/noRGseq/darkGen.20230713.1', 'LATISS/calib/DM-38563/noRGseq/darkGen.20230713.1/20230713T182518Z', 'LATISS/calib/DM-38563/noRGseq/verifyBias.20230718.2', 'LATISS/calib/DM-38563/noRGseq/verifyBias.20230718.2/20230718T210318Z', 'LATISS/calib/DM-38563/noRGseq/darkGen.20230720.1', 'LATISS/calib/DM-38563/noRGseq/darkGen.20230720.1/20230720T203430Z', 'LATISS/calib/DM-39749/SDSSg/flatGen-g.20230621a', 'LATISS/calib/DM-39749/SDSSg/flatGen-g.20230621a/20230621T225902Z', 'LATISS/calib/DM-38563/noRGseq/flatGen-i.20230713.1', 'LATISS/calib/DM-38563/noRGseq/flatGen-i.20230713.1/20230713T182756Z', 'LATISS/calib/DM-38563/noRGseq/biasGen.20230717.1', 'LATISS/calib/DM-38563/noRGseq/biasGen.20230717.1/20230717T184634Z', 'LATISS/calib/DM-38563/noRGseq/verifyDark.20230720.1', 'LATISS/calib/DM-38563/noRGseq/verifyDark.20230720.1/20230720T204114Z', 'LATISS/calib/DM-39749/SDSSg/verifyFlat-g.20230621a', 'LATISS/calib/DM-39749/SDSSg/verifyFlat-g.20230621a/20230621T230225Z', 'LATISS/calib/DM-39749/SDSSr/flatGen-r.20230621a', 'LATISS/calib/DM-39749/SDSSr/flatGen-r.20230621a/20230621T230446Z', 'LATISS/calib/DM-38563/noRGseq/verifyBias.20230717.1', 'LATISS/calib/DM-38563/noRGseq/verifyBias.20230717.1/20230717T185547Z', 'LATISS/calib/DM-38563/noRGseq/flatGen-i.20230718.2', 'LATISS/calib/DM-38563/noRGseq/flatGen-i.20230718.2/20230718T211014Z', 'LATISS/calib/DM-38563/noRGseq/flatGen-i.20230720.1', 'LATISS/calib/DM-38563/noRGseq/flatGen-i.20230720.1/20230720T204637Z', 'LATISS/calib/DM-39505/crosstalk.20230602', 'LATISS/calib/DM-39749/SDSSr/verifyFlat-r.20230621a', 'LATISS/calib/DM-39749/SDSSr/verifyFlat-r.20230621a/20230621T230720Z', 'LATISS/calib/DM-38563/noRGseq/darkGen.20230717.1', 'LATISS/calib/DM-38563/noRGseq/darkGen.20230717.1/20230717T190228Z', 'LATISS/calib/DM-40082', 'LATISS/calib/DM-40082/unbounded', 'LATISS/calib/DM-40082/curated/19700101T000000Z', 'LATISS/calib/DM-40082/curated/20221005T000000Z', 'LATISS/calib/DM-40082/curated/20180101T000000Z', 'LATISS/calib/DM-38563/noRGseq/verifyFlat-i.20230720.1', 'LATISS/calib/DM-38563/noRGseq/verifyFlat-i.20230720.1/20230720T205221Z', 'LATISS/calib/DM-39505', 'LATISS/calib/DM-39749/SDSSi/flatGen-i.20230621a', 'LATISS/calib/DM-39749/SDSSi/flatGen-i.20230621a/20230621T230938Z', 'LATISS/calib/DM-38563/noRGseq/verifyDark.20230717.1', 'LATISS/calib/DM-38563/noRGseq/verifyDark.20230717.1/20230717T190530Z', 'LATISS/calib/DM-39749/SDSSi/verifyFlat-i.20230621a', 'LATISS/calib/DM-39749/SDSSi/verifyFlat-i.20230621a/20230621T231200Z', 'LATISS/calib/DM-38563/noRGseq/flatGen-i.20230717.1', 'LATISS/calib/DM-38563/noRGseq/flatGen-i.20230717.1/20230717T191032Z', 'LATISS/calib/DM-39749/empty/flatGen-x.20230621a', 'LATISS/calib/DM-39749/empty/flatGen-x.20230621a/20230621T231502Z', 'LATISS/calib/DM-39749/empty/verifyFlat-x.20230621a', 'LATISS/calib/DM-39749/empty/verifyFlat-x.20230621a/20230621T231721Z', 'LATISS/calib/DM-38563/noRGseq/verifyFlat-i.20230717.1', 'LATISS/calib/DM-38563/noRGseq/verifyFlat-i.20230717.1/20230717T191458Z', 'LATISS/calib/DM-39749/SDSSg/flatGen-g.20230621b', 'LATISS/calib/DM-39749/SDSSg/flatGen-g.20230621b/20230622T000145Z', 'LATISS/calib/DM-39749/SDSSg/verifyFlat-g.20230621b', 'LATISS/calib/DM-39749/SDSSg/verifyFlat-g.20230621b/20230622T000409Z', 'LATISS/calib/DM-38563/noRGseq/biasGen.20230717.2', 'LATISS/calib/DM-38563/noRGseq/biasGen.20230717.2/20230717T210430Z', 'LATISS/calib/DM-39749/SDSSr/flatGen-r.20230621b', 'LATISS/calib/DM-39749/SDSSr/flatGen-r.20230621b/20230622T000616Z', 'LATISS/calib/DM-38563/noRGseq/verifyBias.20230717.2', 'LATISS/calib/DM-38563/noRGseq/verifyBias.20230717.2/20230717T211221Z', 'LATISS/calib/DM-39749/SDSSr/verifyFlat-r.20230621b', 'LATISS/calib/DM-39749/SDSSr/verifyFlat-r.20230621b/20230622T000836Z', 'LATISS/calib/DM-38563/noRGseq/darkGen.20230717.2', 'LATISS/calib/DM-38563/noRGseq/darkGen.20230717.2/20230717T211927Z', 'LATISS/calib/DM-39749/SDSSi/flatGen-i.20230621b', 'LATISS/calib/DM-39749/SDSSi/flatGen-i.20230621b/20230622T001025Z', 'LATISS/calib/DM-38563/noRGseq/verifyDark.20230717.2', 'LATISS/calib/DM-38563/noRGseq/verifyDark.20230717.2/20230717T212237Z', 'LATISS/calib/DM-39749/SDSSi/verifyFlat-i.20230621b', 'LATISS/calib/DM-39749/SDSSi/verifyFlat-i.20230621b/20230622T001322Z', 'LATISS/calib/DM-38563/noRGseq/flatGen-i.20230717.2', 'LATISS/calib/DM-38563/noRGseq/flatGen-i.20230717.2/20230717T212756Z', 'LATISS/calib/DM-38563/noRGseq/biasGen.20230719.1', 'LATISS/calib/DM-38563/noRGseq/biasGen.20230719.1/20230719T220646Z', 'LATISS/calib/DM-39749/empty/flatGen-x.20230621b', 'LATISS/calib/DM-39749/empty/flatGen-x.20230621b/20230622T001530Z', 'LATISS/calib/DM-38563/noRGseq/verifyFlat-i.20230717.2', 'LATISS/calib/DM-38563/noRGseq/verifyFlat-i.20230717.2/20230717T213216Z', 'LATISS/calib/DM-39749/empty/verifyFlat-x.20230621b', 'LATISS/calib/DM-39749/empty/verifyFlat-x.20230621b/20230622T001938Z', 'LATISS/calib/DM-38563/noRGseq/biasGen.20230718.1', 'LATISS/calib/DM-38563/noRGseq/biasGen.20230718.1/20230717T221007Z', 'LATISS/calib/DM-38563/noRGseq/verifyBias.20230718.1', 'LATISS/calib/DM-38563/noRGseq/verifyBias.20230718.1/20230717T221813Z']."
     ]
    }
   ],
   "source": [
    "flat_img= butler.get('flat', dataId={'exposure': exp_test, 'instrument': 'LATISS', 'detector': 0}, collections = calibCollections)"
   ]
  },
  {
   "cell_type": "code",
   "execution_count": 28,
   "id": "cc1a2e73-3ae1-4573-a2bb-636bb5da3f64",
   "metadata": {
    "execution": {
     "iopub.execute_input": "2023-09-04T23:33:20.434995Z",
     "iopub.status.busy": "2023-09-04T23:33:20.434639Z",
     "iopub.status.idle": "2023-09-04T23:33:20.438097Z",
     "shell.execute_reply": "2023-09-04T23:33:20.437753Z",
     "shell.execute_reply.started": "2023-09-04T23:33:20.434977Z"
    },
    "tags": []
   },
   "outputs": [
    {
     "data": {
      "text/plain": [
       "'science'"
      ]
     },
     "execution_count": 28,
     "metadata": {},
     "output_type": "execute_result"
    }
   ],
   "source": [
    "raw_img.visitInfo.observationType"
   ]
  },
  {
   "cell_type": "code",
   "execution_count": 29,
   "id": "5d032dfe-602b-4ac5-a046-0a4637372d57",
   "metadata": {
    "execution": {
     "iopub.execute_input": "2023-09-04T23:33:21.404089Z",
     "iopub.status.busy": "2023-09-04T23:33:21.403487Z",
     "iopub.status.idle": "2023-09-04T23:33:21.407146Z",
     "shell.execute_reply": "2023-09-04T23:33:21.406777Z",
     "shell.execute_reply.started": "2023-09-04T23:33:21.404071Z"
    },
    "tags": []
   },
   "outputs": [
    {
     "data": {
      "text/plain": [
       "'HD 66811'"
      ]
     },
     "execution_count": 29,
     "metadata": {},
     "output_type": "execute_result"
    }
   ],
   "source": [
    "raw_img.visitInfo.object"
   ]
  },
  {
   "cell_type": "code",
   "execution_count": 30,
   "id": "a4dae206-04ac-4236-a33d-107b1362e942",
   "metadata": {
    "execution": {
     "iopub.execute_input": "2023-09-04T23:33:22.094065Z",
     "iopub.status.busy": "2023-09-04T23:33:22.093567Z",
     "iopub.status.idle": "2023-09-04T23:33:22.098123Z",
     "shell.execute_reply": "2023-09-04T23:33:22.097744Z",
     "shell.execute_reply.started": "2023-09-04T23:33:22.094044Z"
    },
    "tags": []
   },
   "outputs": [
    {
     "data": {
      "text/plain": [
       "'empty_1'"
      ]
     },
     "execution_count": 30,
     "metadata": {},
     "output_type": "execute_result"
    }
   ],
   "source": [
    "raw_img.getMetadata().toDict()['FILTER']"
   ]
  },
  {
   "cell_type": "code",
   "execution_count": null,
   "id": "e71ecc1d-3560-4d57-bd69-293fe0d906fb",
   "metadata": {},
   "outputs": [],
   "source": []
  },
  {
   "cell_type": "code",
   "execution_count": null,
   "id": "31de7ccd-1301-4842-bd7a-f16970a4f47e",
   "metadata": {},
   "outputs": [],
   "source": []
  },
  {
   "cell_type": "code",
   "execution_count": null,
   "id": "ecfaf12f-e098-4669-8a6f-a86c8fdeb8e4",
   "metadata": {},
   "outputs": [],
   "source": []
  },
  {
   "cell_type": "code",
   "execution_count": null,
   "id": "3764cd2f-e8a9-45ba-832b-b48d905ed906",
   "metadata": {},
   "outputs": [],
   "source": []
  },
  {
   "cell_type": "code",
   "execution_count": null,
   "id": "4da0fe46-366a-40e7-9430-59a395e64ba3",
   "metadata": {},
   "outputs": [],
   "source": []
  },
  {
   "cell_type": "code",
   "execution_count": 31,
   "id": "9f7e7e98-fab1-4d0c-944a-b901f27a27a0",
   "metadata": {
    "execution": {
     "iopub.execute_input": "2023-09-04T23:33:25.697550Z",
     "iopub.status.busy": "2023-09-04T23:33:25.696911Z",
     "iopub.status.idle": "2023-09-04T23:33:25.708085Z",
     "shell.execute_reply": "2023-09-04T23:33:25.707585Z",
     "shell.execute_reply.started": "2023-09-04T23:33:25.697531Z"
    },
    "tags": []
   },
   "outputs": [
    {
     "ename": "NameError",
     "evalue": "name 'flat_img' is not defined",
     "output_type": "error",
     "traceback": [
      "\u001b[0;31m---------------------------------------------------------------------------\u001b[0m",
      "\u001b[0;31mNameError\u001b[0m                                 Traceback (most recent call last)",
      "Input \u001b[0;32mIn [31]\u001b[0m, in \u001b[0;36m<cell line: 2>\u001b[0;34m()\u001b[0m\n\u001b[1;32m      1\u001b[0m dd \u001b[38;5;241m=\u001b[39m raw_img\u001b[38;5;241m.\u001b[39mgetMetadata()\u001b[38;5;241m.\u001b[39mtoDict()\n\u001b[0;32m----> 2\u001b[0m ff \u001b[38;5;241m=\u001b[39m \u001b[43mflat_img\u001b[49m\u001b[38;5;241m.\u001b[39mgetMetadata()\u001b[38;5;241m.\u001b[39mtoDict()\n",
      "\u001b[0;31mNameError\u001b[0m: name 'flat_img' is not defined"
     ]
    }
   ],
   "source": [
    "dd = raw_img.getMetadata().toDict()\n",
    "ff = flat_img.getMetadata().toDict()"
   ]
  },
  {
   "cell_type": "code",
   "execution_count": 32,
   "id": "9168726c-df60-40bf-9591-1cd4cbff5281",
   "metadata": {
    "execution": {
     "iopub.execute_input": "2023-09-04T23:33:27.184681Z",
     "iopub.status.busy": "2023-09-04T23:33:27.184319Z",
     "iopub.status.idle": "2023-09-04T23:33:27.188026Z",
     "shell.execute_reply": "2023-09-04T23:33:27.187662Z",
     "shell.execute_reply.started": "2023-09-04T23:33:27.184661Z"
    },
    "tags": []
   },
   "outputs": [
    {
     "data": {
      "text/plain": [
       "'OBJECT'"
      ]
     },
     "execution_count": 32,
     "metadata": {},
     "output_type": "execute_result"
    }
   ],
   "source": [
    "dd['IMGTYPE']"
   ]
  },
  {
   "cell_type": "code",
   "execution_count": 33,
   "id": "d66c5c4a-1379-455f-9ade-51783bef2cb3",
   "metadata": {
    "execution": {
     "iopub.execute_input": "2023-09-04T23:33:27.953378Z",
     "iopub.status.busy": "2023-09-04T23:33:27.952847Z",
     "iopub.status.idle": "2023-09-04T23:33:27.962260Z",
     "shell.execute_reply": "2023-09-04T23:33:27.961791Z",
     "shell.execute_reply.started": "2023-09-04T23:33:27.953361Z"
    },
    "tags": []
   },
   "outputs": [
    {
     "ename": "NameError",
     "evalue": "name 'ff' is not defined",
     "output_type": "error",
     "traceback": [
      "\u001b[0;31m---------------------------------------------------------------------------\u001b[0m",
      "\u001b[0;31mNameError\u001b[0m                                 Traceback (most recent call last)",
      "Input \u001b[0;32mIn [33]\u001b[0m, in \u001b[0;36m<cell line: 1>\u001b[0;34m()\u001b[0m\n\u001b[0;32m----> 1\u001b[0m \u001b[43mff\u001b[49m[\u001b[38;5;124m'\u001b[39m\u001b[38;5;124mIMGTYPE\u001b[39m\u001b[38;5;124m'\u001b[39m]\n",
      "\u001b[0;31mNameError\u001b[0m: name 'ff' is not defined"
     ]
    }
   ],
   "source": [
    "ff['IMGTYPE']"
   ]
  },
  {
   "cell_type": "code",
   "execution_count": 34,
   "id": "b84ffeca-12da-4bc0-be38-54c739cafeff",
   "metadata": {
    "collapsed": true,
    "execution": {
     "iopub.execute_input": "2023-09-04T23:33:30.937855Z",
     "iopub.status.busy": "2023-09-04T23:33:30.937365Z",
     "iopub.status.idle": "2023-09-04T23:33:30.943122Z",
     "shell.execute_reply": "2023-09-04T23:33:30.942790Z",
     "shell.execute_reply.started": "2023-09-04T23:33:30.937839Z"
    },
    "jupyter": {
     "outputs_hidden": true
    },
    "tags": []
   },
   "outputs": [
    {
     "data": {
      "text/plain": [
       "{'SIMPLE': True,\n",
       " 'EXTEND': True,\n",
       " 'CCD_MANU': 'ITL',\n",
       " 'CCD_TYPE': '3800C',\n",
       " 'DETSIZE': '[1:4072,1:4000]',\n",
       " 'BINX': 1,\n",
       " 'BINY': 1,\n",
       " 'CCDGAIN': 1.0,\n",
       " 'CCDNOISE': 10.0,\n",
       " 'CCDSLOT': 'S00',\n",
       " 'RAFTBAY': 'R00',\n",
       " 'FIRMWARE': '11384004',\n",
       " 'PLATFORM': 'auxtel',\n",
       " 'CONTNUM': '189216ee',\n",
       " 'DAQVERS': 'R5-V5.0 2022-11-15T20:42:08Z (dd1d3e77)',\n",
       " 'DAQPART': 'lat',\n",
       " 'DAQFOLD': 'raw',\n",
       " 'SEQFILE': 'FP_ITL_2s_ir2_v26.seq',\n",
       " 'SEQNAME': 'FP_ITL_2s_ir2_v26.seq',\n",
       " 'SEQCKSUM': '980618532',\n",
       " 'LSST_NUM': 'ITL-3800C-068',\n",
       " 'CCD_SERN': '20862',\n",
       " 'REBNAME': 'Unknown',\n",
       " 'RAFTNAME': 'AuxTel-Raft',\n",
       " 'FPVERS': '1.1.6',\n",
       " 'IHVERS': '1.0.36',\n",
       " 'STUTTER ROWS': 0,\n",
       " 'STUTTER DELAY': 0.0,\n",
       " 'STUTTER NSHIFTS': 0,\n",
       " 'FILTPOS': None,\n",
       " 'DATE': '2023-02-16T02:01:38.964',\n",
       " 'MJD': 59991.08447874989,\n",
       " 'IMGTYPE': 'OBJECT',\n",
       " 'DATE-OBS': '2023-02-16T02:00:08.729',\n",
       " 'MJD-OBS': 59991.08343436336,\n",
       " 'DATE-TRG': '2023-02-16T02:01:38.960',\n",
       " 'MJD-TRG': 59991.08447870379,\n",
       " 'OBSID': 'AT_O_20230215_000279',\n",
       " 'DATE-BEG': '2023-02-16T02:00:08.729',\n",
       " 'MJD-BEG': 59991.08343436336,\n",
       " 'DATE-END': '2023-02-16T02:01:38.965',\n",
       " 'MJD-END': 59991.084478761535,\n",
       " 'GROUPID': '2023-02-16T02:00:08.372',\n",
       " 'BUNIT': 'adu',\n",
       " 'TIMESYS': 'TAI',\n",
       " 'INSTRUME': 'LATISS',\n",
       " 'TELESCOP': 'LSST AuxTelescope',\n",
       " 'OBS-LONG': -70.749417,\n",
       " 'OBS-LAT': -30.244639,\n",
       " 'OBS-ELEV': 2663.0,\n",
       " 'OBSGEO-X': 1818938.94,\n",
       " 'OBSGEO-Y': -5208470.95,\n",
       " 'OBSGEO-Z': -3195172.08,\n",
       " 'FACILITY': 'Vera C. Rubin Observatory',\n",
       " 'RA': 120.89603130000006,\n",
       " 'DEC': -40.00314778,\n",
       " 'RASTART': 120.64266833562418,\n",
       " 'DECSTART': -39.961301928599234,\n",
       " 'RAEND': 121.02121110799109,\n",
       " 'DECEND': -39.96005266150808,\n",
       " 'ROTPA': 359.9977949134958,\n",
       " 'ROTCOORD': 'sky',\n",
       " 'HASTART': 0.0,\n",
       " 'ELSTART': 73.92781606662946,\n",
       " 'AZSTART': 131.43263351926004,\n",
       " 'AMSTART': 0.0,\n",
       " 'AHAEND': None,\n",
       " 'AELEND': None,\n",
       " 'AAZEND': None,\n",
       " 'AAMEND': None,\n",
       " 'TRACKSYS': None,\n",
       " 'RADESYS': 'ICRS',\n",
       " 'FOCUSZ': 0.0,\n",
       " 'OBJECT': 'HD 66811',\n",
       " 'INSTPORT': 2,\n",
       " 'ATM3PORT': 2,\n",
       " 'DOMEAZ': 124.98,\n",
       " 'SHUTLOWR': 0.0,\n",
       " 'SHUTUPPR': 100.0,\n",
       " 'WCSAXES': None,\n",
       " 'CTYPE1': None,\n",
       " 'CTYPE2': None,\n",
       " 'CUNIT1': None,\n",
       " 'CUNIT2': None,\n",
       " 'CRVAL1': None,\n",
       " 'CRVAL2': None,\n",
       " 'CRPIX1': None,\n",
       " 'CRPIX2': None,\n",
       " 'CD1_1': None,\n",
       " 'CD1_2': None,\n",
       " 'CD2_1': None,\n",
       " 'CD2_2': None,\n",
       " 'EQUINOX': None,\n",
       " 'TESTTYPE': 'OBJECT',\n",
       " 'CAMCODE': 'AT',\n",
       " 'CONTRLLR': 'O',\n",
       " 'DAYOBS': '20230215',\n",
       " 'SEQNUM': 279,\n",
       " 'PROGRAM': None,\n",
       " 'REASON': None,\n",
       " 'CURINDEX': 1,\n",
       " 'MAXINDEX': 1,\n",
       " 'TSTAND': None,\n",
       " 'IMAGETAG': '731d52b35eaeab7e',\n",
       " 'OBSANNOT': '',\n",
       " 'TEMP_SET': -94.15,\n",
       " 'GRATING': 'holo4_003',\n",
       " 'GRATBAND': 'H4-003',\n",
       " 'GRATSLOT': 3,\n",
       " 'LINSPOS': 67.0,\n",
       " 'FILTBAND': 'EMPTY',\n",
       " 'FILTER': 'empty_1',\n",
       " 'FILTSLOT': 0,\n",
       " 'EXPTIME': 90.0,\n",
       " 'DARKTIME': 90.2352,\n",
       " 'SHUTTIME': None,\n",
       " 'AIRTEMP': None,\n",
       " 'PRESSURE': None,\n",
       " 'HUMIDITY': None,\n",
       " 'WINDSPD': None,\n",
       " 'WINDDIR': None,\n",
       " 'SEEING': None,\n",
       " 'FILENAME': 'AT_O_20230215_000279_R00_S00.fits',\n",
       " 'HEADVER': 2,\n",
       " 'SIMULATE ATMCS': None,\n",
       " 'SIMULATE ATHEXAPOD': 0,\n",
       " 'SIMULATE ATPNEUMATICS': None,\n",
       " 'SIMULATE ATDOME': 0,\n",
       " 'SIMULATE ATSPECTROGRAPH': 0,\n",
       " 'XTENSION': 'BINTABLE',\n",
       " 'BITPIX': 8,\n",
       " 'NAXIS': 2,\n",
       " 'NAXIS1': 0,\n",
       " 'NAXIS2': 0,\n",
       " 'PCOUNT': 0,\n",
       " 'GCOUNT': 1,\n",
       " 'TFIELDS': 0,\n",
       " 'COMMENT': '---- Checksums ----',\n",
       " 'CHECKSUM': 'WaKEYYH9WaHEWWH9',\n",
       " 'EXTNAME': 'REB_COND',\n",
       " 'TEMP1': 22.5,\n",
       " 'TEMP2': 23.5625,\n",
       " 'TEMP3': 22.25,\n",
       " 'TEMP4': 21.5625,\n",
       " 'TEMP5': 21.0625,\n",
       " 'TEMP6': 20.6875,\n",
       " 'ATEMPU': 12.2768,\n",
       " 'ATEMPL': 12.2545,\n",
       " 'CCDTEMP': -90.3936,\n",
       " 'RTDTEMP': 362.012,\n",
       " 'DIGPS_V': 5.275,\n",
       " 'DIGPS_I': 695.75,\n",
       " 'ANAPS_V': 7.2,\n",
       " 'ANAPS_I': 306.25,\n",
       " 'CLKHPS_V': 12.025,\n",
       " 'CLKHPS_I': 31.0,\n",
       " 'CLKLPS_V': -11.9793,\n",
       " 'ODPS_V': 32.05,\n",
       " 'ODPS_I': 30.25,\n",
       " 'HTRPS_V': 0.0,\n",
       " 'HTRPS_W': 0.0,\n",
       " 'PCKU_V': 1.98922,\n",
       " 'PCKL_V': -7.9976,\n",
       " 'SCKU_V': 5.00091,\n",
       " 'SCKL_V': -4.99877,\n",
       " 'RGU_V': 8.00296,\n",
       " 'RGL_V': -1.99779,\n",
       " 'ODV': 32.05,\n",
       " 'ODI': 28.3,\n",
       " 'GDP': 20.0,\n",
       " 'RDP': 13.0,\n",
       " 'OGP': -2.0,\n",
       " 'ODP': 26.9,\n",
       " 'CSGATEP': 1.0,\n",
       " 'SCK_LOWP': -5.0,\n",
       " 'SCK_HIP': 5.0,\n",
       " 'PCK_LOWP': -8.0,\n",
       " 'PCK_HIP': 2.0,\n",
       " 'RG_LOWP': -2.0,\n",
       " 'RG_HIP': 8.0,\n",
       " 'AP0_RC': 14,\n",
       " 'AP1_RC': 14,\n",
       " 'AP0_GAIN': 0,\n",
       " 'AP1_GAIN': 0,\n",
       " 'AP0_CLMP': 0,\n",
       " 'AP1_CLMP': 0,\n",
       " 'AP0_AF1': 0,\n",
       " 'AP1_AF1': 0,\n",
       " 'AP0_TM': 0,\n",
       " 'AP1_TM': 0,\n",
       " 'HVBIAS': 'ON',\n",
       " 'ANAV': 7.2,\n",
       " 'ANAI': 301.6,\n",
       " 'DIGV': 5.25,\n",
       " 'DIGI': 675.0,\n",
       " 'FANV': 12.0,\n",
       " 'FANI': 101.5,\n",
       " 'CLKHIGHV': 12.0,\n",
       " 'CLKHIGHI': 30.1,\n",
       " 'CLKLOWV': 12.0,\n",
       " 'CLKLOWI': 30.6,\n",
       " 'HVBIASV': -50.0,\n",
       " 'HVBIASI': 3.91236e-12,\n",
       " 'DPHIV': 10.0,\n",
       " 'DPHII': 6.3,\n",
       " 'OTMV': 5.0,\n",
       " 'OTMI': 463.8,\n",
       " 'AUXV': 0.0,\n",
       " 'AUXI': 0.0,\n",
       " 'DATASUM': '0',\n",
       " 'HIERARCH ASTRO METADATA FIX MODIFIED': True,\n",
       " 'HIERARCH ASTRO METADATA FIX DATE': '2023-09-04T23:31:55.308519',\n",
       " 'HIERARCH ASTRO METADATA FIX VERSION': 'g21ea1d022b+7ccdb79186'}"
      ]
     },
     "execution_count": 34,
     "metadata": {},
     "output_type": "execute_result"
    }
   ],
   "source": [
    "dd"
   ]
  },
  {
   "cell_type": "code",
   "execution_count": 35,
   "id": "c0365add-b81f-4305-8f04-390e65a120eb",
   "metadata": {
    "execution": {
     "iopub.execute_input": "2023-09-04T23:33:35.414732Z",
     "iopub.status.busy": "2023-09-04T23:33:35.414485Z",
     "iopub.status.idle": "2023-09-04T23:33:35.424035Z",
     "shell.execute_reply": "2023-09-04T23:33:35.423568Z",
     "shell.execute_reply.started": "2023-09-04T23:33:35.414716Z"
    },
    "tags": []
   },
   "outputs": [
    {
     "ename": "NameError",
     "evalue": "name 'ff' is not defined",
     "output_type": "error",
     "traceback": [
      "\u001b[0;31m---------------------------------------------------------------------------\u001b[0m",
      "\u001b[0;31mNameError\u001b[0m                                 Traceback (most recent call last)",
      "Input \u001b[0;32mIn [35]\u001b[0m, in \u001b[0;36m<cell line: 1>\u001b[0;34m()\u001b[0m\n\u001b[0;32m----> 1\u001b[0m \u001b[43mff\u001b[49m\n",
      "\u001b[0;31mNameError\u001b[0m: name 'ff' is not defined"
     ]
    }
   ],
   "source": [
    "ff"
   ]
  },
  {
   "cell_type": "code",
   "execution_count": 36,
   "id": "053157fa-b832-4958-bd09-b97d0bc3f96b",
   "metadata": {
    "execution": {
     "iopub.execute_input": "2023-09-04T23:33:38.844923Z",
     "iopub.status.busy": "2023-09-04T23:33:38.844375Z",
     "iopub.status.idle": "2023-09-04T23:33:39.364999Z",
     "shell.execute_reply": "2023-09-04T23:33:39.364557Z",
     "shell.execute_reply.started": "2023-09-04T23:33:38.844905Z"
    },
    "tags": []
   },
   "outputs": [
    {
     "data": {
      "image/png": "[encoded data removed]",
      "text/plain": [
       "<Figure size 1200x1000 with 2 Axes>"
      ]
     },
     "metadata": {},
     "output_type": "display_data"
    }
   ],
   "source": [
    "fig = plt.figure(figsize=(12,10))\n",
    "afw_display = afwDisplay.Display(frame=fig)\n",
    "afw_display.scale('linear', 'zscale',None)\n",
    "#the_title = f\"{index}, pseudo-postISR exp = {exp_selected_}, target = {object_}, airmass = {am_:.2f}, phys. filter = {filter_}-{grating_}\"\n",
    "afw_display.mtv(raw_img.image)"
   ]
  },
  {
   "cell_type": "code",
   "execution_count": null,
   "id": "a5db513c-c73c-4109-ba8e-0b934f826268",
   "metadata": {},
   "outputs": [],
   "source": []
  },
  {
   "cell_type": "code",
   "execution_count": null,
   "id": "f6567d2e-7f84-408a-8f18-cb22528f1c11",
   "metadata": {},
   "outputs": [],
   "source": []
  },
  {
   "cell_type": "code",
   "execution_count": null,
   "id": "3f373e1a-56e5-4454-9daa-4e6b1ce414fd",
   "metadata": {},
   "outputs": [],
   "source": []
  },
  {
   "cell_type": "code",
   "execution_count": null,
   "id": "e83ca624-46ea-4dc2-87f1-81876caa6434",
   "metadata": {},
   "outputs": [],
   "source": []
  },
  {
   "cell_type": "code",
   "execution_count": null,
   "id": "897369fb-6bfc-47bf-93b0-0964594b3dc8",
   "metadata": {},
   "outputs": [],
   "source": []
  },
  {
   "cell_type": "code",
   "execution_count": null,
   "id": "9b6849fd-a317-4cef-bfce-1e1b25545ffd",
   "metadata": {},
   "outputs": [],
   "source": []
  },
  {
   "cell_type": "code",
   "execution_count": null,
   "id": "6d785d29-db42-4de5-a772-f9517726a977",
   "metadata": {},
   "outputs": [],
   "source": []
  },
  {
   "cell_type": "code",
   "execution_count": 39,
   "id": "76db81ed-d964-4c97-a8b4-8c8d666915c5",
   "metadata": {
    "collapsed": true,
    "execution": {
     "iopub.execute_input": "2023-09-04T18:52:50.037894Z",
     "iopub.status.busy": "2023-09-04T18:52:50.037571Z",
     "iopub.status.idle": "2023-09-04T18:55:42.383967Z",
     "shell.execute_reply": "2023-09-04T18:55:42.383239Z",
     "shell.execute_reply.started": "2023-09-04T18:52:50.037878Z"
    },
    "jupyter": {
     "outputs_hidden": true
    },
    "tags": []
   },
   "outputs": [
    {
     "name": "stdout",
     "output_type": "stream",
     "text": [
      "2022091200073 5.0\n",
      "2022091400100 5.0\n",
      "2022091400104 15.0\n",
      "2022091400105 15.0\n",
      "2022091400103 15.0\n",
      "2022091400108 15.0\n",
      "2022091400109 15.0\n",
      "2022091400114 15.0\n",
      "2022091400112 15.0\n",
      "2022091400101 15.0\n",
      "2022091400111 15.0\n",
      "2022091400106 15.0\n",
      "2022091400107 15.0\n",
      "2022091400102 15.0\n",
      "2022091400113 15.0\n",
      "2022091400115 15.0\n",
      "2022091400110 15.0\n",
      "2022092200029 20.0\n",
      "2022092200028 12.0\n",
      "2022092200030 16.0\n",
      "2022092200027 6.0\n",
      "2022092200072 1.0\n",
      "2022092200074 1.3\n",
      "2022092200081 3.2\n",
      "2022092200083 4.3\n",
      "2022092200076 1.8\n",
      "2022092200080 3.2\n",
      "2022092200084 5.8\n",
      "2022092200090 14.0\n",
      "2022092200031 18.0\n",
      "2022092200077 1.8\n",
      "2022092200075 1.3\n",
      "2022092200079 2.4\n",
      "2022092200073 1.0\n",
      "2022092200078 2.4\n",
      "2022092200082 4.3\n",
      "2022092200087 7.8\n",
      "2022092200089 10.5\n",
      "2022092200088 10.5\n",
      "2022092200086 7.8\n",
      "2022092200093 0.1\n",
      "2022092200094 0.4\n",
      "2022092200096 0.9\n",
      "2022092200100 0.5\n",
      "2022092200101 0.5\n",
      "2022092200102 0.8\n",
      "2022092200092 0.1\n",
      "2022092200091 14.0\n",
      "2022092200095 0.4\n",
      "2022092200097 0.9\n",
      "2022092200099 0.3\n",
      "2022092200103 0.8\n",
      "2022092200098 0.3\n",
      "2022092300263 0.1\n",
      "2022092700190 15.0\n",
      "2022092700191 15.0\n",
      "2022092700193 15.0\n",
      "2022092700194 15.0\n",
      "2022092700192 15.0\n",
      "2022092700195 15.0\n",
      "2022092700196 15.0\n",
      "2022092700199 15.0\n",
      "2022092700197 15.0\n",
      "2022092700198 15.0\n",
      "2022100400083 1.0\n",
      "2022101100805 8.0\n",
      "2022120900004 5.0\n",
      "2022120900010 60.0\n",
      "2022120900011 60.0\n",
      "2022120900012 60.0\n",
      "2022120900013 60.0\n",
      "2022120900014 60.0\n",
      "2022120900015 60.0\n",
      "2022120900016 60.0\n",
      "2022120900017 30.0\n",
      "2022120900018 30.0\n",
      "2022120900019 30.0\n",
      "2022120900020 30.0\n",
      "2022120900021 30.0\n",
      "2022120900071 5.0\n",
      "2022120900073 5.0\n",
      "2022120900075 5.0\n",
      "2022120900077 5.0\n",
      "2022120900079 5.0\n",
      "2022120900081 5.0\n",
      "2022120900083 5.0\n",
      "2022120900085 5.0\n",
      "2022120900087 5.0\n",
      "2022120900089 5.0\n",
      "2022120900070 5.0\n",
      "2022120900072 5.0\n",
      "2022120900074 5.0\n",
      "2022120900076 5.0\n",
      "2022120900078 5.0\n",
      "2022120900080 5.0\n",
      "2022120900082 5.0\n",
      "2022120900084 5.0\n",
      "2022120900086 5.0\n",
      "2022120900088 5.0\n",
      "2022120900090 5.0\n",
      "2023011200011 5.0\n",
      "2023011600015 10.0\n",
      "2023011600014 10.0\n",
      "2023011600016 10.0\n",
      "2023011800014 2.0\n",
      "2023011800016 2.0\n",
      "2023011800013 2.0\n",
      "2023011800015 2.0\n",
      "2023011800017 2.0\n",
      "2023021400089 5.0\n",
      "2023021400090 5.0\n",
      "2023021400091 5.0\n",
      "2023021400092 5.0\n",
      "2023021400093 5.0\n",
      "2023021400094 5.0\n",
      "2023021400095 5.0\n",
      "2023021400096 5.0\n",
      "2023021400097 5.0\n",
      "2023032100083 30.0\n",
      "2023032100084 1.0\n",
      "2023032100085 15.0\n",
      "2023032100086 12.0\n",
      "2023032100092 10.0\n",
      "2023032100093 0.2\n",
      "2023032100094 0.2\n",
      "2023032100095 0.4\n",
      "2023032100096 0.4\n",
      "2023032100097 0.6\n",
      "2023032100098 0.6\n",
      "2023032100099 0.8\n",
      "2023032100100 0.8\n",
      "2023032100101 1.0\n",
      "2023032100102 1.0\n",
      "2023032100103 1.2\n",
      "2023032100104 1.2\n",
      "2023032100105 1.4\n",
      "2023032100106 1.4\n",
      "2023032100107 1.6\n",
      "2023032100108 1.6\n",
      "2023032100109 1.8\n",
      "2023032100110 1.8\n",
      "2023032100111 2.0\n",
      "2023032100112 2.0\n",
      "2023032100113 2.2\n",
      "2023032100114 2.2\n",
      "2023032100115 2.4\n",
      "2023032100116 2.4\n",
      "2023032100117 2.6\n",
      "2023032100118 2.6\n",
      "2023032100119 2.8\n",
      "2023032100120 2.8\n",
      "2023032100121 3.0\n",
      "2023032100122 3.0\n",
      "2023032100123 3.2\n",
      "2023032100124 3.2\n",
      "2023032100125 3.4\n",
      "2023032100126 3.4\n",
      "2023032100127 3.6\n",
      "2023032100128 3.6\n",
      "2023032100129 3.8\n",
      "2023032100130 3.8\n",
      "2023032100131 4.0\n",
      "2023032100132 4.0\n",
      "2023032100133 4.2\n",
      "2023032100134 4.2\n",
      "2023032100135 4.4\n",
      "2023032100136 4.4\n",
      "2023032100137 4.6\n",
      "2023032100138 4.6\n",
      "2023032100139 4.8\n",
      "2023032100140 4.8\n",
      "2023032100141 5.0\n",
      "2023032100142 5.0\n",
      "2023032100143 5.2\n",
      "2023032100144 5.2\n",
      "2023032100145 5.4\n",
      "2023032100146 5.4\n",
      "2023032100147 5.6\n",
      "2023032100148 5.6\n",
      "2023032100149 5.8\n",
      "2023032100150 5.8\n",
      "2023032100151 6.0\n",
      "2023032100152 6.0\n",
      "2023032100153 6.2\n",
      "2023032100154 6.2\n",
      "2023032100155 6.4\n",
      "2023032100156 6.4\n",
      "2023032100157 6.6\n",
      "2023032100158 6.6\n",
      "2023032100159 6.8\n",
      "2023032100160 6.8\n",
      "2023032100161 7.0\n",
      "2023032100162 7.0\n",
      "2023032100163 7.2\n",
      "2023032100164 7.2\n",
      "2023032100165 7.4\n",
      "2023032100166 7.4\n",
      "2023032100167 7.6\n",
      "2023032100168 7.6\n",
      "2023032100169 7.8\n",
      "2023032100170 7.8\n",
      "2023032100171 8.0\n",
      "2023032100172 8.0\n",
      "2023032100173 8.2\n",
      "2023032100174 8.2\n",
      "2023032100175 8.4\n",
      "2023032100176 8.4\n",
      "2023032100177 8.6\n",
      "2023032100178 8.6\n",
      "2023032100179 8.8\n",
      "2023032100180 8.8\n",
      "2023032100181 9.0\n",
      "2023032100182 9.0\n",
      "2023032100183 9.2\n",
      "2023032100184 9.2\n",
      "2023032100185 9.4\n",
      "2023032100186 9.4\n",
      "2023032100187 9.6\n",
      "2023032100188 9.6\n",
      "2023032100189 9.8\n",
      "2023032100190 9.8\n",
      "2023032100191 10.0\n",
      "2023032100192 10.0\n",
      "2023032100213 0.2\n",
      "2023032100214 0.2\n",
      "2023032100215 0.4\n",
      "2023032100216 0.4\n",
      "2023032100217 0.6\n",
      "2023032100218 0.6\n",
      "2023032100219 0.8\n",
      "2023032100220 0.8\n",
      "2023032100221 1.0\n",
      "2023032100222 1.0\n",
      "2023032100223 1.2\n",
      "2023032100224 1.2\n",
      "2023032100225 1.4\n",
      "2023032100226 1.4\n",
      "2023032100227 1.6\n",
      "2023032100228 1.6\n",
      "2023032100229 1.8\n",
      "2023032100230 1.8\n",
      "2023032100231 2.0\n",
      "2023032100232 2.0\n",
      "2023032100233 2.2\n",
      "2023032100234 2.2\n",
      "2023032100235 2.4\n",
      "2023032100236 2.4\n",
      "2023032100237 2.6\n",
      "2023032100238 2.6\n",
      "2023032100239 2.8\n",
      "2023032100240 2.8\n",
      "2023032100241 3.0\n",
      "2023032100242 3.0\n",
      "2023032100243 3.2\n",
      "2023032100244 3.2\n",
      "2023032100245 3.4\n",
      "2023032100246 3.4\n",
      "2023032100247 3.6\n",
      "2023032100248 3.6\n",
      "2023032100249 3.8\n",
      "2023032100250 3.8\n",
      "2023032100251 4.0\n",
      "2023032100252 4.0\n",
      "2023032100253 4.2\n",
      "2023032100254 4.2\n",
      "2023032100255 4.4\n",
      "2023032100256 4.4\n",
      "2023032100257 4.6\n",
      "2023032100258 4.6\n",
      "2023032100259 4.8\n",
      "2023032100260 4.8\n",
      "2023032100261 5.0\n",
      "2023032100262 5.0\n",
      "2023032100263 5.2\n",
      "2023032100264 5.2\n",
      "2023032100265 5.4\n",
      "2023032100266 5.4\n",
      "2023032100267 5.6\n",
      "2023032100268 5.6\n",
      "2023032100269 5.8\n",
      "2023032100270 5.8\n",
      "2023032100271 6.0\n",
      "2023032100272 6.0\n",
      "2023032100273 6.2\n",
      "2023032100274 6.2\n",
      "2023032100275 6.4\n",
      "2023032100276 6.4\n",
      "2023032100277 6.6\n",
      "2023032100278 6.6\n",
      "2023032100279 6.8\n",
      "2023032100280 6.8\n",
      "2023032100281 7.0\n",
      "2023032100282 7.0\n",
      "2023032100283 7.2\n",
      "2023032100284 7.2\n",
      "2023032100285 7.4\n",
      "2023032100286 7.4\n",
      "2023032100287 7.6\n",
      "2023032100288 7.6\n",
      "2023032100289 7.8\n",
      "2023032100290 7.8\n",
      "2023032100291 8.0\n",
      "2023032100292 8.0\n",
      "2023032100293 8.2\n",
      "2023032100294 8.2\n",
      "2023032100295 8.4\n",
      "2023032100296 8.4\n",
      "2023032100297 8.6\n",
      "2023032100298 8.6\n",
      "2023032100299 8.8\n",
      "2023032100300 8.8\n",
      "2023032100301 9.0\n",
      "2023032100302 9.0\n",
      "2023032100303 9.2\n",
      "2023032100304 9.2\n",
      "2023032100305 9.4\n",
      "2023032100306 9.4\n",
      "2023032100307 9.6\n",
      "2023032100308 9.6\n",
      "2023032100309 9.8\n",
      "2023032100310 9.8\n",
      "2023032100311 10.0\n",
      "2023032100312 10.0\n",
      "2023032700001 5.0\n",
      "2023032700002 5.0\n",
      "2023032700003 5.0\n",
      "2023032700004 5.0\n",
      "2023032700005 5.0\n",
      "2023032700006 5.0\n",
      "2023032700007 5.0\n",
      "2023032700008 5.0\n",
      "2023032700009 5.0\n",
      "2023032700010 5.0\n",
      "2023040400095 10.0\n",
      "2023042000012 10.0\n",
      "2023042500021 10.0\n",
      "2023050900166 8.0\n",
      "2023050900167 8.0\n",
      "2023050900168 8.0\n",
      "2023051000040 2.0\n",
      "2023051000041 2.0\n",
      "2023051000042 2.0\n",
      "2023051000043 4.0\n",
      "2023051000044 4.0\n",
      "2023052300078 8.0\n",
      "2023052300079 8.0\n",
      "2023052300076 8.0\n",
      "2023052300077 8.0\n",
      "2023052300084 4.0\n",
      "2023052300086 4.0\n",
      "2023052300085 4.0\n",
      "2023052300087 4.0\n",
      "2023052300094 2.0\n",
      "2023052300093 2.0\n",
      "2023052300095 2.0\n",
      "2023052300092 2.0\n",
      "2023052400064 1.0\n",
      "2023052400063 1.0\n",
      "2023052400065 1.0\n",
      "2023052400066 1.0\n",
      "2023052400067 1.0\n",
      "2023052400068 1.0\n",
      "2023052400069 1.0\n",
      "2023052400071 1.0\n",
      "2023052400072 1.0\n",
      "2023052400074 1.0\n",
      "2023052400076 1.0\n",
      "2023052400073 1.0\n",
      "2023052400075 1.0\n",
      "2023052400070 1.0\n",
      "2023052400077 1.0\n",
      "2023052400078 1.0\n",
      "2023052400079 1.0\n",
      "2023052400081 1.0\n",
      "2023052400080 1.0\n",
      "2023052400082 1.0\n",
      "2023052500062 1.0\n",
      "2023052500065 1.0\n",
      "2023052500064 1.0\n",
      "2023052500063 1.0\n",
      "2023052500068 1.0\n",
      "2023052500067 1.0\n",
      "2023052500066 1.0\n",
      "2023052500069 1.0\n",
      "2023052500071 1.0\n",
      "2023052500070 1.0\n",
      "2023052500072 1.0\n",
      "2023052500073 1.0\n",
      "2023052500075 1.0\n",
      "2023052500074 1.0\n",
      "2023052500077 1.0\n",
      "2023052500076 1.0\n",
      "2023070500173 1.0\n",
      "2023070500174 1.0\n",
      "2023070500175 1.0\n",
      "2023070500176 1.0\n",
      "2023070500177 1.0\n",
      "2023070500178 1.0\n",
      "2023070500179 1.0\n",
      "2023070600076 1.0\n",
      "2023070600077 1.0\n",
      "2023070600078 1.0\n"
     ]
    },
    {
     "data": {
      "text/html": [
       "<pre style=\"margin: 0.1em;\n",
       "padding-left: 0.25em;\n",
       "border-left-style: solid;\n",
       "font-family: var(--jp-code-font-family);\n",
       "font-size: var(--jp-code-font-size);\n",
       "line-height: var(--jp-code-line-height);\n",
       "\"><span style=\"color: var(--jp-warn-color2)\">timer.lsst.daf.butler.datastores.fileDatastore</span> <span style=\"color: var(--jp-error-color2)\">ERROR</span>: Reading from location s3://rubin-summit/LATISS/20230706/AT_O_20230706_000079/AT_O_20230706_000079_R00_S00.fits (via download to local file and likely cached) with formatter lsst.obs.lsst.rawFormatter.LatissRawFormatter: Took 0.2104 seconds</pre>"
      ],
      "text/plain": [
       "<IPython.core.display.HTML object>"
      ]
     },
     "metadata": {},
     "output_type": "display_data"
    },
    {
     "ename": "KeyboardInterrupt",
     "evalue": "",
     "output_type": "error",
     "traceback": [
      "\u001b[0;31m---------------------------------------------------------------------------\u001b[0m",
      "\u001b[0;31mKeyboardInterrupt\u001b[0m                         Traceback (most recent call last)",
      "Input \u001b[0;32mIn [39]\u001b[0m, in \u001b[0;36m<cell line: 1>\u001b[0;34m()\u001b[0m\n\u001b[1;32m      1\u001b[0m \u001b[38;5;28;01mfor\u001b[39;00m exp_ \u001b[38;5;129;01min\u001b[39;00m exposures_selected:\n\u001b[0;32m----> 2\u001b[0m     raw_img_ \u001b[38;5;241m=\u001b[39m \u001b[43mbutler\u001b[49m\u001b[38;5;241;43m.\u001b[39;49m\u001b[43mget\u001b[49m\u001b[43m(\u001b[49m\u001b[38;5;124;43m'\u001b[39;49m\u001b[38;5;124;43mraw\u001b[39;49m\u001b[38;5;124;43m'\u001b[39;49m\u001b[43m,\u001b[49m\u001b[43m \u001b[49m\u001b[43mdataId\u001b[49m\u001b[38;5;241;43m=\u001b[39;49m\u001b[43m{\u001b[49m\u001b[38;5;124;43m'\u001b[39;49m\u001b[38;5;124;43mexposure\u001b[39;49m\u001b[38;5;124;43m'\u001b[39;49m\u001b[43m:\u001b[49m\u001b[43m \u001b[49m\u001b[43mexp_\u001b[49m\u001b[43m,\u001b[49m\u001b[43m \u001b[49m\u001b[38;5;124;43m'\u001b[39;49m\u001b[38;5;124;43minstrument\u001b[39;49m\u001b[38;5;124;43m'\u001b[39;49m\u001b[43m:\u001b[49m\u001b[43m \u001b[49m\u001b[38;5;124;43m'\u001b[39;49m\u001b[38;5;124;43mLATISS\u001b[39;49m\u001b[38;5;124;43m'\u001b[39;49m\u001b[43m,\u001b[49m\u001b[43m \u001b[49m\u001b[38;5;124;43m'\u001b[39;49m\u001b[38;5;124;43mdetector\u001b[39;49m\u001b[38;5;124;43m'\u001b[39;49m\u001b[43m:\u001b[49m\u001b[43m \u001b[49m\u001b[38;5;241;43m0\u001b[39;49m\u001b[43m}\u001b[49m\u001b[43m,\u001b[49m\u001b[43m \u001b[49m\u001b[43mcollections\u001b[49m\u001b[43m \u001b[49m\u001b[38;5;241;43m=\u001b[39;49m\u001b[43m \u001b[49m\u001b[43mcalibCollections\u001b[49m\u001b[43m)\u001b[49m\n\u001b[1;32m      4\u001b[0m     time_ \u001b[38;5;241m=\u001b[39m raw_img_\u001b[38;5;241m.\u001b[39mgetMetadata()\u001b[38;5;241m.\u001b[39mtoDict()[\u001b[38;5;124m'\u001b[39m\u001b[38;5;124mEXPTIME\u001b[39m\u001b[38;5;124m'\u001b[39m]\n\u001b[1;32m      5\u001b[0m     \u001b[38;5;28mprint\u001b[39m(exp_,time_)\n",
      "File \u001b[0;32m/opt/lsst/software/stack/stack/miniconda3-py38_4.9.2-6.0.0/Linux64/daf_butler/g98bc2251b0+353af21826/python/lsst/daf/butler/_butler.py:1449\u001b[0m, in \u001b[0;36mButler.get\u001b[0;34m(self, datasetRefOrType, dataId, parameters, collections, storageClass, **kwargs)\u001b[0m\n\u001b[1;32m   1447\u001b[0m log\u001b[38;5;241m.\u001b[39mdebug(\u001b[38;5;124m\"\u001b[39m\u001b[38;5;124mButler get: \u001b[39m\u001b[38;5;132;01m%s\u001b[39;00m\u001b[38;5;124m, dataId=\u001b[39m\u001b[38;5;132;01m%s\u001b[39;00m\u001b[38;5;124m, parameters=\u001b[39m\u001b[38;5;132;01m%s\u001b[39;00m\u001b[38;5;124m\"\u001b[39m, datasetRefOrType, dataId, parameters)\n\u001b[1;32m   1448\u001b[0m ref \u001b[38;5;241m=\u001b[39m \u001b[38;5;28mself\u001b[39m\u001b[38;5;241m.\u001b[39m_findDatasetRef(datasetRefOrType, dataId, collections\u001b[38;5;241m=\u001b[39mcollections, \u001b[38;5;241m*\u001b[39m\u001b[38;5;241m*\u001b[39mkwargs)\n\u001b[0;32m-> 1449\u001b[0m \u001b[38;5;28;01mreturn\u001b[39;00m \u001b[38;5;28;43mself\u001b[39;49m\u001b[38;5;241;43m.\u001b[39;49m\u001b[43mdatastore\u001b[49m\u001b[38;5;241;43m.\u001b[39;49m\u001b[43mget\u001b[49m\u001b[43m(\u001b[49m\u001b[43mref\u001b[49m\u001b[43m,\u001b[49m\u001b[43m \u001b[49m\u001b[43mparameters\u001b[49m\u001b[38;5;241;43m=\u001b[39;49m\u001b[43mparameters\u001b[49m\u001b[43m,\u001b[49m\u001b[43m \u001b[49m\u001b[43mstorageClass\u001b[49m\u001b[38;5;241;43m=\u001b[39;49m\u001b[43mstorageClass\u001b[49m\u001b[43m)\u001b[49m\n",
      "File \u001b[0;32m/opt/lsst/software/stack/stack/miniconda3-py38_4.9.2-6.0.0/Linux64/daf_butler/g98bc2251b0+353af21826/python/lsst/daf/butler/datastores/fileDatastore.py:2222\u001b[0m, in \u001b[0;36mFileDatastore.get\u001b[0;34m(self, ref, parameters, storageClass)\u001b[0m\n\u001b[1;32m   2215\u001b[0m \u001b[38;5;28;01melse\u001b[39;00m:\n\u001b[1;32m   2216\u001b[0m     \u001b[38;5;66;03m# For an assembled composite this could be a derived\u001b[39;00m\n\u001b[1;32m   2217\u001b[0m     \u001b[38;5;66;03m# component derived from a real component. The validity\u001b[39;00m\n\u001b[1;32m   2218\u001b[0m     \u001b[38;5;66;03m# of the parameters is not clear. For now validate against\u001b[39;00m\n\u001b[1;32m   2219\u001b[0m     \u001b[38;5;66;03m# the composite storage class\u001b[39;00m\n\u001b[1;32m   2220\u001b[0m     getInfo\u001b[38;5;241m.\u001b[39mformatter\u001b[38;5;241m.\u001b[39mfileDescriptor\u001b[38;5;241m.\u001b[39mstorageClass\u001b[38;5;241m.\u001b[39mvalidateParameters(parameters)\n\u001b[0;32m-> 2222\u001b[0m \u001b[38;5;28;01mreturn\u001b[39;00m \u001b[38;5;28;43mself\u001b[39;49m\u001b[38;5;241;43m.\u001b[39;49m\u001b[43m_read_artifact_into_memory\u001b[49m\u001b[43m(\u001b[49m\u001b[43mgetInfo\u001b[49m\u001b[43m,\u001b[49m\u001b[43m \u001b[49m\u001b[43mref\u001b[49m\u001b[43m,\u001b[49m\u001b[43m \u001b[49m\u001b[43misComponent\u001b[49m\u001b[38;5;241;43m=\u001b[39;49m\u001b[43misComponent\u001b[49m\u001b[43m,\u001b[49m\u001b[43m \u001b[49m\u001b[43mcache_ref\u001b[49m\u001b[38;5;241;43m=\u001b[39;49m\u001b[43mcache_ref\u001b[49m\u001b[43m)\u001b[49m\n",
      "File \u001b[0;32m/opt/lsst/software/stack/stack/miniconda3-py38_4.9.2-6.0.0/Linux64/daf_butler/g98bc2251b0+353af21826/python/lsst/daf/butler/datastores/fileDatastore.py:1357\u001b[0m, in \u001b[0;36mFileDatastore._read_artifact_into_memory\u001b[0;34m(self, getInfo, ref, isComponent, cache_ref)\u001b[0m\n\u001b[1;32m   1346\u001b[0m     \u001b[38;5;28;01mwith\u001b[39;00m formatter\u001b[38;5;241m.\u001b[39m_updateLocation(newLocation):\n\u001b[1;32m   1347\u001b[0m         \u001b[38;5;28;01mwith\u001b[39;00m time_this(\n\u001b[1;32m   1348\u001b[0m             log,\n\u001b[1;32m   1349\u001b[0m             msg\u001b[38;5;241m=\u001b[39m\u001b[38;5;124m\"\u001b[39m\u001b[38;5;124mReading\u001b[39m\u001b[38;5;132;01m%s\u001b[39;00m\u001b[38;5;124m from location \u001b[39m\u001b[38;5;132;01m%s\u001b[39;00m\u001b[38;5;124m \u001b[39m\u001b[38;5;132;01m%s\u001b[39;00m\u001b[38;5;124m with formatter \u001b[39m\u001b[38;5;132;01m%s\u001b[39;00m\u001b[38;5;124m\"\u001b[39m,\n\u001b[0;32m   (...)\u001b[0m\n\u001b[1;32m   1355\u001b[0m             ),\n\u001b[1;32m   1356\u001b[0m         ):\n\u001b[0;32m-> 1357\u001b[0m             result \u001b[38;5;241m=\u001b[39m \u001b[43mformatter\u001b[49m\u001b[38;5;241;43m.\u001b[39;49m\u001b[43mread\u001b[49m\u001b[43m(\u001b[49m\u001b[43mcomponent\u001b[49m\u001b[38;5;241;43m=\u001b[39;49m\u001b[43mgetInfo\u001b[49m\u001b[38;5;241;43m.\u001b[39;49m\u001b[43mcomponent\u001b[49m\u001b[43m \u001b[49m\u001b[38;5;28;43;01mif\u001b[39;49;00m\u001b[43m \u001b[49m\u001b[43misComponent\u001b[49m\u001b[43m \u001b[49m\u001b[38;5;28;43;01melse\u001b[39;49;00m\u001b[43m \u001b[49m\u001b[38;5;28;43;01mNone\u001b[39;49;00m\u001b[43m)\u001b[49m\n\u001b[1;32m   1358\u001b[0m \u001b[38;5;28;01mexcept\u001b[39;00m \u001b[38;5;167;01mException\u001b[39;00m \u001b[38;5;28;01mas\u001b[39;00m e:\n\u001b[1;32m   1359\u001b[0m     \u001b[38;5;28;01mraise\u001b[39;00m \u001b[38;5;167;01mValueError\u001b[39;00m(\n\u001b[1;32m   1360\u001b[0m         \u001b[38;5;124mf\u001b[39m\u001b[38;5;124m\"\u001b[39m\u001b[38;5;124mFailure from formatter \u001b[39m\u001b[38;5;124m'\u001b[39m\u001b[38;5;132;01m{\u001b[39;00mformatter\u001b[38;5;241m.\u001b[39mname()\u001b[38;5;132;01m}\u001b[39;00m\u001b[38;5;124m'\u001b[39m\u001b[38;5;124m for dataset \u001b[39m\u001b[38;5;132;01m{\u001b[39;00mref\u001b[38;5;241m.\u001b[39mid\u001b[38;5;132;01m}\u001b[39;00m\u001b[38;5;124m\"\u001b[39m\n\u001b[1;32m   1361\u001b[0m         \u001b[38;5;124mf\u001b[39m\u001b[38;5;124m\"\u001b[39m\u001b[38;5;124m (\u001b[39m\u001b[38;5;132;01m{\u001b[39;00mref\u001b[38;5;241m.\u001b[39mdatasetType\u001b[38;5;241m.\u001b[39mname\u001b[38;5;132;01m}\u001b[39;00m\u001b[38;5;124m from \u001b[39m\u001b[38;5;132;01m{\u001b[39;00muri\u001b[38;5;132;01m}\u001b[39;00m\u001b[38;5;124m): \u001b[39m\u001b[38;5;132;01m{\u001b[39;00me\u001b[38;5;132;01m}\u001b[39;00m\u001b[38;5;124m\"\u001b[39m\n\u001b[1;32m   1362\u001b[0m     ) \u001b[38;5;28;01mfrom\u001b[39;00m \u001b[38;5;21;01me\u001b[39;00m\n",
      "File \u001b[0;32m/opt/lsst/software/stack/stack/miniconda3-py38_4.9.2-6.0.0/Linux64/obs_base/g7cb150fdc4+4d54c50af8/python/lsst/obs/base/formatters/fitsExposure.py:94\u001b[0m, in \u001b[0;36mFitsImageFormatterBase.read\u001b[0;34m(self, component)\u001b[0m\n\u001b[1;32m     92\u001b[0m \u001b[38;5;28;01mif\u001b[39;00m component \u001b[38;5;129;01mis\u001b[39;00m \u001b[38;5;129;01mnot\u001b[39;00m \u001b[38;5;28;01mNone\u001b[39;00m:\n\u001b[1;32m     93\u001b[0m     \u001b[38;5;28;01mreturn\u001b[39;00m \u001b[38;5;28mself\u001b[39m\u001b[38;5;241m.\u001b[39mreadComponent(component)\n\u001b[0;32m---> 94\u001b[0m \u001b[38;5;28;01mreturn\u001b[39;00m \u001b[38;5;28;43mself\u001b[39;49m\u001b[38;5;241;43m.\u001b[39;49m\u001b[43mreadFull\u001b[49m\u001b[43m(\u001b[49m\u001b[43m)\u001b[49m\n",
      "File \u001b[0;32m/opt/lsst/software/stack/stack/miniconda3-py38_4.9.2-6.0.0/Linux64/obs_lsst/g21ea1d022b+7ccdb79186/python/lsst/obs/lsst/rawFormatter.py:212\u001b[0m, in \u001b[0;36mLsstCamRawFormatter.readFull\u001b[0;34m(self)\u001b[0m\n\u001b[1;32m    210\u001b[0m     exposure\u001b[38;5;241m.\u001b[39msetDetector(detector_builder\u001b[38;5;241m.\u001b[39mfinish())\n\u001b[1;32m    211\u001b[0m \u001b[38;5;28;01melse\u001b[39;00m:\n\u001b[0;32m--> 212\u001b[0m     ampExps \u001b[38;5;241m=\u001b[39m \u001b[43mreadRawAmps\u001b[49m\u001b[43m(\u001b[49m\u001b[43mrawFile\u001b[49m\u001b[43m,\u001b[49m\u001b[43m \u001b[49m\u001b[43mdetector\u001b[49m\u001b[43m)\u001b[49m\n\u001b[1;32m    213\u001b[0m     exposure \u001b[38;5;241m=\u001b[39m fixAmpsAndAssemble(ampExps, rawFile)\n\u001b[1;32m    214\u001b[0m \u001b[38;5;28mself\u001b[39m\u001b[38;5;241m.\u001b[39mattachComponentsFromMetadata(exposure)\n",
      "File \u001b[0;32m/opt/lsst/software/stack/stack/miniconda3-py38_4.9.2-6.0.0/Linux64/obs_lsst/g21ea1d022b+7ccdb79186/python/lsst/obs/lsst/assembly.py:307\u001b[0m, in \u001b[0;36mreadRawAmps\u001b[0;34m(fileName, detector)\u001b[0m\n\u001b[1;32m    305\u001b[0m \u001b[38;5;28;01mfor\u001b[39;00m hdu \u001b[38;5;129;01min\u001b[39;00m \u001b[38;5;28mrange\u001b[39m(\u001b[38;5;241m1\u001b[39m, \u001b[38;5;28mlen\u001b[39m(detector)\u001b[38;5;241m+\u001b[39m\u001b[38;5;241m1\u001b[39m):\n\u001b[1;32m    306\u001b[0m     reader \u001b[38;5;241m=\u001b[39m afwImage\u001b[38;5;241m.\u001b[39mImageFitsReader(fileName, hdu\u001b[38;5;241m=\u001b[39mhdu)\n\u001b[0;32m--> 307\u001b[0m     exp \u001b[38;5;241m=\u001b[39m afwImage\u001b[38;5;241m.\u001b[39mmakeExposure(afwImage\u001b[38;5;241m.\u001b[39mmakeMaskedImage(\u001b[43mreader\u001b[49m\u001b[38;5;241;43m.\u001b[39;49m\u001b[43mread\u001b[49m\u001b[43m(\u001b[49m\u001b[43mdtype\u001b[49m\u001b[38;5;241;43m=\u001b[39;49m\u001b[43mnp\u001b[49m\u001b[38;5;241;43m.\u001b[39;49m\u001b[43mdtype\u001b[49m\u001b[43m(\u001b[49m\u001b[43mnp\u001b[49m\u001b[38;5;241;43m.\u001b[39;49m\u001b[43mint32\u001b[49m\u001b[43m)\u001b[49m\u001b[43m,\u001b[49m\n\u001b[1;32m    308\u001b[0m \u001b[43m                                                                     \u001b[49m\u001b[43mallowUnsafe\u001b[49m\u001b[38;5;241;43m=\u001b[39;49m\u001b[38;5;28;43;01mTrue\u001b[39;49;00m\u001b[43m)\u001b[49m))\n\u001b[1;32m    309\u001b[0m     exp\u001b[38;5;241m.\u001b[39msetDetector(detector)\n\u001b[1;32m    310\u001b[0m     exp\u001b[38;5;241m.\u001b[39msetMetadata(reader\u001b[38;5;241m.\u001b[39mreadMetadata())\n",
      "\u001b[0;31mKeyboardInterrupt\u001b[0m: "
     ]
    }
   ],
   "source": [
    "for exp_ in exposures_selected:\n",
    "    raw_img_ = butler.get('raw', dataId={'exposure': exp_, 'instrument': 'LATISS', 'detector': 0}, collections = calibCollections)\n",
    "    \n",
    "    time_ = raw_img_.getMetadata().toDict()['EXPTIME']\n",
    "    print(exp_,time_)"
   ]
  },
  {
   "cell_type": "code",
   "execution_count": null,
   "id": "11e9e578-5cd0-4719-bdda-9c246ed0fcf4",
   "metadata": {},
   "outputs": [],
   "source": []
  },
  {
   "cell_type": "markdown",
   "id": "7f4a3dde-da84-4f8c-94fd-b0332fb5d655",
   "metadata": {},
   "source": [
    "# Retrieve exposures from Butler and make pseudo-postISRCCD "
   ]
  },
  {
   "cell_type": "code",
   "execution_count": 25,
   "id": "0b1d8cd0-a59d-4829-8203-1096d3a4146b",
   "metadata": {
    "execution": {
     "iopub.execute_input": "2023-08-31T18:43:34.459054Z",
     "iopub.status.busy": "2023-08-31T18:43:34.458909Z",
     "iopub.status.idle": "2023-08-31T18:43:34.467016Z",
     "shell.execute_reply": "2023-08-31T18:43:34.466587Z",
     "shell.execute_reply.started": "2023-08-31T18:43:34.459041Z"
    },
    "tags": []
   },
   "outputs": [],
   "source": [
    "outdir_base = \"./pseudo_postisrccd_img\"\n",
    "if not os.path.exists(outdir_base):\n",
    "    os.makedirs(outdir_base)\n",
    "    \n",
    "outdir_list = []\n",
    "if exp_date!='all':\n",
    "    outdir_list.append(exp_date)\n",
    "else:\n",
    "    outdir_list.append('all_dates')\n",
    "if source!='all':\n",
    "    outdir_list.append(source)\n",
    "else:\n",
    "    outdir_list.append('all_sources')\n",
    "if physical_filter!='all':\n",
    "    outdir_list.append(physical_filter)\n",
    "else:\n",
    "    outdir_list.append('all_phys_filters')\n",
    "\n",
    "outdir_label = str(outdir_list[0])\n",
    "for elem_ in outdir_list[1:]:\n",
    "    outdir_label = outdir_label+'_{0}'.format(elem_.replace('~','-'))\n",
    "\n",
    "outdir = os.path.join(outdir_base,str(exp_date))\n",
    "outdir = os.path.join(outdir_base,outdir_label)\n",
    "if not os.path.exists(outdir):\n",
    "    os.makedirs(outdir)"
   ]
  },
  {
   "cell_type": "code",
   "execution_count": null,
   "id": "ac7b97e4-8b2f-4731-8461-4f43736dddf8",
   "metadata": {},
   "outputs": [],
   "source": []
  },
  {
   "cell_type": "code",
   "execution_count": null,
   "id": "dfea282f-342d-4f3c-a31b-9d8bb3feba1a",
   "metadata": {},
   "outputs": [],
   "source": []
  },
  {
   "cell_type": "markdown",
   "id": "fd3b7b71-4344-41d7-9b2e-3902802c13b4",
   "metadata": {},
   "source": [
    "## Prepare ISR task and define its inputs with Butler "
   ]
  },
  {
   "cell_type": "code",
   "execution_count": 37,
   "id": "412567bf-4590-4259-95bd-92ac85a927f7",
   "metadata": {
    "execution": {
     "iopub.execute_input": "2023-09-04T23:34:07.463446Z",
     "iopub.status.busy": "2023-09-04T23:34:07.463104Z",
     "iopub.status.idle": "2023-09-04T23:34:07.483583Z",
     "shell.execute_reply": "2023-09-04T23:34:07.483193Z",
     "shell.execute_reply.started": "2023-09-04T23:34:07.463428Z"
    },
    "tags": []
   },
   "outputs": [],
   "source": [
    "# configuration\n",
    "isr_config =  IsrTaskConfig()"
   ]
  },
  {
   "cell_type": "code",
   "execution_count": 38,
   "id": "128d48a0-eb3b-46b8-85a7-335654132c44",
   "metadata": {
    "execution": {
     "iopub.execute_input": "2023-09-04T23:34:07.791435Z",
     "iopub.status.busy": "2023-09-04T23:34:07.791255Z",
     "iopub.status.idle": "2023-09-04T23:34:07.794755Z",
     "shell.execute_reply": "2023-09-04T23:34:07.794326Z",
     "shell.execute_reply.started": "2023-09-04T23:34:07.791421Z"
    },
    "tags": []
   },
   "outputs": [],
   "source": [
    "isr_config.doDark = False\n",
    "isr_config.doFlat =  False\n",
    "isr_config.doFringe = False\n",
    "isr_config.doDefect = True\n",
    "isr_config.doLinearize = False\n",
    "isr_config.doCrosstalk =  False\n",
    "isr_config.doSaturationInterpolation = False\n",
    "isr_config.overscan.fitType: 'MEDIAN_PER_ROW'\n",
    "isr_config.doBias: True\n"
   ]
  },
  {
   "cell_type": "code",
   "execution_count": 39,
   "id": "176a179f-8d79-4625-82e5-14556ae34836",
   "metadata": {
    "execution": {
     "iopub.execute_input": "2023-09-04T23:34:09.165618Z",
     "iopub.status.busy": "2023-09-04T23:34:09.165382Z",
     "iopub.status.idle": "2023-09-04T23:34:09.169702Z",
     "shell.execute_reply": "2023-09-04T23:34:09.169169Z",
     "shell.execute_reply.started": "2023-09-04T23:34:09.165602Z"
    },
    "tags": []
   },
   "outputs": [],
   "source": [
    "isr_task = IsrTask(config=isr_config)"
   ]
  },
  {
   "cell_type": "code",
   "execution_count": null,
   "id": "e1dc4b91-59c4-45b7-b330-dfd7655568d7",
   "metadata": {},
   "outputs": [],
   "source": []
  },
  {
   "cell_type": "markdown",
   "id": "f817cd11-3903-4d09-8b52-504ad6942b5a",
   "metadata": {},
   "source": [
    "Prepare information and collections for calibration "
   ]
  },
  {
   "cell_type": "code",
   "execution_count": 40,
   "id": "ca24467e-a7e0-4838-ba0f-c37475fbc601",
   "metadata": {
    "execution": {
     "iopub.execute_input": "2023-09-04T23:34:12.947699Z",
     "iopub.status.busy": "2023-09-04T23:34:12.947370Z",
     "iopub.status.idle": "2023-09-04T23:34:14.614288Z",
     "shell.execute_reply": "2023-09-04T23:34:14.613757Z",
     "shell.execute_reply.started": "2023-09-04T23:34:12.947683Z"
    },
    "tags": []
   },
   "outputs": [],
   "source": [
    "butler = dafButler.Butler(repo, collections=calibCollections)\n",
    "camera = butler.get('camera', instrument=cameraName)\n",
    "#bias = butler.get('bias',instrument=cameraName,detector=0)\n",
    "#defects = butler.get('defects',instrument=cameraName,detector=0)\n"
   ]
  },
  {
   "cell_type": "code",
   "execution_count": 41,
   "id": "655de8b8-3109-4a63-bcc7-3be31e9a514d",
   "metadata": {
    "execution": {
     "iopub.execute_input": "2023-09-04T23:34:14.623531Z",
     "iopub.status.busy": "2023-09-04T23:34:14.623214Z",
     "iopub.status.idle": "2023-09-04T23:34:14.625519Z",
     "shell.execute_reply": "2023-09-04T23:34:14.625111Z",
     "shell.execute_reply.started": "2023-09-04T23:34:14.623517Z"
    },
    "tags": []
   },
   "outputs": [],
   "source": [
    "show_plot = True"
   ]
  },
  {
   "cell_type": "markdown",
   "id": "a6230ef7-ddeb-4430-af47-320b8f72c840",
   "metadata": {},
   "source": [
    "Astropy scale transformations"
   ]
  },
  {
   "cell_type": "code",
   "execution_count": 42,
   "id": "257001ba-731c-4d13-bd0d-4c68a3cd6829",
   "metadata": {
    "execution": {
     "iopub.execute_input": "2023-09-04T23:34:16.910353Z",
     "iopub.status.busy": "2023-09-04T23:34:16.909910Z",
     "iopub.status.idle": "2023-09-04T23:34:16.913131Z",
     "shell.execute_reply": "2023-09-04T23:34:16.912642Z",
     "shell.execute_reply.started": "2023-09-04T23:34:16.910335Z"
    },
    "tags": []
   },
   "outputs": [],
   "source": [
    "transform = AsinhStretch() + PercentileInterval(99.)\n",
    "#transform = PercentileInterval(98.)"
   ]
  },
  {
   "cell_type": "code",
   "execution_count": 43,
   "id": "b6351e4f-030b-4712-ab7c-452e2ab04118",
   "metadata": {
    "execution": {
     "iopub.execute_input": "2023-09-04T23:34:19.062805Z",
     "iopub.status.busy": "2023-09-04T23:34:19.062442Z",
     "iopub.status.idle": "2023-09-04T23:34:19.079768Z",
     "shell.execute_reply": "2023-09-04T23:34:19.079180Z",
     "shell.execute_reply.started": "2023-09-04T23:34:19.062788Z"
    },
    "tags": []
   },
   "outputs": [
    {
     "ename": "NameError",
     "evalue": "name 'collection' is not defined",
     "output_type": "error",
     "traceback": [
      "\u001b[0;31m---------------------------------------------------------------------------\u001b[0m",
      "\u001b[0;31mNameError\u001b[0m                                 Traceback (most recent call last)",
      "Input \u001b[0;32mIn [43]\u001b[0m, in \u001b[0;36m<cell line: 3>\u001b[0;34m()\u001b[0m\n\u001b[1;32m      1\u001b[0m exp_selected_ \u001b[38;5;241m=\u001b[39m exposures_selected[\u001b[38;5;241m0\u001b[39m]\n\u001b[0;32m----> 3\u001b[0m raw_img\u001b[38;5;241m=\u001b[39m butler\u001b[38;5;241m.\u001b[39mget(\u001b[38;5;124m'\u001b[39m\u001b[38;5;124mraw\u001b[39m\u001b[38;5;124m'\u001b[39m, dataId\u001b[38;5;241m=\u001b[39m{\u001b[38;5;124m'\u001b[39m\u001b[38;5;124mexposure\u001b[39m\u001b[38;5;124m'\u001b[39m: exp_selected_, \u001b[38;5;124m'\u001b[39m\u001b[38;5;124minstrument\u001b[39m\u001b[38;5;124m'\u001b[39m: \u001b[38;5;124m'\u001b[39m\u001b[38;5;124mLATISS\u001b[39m\u001b[38;5;124m'\u001b[39m, \u001b[38;5;124m'\u001b[39m\u001b[38;5;124mdetector\u001b[39m\u001b[38;5;124m'\u001b[39m: \u001b[38;5;241m0\u001b[39m}, collections \u001b[38;5;241m=\u001b[39m \u001b[43mcollection\u001b[49m)\n\u001b[1;32m      4\u001b[0m bias \u001b[38;5;241m=\u001b[39m butler\u001b[38;5;241m.\u001b[39mget(\u001b[38;5;124m\"\u001b[39m\u001b[38;5;124mbias\u001b[39m\u001b[38;5;124m\"\u001b[39m,instrument\u001b[38;5;241m=\u001b[39mcameraName, exposure\u001b[38;5;241m=\u001b[39m exp_selected_, detector\u001b[38;5;241m=\u001b[39m\u001b[38;5;241m0\u001b[39m, collections\u001b[38;5;241m=\u001b[39mcalibCollections)\n\u001b[1;32m      5\u001b[0m defects \u001b[38;5;241m=\u001b[39m butler\u001b[38;5;241m.\u001b[39mget(\u001b[38;5;124m'\u001b[39m\u001b[38;5;124mdefects\u001b[39m\u001b[38;5;124m'\u001b[39m,instrument\u001b[38;5;241m=\u001b[39mcameraName, exposure\u001b[38;5;241m=\u001b[39m exp_selected_,detector\u001b[38;5;241m=\u001b[39m\u001b[38;5;241m0\u001b[39m,collections\u001b[38;5;241m=\u001b[39mcalibCollections)\n",
      "\u001b[0;31mNameError\u001b[0m: name 'collection' is not defined"
     ]
    }
   ],
   "source": [
    "exp_selected_ = exposures_selected[0]\n",
    "\n",
    "raw_img= butler.get('raw', dataId={'exposure': exp_selected_, 'instrument': 'LATISS', 'detector': 0}, collections = collection)\n",
    "bias = butler.get(\"bias\",instrument=cameraName, exposure= exp_selected_, detector=0, collections=calibCollections)\n",
    "defects = butler.get('defects',instrument=cameraName, exposure= exp_selected_,detector=0,collections=calibCollections)\n",
    "\n",
    "meta = raw_img.getMetadata()\n",
    "md = meta.toDict()\n",
    "\n",
    "object_ = md['OBJECT']\n",
    "am_ = md['AMSTART']\n",
    "filter_ = md['FILTER']\n",
    "grating_ = md['GRATING']\n",
    "\n",
    "#fast ISR \n",
    "isr_img = isr_task.run(raw_img,bias=bias,defects=defects)\n",
    "\n",
    "if show_plot:\n",
    "    %matplotlib inline\n",
    "    \n",
    "    rotated_array = isr_img.exposure.image.array[::-1,::-1] #rotate the array 180 degrees\n",
    "    #np.flip(np.flip(a, 1), 0)\n",
    "\n",
    "\n",
    "    fig = plt.figure(figsize=(12,10))\n",
    "    afw_display = afwDisplay.Display(frame=fig)\n",
    "    afw_display.scale('linear', 'zscale',None)\n",
    "    the_title = f\"{index}, pseudo-postISR exp = {exp_selected_}, target = {object_}, airmass = {am_:.2f}, phys. filter = {filter_}-{grating_}\"\n",
    "    afw_display.mtv(isr_img.exposure.image,title=the_title)"
   ]
  },
  {
   "cell_type": "code",
   "execution_count": null,
   "id": "d770fc56-100b-4deb-9dbd-23e6b31ce80c",
   "metadata": {},
   "outputs": [],
   "source": []
  },
  {
   "cell_type": "code",
   "execution_count": null,
   "id": "134a1346-c0ef-4da9-b2ee-8e5af24f1071",
   "metadata": {},
   "outputs": [],
   "source": []
  },
  {
   "cell_type": "markdown",
   "id": "2dbba61a-8dd1-49a7-9647-d6e25ee15a37",
   "metadata": {
    "execution": {
     "iopub.execute_input": "2023-06-01T10:13:56.315358Z",
     "iopub.status.busy": "2023-06-01T10:13:56.315115Z",
     "iopub.status.idle": "2023-06-01T10:13:56.317844Z",
     "shell.execute_reply": "2023-06-01T10:13:56.317435Z",
     "shell.execute_reply.started": "2023-06-01T10:13:56.315341Z"
    },
    "tags": []
   },
   "source": [
    "# Save in files"
   ]
  },
  {
   "cell_type": "code",
   "execution_count": 35,
   "id": "991e5e01-0302-4502-9393-67105f18af5e",
   "metadata": {
    "execution": {
     "iopub.execute_input": "2023-08-31T18:43:41.849158Z",
     "iopub.status.busy": "2023-08-31T18:43:41.849019Z",
     "iopub.status.idle": "2023-08-31T18:43:41.853024Z",
     "shell.execute_reply": "2023-08-31T18:43:41.852693Z",
     "shell.execute_reply.started": "2023-08-31T18:43:41.849145Z"
    },
    "tags": []
   },
   "outputs": [],
   "source": [
    "max_files = 10"
   ]
  },
  {
   "cell_type": "code",
   "execution_count": 36,
   "id": "cc338e02-3434-4bcf-a4a2-8769a506c76e",
   "metadata": {
    "execution": {
     "iopub.execute_input": "2023-08-31T18:43:41.853635Z",
     "iopub.status.busy": "2023-08-31T18:43:41.853503Z",
     "iopub.status.idle": "2023-08-31T18:44:19.617763Z",
     "shell.execute_reply": "2023-08-31T18:44:19.617224Z",
     "shell.execute_reply.started": "2023-08-31T18:43:41.853624Z"
    },
    "tags": []
   },
   "outputs": [
    {
     "name": "stdout",
     "output_type": "stream",
     "text": [
      "exposure selected = 2022091400761\n"
     ]
    },
    {
     "data": {
      "text/html": [
       "<pre style=\"margin: 0.1em;\n",
       "padding-left: 0.25em;\n",
       "border-left-style: solid;\n",
       "font-family: var(--jp-code-font-family);\n",
       "font-size: var(--jp-code-font-size);\n",
       "line-height: var(--jp-code-line-height);\n",
       "\"><span style=\"color: var(--jp-warn-color2)\">lsst.isr</span> <span style=\"color: var(--jp-info-color0)\">INFO</span>: Converting exposure to floating point values.</pre>"
      ],
      "text/plain": [
       "<IPython.core.display.HTML object>"
      ]
     },
     "metadata": {},
     "output_type": "display_data"
    },
    {
     "data": {
      "text/html": [
       "<pre style=\"margin: 0.1em;\n",
       "padding-left: 0.25em;\n",
       "border-left-style: solid;\n",
       "font-family: var(--jp-code-font-family);\n",
       "font-size: var(--jp-code-font-size);\n",
       "line-height: var(--jp-code-line-height);\n",
       "\"><span style=\"color: var(--jp-warn-color2)\">lsst.isr</span> <span style=\"color: var(--jp-info-color0)\">INFO</span>: Assembling CCD from amplifiers.</pre>"
      ],
      "text/plain": [
       "<IPython.core.display.HTML object>"
      ]
     },
     "metadata": {},
     "output_type": "display_data"
    },
    {
     "data": {
      "text/html": [
       "<pre style=\"margin: 0.1em;\n",
       "padding-left: 0.25em;\n",
       "border-left-style: solid;\n",
       "font-family: var(--jp-code-font-family);\n",
       "font-size: var(--jp-code-font-size);\n",
       "line-height: var(--jp-code-line-height);\n",
       "\"><span style=\"color: var(--jp-warn-color2)\">lsst.isr</span> <span style=\"color: var(--jp-info-color0)\">INFO</span>: Applying bias correction.</pre>"
      ],
      "text/plain": [
       "<IPython.core.display.HTML object>"
      ]
     },
     "metadata": {},
     "output_type": "display_data"
    },
    {
     "data": {
      "text/html": [
       "<pre style=\"margin: 0.1em;\n",
       "padding-left: 0.25em;\n",
       "border-left-style: solid;\n",
       "font-family: var(--jp-code-font-family);\n",
       "font-size: var(--jp-code-font-size);\n",
       "line-height: var(--jp-code-line-height);\n",
       "\"><span style=\"color: var(--jp-warn-color2)\">lsst.isr</span> <span style=\"color: var(--jp-info-color0)\">INFO</span>: Masking defects.</pre>"
      ],
      "text/plain": [
       "<IPython.core.display.HTML object>"
      ]
     },
     "metadata": {},
     "output_type": "display_data"
    },
    {
     "data": {
      "text/html": [
       "<pre style=\"margin: 0.1em;\n",
       "padding-left: 0.25em;\n",
       "border-left-style: solid;\n",
       "font-family: var(--jp-code-font-family);\n",
       "font-size: var(--jp-code-font-size);\n",
       "line-height: var(--jp-code-line-height);\n",
       "\"><span style=\"color: var(--jp-warn-color2)\">lsst.isr</span> <span style=\"color: var(--jp-info-color0)\">INFO</span>: Masking non-finite (NAN, inf) value pixels.</pre>"
      ],
      "text/plain": [
       "<IPython.core.display.HTML object>"
      ]
     },
     "metadata": {},
     "output_type": "display_data"
    },
    {
     "data": {
      "text/html": [
       "<pre style=\"margin: 0.1em;\n",
       "padding-left: 0.25em;\n",
       "border-left-style: solid;\n",
       "font-family: var(--jp-code-font-family);\n",
       "font-size: var(--jp-code-font-size);\n",
       "line-height: var(--jp-code-line-height);\n",
       "\"><span style=\"color: var(--jp-warn-color2)\">lsst.isr</span> <span style=\"color: var(--jp-info-color0)\">INFO</span>: Widening saturation trails.</pre>"
      ],
      "text/plain": [
       "<IPython.core.display.HTML object>"
      ]
     },
     "metadata": {},
     "output_type": "display_data"
    },
    {
     "data": {
      "text/html": [
       "<pre style=\"margin: 0.1em;\n",
       "padding-left: 0.25em;\n",
       "border-left-style: solid;\n",
       "font-family: var(--jp-code-font-family);\n",
       "font-size: var(--jp-code-font-size);\n",
       "line-height: var(--jp-code-line-height);\n",
       "\"><span style=\"color: var(--jp-warn-color2)\">lsst.isr</span> <span style=\"color: var(--jp-info-color0)\">INFO</span>: Set 322444 BAD pixels to 55.467953.</pre>"
      ],
      "text/plain": [
       "<IPython.core.display.HTML object>"
      ]
     },
     "metadata": {},
     "output_type": "display_data"
    },
    {
     "data": {
      "text/html": [
       "<pre style=\"margin: 0.1em;\n",
       "padding-left: 0.25em;\n",
       "border-left-style: solid;\n",
       "font-family: var(--jp-code-font-family);\n",
       "font-size: var(--jp-code-font-size);\n",
       "line-height: var(--jp-code-line-height);\n",
       "\"><span style=\"color: var(--jp-warn-color2)\">lsst.isr</span> <span style=\"color: var(--jp-info-color0)\">INFO</span>: Interpolating masked pixels.</pre>"
      ],
      "text/plain": [
       "<IPython.core.display.HTML object>"
      ]
     },
     "metadata": {},
     "output_type": "display_data"
    },
    {
     "data": {
      "text/html": [
       "<pre style=\"margin: 0.1em;\n",
       "padding-left: 0.25em;\n",
       "border-left-style: solid;\n",
       "font-family: var(--jp-code-font-family);\n",
       "font-size: var(--jp-code-font-size);\n",
       "line-height: var(--jp-code-line-height);\n",
       "\"><span style=\"color: var(--jp-warn-color2)\">lsst.isr</span> <span style=\"color: var(--jp-warn-color0)\">WARNING</span>: No rough magnitude zero point defined for filter empty~holo4_003.</pre>"
      ],
      "text/plain": [
       "<IPython.core.display.HTML object>"
      ]
     },
     "metadata": {},
     "output_type": "display_data"
    },
    {
     "data": {
      "text/html": [
       "<pre style=\"margin: 0.1em;\n",
       "padding-left: 0.25em;\n",
       "border-left-style: solid;\n",
       "font-family: var(--jp-code-font-family);\n",
       "font-size: var(--jp-code-font-size);\n",
       "line-height: var(--jp-code-line-height);\n",
       "\"><span style=\"color: var(--jp-warn-color2)\">lsst.isr</span> <span style=\"color: var(--jp-info-color0)\">INFO</span>: Setting rough magnitude zero point for filter empty~holo4_003: 31.692803</pre>"
      ],
      "text/plain": [
       "<IPython.core.display.HTML object>"
      ]
     },
     "metadata": {},
     "output_type": "display_data"
    },
    {
     "name": "stdout",
     "output_type": "stream",
     "text": [
      ">>>>  output filename exposure_2022091400761_empty-holo4_003_pseudo-postisrccd.fits\n",
      "exposure selected = 2022091400762\n"
     ]
    },
    {
     "data": {
      "text/html": [
       "<pre style=\"margin: 0.1em;\n",
       "padding-left: 0.25em;\n",
       "border-left-style: solid;\n",
       "font-family: var(--jp-code-font-family);\n",
       "font-size: var(--jp-code-font-size);\n",
       "line-height: var(--jp-code-line-height);\n",
       "\"><span style=\"color: var(--jp-warn-color2)\">lsst.isr</span> <span style=\"color: var(--jp-info-color0)\">INFO</span>: Converting exposure to floating point values.</pre>"
      ],
      "text/plain": [
       "<IPython.core.display.HTML object>"
      ]
     },
     "metadata": {},
     "output_type": "display_data"
    },
    {
     "data": {
      "text/html": [
       "<pre style=\"margin: 0.1em;\n",
       "padding-left: 0.25em;\n",
       "border-left-style: solid;\n",
       "font-family: var(--jp-code-font-family);\n",
       "font-size: var(--jp-code-font-size);\n",
       "line-height: var(--jp-code-line-height);\n",
       "\"><span style=\"color: var(--jp-warn-color2)\">lsst.isr</span> <span style=\"color: var(--jp-info-color0)\">INFO</span>: Assembling CCD from amplifiers.</pre>"
      ],
      "text/plain": [
       "<IPython.core.display.HTML object>"
      ]
     },
     "metadata": {},
     "output_type": "display_data"
    },
    {
     "data": {
      "text/html": [
       "<pre style=\"margin: 0.1em;\n",
       "padding-left: 0.25em;\n",
       "border-left-style: solid;\n",
       "font-family: var(--jp-code-font-family);\n",
       "font-size: var(--jp-code-font-size);\n",
       "line-height: var(--jp-code-line-height);\n",
       "\"><span style=\"color: var(--jp-warn-color2)\">lsst.isr</span> <span style=\"color: var(--jp-info-color0)\">INFO</span>: Applying bias correction.</pre>"
      ],
      "text/plain": [
       "<IPython.core.display.HTML object>"
      ]
     },
     "metadata": {},
     "output_type": "display_data"
    },
    {
     "data": {
      "text/html": [
       "<pre style=\"margin: 0.1em;\n",
       "padding-left: 0.25em;\n",
       "border-left-style: solid;\n",
       "font-family: var(--jp-code-font-family);\n",
       "font-size: var(--jp-code-font-size);\n",
       "line-height: var(--jp-code-line-height);\n",
       "\"><span style=\"color: var(--jp-warn-color2)\">lsst.isr</span> <span style=\"color: var(--jp-info-color0)\">INFO</span>: Masking defects.</pre>"
      ],
      "text/plain": [
       "<IPython.core.display.HTML object>"
      ]
     },
     "metadata": {},
     "output_type": "display_data"
    },
    {
     "data": {
      "text/html": [
       "<pre style=\"margin: 0.1em;\n",
       "padding-left: 0.25em;\n",
       "border-left-style: solid;\n",
       "font-family: var(--jp-code-font-family);\n",
       "font-size: var(--jp-code-font-size);\n",
       "line-height: var(--jp-code-line-height);\n",
       "\"><span style=\"color: var(--jp-warn-color2)\">lsst.isr</span> <span style=\"color: var(--jp-info-color0)\">INFO</span>: Masking non-finite (NAN, inf) value pixels.</pre>"
      ],
      "text/plain": [
       "<IPython.core.display.HTML object>"
      ]
     },
     "metadata": {},
     "output_type": "display_data"
    },
    {
     "data": {
      "text/html": [
       "<pre style=\"margin: 0.1em;\n",
       "padding-left: 0.25em;\n",
       "border-left-style: solid;\n",
       "font-family: var(--jp-code-font-family);\n",
       "font-size: var(--jp-code-font-size);\n",
       "line-height: var(--jp-code-line-height);\n",
       "\"><span style=\"color: var(--jp-warn-color2)\">lsst.isr</span> <span style=\"color: var(--jp-info-color0)\">INFO</span>: Widening saturation trails.</pre>"
      ],
      "text/plain": [
       "<IPython.core.display.HTML object>"
      ]
     },
     "metadata": {},
     "output_type": "display_data"
    },
    {
     "data": {
      "text/html": [
       "<pre style=\"margin: 0.1em;\n",
       "padding-left: 0.25em;\n",
       "border-left-style: solid;\n",
       "font-family: var(--jp-code-font-family);\n",
       "font-size: var(--jp-code-font-size);\n",
       "line-height: var(--jp-code-line-height);\n",
       "\"><span style=\"color: var(--jp-warn-color2)\">lsst.isr</span> <span style=\"color: var(--jp-info-color0)\">INFO</span>: Set 322467 BAD pixels to 54.779133.</pre>"
      ],
      "text/plain": [
       "<IPython.core.display.HTML object>"
      ]
     },
     "metadata": {},
     "output_type": "display_data"
    },
    {
     "data": {
      "text/html": [
       "<pre style=\"margin: 0.1em;\n",
       "padding-left: 0.25em;\n",
       "border-left-style: solid;\n",
       "font-family: var(--jp-code-font-family);\n",
       "font-size: var(--jp-code-font-size);\n",
       "line-height: var(--jp-code-line-height);\n",
       "\"><span style=\"color: var(--jp-warn-color2)\">lsst.isr</span> <span style=\"color: var(--jp-info-color0)\">INFO</span>: Interpolating masked pixels.</pre>"
      ],
      "text/plain": [
       "<IPython.core.display.HTML object>"
      ]
     },
     "metadata": {},
     "output_type": "display_data"
    },
    {
     "data": {
      "text/html": [
       "<pre style=\"margin: 0.1em;\n",
       "padding-left: 0.25em;\n",
       "border-left-style: solid;\n",
       "font-family: var(--jp-code-font-family);\n",
       "font-size: var(--jp-code-font-size);\n",
       "line-height: var(--jp-code-line-height);\n",
       "\"><span style=\"color: var(--jp-warn-color2)\">lsst.isr</span> <span style=\"color: var(--jp-warn-color0)\">WARNING</span>: No rough magnitude zero point defined for filter empty~holo4_003.</pre>"
      ],
      "text/plain": [
       "<IPython.core.display.HTML object>"
      ]
     },
     "metadata": {},
     "output_type": "display_data"
    },
    {
     "data": {
      "text/html": [
       "<pre style=\"margin: 0.1em;\n",
       "padding-left: 0.25em;\n",
       "border-left-style: solid;\n",
       "font-family: var(--jp-code-font-family);\n",
       "font-size: var(--jp-code-font-size);\n",
       "line-height: var(--jp-code-line-height);\n",
       "\"><span style=\"color: var(--jp-warn-color2)\">lsst.isr</span> <span style=\"color: var(--jp-info-color0)\">INFO</span>: Setting rough magnitude zero point for filter empty~holo4_003: 31.692803</pre>"
      ],
      "text/plain": [
       "<IPython.core.display.HTML object>"
      ]
     },
     "metadata": {},
     "output_type": "display_data"
    },
    {
     "name": "stdout",
     "output_type": "stream",
     "text": [
      ">>>>  output filename exposure_2022091400762_empty-holo4_003_pseudo-postisrccd.fits\n",
      "exposure selected = 2022091400782\n"
     ]
    },
    {
     "data": {
      "text/html": [
       "<pre style=\"margin: 0.1em;\n",
       "padding-left: 0.25em;\n",
       "border-left-style: solid;\n",
       "font-family: var(--jp-code-font-family);\n",
       "font-size: var(--jp-code-font-size);\n",
       "line-height: var(--jp-code-line-height);\n",
       "\"><span style=\"color: var(--jp-warn-color2)\">lsst.isr</span> <span style=\"color: var(--jp-info-color0)\">INFO</span>: Converting exposure to floating point values.</pre>"
      ],
      "text/plain": [
       "<IPython.core.display.HTML object>"
      ]
     },
     "metadata": {},
     "output_type": "display_data"
    },
    {
     "data": {
      "text/html": [
       "<pre style=\"margin: 0.1em;\n",
       "padding-left: 0.25em;\n",
       "border-left-style: solid;\n",
       "font-family: var(--jp-code-font-family);\n",
       "font-size: var(--jp-code-font-size);\n",
       "line-height: var(--jp-code-line-height);\n",
       "\"><span style=\"color: var(--jp-warn-color2)\">lsst.isr</span> <span style=\"color: var(--jp-info-color0)\">INFO</span>: Assembling CCD from amplifiers.</pre>"
      ],
      "text/plain": [
       "<IPython.core.display.HTML object>"
      ]
     },
     "metadata": {},
     "output_type": "display_data"
    },
    {
     "data": {
      "text/html": [
       "<pre style=\"margin: 0.1em;\n",
       "padding-left: 0.25em;\n",
       "border-left-style: solid;\n",
       "font-family: var(--jp-code-font-family);\n",
       "font-size: var(--jp-code-font-size);\n",
       "line-height: var(--jp-code-line-height);\n",
       "\"><span style=\"color: var(--jp-warn-color2)\">lsst.isr</span> <span style=\"color: var(--jp-info-color0)\">INFO</span>: Applying bias correction.</pre>"
      ],
      "text/plain": [
       "<IPython.core.display.HTML object>"
      ]
     },
     "metadata": {},
     "output_type": "display_data"
    },
    {
     "data": {
      "text/html": [
       "<pre style=\"margin: 0.1em;\n",
       "padding-left: 0.25em;\n",
       "border-left-style: solid;\n",
       "font-family: var(--jp-code-font-family);\n",
       "font-size: var(--jp-code-font-size);\n",
       "line-height: var(--jp-code-line-height);\n",
       "\"><span style=\"color: var(--jp-warn-color2)\">lsst.isr</span> <span style=\"color: var(--jp-info-color0)\">INFO</span>: Masking defects.</pre>"
      ],
      "text/plain": [
       "<IPython.core.display.HTML object>"
      ]
     },
     "metadata": {},
     "output_type": "display_data"
    },
    {
     "data": {
      "text/html": [
       "<pre style=\"margin: 0.1em;\n",
       "padding-left: 0.25em;\n",
       "border-left-style: solid;\n",
       "font-family: var(--jp-code-font-family);\n",
       "font-size: var(--jp-code-font-size);\n",
       "line-height: var(--jp-code-line-height);\n",
       "\"><span style=\"color: var(--jp-warn-color2)\">lsst.isr</span> <span style=\"color: var(--jp-info-color0)\">INFO</span>: Masking non-finite (NAN, inf) value pixels.</pre>"
      ],
      "text/plain": [
       "<IPython.core.display.HTML object>"
      ]
     },
     "metadata": {},
     "output_type": "display_data"
    },
    {
     "data": {
      "text/html": [
       "<pre style=\"margin: 0.1em;\n",
       "padding-left: 0.25em;\n",
       "border-left-style: solid;\n",
       "font-family: var(--jp-code-font-family);\n",
       "font-size: var(--jp-code-font-size);\n",
       "line-height: var(--jp-code-line-height);\n",
       "\"><span style=\"color: var(--jp-warn-color2)\">lsst.isr</span> <span style=\"color: var(--jp-info-color0)\">INFO</span>: Widening saturation trails.</pre>"
      ],
      "text/plain": [
       "<IPython.core.display.HTML object>"
      ]
     },
     "metadata": {},
     "output_type": "display_data"
    },
    {
     "data": {
      "text/html": [
       "<pre style=\"margin: 0.1em;\n",
       "padding-left: 0.25em;\n",
       "border-left-style: solid;\n",
       "font-family: var(--jp-code-font-family);\n",
       "font-size: var(--jp-code-font-size);\n",
       "line-height: var(--jp-code-line-height);\n",
       "\"><span style=\"color: var(--jp-warn-color2)\">lsst.isr</span> <span style=\"color: var(--jp-info-color0)\">INFO</span>: Set 322444 BAD pixels to 53.676090.</pre>"
      ],
      "text/plain": [
       "<IPython.core.display.HTML object>"
      ]
     },
     "metadata": {},
     "output_type": "display_data"
    },
    {
     "data": {
      "text/html": [
       "<pre style=\"margin: 0.1em;\n",
       "padding-left: 0.25em;\n",
       "border-left-style: solid;\n",
       "font-family: var(--jp-code-font-family);\n",
       "font-size: var(--jp-code-font-size);\n",
       "line-height: var(--jp-code-line-height);\n",
       "\"><span style=\"color: var(--jp-warn-color2)\">lsst.isr</span> <span style=\"color: var(--jp-info-color0)\">INFO</span>: Interpolating masked pixels.</pre>"
      ],
      "text/plain": [
       "<IPython.core.display.HTML object>"
      ]
     },
     "metadata": {},
     "output_type": "display_data"
    },
    {
     "data": {
      "text/html": [
       "<pre style=\"margin: 0.1em;\n",
       "padding-left: 0.25em;\n",
       "border-left-style: solid;\n",
       "font-family: var(--jp-code-font-family);\n",
       "font-size: var(--jp-code-font-size);\n",
       "line-height: var(--jp-code-line-height);\n",
       "\"><span style=\"color: var(--jp-warn-color2)\">lsst.isr</span> <span style=\"color: var(--jp-warn-color0)\">WARNING</span>: No rough magnitude zero point defined for filter empty~holo4_003.</pre>"
      ],
      "text/plain": [
       "<IPython.core.display.HTML object>"
      ]
     },
     "metadata": {},
     "output_type": "display_data"
    },
    {
     "data": {
      "text/html": [
       "<pre style=\"margin: 0.1em;\n",
       "padding-left: 0.25em;\n",
       "border-left-style: solid;\n",
       "font-family: var(--jp-code-font-family);\n",
       "font-size: var(--jp-code-font-size);\n",
       "line-height: var(--jp-code-line-height);\n",
       "\"><span style=\"color: var(--jp-warn-color2)\">lsst.isr</span> <span style=\"color: var(--jp-info-color0)\">INFO</span>: Setting rough magnitude zero point for filter empty~holo4_003: 31.692803</pre>"
      ],
      "text/plain": [
       "<IPython.core.display.HTML object>"
      ]
     },
     "metadata": {},
     "output_type": "display_data"
    },
    {
     "name": "stdout",
     "output_type": "stream",
     "text": [
      ">>>>  output filename exposure_2022091400782_empty-holo4_003_pseudo-postisrccd.fits\n",
      "exposure selected = 2022091400796\n"
     ]
    },
    {
     "data": {
      "text/html": [
       "<pre style=\"margin: 0.1em;\n",
       "padding-left: 0.25em;\n",
       "border-left-style: solid;\n",
       "font-family: var(--jp-code-font-family);\n",
       "font-size: var(--jp-code-font-size);\n",
       "line-height: var(--jp-code-line-height);\n",
       "\"><span style=\"color: var(--jp-warn-color2)\">lsst.isr</span> <span style=\"color: var(--jp-info-color0)\">INFO</span>: Converting exposure to floating point values.</pre>"
      ],
      "text/plain": [
       "<IPython.core.display.HTML object>"
      ]
     },
     "metadata": {},
     "output_type": "display_data"
    },
    {
     "data": {
      "text/html": [
       "<pre style=\"margin: 0.1em;\n",
       "padding-left: 0.25em;\n",
       "border-left-style: solid;\n",
       "font-family: var(--jp-code-font-family);\n",
       "font-size: var(--jp-code-font-size);\n",
       "line-height: var(--jp-code-line-height);\n",
       "\"><span style=\"color: var(--jp-warn-color2)\">lsst.isr</span> <span style=\"color: var(--jp-info-color0)\">INFO</span>: Assembling CCD from amplifiers.</pre>"
      ],
      "text/plain": [
       "<IPython.core.display.HTML object>"
      ]
     },
     "metadata": {},
     "output_type": "display_data"
    },
    {
     "data": {
      "text/html": [
       "<pre style=\"margin: 0.1em;\n",
       "padding-left: 0.25em;\n",
       "border-left-style: solid;\n",
       "font-family: var(--jp-code-font-family);\n",
       "font-size: var(--jp-code-font-size);\n",
       "line-height: var(--jp-code-line-height);\n",
       "\"><span style=\"color: var(--jp-warn-color2)\">lsst.isr</span> <span style=\"color: var(--jp-info-color0)\">INFO</span>: Applying bias correction.</pre>"
      ],
      "text/plain": [
       "<IPython.core.display.HTML object>"
      ]
     },
     "metadata": {},
     "output_type": "display_data"
    },
    {
     "data": {
      "text/html": [
       "<pre style=\"margin: 0.1em;\n",
       "padding-left: 0.25em;\n",
       "border-left-style: solid;\n",
       "font-family: var(--jp-code-font-family);\n",
       "font-size: var(--jp-code-font-size);\n",
       "line-height: var(--jp-code-line-height);\n",
       "\"><span style=\"color: var(--jp-warn-color2)\">lsst.isr</span> <span style=\"color: var(--jp-info-color0)\">INFO</span>: Masking defects.</pre>"
      ],
      "text/plain": [
       "<IPython.core.display.HTML object>"
      ]
     },
     "metadata": {},
     "output_type": "display_data"
    },
    {
     "data": {
      "text/html": [
       "<pre style=\"margin: 0.1em;\n",
       "padding-left: 0.25em;\n",
       "border-left-style: solid;\n",
       "font-family: var(--jp-code-font-family);\n",
       "font-size: var(--jp-code-font-size);\n",
       "line-height: var(--jp-code-line-height);\n",
       "\"><span style=\"color: var(--jp-warn-color2)\">lsst.isr</span> <span style=\"color: var(--jp-info-color0)\">INFO</span>: Masking non-finite (NAN, inf) value pixels.</pre>"
      ],
      "text/plain": [
       "<IPython.core.display.HTML object>"
      ]
     },
     "metadata": {},
     "output_type": "display_data"
    },
    {
     "data": {
      "text/html": [
       "<pre style=\"margin: 0.1em;\n",
       "padding-left: 0.25em;\n",
       "border-left-style: solid;\n",
       "font-family: var(--jp-code-font-family);\n",
       "font-size: var(--jp-code-font-size);\n",
       "line-height: var(--jp-code-line-height);\n",
       "\"><span style=\"color: var(--jp-warn-color2)\">lsst.isr</span> <span style=\"color: var(--jp-info-color0)\">INFO</span>: Widening saturation trails.</pre>"
      ],
      "text/plain": [
       "<IPython.core.display.HTML object>"
      ]
     },
     "metadata": {},
     "output_type": "display_data"
    },
    {
     "data": {
      "text/html": [
       "<pre style=\"margin: 0.1em;\n",
       "padding-left: 0.25em;\n",
       "border-left-style: solid;\n",
       "font-family: var(--jp-code-font-family);\n",
       "font-size: var(--jp-code-font-size);\n",
       "line-height: var(--jp-code-line-height);\n",
       "\"><span style=\"color: var(--jp-warn-color2)\">lsst.isr</span> <span style=\"color: var(--jp-info-color0)\">INFO</span>: Set 322444 BAD pixels to 50.775326.</pre>"
      ],
      "text/plain": [
       "<IPython.core.display.HTML object>"
      ]
     },
     "metadata": {},
     "output_type": "display_data"
    },
    {
     "data": {
      "text/html": [
       "<pre style=\"margin: 0.1em;\n",
       "padding-left: 0.25em;\n",
       "border-left-style: solid;\n",
       "font-family: var(--jp-code-font-family);\n",
       "font-size: var(--jp-code-font-size);\n",
       "line-height: var(--jp-code-line-height);\n",
       "\"><span style=\"color: var(--jp-warn-color2)\">lsst.isr</span> <span style=\"color: var(--jp-info-color0)\">INFO</span>: Interpolating masked pixels.</pre>"
      ],
      "text/plain": [
       "<IPython.core.display.HTML object>"
      ]
     },
     "metadata": {},
     "output_type": "display_data"
    },
    {
     "data": {
      "text/html": [
       "<pre style=\"margin: 0.1em;\n",
       "padding-left: 0.25em;\n",
       "border-left-style: solid;\n",
       "font-family: var(--jp-code-font-family);\n",
       "font-size: var(--jp-code-font-size);\n",
       "line-height: var(--jp-code-line-height);\n",
       "\"><span style=\"color: var(--jp-warn-color2)\">lsst.isr</span> <span style=\"color: var(--jp-warn-color0)\">WARNING</span>: No rough magnitude zero point defined for filter empty~holo4_003.</pre>"
      ],
      "text/plain": [
       "<IPython.core.display.HTML object>"
      ]
     },
     "metadata": {},
     "output_type": "display_data"
    },
    {
     "data": {
      "text/html": [
       "<pre style=\"margin: 0.1em;\n",
       "padding-left: 0.25em;\n",
       "border-left-style: solid;\n",
       "font-family: var(--jp-code-font-family);\n",
       "font-size: var(--jp-code-font-size);\n",
       "line-height: var(--jp-code-line-height);\n",
       "\"><span style=\"color: var(--jp-warn-color2)\">lsst.isr</span> <span style=\"color: var(--jp-info-color0)\">INFO</span>: Setting rough magnitude zero point for filter empty~holo4_003: 31.692803</pre>"
      ],
      "text/plain": [
       "<IPython.core.display.HTML object>"
      ]
     },
     "metadata": {},
     "output_type": "display_data"
    },
    {
     "name": "stdout",
     "output_type": "stream",
     "text": [
      ">>>>  output filename exposure_2022091400796_empty-holo4_003_pseudo-postisrccd.fits\n",
      "exposure selected = 2022091400817\n"
     ]
    },
    {
     "data": {
      "text/html": [
       "<pre style=\"margin: 0.1em;\n",
       "padding-left: 0.25em;\n",
       "border-left-style: solid;\n",
       "font-family: var(--jp-code-font-family);\n",
       "font-size: var(--jp-code-font-size);\n",
       "line-height: var(--jp-code-line-height);\n",
       "\"><span style=\"color: var(--jp-warn-color2)\">lsst.isr</span> <span style=\"color: var(--jp-info-color0)\">INFO</span>: Converting exposure to floating point values.</pre>"
      ],
      "text/plain": [
       "<IPython.core.display.HTML object>"
      ]
     },
     "metadata": {},
     "output_type": "display_data"
    },
    {
     "data": {
      "text/html": [
       "<pre style=\"margin: 0.1em;\n",
       "padding-left: 0.25em;\n",
       "border-left-style: solid;\n",
       "font-family: var(--jp-code-font-family);\n",
       "font-size: var(--jp-code-font-size);\n",
       "line-height: var(--jp-code-line-height);\n",
       "\"><span style=\"color: var(--jp-warn-color2)\">lsst.isr</span> <span style=\"color: var(--jp-info-color0)\">INFO</span>: Assembling CCD from amplifiers.</pre>"
      ],
      "text/plain": [
       "<IPython.core.display.HTML object>"
      ]
     },
     "metadata": {},
     "output_type": "display_data"
    },
    {
     "data": {
      "text/html": [
       "<pre style=\"margin: 0.1em;\n",
       "padding-left: 0.25em;\n",
       "border-left-style: solid;\n",
       "font-family: var(--jp-code-font-family);\n",
       "font-size: var(--jp-code-font-size);\n",
       "line-height: var(--jp-code-line-height);\n",
       "\"><span style=\"color: var(--jp-warn-color2)\">lsst.isr</span> <span style=\"color: var(--jp-info-color0)\">INFO</span>: Applying bias correction.</pre>"
      ],
      "text/plain": [
       "<IPython.core.display.HTML object>"
      ]
     },
     "metadata": {},
     "output_type": "display_data"
    },
    {
     "data": {
      "text/html": [
       "<pre style=\"margin: 0.1em;\n",
       "padding-left: 0.25em;\n",
       "border-left-style: solid;\n",
       "font-family: var(--jp-code-font-family);\n",
       "font-size: var(--jp-code-font-size);\n",
       "line-height: var(--jp-code-line-height);\n",
       "\"><span style=\"color: var(--jp-warn-color2)\">lsst.isr</span> <span style=\"color: var(--jp-info-color0)\">INFO</span>: Masking defects.</pre>"
      ],
      "text/plain": [
       "<IPython.core.display.HTML object>"
      ]
     },
     "metadata": {},
     "output_type": "display_data"
    },
    {
     "data": {
      "text/html": [
       "<pre style=\"margin: 0.1em;\n",
       "padding-left: 0.25em;\n",
       "border-left-style: solid;\n",
       "font-family: var(--jp-code-font-family);\n",
       "font-size: var(--jp-code-font-size);\n",
       "line-height: var(--jp-code-line-height);\n",
       "\"><span style=\"color: var(--jp-warn-color2)\">lsst.isr</span> <span style=\"color: var(--jp-info-color0)\">INFO</span>: Masking non-finite (NAN, inf) value pixels.</pre>"
      ],
      "text/plain": [
       "<IPython.core.display.HTML object>"
      ]
     },
     "metadata": {},
     "output_type": "display_data"
    },
    {
     "data": {
      "text/html": [
       "<pre style=\"margin: 0.1em;\n",
       "padding-left: 0.25em;\n",
       "border-left-style: solid;\n",
       "font-family: var(--jp-code-font-family);\n",
       "font-size: var(--jp-code-font-size);\n",
       "line-height: var(--jp-code-line-height);\n",
       "\"><span style=\"color: var(--jp-warn-color2)\">lsst.isr</span> <span style=\"color: var(--jp-info-color0)\">INFO</span>: Widening saturation trails.</pre>"
      ],
      "text/plain": [
       "<IPython.core.display.HTML object>"
      ]
     },
     "metadata": {},
     "output_type": "display_data"
    },
    {
     "data": {
      "text/html": [
       "<pre style=\"margin: 0.1em;\n",
       "padding-left: 0.25em;\n",
       "border-left-style: solid;\n",
       "font-family: var(--jp-code-font-family);\n",
       "font-size: var(--jp-code-font-size);\n",
       "line-height: var(--jp-code-line-height);\n",
       "\"><span style=\"color: var(--jp-warn-color2)\">lsst.isr</span> <span style=\"color: var(--jp-info-color0)\">INFO</span>: Set 322444 BAD pixels to 51.738670.</pre>"
      ],
      "text/plain": [
       "<IPython.core.display.HTML object>"
      ]
     },
     "metadata": {},
     "output_type": "display_data"
    },
    {
     "data": {
      "text/html": [
       "<pre style=\"margin: 0.1em;\n",
       "padding-left: 0.25em;\n",
       "border-left-style: solid;\n",
       "font-family: var(--jp-code-font-family);\n",
       "font-size: var(--jp-code-font-size);\n",
       "line-height: var(--jp-code-line-height);\n",
       "\"><span style=\"color: var(--jp-warn-color2)\">lsst.isr</span> <span style=\"color: var(--jp-info-color0)\">INFO</span>: Interpolating masked pixels.</pre>"
      ],
      "text/plain": [
       "<IPython.core.display.HTML object>"
      ]
     },
     "metadata": {},
     "output_type": "display_data"
    },
    {
     "data": {
      "text/html": [
       "<pre style=\"margin: 0.1em;\n",
       "padding-left: 0.25em;\n",
       "border-left-style: solid;\n",
       "font-family: var(--jp-code-font-family);\n",
       "font-size: var(--jp-code-font-size);\n",
       "line-height: var(--jp-code-line-height);\n",
       "\"><span style=\"color: var(--jp-warn-color2)\">lsst.isr</span> <span style=\"color: var(--jp-warn-color0)\">WARNING</span>: No rough magnitude zero point defined for filter empty~holo4_003.</pre>"
      ],
      "text/plain": [
       "<IPython.core.display.HTML object>"
      ]
     },
     "metadata": {},
     "output_type": "display_data"
    },
    {
     "data": {
      "text/html": [
       "<pre style=\"margin: 0.1em;\n",
       "padding-left: 0.25em;\n",
       "border-left-style: solid;\n",
       "font-family: var(--jp-code-font-family);\n",
       "font-size: var(--jp-code-font-size);\n",
       "line-height: var(--jp-code-line-height);\n",
       "\"><span style=\"color: var(--jp-warn-color2)\">lsst.isr</span> <span style=\"color: var(--jp-info-color0)\">INFO</span>: Setting rough magnitude zero point for filter empty~holo4_003: 31.692803</pre>"
      ],
      "text/plain": [
       "<IPython.core.display.HTML object>"
      ]
     },
     "metadata": {},
     "output_type": "display_data"
    },
    {
     "name": "stdout",
     "output_type": "stream",
     "text": [
      ">>>>  output filename exposure_2022091400817_empty-holo4_003_pseudo-postisrccd.fits\n",
      "exposure selected = 2022091400839\n"
     ]
    },
    {
     "data": {
      "text/html": [
       "<pre style=\"margin: 0.1em;\n",
       "padding-left: 0.25em;\n",
       "border-left-style: solid;\n",
       "font-family: var(--jp-code-font-family);\n",
       "font-size: var(--jp-code-font-size);\n",
       "line-height: var(--jp-code-line-height);\n",
       "\"><span style=\"color: var(--jp-warn-color2)\">lsst.isr</span> <span style=\"color: var(--jp-info-color0)\">INFO</span>: Converting exposure to floating point values.</pre>"
      ],
      "text/plain": [
       "<IPython.core.display.HTML object>"
      ]
     },
     "metadata": {},
     "output_type": "display_data"
    },
    {
     "data": {
      "text/html": [
       "<pre style=\"margin: 0.1em;\n",
       "padding-left: 0.25em;\n",
       "border-left-style: solid;\n",
       "font-family: var(--jp-code-font-family);\n",
       "font-size: var(--jp-code-font-size);\n",
       "line-height: var(--jp-code-line-height);\n",
       "\"><span style=\"color: var(--jp-warn-color2)\">lsst.isr</span> <span style=\"color: var(--jp-info-color0)\">INFO</span>: Assembling CCD from amplifiers.</pre>"
      ],
      "text/plain": [
       "<IPython.core.display.HTML object>"
      ]
     },
     "metadata": {},
     "output_type": "display_data"
    },
    {
     "data": {
      "text/html": [
       "<pre style=\"margin: 0.1em;\n",
       "padding-left: 0.25em;\n",
       "border-left-style: solid;\n",
       "font-family: var(--jp-code-font-family);\n",
       "font-size: var(--jp-code-font-size);\n",
       "line-height: var(--jp-code-line-height);\n",
       "\"><span style=\"color: var(--jp-warn-color2)\">lsst.isr</span> <span style=\"color: var(--jp-info-color0)\">INFO</span>: Applying bias correction.</pre>"
      ],
      "text/plain": [
       "<IPython.core.display.HTML object>"
      ]
     },
     "metadata": {},
     "output_type": "display_data"
    },
    {
     "data": {
      "text/html": [
       "<pre style=\"margin: 0.1em;\n",
       "padding-left: 0.25em;\n",
       "border-left-style: solid;\n",
       "font-family: var(--jp-code-font-family);\n",
       "font-size: var(--jp-code-font-size);\n",
       "line-height: var(--jp-code-line-height);\n",
       "\"><span style=\"color: var(--jp-warn-color2)\">lsst.isr</span> <span style=\"color: var(--jp-info-color0)\">INFO</span>: Masking defects.</pre>"
      ],
      "text/plain": [
       "<IPython.core.display.HTML object>"
      ]
     },
     "metadata": {},
     "output_type": "display_data"
    },
    {
     "data": {
      "text/html": [
       "<pre style=\"margin: 0.1em;\n",
       "padding-left: 0.25em;\n",
       "border-left-style: solid;\n",
       "font-family: var(--jp-code-font-family);\n",
       "font-size: var(--jp-code-font-size);\n",
       "line-height: var(--jp-code-line-height);\n",
       "\"><span style=\"color: var(--jp-warn-color2)\">lsst.isr</span> <span style=\"color: var(--jp-info-color0)\">INFO</span>: Masking non-finite (NAN, inf) value pixels.</pre>"
      ],
      "text/plain": [
       "<IPython.core.display.HTML object>"
      ]
     },
     "metadata": {},
     "output_type": "display_data"
    },
    {
     "data": {
      "text/html": [
       "<pre style=\"margin: 0.1em;\n",
       "padding-left: 0.25em;\n",
       "border-left-style: solid;\n",
       "font-family: var(--jp-code-font-family);\n",
       "font-size: var(--jp-code-font-size);\n",
       "line-height: var(--jp-code-line-height);\n",
       "\"><span style=\"color: var(--jp-warn-color2)\">lsst.isr</span> <span style=\"color: var(--jp-info-color0)\">INFO</span>: Widening saturation trails.</pre>"
      ],
      "text/plain": [
       "<IPython.core.display.HTML object>"
      ]
     },
     "metadata": {},
     "output_type": "display_data"
    },
    {
     "data": {
      "text/html": [
       "<pre style=\"margin: 0.1em;\n",
       "padding-left: 0.25em;\n",
       "border-left-style: solid;\n",
       "font-family: var(--jp-code-font-family);\n",
       "font-size: var(--jp-code-font-size);\n",
       "line-height: var(--jp-code-line-height);\n",
       "\"><span style=\"color: var(--jp-warn-color2)\">lsst.isr</span> <span style=\"color: var(--jp-info-color0)\">INFO</span>: Set 322467 BAD pixels to 50.464794.</pre>"
      ],
      "text/plain": [
       "<IPython.core.display.HTML object>"
      ]
     },
     "metadata": {},
     "output_type": "display_data"
    },
    {
     "data": {
      "text/html": [
       "<pre style=\"margin: 0.1em;\n",
       "padding-left: 0.25em;\n",
       "border-left-style: solid;\n",
       "font-family: var(--jp-code-font-family);\n",
       "font-size: var(--jp-code-font-size);\n",
       "line-height: var(--jp-code-line-height);\n",
       "\"><span style=\"color: var(--jp-warn-color2)\">lsst.isr</span> <span style=\"color: var(--jp-info-color0)\">INFO</span>: Interpolating masked pixels.</pre>"
      ],
      "text/plain": [
       "<IPython.core.display.HTML object>"
      ]
     },
     "metadata": {},
     "output_type": "display_data"
    },
    {
     "data": {
      "text/html": [
       "<pre style=\"margin: 0.1em;\n",
       "padding-left: 0.25em;\n",
       "border-left-style: solid;\n",
       "font-family: var(--jp-code-font-family);\n",
       "font-size: var(--jp-code-font-size);\n",
       "line-height: var(--jp-code-line-height);\n",
       "\"><span style=\"color: var(--jp-warn-color2)\">lsst.isr</span> <span style=\"color: var(--jp-warn-color0)\">WARNING</span>: No rough magnitude zero point defined for filter empty~holo4_003.</pre>"
      ],
      "text/plain": [
       "<IPython.core.display.HTML object>"
      ]
     },
     "metadata": {},
     "output_type": "display_data"
    },
    {
     "data": {
      "text/html": [
       "<pre style=\"margin: 0.1em;\n",
       "padding-left: 0.25em;\n",
       "border-left-style: solid;\n",
       "font-family: var(--jp-code-font-family);\n",
       "font-size: var(--jp-code-font-size);\n",
       "line-height: var(--jp-code-line-height);\n",
       "\"><span style=\"color: var(--jp-warn-color2)\">lsst.isr</span> <span style=\"color: var(--jp-info-color0)\">INFO</span>: Setting rough magnitude zero point for filter empty~holo4_003: 31.692803</pre>"
      ],
      "text/plain": [
       "<IPython.core.display.HTML object>"
      ]
     },
     "metadata": {},
     "output_type": "display_data"
    },
    {
     "name": "stdout",
     "output_type": "stream",
     "text": [
      ">>>>  output filename exposure_2022091400839_empty-holo4_003_pseudo-postisrccd.fits\n",
      "exposure selected = 2022091400783\n"
     ]
    },
    {
     "data": {
      "text/html": [
       "<pre style=\"margin: 0.1em;\n",
       "padding-left: 0.25em;\n",
       "border-left-style: solid;\n",
       "font-family: var(--jp-code-font-family);\n",
       "font-size: var(--jp-code-font-size);\n",
       "line-height: var(--jp-code-line-height);\n",
       "\"><span style=\"color: var(--jp-warn-color2)\">lsst.isr</span> <span style=\"color: var(--jp-info-color0)\">INFO</span>: Converting exposure to floating point values.</pre>"
      ],
      "text/plain": [
       "<IPython.core.display.HTML object>"
      ]
     },
     "metadata": {},
     "output_type": "display_data"
    },
    {
     "data": {
      "text/html": [
       "<pre style=\"margin: 0.1em;\n",
       "padding-left: 0.25em;\n",
       "border-left-style: solid;\n",
       "font-family: var(--jp-code-font-family);\n",
       "font-size: var(--jp-code-font-size);\n",
       "line-height: var(--jp-code-line-height);\n",
       "\"><span style=\"color: var(--jp-warn-color2)\">lsst.isr</span> <span style=\"color: var(--jp-info-color0)\">INFO</span>: Assembling CCD from amplifiers.</pre>"
      ],
      "text/plain": [
       "<IPython.core.display.HTML object>"
      ]
     },
     "metadata": {},
     "output_type": "display_data"
    },
    {
     "data": {
      "text/html": [
       "<pre style=\"margin: 0.1em;\n",
       "padding-left: 0.25em;\n",
       "border-left-style: solid;\n",
       "font-family: var(--jp-code-font-family);\n",
       "font-size: var(--jp-code-font-size);\n",
       "line-height: var(--jp-code-line-height);\n",
       "\"><span style=\"color: var(--jp-warn-color2)\">lsst.isr</span> <span style=\"color: var(--jp-info-color0)\">INFO</span>: Applying bias correction.</pre>"
      ],
      "text/plain": [
       "<IPython.core.display.HTML object>"
      ]
     },
     "metadata": {},
     "output_type": "display_data"
    },
    {
     "data": {
      "text/html": [
       "<pre style=\"margin: 0.1em;\n",
       "padding-left: 0.25em;\n",
       "border-left-style: solid;\n",
       "font-family: var(--jp-code-font-family);\n",
       "font-size: var(--jp-code-font-size);\n",
       "line-height: var(--jp-code-line-height);\n",
       "\"><span style=\"color: var(--jp-warn-color2)\">lsst.isr</span> <span style=\"color: var(--jp-info-color0)\">INFO</span>: Masking defects.</pre>"
      ],
      "text/plain": [
       "<IPython.core.display.HTML object>"
      ]
     },
     "metadata": {},
     "output_type": "display_data"
    },
    {
     "data": {
      "text/html": [
       "<pre style=\"margin: 0.1em;\n",
       "padding-left: 0.25em;\n",
       "border-left-style: solid;\n",
       "font-family: var(--jp-code-font-family);\n",
       "font-size: var(--jp-code-font-size);\n",
       "line-height: var(--jp-code-line-height);\n",
       "\"><span style=\"color: var(--jp-warn-color2)\">lsst.isr</span> <span style=\"color: var(--jp-info-color0)\">INFO</span>: Masking non-finite (NAN, inf) value pixels.</pre>"
      ],
      "text/plain": [
       "<IPython.core.display.HTML object>"
      ]
     },
     "metadata": {},
     "output_type": "display_data"
    },
    {
     "data": {
      "text/html": [
       "<pre style=\"margin: 0.1em;\n",
       "padding-left: 0.25em;\n",
       "border-left-style: solid;\n",
       "font-family: var(--jp-code-font-family);\n",
       "font-size: var(--jp-code-font-size);\n",
       "line-height: var(--jp-code-line-height);\n",
       "\"><span style=\"color: var(--jp-warn-color2)\">lsst.isr</span> <span style=\"color: var(--jp-info-color0)\">INFO</span>: Widening saturation trails.</pre>"
      ],
      "text/plain": [
       "<IPython.core.display.HTML object>"
      ]
     },
     "metadata": {},
     "output_type": "display_data"
    },
    {
     "data": {
      "text/html": [
       "<pre style=\"margin: 0.1em;\n",
       "padding-left: 0.25em;\n",
       "border-left-style: solid;\n",
       "font-family: var(--jp-code-font-family);\n",
       "font-size: var(--jp-code-font-size);\n",
       "line-height: var(--jp-code-line-height);\n",
       "\"><span style=\"color: var(--jp-warn-color2)\">lsst.isr</span> <span style=\"color: var(--jp-info-color0)\">INFO</span>: Set 322468 BAD pixels to 53.931900.</pre>"
      ],
      "text/plain": [
       "<IPython.core.display.HTML object>"
      ]
     },
     "metadata": {},
     "output_type": "display_data"
    },
    {
     "data": {
      "text/html": [
       "<pre style=\"margin: 0.1em;\n",
       "padding-left: 0.25em;\n",
       "border-left-style: solid;\n",
       "font-family: var(--jp-code-font-family);\n",
       "font-size: var(--jp-code-font-size);\n",
       "line-height: var(--jp-code-line-height);\n",
       "\"><span style=\"color: var(--jp-warn-color2)\">lsst.isr</span> <span style=\"color: var(--jp-info-color0)\">INFO</span>: Interpolating masked pixels.</pre>"
      ],
      "text/plain": [
       "<IPython.core.display.HTML object>"
      ]
     },
     "metadata": {},
     "output_type": "display_data"
    },
    {
     "data": {
      "text/html": [
       "<pre style=\"margin: 0.1em;\n",
       "padding-left: 0.25em;\n",
       "border-left-style: solid;\n",
       "font-family: var(--jp-code-font-family);\n",
       "font-size: var(--jp-code-font-size);\n",
       "line-height: var(--jp-code-line-height);\n",
       "\"><span style=\"color: var(--jp-warn-color2)\">lsst.isr</span> <span style=\"color: var(--jp-warn-color0)\">WARNING</span>: No rough magnitude zero point defined for filter empty~holo4_003.</pre>"
      ],
      "text/plain": [
       "<IPython.core.display.HTML object>"
      ]
     },
     "metadata": {},
     "output_type": "display_data"
    },
    {
     "data": {
      "text/html": [
       "<pre style=\"margin: 0.1em;\n",
       "padding-left: 0.25em;\n",
       "border-left-style: solid;\n",
       "font-family: var(--jp-code-font-family);\n",
       "font-size: var(--jp-code-font-size);\n",
       "line-height: var(--jp-code-line-height);\n",
       "\"><span style=\"color: var(--jp-warn-color2)\">lsst.isr</span> <span style=\"color: var(--jp-info-color0)\">INFO</span>: Setting rough magnitude zero point for filter empty~holo4_003: 31.692803</pre>"
      ],
      "text/plain": [
       "<IPython.core.display.HTML object>"
      ]
     },
     "metadata": {},
     "output_type": "display_data"
    },
    {
     "name": "stdout",
     "output_type": "stream",
     "text": [
      ">>>>  output filename exposure_2022091400783_empty-holo4_003_pseudo-postisrccd.fits\n",
      "exposure selected = 2022091400797\n"
     ]
    },
    {
     "data": {
      "text/html": [
       "<pre style=\"margin: 0.1em;\n",
       "padding-left: 0.25em;\n",
       "border-left-style: solid;\n",
       "font-family: var(--jp-code-font-family);\n",
       "font-size: var(--jp-code-font-size);\n",
       "line-height: var(--jp-code-line-height);\n",
       "\"><span style=\"color: var(--jp-warn-color2)\">lsst.isr</span> <span style=\"color: var(--jp-info-color0)\">INFO</span>: Converting exposure to floating point values.</pre>"
      ],
      "text/plain": [
       "<IPython.core.display.HTML object>"
      ]
     },
     "metadata": {},
     "output_type": "display_data"
    },
    {
     "data": {
      "text/html": [
       "<pre style=\"margin: 0.1em;\n",
       "padding-left: 0.25em;\n",
       "border-left-style: solid;\n",
       "font-family: var(--jp-code-font-family);\n",
       "font-size: var(--jp-code-font-size);\n",
       "line-height: var(--jp-code-line-height);\n",
       "\"><span style=\"color: var(--jp-warn-color2)\">lsst.isr</span> <span style=\"color: var(--jp-info-color0)\">INFO</span>: Assembling CCD from amplifiers.</pre>"
      ],
      "text/plain": [
       "<IPython.core.display.HTML object>"
      ]
     },
     "metadata": {},
     "output_type": "display_data"
    },
    {
     "data": {
      "text/html": [
       "<pre style=\"margin: 0.1em;\n",
       "padding-left: 0.25em;\n",
       "border-left-style: solid;\n",
       "font-family: var(--jp-code-font-family);\n",
       "font-size: var(--jp-code-font-size);\n",
       "line-height: var(--jp-code-line-height);\n",
       "\"><span style=\"color: var(--jp-warn-color2)\">lsst.isr</span> <span style=\"color: var(--jp-info-color0)\">INFO</span>: Applying bias correction.</pre>"
      ],
      "text/plain": [
       "<IPython.core.display.HTML object>"
      ]
     },
     "metadata": {},
     "output_type": "display_data"
    },
    {
     "data": {
      "text/html": [
       "<pre style=\"margin: 0.1em;\n",
       "padding-left: 0.25em;\n",
       "border-left-style: solid;\n",
       "font-family: var(--jp-code-font-family);\n",
       "font-size: var(--jp-code-font-size);\n",
       "line-height: var(--jp-code-line-height);\n",
       "\"><span style=\"color: var(--jp-warn-color2)\">lsst.isr</span> <span style=\"color: var(--jp-info-color0)\">INFO</span>: Masking defects.</pre>"
      ],
      "text/plain": [
       "<IPython.core.display.HTML object>"
      ]
     },
     "metadata": {},
     "output_type": "display_data"
    },
    {
     "data": {
      "text/html": [
       "<pre style=\"margin: 0.1em;\n",
       "padding-left: 0.25em;\n",
       "border-left-style: solid;\n",
       "font-family: var(--jp-code-font-family);\n",
       "font-size: var(--jp-code-font-size);\n",
       "line-height: var(--jp-code-line-height);\n",
       "\"><span style=\"color: var(--jp-warn-color2)\">lsst.isr</span> <span style=\"color: var(--jp-info-color0)\">INFO</span>: Masking non-finite (NAN, inf) value pixels.</pre>"
      ],
      "text/plain": [
       "<IPython.core.display.HTML object>"
      ]
     },
     "metadata": {},
     "output_type": "display_data"
    },
    {
     "data": {
      "text/html": [
       "<pre style=\"margin: 0.1em;\n",
       "padding-left: 0.25em;\n",
       "border-left-style: solid;\n",
       "font-family: var(--jp-code-font-family);\n",
       "font-size: var(--jp-code-font-size);\n",
       "line-height: var(--jp-code-line-height);\n",
       "\"><span style=\"color: var(--jp-warn-color2)\">lsst.isr</span> <span style=\"color: var(--jp-info-color0)\">INFO</span>: Widening saturation trails.</pre>"
      ],
      "text/plain": [
       "<IPython.core.display.HTML object>"
      ]
     },
     "metadata": {},
     "output_type": "display_data"
    },
    {
     "data": {
      "text/html": [
       "<pre style=\"margin: 0.1em;\n",
       "padding-left: 0.25em;\n",
       "border-left-style: solid;\n",
       "font-family: var(--jp-code-font-family);\n",
       "font-size: var(--jp-code-font-size);\n",
       "line-height: var(--jp-code-line-height);\n",
       "\"><span style=\"color: var(--jp-warn-color2)\">lsst.isr</span> <span style=\"color: var(--jp-info-color0)\">INFO</span>: Set 322467 BAD pixels to 51.194630.</pre>"
      ],
      "text/plain": [
       "<IPython.core.display.HTML object>"
      ]
     },
     "metadata": {},
     "output_type": "display_data"
    },
    {
     "data": {
      "text/html": [
       "<pre style=\"margin: 0.1em;\n",
       "padding-left: 0.25em;\n",
       "border-left-style: solid;\n",
       "font-family: var(--jp-code-font-family);\n",
       "font-size: var(--jp-code-font-size);\n",
       "line-height: var(--jp-code-line-height);\n",
       "\"><span style=\"color: var(--jp-warn-color2)\">lsst.isr</span> <span style=\"color: var(--jp-info-color0)\">INFO</span>: Interpolating masked pixels.</pre>"
      ],
      "text/plain": [
       "<IPython.core.display.HTML object>"
      ]
     },
     "metadata": {},
     "output_type": "display_data"
    },
    {
     "data": {
      "text/html": [
       "<pre style=\"margin: 0.1em;\n",
       "padding-left: 0.25em;\n",
       "border-left-style: solid;\n",
       "font-family: var(--jp-code-font-family);\n",
       "font-size: var(--jp-code-font-size);\n",
       "line-height: var(--jp-code-line-height);\n",
       "\"><span style=\"color: var(--jp-warn-color2)\">lsst.isr</span> <span style=\"color: var(--jp-warn-color0)\">WARNING</span>: No rough magnitude zero point defined for filter empty~holo4_003.</pre>"
      ],
      "text/plain": [
       "<IPython.core.display.HTML object>"
      ]
     },
     "metadata": {},
     "output_type": "display_data"
    },
    {
     "data": {
      "text/html": [
       "<pre style=\"margin: 0.1em;\n",
       "padding-left: 0.25em;\n",
       "border-left-style: solid;\n",
       "font-family: var(--jp-code-font-family);\n",
       "font-size: var(--jp-code-font-size);\n",
       "line-height: var(--jp-code-line-height);\n",
       "\"><span style=\"color: var(--jp-warn-color2)\">lsst.isr</span> <span style=\"color: var(--jp-info-color0)\">INFO</span>: Setting rough magnitude zero point for filter empty~holo4_003: 31.692803</pre>"
      ],
      "text/plain": [
       "<IPython.core.display.HTML object>"
      ]
     },
     "metadata": {},
     "output_type": "display_data"
    },
    {
     "name": "stdout",
     "output_type": "stream",
     "text": [
      ">>>>  output filename exposure_2022091400797_empty-holo4_003_pseudo-postisrccd.fits\n",
      "exposure selected = 2022091400818\n"
     ]
    },
    {
     "data": {
      "text/html": [
       "<pre style=\"margin: 0.1em;\n",
       "padding-left: 0.25em;\n",
       "border-left-style: solid;\n",
       "font-family: var(--jp-code-font-family);\n",
       "font-size: var(--jp-code-font-size);\n",
       "line-height: var(--jp-code-line-height);\n",
       "\"><span style=\"color: var(--jp-warn-color2)\">lsst.isr</span> <span style=\"color: var(--jp-info-color0)\">INFO</span>: Converting exposure to floating point values.</pre>"
      ],
      "text/plain": [
       "<IPython.core.display.HTML object>"
      ]
     },
     "metadata": {},
     "output_type": "display_data"
    },
    {
     "data": {
      "text/html": [
       "<pre style=\"margin: 0.1em;\n",
       "padding-left: 0.25em;\n",
       "border-left-style: solid;\n",
       "font-family: var(--jp-code-font-family);\n",
       "font-size: var(--jp-code-font-size);\n",
       "line-height: var(--jp-code-line-height);\n",
       "\"><span style=\"color: var(--jp-warn-color2)\">lsst.isr</span> <span style=\"color: var(--jp-info-color0)\">INFO</span>: Assembling CCD from amplifiers.</pre>"
      ],
      "text/plain": [
       "<IPython.core.display.HTML object>"
      ]
     },
     "metadata": {},
     "output_type": "display_data"
    },
    {
     "data": {
      "text/html": [
       "<pre style=\"margin: 0.1em;\n",
       "padding-left: 0.25em;\n",
       "border-left-style: solid;\n",
       "font-family: var(--jp-code-font-family);\n",
       "font-size: var(--jp-code-font-size);\n",
       "line-height: var(--jp-code-line-height);\n",
       "\"><span style=\"color: var(--jp-warn-color2)\">lsst.isr</span> <span style=\"color: var(--jp-info-color0)\">INFO</span>: Applying bias correction.</pre>"
      ],
      "text/plain": [
       "<IPython.core.display.HTML object>"
      ]
     },
     "metadata": {},
     "output_type": "display_data"
    },
    {
     "data": {
      "text/html": [
       "<pre style=\"margin: 0.1em;\n",
       "padding-left: 0.25em;\n",
       "border-left-style: solid;\n",
       "font-family: var(--jp-code-font-family);\n",
       "font-size: var(--jp-code-font-size);\n",
       "line-height: var(--jp-code-line-height);\n",
       "\"><span style=\"color: var(--jp-warn-color2)\">lsst.isr</span> <span style=\"color: var(--jp-info-color0)\">INFO</span>: Masking defects.</pre>"
      ],
      "text/plain": [
       "<IPython.core.display.HTML object>"
      ]
     },
     "metadata": {},
     "output_type": "display_data"
    },
    {
     "data": {
      "text/html": [
       "<pre style=\"margin: 0.1em;\n",
       "padding-left: 0.25em;\n",
       "border-left-style: solid;\n",
       "font-family: var(--jp-code-font-family);\n",
       "font-size: var(--jp-code-font-size);\n",
       "line-height: var(--jp-code-line-height);\n",
       "\"><span style=\"color: var(--jp-warn-color2)\">lsst.isr</span> <span style=\"color: var(--jp-info-color0)\">INFO</span>: Masking non-finite (NAN, inf) value pixels.</pre>"
      ],
      "text/plain": [
       "<IPython.core.display.HTML object>"
      ]
     },
     "metadata": {},
     "output_type": "display_data"
    },
    {
     "data": {
      "text/html": [
       "<pre style=\"margin: 0.1em;\n",
       "padding-left: 0.25em;\n",
       "border-left-style: solid;\n",
       "font-family: var(--jp-code-font-family);\n",
       "font-size: var(--jp-code-font-size);\n",
       "line-height: var(--jp-code-line-height);\n",
       "\"><span style=\"color: var(--jp-warn-color2)\">lsst.isr</span> <span style=\"color: var(--jp-info-color0)\">INFO</span>: Widening saturation trails.</pre>"
      ],
      "text/plain": [
       "<IPython.core.display.HTML object>"
      ]
     },
     "metadata": {},
     "output_type": "display_data"
    },
    {
     "data": {
      "text/html": [
       "<pre style=\"margin: 0.1em;\n",
       "padding-left: 0.25em;\n",
       "border-left-style: solid;\n",
       "font-family: var(--jp-code-font-family);\n",
       "font-size: var(--jp-code-font-size);\n",
       "line-height: var(--jp-code-line-height);\n",
       "\"><span style=\"color: var(--jp-warn-color2)\">lsst.isr</span> <span style=\"color: var(--jp-info-color0)\">INFO</span>: Set 322467 BAD pixels to 51.828091.</pre>"
      ],
      "text/plain": [
       "<IPython.core.display.HTML object>"
      ]
     },
     "metadata": {},
     "output_type": "display_data"
    },
    {
     "data": {
      "text/html": [
       "<pre style=\"margin: 0.1em;\n",
       "padding-left: 0.25em;\n",
       "border-left-style: solid;\n",
       "font-family: var(--jp-code-font-family);\n",
       "font-size: var(--jp-code-font-size);\n",
       "line-height: var(--jp-code-line-height);\n",
       "\"><span style=\"color: var(--jp-warn-color2)\">lsst.isr</span> <span style=\"color: var(--jp-info-color0)\">INFO</span>: Interpolating masked pixels.</pre>"
      ],
      "text/plain": [
       "<IPython.core.display.HTML object>"
      ]
     },
     "metadata": {},
     "output_type": "display_data"
    },
    {
     "data": {
      "text/html": [
       "<pre style=\"margin: 0.1em;\n",
       "padding-left: 0.25em;\n",
       "border-left-style: solid;\n",
       "font-family: var(--jp-code-font-family);\n",
       "font-size: var(--jp-code-font-size);\n",
       "line-height: var(--jp-code-line-height);\n",
       "\"><span style=\"color: var(--jp-warn-color2)\">lsst.isr</span> <span style=\"color: var(--jp-warn-color0)\">WARNING</span>: No rough magnitude zero point defined for filter empty~holo4_003.</pre>"
      ],
      "text/plain": [
       "<IPython.core.display.HTML object>"
      ]
     },
     "metadata": {},
     "output_type": "display_data"
    },
    {
     "data": {
      "text/html": [
       "<pre style=\"margin: 0.1em;\n",
       "padding-left: 0.25em;\n",
       "border-left-style: solid;\n",
       "font-family: var(--jp-code-font-family);\n",
       "font-size: var(--jp-code-font-size);\n",
       "line-height: var(--jp-code-line-height);\n",
       "\"><span style=\"color: var(--jp-warn-color2)\">lsst.isr</span> <span style=\"color: var(--jp-info-color0)\">INFO</span>: Setting rough magnitude zero point for filter empty~holo4_003: 31.692803</pre>"
      ],
      "text/plain": [
       "<IPython.core.display.HTML object>"
      ]
     },
     "metadata": {},
     "output_type": "display_data"
    },
    {
     "name": "stdout",
     "output_type": "stream",
     "text": [
      ">>>>  output filename exposure_2022091400818_empty-holo4_003_pseudo-postisrccd.fits\n",
      "exposure selected = 2022091400838\n"
     ]
    },
    {
     "data": {
      "text/html": [
       "<pre style=\"margin: 0.1em;\n",
       "padding-left: 0.25em;\n",
       "border-left-style: solid;\n",
       "font-family: var(--jp-code-font-family);\n",
       "font-size: var(--jp-code-font-size);\n",
       "line-height: var(--jp-code-line-height);\n",
       "\"><span style=\"color: var(--jp-warn-color2)\">lsst.isr</span> <span style=\"color: var(--jp-info-color0)\">INFO</span>: Converting exposure to floating point values.</pre>"
      ],
      "text/plain": [
       "<IPython.core.display.HTML object>"
      ]
     },
     "metadata": {},
     "output_type": "display_data"
    },
    {
     "data": {
      "text/html": [
       "<pre style=\"margin: 0.1em;\n",
       "padding-left: 0.25em;\n",
       "border-left-style: solid;\n",
       "font-family: var(--jp-code-font-family);\n",
       "font-size: var(--jp-code-font-size);\n",
       "line-height: var(--jp-code-line-height);\n",
       "\"><span style=\"color: var(--jp-warn-color2)\">lsst.isr</span> <span style=\"color: var(--jp-info-color0)\">INFO</span>: Assembling CCD from amplifiers.</pre>"
      ],
      "text/plain": [
       "<IPython.core.display.HTML object>"
      ]
     },
     "metadata": {},
     "output_type": "display_data"
    },
    {
     "data": {
      "text/html": [
       "<pre style=\"margin: 0.1em;\n",
       "padding-left: 0.25em;\n",
       "border-left-style: solid;\n",
       "font-family: var(--jp-code-font-family);\n",
       "font-size: var(--jp-code-font-size);\n",
       "line-height: var(--jp-code-line-height);\n",
       "\"><span style=\"color: var(--jp-warn-color2)\">lsst.isr</span> <span style=\"color: var(--jp-info-color0)\">INFO</span>: Applying bias correction.</pre>"
      ],
      "text/plain": [
       "<IPython.core.display.HTML object>"
      ]
     },
     "metadata": {},
     "output_type": "display_data"
    },
    {
     "data": {
      "text/html": [
       "<pre style=\"margin: 0.1em;\n",
       "padding-left: 0.25em;\n",
       "border-left-style: solid;\n",
       "font-family: var(--jp-code-font-family);\n",
       "font-size: var(--jp-code-font-size);\n",
       "line-height: var(--jp-code-line-height);\n",
       "\"><span style=\"color: var(--jp-warn-color2)\">lsst.isr</span> <span style=\"color: var(--jp-info-color0)\">INFO</span>: Masking defects.</pre>"
      ],
      "text/plain": [
       "<IPython.core.display.HTML object>"
      ]
     },
     "metadata": {},
     "output_type": "display_data"
    },
    {
     "data": {
      "text/html": [
       "<pre style=\"margin: 0.1em;\n",
       "padding-left: 0.25em;\n",
       "border-left-style: solid;\n",
       "font-family: var(--jp-code-font-family);\n",
       "font-size: var(--jp-code-font-size);\n",
       "line-height: var(--jp-code-line-height);\n",
       "\"><span style=\"color: var(--jp-warn-color2)\">lsst.isr</span> <span style=\"color: var(--jp-info-color0)\">INFO</span>: Masking non-finite (NAN, inf) value pixels.</pre>"
      ],
      "text/plain": [
       "<IPython.core.display.HTML object>"
      ]
     },
     "metadata": {},
     "output_type": "display_data"
    },
    {
     "data": {
      "text/html": [
       "<pre style=\"margin: 0.1em;\n",
       "padding-left: 0.25em;\n",
       "border-left-style: solid;\n",
       "font-family: var(--jp-code-font-family);\n",
       "font-size: var(--jp-code-font-size);\n",
       "line-height: var(--jp-code-line-height);\n",
       "\"><span style=\"color: var(--jp-warn-color2)\">lsst.isr</span> <span style=\"color: var(--jp-info-color0)\">INFO</span>: Widening saturation trails.</pre>"
      ],
      "text/plain": [
       "<IPython.core.display.HTML object>"
      ]
     },
     "metadata": {},
     "output_type": "display_data"
    },
    {
     "data": {
      "text/html": [
       "<pre style=\"margin: 0.1em;\n",
       "padding-left: 0.25em;\n",
       "border-left-style: solid;\n",
       "font-family: var(--jp-code-font-family);\n",
       "font-size: var(--jp-code-font-size);\n",
       "line-height: var(--jp-code-line-height);\n",
       "\"><span style=\"color: var(--jp-warn-color2)\">lsst.isr</span> <span style=\"color: var(--jp-info-color0)\">INFO</span>: Set 322444 BAD pixels to 50.171532.</pre>"
      ],
      "text/plain": [
       "<IPython.core.display.HTML object>"
      ]
     },
     "metadata": {},
     "output_type": "display_data"
    },
    {
     "data": {
      "text/html": [
       "<pre style=\"margin: 0.1em;\n",
       "padding-left: 0.25em;\n",
       "border-left-style: solid;\n",
       "font-family: var(--jp-code-font-family);\n",
       "font-size: var(--jp-code-font-size);\n",
       "line-height: var(--jp-code-line-height);\n",
       "\"><span style=\"color: var(--jp-warn-color2)\">lsst.isr</span> <span style=\"color: var(--jp-info-color0)\">INFO</span>: Interpolating masked pixels.</pre>"
      ],
      "text/plain": [
       "<IPython.core.display.HTML object>"
      ]
     },
     "metadata": {},
     "output_type": "display_data"
    },
    {
     "data": {
      "text/html": [
       "<pre style=\"margin: 0.1em;\n",
       "padding-left: 0.25em;\n",
       "border-left-style: solid;\n",
       "font-family: var(--jp-code-font-family);\n",
       "font-size: var(--jp-code-font-size);\n",
       "line-height: var(--jp-code-line-height);\n",
       "\"><span style=\"color: var(--jp-warn-color2)\">lsst.isr</span> <span style=\"color: var(--jp-warn-color0)\">WARNING</span>: No rough magnitude zero point defined for filter empty~holo4_003.</pre>"
      ],
      "text/plain": [
       "<IPython.core.display.HTML object>"
      ]
     },
     "metadata": {},
     "output_type": "display_data"
    },
    {
     "data": {
      "text/html": [
       "<pre style=\"margin: 0.1em;\n",
       "padding-left: 0.25em;\n",
       "border-left-style: solid;\n",
       "font-family: var(--jp-code-font-family);\n",
       "font-size: var(--jp-code-font-size);\n",
       "line-height: var(--jp-code-line-height);\n",
       "\"><span style=\"color: var(--jp-warn-color2)\">lsst.isr</span> <span style=\"color: var(--jp-info-color0)\">INFO</span>: Setting rough magnitude zero point for filter empty~holo4_003: 31.692803</pre>"
      ],
      "text/plain": [
       "<IPython.core.display.HTML object>"
      ]
     },
     "metadata": {},
     "output_type": "display_data"
    },
    {
     "name": "stdout",
     "output_type": "stream",
     "text": [
      ">>>>  output filename exposure_2022091400838_empty-holo4_003_pseudo-postisrccd.fits\n"
     ]
    }
   ],
   "source": [
    "for exp_selected_ in exposures_selected[:max_files]:\n",
    "    \n",
    "    #exposure_selected =row[\"date\"]*100000+row[\"seq\"]\n",
    "    \n",
    "    print(f\"exposure selected = {exp_selected_}\")\n",
    "\n",
    "\n",
    "    raw_img= butler.get('raw', dataId={'exposure': exp_selected_, 'instrument': 'LATISS', 'detector': 0}, collections = collection)\n",
    "    bias = butler.get(\"bias\",instrument=cameraName, exposure= exp_selected_, detector=0, collections=calibCollections)\n",
    "    defects = butler.get('defects',instrument=cameraName, exposure= exp_selected_,detector=0,collections=calibCollections)\n",
    "    \n",
    "    \n",
    "    isr_img = isr_task.run(raw_img,bias=bias,defects=defects)\n",
    "    \n",
    "    arr=isr_img.exposure.image.array\n",
    "    # 180 degree rotation\n",
    "    rotated_array = arr[::-1,::-1] #rotate the array 180 degrees\n",
    "    \n",
    "    \n",
    "    meta = raw_img.getMetadata()\n",
    "    md = meta.toDict()\n",
    "\n",
    "    #object_ = md['OBJECT']\n",
    "    #am_ = md['AMSTART']\n",
    "    #filter_ = md['FILTER']\n",
    "\n",
    "    filename_out = f\"exposure_{exp_selected_}_{physical_filter.replace('~','-')}_pseudo-postisrccd.fits\"\n",
    "    fullfilename_out=os.path.join(outdir,filename_out)\n",
    "    \n",
    "    print(f\">>>>  output filename {filename_out}\")\n",
    "    \n",
    "    hdr = fits.Header()\n",
    "    \n",
    "    for key,value in md.items():\n",
    "        hdr[str(key)]=value\n",
    "        \n",
    "    if hdr['OBJECT']=='MU-COL':\n",
    "        hdr['OBJECT'] = 'HD38666'\n",
    "    # need this    \n",
    "    hdr[\"AMEND\"] = hdr[\"AMSTART\"]\n",
    "    try: \n",
    "        airmass_ = hdr[\"AIRMASS\"]\n",
    "    except:\n",
    "        airmass_ = (hdr[\"AMEND\"] + hdr[\"AMSTART\"])/2.\n",
    "        hdr[\"AIRMASS\"] = airmass_\n",
    "    \n",
    "    # be aware weather data may be missing\n",
    "    if hdr[\"AIRTEMP\"] == None:\n",
    "        hdr[\"AIRTEMP\"] = 10.0\n",
    "\n",
    "    if hdr[\"PRESSURE\"] == None:\n",
    "        hdr[\"PRESSURE\"] = 744.\n",
    "\n",
    "    if hdr[\"HUMIDITY\"] == None:\n",
    "        hdr[\"HUMIDITY\"] = 50.\n",
    "\n",
    "    if hdr[\"WINDSPD\"] == None:\n",
    "        hdr[\"WINDSPD\"] = 5.\n",
    "\n",
    "    if hdr[\"WINDDIR\"] == None:\n",
    "        hdr[\"WINDDIR\"] = 0.   \n",
    "\n",
    "    if hdr[\"SEEING\"] == None:\n",
    "        hdr[\"SEEING\"] = 1.15\n",
    "    \n",
    "        \n",
    "   \n",
    "    \n",
    "    # Be carefull for Spectractor, 2 hdu units are necessary\n",
    "    \n",
    "    primary_hdu = fits.PrimaryHDU(header=hdr)\n",
    "    image_hdu = fits.ImageHDU(rotated_array)\n",
    "    #image_hdu = fits.ImageHDU(arr)\n",
    "    \n",
    "    hdu_list = fits.HDUList([primary_hdu, image_hdu])\n",
    "    \n",
    "    hdu_list.writeto(fullfilename_out,overwrite=True)\n",
    "    \n",
    "    \n",
    "    \n",
    "    #if exposure_selected not in exposures_sel:\n",
    "    #    break\n",
    "    \n",
    "    #if index>=0:\n",
    "    #    break\n",
    "    \n"
   ]
  },
  {
   "cell_type": "code",
   "execution_count": null,
   "id": "d59a930d-df3a-4797-ac5c-5a9c902f7f3a",
   "metadata": {},
   "outputs": [],
   "source": []
  },
  {
   "cell_type": "markdown",
   "id": "42198726-5cb7-483f-94d0-1fafb0504002",
   "metadata": {},
   "source": [
    "## Check that the images were correctly saved "
   ]
  },
  {
   "cell_type": "code",
   "execution_count": 37,
   "id": "fbefab28-7cb2-437c-a35f-65ff1ee6c460",
   "metadata": {
    "execution": {
     "iopub.execute_input": "2023-08-31T18:44:19.618585Z",
     "iopub.status.busy": "2023-08-31T18:44:19.618442Z",
     "iopub.status.idle": "2023-08-31T18:44:22.074723Z",
     "shell.execute_reply": "2023-08-31T18:44:22.074262Z",
     "shell.execute_reply.started": "2023-08-31T18:44:19.618571Z"
    },
    "tags": []
   },
   "outputs": [
    {
     "data": {
      "text/plain": [
       "<matplotlib.colorbar.Colorbar at 0x7f674fb56050>"
      ]
     },
     "execution_count": 37,
     "metadata": {},
     "output_type": "execute_result"
    },
    {
     "data": {
      "image/png": "[encoded data removed]",
      "text/plain": [
       "<Figure size 1000x1000 with 2 Axes>"
      ]
     },
     "metadata": {},
     "output_type": "display_data"
    }
   ],
   "source": [
    "fig = plt.figure(figsize=(10,10))\n",
    "ax = fig.add_subplot(111)\n",
    "im = ax.imshow(rotated_array,cmap=\"gray\",origin='lower',norm=LogNorm())\n",
    "plt.colorbar(im,ax=ax)"
   ]
  },
  {
   "cell_type": "code",
   "execution_count": null,
   "id": "09ac8ef9-c940-48c2-b36f-7e46daeec09a",
   "metadata": {
    "tags": []
   },
   "outputs": [],
   "source": []
  },
  {
   "cell_type": "code",
   "execution_count": null,
   "id": "2a7404ba-e671-4e80-b40e-32cac6c5243b",
   "metadata": {
    "tags": []
   },
   "outputs": [],
   "source": []
  },
  {
   "cell_type": "markdown",
   "id": "6f1c98de-b8e4-4ca7-bb6f-7f7369a6f9a1",
   "metadata": {},
   "source": [
    "## Now we look for the flats taken on the closest date to that of the selected exposure "
   ]
  },
  {
   "cell_type": "code",
   "execution_count": 38,
   "id": "69736163-5536-46b6-bf14-bf40e4e2fb6c",
   "metadata": {
    "execution": {
     "iopub.execute_input": "2023-08-31T18:44:22.075561Z",
     "iopub.status.busy": "2023-08-31T18:44:22.075409Z",
     "iopub.status.idle": "2023-08-31T18:44:22.077782Z",
     "shell.execute_reply": "2023-08-31T18:44:22.077391Z",
     "shell.execute_reply.started": "2023-08-31T18:44:22.075547Z"
    },
    "tags": []
   },
   "outputs": [],
   "source": [
    "#calibCollections = ['LATISS/defaults','LATISS/raw/all']\n",
    "#for col in registry.queryCollections(\"*LATISS/calib*\"):\n",
    "#    print(col)\n",
    "#    calibCollections.append(col)\n",
    "#calibCollections = ..."
   ]
  },
  {
   "cell_type": "code",
   "execution_count": 39,
   "id": "b7729fc4-8778-4d9b-8914-8ff7e6ec0254",
   "metadata": {
    "execution": {
     "iopub.execute_input": "2023-08-31T18:44:22.078514Z",
     "iopub.status.busy": "2023-08-31T18:44:22.078381Z",
     "iopub.status.idle": "2023-08-31T18:44:22.143111Z",
     "shell.execute_reply": "2023-08-31T18:44:22.142677Z",
     "shell.execute_reply.started": "2023-08-31T18:44:22.078502Z"
    },
    "tags": []
   },
   "outputs": [],
   "source": [
    "where_flats = \"instrument='LATISS' AND physical_filter='empty~empty' AND exposure.observation_type='flat'\""
   ]
  },
  {
   "cell_type": "code",
   "execution_count": 40,
   "id": "fa75b8cf-ade7-4f19-be88-339edde5e44d",
   "metadata": {
    "execution": {
     "iopub.execute_input": "2023-08-31T18:44:22.143764Z",
     "iopub.status.busy": "2023-08-31T18:44:22.143630Z",
     "iopub.status.idle": "2023-08-31T18:44:22.247509Z",
     "shell.execute_reply": "2023-08-31T18:44:22.247085Z",
     "shell.execute_reply.started": "2023-08-31T18:44:22.143752Z"
    },
    "tags": []
   },
   "outputs": [],
   "source": [
    "flats_records = list(registry.queryDimensionRecords('exposure',where=where_flats))"
   ]
  },
  {
   "cell_type": "code",
   "execution_count": 51,
   "id": "d8ca1f95-d264-4a1e-b592-6d57cc7474e0",
   "metadata": {
    "execution": {
     "iopub.execute_input": "2023-09-01T09:35:12.540312Z",
     "iopub.status.busy": "2023-09-01T09:35:12.540094Z",
     "iopub.status.idle": "2023-09-01T09:35:12.542804Z",
     "shell.execute_reply": "2023-09-01T09:35:12.542387Z",
     "shell.execute_reply.started": "2023-09-01T09:35:12.540297Z"
    },
    "tags": []
   },
   "outputs": [],
   "source": [
    "#flats_records"
   ]
  },
  {
   "cell_type": "code",
   "execution_count": 42,
   "id": "20df61ee-655a-458e-b69f-2d0649031ad7",
   "metadata": {
    "execution": {
     "iopub.execute_input": "2023-08-31T18:44:22.266304Z",
     "iopub.status.busy": "2023-08-31T18:44:22.266163Z",
     "iopub.status.idle": "2023-08-31T18:44:22.327336Z",
     "shell.execute_reply": "2023-08-31T18:44:22.326881Z",
     "shell.execute_reply.started": "2023-08-31T18:44:22.266291Z"
    },
    "tags": []
   },
   "outputs": [
    {
     "name": "stdout",
     "output_type": "stream",
     "text": [
      "666\n"
     ]
    }
   ],
   "source": [
    "print(len(flats_records))\n",
    "assert len(flats_records)!=0"
   ]
  },
  {
   "cell_type": "code",
   "execution_count": 43,
   "id": "7410273c-afe8-4ee3-9e64-933a18dfd3e2",
   "metadata": {
    "execution": {
     "iopub.execute_input": "2023-08-31T18:44:22.328092Z",
     "iopub.status.busy": "2023-08-31T18:44:22.327938Z",
     "iopub.status.idle": "2023-08-31T18:44:22.389117Z",
     "shell.execute_reply": "2023-08-31T18:44:22.388644Z",
     "shell.execute_reply.started": "2023-08-31T18:44:22.328075Z"
    },
    "tags": []
   },
   "outputs": [
    {
     "data": {
      "text/plain": [
       "2022091200073"
      ]
     },
     "execution_count": 43,
     "metadata": {},
     "output_type": "execute_result"
    }
   ],
   "source": [
    "flats_records[0].id"
   ]
  },
  {
   "cell_type": "code",
   "execution_count": 44,
   "id": "251f8e82-4dca-4841-b0c8-a19e818272f9",
   "metadata": {
    "execution": {
     "iopub.execute_input": "2023-08-31T18:44:22.389827Z",
     "iopub.status.busy": "2023-08-31T18:44:22.389683Z",
     "iopub.status.idle": "2023-08-31T18:44:22.451267Z",
     "shell.execute_reply": "2023-08-31T18:44:22.450822Z",
     "shell.execute_reply.started": "2023-08-31T18:44:22.389814Z"
    },
    "tags": []
   },
   "outputs": [],
   "source": [
    "flat_year = '2023'"
   ]
  },
  {
   "cell_type": "code",
   "execution_count": 45,
   "id": "0de5e8ff-77ec-40f0-88db-a7c70c5e2c6a",
   "metadata": {
    "execution": {
     "iopub.execute_input": "2023-08-31T18:44:22.451977Z",
     "iopub.status.busy": "2023-08-31T18:44:22.451830Z",
     "iopub.status.idle": "2023-08-31T18:44:22.512640Z",
     "shell.execute_reply": "2023-08-31T18:44:22.512188Z",
     "shell.execute_reply.started": "2023-08-31T18:44:22.451955Z"
    },
    "tags": []
   },
   "outputs": [],
   "source": [
    "flat_dates = []\n",
    "for flat_ in flats_records:\n",
    "    if flat_year in str(flat_.day_obs):\n",
    "        flat_dates.append(flat_.day_obs)\n"
   ]
  },
  {
   "cell_type": "code",
   "execution_count": 46,
   "id": "db9658c0-1aa5-48df-960a-5206dfa6e8c3",
   "metadata": {
    "execution": {
     "iopub.execute_input": "2023-08-31T18:44:22.513436Z",
     "iopub.status.busy": "2023-08-31T18:44:22.513287Z",
     "iopub.status.idle": "2023-08-31T18:44:22.574329Z",
     "shell.execute_reply": "2023-08-31T18:44:22.573864Z",
     "shell.execute_reply.started": "2023-08-31T18:44:22.513419Z"
    },
    "tags": []
   },
   "outputs": [
    {
     "name": "stdout",
     "output_type": "stream",
     "text": [
      "[20230112 20230116 20230118 20230214 20230321 20230327 20230404 20230420\n",
      " 20230425 20230509 20230510 20230523 20230524 20230525 20230705 20230706\n",
      " 20230724 20230725 20230726 20230727 20230801 20230802 20230803 20230811\n",
      " 20230816 20230817 20230823 20230829 20230830]\n"
     ]
    }
   ],
   "source": [
    "flat_dates = np.unique(flat_dates)\n",
    "print(flat_dates)"
   ]
  },
  {
   "cell_type": "code",
   "execution_count": 47,
   "id": "b9fff151-c81e-4e5d-9e7c-b33f066462d1",
   "metadata": {
    "execution": {
     "iopub.execute_input": "2023-08-31T18:44:22.575063Z",
     "iopub.status.busy": "2023-08-31T18:44:22.574913Z",
     "iopub.status.idle": "2023-08-31T18:44:22.635103Z",
     "shell.execute_reply": "2023-08-31T18:44:22.634630Z",
     "shell.execute_reply.started": "2023-08-31T18:44:22.575051Z"
    },
    "tags": []
   },
   "outputs": [],
   "source": [
    "flat_date = 20230116"
   ]
  },
  {
   "cell_type": "code",
   "execution_count": 48,
   "id": "96ec7d94-f4bb-425b-8196-039fcad13848",
   "metadata": {
    "execution": {
     "iopub.execute_input": "2023-08-31T18:44:22.635810Z",
     "iopub.status.busy": "2023-08-31T18:44:22.635676Z",
     "iopub.status.idle": "2023-08-31T18:44:22.696730Z",
     "shell.execute_reply": "2023-08-31T18:44:22.696242Z",
     "shell.execute_reply.started": "2023-08-31T18:44:22.635798Z"
    },
    "tags": []
   },
   "outputs": [
    {
     "name": "stdout",
     "output_type": "stream",
     "text": [
      "[2023011600015, 2023011600014, 2023011600016]\n"
     ]
    }
   ],
   "source": [
    "flats_selected = []\n",
    "for flat_ in flats_records:\n",
    "    if flat_.day_obs==flat_date:\n",
    "        flats_selected.append(flat_.id)\n",
    "print(flats_selected)"
   ]
  },
  {
   "cell_type": "markdown",
   "id": "6f8308b8-a784-487e-8e8d-c460e844a899",
   "metadata": {},
   "source": [
    "Check that we can load the flats "
   ]
  },
  {
   "cell_type": "code",
   "execution_count": 49,
   "id": "76335d26-6612-4124-9180-3391924e07c5",
   "metadata": {
    "execution": {
     "iopub.execute_input": "2023-08-31T18:44:22.697649Z",
     "iopub.status.busy": "2023-08-31T18:44:22.697286Z",
     "iopub.status.idle": "2023-08-31T18:44:24.711576Z",
     "shell.execute_reply": "2023-08-31T18:44:24.710979Z",
     "shell.execute_reply.started": "2023-08-31T18:44:22.697636Z"
    },
    "tags": []
   },
   "outputs": [],
   "source": [
    "flat_arrays = []\n",
    "for fid_ in flats_selected:\n",
    "    flat_img = butler.get(\n",
    "        \"flat\",\n",
    "        instrument=\"LATISS\", exposure=fid_, detector=0,\n",
    "        collections=calibCollections)\n",
    "    flat_arrays.append(flat_img.getImage().array)"
   ]
  },
  {
   "cell_type": "code",
   "execution_count": null,
   "id": "3ff90fa0-8e78-4ab7-9f8d-f5c6e7eef1a9",
   "metadata": {},
   "outputs": [],
   "source": []
  },
  {
   "cell_type": "code",
   "execution_count": null,
   "id": "b492c463-1dbc-435b-92e8-e9983bca2493",
   "metadata": {},
   "outputs": [],
   "source": []
  },
  {
   "cell_type": "code",
   "execution_count": null,
   "id": "1fb3cb9b-1019-485d-83b3-04ebe5113980",
   "metadata": {},
   "outputs": [],
   "source": []
  }
 ],
 "metadata": {
  "kernelspec": {
   "display_name": "LSST",
   "language": "python",
   "name": "lsst"
  },
  "language_info": {
   "codemirror_mode": {
    "name": "ipython",
    "version": 3
   },
   "file_extension": ".py",
   "mimetype": "text/x-python",
   "name": "python",
   "nbconvert_exporter": "python",
   "pygments_lexer": "ipython3",
   "version": "3.10.10"
  },
  "toc": {
   "base_numbering": 1,
   "nav_menu": {},
   "number_sections": true,
   "sideBar": true,
   "skip_h1_title": false,
   "title_cell": "Table of Contents",
   "title_sidebar": "Contents",
   "toc_cell": false,
   "toc_position": {},
   "toc_section_display": true,
   "toc_window_display": false
  }
 },
 "nbformat": 4,
 "nbformat_minor": 5
}
