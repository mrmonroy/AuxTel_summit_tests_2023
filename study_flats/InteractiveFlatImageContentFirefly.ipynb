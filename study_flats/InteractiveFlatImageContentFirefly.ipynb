{
 "cells": [
  {
   "cell_type": "markdown",
   "id": "4abd923d-cefe-4852-a44e-335d0ab492f6",
   "metadata": {
    "execution": {
     "iopub.execute_input": "2023-09-20T18:43:06.365313Z",
     "iopub.status.busy": "2023-09-20T18:43:06.365006Z",
     "iopub.status.idle": "2023-09-20T18:43:06.699783Z",
     "shell.execute_reply": "2023-09-20T18:43:06.699464Z",
     "shell.execute_reply.started": "2023-09-20T18:43:06.365299Z"
    },
    "tags": []
   },
   "source": [
    "# Show Special Flat content interactively"
   ]
  },
  {
   "cell_type": "code",
   "execution_count": 2,
   "id": "d7f54113-0151-4e82-9da3-9bcdc675ca62",
   "metadata": {
    "execution": {
     "iopub.execute_input": "2023-09-20T19:23:45.247619Z",
     "iopub.status.busy": "2023-09-20T19:23:45.247139Z",
     "iopub.status.idle": "2023-09-20T19:23:45.336793Z",
     "shell.execute_reply": "2023-09-20T19:23:45.336370Z",
     "shell.execute_reply.started": "2023-09-20T19:23:45.247601Z"
    },
    "tags": []
   },
   "outputs": [],
   "source": [
    "import numpy as np\n",
    "import lsst.afw.display as afwDisplay\n",
    "display = afwDisplay.getDisplay(backend='firefly')"
   ]
  },
  {
   "cell_type": "code",
   "execution_count": 7,
   "id": "824cd645-cafe-4f78-8d92-8c1570dc5311",
   "metadata": {
    "execution": {
     "iopub.execute_input": "2023-09-20T19:25:06.144215Z",
     "iopub.status.busy": "2023-09-20T19:25:06.143672Z",
     "iopub.status.idle": "2023-09-20T19:25:06.146463Z",
     "shell.execute_reply": "2023-09-20T19:25:06.146041Z",
     "shell.execute_reply.started": "2023-09-20T19:25:06.144201Z"
    },
    "tags": []
   },
   "outputs": [],
   "source": [
    "import os\n",
    "from astropy.io import fits\n",
    "from astropy.time import Time"
   ]
  },
  {
   "cell_type": "code",
   "execution_count": 3,
   "id": "52961dbe-40f7-4c3a-99fa-753907919ca5",
   "metadata": {
    "execution": {
     "iopub.execute_input": "2023-09-20T19:19:12.531027Z",
     "iopub.status.busy": "2023-09-20T19:19:12.530907Z",
     "iopub.status.idle": "2023-09-20T19:19:12.749466Z",
     "shell.execute_reply": "2023-09-20T19:19:12.748930Z",
     "shell.execute_reply.started": "2023-09-20T19:19:12.531015Z"
    },
    "tags": []
   },
   "outputs": [
    {
     "name": "stdout",
     "output_type": "stream",
     "text": [
      "flat_2023011600015_empty_1.fits\n",
      "special_flat_2023011600015_empty_1_ws_40.fits\n",
      "special_flat_2023011600015_empty_1_ws_40-good.fits\n",
      "special_flat_2023011600015_empty_1_ws_40.png\n",
      "ws_analysis\n"
     ]
    }
   ],
   "source": [
    "!ls ../special_flats_median_smoothing/special_flats/20230116/2023011600015"
   ]
  },
  {
   "cell_type": "code",
   "execution_count": 4,
   "id": "2ea0af8a-531b-4aef-9952-edd2c1471d94",
   "metadata": {
    "execution": {
     "iopub.execute_input": "2023-09-20T19:24:58.163117Z",
     "iopub.status.busy": "2023-09-20T19:24:58.162758Z",
     "iopub.status.idle": "2023-09-20T19:24:58.165395Z",
     "shell.execute_reply": "2023-09-20T19:24:58.165036Z",
     "shell.execute_reply.started": "2023-09-20T19:24:58.163102Z"
    },
    "tags": []
   },
   "outputs": [],
   "source": [
    "path = \"../special_flats_median_smoothing/special_flats/20230116/2023011600015\"\n",
    "filename = \"special_flat_2023011600015_empty_1_ws_40.fits\""
   ]
  },
  {
   "cell_type": "code",
   "execution_count": 5,
   "id": "98b36de6-7658-40ac-a2f7-c25627095697",
   "metadata": {
    "execution": {
     "iopub.execute_input": "2023-09-20T19:25:00.782198Z",
     "iopub.status.busy": "2023-09-20T19:25:00.781974Z",
     "iopub.status.idle": "2023-09-20T19:25:00.784639Z",
     "shell.execute_reply": "2023-09-20T19:25:00.784258Z",
     "shell.execute_reply.started": "2023-09-20T19:25:00.782183Z"
    },
    "tags": []
   },
   "outputs": [],
   "source": [
    "fullfilename = os.path.join(path,filename)"
   ]
  },
  {
   "cell_type": "code",
   "execution_count": 8,
   "id": "91b460a1-c7eb-4019-8270-b609c2112506",
   "metadata": {
    "execution": {
     "iopub.execute_input": "2023-09-20T19:25:09.013557Z",
     "iopub.status.busy": "2023-09-20T19:25:09.013218Z",
     "iopub.status.idle": "2023-09-20T19:25:09.019050Z",
     "shell.execute_reply": "2023-09-20T19:25:09.018682Z",
     "shell.execute_reply.started": "2023-09-20T19:25:09.013543Z"
    },
    "tags": []
   },
   "outputs": [],
   "source": [
    "hdu = fits.open(fullfilename)"
   ]
  },
  {
   "cell_type": "code",
   "execution_count": 9,
   "id": "32efb502-044f-400f-95b3-d39b27a341d0",
   "metadata": {
    "execution": {
     "iopub.execute_input": "2023-09-20T19:25:11.258279Z",
     "iopub.status.busy": "2023-09-20T19:25:11.257967Z",
     "iopub.status.idle": "2023-09-20T19:25:11.261284Z",
     "shell.execute_reply": "2023-09-20T19:25:11.260903Z",
     "shell.execute_reply.started": "2023-09-20T19:25:11.258266Z"
    },
    "tags": []
   },
   "outputs": [
    {
     "name": "stdout",
     "output_type": "stream",
     "text": [
      "Filename: ../special_flats_median_smoothing/special_flats/20230116/2023011600015/special_flat_2023011600015_empty_1_ws_40.fits\n",
      "No.    Name      Ver    Type      Cards   Dimensions   Format\n",
      "  0  Segment10     1 PrimaryHDU     248   ()      \n",
      "  1                1 ImageHDU         7   (4072, 4000)   float32   \n"
     ]
    }
   ],
   "source": [
    "hdu.info()"
   ]
  },
  {
   "cell_type": "code",
   "execution_count": 10,
   "id": "08cfe3d4-64c9-420a-ad7e-61b5d482f277",
   "metadata": {
    "execution": {
     "iopub.execute_input": "2023-09-20T19:25:13.929510Z",
     "iopub.status.busy": "2023-09-20T19:25:13.929187Z",
     "iopub.status.idle": "2023-09-20T19:25:13.931862Z",
     "shell.execute_reply": "2023-09-20T19:25:13.931484Z",
     "shell.execute_reply.started": "2023-09-20T19:25:13.929496Z"
    },
    "tags": []
   },
   "outputs": [],
   "source": [
    "data = hdu[1].data"
   ]
  },
  {
   "cell_type": "code",
   "execution_count": 11,
   "id": "a77f9d08-360f-4da7-85c6-11ad09b7bf63",
   "metadata": {
    "execution": {
     "iopub.execute_input": "2023-09-20T19:25:15.936514Z",
     "iopub.status.busy": "2023-09-20T19:25:15.935993Z",
     "iopub.status.idle": "2023-09-20T19:25:15.938598Z",
     "shell.execute_reply": "2023-09-20T19:25:15.938249Z",
     "shell.execute_reply.started": "2023-09-20T19:25:15.936500Z"
    },
    "tags": []
   },
   "outputs": [],
   "source": [
    "NY,NX = data.shape"
   ]
  },
  {
   "cell_type": "code",
   "execution_count": 12,
   "id": "ab04d3fc-dc31-4ce5-8f05-dbe86efd803b",
   "metadata": {
    "execution": {
     "iopub.execute_input": "2023-09-20T19:25:18.249341Z",
     "iopub.status.busy": "2023-09-20T19:25:18.249151Z",
     "iopub.status.idle": "2023-09-20T19:25:18.286390Z",
     "shell.execute_reply": "2023-09-20T19:25:18.285898Z",
     "shell.execute_reply.started": "2023-09-20T19:25:18.249328Z"
    },
    "tags": []
   },
   "outputs": [
    {
     "ename": "RuntimeError",
     "evalue": "Unsupported type array([[0.71492213, 0.7062913 , 0.70581496, ..., 0.71721363, 0.72194153,\n        0.7356465 ],\n       [0.8189275 , 0.82351905, 0.82627016, ..., 0.8242111 , 0.8278834 ,\n        0.8116883 ],\n       [0.8543316 , 0.86792815, 0.8731483 , ..., 0.86362356, 0.8661489 ,\n        0.8417227 ],\n       ...,\n       [0.86114424, 0.8707149 , 0.8787147 , ..., 0.9190374 , 0.90184945,\n        0.8862837 ],\n       [0.81625444, 0.8226284 , 0.8280766 , ..., 0.8705153 , 0.8759345 ,\n        0.8542279 ],\n       [0.71863127, 0.7167773 , 0.7157546 , ..., 0.7603711 , 0.76032037,\n        0.77825946]], dtype=float32)",
     "output_type": "error",
     "traceback": [
      "\u001b[0;31m---------------------------------------------------------------------------\u001b[0m",
      "\u001b[0;31mRuntimeError\u001b[0m                              Traceback (most recent call last)",
      "Cell \u001b[0;32mIn[12], line 1\u001b[0m\n\u001b[0;32m----> 1\u001b[0m \u001b[43mdisplay\u001b[49m\u001b[38;5;241;43m.\u001b[39;49m\u001b[43mmtv\u001b[49m\u001b[43m(\u001b[49m\u001b[43mdata\u001b[49m\u001b[43m)\u001b[49m\n",
      "File \u001b[0;32m/opt/lsst/software/stack/stack/miniconda3-py38_4.9.2-7.0.1/Linux64/afw/g5b0a815229+07073039e0/python/lsst/afw/display/interface.py:587\u001b[0m, in \u001b[0;36mDisplay.mtv\u001b[0;34m(self, data, title, wcs)\u001b[0m\n\u001b[1;32m    585\u001b[0m     \u001b[38;5;28mself\u001b[39m\u001b[38;5;241m.\u001b[39m_impl\u001b[38;5;241m.\u001b[39m_mtv(data\u001b[38;5;241m.\u001b[39mgetImage(), data\u001b[38;5;241m.\u001b[39mgetMask(), wcs, title)\n\u001b[1;32m    586\u001b[0m \u001b[38;5;28;01melse\u001b[39;00m:\n\u001b[0;32m--> 587\u001b[0m     \u001b[38;5;28;01mraise\u001b[39;00m \u001b[38;5;167;01mRuntimeError\u001b[39;00m(\u001b[38;5;124mf\u001b[39m\u001b[38;5;124m\"\u001b[39m\u001b[38;5;124mUnsupported type \u001b[39m\u001b[38;5;132;01m{\u001b[39;00mdata\u001b[38;5;132;01m!r}\u001b[39;00m\u001b[38;5;124m\"\u001b[39m)\n",
      "\u001b[0;31mRuntimeError\u001b[0m: Unsupported type array([[0.71492213, 0.7062913 , 0.70581496, ..., 0.71721363, 0.72194153,\n        0.7356465 ],\n       [0.8189275 , 0.82351905, 0.82627016, ..., 0.8242111 , 0.8278834 ,\n        0.8116883 ],\n       [0.8543316 , 0.86792815, 0.8731483 , ..., 0.86362356, 0.8661489 ,\n        0.8417227 ],\n       ...,\n       [0.86114424, 0.8707149 , 0.8787147 , ..., 0.9190374 , 0.90184945,\n        0.8862837 ],\n       [0.81625444, 0.8226284 , 0.8280766 , ..., 0.8705153 , 0.8759345 ,\n        0.8542279 ],\n       [0.71863127, 0.7167773 , 0.7157546 , ..., 0.7603711 , 0.76032037,\n        0.77825946]], dtype=float32)"
     ]
    }
   ],
   "source": [
    "display.mtv(data)"
   ]
  },
  {
   "cell_type": "code",
   "execution_count": 11,
   "id": "190aa694-d697-4e89-ac3a-e18ec405ed62",
   "metadata": {
    "execution": {
     "iopub.execute_input": "2023-09-20T19:19:12.810019Z",
     "iopub.status.busy": "2023-09-20T19:19:12.809876Z",
     "iopub.status.idle": "2023-09-20T19:19:12.826723Z",
     "shell.execute_reply": "2023-09-20T19:19:12.826339Z",
     "shell.execute_reply.started": "2023-09-20T19:19:12.810005Z"
    },
    "tags": []
   },
   "outputs": [],
   "source": []
  },
  {
   "cell_type": "code",
   "execution_count": null,
   "id": "1fc70235-8fea-40a3-8655-6b0caca163e1",
   "metadata": {
    "execution": {
     "iopub.execute_input": "2023-09-20T19:19:12.828713Z",
     "iopub.status.busy": "2023-09-20T19:19:12.828596Z"
    },
    "tags": []
   },
   "outputs": [
    {
     "data": {},
     "metadata": {},
     "output_type": "display_data"
    }
   ],
   "source": []
  },
  {
   "cell_type": "code",
   "execution_count": null,
   "id": "a2d1c8df-b37e-41a0-b82e-3892abce7e49",
   "metadata": {},
   "outputs": [],
   "source": []
  }
 ],
 "metadata": {
  "kernelspec": {
   "display_name": "LSST",
   "language": "python",
   "name": "lsst"
  },
  "language_info": {
   "codemirror_mode": {
    "name": "ipython",
    "version": 3
   },
   "file_extension": ".py",
   "mimetype": "text/x-python",
   "name": "python",
   "nbconvert_exporter": "python",
   "pygments_lexer": "ipython3",
   "version": "3.11.4"
  }
 },
 "nbformat": 4,
 "nbformat_minor": 5
}
