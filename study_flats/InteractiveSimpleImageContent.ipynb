{
 "cells": [
  {
   "cell_type": "markdown",
   "id": "4abd923d-cefe-4852-a44e-335d0ab492f6",
   "metadata": {
    "execution": {
     "iopub.execute_input": "2023-09-20T18:43:06.365313Z",
     "iopub.status.busy": "2023-09-20T18:43:06.365006Z",
     "iopub.status.idle": "2023-09-20T18:43:06.699783Z",
     "shell.execute_reply": "2023-09-20T18:43:06.699464Z",
     "shell.execute_reply.started": "2023-09-20T18:43:06.365299Z"
    },
    "tags": []
   },
   "source": [
    "# Show image content interactively"
   ]
  },
  {
   "cell_type": "code",
   "execution_count": null,
   "id": "d7f54113-0151-4e82-9da3-9bcdc675ca62",
   "metadata": {
    "tags": []
   },
   "outputs": [],
   "source": [
    "import numpy as np\n",
    "import holoviews as hv\n",
    "from holoviews import opts\n",
    "hv.extension('bokeh')"
   ]
  },
  {
   "cell_type": "code",
   "execution_count": null,
   "id": "ab04d3fc-dc31-4ce5-8f05-dbe86efd803b",
   "metadata": {
    "tags": []
   },
   "outputs": [],
   "source": [
    "ls = np.linspace(0, 10, 200)\n",
    "xx, yy = np.meshgrid(ls, ls)\n",
    "\n",
    "bounds=(-1,-1,1,1)   # Coordinate system: (left, bottom, right, top)\n",
    "img = hv.Image(np.sin(xx)*np.cos(yy), bounds=bounds)\n",
    "img"
   ]
  },
  {
   "cell_type": "code",
   "execution_count": null,
   "id": "190aa694-d697-4e89-ac3a-e18ec405ed62",
   "metadata": {
    "tags": []
   },
   "outputs": [],
   "source": [
    "opts.defaults(\n",
    "   opts.Image(tools=['hover']),\n",
    "   opts.Points (color='black', marker='x', size=20))"
   ]
  },
  {
   "cell_type": "code",
   "execution_count": null,
   "id": "1fc70235-8fea-40a3-8655-6b0caca163e1",
   "metadata": {
    "tags": []
   },
   "outputs": [],
   "source": [
    "img"
   ]
  },
  {
   "cell_type": "code",
   "execution_count": null,
   "id": "a2d1c8df-b37e-41a0-b82e-3892abce7e49",
   "metadata": {},
   "outputs": [],
   "source": []
  }
 ],
 "metadata": {
  "kernelspec": {
   "display_name": "LSST",
   "language": "python",
   "name": "lsst"
  },
  "language_info": {
   "codemirror_mode": {
    "name": "ipython",
    "version": 3
   },
   "file_extension": ".py",
   "mimetype": "text/x-python",
   "name": "python",
   "nbconvert_exporter": "python",
   "pygments_lexer": "ipython3",
   "version": "3.11.4"
  }
 },
 "nbformat": 4,
 "nbformat_minor": 5
}
