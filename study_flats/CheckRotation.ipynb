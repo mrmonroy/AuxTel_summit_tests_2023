{
 "cells": [
  {
   "cell_type": "markdown",
   "id": "9e9d2153-6989-41c8-aaeb-23c5fe5a87df",
   "metadata": {},
   "source": [
    "# Check the impact of postisrccd rotation\n",
    "\n",
    "- Sylvie\n",
    "- 2023/09:27"
   ]
  },
  {
   "cell_type": "code",
   "execution_count": 1,
   "id": "e55505d3-3b75-4180-81a9-b5edac8f9925",
   "metadata": {
    "execution": {
     "iopub.execute_input": "2023-09-27T11:30:03.090314Z",
     "iopub.status.busy": "2023-09-27T11:30:03.089995Z",
     "iopub.status.idle": "2023-09-27T11:30:03.092675Z",
     "shell.execute_reply": "2023-09-27T11:30:03.092290Z",
     "shell.execute_reply.started": "2023-09-27T11:30:03.090298Z"
    },
    "tags": []
   },
   "outputs": [],
   "source": [
    "import numpy as np"
   ]
  },
  {
   "cell_type": "code",
   "execution_count": 3,
   "id": "f785b248-22a5-4ccf-b491-8b94e3729ed3",
   "metadata": {
    "execution": {
     "iopub.execute_input": "2023-09-27T11:30:20.551709Z",
     "iopub.status.busy": "2023-09-27T11:30:20.551396Z",
     "iopub.status.idle": "2023-09-27T11:30:20.553992Z",
     "shell.execute_reply": "2023-09-27T11:30:20.553630Z",
     "shell.execute_reply.started": "2023-09-27T11:30:20.551695Z"
    },
    "tags": []
   },
   "outputs": [],
   "source": [
    "arr = np.arange(25)"
   ]
  },
  {
   "cell_type": "code",
   "execution_count": 5,
   "id": "83fdc3be-c2c3-4c3a-8cc7-b497f5487503",
   "metadata": {
    "execution": {
     "iopub.execute_input": "2023-09-27T11:37:54.670602Z",
     "iopub.status.busy": "2023-09-27T11:37:54.670370Z",
     "iopub.status.idle": "2023-09-27T11:37:54.673059Z",
     "shell.execute_reply": "2023-09-27T11:37:54.672683Z",
     "shell.execute_reply.started": "2023-09-27T11:37:54.670589Z"
    },
    "tags": []
   },
   "outputs": [],
   "source": [
    "arr= arr.reshape(5,-1)"
   ]
  },
  {
   "cell_type": "code",
   "execution_count": 6,
   "id": "1197d9d5-ef1e-49fe-9fcf-33d620374867",
   "metadata": {
    "execution": {
     "iopub.execute_input": "2023-09-27T11:37:57.056052Z",
     "iopub.status.busy": "2023-09-27T11:37:57.055710Z",
     "iopub.status.idle": "2023-09-27T11:37:57.059239Z",
     "shell.execute_reply": "2023-09-27T11:37:57.058724Z",
     "shell.execute_reply.started": "2023-09-27T11:37:57.056037Z"
    },
    "tags": []
   },
   "outputs": [
    {
     "data": {
      "text/plain": [
       "array([[ 0,  1,  2,  3,  4],\n",
       "       [ 5,  6,  7,  8,  9],\n",
       "       [10, 11, 12, 13, 14],\n",
       "       [15, 16, 17, 18, 19],\n",
       "       [20, 21, 22, 23, 24]])"
      ]
     },
     "execution_count": 6,
     "metadata": {},
     "output_type": "execute_result"
    }
   ],
   "source": [
    "arr"
   ]
  },
  {
   "cell_type": "markdown",
   "id": "bf16a927-675d-40aa-a30b-4eaa02f88083",
   "metadata": {},
   "source": [
    "## Apply the rotation as done for postisrccd"
   ]
  },
  {
   "cell_type": "code",
   "execution_count": 7,
   "id": "1fa2898f-db14-4b55-b153-1d2bfc750153",
   "metadata": {
    "execution": {
     "iopub.execute_input": "2023-09-27T11:38:41.170691Z",
     "iopub.status.busy": "2023-09-27T11:38:41.170116Z",
     "iopub.status.idle": "2023-09-27T11:38:41.172967Z",
     "shell.execute_reply": "2023-09-27T11:38:41.172617Z",
     "shell.execute_reply.started": "2023-09-27T11:38:41.170659Z"
    },
    "tags": []
   },
   "outputs": [],
   "source": [
    "rotated_array = arr[::-1,::-1] #rotate the array 180 degrees"
   ]
  },
  {
   "cell_type": "code",
   "execution_count": 9,
   "id": "2e6fc5ce-fd9d-4e95-bdcf-ab551a0c904e",
   "metadata": {
    "execution": {
     "iopub.execute_input": "2023-09-27T11:38:52.551650Z",
     "iopub.status.busy": "2023-09-27T11:38:52.551416Z",
     "iopub.status.idle": "2023-09-27T11:38:52.554612Z",
     "shell.execute_reply": "2023-09-27T11:38:52.554315Z",
     "shell.execute_reply.started": "2023-09-27T11:38:52.551635Z"
    },
    "tags": []
   },
   "outputs": [
    {
     "data": {
      "text/plain": [
       "array([[24, 23, 22, 21, 20],\n",
       "       [19, 18, 17, 16, 15],\n",
       "       [14, 13, 12, 11, 10],\n",
       "       [ 9,  8,  7,  6,  5],\n",
       "       [ 4,  3,  2,  1,  0]])"
      ]
     },
     "execution_count": 9,
     "metadata": {},
     "output_type": "execute_result"
    }
   ],
   "source": [
    "rotated_array"
   ]
  },
  {
   "cell_type": "markdown",
   "id": "38560a35-e8af-4ebc-a2f1-393f9f269258",
   "metadata": {},
   "source": [
    "## Apply the different operations performed on the flat"
   ]
  },
  {
   "cell_type": "code",
   "execution_count": 10,
   "id": "0c19329f-24a7-4a1f-a5f7-a3d20973ff6a",
   "metadata": {
    "execution": {
     "iopub.execute_input": "2023-09-27T11:41:48.267626Z",
     "iopub.status.busy": "2023-09-27T11:41:48.267325Z",
     "iopub.status.idle": "2023-09-27T11:41:48.270378Z",
     "shell.execute_reply": "2023-09-27T11:41:48.269986Z",
     "shell.execute_reply.started": "2023-09-27T11:41:48.267610Z"
    },
    "tags": []
   },
   "outputs": [],
   "source": [
    "arr_v1 = arr\n",
    "arr_v2 = np.flipud(arr)\n",
    "arr_v3 = np.fliplr(arr)\n",
    "arr_v4 = np.fliplr(np.flipud(arr))"
   ]
  },
  {
   "cell_type": "code",
   "execution_count": 11,
   "id": "193fde5c-ac6e-4d75-b60d-3763be6adadc",
   "metadata": {
    "execution": {
     "iopub.execute_input": "2023-09-27T11:41:52.628626Z",
     "iopub.status.busy": "2023-09-27T11:41:52.628308Z",
     "iopub.status.idle": "2023-09-27T11:41:52.631636Z",
     "shell.execute_reply": "2023-09-27T11:41:52.631327Z",
     "shell.execute_reply.started": "2023-09-27T11:41:52.628610Z"
    },
    "tags": []
   },
   "outputs": [
    {
     "data": {
      "text/plain": [
       "array([[20, 21, 22, 23, 24],\n",
       "       [15, 16, 17, 18, 19],\n",
       "       [10, 11, 12, 13, 14],\n",
       "       [ 5,  6,  7,  8,  9],\n",
       "       [ 0,  1,  2,  3,  4]])"
      ]
     },
     "execution_count": 11,
     "metadata": {},
     "output_type": "execute_result"
    }
   ],
   "source": [
    "arr_v2"
   ]
  },
  {
   "cell_type": "code",
   "execution_count": 12,
   "id": "beeabd07-a8d2-457a-9335-75e207366371",
   "metadata": {
    "execution": {
     "iopub.execute_input": "2023-09-27T11:41:59.439286Z",
     "iopub.status.busy": "2023-09-27T11:41:59.439028Z",
     "iopub.status.idle": "2023-09-27T11:41:59.442151Z",
     "shell.execute_reply": "2023-09-27T11:41:59.441848Z",
     "shell.execute_reply.started": "2023-09-27T11:41:59.439272Z"
    },
    "tags": []
   },
   "outputs": [
    {
     "data": {
      "text/plain": [
       "array([[ 4,  3,  2,  1,  0],\n",
       "       [ 9,  8,  7,  6,  5],\n",
       "       [14, 13, 12, 11, 10],\n",
       "       [19, 18, 17, 16, 15],\n",
       "       [24, 23, 22, 21, 20]])"
      ]
     },
     "execution_count": 12,
     "metadata": {},
     "output_type": "execute_result"
    }
   ],
   "source": [
    "arr_v3"
   ]
  },
  {
   "cell_type": "code",
   "execution_count": 13,
   "id": "8293aa71-9080-4a7a-87aa-d52540f4c4e9",
   "metadata": {
    "execution": {
     "iopub.execute_input": "2023-09-27T11:42:05.010640Z",
     "iopub.status.busy": "2023-09-27T11:42:05.010424Z",
     "iopub.status.idle": "2023-09-27T11:42:05.013817Z",
     "shell.execute_reply": "2023-09-27T11:42:05.013500Z",
     "shell.execute_reply.started": "2023-09-27T11:42:05.010625Z"
    },
    "tags": []
   },
   "outputs": [
    {
     "data": {
      "text/plain": [
       "array([[24, 23, 22, 21, 20],\n",
       "       [19, 18, 17, 16, 15],\n",
       "       [14, 13, 12, 11, 10],\n",
       "       [ 9,  8,  7,  6,  5],\n",
       "       [ 4,  3,  2,  1,  0]])"
      ]
     },
     "execution_count": 13,
     "metadata": {},
     "output_type": "execute_result"
    }
   ],
   "source": [
    "arr_v4"
   ]
  },
  {
   "cell_type": "markdown",
   "id": "b17984aa-0cb8-4ae3-a70e-0b3c1fd85c4a",
   "metadata": {},
   "source": [
    "### so the rotation is compatible with version v4 : np.fliplr(np.flipud(arr))"
   ]
  },
  {
   "cell_type": "code",
   "execution_count": null,
   "id": "3d694de1-4b97-4d78-a36d-0a223202ec9a",
   "metadata": {},
   "outputs": [],
   "source": []
  }
 ],
 "metadata": {
  "kernelspec": {
   "display_name": "LSST",
   "language": "python",
   "name": "lsst"
  },
  "language_info": {
   "codemirror_mode": {
    "name": "ipython",
    "version": 3
   },
   "file_extension": ".py",
   "mimetype": "text/x-python",
   "name": "python",
   "nbconvert_exporter": "python",
   "pygments_lexer": "ipython3",
   "version": "3.11.4"
  }
 },
 "nbformat": 4,
 "nbformat_minor": 5
}
