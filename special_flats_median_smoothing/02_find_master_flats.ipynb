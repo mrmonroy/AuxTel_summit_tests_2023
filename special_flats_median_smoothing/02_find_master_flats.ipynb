{
 "cells": [
  {
   "cell_type": "code",
   "execution_count": 1,
   "id": "d5b30667-1a38-499d-9947-9ff54a69711a",
   "metadata": {
    "execution": {
     "iopub.execute_input": "2023-09-01T16:53:19.295044Z",
     "iopub.status.busy": "2023-09-01T16:53:19.294819Z",
     "iopub.status.idle": "2023-09-01T16:53:19.817522Z",
     "shell.execute_reply": "2023-09-01T16:53:19.816979Z",
     "shell.execute_reply.started": "2023-09-01T16:53:19.295029Z"
    },
    "tags": []
   },
   "outputs": [],
   "source": [
    "import os\n",
    "import matplotlib.pyplot as plt\n",
    "import matplotlib.colors as colors\n",
    "import matplotlib.cm as cmx\n",
    "import matplotlib.dates as mdates\n",
    "\n",
    "import numpy as np\n",
    "import pandas as pd\n",
    "%matplotlib inline\n",
    "from matplotlib.colors import LogNorm\n",
    "\n",
    "from mpl_toolkits.axes_grid1 import make_axes_locatable\n",
    "\n",
    "import matplotlib.ticker                         # here's where the formatter is\n",
    "from matplotlib.ticker import (MultipleLocator, FormatStrFormatter,\n",
    "                               AutoMinorLocator)\n",
    "\n",
    "from astropy.visualization import (MinMaxInterval, SqrtStretch,ZScaleInterval,PercentileInterval,\n",
    "                                   ImageNormalize,imshow_norm)\n",
    "from astropy.visualization.stretch import SinhStretch, LinearStretch,AsinhStretch,LogStretch\n",
    "\n",
    "\n",
    "from astropy.io import fits\n",
    "\n"
   ]
  },
  {
   "cell_type": "code",
   "execution_count": 2,
   "id": "d6ef3df0-4d48-4757-95cf-b0717267aa28",
   "metadata": {
    "execution": {
     "iopub.execute_input": "2023-09-01T16:53:19.818493Z",
     "iopub.status.busy": "2023-09-01T16:53:19.818220Z",
     "iopub.status.idle": "2023-09-01T16:53:21.065513Z",
     "shell.execute_reply": "2023-09-01T16:53:21.065091Z",
     "shell.execute_reply.started": "2023-09-01T16:53:19.818477Z"
    },
    "tags": []
   },
   "outputs": [],
   "source": [
    "# Assembly task\n",
    "# https://github.com/lsst/ip_isr/blob/main/python/lsst/ip/isr/isrTask.py\n",
    "\n",
    "from lsst.ip.isr.assembleCcdTask import (AssembleCcdConfig, AssembleCcdTask)\n",
    "from lsst.ip.isr.isrTask import (IsrTask, IsrTaskConfig)\n",
    "\n",
    "#https://github.com/lsst/ip_isr/blob/main/python/lsst/ip/isr/overscan.py\n",
    "from lsst.ip.isr import  OverscanCorrectionTaskConfig, OverscanCorrectionTask"
   ]
  },
  {
   "cell_type": "code",
   "execution_count": 3,
   "id": "724214f9-257b-4d19-aced-e006a1055e2e",
   "metadata": {
    "execution": {
     "iopub.execute_input": "2023-09-01T16:53:21.066236Z",
     "iopub.status.busy": "2023-09-01T16:53:21.066093Z",
     "iopub.status.idle": "2023-09-01T16:53:21.076138Z",
     "shell.execute_reply": "2023-09-01T16:53:21.075800Z",
     "shell.execute_reply.started": "2023-09-01T16:53:21.066222Z"
    },
    "tags": []
   },
   "outputs": [],
   "source": [
    "# LSST Display\n",
    "import lsst.afw.display as afwDisplay\n",
    "afwDisplay.setDefaultBackend('matplotlib')"
   ]
  },
  {
   "cell_type": "code",
   "execution_count": 4,
   "id": "dd84b368-9243-42b2-ae09-aefe0bf47fdb",
   "metadata": {
    "execution": {
     "iopub.execute_input": "2023-09-01T16:53:21.076756Z",
     "iopub.status.busy": "2023-09-01T16:53:21.076598Z",
     "iopub.status.idle": "2023-09-01T16:53:21.078881Z",
     "shell.execute_reply": "2023-09-01T16:53:21.078492Z",
     "shell.execute_reply.started": "2023-09-01T16:53:21.076742Z"
    },
    "tags": []
   },
   "outputs": [],
   "source": [
    "import warnings\n",
    "warnings.filterwarnings(\"ignore\")"
   ]
  },
  {
   "cell_type": "code",
   "execution_count": null,
   "id": "ef4e188a-b872-42b0-bba3-68698cbc75cc",
   "metadata": {},
   "outputs": [],
   "source": []
  },
  {
   "cell_type": "markdown",
   "id": "d225f02e-455c-4374-bacc-b0c5cafcad74",
   "metadata": {},
   "source": [
    "## Butler "
   ]
  },
  {
   "cell_type": "code",
   "execution_count": 5,
   "id": "0af256cb-0bfb-4b21-bb74-7058b19630de",
   "metadata": {
    "execution": {
     "iopub.execute_input": "2023-09-01T16:53:21.079607Z",
     "iopub.status.busy": "2023-09-01T16:53:21.079465Z",
     "iopub.status.idle": "2023-09-01T16:53:21.083081Z",
     "shell.execute_reply": "2023-09-01T16:53:21.082676Z",
     "shell.execute_reply.started": "2023-09-01T16:53:21.079594Z"
    },
    "tags": []
   },
   "outputs": [],
   "source": [
    "import lsst.daf.butler as dafButler"
   ]
  },
  {
   "cell_type": "code",
   "execution_count": 6,
   "id": "c71e5e99-02db-4a10-ab15-51d4a1bd77f6",
   "metadata": {
    "execution": {
     "iopub.execute_input": "2023-09-01T16:53:21.084762Z",
     "iopub.status.busy": "2023-09-01T16:53:21.084473Z",
     "iopub.status.idle": "2023-09-01T16:53:21.087440Z",
     "shell.execute_reply": "2023-09-01T16:53:21.087122Z",
     "shell.execute_reply.started": "2023-09-01T16:53:21.084747Z"
    },
    "tags": []
   },
   "outputs": [],
   "source": [
    "embargo = True"
   ]
  },
  {
   "cell_type": "code",
   "execution_count": 7,
   "id": "3d565318-9db9-4364-9bdd-d27c4311ebe7",
   "metadata": {
    "execution": {
     "iopub.execute_input": "2023-09-01T16:53:21.087985Z",
     "iopub.status.busy": "2023-09-01T16:53:21.087843Z",
     "iopub.status.idle": "2023-09-01T16:53:22.967930Z",
     "shell.execute_reply": "2023-09-01T16:53:22.967341Z",
     "shell.execute_reply.started": "2023-09-01T16:53:21.087972Z"
    },
    "tags": []
   },
   "outputs": [],
   "source": [
    "if embargo:\n",
    "    repo=\"/sdf/group/rubin/repo/oga/\"\n",
    "else:\n",
    "    repo = \"/sdf/group/rubin/repo/main\"\n",
    "butler = dafButler.Butler(repo)\n",
    "registry = butler.registry"
   ]
  },
  {
   "cell_type": "code",
   "execution_count": 8,
   "id": "6de0ceea-753d-4b2d-9e79-532481a44548",
   "metadata": {
    "execution": {
     "iopub.execute_input": "2023-09-01T16:53:22.968887Z",
     "iopub.status.busy": "2023-09-01T16:53:22.968719Z",
     "iopub.status.idle": "2023-09-01T16:53:22.976671Z",
     "shell.execute_reply": "2023-09-01T16:53:22.976199Z",
     "shell.execute_reply.started": "2023-09-01T16:53:22.968872Z"
    },
    "tags": []
   },
   "outputs": [],
   "source": [
    "calibCollections = ['LATISS/defaults','LATISS/raw/all']\n",
    "for col in registry.queryCollections(\"*LATISS/calib*\"):\n",
    "    calibCollections.append(col)"
   ]
  },
  {
   "cell_type": "code",
   "execution_count": 9,
   "id": "0aa76081-cc15-4001-b570-0c98db32f375",
   "metadata": {
    "execution": {
     "iopub.execute_input": "2023-09-01T16:53:22.977469Z",
     "iopub.status.busy": "2023-09-01T16:53:22.977327Z",
     "iopub.status.idle": "2023-09-01T16:53:22.981762Z",
     "shell.execute_reply": "2023-09-01T16:53:22.981340Z",
     "shell.execute_reply.started": "2023-09-01T16:53:22.977456Z"
    },
    "tags": []
   },
   "outputs": [],
   "source": [
    "where_flats = \"instrument='LATISS' AND physical_filter='empty~empty' AND exposure.observation_type='flat'\""
   ]
  },
  {
   "cell_type": "code",
   "execution_count": 10,
   "id": "ab2497c3-447c-43b4-b6fa-0e562abd31e1",
   "metadata": {
    "execution": {
     "iopub.execute_input": "2023-09-01T16:53:22.982476Z",
     "iopub.status.busy": "2023-09-01T16:53:22.982341Z",
     "iopub.status.idle": "2023-09-01T16:53:23.044496Z",
     "shell.execute_reply": "2023-09-01T16:53:23.043843Z",
     "shell.execute_reply.started": "2023-09-01T16:53:22.982464Z"
    },
    "tags": []
   },
   "outputs": [],
   "source": [
    "flats_records = list(registry.queryDimensionRecords('exposure',where=where_flats))"
   ]
  },
  {
   "cell_type": "code",
   "execution_count": 11,
   "id": "f978baf4-aaf4-4a16-a241-3a6c73aadbc5",
   "metadata": {
    "execution": {
     "iopub.execute_input": "2023-09-01T16:53:23.045672Z",
     "iopub.status.busy": "2023-09-01T16:53:23.045372Z",
     "iopub.status.idle": "2023-09-01T16:53:23.048793Z",
     "shell.execute_reply": "2023-09-01T16:53:23.048300Z",
     "shell.execute_reply.started": "2023-09-01T16:53:23.045652Z"
    }
   },
   "outputs": [
    {
     "name": "stdout",
     "output_type": "stream",
     "text": [
      "666\n"
     ]
    }
   ],
   "source": [
    "print(len(flats_records))\n",
    "assert len(flats_records)!=0"
   ]
  },
  {
   "cell_type": "markdown",
   "id": "10f6d923-c280-4115-9181-4b1a43aa0857",
   "metadata": {},
   "source": [
    "Select a year for the flats "
   ]
  },
  {
   "cell_type": "code",
   "execution_count": 12,
   "id": "f434cd3a-f051-4a3a-9e6b-e663296b39e9",
   "metadata": {
    "execution": {
     "iopub.execute_input": "2023-09-01T16:53:23.049674Z",
     "iopub.status.busy": "2023-09-01T16:53:23.049528Z",
     "iopub.status.idle": "2023-09-01T16:53:23.052769Z",
     "shell.execute_reply": "2023-09-01T16:53:23.052347Z",
     "shell.execute_reply.started": "2023-09-01T16:53:23.049661Z"
    },
    "tags": []
   },
   "outputs": [],
   "source": [
    "flat_year = '2023'"
   ]
  },
  {
   "cell_type": "code",
   "execution_count": 13,
   "id": "59978401-3f1a-4695-afdf-ba870f486473",
   "metadata": {
    "execution": {
     "iopub.execute_input": "2023-09-01T16:53:23.053468Z",
     "iopub.status.busy": "2023-09-01T16:53:23.053332Z",
     "iopub.status.idle": "2023-09-01T16:53:23.057637Z",
     "shell.execute_reply": "2023-09-01T16:53:23.057210Z",
     "shell.execute_reply.started": "2023-09-01T16:53:23.053455Z"
    },
    "tags": []
   },
   "outputs": [],
   "source": [
    "flat_dates = []\n",
    "for flat_ in flats_records:\n",
    "    if flat_year in str(flat_.day_obs):\n",
    "        flat_dates.append(flat_.day_obs)\n"
   ]
  },
  {
   "cell_type": "markdown",
   "id": "21c49c5b-e59b-4f3a-9a0a-9d78286935ec",
   "metadata": {},
   "source": [
    "Available dates for flats of a given year "
   ]
  },
  {
   "cell_type": "code",
   "execution_count": 14,
   "id": "e3e83b3d-cf10-4d6a-a592-27d1095b4e2e",
   "metadata": {
    "execution": {
     "iopub.execute_input": "2023-09-01T16:53:23.058339Z",
     "iopub.status.busy": "2023-09-01T16:53:23.058201Z",
     "iopub.status.idle": "2023-09-01T16:53:23.061902Z",
     "shell.execute_reply": "2023-09-01T16:53:23.061299Z",
     "shell.execute_reply.started": "2023-09-01T16:53:23.058323Z"
    },
    "tags": []
   },
   "outputs": [
    {
     "name": "stdout",
     "output_type": "stream",
     "text": [
      "[20230112 20230116 20230118 20230214 20230321 20230327 20230404 20230420\n",
      " 20230425 20230509 20230510 20230523 20230524 20230525 20230705 20230706\n",
      " 20230724 20230725 20230726 20230727 20230801 20230802 20230803 20230811\n",
      " 20230816 20230817 20230823 20230829 20230830]\n"
     ]
    }
   ],
   "source": [
    "flat_dates = np.unique(flat_dates)\n",
    "print(flat_dates)"
   ]
  },
  {
   "cell_type": "code",
   "execution_count": null,
   "id": "e728ebfe-3148-4e8e-93eb-064ef0f2f9ac",
   "metadata": {},
   "outputs": [],
   "source": []
  },
  {
   "cell_type": "markdown",
   "id": "de407061-c989-467c-9537-c88aa2c2dd2e",
   "metadata": {},
   "source": [
    "### We select a date close to the that of the spectra that we want to deflat: "
   ]
  },
  {
   "cell_type": "code",
   "execution_count": 18,
   "id": "f66c5c55-a475-4db1-aa21-4ed77b12dd71",
   "metadata": {
    "execution": {
     "iopub.execute_input": "2023-09-01T16:54:05.709173Z",
     "iopub.status.busy": "2023-09-01T16:54:05.708814Z",
     "iopub.status.idle": "2023-09-01T16:54:05.711867Z",
     "shell.execute_reply": "2023-09-01T16:54:05.711417Z",
     "shell.execute_reply.started": "2023-09-01T16:54:05.709155Z"
    },
    "tags": []
   },
   "outputs": [],
   "source": [
    "flat_date = 20230118"
   ]
  },
  {
   "cell_type": "markdown",
   "id": "9317d888-ed61-4e0c-9b41-9806c178ae80",
   "metadata": {},
   "source": [
    "Available flat ids "
   ]
  },
  {
   "cell_type": "code",
   "execution_count": 19,
   "id": "3dec8f6d-4b10-4587-992f-4193fb00b18a",
   "metadata": {
    "execution": {
     "iopub.execute_input": "2023-09-01T16:54:07.164451Z",
     "iopub.status.busy": "2023-09-01T16:54:07.164085Z",
     "iopub.status.idle": "2023-09-01T16:54:07.168117Z",
     "shell.execute_reply": "2023-09-01T16:54:07.167641Z",
     "shell.execute_reply.started": "2023-09-01T16:54:07.164434Z"
    },
    "tags": []
   },
   "outputs": [
    {
     "name": "stdout",
     "output_type": "stream",
     "text": [
      "Flat IDs:  [2023011800014, 2023011800016, 2023011800013, 2023011800015, 2023011800017]\n"
     ]
    }
   ],
   "source": [
    "flats_selected = []\n",
    "for flat_ in flats_records:\n",
    "    if flat_.day_obs==flat_date:\n",
    "        flats_selected.append(flat_.id)\n",
    "print('Flat IDs: ', flats_selected)"
   ]
  },
  {
   "cell_type": "code",
   "execution_count": null,
   "id": "ec219953-2367-4c60-bc5d-8f20e9112807",
   "metadata": {},
   "outputs": [],
   "source": []
  },
  {
   "cell_type": "markdown",
   "id": "23d275ad-12b8-4f6a-b3e1-a167f18056e4",
   "metadata": {},
   "source": [
    "Check that we can load the flats "
   ]
  },
  {
   "cell_type": "code",
   "execution_count": 21,
   "id": "ddfa7ca0-8fb5-4a50-a567-fa3fe5f114d3",
   "metadata": {
    "execution": {
     "iopub.execute_input": "2023-09-01T16:54:21.779869Z",
     "iopub.status.busy": "2023-09-01T16:54:21.779366Z",
     "iopub.status.idle": "2023-09-01T16:54:24.661791Z",
     "shell.execute_reply": "2023-09-01T16:54:24.661239Z",
     "shell.execute_reply.started": "2023-09-01T16:54:21.779847Z"
    },
    "tags": []
   },
   "outputs": [
    {
     "name": "stdout",
     "output_type": "stream",
     "text": [
      "Flat 2023011800014 properly loaded\n",
      "Flat 2023011800016 properly loaded\n",
      "Flat 2023011800013 properly loaded\n",
      "Flat 2023011800015 properly loaded\n",
      "Flat 2023011800017 properly loaded\n"
     ]
    }
   ],
   "source": [
    "flat_arrays = []\n",
    "for fid_ in flats_selected:\n",
    "    try:\n",
    "        flat_img = butler.get(\n",
    "            \"flat\",\n",
    "            instrument=\"LATISS\", exposure=fid_, detector=0,\n",
    "            collections=calibCollections)\n",
    "        flat_arrays.append(flat_img.getImage().array)\n",
    "        print('Flat {0} properly loaded'.format(fid_))\n",
    "    except:\n",
    "        print('Could not load flat {0}'.format(fid_))"
   ]
  },
  {
   "cell_type": "code",
   "execution_count": null,
   "id": "a77e0660-3489-4fe9-adb4-1d1a9d0cdf96",
   "metadata": {},
   "outputs": [],
   "source": []
  },
  {
   "cell_type": "code",
   "execution_count": null,
   "id": "1363699e-8838-4c00-a6de-e4b31aabf40c",
   "metadata": {},
   "outputs": [],
   "source": []
  },
  {
   "cell_type": "code",
   "execution_count": null,
   "id": "b2733d94-82c9-49c6-88a9-34574a9dc447",
   "metadata": {},
   "outputs": [],
   "source": []
  },
  {
   "cell_type": "code",
   "execution_count": null,
   "id": "009aec49-77ba-4495-b2d0-75d6a1a1fb46",
   "metadata": {},
   "outputs": [],
   "source": []
  }
 ],
 "metadata": {
  "kernelspec": {
   "display_name": "LSST",
   "language": "python",
   "name": "lsst"
  },
  "language_info": {
   "codemirror_mode": {
    "name": "ipython",
    "version": 3
   },
   "file_extension": ".py",
   "mimetype": "text/x-python",
   "name": "python",
   "nbconvert_exporter": "python",
   "pygments_lexer": "ipython3",
   "version": "3.10.10"
  }
 },
 "nbformat": 4,
 "nbformat_minor": 5
}
