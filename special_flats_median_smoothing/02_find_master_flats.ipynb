{
 "cells": [
  {
   "cell_type": "code",
   "execution_count": 1,
   "id": "d5b30667-1a38-499d-9947-9ff54a69711a",
   "metadata": {
    "execution": {
     "iopub.execute_input": "2023-09-01T09:39:55.767700Z",
     "iopub.status.busy": "2023-09-01T09:39:55.767408Z",
     "iopub.status.idle": "2023-09-01T09:39:56.306405Z",
     "shell.execute_reply": "2023-09-01T09:39:56.305890Z",
     "shell.execute_reply.started": "2023-09-01T09:39:55.767685Z"
    },
    "tags": []
   },
   "outputs": [],
   "source": [
    "import os\n",
    "import matplotlib.pyplot as plt\n",
    "import matplotlib.colors as colors\n",
    "import matplotlib.cm as cmx\n",
    "import matplotlib.dates as mdates\n",
    "\n",
    "import numpy as np\n",
    "import pandas as pd\n",
    "%matplotlib inline\n",
    "from matplotlib.colors import LogNorm\n",
    "\n",
    "from mpl_toolkits.axes_grid1 import make_axes_locatable\n",
    "\n",
    "import matplotlib.ticker                         # here's where the formatter is\n",
    "from matplotlib.ticker import (MultipleLocator, FormatStrFormatter,\n",
    "                               AutoMinorLocator)\n",
    "\n",
    "from astropy.visualization import (MinMaxInterval, SqrtStretch,ZScaleInterval,PercentileInterval,\n",
    "                                   ImageNormalize,imshow_norm)\n",
    "from astropy.visualization.stretch import SinhStretch, LinearStretch,AsinhStretch,LogStretch\n",
    "\n",
    "\n",
    "from astropy.io import fits\n",
    "\n"
   ]
  },
  {
   "cell_type": "code",
   "execution_count": 2,
   "id": "d6ef3df0-4d48-4757-95cf-b0717267aa28",
   "metadata": {
    "execution": {
     "iopub.execute_input": "2023-09-01T09:39:56.307314Z",
     "iopub.status.busy": "2023-09-01T09:39:56.307050Z",
     "iopub.status.idle": "2023-09-01T09:39:57.577014Z",
     "shell.execute_reply": "2023-09-01T09:39:57.576477Z",
     "shell.execute_reply.started": "2023-09-01T09:39:56.307300Z"
    },
    "tags": []
   },
   "outputs": [],
   "source": [
    "# Assembly task\n",
    "# https://github.com/lsst/ip_isr/blob/main/python/lsst/ip/isr/isrTask.py\n",
    "\n",
    "from lsst.ip.isr.assembleCcdTask import (AssembleCcdConfig, AssembleCcdTask)\n",
    "from lsst.ip.isr.isrTask import (IsrTask, IsrTaskConfig)\n",
    "\n",
    "#https://github.com/lsst/ip_isr/blob/main/python/lsst/ip/isr/overscan.py\n",
    "from lsst.ip.isr import  OverscanCorrectionTaskConfig, OverscanCorrectionTask"
   ]
  },
  {
   "cell_type": "code",
   "execution_count": 3,
   "id": "724214f9-257b-4d19-aced-e006a1055e2e",
   "metadata": {
    "execution": {
     "iopub.execute_input": "2023-09-01T09:39:57.577938Z",
     "iopub.status.busy": "2023-09-01T09:39:57.577770Z",
     "iopub.status.idle": "2023-09-01T09:39:57.587876Z",
     "shell.execute_reply": "2023-09-01T09:39:57.587456Z",
     "shell.execute_reply.started": "2023-09-01T09:39:57.577924Z"
    },
    "tags": []
   },
   "outputs": [],
   "source": [
    "# LSST Display\n",
    "import lsst.afw.display as afwDisplay\n",
    "afwDisplay.setDefaultBackend('matplotlib')"
   ]
  },
  {
   "cell_type": "code",
   "execution_count": 4,
   "id": "dd84b368-9243-42b2-ae09-aefe0bf47fdb",
   "metadata": {
    "execution": {
     "iopub.execute_input": "2023-09-01T09:39:57.588590Z",
     "iopub.status.busy": "2023-09-01T09:39:57.588452Z",
     "iopub.status.idle": "2023-09-01T09:39:57.624701Z",
     "shell.execute_reply": "2023-09-01T09:39:57.624268Z",
     "shell.execute_reply.started": "2023-09-01T09:39:57.588577Z"
    },
    "tags": []
   },
   "outputs": [],
   "source": [
    "import warnings\n",
    "warnings.filterwarnings(\"ignore\")"
   ]
  },
  {
   "cell_type": "code",
   "execution_count": null,
   "id": "ef4e188a-b872-42b0-bba3-68698cbc75cc",
   "metadata": {},
   "outputs": [],
   "source": []
  },
  {
   "cell_type": "markdown",
   "id": "d225f02e-455c-4374-bacc-b0c5cafcad74",
   "metadata": {},
   "source": [
    "## Butler "
   ]
  },
  {
   "cell_type": "code",
   "execution_count": 5,
   "id": "0af256cb-0bfb-4b21-bb74-7058b19630de",
   "metadata": {
    "execution": {
     "iopub.execute_input": "2023-09-01T09:39:57.625358Z",
     "iopub.status.busy": "2023-09-01T09:39:57.625227Z",
     "iopub.status.idle": "2023-09-01T09:39:57.686060Z",
     "shell.execute_reply": "2023-09-01T09:39:57.685524Z",
     "shell.execute_reply.started": "2023-09-01T09:39:57.625346Z"
    },
    "tags": []
   },
   "outputs": [],
   "source": [
    "import lsst.daf.butler as dafButler"
   ]
  },
  {
   "cell_type": "code",
   "execution_count": 6,
   "id": "c71e5e99-02db-4a10-ab15-51d4a1bd77f6",
   "metadata": {
    "execution": {
     "iopub.execute_input": "2023-09-01T09:39:57.686747Z",
     "iopub.status.busy": "2023-09-01T09:39:57.686609Z",
     "iopub.status.idle": "2023-09-01T09:39:57.747320Z",
     "shell.execute_reply": "2023-09-01T09:39:57.746875Z",
     "shell.execute_reply.started": "2023-09-01T09:39:57.686734Z"
    },
    "tags": []
   },
   "outputs": [],
   "source": [
    "embargo = True"
   ]
  },
  {
   "cell_type": "code",
   "execution_count": 7,
   "id": "3d565318-9db9-4364-9bdd-d27c4311ebe7",
   "metadata": {
    "execution": {
     "iopub.execute_input": "2023-09-01T09:39:57.747977Z",
     "iopub.status.busy": "2023-09-01T09:39:57.747838Z",
     "iopub.status.idle": "2023-09-01T09:39:59.639640Z",
     "shell.execute_reply": "2023-09-01T09:39:59.639158Z",
     "shell.execute_reply.started": "2023-09-01T09:39:57.747956Z"
    },
    "tags": []
   },
   "outputs": [],
   "source": [
    "if embargo:\n",
    "    repo=\"/sdf/group/rubin/repo/oga/\"\n",
    "else:\n",
    "    repo = \"/sdf/group/rubin/repo/main\"\n",
    "butler = dafButler.Butler(repo)\n",
    "registry = butler.registry"
   ]
  },
  {
   "cell_type": "code",
   "execution_count": 8,
   "id": "6de0ceea-753d-4b2d-9e79-532481a44548",
   "metadata": {
    "execution": {
     "iopub.execute_input": "2023-09-01T09:39:59.640456Z",
     "iopub.status.busy": "2023-09-01T09:39:59.640309Z",
     "iopub.status.idle": "2023-09-01T09:39:59.647608Z",
     "shell.execute_reply": "2023-09-01T09:39:59.647212Z",
     "shell.execute_reply.started": "2023-09-01T09:39:59.640442Z"
    },
    "tags": []
   },
   "outputs": [],
   "source": [
    "calibCollections = ['LATISS/defaults','LATISS/raw/all']\n",
    "for col in registry.queryCollections(\"*LATISS/calib*\"):\n",
    "    calibCollections.append(col)"
   ]
  },
  {
   "cell_type": "code",
   "execution_count": 9,
   "id": "0aa76081-cc15-4001-b570-0c98db32f375",
   "metadata": {
    "execution": {
     "iopub.execute_input": "2023-09-01T09:39:59.648295Z",
     "iopub.status.busy": "2023-09-01T09:39:59.648159Z",
     "iopub.status.idle": "2023-09-01T09:39:59.692724Z",
     "shell.execute_reply": "2023-09-01T09:39:59.692310Z",
     "shell.execute_reply.started": "2023-09-01T09:39:59.648283Z"
    },
    "tags": []
   },
   "outputs": [],
   "source": [
    "where_flats = \"instrument='LATISS' AND physical_filter='empty~empty' AND exposure.observation_type='flat'\""
   ]
  },
  {
   "cell_type": "code",
   "execution_count": 10,
   "id": "ab2497c3-447c-43b4-b6fa-0e562abd31e1",
   "metadata": {
    "execution": {
     "iopub.execute_input": "2023-09-01T09:39:59.693418Z",
     "iopub.status.busy": "2023-09-01T09:39:59.693279Z",
     "iopub.status.idle": "2023-09-01T09:39:59.805320Z",
     "shell.execute_reply": "2023-09-01T09:39:59.804884Z",
     "shell.execute_reply.started": "2023-09-01T09:39:59.693406Z"
    },
    "tags": []
   },
   "outputs": [],
   "source": [
    "flats_records = list(registry.queryDimensionRecords('exposure',where=where_flats))"
   ]
  },
  {
   "cell_type": "code",
   "execution_count": 11,
   "id": "f978baf4-aaf4-4a16-a241-3a6c73aadbc5",
   "metadata": {
    "execution": {
     "iopub.execute_input": "2023-09-01T09:40:00.434924Z",
     "iopub.status.busy": "2023-09-01T09:40:00.434791Z",
     "iopub.status.idle": "2023-09-01T09:40:00.437613Z",
     "shell.execute_reply": "2023-09-01T09:40:00.437182Z",
     "shell.execute_reply.started": "2023-09-01T09:40:00.434913Z"
    }
   },
   "outputs": [
    {
     "name": "stdout",
     "output_type": "stream",
     "text": [
      "666\n"
     ]
    }
   ],
   "source": [
    "print(len(flats_records))\n",
    "assert len(flats_records)!=0"
   ]
  },
  {
   "cell_type": "code",
   "execution_count": 13,
   "id": "59978401-3f1a-4695-afdf-ba870f486473",
   "metadata": {
    "execution": {
     "iopub.execute_input": "2023-09-01T09:40:23.062275Z",
     "iopub.status.busy": "2023-09-01T09:40:23.061945Z",
     "iopub.status.idle": "2023-09-01T09:40:23.065108Z",
     "shell.execute_reply": "2023-09-01T09:40:23.064693Z",
     "shell.execute_reply.started": "2023-09-01T09:40:23.062259Z"
    },
    "tags": []
   },
   "outputs": [],
   "source": [
    "flat_dates = []\n",
    "for flat_ in flats_records:\n",
    "    if flat_year in str(flat_.day_obs):\n",
    "        flat_dates.append(flat_.day_obs)\n"
   ]
  },
  {
   "cell_type": "markdown",
   "id": "21c49c5b-e59b-4f3a-9a0a-9d78286935ec",
   "metadata": {},
   "source": [
    "Available dates for flats of a given year "
   ]
  },
  {
   "cell_type": "code",
   "execution_count": 12,
   "id": "f434cd3a-f051-4a3a-9e6b-e663296b39e9",
   "metadata": {
    "execution": {
     "iopub.execute_input": "2023-09-01T09:40:03.957131Z",
     "iopub.status.busy": "2023-09-01T09:40:03.956770Z",
     "iopub.status.idle": "2023-09-01T09:40:03.959441Z",
     "shell.execute_reply": "2023-09-01T09:40:03.959090Z",
     "shell.execute_reply.started": "2023-09-01T09:40:03.957112Z"
    },
    "tags": []
   },
   "outputs": [],
   "source": [
    "flat_year = '2023'"
   ]
  },
  {
   "cell_type": "code",
   "execution_count": 14,
   "id": "e3e83b3d-cf10-4d6a-a592-27d1095b4e2e",
   "metadata": {
    "execution": {
     "iopub.execute_input": "2023-09-01T09:40:51.882153Z",
     "iopub.status.busy": "2023-09-01T09:40:51.881820Z",
     "iopub.status.idle": "2023-09-01T09:40:51.885209Z",
     "shell.execute_reply": "2023-09-01T09:40:51.884816Z",
     "shell.execute_reply.started": "2023-09-01T09:40:51.882136Z"
    },
    "tags": []
   },
   "outputs": [
    {
     "name": "stdout",
     "output_type": "stream",
     "text": [
      "[20230112 20230116 20230118 20230214 20230321 20230327 20230404 20230420\n",
      " 20230425 20230509 20230510 20230523 20230524 20230525 20230705 20230706\n",
      " 20230724 20230725 20230726 20230727 20230801 20230802 20230803 20230811\n",
      " 20230816 20230817 20230823 20230829 20230830]\n"
     ]
    }
   ],
   "source": [
    "flat_dates = np.unique(flat_dates)\n",
    "print(flat_dates)"
   ]
  },
  {
   "cell_type": "code",
   "execution_count": null,
   "id": "e728ebfe-3148-4e8e-93eb-064ef0f2f9ac",
   "metadata": {},
   "outputs": [],
   "source": []
  },
  {
   "cell_type": "markdown",
   "id": "de407061-c989-467c-9537-c88aa2c2dd2e",
   "metadata": {},
   "source": [
    "We select a date close to the that of the spectra that we want to deflat: "
   ]
  },
  {
   "cell_type": "code",
   "execution_count": 15,
   "id": "f66c5c55-a475-4db1-aa21-4ed77b12dd71",
   "metadata": {
    "execution": {
     "iopub.execute_input": "2023-09-01T09:41:56.605213Z",
     "iopub.status.busy": "2023-09-01T09:41:56.604849Z",
     "iopub.status.idle": "2023-09-01T09:41:56.607627Z",
     "shell.execute_reply": "2023-09-01T09:41:56.607289Z",
     "shell.execute_reply.started": "2023-09-01T09:41:56.605196Z"
    },
    "tags": []
   },
   "outputs": [],
   "source": [
    "flat_date = 20230116"
   ]
  },
  {
   "cell_type": "markdown",
   "id": "9317d888-ed61-4e0c-9b41-9806c178ae80",
   "metadata": {},
   "source": [
    "Available flat ids "
   ]
  },
  {
   "cell_type": "code",
   "execution_count": 20,
   "id": "3dec8f6d-4b10-4587-992f-4193fb00b18a",
   "metadata": {
    "execution": {
     "iopub.execute_input": "2023-09-01T12:58:24.356208Z",
     "iopub.status.busy": "2023-09-01T12:58:24.355813Z",
     "iopub.status.idle": "2023-09-01T12:58:24.358965Z",
     "shell.execute_reply": "2023-09-01T12:58:24.358633Z",
     "shell.execute_reply.started": "2023-09-01T12:58:24.356192Z"
    },
    "tags": []
   },
   "outputs": [
    {
     "name": "stdout",
     "output_type": "stream",
     "text": [
      "Flat IDs:  [2023011600015, 2023011600014, 2023011600016]\n"
     ]
    }
   ],
   "source": [
    "flats_selected = []\n",
    "for flat_ in flats_records:\n",
    "    if flat_.day_obs==flat_date:\n",
    "        flats_selected.append(flat_.id)\n",
    "print('Flat IDs: ', flats_selected)"
   ]
  },
  {
   "cell_type": "code",
   "execution_count": null,
   "id": "ec219953-2367-4c60-bc5d-8f20e9112807",
   "metadata": {},
   "outputs": [],
   "source": []
  },
  {
   "cell_type": "markdown",
   "id": "23d275ad-12b8-4f6a-b3e1-a167f18056e4",
   "metadata": {},
   "source": [
    "Check that we can load the flats "
   ]
  },
  {
   "cell_type": "code",
   "execution_count": 19,
   "id": "ddfa7ca0-8fb5-4a50-a567-fa3fe5f114d3",
   "metadata": {
    "execution": {
     "iopub.execute_input": "2023-09-01T09:44:14.143243Z",
     "iopub.status.busy": "2023-09-01T09:44:14.142881Z",
     "iopub.status.idle": "2023-09-01T09:44:15.891890Z",
     "shell.execute_reply": "2023-09-01T09:44:15.891370Z",
     "shell.execute_reply.started": "2023-09-01T09:44:14.143227Z"
    },
    "tags": []
   },
   "outputs": [
    {
     "name": "stdout",
     "output_type": "stream",
     "text": [
      "Flat 2023011600015 loaded\n",
      "Flat 2023011600014 loaded\n",
      "Flat 2023011600016 loaded\n"
     ]
    }
   ],
   "source": [
    "flat_arrays = []\n",
    "for fid_ in flats_selected:\n",
    "    try:\n",
    "        flat_img = butler.get(\n",
    "            \"flat\",\n",
    "            instrument=\"LATISS\", exposure=fid_, detector=0,\n",
    "            collections=calibCollections)\n",
    "        flat_arrays.append(flat_img.getImage().array)\n",
    "        print('Flat {0} loaded'.format(fid_))\n",
    "    except:\n",
    "        print('Could not load flat {0}'.format(fid_))"
   ]
  },
  {
   "cell_type": "code",
   "execution_count": null,
   "id": "a77e0660-3489-4fe9-adb4-1d1a9d0cdf96",
   "metadata": {},
   "outputs": [],
   "source": []
  },
  {
   "cell_type": "code",
   "execution_count": null,
   "id": "1363699e-8838-4c00-a6de-e4b31aabf40c",
   "metadata": {},
   "outputs": [],
   "source": []
  },
  {
   "cell_type": "code",
   "execution_count": null,
   "id": "b2733d94-82c9-49c6-88a9-34574a9dc447",
   "metadata": {},
   "outputs": [],
   "source": []
  },
  {
   "cell_type": "code",
   "execution_count": null,
   "id": "009aec49-77ba-4495-b2d0-75d6a1a1fb46",
   "metadata": {},
   "outputs": [],
   "source": []
  }
 ],
 "metadata": {
  "kernelspec": {
   "display_name": "LSST",
   "language": "python",
   "name": "lsst"
  },
  "language_info": {
   "codemirror_mode": {
    "name": "ipython",
    "version": 3
   },
   "file_extension": ".py",
   "mimetype": "text/x-python",
   "name": "python",
   "nbconvert_exporter": "python",
   "pygments_lexer": "ipython3",
   "version": "3.10.10"
  }
 },
 "nbformat": 4,
 "nbformat_minor": 5
}
