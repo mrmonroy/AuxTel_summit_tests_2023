{
 "cells": [
  {
   "cell_type": "code",
   "execution_count": 1,
   "id": "d5b30667-1a38-499d-9947-9ff54a69711a",
   "metadata": {
    "execution": {
     "iopub.execute_input": "2023-09-13T05:06:56.962518Z",
     "iopub.status.busy": "2023-09-13T05:06:56.962402Z",
     "iopub.status.idle": "2023-09-13T05:06:57.448123Z",
     "shell.execute_reply": "2023-09-13T05:06:57.447443Z",
     "shell.execute_reply.started": "2023-09-13T05:06:56.962506Z"
    },
    "tags": []
   },
   "outputs": [],
   "source": [
    "import os\n",
    "import matplotlib.pyplot as plt\n",
    "import matplotlib.colors as colors\n",
    "import matplotlib.cm as cmx\n",
    "import matplotlib.dates as mdates\n",
    "\n",
    "import numpy as np\n",
    "import pandas as pd\n",
    "%matplotlib inline\n",
    "from matplotlib.colors import LogNorm\n",
    "\n",
    "from mpl_toolkits.axes_grid1 import make_axes_locatable\n",
    "\n",
    "import matplotlib.ticker                         # here's where the formatter is\n",
    "from matplotlib.ticker import (MultipleLocator, FormatStrFormatter,\n",
    "                               AutoMinorLocator)\n",
    "\n",
    "from astropy.visualization import (MinMaxInterval, SqrtStretch,ZScaleInterval,PercentileInterval,\n",
    "                                   ImageNormalize,imshow_norm)\n",
    "from astropy.visualization.stretch import SinhStretch, LinearStretch,AsinhStretch,LogStretch\n",
    "\n",
    "\n",
    "from astropy.io import fits\n",
    "\n"
   ]
  },
  {
   "cell_type": "code",
   "execution_count": 2,
   "id": "d6ef3df0-4d48-4757-95cf-b0717267aa28",
   "metadata": {
    "execution": {
     "iopub.execute_input": "2023-09-13T05:06:57.448987Z",
     "iopub.status.busy": "2023-09-13T05:06:57.448742Z",
     "iopub.status.idle": "2023-09-13T05:07:00.562729Z",
     "shell.execute_reply": "2023-09-13T05:07:00.562222Z",
     "shell.execute_reply.started": "2023-09-13T05:06:57.448974Z"
    },
    "tags": []
   },
   "outputs": [],
   "source": [
    "# Assembly task\n",
    "# https://github.com/lsst/ip_isr/blob/main/python/lsst/ip/isr/isrTask.py\n",
    "\n",
    "from lsst.ip.isr.assembleCcdTask import (AssembleCcdConfig, AssembleCcdTask)\n",
    "from lsst.ip.isr.isrTask import (IsrTask, IsrTaskConfig)\n",
    "\n",
    "#https://github.com/lsst/ip_isr/blob/main/python/lsst/ip/isr/overscan.py\n",
    "from lsst.ip.isr import  OverscanCorrectionTaskConfig, OverscanCorrectionTask"
   ]
  },
  {
   "cell_type": "code",
   "execution_count": 3,
   "id": "724214f9-257b-4d19-aced-e006a1055e2e",
   "metadata": {
    "execution": {
     "iopub.execute_input": "2023-09-13T05:07:00.563443Z",
     "iopub.status.busy": "2023-09-13T05:07:00.563305Z",
     "iopub.status.idle": "2023-09-13T05:07:00.572835Z",
     "shell.execute_reply": "2023-09-13T05:07:00.572472Z",
     "shell.execute_reply.started": "2023-09-13T05:07:00.563430Z"
    },
    "tags": []
   },
   "outputs": [],
   "source": [
    "# LSST Display\n",
    "import lsst.afw.display as afwDisplay\n",
    "afwDisplay.setDefaultBackend('matplotlib')"
   ]
  },
  {
   "cell_type": "code",
   "execution_count": 4,
   "id": "dd84b368-9243-42b2-ae09-aefe0bf47fdb",
   "metadata": {
    "execution": {
     "iopub.execute_input": "2023-09-13T05:07:00.573469Z",
     "iopub.status.busy": "2023-09-13T05:07:00.573342Z",
     "iopub.status.idle": "2023-09-13T05:07:00.575464Z",
     "shell.execute_reply": "2023-09-13T05:07:00.575092Z",
     "shell.execute_reply.started": "2023-09-13T05:07:00.573457Z"
    },
    "tags": []
   },
   "outputs": [],
   "source": [
    "import warnings\n",
    "warnings.filterwarnings(\"ignore\")"
   ]
  },
  {
   "cell_type": "code",
   "execution_count": null,
   "id": "ef4e188a-b872-42b0-bba3-68698cbc75cc",
   "metadata": {},
   "outputs": [],
   "source": []
  },
  {
   "cell_type": "markdown",
   "id": "d225f02e-455c-4374-bacc-b0c5cafcad74",
   "metadata": {},
   "source": [
    "## Butler "
   ]
  },
  {
   "cell_type": "code",
   "execution_count": 5,
   "id": "0af256cb-0bfb-4b21-bb74-7058b19630de",
   "metadata": {
    "execution": {
     "iopub.execute_input": "2023-09-13T05:07:00.576087Z",
     "iopub.status.busy": "2023-09-13T05:07:00.575966Z",
     "iopub.status.idle": "2023-09-13T05:07:00.579684Z",
     "shell.execute_reply": "2023-09-13T05:07:00.579335Z",
     "shell.execute_reply.started": "2023-09-13T05:07:00.576076Z"
    },
    "tags": []
   },
   "outputs": [],
   "source": [
    "import lsst.daf.butler as dafButler"
   ]
  },
  {
   "cell_type": "code",
   "execution_count": 6,
   "id": "c71e5e99-02db-4a10-ab15-51d4a1bd77f6",
   "metadata": {
    "execution": {
     "iopub.execute_input": "2023-09-13T05:07:00.581049Z",
     "iopub.status.busy": "2023-09-13T05:07:00.580923Z",
     "iopub.status.idle": "2023-09-13T05:07:00.584700Z",
     "shell.execute_reply": "2023-09-13T05:07:00.584352Z",
     "shell.execute_reply.started": "2023-09-13T05:07:00.581037Z"
    },
    "tags": []
   },
   "outputs": [],
   "source": [
    "embargo = True"
   ]
  },
  {
   "cell_type": "code",
   "execution_count": 7,
   "id": "3d565318-9db9-4364-9bdd-d27c4311ebe7",
   "metadata": {
    "execution": {
     "iopub.execute_input": "2023-09-13T05:07:00.585318Z",
     "iopub.status.busy": "2023-09-13T05:07:00.585197Z",
     "iopub.status.idle": "2023-09-13T05:07:02.183135Z",
     "shell.execute_reply": "2023-09-13T05:07:02.182726Z",
     "shell.execute_reply.started": "2023-09-13T05:07:00.585308Z"
    },
    "tags": []
   },
   "outputs": [],
   "source": [
    "if embargo:\n",
    "    repo=\"/sdf/group/rubin/repo/oga/\"\n",
    "else:\n",
    "    repo = \"/sdf/group/rubin/repo/main\"\n",
    "butler = dafButler.Butler(repo)\n",
    "registry = butler.registry"
   ]
  },
  {
   "cell_type": "code",
   "execution_count": 8,
   "id": "6de0ceea-753d-4b2d-9e79-532481a44548",
   "metadata": {
    "execution": {
     "iopub.execute_input": "2023-09-13T05:07:02.183751Z",
     "iopub.status.busy": "2023-09-13T05:07:02.183624Z",
     "iopub.status.idle": "2023-09-13T05:07:02.190669Z",
     "shell.execute_reply": "2023-09-13T05:07:02.190356Z",
     "shell.execute_reply.started": "2023-09-13T05:07:02.183737Z"
    },
    "tags": []
   },
   "outputs": [],
   "source": [
    "calibCollections = ['LATISS/defaults','LATISS/raw/all']\n",
    "for col in registry.queryCollections(\"*LATISS/calib*\"):\n",
    "    calibCollections.append(col)"
   ]
  },
  {
   "cell_type": "code",
   "execution_count": 9,
   "id": "0aa76081-cc15-4001-b570-0c98db32f375",
   "metadata": {
    "execution": {
     "iopub.execute_input": "2023-09-13T05:07:02.191223Z",
     "iopub.status.busy": "2023-09-13T05:07:02.191101Z",
     "iopub.status.idle": "2023-09-13T05:07:02.194700Z",
     "shell.execute_reply": "2023-09-13T05:07:02.194427Z",
     "shell.execute_reply.started": "2023-09-13T05:07:02.191212Z"
    },
    "tags": []
   },
   "outputs": [],
   "source": [
    "where_flats = \"instrument='LATISS' AND physical_filter='empty~empty' AND exposure.observation_type='flat'\"\n",
    "#where_flats = \"instrument='LATISS' AND physical_filter='collimator~empty' AND exposure.observation_type='flat'\""
   ]
  },
  {
   "cell_type": "code",
   "execution_count": 10,
   "id": "ab2497c3-447c-43b4-b6fa-0e562abd31e1",
   "metadata": {
    "execution": {
     "iopub.execute_input": "2023-09-13T05:07:02.195213Z",
     "iopub.status.busy": "2023-09-13T05:07:02.195096Z",
     "iopub.status.idle": "2023-09-13T05:07:02.388913Z",
     "shell.execute_reply": "2023-09-13T05:07:02.388559Z",
     "shell.execute_reply.started": "2023-09-13T05:07:02.195197Z"
    },
    "tags": []
   },
   "outputs": [],
   "source": [
    "flats_records = list(registry.queryDimensionRecords('exposure',where=where_flats))"
   ]
  },
  {
   "cell_type": "code",
   "execution_count": 11,
   "id": "f978baf4-aaf4-4a16-a241-3a6c73aadbc5",
   "metadata": {
    "execution": {
     "iopub.execute_input": "2023-09-13T05:07:02.389522Z",
     "iopub.status.busy": "2023-09-13T05:07:02.389395Z",
     "iopub.status.idle": "2023-09-13T05:07:02.391895Z",
     "shell.execute_reply": "2023-09-13T05:07:02.391590Z",
     "shell.execute_reply.started": "2023-09-13T05:07:02.389510Z"
    },
    "tags": []
   },
   "outputs": [
    {
     "name": "stdout",
     "output_type": "stream",
     "text": [
      "708\n"
     ]
    }
   ],
   "source": [
    "print(len(flats_records))\n",
    "assert len(flats_records)!=0"
   ]
  },
  {
   "cell_type": "markdown",
   "id": "10f6d923-c280-4115-9181-4b1a43aa0857",
   "metadata": {},
   "source": [
    "Select a year for the flats "
   ]
  },
  {
   "cell_type": "code",
   "execution_count": 12,
   "id": "f434cd3a-f051-4a3a-9e6b-e663296b39e9",
   "metadata": {
    "execution": {
     "iopub.execute_input": "2023-09-13T05:07:02.392559Z",
     "iopub.status.busy": "2023-09-13T05:07:02.392311Z",
     "iopub.status.idle": "2023-09-13T05:07:02.394446Z",
     "shell.execute_reply": "2023-09-13T05:07:02.394148Z",
     "shell.execute_reply.started": "2023-09-13T05:07:02.392545Z"
    },
    "tags": []
   },
   "outputs": [],
   "source": [
    "flat_year = '2023'"
   ]
  },
  {
   "cell_type": "code",
   "execution_count": 13,
   "id": "59978401-3f1a-4695-afdf-ba870f486473",
   "metadata": {
    "execution": {
     "iopub.execute_input": "2023-09-13T05:07:02.394962Z",
     "iopub.status.busy": "2023-09-13T05:07:02.394848Z",
     "iopub.status.idle": "2023-09-13T05:07:02.399216Z",
     "shell.execute_reply": "2023-09-13T05:07:02.398904Z",
     "shell.execute_reply.started": "2023-09-13T05:07:02.394951Z"
    },
    "tags": []
   },
   "outputs": [],
   "source": [
    "flat_dates = []\n",
    "for flat_ in flats_records:\n",
    "    if flat_year in str(flat_.day_obs):\n",
    "        flat_dates.append(flat_.day_obs)\n"
   ]
  },
  {
   "cell_type": "markdown",
   "id": "21c49c5b-e59b-4f3a-9a0a-9d78286935ec",
   "metadata": {},
   "source": [
    "Available dates for flats of a given year "
   ]
  },
  {
   "cell_type": "code",
   "execution_count": 14,
   "id": "e3e83b3d-cf10-4d6a-a592-27d1095b4e2e",
   "metadata": {
    "execution": {
     "iopub.execute_input": "2023-09-13T05:07:02.399719Z",
     "iopub.status.busy": "2023-09-13T05:07:02.399608Z",
     "iopub.status.idle": "2023-09-13T05:07:02.403376Z",
     "shell.execute_reply": "2023-09-13T05:07:02.403086Z",
     "shell.execute_reply.started": "2023-09-13T05:07:02.399709Z"
    },
    "tags": []
   },
   "outputs": [
    {
     "name": "stdout",
     "output_type": "stream",
     "text": [
      "[20230112 20230116 20230118 20230214 20230321 20230327 20230404 20230420\n",
      " 20230425 20230509 20230510 20230523 20230524 20230525 20230705 20230706\n",
      " 20230724 20230725 20230726 20230727 20230801 20230802 20230803 20230811\n",
      " 20230816 20230817 20230823 20230829 20230830 20230911 20230912]\n"
     ]
    }
   ],
   "source": [
    "flat_dates = np.unique(flat_dates)\n",
    "print(flat_dates)"
   ]
  },
  {
   "cell_type": "code",
   "execution_count": null,
   "id": "e728ebfe-3148-4e8e-93eb-064ef0f2f9ac",
   "metadata": {},
   "outputs": [],
   "source": []
  },
  {
   "cell_type": "markdown",
   "id": "de407061-c989-467c-9537-c88aa2c2dd2e",
   "metadata": {},
   "source": [
    "### We select a date close to the that of the spectra that we want to deflat: "
   ]
  },
  {
   "cell_type": "code",
   "execution_count": 15,
   "id": "f66c5c55-a475-4db1-aa21-4ed77b12dd71",
   "metadata": {
    "execution": {
     "iopub.execute_input": "2023-09-13T05:07:02.403862Z",
     "iopub.status.busy": "2023-09-13T05:07:02.403753Z",
     "iopub.status.idle": "2023-09-13T05:07:02.407547Z",
     "shell.execute_reply": "2023-09-13T05:07:02.407154Z",
     "shell.execute_reply.started": "2023-09-13T05:07:02.403852Z"
    },
    "tags": []
   },
   "outputs": [],
   "source": [
    "flat_date = 20230911"
   ]
  },
  {
   "cell_type": "markdown",
   "id": "9317d888-ed61-4e0c-9b41-9806c178ae80",
   "metadata": {},
   "source": [
    "Available flat ids "
   ]
  },
  {
   "cell_type": "code",
   "execution_count": 16,
   "id": "3dec8f6d-4b10-4587-992f-4193fb00b18a",
   "metadata": {
    "execution": {
     "iopub.execute_input": "2023-09-13T05:07:02.408039Z",
     "iopub.status.busy": "2023-09-13T05:07:02.407929Z",
     "iopub.status.idle": "2023-09-13T05:07:02.411736Z",
     "shell.execute_reply": "2023-09-13T05:07:02.411445Z",
     "shell.execute_reply.started": "2023-09-13T05:07:02.408028Z"
    },
    "tags": []
   },
   "outputs": [
    {
     "name": "stdout",
     "output_type": "stream",
     "text": [
      "Flat IDs:  [2023091100080, 2023091100083, 2023091100086, 2023091100089, 2023091100078, 2023091100081, 2023091100084, 2023091100087, 2023091100090, 2023091100079, 2023091100082, 2023091100085, 2023091100088, 2023091100091, 2023091100092, 2023091100095, 2023091100098, 2023091100093, 2023091100096, 2023091100094, 2023091100097]\n"
     ]
    }
   ],
   "source": [
    "flats_selected = []\n",
    "for flat_ in flats_records:\n",
    "    if flat_.day_obs==flat_date:\n",
    "        flats_selected.append(flat_.id)\n",
    "print('Flat IDs: ', flats_selected)"
   ]
  },
  {
   "cell_type": "code",
   "execution_count": null,
   "id": "ec219953-2367-4c60-bc5d-8f20e9112807",
   "metadata": {},
   "outputs": [],
   "source": []
  },
  {
   "cell_type": "markdown",
   "id": "23d275ad-12b8-4f6a-b3e1-a167f18056e4",
   "metadata": {},
   "source": [
    "Check that we can load the flats "
   ]
  },
  {
   "cell_type": "code",
   "execution_count": 17,
   "id": "ddfa7ca0-8fb5-4a50-a567-fa3fe5f114d3",
   "metadata": {
    "execution": {
     "iopub.execute_input": "2023-09-13T05:07:02.412230Z",
     "iopub.status.busy": "2023-09-13T05:07:02.412108Z",
     "iopub.status.idle": "2023-09-13T05:07:15.155079Z",
     "shell.execute_reply": "2023-09-13T05:07:15.154597Z",
     "shell.execute_reply.started": "2023-09-13T05:07:02.412216Z"
    },
    "tags": []
   },
   "outputs": [
    {
     "name": "stdout",
     "output_type": "stream",
     "text": [
      "Flat 2023091100080 properly loaded\n",
      "Flat 2023091100083 properly loaded\n",
      "Flat 2023091100086 properly loaded\n",
      "Flat 2023091100089 properly loaded\n",
      "Flat 2023091100078 properly loaded\n",
      "Flat 2023091100081 properly loaded\n",
      "Flat 2023091100084 properly loaded\n",
      "Flat 2023091100087 properly loaded\n",
      "Flat 2023091100090 properly loaded\n",
      "Flat 2023091100079 properly loaded\n",
      "Flat 2023091100082 properly loaded\n",
      "Flat 2023091100085 properly loaded\n",
      "Flat 2023091100088 properly loaded\n",
      "Flat 2023091100091 properly loaded\n",
      "Flat 2023091100092 properly loaded\n",
      "Flat 2023091100095 properly loaded\n",
      "Flat 2023091100098 properly loaded\n",
      "Flat 2023091100093 properly loaded\n",
      "Flat 2023091100096 properly loaded\n",
      "Flat 2023091100094 properly loaded\n",
      "Flat 2023091100097 properly loaded\n"
     ]
    }
   ],
   "source": [
    "#flat_arrays = []\n",
    "for fid_ in flats_selected:\n",
    "    try:\n",
    "        flat_img = butler.get(\n",
    "            \"flat\",\n",
    "            instrument=\"LATISS\", exposure=fid_, detector=0,\n",
    "            collections=calibCollections)\n",
    "        #flat_arrays.append(flat_img.getImage().array)\n",
    "        print('Flat {0} properly loaded'.format(fid_))\n",
    "    except:\n",
    "        print('Could not load flat {0}'.format(fid_))"
   ]
  },
  {
   "cell_type": "code",
   "execution_count": null,
   "id": "a77e0660-3489-4fe9-adb4-1d1a9d0cdf96",
   "metadata": {},
   "outputs": [],
   "source": []
  },
  {
   "cell_type": "code",
   "execution_count": 18,
   "id": "1363699e-8838-4c00-a6de-e4b31aabf40c",
   "metadata": {
    "execution": {
     "iopub.execute_input": "2023-09-13T05:07:15.155845Z",
     "iopub.status.busy": "2023-09-13T05:07:15.155720Z",
     "iopub.status.idle": "2023-09-13T05:07:15.158204Z",
     "shell.execute_reply": "2023-09-13T05:07:15.157822Z",
     "shell.execute_reply.started": "2023-09-13T05:07:15.155833Z"
    },
    "tags": []
   },
   "outputs": [],
   "source": [
    "plot_flats = True\n",
    "max_plots = 5"
   ]
  },
  {
   "cell_type": "code",
   "execution_count": 19,
   "id": "b2733d94-82c9-49c6-88a9-34574a9dc447",
   "metadata": {
    "execution": {
     "iopub.execute_input": "2023-09-13T05:07:15.158822Z",
     "iopub.status.busy": "2023-09-13T05:07:15.158710Z",
     "iopub.status.idle": "2023-09-13T05:07:20.696641Z",
     "shell.execute_reply": "2023-09-13T05:07:20.696190Z",
     "shell.execute_reply.started": "2023-09-13T05:07:15.158812Z"
    },
    "tags": []
   },
   "outputs": [
    {
     "data": {
      "image/png": "[encoded data removed]",
      "text/plain": [
       "<Figure size 1400x1400 with 10 Axes>"
      ]
     },
     "metadata": {},
     "output_type": "display_data"
    }
   ],
   "source": [
    "if plot_flats:\n",
    "    fig = plt.figure(figsize=(14,14))\n",
    "    for i,fid_ in enumerate(flats_selected):\n",
    "        if i<max_plots:\n",
    "            flat_img_ = butler.get(\n",
    "                \"flat\",\n",
    "                instrument=\"LATISS\", exposure=fid_, detector=0,\n",
    "                collections=calibCollections)\n",
    "            data_ = flat_img_.getImage().array\n",
    "            ax = fig.add_subplot(max_plots,1,i+1)\n",
    "            im = ax.imshow(data_,cmap=\"gray\",origin='lower')#,norm=LogNorm())\n",
    "            plt.colorbar(im,ax=ax)"
   ]
  },
  {
   "cell_type": "code",
   "execution_count": null,
   "id": "009aec49-77ba-4495-b2d0-75d6a1a1fb46",
   "metadata": {},
   "outputs": [],
   "source": []
  },
  {
   "cell_type": "code",
   "execution_count": null,
   "id": "6f27d1cf-e891-44d3-b392-d4c02051d696",
   "metadata": {},
   "outputs": [],
   "source": []
  },
  {
   "cell_type": "code",
   "execution_count": null,
   "id": "c813b978-b6f3-423e-b2c3-ac0bab97eebc",
   "metadata": {},
   "outputs": [],
   "source": []
  },
  {
   "cell_type": "code",
   "execution_count": null,
   "id": "91fbda80-a307-4d1b-ab88-10c896e88a3a",
   "metadata": {},
   "outputs": [],
   "source": []
  }
 ],
 "metadata": {
  "kernelspec": {
   "display_name": "LSST",
   "language": "python",
   "name": "lsst"
  },
  "language_info": {
   "codemirror_mode": {
    "name": "ipython",
    "version": 3
   },
   "file_extension": ".py",
   "mimetype": "text/x-python",
   "name": "python",
   "nbconvert_exporter": "python",
   "pygments_lexer": "ipython3",
   "version": "3.11.4"
  }
 },
 "nbformat": 4,
 "nbformat_minor": 5
}
