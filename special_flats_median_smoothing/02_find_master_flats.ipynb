{
 "cells": [
  {
   "cell_type": "code",
   "execution_count": 1,
   "id": "d5b30667-1a38-499d-9947-9ff54a69711a",
   "metadata": {
    "execution": {
     "iopub.execute_input": "2023-09-06T13:19:24.376795Z",
     "iopub.status.busy": "2023-09-06T13:19:24.376429Z",
     "iopub.status.idle": "2023-09-06T13:19:24.900531Z",
     "shell.execute_reply": "2023-09-06T13:19:24.899991Z",
     "shell.execute_reply.started": "2023-09-06T13:19:24.376779Z"
    },
    "tags": []
   },
   "outputs": [],
   "source": [
    "import os\n",
    "import matplotlib.pyplot as plt\n",
    "import matplotlib.colors as colors\n",
    "import matplotlib.cm as cmx\n",
    "import matplotlib.dates as mdates\n",
    "\n",
    "import numpy as np\n",
    "import pandas as pd\n",
    "%matplotlib inline\n",
    "from matplotlib.colors import LogNorm\n",
    "\n",
    "from mpl_toolkits.axes_grid1 import make_axes_locatable\n",
    "\n",
    "import matplotlib.ticker                         # here's where the formatter is\n",
    "from matplotlib.ticker import (MultipleLocator, FormatStrFormatter,\n",
    "                               AutoMinorLocator)\n",
    "\n",
    "from astropy.visualization import (MinMaxInterval, SqrtStretch,ZScaleInterval,PercentileInterval,\n",
    "                                   ImageNormalize,imshow_norm)\n",
    "from astropy.visualization.stretch import SinhStretch, LinearStretch,AsinhStretch,LogStretch\n",
    "\n",
    "\n",
    "from astropy.io import fits\n",
    "\n"
   ]
  },
  {
   "cell_type": "code",
   "execution_count": 2,
   "id": "d6ef3df0-4d48-4757-95cf-b0717267aa28",
   "metadata": {
    "execution": {
     "iopub.execute_input": "2023-09-06T13:19:24.901545Z",
     "iopub.status.busy": "2023-09-06T13:19:24.901260Z",
     "iopub.status.idle": "2023-09-06T13:19:26.161284Z",
     "shell.execute_reply": "2023-09-06T13:19:26.160726Z",
     "shell.execute_reply.started": "2023-09-06T13:19:24.901528Z"
    },
    "tags": []
   },
   "outputs": [],
   "source": [
    "# Assembly task\n",
    "# https://github.com/lsst/ip_isr/blob/main/python/lsst/ip/isr/isrTask.py\n",
    "\n",
    "from lsst.ip.isr.assembleCcdTask import (AssembleCcdConfig, AssembleCcdTask)\n",
    "from lsst.ip.isr.isrTask import (IsrTask, IsrTaskConfig)\n",
    "\n",
    "#https://github.com/lsst/ip_isr/blob/main/python/lsst/ip/isr/overscan.py\n",
    "from lsst.ip.isr import  OverscanCorrectionTaskConfig, OverscanCorrectionTask"
   ]
  },
  {
   "cell_type": "code",
   "execution_count": 3,
   "id": "724214f9-257b-4d19-aced-e006a1055e2e",
   "metadata": {
    "execution": {
     "iopub.execute_input": "2023-09-06T13:19:26.162200Z",
     "iopub.status.busy": "2023-09-06T13:19:26.162042Z",
     "iopub.status.idle": "2023-09-06T13:19:26.172323Z",
     "shell.execute_reply": "2023-09-06T13:19:26.171907Z",
     "shell.execute_reply.started": "2023-09-06T13:19:26.162186Z"
    },
    "tags": []
   },
   "outputs": [],
   "source": [
    "# LSST Display\n",
    "import lsst.afw.display as afwDisplay\n",
    "afwDisplay.setDefaultBackend('matplotlib')"
   ]
  },
  {
   "cell_type": "code",
   "execution_count": 4,
   "id": "dd84b368-9243-42b2-ae09-aefe0bf47fdb",
   "metadata": {
    "execution": {
     "iopub.execute_input": "2023-09-06T13:19:26.173022Z",
     "iopub.status.busy": "2023-09-06T13:19:26.172875Z",
     "iopub.status.idle": "2023-09-06T13:19:26.175209Z",
     "shell.execute_reply": "2023-09-06T13:19:26.174802Z",
     "shell.execute_reply.started": "2023-09-06T13:19:26.173009Z"
    },
    "tags": []
   },
   "outputs": [],
   "source": [
    "import warnings\n",
    "warnings.filterwarnings(\"ignore\")"
   ]
  },
  {
   "cell_type": "code",
   "execution_count": null,
   "id": "ef4e188a-b872-42b0-bba3-68698cbc75cc",
   "metadata": {},
   "outputs": [],
   "source": []
  },
  {
   "cell_type": "markdown",
   "id": "d225f02e-455c-4374-bacc-b0c5cafcad74",
   "metadata": {},
   "source": [
    "## Butler "
   ]
  },
  {
   "cell_type": "code",
   "execution_count": 5,
   "id": "0af256cb-0bfb-4b21-bb74-7058b19630de",
   "metadata": {
    "execution": {
     "iopub.execute_input": "2023-09-06T13:19:26.175894Z",
     "iopub.status.busy": "2023-09-06T13:19:26.175758Z",
     "iopub.status.idle": "2023-09-06T13:19:26.179694Z",
     "shell.execute_reply": "2023-09-06T13:19:26.179285Z",
     "shell.execute_reply.started": "2023-09-06T13:19:26.175881Z"
    },
    "tags": []
   },
   "outputs": [],
   "source": [
    "import lsst.daf.butler as dafButler"
   ]
  },
  {
   "cell_type": "code",
   "execution_count": 6,
   "id": "c71e5e99-02db-4a10-ab15-51d4a1bd77f6",
   "metadata": {
    "execution": {
     "iopub.execute_input": "2023-09-06T13:19:26.181617Z",
     "iopub.status.busy": "2023-09-06T13:19:26.181230Z",
     "iopub.status.idle": "2023-09-06T13:19:26.185578Z",
     "shell.execute_reply": "2023-09-06T13:19:26.185175Z",
     "shell.execute_reply.started": "2023-09-06T13:19:26.181603Z"
    },
    "tags": []
   },
   "outputs": [],
   "source": [
    "embargo = True"
   ]
  },
  {
   "cell_type": "code",
   "execution_count": 7,
   "id": "3d565318-9db9-4364-9bdd-d27c4311ebe7",
   "metadata": {
    "execution": {
     "iopub.execute_input": "2023-09-06T13:19:26.186298Z",
     "iopub.status.busy": "2023-09-06T13:19:26.186139Z",
     "iopub.status.idle": "2023-09-06T13:19:28.116884Z",
     "shell.execute_reply": "2023-09-06T13:19:28.116357Z",
     "shell.execute_reply.started": "2023-09-06T13:19:26.186285Z"
    },
    "tags": []
   },
   "outputs": [],
   "source": [
    "if embargo:\n",
    "    repo=\"/sdf/group/rubin/repo/oga/\"\n",
    "else:\n",
    "    repo = \"/sdf/group/rubin/repo/main\"\n",
    "butler = dafButler.Butler(repo)\n",
    "registry = butler.registry"
   ]
  },
  {
   "cell_type": "code",
   "execution_count": 8,
   "id": "6de0ceea-753d-4b2d-9e79-532481a44548",
   "metadata": {
    "execution": {
     "iopub.execute_input": "2023-09-06T13:19:28.117728Z",
     "iopub.status.busy": "2023-09-06T13:19:28.117579Z",
     "iopub.status.idle": "2023-09-06T13:19:28.125581Z",
     "shell.execute_reply": "2023-09-06T13:19:28.125159Z",
     "shell.execute_reply.started": "2023-09-06T13:19:28.117713Z"
    },
    "tags": []
   },
   "outputs": [],
   "source": [
    "calibCollections = ['LATISS/defaults','LATISS/raw/all']\n",
    "for col in registry.queryCollections(\"*LATISS/calib*\"):\n",
    "    calibCollections.append(col)"
   ]
  },
  {
   "cell_type": "code",
   "execution_count": 9,
   "id": "0aa76081-cc15-4001-b570-0c98db32f375",
   "metadata": {
    "execution": {
     "iopub.execute_input": "2023-09-06T13:19:28.126310Z",
     "iopub.status.busy": "2023-09-06T13:19:28.126171Z",
     "iopub.status.idle": "2023-09-06T13:19:28.130648Z",
     "shell.execute_reply": "2023-09-06T13:19:28.130235Z",
     "shell.execute_reply.started": "2023-09-06T13:19:28.126297Z"
    },
    "tags": []
   },
   "outputs": [],
   "source": [
    "where_flats = \"instrument='LATISS' AND physical_filter='empty~empty' AND exposure.observation_type='flat'\""
   ]
  },
  {
   "cell_type": "code",
   "execution_count": 10,
   "id": "ab2497c3-447c-43b4-b6fa-0e562abd31e1",
   "metadata": {
    "execution": {
     "iopub.execute_input": "2023-09-06T13:19:28.131346Z",
     "iopub.status.busy": "2023-09-06T13:19:28.131208Z",
     "iopub.status.idle": "2023-09-06T13:19:28.188970Z",
     "shell.execute_reply": "2023-09-06T13:19:28.188458Z",
     "shell.execute_reply.started": "2023-09-06T13:19:28.131334Z"
    },
    "tags": []
   },
   "outputs": [],
   "source": [
    "flats_records = list(registry.queryDimensionRecords('exposure',where=where_flats))"
   ]
  },
  {
   "cell_type": "code",
   "execution_count": 11,
   "id": "f978baf4-aaf4-4a16-a241-3a6c73aadbc5",
   "metadata": {
    "execution": {
     "iopub.execute_input": "2023-09-06T13:19:28.189652Z",
     "iopub.status.busy": "2023-09-06T13:19:28.189504Z",
     "iopub.status.idle": "2023-09-06T13:19:28.192306Z",
     "shell.execute_reply": "2023-09-06T13:19:28.191946Z",
     "shell.execute_reply.started": "2023-09-06T13:19:28.189637Z"
    }
   },
   "outputs": [
    {
     "name": "stdout",
     "output_type": "stream",
     "text": [
      "666\n"
     ]
    }
   ],
   "source": [
    "print(len(flats_records))\n",
    "assert len(flats_records)!=0"
   ]
  },
  {
   "cell_type": "markdown",
   "id": "10f6d923-c280-4115-9181-4b1a43aa0857",
   "metadata": {},
   "source": [
    "Select a year for the flats "
   ]
  },
  {
   "cell_type": "code",
   "execution_count": 12,
   "id": "f434cd3a-f051-4a3a-9e6b-e663296b39e9",
   "metadata": {
    "execution": {
     "iopub.execute_input": "2023-09-06T13:19:28.192918Z",
     "iopub.status.busy": "2023-09-06T13:19:28.192785Z",
     "iopub.status.idle": "2023-09-06T13:19:28.195424Z",
     "shell.execute_reply": "2023-09-06T13:19:28.195107Z",
     "shell.execute_reply.started": "2023-09-06T13:19:28.192905Z"
    },
    "tags": []
   },
   "outputs": [],
   "source": [
    "flat_year = '2023'"
   ]
  },
  {
   "cell_type": "code",
   "execution_count": 13,
   "id": "59978401-3f1a-4695-afdf-ba870f486473",
   "metadata": {
    "execution": {
     "iopub.execute_input": "2023-09-06T13:19:28.196015Z",
     "iopub.status.busy": "2023-09-06T13:19:28.195875Z",
     "iopub.status.idle": "2023-09-06T13:19:28.200160Z",
     "shell.execute_reply": "2023-09-06T13:19:28.199839Z",
     "shell.execute_reply.started": "2023-09-06T13:19:28.196002Z"
    },
    "tags": []
   },
   "outputs": [],
   "source": [
    "flat_dates = []\n",
    "for flat_ in flats_records:\n",
    "    if flat_year in str(flat_.day_obs):\n",
    "        flat_dates.append(flat_.day_obs)\n"
   ]
  },
  {
   "cell_type": "markdown",
   "id": "21c49c5b-e59b-4f3a-9a0a-9d78286935ec",
   "metadata": {},
   "source": [
    "Available dates for flats of a given year "
   ]
  },
  {
   "cell_type": "code",
   "execution_count": 14,
   "id": "e3e83b3d-cf10-4d6a-a592-27d1095b4e2e",
   "metadata": {
    "execution": {
     "iopub.execute_input": "2023-09-06T13:19:28.200754Z",
     "iopub.status.busy": "2023-09-06T13:19:28.200626Z",
     "iopub.status.idle": "2023-09-06T13:19:28.203575Z",
     "shell.execute_reply": "2023-09-06T13:19:28.203249Z",
     "shell.execute_reply.started": "2023-09-06T13:19:28.200741Z"
    },
    "tags": []
   },
   "outputs": [
    {
     "name": "stdout",
     "output_type": "stream",
     "text": [
      "[20230112 20230116 20230118 20230214 20230321 20230327 20230404 20230420\n",
      " 20230425 20230509 20230510 20230523 20230524 20230525 20230705 20230706\n",
      " 20230724 20230725 20230726 20230727 20230801 20230802 20230803 20230811\n",
      " 20230816 20230817 20230823 20230829 20230830]\n"
     ]
    }
   ],
   "source": [
    "flat_dates = np.unique(flat_dates)\n",
    "print(flat_dates)"
   ]
  },
  {
   "cell_type": "code",
   "execution_count": null,
   "id": "e728ebfe-3148-4e8e-93eb-064ef0f2f9ac",
   "metadata": {},
   "outputs": [],
   "source": []
  },
  {
   "cell_type": "markdown",
   "id": "de407061-c989-467c-9537-c88aa2c2dd2e",
   "metadata": {},
   "source": [
    "### We select a date close to the that of the spectra that we want to deflat: "
   ]
  },
  {
   "cell_type": "code",
   "execution_count": 15,
   "id": "f66c5c55-a475-4db1-aa21-4ed77b12dd71",
   "metadata": {
    "execution": {
     "iopub.execute_input": "2023-09-06T13:19:28.204158Z",
     "iopub.status.busy": "2023-09-06T13:19:28.204027Z",
     "iopub.status.idle": "2023-09-06T13:19:28.208077Z",
     "shell.execute_reply": "2023-09-06T13:19:28.207714Z",
     "shell.execute_reply.started": "2023-09-06T13:19:28.204145Z"
    },
    "tags": []
   },
   "outputs": [],
   "source": [
    "flat_date = 20230116"
   ]
  },
  {
   "cell_type": "markdown",
   "id": "9317d888-ed61-4e0c-9b41-9806c178ae80",
   "metadata": {},
   "source": [
    "Available flat ids "
   ]
  },
  {
   "cell_type": "code",
   "execution_count": 16,
   "id": "3dec8f6d-4b10-4587-992f-4193fb00b18a",
   "metadata": {
    "execution": {
     "iopub.execute_input": "2023-09-06T13:19:28.208667Z",
     "iopub.status.busy": "2023-09-06T13:19:28.208541Z",
     "iopub.status.idle": "2023-09-06T13:19:28.211307Z",
     "shell.execute_reply": "2023-09-06T13:19:28.210951Z",
     "shell.execute_reply.started": "2023-09-06T13:19:28.208655Z"
    },
    "tags": []
   },
   "outputs": [
    {
     "name": "stdout",
     "output_type": "stream",
     "text": [
      "Flat IDs:  [2023011600015, 2023011600014, 2023011600016]\n"
     ]
    }
   ],
   "source": [
    "flats_selected = []\n",
    "for flat_ in flats_records:\n",
    "    if flat_.day_obs==flat_date:\n",
    "        flats_selected.append(flat_.id)\n",
    "print('Flat IDs: ', flats_selected)"
   ]
  },
  {
   "cell_type": "code",
   "execution_count": null,
   "id": "ec219953-2367-4c60-bc5d-8f20e9112807",
   "metadata": {},
   "outputs": [],
   "source": []
  },
  {
   "cell_type": "markdown",
   "id": "23d275ad-12b8-4f6a-b3e1-a167f18056e4",
   "metadata": {},
   "source": [
    "Check that we can load the flats "
   ]
  },
  {
   "cell_type": "code",
   "execution_count": 17,
   "id": "ddfa7ca0-8fb5-4a50-a567-fa3fe5f114d3",
   "metadata": {
    "execution": {
     "iopub.execute_input": "2023-09-06T13:19:28.211877Z",
     "iopub.status.busy": "2023-09-06T13:19:28.211747Z",
     "iopub.status.idle": "2023-09-06T13:19:30.229041Z",
     "shell.execute_reply": "2023-09-06T13:19:30.228466Z",
     "shell.execute_reply.started": "2023-09-06T13:19:28.211864Z"
    },
    "tags": []
   },
   "outputs": [
    {
     "name": "stdout",
     "output_type": "stream",
     "text": [
      "Flat 2023011600015 properly loaded\n",
      "Flat 2023011600014 properly loaded\n",
      "Flat 2023011600016 properly loaded\n"
     ]
    }
   ],
   "source": [
    "flat_arrays = []\n",
    "for fid_ in flats_selected:\n",
    "    try:\n",
    "        flat_img = butler.get(\n",
    "            \"flat\",\n",
    "            instrument=\"LATISS\", exposure=fid_, detector=0,\n",
    "            collections=calibCollections)\n",
    "        flat_arrays.append(flat_img.getImage().array)\n",
    "        print('Flat {0} properly loaded'.format(fid_))\n",
    "    except:\n",
    "        print('Could not load flat {0}'.format(fid_))"
   ]
  },
  {
   "cell_type": "code",
   "execution_count": null,
   "id": "a77e0660-3489-4fe9-adb4-1d1a9d0cdf96",
   "metadata": {},
   "outputs": [],
   "source": []
  },
  {
   "cell_type": "code",
   "execution_count": null,
   "id": "1363699e-8838-4c00-a6de-e4b31aabf40c",
   "metadata": {},
   "outputs": [],
   "source": []
  },
  {
   "cell_type": "code",
   "execution_count": null,
   "id": "b2733d94-82c9-49c6-88a9-34574a9dc447",
   "metadata": {},
   "outputs": [],
   "source": []
  },
  {
   "cell_type": "code",
   "execution_count": null,
   "id": "009aec49-77ba-4495-b2d0-75d6a1a1fb46",
   "metadata": {},
   "outputs": [],
   "source": []
  }
 ],
 "metadata": {
  "kernelspec": {
   "display_name": "LSST",
   "language": "python",
   "name": "lsst"
  },
  "language_info": {
   "codemirror_mode": {
    "name": "ipython",
    "version": 3
   },
   "file_extension": ".py",
   "mimetype": "text/x-python",
   "name": "python",
   "nbconvert_exporter": "python",
   "pygments_lexer": "ipython3",
   "version": "3.10.10"
  }
 },
 "nbformat": 4,
 "nbformat_minor": 5
}
