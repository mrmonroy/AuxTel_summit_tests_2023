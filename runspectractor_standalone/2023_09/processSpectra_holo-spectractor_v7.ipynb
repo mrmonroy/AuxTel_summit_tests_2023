{
 "cells": [
  {
   "cell_type": "markdown",
   "metadata": {},
   "source": [
    "# process spectra for AuxTel with new spectractor (version=2.5, July 2023, branch  run auxtel september 2023)"
   ]
  },
  {
   "cell_type": "markdown",
   "metadata": {},
   "source": [
    "- author : Sylvie Dagoret-Campagne\n",
    "- affiliation : IJCLab/IN2P3/CNRS, DESC-LSST fullmember, behalf AuxTel Teal VERA C. Rubin observatory\n",
    "- creation date : September 6th th 2023\n",
    "- update : 2023-09-14 \n",
    "\n",
    "- version v7 : Work with extr\n",
    "\n",
    "This notebook is to help for finding the position of order 0\n",
    "\n"
   ]
  },
  {
   "cell_type": "markdown",
   "metadata": {},
   "source": [
    "# Imports"
   ]
  },
  {
   "cell_type": "code",
   "execution_count": 1,
   "metadata": {
    "execution": {
     "iopub.execute_input": "2023-09-13T21:12:48.455042Z",
     "iopub.status.busy": "2023-09-13T21:12:48.454924Z",
     "iopub.status.idle": "2023-09-13T21:12:48.478099Z",
     "shell.execute_reply": "2023-09-13T21:12:48.477751Z",
     "shell.execute_reply.started": "2023-09-13T21:12:48.455029Z"
    },
    "tags": []
   },
   "outputs": [],
   "source": [
    "%load_ext autoreload\n",
    "%autoreload 2"
   ]
  },
  {
   "cell_type": "code",
   "execution_count": 2,
   "metadata": {
    "execution": {
     "iopub.execute_input": "2023-09-13T21:12:48.479119Z",
     "iopub.status.busy": "2023-09-13T21:12:48.478967Z",
     "iopub.status.idle": "2023-09-13T21:12:48.845938Z",
     "shell.execute_reply": "2023-09-13T21:12:48.845472Z",
     "shell.execute_reply.started": "2023-09-13T21:12:48.479106Z"
    },
    "tags": []
   },
   "outputs": [
    {
     "name": "stdout",
     "output_type": "stream",
     "text": [
      "analysis_tools        LOCAL:/home/d/dagoret/repos/repos_w_2023_35/analysis_tools \tsetup\n",
      "atmospec              LOCAL:/home/d/dagoret/repos/repos_w_2023_35/atmospec \tsetup\n",
      "eups                  LOCAL:/opt/lsst/software/stack/conda/miniconda3-py38_4.9.2/envs/lsst-scipipe-7.0.1/eups \tsetup\n",
      "spectractor           LOCAL:/home/d/dagoret/repos/repos_w_2023_35/Spectractor \tsetup\n"
     ]
    }
   ],
   "source": [
    "! eups list -s | grep LOCAL"
   ]
  },
  {
   "cell_type": "code",
   "execution_count": 3,
   "metadata": {
    "execution": {
     "iopub.execute_input": "2023-09-13T21:12:48.846694Z",
     "iopub.status.busy": "2023-09-13T21:12:48.846558Z",
     "iopub.status.idle": "2023-09-13T21:12:48.866902Z",
     "shell.execute_reply": "2023-09-13T21:12:48.866592Z",
     "shell.execute_reply.started": "2023-09-13T21:12:48.846680Z"
    },
    "tags": []
   },
   "outputs": [
    {
     "name": "stdout",
     "output_type": "stream",
     "text": [
      "['/sdf/data/rubin/user/dagoret/AuxTel_summit_tests_2023/runspectractor_standalone/2023_09', '/home/d/dagoret/repos/repos_w_2023_35/analysis_tools/python', '/opt/lsst/software/stack/stack/miniconda3-py38_4.9.2-7.0.1/Linux64/cp_pipe/g857a3418e4+7df23b908a/python', '/opt/lsst/software/stack/stack/miniconda3-py38_4.9.2-7.0.1/Linux64/shapelet/g44018dc512+ea6441928c/python', '/opt/lsst/software/stack/stack/miniconda3-py38_4.9.2-7.0.1/Linux64/meas_modelfit/g93c4d6e787+79b822255a/python', '/opt/lsst/software/stack/stack/miniconda3-py38_4.9.2-7.0.1/Linux64/scarlet_extensions/g9d18589735+d445b4966c/lib/python', '/opt/lsst/software/stack/stack/miniconda3-py38_4.9.2-7.0.1/Linux64/proxmin/g33b4157f25/lib/python', '/opt/lsst/software/stack/stack/miniconda3-py38_4.9.2-7.0.1/Linux64/scarlet/g63ff1f842d+4083830bf8/lib/python', '/opt/lsst/software/stack/stack/miniconda3-py38_4.9.2-7.0.1/Linux64/meas_extensions_scarlet/g943cb464a2+f79590064d/python', '/opt/lsst/software/stack/stack/miniconda3-py38_4.9.2-7.0.1/Linux64/psfex/gc054bea089+81bc2a20b4/python', '/opt/lsst/software/stack/stack/miniconda3-py38_4.9.2-7.0.1/Linux64/meas_extensions_psfex/g58be5f913a+32f1932512/python', '/opt/lsst/software/stack/stack/miniconda3-py38_4.9.2-7.0.1/Linux64/meas_extensions_piff/gc86a011abf+9acc3d8d25/python', '/opt/lsst/software/stack/stack/miniconda3-py38_4.9.2-7.0.1/Linux64/meas_extensions_gaap/g8dd6597355+dceeeb951c/python', '/opt/lsst/software/stack/stack/miniconda3-py38_4.9.2-7.0.1/Linux64/meas_extensions_photometryKron/gb2715bf1a1+9acc3d8d25/python', '/opt/lsst/software/stack/stack/miniconda3-py38_4.9.2-7.0.1/Linux64/meas_extensions_convolved/g42fff21dfb+94f62ec815/python', '/opt/lsst/software/stack/stack/miniconda3-py38_4.9.2-7.0.1/Linux64/kht/gafcb7142de/cpp/build', '/opt/lsst/software/stack/stack/miniconda3-py38_4.9.2-7.0.1/Linux64/verify_metrics/gd129bed42c+81bc2a20b4/python', '/opt/lsst/software/stack/stack/miniconda3-py38_4.9.2-7.0.1/Linux64/felis/g56b87fd2ae+81bc2a20b4/python', '/opt/lsst/software/stack/stack/miniconda3-py38_4.9.2-7.0.1/Linux64/dax_apdb/g4c90b7bd52+fc57afb704/python', '/opt/lsst/software/stack/stack/miniconda3-py38_4.9.2-7.0.1/Linux64/verify/gffb8816710+02c788d496/python', '/opt/lsst/software/stack/stack/miniconda3-py38_4.9.2-7.0.1/Linux64/meas_deblender/g2cc88a2952+6327360372/python', '/opt/lsst/software/stack/stack/miniconda3-py38_4.9.2-7.0.1/Linux64/meas_extensions_shapeHSM/g571dde35ae+9acc3d8d25/python', '/opt/lsst/software/stack/stack/miniconda3-py38_4.9.2-7.0.1/Linux64/meas_extensions_trailedSources/g47da3c6c86+f7136a40d1/python', '/opt/lsst/software/stack/stack/miniconda3-py38_4.9.2-7.0.1/Linux64/meas_astrom/g0a0026dc87+9acc3d8d25/python', '/opt/lsst/software/stack/stack/miniconda3-py38_4.9.2-7.0.1/Linux64/ip_diffim/g07994bdeae+16b1756208/python', '/opt/lsst/software/stack/stack/miniconda3-py38_4.9.2-7.0.1/Linux64/dustmaps_cachedata/gbb0a0c949e+81bc2a20b4/python', '/opt/lsst/software/stack/stack/miniconda3-py38_4.9.2-7.0.1/Linux64/coadd_utils/g337abbeb29+ea6441928c/python', '/opt/lsst/software/stack/stack/miniconda3-py38_4.9.2-7.0.1/Linux64/pipe_tasks/g68a3911fdd+6ad9f154ac/python', '/opt/lsst/software/stack/stack/miniconda3-py38_4.9.2-7.0.1/Linux64/astro_metadata_translator/g0978aabd1f+2a7d2c9fe3/python', '/opt/lsst/software/stack/stack/miniconda3-py38_4.9.2-7.0.1/Linux64/obs_base/gcc620a9fd9+e9a6d3d3e6/python', '/opt/lsst/software/stack/stack/miniconda3-py38_4.9.2-7.0.1/Linux64/skymap/g37c6e7c3d5+905c2c68d7/python', '/opt/lsst/software/stack/stack/miniconda3-py38_4.9.2-7.0.1/Linux64/meas_base/g67924a670a+edc5793283/python', '/opt/lsst/software/stack/stack/miniconda3-py38_4.9.2-7.0.1/Linux64/meas_algorithms/g6f40f426a6+f7136a40d1/python', '/opt/lsst/software/stack/stack/miniconda3-py38_4.9.2-7.0.1/Linux64/ip_isr/gba31a79951+9acc3d8d25/python', '/opt/lsst/software/stack/stack/miniconda3-py38_4.9.2-7.0.1/Linux64/daf_relation/g8a20fa5453+e358f92434/python', '/opt/lsst/software/stack/stack/miniconda3-py38_4.9.2-7.0.1/Linux64/resources/g9e435448e7+e358f92434/python', '/opt/lsst/software/stack/stack/miniconda3-py38_4.9.2-7.0.1/Linux64/daf_butler/g11710eee44+2396472d69/python', '/opt/lsst/software/stack/stack/miniconda3-py38_4.9.2-7.0.1/Linux64/pipe_base/g6bb983e87d+fa056e98be/python', '/opt/lsst/software/stack/stack/miniconda3-py38_4.9.2-7.0.1/Linux64/afw/g5b0a815229+07073039e0/python', '/opt/lsst/software/stack/stack/miniconda3-py38_4.9.2-7.0.1/Linux64/astshim/g3273194fdb+f6908454ef/python', '/opt/lsst/software/stack/stack/miniconda3-py38_4.9.2-7.0.1/Linux64/log/g1e7d6db67d+e358f92434/python', '/opt/lsst/software/stack/stack/miniconda3-py38_4.9.2-7.0.1/Linux64/sphgeom/g6ae5381d9b+81bc2a20b4/python', '/opt/lsst/software/stack/stack/miniconda3-py38_4.9.2-7.0.1/Linux64/geom/ga1e77700b3+1440987d3f/python', '/opt/lsst/software/stack/stack/miniconda3-py38_4.9.2-7.0.1/Linux64/pex_config/g22560d942e+2a7d2c9fe3/python', '/opt/lsst/software/stack/stack/miniconda3-py38_4.9.2-7.0.1/Linux64/pex_exceptions/gdaeeff99f8+0d8dbea60f/python', '/opt/lsst/software/stack/stack/miniconda3-py38_4.9.2-7.0.1/Linux64/base/g98ffbb4407+81bc2a20b4/python', '/opt/lsst/software/stack/stack/miniconda3-py38_4.9.2-7.0.1/Linux64/cpputils/g9ddcbc5298+7f7571301f/python', '/opt/lsst/software/stack/stack/miniconda3-py38_4.9.2-7.0.1/Linux64/sconsUtils/g80c3e6a29f/python', '/opt/lsst/software/stack/stack/miniconda3-py38_4.9.2-7.0.1/Linux64/utils/gf0e1c1abb1+81bc2a20b4/python', '/opt/lsst/software/stack/stack/miniconda3-py38_4.9.2-7.0.1/Linux64/daf_base/gf041782ebf+2691319615/python', '/home/d/dagoret/repos/repos_w_2023_35/Spectractor/lib/python', '/home/d/dagoret/repos/repos_w_2023_35/atmospec/python', '/opt/lsst/software/stack/stack/miniconda3-py38_4.9.2-7.0.1/Linux64/ctrl_mpexec/g183f8e0c68+0b5ff14b26/python', '/opt/lsst/software/stack/stack/miniconda3-py38_4.9.2-7.0.1/Linux64/obs_lsst/g18ae76373f+3c91ea642d/python', '/opt/lsst/software/stack/stack/miniconda3-py38_4.9.2-7.0.1/Linux64/display_firefly/gae46bcf261+ea6441928c/python', '/opt/lsst/software/stack/stack/miniconda3-py38_4.9.2-7.0.1/Linux64/display_astrowidgets/g2bbee38e9b+ea6441928c/python', '/opt/lsst/software/stack/stack/miniconda3-py38_4.9.2-7.0.1/Linux64/gbdes/gc329cc8a54/build/pydir', '/opt/lsst/software/stack/stack/miniconda3-py38_4.9.2-7.0.1/Linux64/drp_tasks/geb290cab21+7b56d25c6a/python', '/opt/lsst/software/stack/stack/miniconda3-py38_4.9.2-7.0.1/Linux64/analysis_drp/gfadca26dcd+7df23b908a/python', '/opt/lsst/software/stack/stack/miniconda3-py38_4.9.2-7.0.1/Linux64/drp_pipe/g62dbaf9afa+539581bbb4/python', '/opt/lsst/software/stack/stack/miniconda3-py38_4.9.2-7.0.1/Linux64/cp_verify/ge14ceffff4+12c68b5962/python', '/opt/lsst/software/stack/stack/miniconda3-py38_4.9.2-7.0.1/Linux64/faro/ge8614a52ae+e4940fcbf0/python', '/opt/lsst/software/stack/stack/miniconda3-py38_4.9.2-7.0.1/Linux64/fgcm/g8d9a5b0805/lib/python', '/opt/lsst/software/stack/stack/miniconda3-py38_4.9.2-7.0.1/Linux64/fgcmcal/g023b260a0e+25821a5130/python', '/opt/lsst/software/stack/stack/miniconda3-py38_4.9.2-7.0.1/Linux64/display_matplotlib/g0265f82a02+ea6441928c/python', '/opt/lsst/software/stack/stack/miniconda3-py38_4.9.2-7.0.1/Linux64/ap_verify/g3bba7c13bf+c1b85e1378/python', '/opt/lsst/software/stack/stack/miniconda3-py38_4.9.2-7.0.1/Linux64/jointcal/g3c689f2686+4a33454177/python', '/opt/lsst/software/stack/stack/miniconda3-py38_4.9.2-7.0.1/Linux64/cbp/ga32fcf49c8+ea6441928c/python', '/opt/lsst/software/stack/stack/miniconda3-py38_4.9.2-7.0.1/Linux64/obs_subaru/g65833fab06+f9c311f76a/python', '/opt/lsst/software/stack/stack/miniconda3-py38_4.9.2-7.0.1/Linux64/obs_decam/gcd84e84c5d+9bde498c3c/python', '/opt/lsst/software/stack/stack/miniconda3-py38_4.9.2-7.0.1/Linux64/obs_cfht/g98ea1558ea+7a1fade221/python', '/opt/lsst/software/stack/stack/miniconda3-py38_4.9.2-7.0.1/Linux64/ctrl_bps_parsl/gfe186b85dc+6e30524a5b/python', '/opt/lsst/software/stack/stack/miniconda3-py38_4.9.2-7.0.1/Linux64/ctrl_bps_panda/g72cefa85e0+6e30524a5b/python', '/opt/lsst/software/stack/stack/miniconda3-py38_4.9.2-7.0.1/Linux64/ctrl_bps_htcondor/g4bda180e2e+6e30524a5b/python', '/opt/lsst/software/stack/stack/miniconda3-py38_4.9.2-7.0.1/Linux64/lsst_bps_plugins/g3a590c521e+29bb66eb6d/python', '/opt/lsst/software/stack/stack/miniconda3-py38_4.9.2-7.0.1/Linux64/ctrl_bps/gf871a26735+9b83f7e51d/python', '/opt/lsst/software/stack/stack/miniconda3-py38_4.9.2-7.0.1/Linux64/ctrl_platform_s3df/g3be6bbf6ee+b8e28c3ebe/python', '/opt/lsst/software/stack/stack/miniconda3-py38_4.9.2-7.0.1/Linux64/ctrl_execute/g3288a415c1+d78986aaf7/python', '/opt/lsst/software/stack/stack/miniconda3-py38_4.9.2-7.0.1/Linux64/display_ds9/gdb4ec4c597+ea6441928c/python', '/opt/lsst/software/stack/stack/miniconda3-py38_4.9.2-7.0.1/Linux64/meas_extensions_simpleShape/gcf0d15dbbd+f7136a40d1/python', '/opt/lsst/software/stack/stack/miniconda3-py38_4.9.2-7.0.1/Linux64/meas_transiNet/g2ca692352a+f7136a40d1/python', '/opt/lsst/software/stack/stack/miniconda3-py38_4.9.2-7.0.1/Linux64/alert_packet/gc1f99d08cb/python', '/opt/lsst/software/stack/stack/miniconda3-py38_4.9.2-7.0.1/Linux64/ap_association/g6758148a95+cc00875cc0/python', '/opt/lsst/software/stack/stack/miniconda3-py38_4.9.2-7.0.1/Linux64/ap_pipe/g06c608b3b8+b6810408d8/python', '/opt/lsst/software/stack/conda/miniconda3-py38_4.9.2/envs/lsst-scipipe-7.0.1/eups/python', '/opt/lsst/software/stack/conda/miniconda3-py38_4.9.2/envs/lsst-scipipe-7.0.1/lib/python311.zip', '/opt/lsst/software/stack/conda/miniconda3-py38_4.9.2/envs/lsst-scipipe-7.0.1/lib/python3.11', '/opt/lsst/software/stack/conda/miniconda3-py38_4.9.2/envs/lsst-scipipe-7.0.1/lib/python3.11/lib-dynload', '', '/home/d/dagoret/.local/lib/python3.11/site-packages', '/opt/lsst/software/stack/conda/miniconda3-py38_4.9.2/envs/lsst-scipipe-7.0.1/lib/python3.11/site-packages']\n"
     ]
    }
   ],
   "source": [
    "import sys\n",
    "print(sys.path)"
   ]
  },
  {
   "cell_type": "code",
   "execution_count": 4,
   "metadata": {
    "execution": {
     "iopub.execute_input": "2023-09-13T21:12:48.867482Z",
     "iopub.status.busy": "2023-09-13T21:12:48.867353Z",
     "iopub.status.idle": "2023-09-13T21:12:48.882790Z",
     "shell.execute_reply": "2023-09-13T21:12:48.882471Z",
     "shell.execute_reply.started": "2023-09-13T21:12:48.867470Z"
    },
    "tags": []
   },
   "outputs": [],
   "source": [
    "all_paths_to_remove = ['/opt/conda/lib/python3.10/site-packages','/pbs/home/d/dagoret/.local/lib/python3.10/site-packages']\n",
    "\n",
    "for path_to_remove in all_paths_to_remove:\n",
    "    if path_to_remove in sys.path:\n",
    "        print(f\"remove {path_to_remove} from sys.path\")\n",
    "        sys.path.remove(path_to_remove)"
   ]
  },
  {
   "cell_type": "code",
   "execution_count": 5,
   "metadata": {
    "execution": {
     "iopub.execute_input": "2023-09-13T21:12:48.883325Z",
     "iopub.status.busy": "2023-09-13T21:12:48.883205Z",
     "iopub.status.idle": "2023-09-13T21:12:48.898680Z",
     "shell.execute_reply": "2023-09-13T21:12:48.898396Z",
     "shell.execute_reply.started": "2023-09-13T21:12:48.883313Z"
    },
    "tags": []
   },
   "outputs": [
    {
     "data": {
      "text/plain": [
       "['/sdf/data/rubin/user/dagoret/AuxTel_summit_tests_2023/runspectractor_standalone/2023_09',\n",
       " '/home/d/dagoret/repos/repos_w_2023_35/analysis_tools/python',\n",
       " '/opt/lsst/software/stack/stack/miniconda3-py38_4.9.2-7.0.1/Linux64/cp_pipe/g857a3418e4+7df23b908a/python',\n",
       " '/opt/lsst/software/stack/stack/miniconda3-py38_4.9.2-7.0.1/Linux64/shapelet/g44018dc512+ea6441928c/python',\n",
       " '/opt/lsst/software/stack/stack/miniconda3-py38_4.9.2-7.0.1/Linux64/meas_modelfit/g93c4d6e787+79b822255a/python',\n",
       " '/opt/lsst/software/stack/stack/miniconda3-py38_4.9.2-7.0.1/Linux64/scarlet_extensions/g9d18589735+d445b4966c/lib/python',\n",
       " '/opt/lsst/software/stack/stack/miniconda3-py38_4.9.2-7.0.1/Linux64/proxmin/g33b4157f25/lib/python',\n",
       " '/opt/lsst/software/stack/stack/miniconda3-py38_4.9.2-7.0.1/Linux64/scarlet/g63ff1f842d+4083830bf8/lib/python',\n",
       " '/opt/lsst/software/stack/stack/miniconda3-py38_4.9.2-7.0.1/Linux64/meas_extensions_scarlet/g943cb464a2+f79590064d/python',\n",
       " '/opt/lsst/software/stack/stack/miniconda3-py38_4.9.2-7.0.1/Linux64/psfex/gc054bea089+81bc2a20b4/python',\n",
       " '/opt/lsst/software/stack/stack/miniconda3-py38_4.9.2-7.0.1/Linux64/meas_extensions_psfex/g58be5f913a+32f1932512/python',\n",
       " '/opt/lsst/software/stack/stack/miniconda3-py38_4.9.2-7.0.1/Linux64/meas_extensions_piff/gc86a011abf+9acc3d8d25/python',\n",
       " '/opt/lsst/software/stack/stack/miniconda3-py38_4.9.2-7.0.1/Linux64/meas_extensions_gaap/g8dd6597355+dceeeb951c/python',\n",
       " '/opt/lsst/software/stack/stack/miniconda3-py38_4.9.2-7.0.1/Linux64/meas_extensions_photometryKron/gb2715bf1a1+9acc3d8d25/python',\n",
       " '/opt/lsst/software/stack/stack/miniconda3-py38_4.9.2-7.0.1/Linux64/meas_extensions_convolved/g42fff21dfb+94f62ec815/python',\n",
       " '/opt/lsst/software/stack/stack/miniconda3-py38_4.9.2-7.0.1/Linux64/kht/gafcb7142de/cpp/build',\n",
       " '/opt/lsst/software/stack/stack/miniconda3-py38_4.9.2-7.0.1/Linux64/verify_metrics/gd129bed42c+81bc2a20b4/python',\n",
       " '/opt/lsst/software/stack/stack/miniconda3-py38_4.9.2-7.0.1/Linux64/felis/g56b87fd2ae+81bc2a20b4/python',\n",
       " '/opt/lsst/software/stack/stack/miniconda3-py38_4.9.2-7.0.1/Linux64/dax_apdb/g4c90b7bd52+fc57afb704/python',\n",
       " '/opt/lsst/software/stack/stack/miniconda3-py38_4.9.2-7.0.1/Linux64/verify/gffb8816710+02c788d496/python',\n",
       " '/opt/lsst/software/stack/stack/miniconda3-py38_4.9.2-7.0.1/Linux64/meas_deblender/g2cc88a2952+6327360372/python',\n",
       " '/opt/lsst/software/stack/stack/miniconda3-py38_4.9.2-7.0.1/Linux64/meas_extensions_shapeHSM/g571dde35ae+9acc3d8d25/python',\n",
       " '/opt/lsst/software/stack/stack/miniconda3-py38_4.9.2-7.0.1/Linux64/meas_extensions_trailedSources/g47da3c6c86+f7136a40d1/python',\n",
       " '/opt/lsst/software/stack/stack/miniconda3-py38_4.9.2-7.0.1/Linux64/meas_astrom/g0a0026dc87+9acc3d8d25/python',\n",
       " '/opt/lsst/software/stack/stack/miniconda3-py38_4.9.2-7.0.1/Linux64/ip_diffim/g07994bdeae+16b1756208/python',\n",
       " '/opt/lsst/software/stack/stack/miniconda3-py38_4.9.2-7.0.1/Linux64/dustmaps_cachedata/gbb0a0c949e+81bc2a20b4/python',\n",
       " '/opt/lsst/software/stack/stack/miniconda3-py38_4.9.2-7.0.1/Linux64/coadd_utils/g337abbeb29+ea6441928c/python',\n",
       " '/opt/lsst/software/stack/stack/miniconda3-py38_4.9.2-7.0.1/Linux64/pipe_tasks/g68a3911fdd+6ad9f154ac/python',\n",
       " '/opt/lsst/software/stack/stack/miniconda3-py38_4.9.2-7.0.1/Linux64/astro_metadata_translator/g0978aabd1f+2a7d2c9fe3/python',\n",
       " '/opt/lsst/software/stack/stack/miniconda3-py38_4.9.2-7.0.1/Linux64/obs_base/gcc620a9fd9+e9a6d3d3e6/python',\n",
       " '/opt/lsst/software/stack/stack/miniconda3-py38_4.9.2-7.0.1/Linux64/skymap/g37c6e7c3d5+905c2c68d7/python',\n",
       " '/opt/lsst/software/stack/stack/miniconda3-py38_4.9.2-7.0.1/Linux64/meas_base/g67924a670a+edc5793283/python',\n",
       " '/opt/lsst/software/stack/stack/miniconda3-py38_4.9.2-7.0.1/Linux64/meas_algorithms/g6f40f426a6+f7136a40d1/python',\n",
       " '/opt/lsst/software/stack/stack/miniconda3-py38_4.9.2-7.0.1/Linux64/ip_isr/gba31a79951+9acc3d8d25/python',\n",
       " '/opt/lsst/software/stack/stack/miniconda3-py38_4.9.2-7.0.1/Linux64/daf_relation/g8a20fa5453+e358f92434/python',\n",
       " '/opt/lsst/software/stack/stack/miniconda3-py38_4.9.2-7.0.1/Linux64/resources/g9e435448e7+e358f92434/python',\n",
       " '/opt/lsst/software/stack/stack/miniconda3-py38_4.9.2-7.0.1/Linux64/daf_butler/g11710eee44+2396472d69/python',\n",
       " '/opt/lsst/software/stack/stack/miniconda3-py38_4.9.2-7.0.1/Linux64/pipe_base/g6bb983e87d+fa056e98be/python',\n",
       " '/opt/lsst/software/stack/stack/miniconda3-py38_4.9.2-7.0.1/Linux64/afw/g5b0a815229+07073039e0/python',\n",
       " '/opt/lsst/software/stack/stack/miniconda3-py38_4.9.2-7.0.1/Linux64/astshim/g3273194fdb+f6908454ef/python',\n",
       " '/opt/lsst/software/stack/stack/miniconda3-py38_4.9.2-7.0.1/Linux64/log/g1e7d6db67d+e358f92434/python',\n",
       " '/opt/lsst/software/stack/stack/miniconda3-py38_4.9.2-7.0.1/Linux64/sphgeom/g6ae5381d9b+81bc2a20b4/python',\n",
       " '/opt/lsst/software/stack/stack/miniconda3-py38_4.9.2-7.0.1/Linux64/geom/ga1e77700b3+1440987d3f/python',\n",
       " '/opt/lsst/software/stack/stack/miniconda3-py38_4.9.2-7.0.1/Linux64/pex_config/g22560d942e+2a7d2c9fe3/python',\n",
       " '/opt/lsst/software/stack/stack/miniconda3-py38_4.9.2-7.0.1/Linux64/pex_exceptions/gdaeeff99f8+0d8dbea60f/python',\n",
       " '/opt/lsst/software/stack/stack/miniconda3-py38_4.9.2-7.0.1/Linux64/base/g98ffbb4407+81bc2a20b4/python',\n",
       " '/opt/lsst/software/stack/stack/miniconda3-py38_4.9.2-7.0.1/Linux64/cpputils/g9ddcbc5298+7f7571301f/python',\n",
       " '/opt/lsst/software/stack/stack/miniconda3-py38_4.9.2-7.0.1/Linux64/sconsUtils/g80c3e6a29f/python',\n",
       " '/opt/lsst/software/stack/stack/miniconda3-py38_4.9.2-7.0.1/Linux64/utils/gf0e1c1abb1+81bc2a20b4/python',\n",
       " '/opt/lsst/software/stack/stack/miniconda3-py38_4.9.2-7.0.1/Linux64/daf_base/gf041782ebf+2691319615/python',\n",
       " '/home/d/dagoret/repos/repos_w_2023_35/Spectractor/lib/python',\n",
       " '/home/d/dagoret/repos/repos_w_2023_35/atmospec/python',\n",
       " '/opt/lsst/software/stack/stack/miniconda3-py38_4.9.2-7.0.1/Linux64/ctrl_mpexec/g183f8e0c68+0b5ff14b26/python',\n",
       " '/opt/lsst/software/stack/stack/miniconda3-py38_4.9.2-7.0.1/Linux64/obs_lsst/g18ae76373f+3c91ea642d/python',\n",
       " '/opt/lsst/software/stack/stack/miniconda3-py38_4.9.2-7.0.1/Linux64/display_firefly/gae46bcf261+ea6441928c/python',\n",
       " '/opt/lsst/software/stack/stack/miniconda3-py38_4.9.2-7.0.1/Linux64/display_astrowidgets/g2bbee38e9b+ea6441928c/python',\n",
       " '/opt/lsst/software/stack/stack/miniconda3-py38_4.9.2-7.0.1/Linux64/gbdes/gc329cc8a54/build/pydir',\n",
       " '/opt/lsst/software/stack/stack/miniconda3-py38_4.9.2-7.0.1/Linux64/drp_tasks/geb290cab21+7b56d25c6a/python',\n",
       " '/opt/lsst/software/stack/stack/miniconda3-py38_4.9.2-7.0.1/Linux64/analysis_drp/gfadca26dcd+7df23b908a/python',\n",
       " '/opt/lsst/software/stack/stack/miniconda3-py38_4.9.2-7.0.1/Linux64/drp_pipe/g62dbaf9afa+539581bbb4/python',\n",
       " '/opt/lsst/software/stack/stack/miniconda3-py38_4.9.2-7.0.1/Linux64/cp_verify/ge14ceffff4+12c68b5962/python',\n",
       " '/opt/lsst/software/stack/stack/miniconda3-py38_4.9.2-7.0.1/Linux64/faro/ge8614a52ae+e4940fcbf0/python',\n",
       " '/opt/lsst/software/stack/stack/miniconda3-py38_4.9.2-7.0.1/Linux64/fgcm/g8d9a5b0805/lib/python',\n",
       " '/opt/lsst/software/stack/stack/miniconda3-py38_4.9.2-7.0.1/Linux64/fgcmcal/g023b260a0e+25821a5130/python',\n",
       " '/opt/lsst/software/stack/stack/miniconda3-py38_4.9.2-7.0.1/Linux64/display_matplotlib/g0265f82a02+ea6441928c/python',\n",
       " '/opt/lsst/software/stack/stack/miniconda3-py38_4.9.2-7.0.1/Linux64/ap_verify/g3bba7c13bf+c1b85e1378/python',\n",
       " '/opt/lsst/software/stack/stack/miniconda3-py38_4.9.2-7.0.1/Linux64/jointcal/g3c689f2686+4a33454177/python',\n",
       " '/opt/lsst/software/stack/stack/miniconda3-py38_4.9.2-7.0.1/Linux64/cbp/ga32fcf49c8+ea6441928c/python',\n",
       " '/opt/lsst/software/stack/stack/miniconda3-py38_4.9.2-7.0.1/Linux64/obs_subaru/g65833fab06+f9c311f76a/python',\n",
       " '/opt/lsst/software/stack/stack/miniconda3-py38_4.9.2-7.0.1/Linux64/obs_decam/gcd84e84c5d+9bde498c3c/python',\n",
       " '/opt/lsst/software/stack/stack/miniconda3-py38_4.9.2-7.0.1/Linux64/obs_cfht/g98ea1558ea+7a1fade221/python',\n",
       " '/opt/lsst/software/stack/stack/miniconda3-py38_4.9.2-7.0.1/Linux64/ctrl_bps_parsl/gfe186b85dc+6e30524a5b/python',\n",
       " '/opt/lsst/software/stack/stack/miniconda3-py38_4.9.2-7.0.1/Linux64/ctrl_bps_panda/g72cefa85e0+6e30524a5b/python',\n",
       " '/opt/lsst/software/stack/stack/miniconda3-py38_4.9.2-7.0.1/Linux64/ctrl_bps_htcondor/g4bda180e2e+6e30524a5b/python',\n",
       " '/opt/lsst/software/stack/stack/miniconda3-py38_4.9.2-7.0.1/Linux64/lsst_bps_plugins/g3a590c521e+29bb66eb6d/python',\n",
       " '/opt/lsst/software/stack/stack/miniconda3-py38_4.9.2-7.0.1/Linux64/ctrl_bps/gf871a26735+9b83f7e51d/python',\n",
       " '/opt/lsst/software/stack/stack/miniconda3-py38_4.9.2-7.0.1/Linux64/ctrl_platform_s3df/g3be6bbf6ee+b8e28c3ebe/python',\n",
       " '/opt/lsst/software/stack/stack/miniconda3-py38_4.9.2-7.0.1/Linux64/ctrl_execute/g3288a415c1+d78986aaf7/python',\n",
       " '/opt/lsst/software/stack/stack/miniconda3-py38_4.9.2-7.0.1/Linux64/display_ds9/gdb4ec4c597+ea6441928c/python',\n",
       " '/opt/lsst/software/stack/stack/miniconda3-py38_4.9.2-7.0.1/Linux64/meas_extensions_simpleShape/gcf0d15dbbd+f7136a40d1/python',\n",
       " '/opt/lsst/software/stack/stack/miniconda3-py38_4.9.2-7.0.1/Linux64/meas_transiNet/g2ca692352a+f7136a40d1/python',\n",
       " '/opt/lsst/software/stack/stack/miniconda3-py38_4.9.2-7.0.1/Linux64/alert_packet/gc1f99d08cb/python',\n",
       " '/opt/lsst/software/stack/stack/miniconda3-py38_4.9.2-7.0.1/Linux64/ap_association/g6758148a95+cc00875cc0/python',\n",
       " '/opt/lsst/software/stack/stack/miniconda3-py38_4.9.2-7.0.1/Linux64/ap_pipe/g06c608b3b8+b6810408d8/python',\n",
       " '/opt/lsst/software/stack/conda/miniconda3-py38_4.9.2/envs/lsst-scipipe-7.0.1/eups/python',\n",
       " '/opt/lsst/software/stack/conda/miniconda3-py38_4.9.2/envs/lsst-scipipe-7.0.1/lib/python311.zip',\n",
       " '/opt/lsst/software/stack/conda/miniconda3-py38_4.9.2/envs/lsst-scipipe-7.0.1/lib/python3.11',\n",
       " '/opt/lsst/software/stack/conda/miniconda3-py38_4.9.2/envs/lsst-scipipe-7.0.1/lib/python3.11/lib-dynload',\n",
       " '',\n",
       " '/home/d/dagoret/.local/lib/python3.11/site-packages',\n",
       " '/opt/lsst/software/stack/conda/miniconda3-py38_4.9.2/envs/lsst-scipipe-7.0.1/lib/python3.11/site-packages']"
      ]
     },
     "execution_count": 5,
     "metadata": {},
     "output_type": "execute_result"
    }
   ],
   "source": [
    "sys.path"
   ]
  },
  {
   "cell_type": "code",
   "execution_count": 6,
   "metadata": {
    "execution": {
     "iopub.execute_input": "2023-09-13T21:12:48.899207Z",
     "iopub.status.busy": "2023-09-13T21:12:48.899088Z",
     "iopub.status.idle": "2023-09-13T21:12:49.411908Z",
     "shell.execute_reply": "2023-09-13T21:12:49.411410Z",
     "shell.execute_reply.started": "2023-09-13T21:12:48.899196Z"
    },
    "tags": []
   },
   "outputs": [],
   "source": [
    "import numpy as np\n",
    "import matplotlib.pyplot as plt\n",
    "%matplotlib inline\n",
    "from mpl_toolkits.axes_grid1 import make_axes_locatable\n",
    "from matplotlib.colors import LogNorm\n",
    "from matplotlib import  transforms\n",
    "import pandas as pd\n",
    "\n",
    "import matplotlib.ticker                         # here's where the formatter is\n",
    "import os\n",
    "import re\n",
    "\n",
    "plt.rcParams[\"figure.figsize\"] = (12,12)\n",
    "plt.rcParams[\"axes.labelsize\"] = 'xx-large'\n",
    "plt.rcParams['axes.titlesize'] = 'xx-large'\n",
    "plt.rcParams['xtick.labelsize']= 'xx-large'\n",
    "plt.rcParams['ytick.labelsize']= 'xx-large'"
   ]
  },
  {
   "cell_type": "code",
   "execution_count": 7,
   "metadata": {
    "execution": {
     "iopub.execute_input": "2023-09-13T21:12:49.413668Z",
     "iopub.status.busy": "2023-09-13T21:12:49.413395Z",
     "iopub.status.idle": "2023-09-13T21:12:49.433704Z",
     "shell.execute_reply": "2023-09-13T21:12:49.433337Z",
     "shell.execute_reply.started": "2023-09-13T21:12:49.413655Z"
    },
    "tags": []
   },
   "outputs": [
    {
     "name": "stdout",
     "output_type": "stream",
     "text": [
      "/opt/lsst/software/stack/conda/miniconda3-py38_4.9.2/envs/lsst-scipipe-7.0.1/bin/python3\n",
      "3.11.4 | packaged by conda-forge | (main, Jun 10 2023, 18:08:17) [GCC 12.2.0]\n",
      "sys.version_info(major=3, minor=11, micro=4, releaselevel='final', serial=0)\n"
     ]
    }
   ],
   "source": [
    "print(sys.executable)\n",
    "print(sys.version)\n",
    "print(sys.version_info)"
   ]
  },
  {
   "cell_type": "code",
   "execution_count": 8,
   "metadata": {
    "execution": {
     "iopub.execute_input": "2023-09-13T21:12:49.453445Z",
     "iopub.status.busy": "2023-09-13T21:12:49.453297Z",
     "iopub.status.idle": "2023-09-13T21:12:49.551132Z",
     "shell.execute_reply": "2023-09-13T21:12:49.550714Z",
     "shell.execute_reply.started": "2023-09-13T21:12:49.453433Z"
    },
    "tags": []
   },
   "outputs": [
    {
     "data": {
      "image/png": "[encoded data removed]",
      "text/plain": [
       "<Figure size 500x200 with 1 Axes>"
      ]
     },
     "metadata": {},
     "output_type": "display_data"
    }
   ],
   "source": [
    "fig=plt.figure(figsize=(5,2))\n",
    "ax=fig.add_subplot(1,1,1)\n",
    "X=np.linspace(-10,10,50)\n",
    "Y=np.sin(X)\n",
    "ax.plot(X,Y)\n",
    "plt.title(\"matplotlib test\")\n",
    "plt.show()\n"
   ]
  },
  {
   "cell_type": "code",
   "execution_count": 9,
   "metadata": {
    "execution": {
     "iopub.execute_input": "2023-09-13T21:12:49.573469Z",
     "iopub.status.busy": "2023-09-13T21:12:49.573343Z",
     "iopub.status.idle": "2023-09-13T21:12:49.604612Z",
     "shell.execute_reply": "2023-09-13T21:12:49.604220Z",
     "shell.execute_reply.started": "2023-09-13T21:12:49.573457Z"
    },
    "tags": []
   },
   "outputs": [],
   "source": [
    "from iminuit import Minuit\n",
    "import iminuit"
   ]
  },
  {
   "cell_type": "code",
   "execution_count": 10,
   "metadata": {
    "execution": {
     "iopub.execute_input": "2023-09-13T21:12:49.625769Z",
     "iopub.status.busy": "2023-09-13T21:12:49.625651Z",
     "iopub.status.idle": "2023-09-13T21:12:49.643920Z",
     "shell.execute_reply": "2023-09-13T21:12:49.643557Z",
     "shell.execute_reply.started": "2023-09-13T21:12:49.625757Z"
    },
    "tags": []
   },
   "outputs": [
    {
     "data": {
      "text/plain": [
       "'2.22.0'"
      ]
     },
     "execution_count": 10,
     "metadata": {},
     "output_type": "execute_result"
    }
   ],
   "source": [
    "iminuit.__version__"
   ]
  },
  {
   "cell_type": "code",
   "execution_count": 11,
   "metadata": {
    "execution": {
     "iopub.execute_input": "2023-09-13T21:12:49.664823Z",
     "iopub.status.busy": "2023-09-13T21:12:49.664704Z",
     "iopub.status.idle": "2023-09-13T21:12:49.689987Z",
     "shell.execute_reply": "2023-09-13T21:12:49.689616Z",
     "shell.execute_reply.started": "2023-09-13T21:12:49.664813Z"
    },
    "tags": []
   },
   "outputs": [
    {
     "name": "stdout",
     "output_type": "stream",
     "text": [
      "1.10.1\n"
     ]
    }
   ],
   "source": [
    "import scipy\n",
    "print(scipy.__version__)"
   ]
  },
  {
   "cell_type": "code",
   "execution_count": 12,
   "metadata": {
    "execution": {
     "iopub.execute_input": "2023-09-13T21:12:49.710298Z",
     "iopub.status.busy": "2023-09-13T21:12:49.710185Z",
     "iopub.status.idle": "2023-09-13T21:12:50.599825Z",
     "shell.execute_reply": "2023-09-13T21:12:50.599411Z",
     "shell.execute_reply.started": "2023-09-13T21:12:49.710287Z"
    },
    "tags": []
   },
   "outputs": [],
   "source": [
    "from astropy.io import fits\n",
    "from astropy.coordinates import Angle\n",
    "from astropy import units as u\n",
    "from spectractor import parameters\n",
    "from spectractor.extractor.extractor import Spectractor,dumpParameters\n",
    "#dumpfitparameters\n",
    "from spectractor.extractor.images import *\n",
    "from spectractor.config import load_config, set_logger\n",
    "from scipy import ndimage, misc"
   ]
  },
  {
   "cell_type": "code",
   "execution_count": 13,
   "metadata": {
    "execution": {
     "iopub.execute_input": "2023-09-13T21:12:50.629925Z",
     "iopub.status.busy": "2023-09-13T21:12:50.629797Z",
     "iopub.status.idle": "2023-09-13T21:12:50.654698Z",
     "shell.execute_reply": "2023-09-13T21:12:50.654331Z",
     "shell.execute_reply.started": "2023-09-13T21:12:50.629913Z"
    },
    "tags": []
   },
   "outputs": [],
   "source": [
    "import logging"
   ]
  },
  {
   "cell_type": "code",
   "execution_count": 14,
   "metadata": {
    "execution": {
     "iopub.execute_input": "2023-09-13T21:12:50.655344Z",
     "iopub.status.busy": "2023-09-13T21:12:50.655227Z",
     "iopub.status.idle": "2023-09-13T21:12:50.679676Z",
     "shell.execute_reply": "2023-09-13T21:12:50.679321Z",
     "shell.execute_reply.started": "2023-09-13T21:12:50.655333Z"
    },
    "tags": []
   },
   "outputs": [],
   "source": [
    "from scipy.stats import kurtosis,skew\n",
    "from scipy.stats import kurtosistest,skewtest,normaltest"
   ]
  },
  {
   "cell_type": "code",
   "execution_count": 15,
   "metadata": {
    "execution": {
     "iopub.execute_input": "2023-09-13T21:12:50.680303Z",
     "iopub.status.busy": "2023-09-13T21:12:50.680184Z",
     "iopub.status.idle": "2023-09-13T21:12:50.732463Z",
     "shell.execute_reply": "2023-09-13T21:12:50.732098Z",
     "shell.execute_reply.started": "2023-09-13T21:12:50.680292Z"
    },
    "tags": []
   },
   "outputs": [],
   "source": [
    "from distutils.dir_util import copy_tree\n",
    "import shutil"
   ]
  },
  {
   "cell_type": "code",
   "execution_count": 16,
   "metadata": {
    "execution": {
     "iopub.execute_input": "2023-09-13T21:12:50.735152Z",
     "iopub.status.busy": "2023-09-13T21:12:50.735026Z",
     "iopub.status.idle": "2023-09-13T21:12:50.913136Z",
     "shell.execute_reply": "2023-09-13T21:12:50.912682Z",
     "shell.execute_reply.started": "2023-09-13T21:12:50.735140Z"
    },
    "tags": []
   },
   "outputs": [],
   "source": [
    "from astroquery.simbad import Simbad\n",
    "import astroquery\n",
    "astroquery.__version__\n",
    "result_table = Simbad.query_object(\"M1\")"
   ]
  },
  {
   "cell_type": "code",
   "execution_count": 17,
   "metadata": {
    "execution": {
     "iopub.execute_input": "2023-09-13T21:12:50.948777Z",
     "iopub.status.busy": "2023-09-13T21:12:50.948652Z",
     "iopub.status.idle": "2023-09-13T21:12:50.975597Z",
     "shell.execute_reply": "2023-09-13T21:12:50.975235Z",
     "shell.execute_reply.started": "2023-09-13T21:12:50.948765Z"
    },
    "tags": []
   },
   "outputs": [],
   "source": [
    "def find_target_name(tag):\n",
    "    try:\n",
    "        target_name=tag\n",
    "        result_table = Simbad.query_object(target_name)\n",
    "        return target_name\n",
    "    except:\n",
    "        target_name_stripped = ''.join(tag.split())\n",
    "        result_table = Simbad.query_object(target_name_stripped)\n",
    "        return target_name_stripped \n",
    "           "
   ]
  },
  {
   "cell_type": "markdown",
   "metadata": {},
   "source": [
    "# Configuration"
   ]
  },
  {
   "cell_type": "markdown",
   "metadata": {},
   "source": [
    "## Logger"
   ]
  },
  {
   "cell_type": "code",
   "execution_count": 18,
   "metadata": {
    "execution": {
     "iopub.execute_input": "2023-09-13T21:12:51.007217Z",
     "iopub.status.busy": "2023-09-13T21:12:51.006919Z",
     "iopub.status.idle": "2023-09-13T21:12:51.032671Z",
     "shell.execute_reply": "2023-09-13T21:12:51.032285Z",
     "shell.execute_reply.started": "2023-09-13T21:12:51.007203Z"
    },
    "tags": []
   },
   "outputs": [],
   "source": [
    "my_logger = logging"
   ]
  },
  {
   "cell_type": "markdown",
   "metadata": {},
   "source": [
    "## Config for the notebook"
   ]
  },
  {
   "cell_type": "code",
   "execution_count": 19,
   "metadata": {
    "execution": {
     "iopub.execute_input": "2023-09-13T21:12:51.064078Z",
     "iopub.status.busy": "2023-09-13T21:12:51.063958Z",
     "iopub.status.idle": "2023-09-13T21:12:51.088747Z",
     "shell.execute_reply": "2023-09-13T21:12:51.088358Z",
     "shell.execute_reply.started": "2023-09-13T21:12:51.064067Z"
    },
    "tags": []
   },
   "outputs": [],
   "source": [
    "version=\"v7.0\"  # version for taking images from data/2023 (images come from usdf)\n",
    "# create output directories if not exist and clean existing files\n",
    "FLAG_MANAGE_OUTPUT_SPECTRACTOR=True\n",
    "# allow to run reconstruction with Spectractor\n",
    "FLAG_GO_FOR_RECONSTRUCTION_WTH_SPECTRACTOR=True\n",
    "FLAG_RUNWITHEXCEPTIONS = False"
   ]
  },
  {
   "cell_type": "markdown",
   "metadata": {},
   "source": [
    "## Configuration for Spectractor"
   ]
  },
  {
   "cell_type": "code",
   "execution_count": 20,
   "metadata": {
    "execution": {
     "iopub.execute_input": "2023-09-13T21:12:51.118680Z",
     "iopub.status.busy": "2023-09-13T21:12:51.118514Z",
     "iopub.status.idle": "2023-09-13T21:12:51.143751Z",
     "shell.execute_reply": "2023-09-13T21:12:51.143332Z",
     "shell.execute_reply.started": "2023-09-13T21:12:51.118665Z"
    },
    "tags": []
   },
   "outputs": [
    {
     "name": "stdout",
     "output_type": "stream",
     "text": [
      "List of configuration files available :  ['auxtel_config_holo_DECONVOLUTION_FFMv_REBIN2_findrot_Sept2023.ini', 'auxtel_config_holo_DECONVOLUTION_FFMv_REBIN2_Janv2023.ini', 'auxtel_config_holo_DECONVOLUTION_FFMv_REBIN1_Janv2023.ini', '.ipynb_checkpoints']\n"
     ]
    }
   ],
   "source": [
    "print(\"List of configuration files available : \",os.listdir(\"config\"))"
   ]
  },
  {
   "cell_type": "markdown",
   "metadata": {},
   "source": [
    "### config files\n",
    "- auxtel_config_holo_DECONVOLUTION_FFMv_REBIN2_findrot_Sept2023.ini with holo4_001 because rotation of angle with hessian\n",
    "\n",
    "- auxtel_config_holo_DECONVOLUTION_FFMv_REBIN2_Janv2023.ini or \n",
    "  auxtel_config_holo_DECONVOLUTION_FFMv_REBIN1_Janv2023.ini, with holo4_003 becaus no rotation angle is required"
   ]
  },
  {
   "cell_type": "code",
   "execution_count": 21,
   "metadata": {
    "execution": {
     "iopub.execute_input": "2023-09-13T21:12:51.173232Z",
     "iopub.status.busy": "2023-09-13T21:12:51.173107Z",
     "iopub.status.idle": "2023-09-13T21:12:51.200582Z",
     "shell.execute_reply": "2023-09-13T21:12:51.200140Z",
     "shell.execute_reply.started": "2023-09-13T21:12:51.173221Z"
    },
    "tags": []
   },
   "outputs": [],
   "source": [
    "# Choose the config filename\n",
    "list_of_spectractorconfigfiles= ['auxtel_config_holo_DECONVOLUTION_FFMv_REBIN2_Janv2023.ini' ,\n",
    "                                'auxtel_config_holo_DECONVOLUTION_FFMv_REBIN1_Janv2023.ini',\n",
    "                                'auxtel_config_holo_DECONVOLUTION_FFMv_REBIN2_findrot_Sept2023.ini']\n",
    "# because holo4_001 is slightly rotated compared to holo4_003, we need to activate in Spectractor the search of the rotation angle by hessian method\n",
    "config_idx = len(list_of_spectractorconfigfiles)-3\n",
    "                                \n",
    "configfilename= os.path.join(\"./config\",list_of_spectractorconfigfiles[config_idx])\n",
    "#configdir = (list_of_spectractorconfigfiles[config_idx].split(\"_\")[-1]).split(\".\") [0]\n",
    "configdir = \"config_\" + (list_of_spectractorconfigfiles[config_idx].split(\"auxtel_config_holo_\")[-1]).split(\".\") [0]"
   ]
  },
  {
   "cell_type": "code",
   "execution_count": 22,
   "metadata": {
    "execution": {
     "iopub.execute_input": "2023-09-13T21:12:51.232536Z",
     "iopub.status.busy": "2023-09-13T21:12:51.232417Z",
     "iopub.status.idle": "2023-09-13T21:12:51.260903Z",
     "shell.execute_reply": "2023-09-13T21:12:51.260283Z",
     "shell.execute_reply.started": "2023-09-13T21:12:51.232525Z"
    },
    "tags": []
   },
   "outputs": [
    {
     "data": {
      "text/plain": [
       "'./config/auxtel_config_holo_DECONVOLUTION_FFMv_REBIN2_findrot_Sept2023.ini'"
      ]
     },
     "execution_count": 22,
     "metadata": {},
     "output_type": "execute_result"
    }
   ],
   "source": [
    "configfilename"
   ]
  },
  {
   "cell_type": "code",
   "execution_count": 23,
   "metadata": {
    "execution": {
     "iopub.execute_input": "2023-09-13T21:12:51.262023Z",
     "iopub.status.busy": "2023-09-13T21:12:51.261837Z",
     "iopub.status.idle": "2023-09-13T21:12:51.294736Z",
     "shell.execute_reply": "2023-09-13T21:12:51.294308Z",
     "shell.execute_reply.started": "2023-09-13T21:12:51.262007Z"
    },
    "tags": []
   },
   "outputs": [
    {
     "data": {
      "text/plain": [
       "'config_DECONVOLUTION_FFMv_REBIN2_findrot_Sept2023'"
      ]
     },
     "execution_count": 23,
     "metadata": {},
     "output_type": "execute_result"
    }
   ],
   "source": [
    "configdir"
   ]
  },
  {
   "cell_type": "code",
   "execution_count": 24,
   "metadata": {
    "execution": {
     "iopub.execute_input": "2023-09-13T21:12:51.295515Z",
     "iopub.status.busy": "2023-09-13T21:12:51.295354Z",
     "iopub.status.idle": "2023-09-13T21:12:51.537398Z",
     "shell.execute_reply": "2023-09-13T21:12:51.536714Z",
     "shell.execute_reply.started": "2023-09-13T21:12:51.295500Z"
    },
    "tags": []
   },
   "outputs": [
    {
     "name": "stdout",
     "output_type": "stream",
     "text": [
      "/sdf/data/rubin/user/dagoret/AuxTel_summit_tests_2023/runspectractor_standalone/2023_09\n"
     ]
    }
   ],
   "source": [
    "! pwd"
   ]
  },
  {
   "cell_type": "code",
   "execution_count": 25,
   "metadata": {
    "execution": {
     "iopub.execute_input": "2023-09-13T21:12:51.538524Z",
     "iopub.status.busy": "2023-09-13T21:12:51.538342Z",
     "iopub.status.idle": "2023-09-13T21:12:51.582559Z",
     "shell.execute_reply": "2023-09-13T21:12:51.581941Z",
     "shell.execute_reply.started": "2023-09-13T21:12:51.538507Z"
    },
    "tags": []
   },
   "outputs": [
    {
     "name": "stdout",
     "output_type": "stream",
     "text": [
      ">>>>> Spectractor configuration filename : ./config/auxtel_config_holo_DECONVOLUTION_FFMv_REBIN2_findrot_Sept2023.ini\n"
     ]
    }
   ],
   "source": [
    "config=configfilename\n",
    "print(f\">>>>> Spectractor configuration filename : {configfilename}\")"
   ]
  },
  {
   "cell_type": "code",
   "execution_count": 26,
   "metadata": {
    "execution": {
     "iopub.execute_input": "2023-09-13T21:12:51.583814Z",
     "iopub.status.busy": "2023-09-13T21:12:51.583366Z",
     "iopub.status.idle": "2023-09-13T21:12:51.627499Z",
     "shell.execute_reply": "2023-09-13T21:12:51.626910Z",
     "shell.execute_reply.started": "2023-09-13T21:12:51.583796Z"
    },
    "tags": []
   },
   "outputs": [],
   "source": [
    "load_config(configfilename)"
   ]
  },
  {
   "cell_type": "code",
   "execution_count": 27,
   "metadata": {
    "execution": {
     "iopub.execute_input": "2023-09-13T21:12:51.628522Z",
     "iopub.status.busy": "2023-09-13T21:12:51.628250Z",
     "iopub.status.idle": "2023-09-13T21:12:51.670388Z",
     "shell.execute_reply": "2023-09-13T21:12:51.669815Z",
     "shell.execute_reply.started": "2023-09-13T21:12:51.628506Z"
    },
    "tags": []
   },
   "outputs": [
    {
     "name": "stdout",
     "output_type": "stream",
     "text": [
      "ASTROMETRYNET_DIR \n",
      "BGD_ORDER 1\n",
      "CALIB_BGD_NPARAMS 4\n",
      "CALIB_BGD_ORDER 3\n",
      "CALIB_BGD_WIDTH 15\n",
      "CALIB_PEAK_WIDTH 7\n",
      "CALIB_SAVGOL_ORDER 2\n",
      "CALIB_SAVGOL_WINDOW 5\n",
      "CCD_ARCSEC2RADIANS 4.84813681109536e-06\n",
      "CCD_GAIN 1.1\n",
      "CCD_IMSIZE 2048\n",
      "CCD_MAXADU 170000\n",
      "CCD_PIXEL2ARCSEC 0.1904\n",
      "CCD_PIXEL2MM 0.02\n",
      "CCD_REBIN 2\n",
      "CONFIG_DIR ../config/\n",
      "DEBUG False\n",
      "DEBUG_LOGGING False\n",
      "DISPERSER_DIR extractor/dispersers/\n",
      "DISPLAY False\n",
      "DISTANCE2CCD 181\n",
      "DISTANCE2CCD_ERR 0.4\n",
      "FLAM_TO_ADURATE 5175865186660.421\n",
      "GRATING_ORDER_2OVER1 0.1\n",
      "LAMBDAS [ 300  301  302  303  304  305  306  307  308  309  310  311  312  313\n",
      "  314  315  316  317  318  319  320  321  322  323  324  325  326  327\n",
      "  328  329  330  331  332  333  334  335  336  337  338  339  340  341\n",
      "  342  343  344  345  346  347  348  349  350  351  352  353  354  355\n",
      "  356  357  358  359  360  361  362  363  364  365  366  367  368  369\n",
      "  370  371  372  373  374  375  376  377  378  379  380  381  382  383\n",
      "  384  385  386  387  388  389  390  391  392  393  394  395  396  397\n",
      "  398  399  400  401  402  403  404  405  406  407  408  409  410  411\n",
      "  412  413  414  415  416  417  418  419  420  421  422  423  424  425\n",
      "  426  427  428  429  430  431  432  433  434  435  436  437  438  439\n",
      "  440  441  442  443  444  445  446  447  448  449  450  451  452  453\n",
      "  454  455  456  457  458  459  460  461  462  463  464  465  466  467\n",
      "  468  469  470  471  472  473  474  475  476  477  478  479  480  481\n",
      "  482  483  484  485  486  487  488  489  490  491  492  493  494  495\n",
      "  496  497  498  499  500  501  502  503  504  505  506  507  508  509\n",
      "  510  511  512  513  514  515  516  517  518  519  520  521  522  523\n",
      "  524  525  526  527  528  529  530  531  532  533  534  535  536  537\n",
      "  538  539  540  541  542  543  544  545  546  547  548  549  550  551\n",
      "  552  553  554  555  556  557  558  559  560  561  562  563  564  565\n",
      "  566  567  568  569  570  571  572  573  574  575  576  577  578  579\n",
      "  580  581  582  583  584  585  586  587  588  589  590  591  592  593\n",
      "  594  595  596  597  598  599  600  601  602  603  604  605  606  607\n",
      "  608  609  610  611  612  613  614  615  616  617  618  619  620  621\n",
      "  622  623  624  625  626  627  628  629  630  631  632  633  634  635\n",
      "  636  637  638  639  640  641  642  643  644  645  646  647  648  649\n",
      "  650  651  652  653  654  655  656  657  658  659  660  661  662  663\n",
      "  664  665  666  667  668  669  670  671  672  673  674  675  676  677\n",
      "  678  679  680  681  682  683  684  685  686  687  688  689  690  691\n",
      "  692  693  694  695  696  697  698  699  700  701  702  703  704  705\n",
      "  706  707  708  709  710  711  712  713  714  715  716  717  718  719\n",
      "  720  721  722  723  724  725  726  727  728  729  730  731  732  733\n",
      "  734  735  736  737  738  739  740  741  742  743  744  745  746  747\n",
      "  748  749  750  751  752  753  754  755  756  757  758  759  760  761\n",
      "  762  763  764  765  766  767  768  769  770  771  772  773  774  775\n",
      "  776  777  778  779  780  781  782  783  784  785  786  787  788  789\n",
      "  790  791  792  793  794  795  796  797  798  799  800  801  802  803\n",
      "  804  805  806  807  808  809  810  811  812  813  814  815  816  817\n",
      "  818  819  820  821  822  823  824  825  826  827  828  829  830  831\n",
      "  832  833  834  835  836  837  838  839  840  841  842  843  844  845\n",
      "  846  847  848  849  850  851  852  853  854  855  856  857  858  859\n",
      "  860  861  862  863  864  865  866  867  868  869  870  871  872  873\n",
      "  874  875  876  877  878  879  880  881  882  883  884  885  886  887\n",
      "  888  889  890  891  892  893  894  895  896  897  898  899  900  901\n",
      "  902  903  904  905  906  907  908  909  910  911  912  913  914  915\n",
      "  916  917  918  919  920  921  922  923  924  925  926  927  928  929\n",
      "  930  931  932  933  934  935  936  937  938  939  940  941  942  943\n",
      "  944  945  946  947  948  949  950  951  952  953  954  955  956  957\n",
      "  958  959  960  961  962  963  964  965  966  967  968  969  970  971\n",
      "  972  973  974  975  976  977  978  979  980  981  982  983  984  985\n",
      "  986  987  988  989  990  991  992  993  994  995  996  997  998  999\n",
      " 1000 1001 1002 1003 1004 1005 1006 1007 1008 1009 1010 1011 1012 1013\n",
      " 1014 1015 1016 1017 1018 1019 1020 1021 1022 1023 1024 1025 1026 1027\n",
      " 1028 1029 1030 1031 1032 1033 1034 1035 1036 1037 1038 1039 1040 1041\n",
      " 1042 1043 1044 1045 1046 1047 1048 1049 1050 1051 1052 1053 1054 1055\n",
      " 1056 1057 1058 1059 1060 1061 1062 1063 1064 1065 1066 1067 1068 1069\n",
      " 1070 1071 1072 1073 1074 1075 1076 1077 1078 1079 1080 1081 1082 1083\n",
      " 1084 1085 1086 1087 1088 1089 1090 1091 1092 1093 1094 1095 1096 1097\n",
      " 1098 1099]\n",
      "LAMBDA_MAX 1100\n",
      "LAMBDA_MIN 300\n",
      "LAMBDA_STEP 1\n",
      "LIBRADTRAN_DIR \n",
      "LINEWIDTH 2\n",
      "OBS_ALTITUDE 2.66299616375123\n",
      "OBS_CAMERA_DEC_FLIP_SIGN 1\n",
      "OBS_CAMERA_RA_FLIP_SIGN 1\n",
      "OBS_CAMERA_ROTATION 0\n",
      "OBS_DIAMETER 1.2 m\n",
      "OBS_EPOCH J2000.0\n",
      "OBS_FULL_INSTRUMENT_TRANSMISSON multispectra_holo4_003_HD142331_AuxTel_throughput.txt\n",
      "OBS_LATITUDE -30.2446389756252\n",
      "OBS_NAME AUXTEL\n",
      "OBS_OBJECT_TYPE STAR\n",
      "OBS_QUANTUM_EFFICIENCY multispectra_holo4_003_HD142331_AuxTel_throughput.txt\n",
      "OBS_SECONDARY_DIAMETER 0.0 m\n",
      "OBS_SURFACE 1.1309733552923256 m2\n",
      "OBS_TELESCOPE_TRANSMISSION multispectra_holo4_003_HD142331_AuxTel_throughput.txt\n",
      "OBS_TRANSMISSION_SYSTEMATICS 0.005\n",
      "PAPER False\n",
      "PIXDIST_BACKGROUND 70\n",
      "PIXSHIFT_PRIOR 5\n",
      "PIXWIDTH_BACKGROUND 20\n",
      "PIXWIDTH_BOXSIZE 10\n",
      "PIXWIDTH_SIGNAL 10\n",
      "PLOT_DIR plots\n",
      "PLOT_ROT_LABEL $\\varphi_d$ [degrees]\n",
      "PLOT_XLABEL $x$ [pixels]\n",
      "PLOT_YLABEL $y$ [pixels]\n",
      "PSF_FIT_REG_PARAM 0.1\n",
      "PSF_FWHM_CLIP 2\n",
      "PSF_PIXEL_STEP_TRANSVERSE_FIT 25\n",
      "PSF_POLY_ORDER 2\n",
      "PSF_TYPE Moffat\n",
      "ROT_ANGLE_MAX 10\n",
      "ROT_ANGLE_MIN -10\n",
      "ROT_ORDER 5\n",
      "ROT_PREFILTER True\n",
      "SAVE False\n",
      "SED_UNIT 1.0 erg / (nm s cm2)\n",
      "SPECTRACTOR_BACKGROUND_SUBTRACTION True\n",
      "SPECTRACTOR_COMPUTE_ROTATION_ANGLE hessian\n",
      "SPECTRACTOR_DECONVOLUTION_FFM True\n",
      "SPECTRACTOR_DECONVOLUTION_PSF2D False\n",
      "SPECTRACTOR_DECONVOLUTION_SIGMA_CLIP 100\n",
      "SPECTRACTOR_FIT_TARGET_CENTROID fit\n",
      "SPEC_ORDER 1\n",
      "STYLE_PARAMETERS ['VERBOSE', 'DEBUG', 'PAPER', 'LINEWIDTH', 'PLOT_DIR', 'SAVE', 'DEBUG_LOGGING', 'DISPLAY', 'PLOT_XLABEL', 'PLOT_YLABEL', 'PLOT_ROT_LABEL']\n",
      "THROUGHPUT_DIR simulation/AuxTelThroughput/\n",
      "TIME_UNIT 1.0 s\n",
      "VERBOSE False\n",
      "XWINDOW 50\n",
      "XWINDOW_ROT 25\n",
      "YWINDOW 50\n",
      "YWINDOW_ROT 25\n",
      "hc 1.9864458571489286e-25 J m\n",
      "mpl <module 'matplotlib' from '/opt/lsst/software/stack/conda/miniconda3-py38_4.9.2/envs/lsst-scipipe-7.0.1/lib/python3.11/site-packages/matplotlib/__init__.py'>\n",
      "np <module 'numpy' from '/opt/lsst/software/stack/conda/miniconda3-py38_4.9.2/envs/lsst-scipipe-7.0.1/lib/python3.11/site-packages/numpy/__init__.py'>\n",
      "os <module 'os' (frozen)>\n",
      "wl_dwl_unit nm2\n"
     ]
    }
   ],
   "source": [
    "dumpParameters()"
   ]
  },
  {
   "cell_type": "code",
   "execution_count": 28,
   "metadata": {
    "execution": {
     "iopub.execute_input": "2023-09-13T21:12:51.671457Z",
     "iopub.status.busy": "2023-09-13T21:12:51.671198Z",
     "iopub.status.idle": "2023-09-13T21:12:51.714403Z",
     "shell.execute_reply": "2023-09-13T21:12:51.713745Z",
     "shell.execute_reply.started": "2023-09-13T21:12:51.671437Z"
    },
    "tags": []
   },
   "outputs": [
    {
     "data": {
      "text/plain": [
       "['ASTROMETRYNET_DIR',\n",
       " 'BGD_ORDER',\n",
       " 'CALIB_BGD_NPARAMS',\n",
       " 'CALIB_BGD_ORDER',\n",
       " 'CALIB_BGD_WIDTH',\n",
       " 'CALIB_PEAK_WIDTH',\n",
       " 'CALIB_SAVGOL_ORDER',\n",
       " 'CALIB_SAVGOL_WINDOW',\n",
       " 'CCD_ARCSEC2RADIANS',\n",
       " 'CCD_GAIN',\n",
       " 'CCD_IMSIZE',\n",
       " 'CCD_MAXADU',\n",
       " 'CCD_PIXEL2ARCSEC',\n",
       " 'CCD_PIXEL2MM',\n",
       " 'CCD_REBIN',\n",
       " 'CONFIG_DIR',\n",
       " 'DEBUG',\n",
       " 'DEBUG_LOGGING',\n",
       " 'DISPERSER_DIR',\n",
       " 'DISPLAY',\n",
       " 'DISTANCE2CCD',\n",
       " 'DISTANCE2CCD_ERR',\n",
       " 'FLAM_TO_ADURATE',\n",
       " 'GRATING_ORDER_2OVER1',\n",
       " 'LAMBDAS',\n",
       " 'LAMBDA_MAX',\n",
       " 'LAMBDA_MIN',\n",
       " 'LAMBDA_STEP',\n",
       " 'LIBRADTRAN_DIR',\n",
       " 'LINEWIDTH',\n",
       " 'OBS_ALTITUDE',\n",
       " 'OBS_CAMERA_DEC_FLIP_SIGN',\n",
       " 'OBS_CAMERA_RA_FLIP_SIGN',\n",
       " 'OBS_CAMERA_ROTATION',\n",
       " 'OBS_DIAMETER',\n",
       " 'OBS_EPOCH',\n",
       " 'OBS_FULL_INSTRUMENT_TRANSMISSON',\n",
       " 'OBS_LATITUDE',\n",
       " 'OBS_NAME',\n",
       " 'OBS_OBJECT_TYPE',\n",
       " 'OBS_QUANTUM_EFFICIENCY',\n",
       " 'OBS_SECONDARY_DIAMETER',\n",
       " 'OBS_SURFACE',\n",
       " 'OBS_TELESCOPE_TRANSMISSION',\n",
       " 'OBS_TRANSMISSION_SYSTEMATICS',\n",
       " 'PAPER',\n",
       " 'PIXDIST_BACKGROUND',\n",
       " 'PIXSHIFT_PRIOR',\n",
       " 'PIXWIDTH_BACKGROUND',\n",
       " 'PIXWIDTH_BOXSIZE',\n",
       " 'PIXWIDTH_SIGNAL',\n",
       " 'PLOT_DIR',\n",
       " 'PLOT_ROT_LABEL',\n",
       " 'PLOT_XLABEL',\n",
       " 'PLOT_YLABEL',\n",
       " 'PSF_FIT_REG_PARAM',\n",
       " 'PSF_FWHM_CLIP',\n",
       " 'PSF_PIXEL_STEP_TRANSVERSE_FIT',\n",
       " 'PSF_POLY_ORDER',\n",
       " 'PSF_TYPE',\n",
       " 'ROT_ANGLE_MAX',\n",
       " 'ROT_ANGLE_MIN',\n",
       " 'ROT_ORDER',\n",
       " 'ROT_PREFILTER',\n",
       " 'SAVE',\n",
       " 'SED_UNIT',\n",
       " 'SPECTRACTOR_BACKGROUND_SUBTRACTION',\n",
       " 'SPECTRACTOR_COMPUTE_ROTATION_ANGLE',\n",
       " 'SPECTRACTOR_DECONVOLUTION_FFM',\n",
       " 'SPECTRACTOR_DECONVOLUTION_PSF2D',\n",
       " 'SPECTRACTOR_DECONVOLUTION_SIGMA_CLIP',\n",
       " 'SPECTRACTOR_FIT_TARGET_CENTROID',\n",
       " 'SPEC_ORDER',\n",
       " 'STYLE_PARAMETERS',\n",
       " 'THROUGHPUT_DIR',\n",
       " 'TIME_UNIT',\n",
       " 'VERBOSE',\n",
       " 'XWINDOW',\n",
       " 'XWINDOW_ROT',\n",
       " 'YWINDOW',\n",
       " 'YWINDOW_ROT',\n",
       " '__builtins__',\n",
       " '__cached__',\n",
       " '__doc__',\n",
       " '__file__',\n",
       " '__getattr__',\n",
       " '__loader__',\n",
       " '__name__',\n",
       " '__package__',\n",
       " '__spec__',\n",
       " 'hc',\n",
       " 'mpl',\n",
       " 'np',\n",
       " 'os',\n",
       " 'wl_dwl_unit']"
      ]
     },
     "execution_count": 28,
     "metadata": {},
     "output_type": "execute_result"
    }
   ],
   "source": [
    "dir(parameters)"
   ]
  },
  {
   "cell_type": "markdown",
   "metadata": {},
   "source": [
    "# Exposure config"
   ]
  },
  {
   "cell_type": "code",
   "execution_count": 29,
   "metadata": {
    "execution": {
     "iopub.execute_input": "2023-09-13T21:12:51.715417Z",
     "iopub.status.busy": "2023-09-13T21:12:51.715220Z",
     "iopub.status.idle": "2023-09-13T21:12:51.996087Z",
     "shell.execute_reply": "2023-09-13T21:12:51.995541Z",
     "shell.execute_reply.started": "2023-09-13T21:12:51.715400Z"
    },
    "tags": []
   },
   "outputs": [
    {
     "name": "stdout",
     "output_type": "stream",
     "text": [
      "auxtellogbook_collimator~holo4_003_20230912_v7.0.csv\n",
      "auxtellogbook_cyl_lens~holo4_001_20230912_v7.0.csv\n",
      "auxtellogbook_cyl_lens~holo4_003_20230912_v7.0.csv\n",
      "auxtellogbook_empty~holo4_001_20230912_v7.0.csv\n",
      "auxtellogbook_empty~holo4_003_20230815_v7.0.csv\n",
      "auxtellogbook_empty~holo4_003_20230817_v7.0.csv\n",
      "auxtellogbook_empty~holo4_003_20230912_v7.0.csv\n"
     ]
    }
   ],
   "source": [
    "! ls logbooks"
   ]
  },
  {
   "cell_type": "code",
   "execution_count": 30,
   "metadata": {
    "execution": {
     "iopub.execute_input": "2023-09-13T21:12:51.997034Z",
     "iopub.status.busy": "2023-09-13T21:12:51.996874Z",
     "iopub.status.idle": "2023-09-13T21:12:52.028233Z",
     "shell.execute_reply": "2023-09-13T21:12:52.027835Z",
     "shell.execute_reply.started": "2023-09-13T21:12:51.997019Z"
    },
    "tags": []
   },
   "outputs": [],
   "source": [
    "# path index for each month\n",
    "\n",
    "DATE = '20230913'\n",
    "all_filterdispersernames = [\"empty~holo4_001\",\\\n",
    "                        \"empty~holo4_003\",\\\n",
    "                        \"collimator~holo4_003\",\\\n",
    "                        \"cyl_lens~holo4_001\",\\\n",
    "                        \"cyl_lens~holo4_003\",\\\n",
    "                       ]\n",
    "filterdispersername = all_filterdispersernames[2]\n",
    "\n",
    "\n",
    "imagemode = \"postISRCCD\"\n",
    "#imagemode = \"unflattened\""
   ]
  },
  {
   "cell_type": "code",
   "execution_count": 31,
   "metadata": {
    "execution": {
     "iopub.execute_input": "2023-09-13T21:12:52.028945Z",
     "iopub.status.busy": "2023-09-13T21:12:52.028819Z",
     "iopub.status.idle": "2023-09-13T21:12:52.056071Z",
     "shell.execute_reply": "2023-09-13T21:12:52.055685Z",
     "shell.execute_reply.started": "2023-09-13T21:12:52.028934Z"
    },
    "tags": []
   },
   "outputs": [],
   "source": [
    "disperser_label = filterdispersername.split(\"~\")[-1]"
   ]
  },
  {
   "cell_type": "markdown",
   "metadata": {},
   "source": [
    "## Paths"
   ]
  },
  {
   "cell_type": "code",
   "execution_count": 32,
   "metadata": {
    "execution": {
     "iopub.execute_input": "2023-09-13T21:12:52.056791Z",
     "iopub.status.busy": "2023-09-13T21:12:52.056665Z",
     "iopub.status.idle": "2023-09-13T21:12:52.083687Z",
     "shell.execute_reply": "2023-09-13T21:12:52.083272Z",
     "shell.execute_reply.started": "2023-09-13T21:12:52.056780Z"
    },
    "tags": []
   },
   "outputs": [],
   "source": [
    "# select if we run at CC or not (locally) \n",
    "# /sps/lsst/groups/auxtel/data/2022/holo/20220317\n",
    "HOSTCC=False\n",
    "LAPTOP=True"
   ]
  },
  {
   "cell_type": "code",
   "execution_count": null,
   "metadata": {},
   "outputs": [],
   "source": []
  },
  {
   "cell_type": "code",
   "execution_count": 33,
   "metadata": {
    "execution": {
     "iopub.execute_input": "2023-09-13T21:12:52.084460Z",
     "iopub.status.busy": "2023-09-13T21:12:52.084333Z",
     "iopub.status.idle": "2023-09-13T21:12:52.116058Z",
     "shell.execute_reply": "2023-09-13T21:12:52.115684Z",
     "shell.execute_reply.started": "2023-09-13T21:12:52.084448Z"
    },
    "tags": []
   },
   "outputs": [],
   "source": [
    "def GetPaths(computer_name):\n",
    "    \"\"\"\n",
    "    \"\"\"\n",
    "    \n",
    "    if computer_name == \"HOSTCC\":\n",
    "        \n",
    "        path_auxtel=\"/sps/lsst/groups/auxtel\"\n",
    "        path_spectractor=os.path.join(path_auxtel,\"softs/github/desc/Spectractor\")\n",
    "        path_spectractor_config=os.path.join(path_spectractor,\"config\")\n",
    "    \n",
    "        path_images=os.path.join(path_auxtel,\"data/hack_usdf/my_postisrccd_img_forspectractor_2023/\"+filterdispersername+\"/\"+DATE)\n",
    "        if configdir == \"\":\n",
    "            path_output_spectractor=os.path.join(path_auxtel,\"data/2023/OutputSpectractor/\"+imagemode+\"/\"+filterdispersername+\"/\"+DATE)\n",
    "        else:\n",
    "            path_output_spectractor=os.path.join(path_auxtel,\"data/2023/OutputSpectractor/\"+imagemode+\"/\"+filterdispersername+\"/\"+configdir+\"/\"+DATE)\n",
    "            path_topoutput_spectractor=os.path.join(path_auxtel,\"data/2023/OutputSpectractor/\"+imagemode+\"/\"+filterdispersername+\"/\"+configdir)\n",
    "            path_toptopoutput_spectractor=os.path.join(path_auxtel,\"data/2023/OutputSpectractor/\"+imagemode+\"/\"+filterdispersername)\n",
    "            path_toptoptopoutput_spectractor=os.path.join(path_auxtel,\"data/2023/OutputSpectractor/\"+imagemode)\n",
    "        \n",
    "    elif computer_name == \"LAPTOP1\":\n",
    "        path_auxtel=\"/Users/dagoret/DATA/AuxTelData2023\"\n",
    "        path_spectractor=os.path.join(path_auxtel,\"/Users/dagoret/MacOSX/GitHub/LSST/Spectractor\")\n",
    "        path_spectractor_config=os.path.join(path_spectractor,\"config\")\n",
    "        path_images=os.path.join(path_auxtel,\"data/2023/\"+filterdispersername+\"/\"+DATE)\n",
    "        if configdir == \"\":\n",
    "            path_output_spectractor=os.path.join(path_auxtel,\"data/2023/OutputSpectractor/\"+imagemode+\"/\"+filterdispersername+\"/\"+DATE)\n",
    "        else:\n",
    "            path_output_spectractor=os.path.join(path_auxtel,\"data/2023/OutputSpectractor/\"+imagemode+\"/\"+filterdispersername+\"/\"+configdir+\"/\"+DATE)\n",
    "            path_topoutput_spectractor=os.path.join(path_auxtel,\"data/2023/OutputSpectractor/\"+imagemode+\"/\"+filterdispersername+\"/\"+configdir)\n",
    "            path_toptopoutput_spectractor=os.path.join(path_auxtel,\"data/2023/OutputSpectractor/\"+imagemode+\"/\"+filterdispersername)\n",
    "            path_toptoptopoutput_spectractor=os.path.join(path_auxtel,\"data/2023/OutputSpectractor/\"+imagemode)\n",
    "        \n",
    "        \n",
    "    elif computer_name == \"WORKIMAC\":\n",
    "        path_auxtel=\"/Users/sylvie/DATA/AuxTelData2023\"\n",
    "        path_spectractor=os.path.join(path_auxtel,\"/Users/sylvie/MacOSX/GitHub/LSST/Spectractor\")\n",
    "        path_spectractor_config=os.path.join(path_spectractor,\"config\")\n",
    "        path_images=os.path.join(path_auxtel,\"data/2023/\"+filterdispersername+\"/\"+DATE)\n",
    "        if configdir == \"\":\n",
    "            path_output_spectractor=os.path.join(path_auxtel,\"data/2023/OutputSpectractor/\"+imagemode+\"/\"+filterdispersername+\"/\"+DATE)\n",
    "        else:\n",
    "            path_output_spectractor=os.path.join(path_auxtel,\"data/2023/OutputSpectractor/\"+imagemode+\"/\"+filterdispersername+\"/\"+configdir+\"/\"+DATE)\n",
    "            path_topoutput_spectractor=os.path.join(path_auxtel,\"data/2023/OutputSpectractor/\"+imagemode+\"/\"+filterdispersername+\"/\"+configdir)\n",
    "            path_toptopoutput_spectractor=os.path.join(path_auxtel,\"data/2023/OutputSpectractor/\"+imagemode+\"/\"+filterdispersername)\n",
    "            path_toptoptopoutput_spectractor=os.path.join(path_auxtel,\"data/2023/OutputSpectractor/\"+imagemode)\n",
    "            \n",
    "            \n",
    "        \n",
    "    elif computer_name == \"HOMEIMAC\":\n",
    "        path_auxtel=\"/Volumes/Backup2020/DATA\"\n",
    "        path_spectractor=os.path.join(path_auxtel,\"MacOSX/GitHub/LSST/Spectractor\")\n",
    "        path_spectractor_config=os.path.join(\".\",\"config\")\n",
    "        path_images=os.path.join(path_auxtel,\"hack_usdf/my_postisrccd_img_forspectractor_2023/\"+filterdispersername+\"/\"+DATE)\n",
    "        \n",
    "        # /Volumes/Backup2020/DATA/AuxTelDATA2023/data/2023/OutputSpectractor\n",
    "        \n",
    "        if configdir == \"\":\n",
    "            path_output_spectractor=os.path.join(path_auxtel,\"AuxTelDATA2023/data/2023/OutputSpectractor/\"+imagemode+\"/\"+filterdispersername+\"/\"+DATE)\n",
    "        else:\n",
    "            path_output_spectractor=os.path.join(path_auxtel,\"AuxTelDATA2023/data/2023/OutputSpectractor/\"+imagemode+\"/\"+filterdispersername+\"/\"+configdir+\"/\"+DATE)\n",
    "            path_topoutput_spectractor=os.path.join(path_auxtel,\"AuxTelDATA2023/data/2023/OutputSpectractor/\"+imagemode+\"/\"+filterdispersername+\"/\"+configdir)\n",
    "            path_toptopoutput_spectractor=os.path.join(path_auxtel,\"AuxTelDATA2023/data/2023/OutputSpectractor/\"+imagemode+\"/\"+filterdispersername)\n",
    "            path_toptoptopoutput_spectractor=os.path.join(path_auxtel,\"AuxTelDATA2023/data/2023/OutputSpectractor/\"+imagemode)\n",
    "            \n",
    "    elif computer_name == \"USDF\":\n",
    "        path_auxtel=\"/home/d/dagoret/rubin-user/DATA\"\n",
    "        path_spectractor=os.path.join(\"/home/d/dagoret\",\"repos/repos_w_2023_35/Spectractor\")\n",
    "        path_spectractor_config=os.path.join(\".\",\"config\")\n",
    "        path_images=os.path.join(path_auxtel,\"AuxtelData2023/my_postisrccd_img_forspectractor_2023/\"+filterdispersername+\"/\"+DATE)\n",
    "        \n",
    "        # /Volumes/Backup2020/DATA/AuxTelDATA2023/data/2023/OutputSpectractor\n",
    "        \n",
    "        if configdir == \"\":\n",
    "            path_output_spectractor=os.path.join(path_auxtel,\"AuxtelData2023/OutputSpectractor/\"+imagemode+\"/\"+filterdispersername+\"/\"+DATE)\n",
    "        else:\n",
    "            path_output_spectractor=os.path.join(path_auxtel,\"AuxtelData2023/OutputSpectractor/\"+imagemode+\"/\"+filterdispersername+\"/\"+configdir+\"/\"+DATE)\n",
    "            path_topoutput_spectractor=os.path.join(path_auxtel,\"AuxtelData2023/OutputSpectractor/\"+imagemode+\"/\"+filterdispersername+\"/\"+configdir)\n",
    "            path_toptopoutput_spectractor=os.path.join(path_auxtel,\"AuxtelData2023/OutputSpectractor/\"+imagemode+\"/\"+filterdispersername)\n",
    "            path_toptoptopoutput_spectractor=os.path.join(path_auxtel,\"AuxtelData2023/OutputSpectractor/\"+imagemode)     \n",
    "        \n",
    "    else:\n",
    "        print(f\"Unknown computer {computer_name}\")\n",
    "        \n",
    "              \n",
    "    return path_auxtel,path_spectractor,path_spectractor_config,path_images,path_toptoptopoutput_spectractor, path_toptopoutput_spectractor, path_topoutput_spectractor, path_output_spectractor\n",
    "        "
   ]
  },
  {
   "cell_type": "code",
   "execution_count": null,
   "metadata": {},
   "outputs": [],
   "source": []
  },
  {
   "cell_type": "code",
   "execution_count": 34,
   "metadata": {
    "execution": {
     "iopub.execute_input": "2023-09-13T21:12:52.116713Z",
     "iopub.status.busy": "2023-09-13T21:12:52.116591Z",
     "iopub.status.idle": "2023-09-13T21:12:52.139927Z",
     "shell.execute_reply": "2023-09-13T21:12:52.139539Z",
     "shell.execute_reply.started": "2023-09-13T21:12:52.116703Z"
    },
    "tags": []
   },
   "outputs": [],
   "source": [
    "mycomputer_name = \"USDF\"\n",
    "path_auxtel,path_spectractor,path_spectractor_config,path_images,path_toptoptopoutput_spectractor, path_toptopoutput_spectractor, path_topoutput_spectractor, path_output_spectractor  = GetPaths(mycomputer_name)"
   ]
  },
  {
   "cell_type": "code",
   "execution_count": 35,
   "metadata": {
    "execution": {
     "iopub.execute_input": "2023-09-13T21:12:52.140584Z",
     "iopub.status.busy": "2023-09-13T21:12:52.140462Z",
     "iopub.status.idle": "2023-09-13T21:12:52.163068Z",
     "shell.execute_reply": "2023-09-13T21:12:52.162718Z",
     "shell.execute_reply.started": "2023-09-13T21:12:52.140574Z"
    },
    "tags": []
   },
   "outputs": [
    {
     "data": {
      "text/plain": [
       "'/home/d/dagoret/rubin-user/DATA/AuxtelData2023/my_postisrccd_img_forspectractor_2023/empty~holo4_001/20230912'"
      ]
     },
     "execution_count": 35,
     "metadata": {},
     "output_type": "execute_result"
    }
   ],
   "source": [
    "path_images"
   ]
  },
  {
   "cell_type": "code",
   "execution_count": 36,
   "metadata": {
    "execution": {
     "iopub.execute_input": "2023-09-13T21:12:52.163632Z",
     "iopub.status.busy": "2023-09-13T21:12:52.163518Z",
     "iopub.status.idle": "2023-09-13T21:12:52.186706Z",
     "shell.execute_reply": "2023-09-13T21:12:52.186253Z",
     "shell.execute_reply.started": "2023-09-13T21:12:52.163622Z"
    },
    "tags": []
   },
   "outputs": [
    {
     "data": {
      "text/plain": [
       "'/home/d/dagoret/rubin-user/DATA/AuxtelData2023/OutputSpectractor/postISRCCD/empty~holo4_001/config_DECONVOLUTION_FFMv_REBIN2_findrot_Sept2023'"
      ]
     },
     "execution_count": 36,
     "metadata": {},
     "output_type": "execute_result"
    }
   ],
   "source": [
    "path_topoutput_spectractor"
   ]
  },
  {
   "cell_type": "code",
   "execution_count": 37,
   "metadata": {
    "execution": {
     "iopub.execute_input": "2023-09-13T21:12:52.187349Z",
     "iopub.status.busy": "2023-09-13T21:12:52.187232Z",
     "iopub.status.idle": "2023-09-13T21:12:52.209866Z",
     "shell.execute_reply": "2023-09-13T21:12:52.209515Z",
     "shell.execute_reply.started": "2023-09-13T21:12:52.187338Z"
    },
    "tags": []
   },
   "outputs": [
    {
     "data": {
      "text/plain": [
       "'/home/d/dagoret/rubin-user/DATA/AuxtelData2023/OutputSpectractor/postISRCCD/empty~holo4_001/config_DECONVOLUTION_FFMv_REBIN2_findrot_Sept2023/20230912'"
      ]
     },
     "execution_count": 37,
     "metadata": {},
     "output_type": "execute_result"
    }
   ],
   "source": [
    "path_output_spectractor"
   ]
  },
  {
   "cell_type": "markdown",
   "metadata": {},
   "source": [
    "# Utility Functions"
   ]
  },
  {
   "cell_type": "code",
   "execution_count": 38,
   "metadata": {
    "execution": {
     "iopub.execute_input": "2023-09-13T21:12:52.210435Z",
     "iopub.status.busy": "2023-09-13T21:12:52.210310Z",
     "iopub.status.idle": "2023-09-13T21:12:52.232184Z",
     "shell.execute_reply": "2023-09-13T21:12:52.231829Z",
     "shell.execute_reply.started": "2023-09-13T21:12:52.210424Z"
    },
    "tags": []
   },
   "outputs": [],
   "source": [
    "def is_nan(x):\n",
    "    return (x != x)"
   ]
  },
  {
   "cell_type": "markdown",
   "metadata": {},
   "source": [
    "# Logbook for input file selection\n",
    "\n",
    "- the logbook contains all input image path and possibily the order 0 position"
   ]
  },
  {
   "cell_type": "code",
   "execution_count": 39,
   "metadata": {
    "execution": {
     "iopub.execute_input": "2023-09-13T21:12:52.232805Z",
     "iopub.status.busy": "2023-09-13T21:12:52.232689Z",
     "iopub.status.idle": "2023-09-13T21:12:52.476064Z",
     "shell.execute_reply": "2023-09-13T21:12:52.475561Z",
     "shell.execute_reply.started": "2023-09-13T21:12:52.232795Z"
    },
    "tags": []
   },
   "outputs": [
    {
     "name": "stdout",
     "output_type": "stream",
     "text": [
      "auxtellogbook_collimator~holo4_003_20230912_v7.0.csv\n",
      "auxtellogbook_cyl_lens~holo4_001_20230912_v7.0.csv\n",
      "auxtellogbook_cyl_lens~holo4_003_20230912_v7.0.csv\n",
      "auxtellogbook_empty~holo4_001_20230912_v7.0.csv\n",
      "auxtellogbook_empty~holo4_003_20230815_v7.0.csv\n",
      "auxtellogbook_empty~holo4_003_20230817_v7.0.csv\n",
      "auxtellogbook_empty~holo4_003_20230912_v7.0.csv\n"
     ]
    }
   ],
   "source": [
    "!ls logbooks"
   ]
  },
  {
   "cell_type": "code",
   "execution_count": 40,
   "metadata": {
    "execution": {
     "iopub.execute_input": "2023-09-13T21:12:52.477419Z",
     "iopub.status.busy": "2023-09-13T21:12:52.476962Z",
     "iopub.status.idle": "2023-09-13T21:12:52.508911Z",
     "shell.execute_reply": "2023-09-13T21:12:52.508530Z",
     "shell.execute_reply.started": "2023-09-13T21:12:52.477395Z"
    },
    "tags": []
   },
   "outputs": [],
   "source": [
    "filename_logbook='logbooks/auxtellogbook_'+filterdispersername+\"_\"+DATE+'_' + version+'.csv'"
   ]
  },
  {
   "cell_type": "code",
   "execution_count": 41,
   "metadata": {
    "execution": {
     "iopub.execute_input": "2023-09-13T21:12:52.509808Z",
     "iopub.status.busy": "2023-09-13T21:12:52.509628Z",
     "iopub.status.idle": "2023-09-13T21:12:52.537283Z",
     "shell.execute_reply": "2023-09-13T21:12:52.536811Z",
     "shell.execute_reply.started": "2023-09-13T21:12:52.509791Z"
    },
    "tags": []
   },
   "outputs": [
    {
     "data": {
      "text/plain": [
       "'logbooks/auxtellogbook_empty~holo4_001_20230912_v7.0.csv'"
      ]
     },
     "execution_count": 41,
     "metadata": {},
     "output_type": "execute_result"
    }
   ],
   "source": [
    "filename_logbook"
   ]
  },
  {
   "cell_type": "code",
   "execution_count": 42,
   "metadata": {
    "execution": {
     "iopub.execute_input": "2023-09-13T21:12:52.538140Z",
     "iopub.status.busy": "2023-09-13T21:12:52.537954Z",
     "iopub.status.idle": "2023-09-13T21:12:52.573713Z",
     "shell.execute_reply": "2023-09-13T21:12:52.573233Z",
     "shell.execute_reply.started": "2023-09-13T21:12:52.538123Z"
    },
    "tags": []
   },
   "outputs": [],
   "source": [
    "df=pd.read_csv(filename_logbook,index_col=0)"
   ]
  },
  {
   "cell_type": "code",
   "execution_count": 43,
   "metadata": {
    "execution": {
     "iopub.execute_input": "2023-09-13T21:12:52.574565Z",
     "iopub.status.busy": "2023-09-13T21:12:52.574375Z",
     "iopub.status.idle": "2023-09-13T21:12:52.604939Z",
     "shell.execute_reply": "2023-09-13T21:12:52.604329Z",
     "shell.execute_reply.started": "2023-09-13T21:12:52.574549Z"
    },
    "tags": []
   },
   "outputs": [],
   "source": [
    "pd.set_option('display.max_rows', None)"
   ]
  },
  {
   "cell_type": "code",
   "execution_count": 44,
   "metadata": {
    "execution": {
     "iopub.execute_input": "2023-09-13T21:12:52.605865Z",
     "iopub.status.busy": "2023-09-13T21:12:52.605704Z",
     "iopub.status.idle": "2023-09-13T21:12:52.652798Z",
     "shell.execute_reply": "2023-09-13T21:12:52.652408Z",
     "shell.execute_reply.started": "2023-09-13T21:12:52.605851Z"
    },
    "tags": []
   },
   "outputs": [
    {
     "data": {
      "text/html": [
       "<div>\n",
       "<style scoped>\n",
       "    .dataframe tbody tr th:only-of-type {\n",
       "        vertical-align: middle;\n",
       "    }\n",
       "\n",
       "    .dataframe tbody tr th {\n",
       "        vertical-align: top;\n",
       "    }\n",
       "\n",
       "    .dataframe thead th {\n",
       "        text-align: right;\n",
       "    }\n",
       "</style>\n",
       "<table border=\"1\" class=\"dataframe\">\n",
       "  <thead>\n",
       "    <tr style=\"text-align: right;\">\n",
       "      <th></th>\n",
       "      <th>index</th>\n",
       "      <th>date</th>\n",
       "      <th>path</th>\n",
       "      <th>file</th>\n",
       "      <th>num</th>\n",
       "      <th>object</th>\n",
       "      <th>filter</th>\n",
       "      <th>disperser</th>\n",
       "      <th>airmass</th>\n",
       "      <th>exposure</th>\n",
       "      <th>...</th>\n",
       "      <th>temperature</th>\n",
       "      <th>humidity</th>\n",
       "      <th>windspd</th>\n",
       "      <th>Obj-posXpix</th>\n",
       "      <th>Obj-posYpix</th>\n",
       "      <th>Dx</th>\n",
       "      <th>Dy</th>\n",
       "      <th>skip</th>\n",
       "      <th>run</th>\n",
       "      <th>quality</th>\n",
       "    </tr>\n",
       "  </thead>\n",
       "  <tbody>\n",
       "    <tr>\n",
       "      <th>0</th>\n",
       "      <td>0</td>\n",
       "      <td>2023-09-13T00:40:46.134</td>\n",
       "      <td>/home/d/dagoret/rubin-user/DATA/AuxtelData2023...</td>\n",
       "      <td>exposure_2023091200152_pseudo-postisrccd.fits</td>\n",
       "      <td>152</td>\n",
       "      <td>HD312412</td>\n",
       "      <td>empty_1</td>\n",
       "      <td>holo4_001</td>\n",
       "      <td>1.080808</td>\n",
       "      <td>60.0</td>\n",
       "      <td>...</td>\n",
       "      <td>-0.1750</td>\n",
       "      <td>37.525002</td>\n",
       "      <td>5.6712</td>\n",
       "      <td>NaN</td>\n",
       "      <td>NaN</td>\n",
       "      <td>NaN</td>\n",
       "      <td>NaN</td>\n",
       "      <td></td>\n",
       "      <td>NaN</td>\n",
       "      <td>NaN</td>\n",
       "    </tr>\n",
       "    <tr>\n",
       "      <th>1</th>\n",
       "      <td>1</td>\n",
       "      <td>2023-09-13T00:41:59.155</td>\n",
       "      <td>/home/d/dagoret/rubin-user/DATA/AuxtelData2023...</td>\n",
       "      <td>exposure_2023091200153_pseudo-postisrccd.fits</td>\n",
       "      <td>153</td>\n",
       "      <td>HD312412</td>\n",
       "      <td>empty_1</td>\n",
       "      <td>holo4_001</td>\n",
       "      <td>1.082666</td>\n",
       "      <td>90.0</td>\n",
       "      <td>...</td>\n",
       "      <td>-0.1500</td>\n",
       "      <td>38.025002</td>\n",
       "      <td>5.4210</td>\n",
       "      <td>NaN</td>\n",
       "      <td>NaN</td>\n",
       "      <td>NaN</td>\n",
       "      <td>NaN</td>\n",
       "      <td></td>\n",
       "      <td>NaN</td>\n",
       "      <td>NaN</td>\n",
       "    </tr>\n",
       "    <tr>\n",
       "      <th>2</th>\n",
       "      <td>2</td>\n",
       "      <td>2023-09-13T01:51:16.939</td>\n",
       "      <td>/home/d/dagoret/rubin-user/DATA/AuxtelData2023...</td>\n",
       "      <td>exposure_2023091200212_pseudo-postisrccd.fits</td>\n",
       "      <td>212</td>\n",
       "      <td>zet Sgr</td>\n",
       "      <td>empty_1</td>\n",
       "      <td>holo4_001</td>\n",
       "      <td>1.061014</td>\n",
       "      <td>30.0</td>\n",
       "      <td>...</td>\n",
       "      <td>-0.4125</td>\n",
       "      <td>59.349998</td>\n",
       "      <td>4.5870</td>\n",
       "      <td>NaN</td>\n",
       "      <td>NaN</td>\n",
       "      <td>NaN</td>\n",
       "      <td>NaN</td>\n",
       "      <td></td>\n",
       "      <td>NaN</td>\n",
       "      <td>NaN</td>\n",
       "    </tr>\n",
       "    <tr>\n",
       "      <th>3</th>\n",
       "      <td>3</td>\n",
       "      <td>2023-09-13T01:51:59.913</td>\n",
       "      <td>/home/d/dagoret/rubin-user/DATA/AuxtelData2023...</td>\n",
       "      <td>exposure_2023091200213_pseudo-postisrccd.fits</td>\n",
       "      <td>213</td>\n",
       "      <td>zet Sgr</td>\n",
       "      <td>empty_1</td>\n",
       "      <td>holo4_001</td>\n",
       "      <td>1.062033</td>\n",
       "      <td>60.0</td>\n",
       "      <td>...</td>\n",
       "      <td>-0.4000</td>\n",
       "      <td>59.575001</td>\n",
       "      <td>5.0040</td>\n",
       "      <td>NaN</td>\n",
       "      <td>NaN</td>\n",
       "      <td>NaN</td>\n",
       "      <td>NaN</td>\n",
       "      <td></td>\n",
       "      <td>NaN</td>\n",
       "      <td>NaN</td>\n",
       "    </tr>\n",
       "    <tr>\n",
       "      <th>4</th>\n",
       "      <td>4</td>\n",
       "      <td>2023-09-13T01:53:12.923</td>\n",
       "      <td>/home/d/dagoret/rubin-user/DATA/AuxtelData2023...</td>\n",
       "      <td>exposure_2023091200214_pseudo-postisrccd.fits</td>\n",
       "      <td>214</td>\n",
       "      <td>zet Sgr</td>\n",
       "      <td>empty_1</td>\n",
       "      <td>holo4_001</td>\n",
       "      <td>1.063787</td>\n",
       "      <td>90.0</td>\n",
       "      <td>...</td>\n",
       "      <td>-0.5000</td>\n",
       "      <td>60.275002</td>\n",
       "      <td>5.0874</td>\n",
       "      <td>NaN</td>\n",
       "      <td>NaN</td>\n",
       "      <td>NaN</td>\n",
       "      <td>NaN</td>\n",
       "      <td></td>\n",
       "      <td>NaN</td>\n",
       "      <td>NaN</td>\n",
       "    </tr>\n",
       "    <tr>\n",
       "      <th>5</th>\n",
       "      <td>5</td>\n",
       "      <td>2023-09-13T01:58:40.456</td>\n",
       "      <td>/home/d/dagoret/rubin-user/DATA/AuxtelData2023...</td>\n",
       "      <td>exposure_2023091200215_pseudo-postisrccd.fits</td>\n",
       "      <td>215</td>\n",
       "      <td>HD167611</td>\n",
       "      <td>empty_1</td>\n",
       "      <td>holo4_001</td>\n",
       "      <td>1.213810</td>\n",
       "      <td>30.0</td>\n",
       "      <td>...</td>\n",
       "      <td>-0.5000</td>\n",
       "      <td>59.325001</td>\n",
       "      <td>5.4210</td>\n",
       "      <td>NaN</td>\n",
       "      <td>NaN</td>\n",
       "      <td>NaN</td>\n",
       "      <td>NaN</td>\n",
       "      <td></td>\n",
       "      <td>NaN</td>\n",
       "      <td>NaN</td>\n",
       "    </tr>\n",
       "    <tr>\n",
       "      <th>6</th>\n",
       "      <td>6</td>\n",
       "      <td>2023-09-13T01:59:23.484</td>\n",
       "      <td>/home/d/dagoret/rubin-user/DATA/AuxtelData2023...</td>\n",
       "      <td>exposure_2023091200216_pseudo-postisrccd.fits</td>\n",
       "      <td>216</td>\n",
       "      <td>HD167611</td>\n",
       "      <td>empty_1</td>\n",
       "      <td>holo4_001</td>\n",
       "      <td>1.216035</td>\n",
       "      <td>60.0</td>\n",
       "      <td>...</td>\n",
       "      <td>-0.4750</td>\n",
       "      <td>58.924999</td>\n",
       "      <td>6.0882</td>\n",
       "      <td>NaN</td>\n",
       "      <td>NaN</td>\n",
       "      <td>NaN</td>\n",
       "      <td>NaN</td>\n",
       "      <td></td>\n",
       "      <td>NaN</td>\n",
       "      <td>NaN</td>\n",
       "    </tr>\n",
       "    <tr>\n",
       "      <th>7</th>\n",
       "      <td>7</td>\n",
       "      <td>2023-09-13T02:00:36.476</td>\n",
       "      <td>/home/d/dagoret/rubin-user/DATA/AuxtelData2023...</td>\n",
       "      <td>exposure_2023091200217_pseudo-postisrccd.fits</td>\n",
       "      <td>217</td>\n",
       "      <td>HD167611</td>\n",
       "      <td>empty_1</td>\n",
       "      <td>holo4_001</td>\n",
       "      <td>1.219841</td>\n",
       "      <td>90.0</td>\n",
       "      <td>...</td>\n",
       "      <td>-0.5500</td>\n",
       "      <td>60.862499</td>\n",
       "      <td>5.3376</td>\n",
       "      <td>NaN</td>\n",
       "      <td>NaN</td>\n",
       "      <td>NaN</td>\n",
       "      <td>NaN</td>\n",
       "      <td></td>\n",
       "      <td>NaN</td>\n",
       "      <td>NaN</td>\n",
       "    </tr>\n",
       "    <tr>\n",
       "      <th>8</th>\n",
       "      <td>8</td>\n",
       "      <td>2023-09-13T02:23:08.824</td>\n",
       "      <td>/home/d/dagoret/rubin-user/DATA/AuxtelData2023...</td>\n",
       "      <td>exposure_2023091200228_pseudo-postisrccd.fits</td>\n",
       "      <td>228</td>\n",
       "      <td>M18</td>\n",
       "      <td>empty_1</td>\n",
       "      <td>holo4_001</td>\n",
       "      <td>1.300291</td>\n",
       "      <td>30.0</td>\n",
       "      <td>...</td>\n",
       "      <td>-0.7500</td>\n",
       "      <td>65.500000</td>\n",
       "      <td>4.0866</td>\n",
       "      <td>NaN</td>\n",
       "      <td>NaN</td>\n",
       "      <td>NaN</td>\n",
       "      <td>NaN</td>\n",
       "      <td></td>\n",
       "      <td>NaN</td>\n",
       "      <td>NaN</td>\n",
       "    </tr>\n",
       "    <tr>\n",
       "      <th>9</th>\n",
       "      <td>9</td>\n",
       "      <td>2023-09-13T02:23:51.751</td>\n",
       "      <td>/home/d/dagoret/rubin-user/DATA/AuxtelData2023...</td>\n",
       "      <td>exposure_2023091200229_pseudo-postisrccd.fits</td>\n",
       "      <td>229</td>\n",
       "      <td>M18</td>\n",
       "      <td>empty_1</td>\n",
       "      <td>holo4_001</td>\n",
       "      <td>1.303172</td>\n",
       "      <td>60.0</td>\n",
       "      <td>...</td>\n",
       "      <td>-0.7500</td>\n",
       "      <td>65.750000</td>\n",
       "      <td>4.1700</td>\n",
       "      <td>NaN</td>\n",
       "      <td>NaN</td>\n",
       "      <td>NaN</td>\n",
       "      <td>NaN</td>\n",
       "      <td></td>\n",
       "      <td>NaN</td>\n",
       "      <td>NaN</td>\n",
       "    </tr>\n",
       "    <tr>\n",
       "      <th>10</th>\n",
       "      <td>10</td>\n",
       "      <td>2023-09-13T02:25:04.673</td>\n",
       "      <td>/home/d/dagoret/rubin-user/DATA/AuxtelData2023...</td>\n",
       "      <td>exposure_2023091200230_pseudo-postisrccd.fits</td>\n",
       "      <td>230</td>\n",
       "      <td>M18</td>\n",
       "      <td>empty_1</td>\n",
       "      <td>holo4_001</td>\n",
       "      <td>1.308136</td>\n",
       "      <td>90.0</td>\n",
       "      <td>...</td>\n",
       "      <td>-0.7500</td>\n",
       "      <td>66.050003</td>\n",
       "      <td>4.5870</td>\n",
       "      <td>NaN</td>\n",
       "      <td>NaN</td>\n",
       "      <td>NaN</td>\n",
       "      <td>NaN</td>\n",
       "      <td></td>\n",
       "      <td>NaN</td>\n",
       "      <td>NaN</td>\n",
       "    </tr>\n",
       "    <tr>\n",
       "      <th>11</th>\n",
       "      <td>11</td>\n",
       "      <td>2023-09-13T02:46:44.427</td>\n",
       "      <td>/home/d/dagoret/rubin-user/DATA/AuxtelData2023...</td>\n",
       "      <td>exposure_2023091200247_pseudo-postisrccd.fits</td>\n",
       "      <td>247</td>\n",
       "      <td>HD167060</td>\n",
       "      <td>empty_1</td>\n",
       "      <td>holo4_001</td>\n",
       "      <td>1.387406</td>\n",
       "      <td>30.0</td>\n",
       "      <td>...</td>\n",
       "      <td>-0.6750</td>\n",
       "      <td>74.612503</td>\n",
       "      <td>6.5886</td>\n",
       "      <td>NaN</td>\n",
       "      <td>NaN</td>\n",
       "      <td>NaN</td>\n",
       "      <td>NaN</td>\n",
       "      <td></td>\n",
       "      <td>NaN</td>\n",
       "      <td>NaN</td>\n",
       "    </tr>\n",
       "    <tr>\n",
       "      <th>12</th>\n",
       "      <td>12</td>\n",
       "      <td>2023-09-13T02:47:27.432</td>\n",
       "      <td>/home/d/dagoret/rubin-user/DATA/AuxtelData2023...</td>\n",
       "      <td>exposure_2023091200248_pseudo-postisrccd.fits</td>\n",
       "      <td>248</td>\n",
       "      <td>HD167060</td>\n",
       "      <td>empty_1</td>\n",
       "      <td>holo4_001</td>\n",
       "      <td>1.389227</td>\n",
       "      <td>30.0</td>\n",
       "      <td>...</td>\n",
       "      <td>-0.5750</td>\n",
       "      <td>73.949997</td>\n",
       "      <td>5.9214</td>\n",
       "      <td>NaN</td>\n",
       "      <td>NaN</td>\n",
       "      <td>NaN</td>\n",
       "      <td>NaN</td>\n",
       "      <td></td>\n",
       "      <td>NaN</td>\n",
       "      <td>NaN</td>\n",
       "    </tr>\n",
       "    <tr>\n",
       "      <th>13</th>\n",
       "      <td>13</td>\n",
       "      <td>2023-09-13T02:57:40.240</td>\n",
       "      <td>/home/d/dagoret/rubin-user/DATA/AuxtelData2023...</td>\n",
       "      <td>exposure_2023091200262_pseudo-postisrccd.fits</td>\n",
       "      <td>262</td>\n",
       "      <td>Feige110</td>\n",
       "      <td>empty_1</td>\n",
       "      <td>holo4_001</td>\n",
       "      <td>1.211593</td>\n",
       "      <td>30.0</td>\n",
       "      <td>...</td>\n",
       "      <td>-0.6500</td>\n",
       "      <td>77.224998</td>\n",
       "      <td>5.5878</td>\n",
       "      <td>NaN</td>\n",
       "      <td>NaN</td>\n",
       "      <td>NaN</td>\n",
       "      <td>NaN</td>\n",
       "      <td></td>\n",
       "      <td>NaN</td>\n",
       "      <td>NaN</td>\n",
       "    </tr>\n",
       "    <tr>\n",
       "      <th>14</th>\n",
       "      <td>14</td>\n",
       "      <td>2023-09-13T02:58:23.261</td>\n",
       "      <td>/home/d/dagoret/rubin-user/DATA/AuxtelData2023...</td>\n",
       "      <td>exposure_2023091200263_pseudo-postisrccd.fits</td>\n",
       "      <td>263</td>\n",
       "      <td>Feige110</td>\n",
       "      <td>empty_1</td>\n",
       "      <td>holo4_001</td>\n",
       "      <td>1.209936</td>\n",
       "      <td>30.0</td>\n",
       "      <td>...</td>\n",
       "      <td>-0.6750</td>\n",
       "      <td>77.724998</td>\n",
       "      <td>5.0874</td>\n",
       "      <td>NaN</td>\n",
       "      <td>NaN</td>\n",
       "      <td>NaN</td>\n",
       "      <td>NaN</td>\n",
       "      <td></td>\n",
       "      <td>NaN</td>\n",
       "      <td>NaN</td>\n",
       "    </tr>\n",
       "    <tr>\n",
       "      <th>15</th>\n",
       "      <td>15</td>\n",
       "      <td>2023-09-13T03:07:29.442</td>\n",
       "      <td>/home/d/dagoret/rubin-user/DATA/AuxtelData2023...</td>\n",
       "      <td>exposure_2023091200277_pseudo-postisrccd.fits</td>\n",
       "      <td>277</td>\n",
       "      <td>HD009051</td>\n",
       "      <td>empty_1</td>\n",
       "      <td>holo4_001</td>\n",
       "      <td>1.506659</td>\n",
       "      <td>30.0</td>\n",
       "      <td>...</td>\n",
       "      <td>-0.6500</td>\n",
       "      <td>76.574997</td>\n",
       "      <td>5.2542</td>\n",
       "      <td>NaN</td>\n",
       "      <td>NaN</td>\n",
       "      <td>NaN</td>\n",
       "      <td>NaN</td>\n",
       "      <td></td>\n",
       "      <td>NaN</td>\n",
       "      <td>NaN</td>\n",
       "    </tr>\n",
       "    <tr>\n",
       "      <th>16</th>\n",
       "      <td>16</td>\n",
       "      <td>2023-09-13T03:08:12.476</td>\n",
       "      <td>/home/d/dagoret/rubin-user/DATA/AuxtelData2023...</td>\n",
       "      <td>exposure_2023091200278_pseudo-postisrccd.fits</td>\n",
       "      <td>278</td>\n",
       "      <td>HD009051</td>\n",
       "      <td>empty_1</td>\n",
       "      <td>holo4_001</td>\n",
       "      <td>1.502118</td>\n",
       "      <td>30.0</td>\n",
       "      <td>...</td>\n",
       "      <td>-0.6500</td>\n",
       "      <td>76.762497</td>\n",
       "      <td>6.7554</td>\n",
       "      <td>NaN</td>\n",
       "      <td>NaN</td>\n",
       "      <td>NaN</td>\n",
       "      <td>NaN</td>\n",
       "      <td></td>\n",
       "      <td>NaN</td>\n",
       "      <td>NaN</td>\n",
       "    </tr>\n",
       "    <tr>\n",
       "      <th>17</th>\n",
       "      <td>17</td>\n",
       "      <td>2023-09-13T03:17:04.415</td>\n",
       "      <td>/home/d/dagoret/rubin-user/DATA/AuxtelData2023...</td>\n",
       "      <td>exposure_2023091200292_pseudo-postisrccd.fits</td>\n",
       "      <td>292</td>\n",
       "      <td>HD2811</td>\n",
       "      <td>empty_1</td>\n",
       "      <td>holo4_001</td>\n",
       "      <td>1.187750</td>\n",
       "      <td>30.0</td>\n",
       "      <td>...</td>\n",
       "      <td>-0.4750</td>\n",
       "      <td>68.574997</td>\n",
       "      <td>6.2550</td>\n",
       "      <td>NaN</td>\n",
       "      <td>NaN</td>\n",
       "      <td>NaN</td>\n",
       "      <td>NaN</td>\n",
       "      <td></td>\n",
       "      <td>NaN</td>\n",
       "      <td>NaN</td>\n",
       "    </tr>\n",
       "    <tr>\n",
       "      <th>18</th>\n",
       "      <td>18</td>\n",
       "      <td>2023-09-13T03:17:47.409</td>\n",
       "      <td>/home/d/dagoret/rubin-user/DATA/AuxtelData2023...</td>\n",
       "      <td>exposure_2023091200293_pseudo-postisrccd.fits</td>\n",
       "      <td>293</td>\n",
       "      <td>HD2811</td>\n",
       "      <td>empty_1</td>\n",
       "      <td>holo4_001</td>\n",
       "      <td>1.186056</td>\n",
       "      <td>30.0</td>\n",
       "      <td>...</td>\n",
       "      <td>-0.4750</td>\n",
       "      <td>68.375000</td>\n",
       "      <td>6.2550</td>\n",
       "      <td>NaN</td>\n",
       "      <td>NaN</td>\n",
       "      <td>NaN</td>\n",
       "      <td>NaN</td>\n",
       "      <td></td>\n",
       "      <td>NaN</td>\n",
       "      <td>NaN</td>\n",
       "    </tr>\n",
       "    <tr>\n",
       "      <th>19</th>\n",
       "      <td>19</td>\n",
       "      <td>2023-09-13T03:27:59.142</td>\n",
       "      <td>/home/d/dagoret/rubin-user/DATA/AuxtelData2023...</td>\n",
       "      <td>exposure_2023091200307_pseudo-postisrccd.fits</td>\n",
       "      <td>307</td>\n",
       "      <td>HD205905</td>\n",
       "      <td>empty_1</td>\n",
       "      <td>holo4_001</td>\n",
       "      <td>1.008411</td>\n",
       "      <td>30.0</td>\n",
       "      <td>...</td>\n",
       "      <td>-0.5500</td>\n",
       "      <td>69.800003</td>\n",
       "      <td>5.9214</td>\n",
       "      <td>NaN</td>\n",
       "      <td>NaN</td>\n",
       "      <td>NaN</td>\n",
       "      <td>NaN</td>\n",
       "      <td></td>\n",
       "      <td>NaN</td>\n",
       "      <td>NaN</td>\n",
       "    </tr>\n",
       "    <tr>\n",
       "      <th>20</th>\n",
       "      <td>20</td>\n",
       "      <td>2023-09-13T03:28:42.167</td>\n",
       "      <td>/home/d/dagoret/rubin-user/DATA/AuxtelData2023...</td>\n",
       "      <td>exposure_2023091200308_pseudo-postisrccd.fits</td>\n",
       "      <td>308</td>\n",
       "      <td>HD205905</td>\n",
       "      <td>empty_1</td>\n",
       "      <td>holo4_001</td>\n",
       "      <td>1.008743</td>\n",
       "      <td>30.0</td>\n",
       "      <td>...</td>\n",
       "      <td>-0.5500</td>\n",
       "      <td>69.750000</td>\n",
       "      <td>6.0882</td>\n",
       "      <td>NaN</td>\n",
       "      <td>NaN</td>\n",
       "      <td>NaN</td>\n",
       "      <td>NaN</td>\n",
       "      <td></td>\n",
       "      <td>NaN</td>\n",
       "      <td>NaN</td>\n",
       "    </tr>\n",
       "    <tr>\n",
       "      <th>21</th>\n",
       "      <td>21</td>\n",
       "      <td>2023-09-13T03:43:07.955</td>\n",
       "      <td>/home/d/dagoret/rubin-user/DATA/AuxtelData2023...</td>\n",
       "      <td>exposure_2023091200322_pseudo-postisrccd.fits</td>\n",
       "      <td>322</td>\n",
       "      <td>HD14943</td>\n",
       "      <td>empty_1</td>\n",
       "      <td>holo4_001</td>\n",
       "      <td>1.489711</td>\n",
       "      <td>30.0</td>\n",
       "      <td>...</td>\n",
       "      <td>-0.6000</td>\n",
       "      <td>69.150002</td>\n",
       "      <td>7.1724</td>\n",
       "      <td>NaN</td>\n",
       "      <td>NaN</td>\n",
       "      <td>NaN</td>\n",
       "      <td>NaN</td>\n",
       "      <td></td>\n",
       "      <td>NaN</td>\n",
       "      <td>NaN</td>\n",
       "    </tr>\n",
       "    <tr>\n",
       "      <th>22</th>\n",
       "      <td>22</td>\n",
       "      <td>2023-09-13T03:43:50.908</td>\n",
       "      <td>/home/d/dagoret/rubin-user/DATA/AuxtelData2023...</td>\n",
       "      <td>exposure_2023091200323_pseudo-postisrccd.fits</td>\n",
       "      <td>323</td>\n",
       "      <td>HD14943</td>\n",
       "      <td>empty_1</td>\n",
       "      <td>holo4_001</td>\n",
       "      <td>1.486494</td>\n",
       "      <td>30.0</td>\n",
       "      <td>...</td>\n",
       "      <td>-0.6000</td>\n",
       "      <td>67.675003</td>\n",
       "      <td>7.4226</td>\n",
       "      <td>NaN</td>\n",
       "      <td>NaN</td>\n",
       "      <td>NaN</td>\n",
       "      <td>NaN</td>\n",
       "      <td></td>\n",
       "      <td>NaN</td>\n",
       "      <td>NaN</td>\n",
       "    </tr>\n",
       "    <tr>\n",
       "      <th>23</th>\n",
       "      <td>23</td>\n",
       "      <td>2023-09-13T03:55:09.994</td>\n",
       "      <td>/home/d/dagoret/rubin-user/DATA/AuxtelData2023...</td>\n",
       "      <td>exposure_2023091200337_pseudo-postisrccd.fits</td>\n",
       "      <td>337</td>\n",
       "      <td>HD009051</td>\n",
       "      <td>empty_1</td>\n",
       "      <td>holo4_001</td>\n",
       "      <td>1.271517</td>\n",
       "      <td>30.0</td>\n",
       "      <td>...</td>\n",
       "      <td>-0.5250</td>\n",
       "      <td>62.575001</td>\n",
       "      <td>7.5894</td>\n",
       "      <td>NaN</td>\n",
       "      <td>NaN</td>\n",
       "      <td>NaN</td>\n",
       "      <td>NaN</td>\n",
       "      <td></td>\n",
       "      <td>NaN</td>\n",
       "      <td>NaN</td>\n",
       "    </tr>\n",
       "    <tr>\n",
       "      <th>24</th>\n",
       "      <td>24</td>\n",
       "      <td>2023-09-13T03:55:53.009</td>\n",
       "      <td>/home/d/dagoret/rubin-user/DATA/AuxtelData2023...</td>\n",
       "      <td>exposure_2023091200338_pseudo-postisrccd.fits</td>\n",
       "      <td>338</td>\n",
       "      <td>HD009051</td>\n",
       "      <td>empty_1</td>\n",
       "      <td>holo4_001</td>\n",
       "      <td>1.268826</td>\n",
       "      <td>30.0</td>\n",
       "      <td>...</td>\n",
       "      <td>-0.5000</td>\n",
       "      <td>61.737499</td>\n",
       "      <td>7.0056</td>\n",
       "      <td>NaN</td>\n",
       "      <td>NaN</td>\n",
       "      <td>NaN</td>\n",
       "      <td>NaN</td>\n",
       "      <td></td>\n",
       "      <td>NaN</td>\n",
       "      <td>NaN</td>\n",
       "    </tr>\n",
       "    <tr>\n",
       "      <th>25</th>\n",
       "      <td>25</td>\n",
       "      <td>2023-09-13T04:05:49.452</td>\n",
       "      <td>/home/d/dagoret/rubin-user/DATA/AuxtelData2023...</td>\n",
       "      <td>exposure_2023091200352_pseudo-postisrccd.fits</td>\n",
       "      <td>352</td>\n",
       "      <td>HD205905</td>\n",
       "      <td>empty_1</td>\n",
       "      <td>holo4_001</td>\n",
       "      <td>1.037127</td>\n",
       "      <td>30.0</td>\n",
       "      <td>...</td>\n",
       "      <td>-0.6000</td>\n",
       "      <td>69.074997</td>\n",
       "      <td>7.2558</td>\n",
       "      <td>NaN</td>\n",
       "      <td>NaN</td>\n",
       "      <td>NaN</td>\n",
       "      <td>NaN</td>\n",
       "      <td></td>\n",
       "      <td>NaN</td>\n",
       "      <td>NaN</td>\n",
       "    </tr>\n",
       "    <tr>\n",
       "      <th>26</th>\n",
       "      <td>26</td>\n",
       "      <td>2023-09-13T04:06:32.457</td>\n",
       "      <td>/home/d/dagoret/rubin-user/DATA/AuxtelData2023...</td>\n",
       "      <td>exposure_2023091200353_pseudo-postisrccd.fits</td>\n",
       "      <td>353</td>\n",
       "      <td>HD205905</td>\n",
       "      <td>empty_1</td>\n",
       "      <td>holo4_001</td>\n",
       "      <td>1.037898</td>\n",
       "      <td>30.0</td>\n",
       "      <td>...</td>\n",
       "      <td>-0.6000</td>\n",
       "      <td>69.250000</td>\n",
       "      <td>7.5894</td>\n",
       "      <td>NaN</td>\n",
       "      <td>NaN</td>\n",
       "      <td>NaN</td>\n",
       "      <td>NaN</td>\n",
       "      <td></td>\n",
       "      <td>NaN</td>\n",
       "      <td>NaN</td>\n",
       "    </tr>\n",
       "    <tr>\n",
       "      <th>27</th>\n",
       "      <td>27</td>\n",
       "      <td>2023-09-13T04:16:20.243</td>\n",
       "      <td>/home/d/dagoret/rubin-user/DATA/AuxtelData2023...</td>\n",
       "      <td>exposure_2023091200367_pseudo-postisrccd.fits</td>\n",
       "      <td>367</td>\n",
       "      <td>HD2811</td>\n",
       "      <td>empty_1</td>\n",
       "      <td>holo4_001</td>\n",
       "      <td>1.082445</td>\n",
       "      <td>30.0</td>\n",
       "      <td>...</td>\n",
       "      <td>-0.6750</td>\n",
       "      <td>69.324997</td>\n",
       "      <td>7.0056</td>\n",
       "      <td>NaN</td>\n",
       "      <td>NaN</td>\n",
       "      <td>NaN</td>\n",
       "      <td>NaN</td>\n",
       "      <td></td>\n",
       "      <td>NaN</td>\n",
       "      <td>NaN</td>\n",
       "    </tr>\n",
       "    <tr>\n",
       "      <th>28</th>\n",
       "      <td>28</td>\n",
       "      <td>2023-09-13T04:17:03.260</td>\n",
       "      <td>/home/d/dagoret/rubin-user/DATA/AuxtelData2023...</td>\n",
       "      <td>exposure_2023091200368_pseudo-postisrccd.fits</td>\n",
       "      <td>368</td>\n",
       "      <td>HD2811</td>\n",
       "      <td>empty_1</td>\n",
       "      <td>holo4_001</td>\n",
       "      <td>1.081548</td>\n",
       "      <td>30.0</td>\n",
       "      <td>...</td>\n",
       "      <td>-0.7000</td>\n",
       "      <td>69.949997</td>\n",
       "      <td>6.8388</td>\n",
       "      <td>NaN</td>\n",
       "      <td>NaN</td>\n",
       "      <td>NaN</td>\n",
       "      <td>NaN</td>\n",
       "      <td></td>\n",
       "      <td>NaN</td>\n",
       "      <td>NaN</td>\n",
       "    </tr>\n",
       "    <tr>\n",
       "      <th>29</th>\n",
       "      <td>29</td>\n",
       "      <td>2023-09-13T04:25:42.725</td>\n",
       "      <td>/home/d/dagoret/rubin-user/DATA/AuxtelData2023...</td>\n",
       "      <td>exposure_2023091200382_pseudo-postisrccd.fits</td>\n",
       "      <td>382</td>\n",
       "      <td>HD14943</td>\n",
       "      <td>empty_1</td>\n",
       "      <td>holo4_001</td>\n",
       "      <td>1.328674</td>\n",
       "      <td>30.0</td>\n",
       "      <td>...</td>\n",
       "      <td>-0.6500</td>\n",
       "      <td>71.199997</td>\n",
       "      <td>7.2558</td>\n",
       "      <td>NaN</td>\n",
       "      <td>NaN</td>\n",
       "      <td>NaN</td>\n",
       "      <td>NaN</td>\n",
       "      <td></td>\n",
       "      <td>NaN</td>\n",
       "      <td>NaN</td>\n",
       "    </tr>\n",
       "    <tr>\n",
       "      <th>30</th>\n",
       "      <td>30</td>\n",
       "      <td>2023-09-13T04:26:25.675</td>\n",
       "      <td>/home/d/dagoret/rubin-user/DATA/AuxtelData2023...</td>\n",
       "      <td>exposure_2023091200383_pseudo-postisrccd.fits</td>\n",
       "      <td>383</td>\n",
       "      <td>HD14943</td>\n",
       "      <td>empty_1</td>\n",
       "      <td>holo4_001</td>\n",
       "      <td>1.326430</td>\n",
       "      <td>30.0</td>\n",
       "      <td>...</td>\n",
       "      <td>-0.5875</td>\n",
       "      <td>69.875000</td>\n",
       "      <td>7.5894</td>\n",
       "      <td>NaN</td>\n",
       "      <td>NaN</td>\n",
       "      <td>NaN</td>\n",
       "      <td>NaN</td>\n",
       "      <td></td>\n",
       "      <td>NaN</td>\n",
       "      <td>NaN</td>\n",
       "    </tr>\n",
       "    <tr>\n",
       "      <th>31</th>\n",
       "      <td>31</td>\n",
       "      <td>2023-09-13T04:36:05.476</td>\n",
       "      <td>/home/d/dagoret/rubin-user/DATA/AuxtelData2023...</td>\n",
       "      <td>exposure_2023091200397_pseudo-postisrccd.fits</td>\n",
       "      <td>397</td>\n",
       "      <td>HD205905</td>\n",
       "      <td>empty_1</td>\n",
       "      <td>holo4_001</td>\n",
       "      <td>1.077792</td>\n",
       "      <td>30.0</td>\n",
       "      <td>...</td>\n",
       "      <td>-0.6375</td>\n",
       "      <td>74.199997</td>\n",
       "      <td>6.5052</td>\n",
       "      <td>NaN</td>\n",
       "      <td>NaN</td>\n",
       "      <td>NaN</td>\n",
       "      <td>NaN</td>\n",
       "      <td></td>\n",
       "      <td>NaN</td>\n",
       "      <td>NaN</td>\n",
       "    </tr>\n",
       "    <tr>\n",
       "      <th>32</th>\n",
       "      <td>32</td>\n",
       "      <td>2023-09-13T04:36:48.486</td>\n",
       "      <td>/home/d/dagoret/rubin-user/DATA/AuxtelData2023...</td>\n",
       "      <td>exposure_2023091200398_pseudo-postisrccd.fits</td>\n",
       "      <td>398</td>\n",
       "      <td>HD205905</td>\n",
       "      <td>empty_1</td>\n",
       "      <td>holo4_001</td>\n",
       "      <td>1.078970</td>\n",
       "      <td>30.0</td>\n",
       "      <td>...</td>\n",
       "      <td>-0.7000</td>\n",
       "      <td>74.050003</td>\n",
       "      <td>6.5052</td>\n",
       "      <td>NaN</td>\n",
       "      <td>NaN</td>\n",
       "      <td>NaN</td>\n",
       "      <td>NaN</td>\n",
       "      <td></td>\n",
       "      <td>NaN</td>\n",
       "      <td>NaN</td>\n",
       "    </tr>\n",
       "    <tr>\n",
       "      <th>33</th>\n",
       "      <td>33</td>\n",
       "      <td>2023-09-13T04:55:15.160</td>\n",
       "      <td>/home/d/dagoret/rubin-user/DATA/AuxtelData2023...</td>\n",
       "      <td>exposure_2023091200421_pseudo-postisrccd.fits</td>\n",
       "      <td>421</td>\n",
       "      <td>HD2811</td>\n",
       "      <td>empty_1</td>\n",
       "      <td>holo4_001</td>\n",
       "      <td>1.044994</td>\n",
       "      <td>30.0</td>\n",
       "      <td>...</td>\n",
       "      <td>-0.6750</td>\n",
       "      <td>76.775002</td>\n",
       "      <td>7.2558</td>\n",
       "      <td>NaN</td>\n",
       "      <td>NaN</td>\n",
       "      <td>NaN</td>\n",
       "      <td>NaN</td>\n",
       "      <td></td>\n",
       "      <td>NaN</td>\n",
       "      <td>NaN</td>\n",
       "    </tr>\n",
       "    <tr>\n",
       "      <th>34</th>\n",
       "      <td>34</td>\n",
       "      <td>2023-09-13T04:55:58.171</td>\n",
       "      <td>/home/d/dagoret/rubin-user/DATA/AuxtelData2023...</td>\n",
       "      <td>exposure_2023091200422_pseudo-postisrccd.fits</td>\n",
       "      <td>422</td>\n",
       "      <td>HD2811</td>\n",
       "      <td>empty_1</td>\n",
       "      <td>holo4_001</td>\n",
       "      <td>1.044504</td>\n",
       "      <td>30.0</td>\n",
       "      <td>...</td>\n",
       "      <td>-0.7125</td>\n",
       "      <td>76.462502</td>\n",
       "      <td>7.5894</td>\n",
       "      <td>NaN</td>\n",
       "      <td>NaN</td>\n",
       "      <td>NaN</td>\n",
       "      <td>NaN</td>\n",
       "      <td></td>\n",
       "      <td>NaN</td>\n",
       "      <td>NaN</td>\n",
       "    </tr>\n",
       "  </tbody>\n",
       "</table>\n",
       "<p>35 rows × 23 columns</p>\n",
       "</div>"
      ],
      "text/plain": [
       "    index                     date  \\\n",
       "0       0  2023-09-13T00:40:46.134   \n",
       "1       1  2023-09-13T00:41:59.155   \n",
       "2       2  2023-09-13T01:51:16.939   \n",
       "3       3  2023-09-13T01:51:59.913   \n",
       "4       4  2023-09-13T01:53:12.923   \n",
       "5       5  2023-09-13T01:58:40.456   \n",
       "6       6  2023-09-13T01:59:23.484   \n",
       "7       7  2023-09-13T02:00:36.476   \n",
       "8       8  2023-09-13T02:23:08.824   \n",
       "9       9  2023-09-13T02:23:51.751   \n",
       "10     10  2023-09-13T02:25:04.673   \n",
       "11     11  2023-09-13T02:46:44.427   \n",
       "12     12  2023-09-13T02:47:27.432   \n",
       "13     13  2023-09-13T02:57:40.240   \n",
       "14     14  2023-09-13T02:58:23.261   \n",
       "15     15  2023-09-13T03:07:29.442   \n",
       "16     16  2023-09-13T03:08:12.476   \n",
       "17     17  2023-09-13T03:17:04.415   \n",
       "18     18  2023-09-13T03:17:47.409   \n",
       "19     19  2023-09-13T03:27:59.142   \n",
       "20     20  2023-09-13T03:28:42.167   \n",
       "21     21  2023-09-13T03:43:07.955   \n",
       "22     22  2023-09-13T03:43:50.908   \n",
       "23     23  2023-09-13T03:55:09.994   \n",
       "24     24  2023-09-13T03:55:53.009   \n",
       "25     25  2023-09-13T04:05:49.452   \n",
       "26     26  2023-09-13T04:06:32.457   \n",
       "27     27  2023-09-13T04:16:20.243   \n",
       "28     28  2023-09-13T04:17:03.260   \n",
       "29     29  2023-09-13T04:25:42.725   \n",
       "30     30  2023-09-13T04:26:25.675   \n",
       "31     31  2023-09-13T04:36:05.476   \n",
       "32     32  2023-09-13T04:36:48.486   \n",
       "33     33  2023-09-13T04:55:15.160   \n",
       "34     34  2023-09-13T04:55:58.171   \n",
       "\n",
       "                                                 path  \\\n",
       "0   /home/d/dagoret/rubin-user/DATA/AuxtelData2023...   \n",
       "1   /home/d/dagoret/rubin-user/DATA/AuxtelData2023...   \n",
       "2   /home/d/dagoret/rubin-user/DATA/AuxtelData2023...   \n",
       "3   /home/d/dagoret/rubin-user/DATA/AuxtelData2023...   \n",
       "4   /home/d/dagoret/rubin-user/DATA/AuxtelData2023...   \n",
       "5   /home/d/dagoret/rubin-user/DATA/AuxtelData2023...   \n",
       "6   /home/d/dagoret/rubin-user/DATA/AuxtelData2023...   \n",
       "7   /home/d/dagoret/rubin-user/DATA/AuxtelData2023...   \n",
       "8   /home/d/dagoret/rubin-user/DATA/AuxtelData2023...   \n",
       "9   /home/d/dagoret/rubin-user/DATA/AuxtelData2023...   \n",
       "10  /home/d/dagoret/rubin-user/DATA/AuxtelData2023...   \n",
       "11  /home/d/dagoret/rubin-user/DATA/AuxtelData2023...   \n",
       "12  /home/d/dagoret/rubin-user/DATA/AuxtelData2023...   \n",
       "13  /home/d/dagoret/rubin-user/DATA/AuxtelData2023...   \n",
       "14  /home/d/dagoret/rubin-user/DATA/AuxtelData2023...   \n",
       "15  /home/d/dagoret/rubin-user/DATA/AuxtelData2023...   \n",
       "16  /home/d/dagoret/rubin-user/DATA/AuxtelData2023...   \n",
       "17  /home/d/dagoret/rubin-user/DATA/AuxtelData2023...   \n",
       "18  /home/d/dagoret/rubin-user/DATA/AuxtelData2023...   \n",
       "19  /home/d/dagoret/rubin-user/DATA/AuxtelData2023...   \n",
       "20  /home/d/dagoret/rubin-user/DATA/AuxtelData2023...   \n",
       "21  /home/d/dagoret/rubin-user/DATA/AuxtelData2023...   \n",
       "22  /home/d/dagoret/rubin-user/DATA/AuxtelData2023...   \n",
       "23  /home/d/dagoret/rubin-user/DATA/AuxtelData2023...   \n",
       "24  /home/d/dagoret/rubin-user/DATA/AuxtelData2023...   \n",
       "25  /home/d/dagoret/rubin-user/DATA/AuxtelData2023...   \n",
       "26  /home/d/dagoret/rubin-user/DATA/AuxtelData2023...   \n",
       "27  /home/d/dagoret/rubin-user/DATA/AuxtelData2023...   \n",
       "28  /home/d/dagoret/rubin-user/DATA/AuxtelData2023...   \n",
       "29  /home/d/dagoret/rubin-user/DATA/AuxtelData2023...   \n",
       "30  /home/d/dagoret/rubin-user/DATA/AuxtelData2023...   \n",
       "31  /home/d/dagoret/rubin-user/DATA/AuxtelData2023...   \n",
       "32  /home/d/dagoret/rubin-user/DATA/AuxtelData2023...   \n",
       "33  /home/d/dagoret/rubin-user/DATA/AuxtelData2023...   \n",
       "34  /home/d/dagoret/rubin-user/DATA/AuxtelData2023...   \n",
       "\n",
       "                                             file  num    object   filter  \\\n",
       "0   exposure_2023091200152_pseudo-postisrccd.fits  152  HD312412  empty_1   \n",
       "1   exposure_2023091200153_pseudo-postisrccd.fits  153  HD312412  empty_1   \n",
       "2   exposure_2023091200212_pseudo-postisrccd.fits  212   zet Sgr  empty_1   \n",
       "3   exposure_2023091200213_pseudo-postisrccd.fits  213   zet Sgr  empty_1   \n",
       "4   exposure_2023091200214_pseudo-postisrccd.fits  214   zet Sgr  empty_1   \n",
       "5   exposure_2023091200215_pseudo-postisrccd.fits  215  HD167611  empty_1   \n",
       "6   exposure_2023091200216_pseudo-postisrccd.fits  216  HD167611  empty_1   \n",
       "7   exposure_2023091200217_pseudo-postisrccd.fits  217  HD167611  empty_1   \n",
       "8   exposure_2023091200228_pseudo-postisrccd.fits  228       M18  empty_1   \n",
       "9   exposure_2023091200229_pseudo-postisrccd.fits  229       M18  empty_1   \n",
       "10  exposure_2023091200230_pseudo-postisrccd.fits  230       M18  empty_1   \n",
       "11  exposure_2023091200247_pseudo-postisrccd.fits  247  HD167060  empty_1   \n",
       "12  exposure_2023091200248_pseudo-postisrccd.fits  248  HD167060  empty_1   \n",
       "13  exposure_2023091200262_pseudo-postisrccd.fits  262  Feige110  empty_1   \n",
       "14  exposure_2023091200263_pseudo-postisrccd.fits  263  Feige110  empty_1   \n",
       "15  exposure_2023091200277_pseudo-postisrccd.fits  277  HD009051  empty_1   \n",
       "16  exposure_2023091200278_pseudo-postisrccd.fits  278  HD009051  empty_1   \n",
       "17  exposure_2023091200292_pseudo-postisrccd.fits  292    HD2811  empty_1   \n",
       "18  exposure_2023091200293_pseudo-postisrccd.fits  293    HD2811  empty_1   \n",
       "19  exposure_2023091200307_pseudo-postisrccd.fits  307  HD205905  empty_1   \n",
       "20  exposure_2023091200308_pseudo-postisrccd.fits  308  HD205905  empty_1   \n",
       "21  exposure_2023091200322_pseudo-postisrccd.fits  322   HD14943  empty_1   \n",
       "22  exposure_2023091200323_pseudo-postisrccd.fits  323   HD14943  empty_1   \n",
       "23  exposure_2023091200337_pseudo-postisrccd.fits  337  HD009051  empty_1   \n",
       "24  exposure_2023091200338_pseudo-postisrccd.fits  338  HD009051  empty_1   \n",
       "25  exposure_2023091200352_pseudo-postisrccd.fits  352  HD205905  empty_1   \n",
       "26  exposure_2023091200353_pseudo-postisrccd.fits  353  HD205905  empty_1   \n",
       "27  exposure_2023091200367_pseudo-postisrccd.fits  367    HD2811  empty_1   \n",
       "28  exposure_2023091200368_pseudo-postisrccd.fits  368    HD2811  empty_1   \n",
       "29  exposure_2023091200382_pseudo-postisrccd.fits  382   HD14943  empty_1   \n",
       "30  exposure_2023091200383_pseudo-postisrccd.fits  383   HD14943  empty_1   \n",
       "31  exposure_2023091200397_pseudo-postisrccd.fits  397  HD205905  empty_1   \n",
       "32  exposure_2023091200398_pseudo-postisrccd.fits  398  HD205905  empty_1   \n",
       "33  exposure_2023091200421_pseudo-postisrccd.fits  421    HD2811  empty_1   \n",
       "34  exposure_2023091200422_pseudo-postisrccd.fits  422    HD2811  empty_1   \n",
       "\n",
       "    disperser   airmass  exposure  ...  temperature   humidity  windspd  \\\n",
       "0   holo4_001  1.080808      60.0  ...      -0.1750  37.525002   5.6712   \n",
       "1   holo4_001  1.082666      90.0  ...      -0.1500  38.025002   5.4210   \n",
       "2   holo4_001  1.061014      30.0  ...      -0.4125  59.349998   4.5870   \n",
       "3   holo4_001  1.062033      60.0  ...      -0.4000  59.575001   5.0040   \n",
       "4   holo4_001  1.063787      90.0  ...      -0.5000  60.275002   5.0874   \n",
       "5   holo4_001  1.213810      30.0  ...      -0.5000  59.325001   5.4210   \n",
       "6   holo4_001  1.216035      60.0  ...      -0.4750  58.924999   6.0882   \n",
       "7   holo4_001  1.219841      90.0  ...      -0.5500  60.862499   5.3376   \n",
       "8   holo4_001  1.300291      30.0  ...      -0.7500  65.500000   4.0866   \n",
       "9   holo4_001  1.303172      60.0  ...      -0.7500  65.750000   4.1700   \n",
       "10  holo4_001  1.308136      90.0  ...      -0.7500  66.050003   4.5870   \n",
       "11  holo4_001  1.387406      30.0  ...      -0.6750  74.612503   6.5886   \n",
       "12  holo4_001  1.389227      30.0  ...      -0.5750  73.949997   5.9214   \n",
       "13  holo4_001  1.211593      30.0  ...      -0.6500  77.224998   5.5878   \n",
       "14  holo4_001  1.209936      30.0  ...      -0.6750  77.724998   5.0874   \n",
       "15  holo4_001  1.506659      30.0  ...      -0.6500  76.574997   5.2542   \n",
       "16  holo4_001  1.502118      30.0  ...      -0.6500  76.762497   6.7554   \n",
       "17  holo4_001  1.187750      30.0  ...      -0.4750  68.574997   6.2550   \n",
       "18  holo4_001  1.186056      30.0  ...      -0.4750  68.375000   6.2550   \n",
       "19  holo4_001  1.008411      30.0  ...      -0.5500  69.800003   5.9214   \n",
       "20  holo4_001  1.008743      30.0  ...      -0.5500  69.750000   6.0882   \n",
       "21  holo4_001  1.489711      30.0  ...      -0.6000  69.150002   7.1724   \n",
       "22  holo4_001  1.486494      30.0  ...      -0.6000  67.675003   7.4226   \n",
       "23  holo4_001  1.271517      30.0  ...      -0.5250  62.575001   7.5894   \n",
       "24  holo4_001  1.268826      30.0  ...      -0.5000  61.737499   7.0056   \n",
       "25  holo4_001  1.037127      30.0  ...      -0.6000  69.074997   7.2558   \n",
       "26  holo4_001  1.037898      30.0  ...      -0.6000  69.250000   7.5894   \n",
       "27  holo4_001  1.082445      30.0  ...      -0.6750  69.324997   7.0056   \n",
       "28  holo4_001  1.081548      30.0  ...      -0.7000  69.949997   6.8388   \n",
       "29  holo4_001  1.328674      30.0  ...      -0.6500  71.199997   7.2558   \n",
       "30  holo4_001  1.326430      30.0  ...      -0.5875  69.875000   7.5894   \n",
       "31  holo4_001  1.077792      30.0  ...      -0.6375  74.199997   6.5052   \n",
       "32  holo4_001  1.078970      30.0  ...      -0.7000  74.050003   6.5052   \n",
       "33  holo4_001  1.044994      30.0  ...      -0.6750  76.775002   7.2558   \n",
       "34  holo4_001  1.044504      30.0  ...      -0.7125  76.462502   7.5894   \n",
       "\n",
       "    Obj-posXpix  Obj-posYpix  Dx  Dy  skip  run  quality  \n",
       "0           NaN          NaN NaN NaN        NaN      NaN  \n",
       "1           NaN          NaN NaN NaN        NaN      NaN  \n",
       "2           NaN          NaN NaN NaN        NaN      NaN  \n",
       "3           NaN          NaN NaN NaN        NaN      NaN  \n",
       "4           NaN          NaN NaN NaN        NaN      NaN  \n",
       "5           NaN          NaN NaN NaN        NaN      NaN  \n",
       "6           NaN          NaN NaN NaN        NaN      NaN  \n",
       "7           NaN          NaN NaN NaN        NaN      NaN  \n",
       "8           NaN          NaN NaN NaN        NaN      NaN  \n",
       "9           NaN          NaN NaN NaN        NaN      NaN  \n",
       "10          NaN          NaN NaN NaN        NaN      NaN  \n",
       "11          NaN          NaN NaN NaN        NaN      NaN  \n",
       "12          NaN          NaN NaN NaN        NaN      NaN  \n",
       "13          NaN          NaN NaN NaN        NaN      NaN  \n",
       "14          NaN          NaN NaN NaN        NaN      NaN  \n",
       "15          NaN          NaN NaN NaN        NaN      NaN  \n",
       "16          NaN          NaN NaN NaN        NaN      NaN  \n",
       "17          NaN          NaN NaN NaN        NaN      NaN  \n",
       "18          NaN          NaN NaN NaN        NaN      NaN  \n",
       "19          NaN          NaN NaN NaN        NaN      NaN  \n",
       "20          NaN          NaN NaN NaN        NaN      NaN  \n",
       "21          NaN          NaN NaN NaN        NaN      NaN  \n",
       "22          NaN          NaN NaN NaN        NaN      NaN  \n",
       "23          NaN          NaN NaN NaN        NaN      NaN  \n",
       "24          NaN          NaN NaN NaN        NaN      NaN  \n",
       "25          NaN          NaN NaN NaN        NaN      NaN  \n",
       "26          NaN          NaN NaN NaN        NaN      NaN  \n",
       "27          NaN          NaN NaN NaN        NaN      NaN  \n",
       "28          NaN          NaN NaN NaN        NaN      NaN  \n",
       "29          NaN          NaN NaN NaN        NaN      NaN  \n",
       "30          NaN          NaN NaN NaN        NaN      NaN  \n",
       "31          NaN          NaN NaN NaN        NaN      NaN  \n",
       "32          NaN          NaN NaN NaN        NaN      NaN  \n",
       "33          NaN          NaN NaN NaN        NaN      NaN  \n",
       "34          NaN          NaN NaN NaN        NaN      NaN  \n",
       "\n",
       "[35 rows x 23 columns]"
      ]
     },
     "execution_count": 44,
     "metadata": {},
     "output_type": "execute_result"
    }
   ],
   "source": [
    "# show the list of input files from the logbook to select the file index in the logbook\n",
    "df"
   ]
  },
  {
   "cell_type": "markdown",
   "metadata": {},
   "source": [
    "# Selection of input file\n",
    "- the input file is selected from the logbook list above"
   ]
  },
  {
   "cell_type": "code",
   "execution_count": 45,
   "metadata": {
    "execution": {
     "iopub.execute_input": "2023-09-13T21:12:52.653546Z",
     "iopub.status.busy": "2023-09-13T21:12:52.653326Z",
     "iopub.status.idle": "2023-09-13T21:12:52.680770Z",
     "shell.execute_reply": "2023-09-13T21:12:52.680400Z",
     "shell.execute_reply.started": "2023-09-13T21:12:52.653533Z"
    },
    "tags": []
   },
   "outputs": [],
   "source": [
    "idx = 0"
   ]
  },
  {
   "cell_type": "code",
   "execution_count": 46,
   "metadata": {
    "execution": {
     "iopub.execute_input": "2023-09-13T21:12:52.681445Z",
     "iopub.status.busy": "2023-09-13T21:12:52.681317Z",
     "iopub.status.idle": "2023-09-13T21:12:52.706377Z",
     "shell.execute_reply": "2023-09-13T21:12:52.706009Z",
     "shell.execute_reply.started": "2023-09-13T21:12:52.681434Z"
    },
    "tags": []
   },
   "outputs": [
    {
     "name": "stdout",
     "output_type": "stream",
     "text": [
      "exposure_2023091200229_pseudo-postisrccd.fits\n"
     ]
    }
   ],
   "source": [
    "print(df.iloc[idx]['file'])"
   ]
  },
  {
   "cell_type": "code",
   "execution_count": 47,
   "metadata": {
    "execution": {
     "iopub.execute_input": "2023-09-13T21:12:52.706995Z",
     "iopub.status.busy": "2023-09-13T21:12:52.706878Z",
     "iopub.status.idle": "2023-09-13T21:12:52.730691Z",
     "shell.execute_reply": "2023-09-13T21:12:52.730325Z",
     "shell.execute_reply.started": "2023-09-13T21:12:52.706984Z"
    },
    "tags": []
   },
   "outputs": [
    {
     "name": "stdout",
     "output_type": "stream",
     "text": [
      "index                                                          9\n",
      "date                                     2023-09-13T02:23:51.751\n",
      "path           /home/d/dagoret/rubin-user/DATA/AuxtelData2023...\n",
      "file               exposure_2023091200229_pseudo-postisrccd.fits\n",
      "num                                                          229\n",
      "object                                                       M18\n",
      "filter                                                   empty_1\n",
      "disperser                                              holo4_001\n",
      "airmass                                                 1.303172\n",
      "exposure                                                    60.0\n",
      "focus                                                  -0.071707\n",
      "seeing                                                      1.15\n",
      "pressure                                                  742.25\n",
      "temperature                                                -0.75\n",
      "humidity                                                   65.75\n",
      "windspd                                                     4.17\n",
      "Obj-posXpix                                                  NaN\n",
      "Obj-posYpix                                                  NaN\n",
      "Dx                                                           NaN\n",
      "Dy                                                           NaN\n",
      "skip                                                            \n",
      "run                                                          NaN\n",
      "quality                                                      NaN\n",
      "Name: 9, dtype: object\n"
     ]
    }
   ],
   "source": [
    "print(df.iloc[idx])"
   ]
  },
  {
   "cell_type": "code",
   "execution_count": 48,
   "metadata": {
    "execution": {
     "iopub.execute_input": "2023-09-13T21:12:52.731316Z",
     "iopub.status.busy": "2023-09-13T21:12:52.731198Z",
     "iopub.status.idle": "2023-09-13T21:12:52.753742Z",
     "shell.execute_reply": "2023-09-13T21:12:52.753397Z",
     "shell.execute_reply.started": "2023-09-13T21:12:52.731305Z"
    },
    "tags": []
   },
   "outputs": [],
   "source": [
    "the_num = df.iloc[idx][\"num\"]"
   ]
  },
  {
   "cell_type": "code",
   "execution_count": 49,
   "metadata": {
    "execution": {
     "iopub.execute_input": "2023-09-13T21:12:52.754370Z",
     "iopub.status.busy": "2023-09-13T21:12:52.754252Z",
     "iopub.status.idle": "2023-09-13T21:12:52.776247Z",
     "shell.execute_reply": "2023-09-13T21:12:52.775908Z",
     "shell.execute_reply.started": "2023-09-13T21:12:52.754360Z"
    },
    "tags": []
   },
   "outputs": [],
   "source": [
    "myhome=os.getenv(\"HOME\")"
   ]
  },
  {
   "cell_type": "code",
   "execution_count": 50,
   "metadata": {
    "execution": {
     "iopub.execute_input": "2023-09-13T21:12:52.776843Z",
     "iopub.status.busy": "2023-09-13T21:12:52.776725Z",
     "iopub.status.idle": "2023-09-13T21:12:52.801690Z",
     "shell.execute_reply": "2023-09-13T21:12:52.801199Z",
     "shell.execute_reply.started": "2023-09-13T21:12:52.776832Z"
    },
    "tags": []
   },
   "outputs": [],
   "source": [
    "dir_images=path_images"
   ]
  },
  {
   "cell_type": "code",
   "execution_count": 51,
   "metadata": {
    "execution": {
     "iopub.execute_input": "2023-09-13T21:12:52.802554Z",
     "iopub.status.busy": "2023-09-13T21:12:52.802407Z",
     "iopub.status.idle": "2023-09-13T21:12:52.831180Z",
     "shell.execute_reply": "2023-09-13T21:12:52.830866Z",
     "shell.execute_reply.started": "2023-09-13T21:12:52.802540Z"
    },
    "tags": []
   },
   "outputs": [
    {
     "data": {
      "text/plain": [
       "'/home/d/dagoret/rubin-user/DATA/AuxtelData2023/my_postisrccd_img_forspectractor_2023/empty~holo4_001/20230912'"
      ]
     },
     "execution_count": 51,
     "metadata": {},
     "output_type": "execute_result"
    }
   ],
   "source": [
    "dir_images"
   ]
  },
  {
   "cell_type": "code",
   "execution_count": 52,
   "metadata": {
    "execution": {
     "iopub.execute_input": "2023-09-13T21:12:52.831801Z",
     "iopub.status.busy": "2023-09-13T21:12:52.831674Z",
     "iopub.status.idle": "2023-09-13T21:12:52.858331Z",
     "shell.execute_reply": "2023-09-13T21:12:52.858048Z",
     "shell.execute_reply.started": "2023-09-13T21:12:52.831788Z"
    },
    "tags": []
   },
   "outputs": [
    {
     "data": {
      "text/plain": [
       "'exposure_2023091200229_pseudo-postisrccd.fits'"
      ]
     },
     "execution_count": 52,
     "metadata": {},
     "output_type": "execute_result"
    }
   ],
   "source": [
    "filename_image=df['file'][idx]\n",
    "filename_image"
   ]
  },
  {
   "cell_type": "code",
   "execution_count": 53,
   "metadata": {
    "execution": {
     "iopub.execute_input": "2023-09-13T21:12:52.858884Z",
     "iopub.status.busy": "2023-09-13T21:12:52.858763Z",
     "iopub.status.idle": "2023-09-13T21:12:52.882449Z",
     "shell.execute_reply": "2023-09-13T21:12:52.882149Z",
     "shell.execute_reply.started": "2023-09-13T21:12:52.858872Z"
    },
    "tags": []
   },
   "outputs": [
    {
     "data": {
      "text/plain": [
       "'M18'"
      ]
     },
     "execution_count": 53,
     "metadata": {},
     "output_type": "execute_result"
    }
   ],
   "source": [
    "target = df['object'][idx]\n",
    "target"
   ]
  },
  {
   "cell_type": "markdown",
   "metadata": {},
   "source": [
    "## If order 0 position exists in logbook it is selected, otherwise put it by hand"
   ]
  },
  {
   "cell_type": "code",
   "execution_count": 54,
   "metadata": {
    "execution": {
     "iopub.execute_input": "2023-09-13T21:12:52.882978Z",
     "iopub.status.busy": "2023-09-13T21:12:52.882858Z",
     "iopub.status.idle": "2023-09-13T21:12:52.906059Z",
     "shell.execute_reply": "2023-09-13T21:12:52.905754Z",
     "shell.execute_reply.started": "2023-09-13T21:12:52.882967Z"
    },
    "tags": []
   },
   "outputs": [
    {
     "name": "stdout",
     "output_type": "stream",
     "text": [
      "Order 0 location from logbook : (300,1700)\n",
      "guess (x0,y0) = (300,1700)\n"
     ]
    }
   ],
   "source": [
    "# ## If order 0 position exists in logbook it is selected, otherwise put it by hand\n",
    "\n",
    "x0=300\n",
    "y0=1700\n",
    "\n",
    "if 'Obj-posXpix' in df.columns and 'Obj-posYpix' in df.columns:\n",
    "    thex0 = df['Obj-posXpix'][idx]\n",
    "    if not is_nan(thex0):\n",
    "        x0=thex0\n",
    "    they0 = df['Obj-posYpix'][idx]\n",
    "    if not is_nan(they0):\n",
    "        y0=they0\n",
    "    \n",
    "if not is_nan(x0) and not is_nan(y0):\n",
    "\n",
    "    print(\"Order 0 location from logbook : ({},{})\".format(x0,y0))\n",
    "else:\n",
    "    print(\"NO Order 0 location from logbook ! \")      \n",
    "\n",
    "print(f\"guess (x0,y0) = ({x0},{y0})\")\n"
   ]
  },
  {
   "cell_type": "markdown",
   "metadata": {},
   "source": [
    "## Spectractor Configuration \n",
    "\n",
    "- Usually the Spectractor configuration file is put in local dir **./config**\n",
    "\n",
    "\n",
    "Ma suggestion, pour l'étude du centre optique via les scans des hologrammes, est de **mettre SPECTRACTOR_COMPUTE_ROTATION_ANGLE sur False** . \n",
    "\n",
    "Comme les angles ne sont pas très grands, si les marges du rectangle sont assez larges, réglables avec : \n",
    "\n",
    "    [background subtraction parameters] \n",
    "    # half transverse width of the signal rectangular window in pixels \n",
    "    PIXWIDTH_SIGNAL = 40 \n",
    "\n",
    "alors le spectrogramme devrait tenir dans une boite rectangulaire même sans rotation de l'image. **L'important est de garder SPECTRACTOR_DECONVOLUTION_FFM à True car c'est lui qui te donnera l'angle de l'axe de dispersion ajusté sur les données, dont la valeur sera dans le mot clé ROTANGLE du header de sortie**. \n"
   ]
  },
  {
   "cell_type": "code",
   "execution_count": 55,
   "metadata": {
    "execution": {
     "iopub.execute_input": "2023-09-13T21:12:52.913149Z",
     "iopub.status.busy": "2023-09-13T21:12:52.912994Z",
     "iopub.status.idle": "2023-09-13T21:12:52.935761Z",
     "shell.execute_reply": "2023-09-13T21:12:52.935470Z",
     "shell.execute_reply.started": "2023-09-13T21:12:52.913137Z"
    },
    "tags": []
   },
   "outputs": [],
   "source": [
    "rootfilename = filename_image.split(\".\")[0]\n",
    "rootfilename_split =  rootfilename.split(\"_\") \n",
    "filenumberdir = rootfilename_split[1] "
   ]
  },
  {
   "cell_type": "code",
   "execution_count": 56,
   "metadata": {
    "execution": {
     "iopub.execute_input": "2023-09-13T21:12:52.966880Z",
     "iopub.status.busy": "2023-09-13T21:12:52.966761Z",
     "iopub.status.idle": "2023-09-13T21:12:52.989588Z",
     "shell.execute_reply": "2023-09-13T21:12:52.989292Z",
     "shell.execute_reply.started": "2023-09-13T21:12:52.966869Z"
    },
    "tags": []
   },
   "outputs": [
    {
     "data": {
      "text/plain": [
       "'/home/d/dagoret/rubin-user/DATA/AuxtelData2023/OutputSpectractor/postISRCCD/empty~holo4_001/config_DECONVOLUTION_FFMv_REBIN2_findrot_Sept2023/20230912'"
      ]
     },
     "execution_count": 56,
     "metadata": {},
     "output_type": "execute_result"
    }
   ],
   "source": [
    "path_output_spectractor"
   ]
  },
  {
   "cell_type": "code",
   "execution_count": 57,
   "metadata": {
    "execution": {
     "iopub.execute_input": "2023-09-13T21:12:53.018667Z",
     "iopub.status.busy": "2023-09-13T21:12:53.018521Z",
     "iopub.status.idle": "2023-09-13T21:12:53.048486Z",
     "shell.execute_reply": "2023-09-13T21:12:53.048134Z",
     "shell.execute_reply.started": "2023-09-13T21:12:53.018656Z"
    },
    "tags": []
   },
   "outputs": [
    {
     "data": {
      "text/plain": [
       "'config_DECONVOLUTION_FFMv_REBIN2_findrot_Sept2023'"
      ]
     },
     "execution_count": 57,
     "metadata": {},
     "output_type": "execute_result"
    }
   ],
   "source": [
    "configdir"
   ]
  },
  {
   "cell_type": "code",
   "execution_count": 58,
   "metadata": {
    "execution": {
     "iopub.execute_input": "2023-09-13T21:12:53.081397Z",
     "iopub.status.busy": "2023-09-13T21:12:53.081266Z",
     "iopub.status.idle": "2023-09-13T21:12:53.107610Z",
     "shell.execute_reply": "2023-09-13T21:12:53.107321Z",
     "shell.execute_reply.started": "2023-09-13T21:12:53.081379Z"
    },
    "tags": []
   },
   "outputs": [],
   "source": [
    "\n",
    "# Fullfilename\n",
    "filename=os.path.join(dir_images,filename_image)\n",
    "\n",
    "\n",
    "# subdirectory\n",
    "#subdir=filename_image.split(\".\")[0]\n",
    "subdir=filenumberdir\n",
    "\n",
    "# final output directory (where results will be copied to be backed up at the end)\n",
    "finalpath_output_spectractor=os.path.join(path_output_spectractor,subdir)\n",
    "\n",
    "\n",
    "# local directories to put spectra and plots\n",
    "    \n",
    "if configdir ==\"\":\n",
    "    output_directory=\"./outputs_process_\" + DATE  + '_' + dispersername +'_nb_' + str(idx+1)\n",
    "    output_figures=\"figures_process_\" + DATE + '_' + dispersername + '_nb_' + str(idx+1)\n",
    "else:\n",
    "    output_directory = \"./outputs_process_\"+ DATE +\"_\"+ filterdispersername + \"_\" + configdir + \"_nb_\" + str(idx+1)\n",
    "    output_figures   = \"./figures_process_\"+ DATE +\"_\"+ filterdispersername + \"_\" + configdir + \"_nb_\" + str(idx+1)\n",
    "    \n",
    "    \n",
    "\n",
    "#guess = [300,1700]\n",
    "guess = [350,1700]\n",
    "\n",
    "# configuration\n",
    "\n",
    "config=configfilename    \n",
    "target=df.iloc[idx][\"object\"]"
   ]
  },
  {
   "cell_type": "code",
   "execution_count": 59,
   "metadata": {
    "execution": {
     "iopub.execute_input": "2023-09-13T21:12:53.139489Z",
     "iopub.status.busy": "2023-09-13T21:12:53.139221Z",
     "iopub.status.idle": "2023-09-13T21:12:53.164179Z",
     "shell.execute_reply": "2023-09-13T21:12:53.163848Z",
     "shell.execute_reply.started": "2023-09-13T21:12:53.139476Z"
    },
    "tags": []
   },
   "outputs": [
    {
     "name": "stdout",
     "output_type": "stream",
     "text": [
      "finalpath_output_spectractor = /home/d/dagoret/rubin-user/DATA/AuxtelData2023/OutputSpectractor/postISRCCD/empty~holo4_001/config_DECONVOLUTION_FFMv_REBIN2_findrot_Sept2023/20230912/2023091200229\n",
      "output_directory = ./outputs_process_20230912_empty~holo4_001_config_DECONVOLUTION_FFMv_REBIN2_findrot_Sept2023_nb_10\n",
      "output_figures = ./figures_process_20230912_empty~holo4_001_config_DECONVOLUTION_FFMv_REBIN2_findrot_Sept2023_nb_10\n",
      "config filename = ./config/auxtel_config_holo_DECONVOLUTION_FFMv_REBIN2_findrot_Sept2023.ini\n"
     ]
    }
   ],
   "source": [
    "print(f\"finalpath_output_spectractor = {finalpath_output_spectractor}\")\n",
    "print(f\"output_directory = {output_directory}\")\n",
    "print(f\"output_figures = {output_figures}\")\n",
    "print(f\"config filename = {config}\")"
   ]
  },
  {
   "cell_type": "code",
   "execution_count": 60,
   "metadata": {
    "execution": {
     "iopub.execute_input": "2023-09-13T21:12:53.196294Z",
     "iopub.status.busy": "2023-09-13T21:12:53.196168Z",
     "iopub.status.idle": "2023-09-13T21:12:53.224451Z",
     "shell.execute_reply": "2023-09-13T21:12:53.223994Z",
     "shell.execute_reply.started": "2023-09-13T21:12:53.196282Z"
    },
    "tags": []
   },
   "outputs": [],
   "source": [
    "def cleandir(path):\n",
    "    if os.path.isdir(path):\n",
    "        files=os.listdir(path)\n",
    "        if len(files) > 0:\n",
    "            for f in files:\n",
    "                if os.path.isdir(os.path.join(path,f)):\n",
    "                    if f==\".ipynb_checkpoints\":\n",
    "                        shutil.rmtree(os.path.join(path,f))\n",
    "                    else:\n",
    "                        print(\" Cannot remove this directory {}\".format(os.path.join(path,f)))\n",
    "                else:\n",
    "                    os.remove(os.path.join(path,f))"
   ]
  },
  {
   "cell_type": "code",
   "execution_count": 61,
   "metadata": {
    "execution": {
     "iopub.execute_input": "2023-09-13T21:12:53.261043Z",
     "iopub.status.busy": "2023-09-13T21:12:53.260920Z",
     "iopub.status.idle": "2023-09-13T21:12:53.291586Z",
     "shell.execute_reply": "2023-09-13T21:12:53.291175Z",
     "shell.execute_reply.started": "2023-09-13T21:12:53.261032Z"
    },
    "tags": []
   },
   "outputs": [],
   "source": [
    "if not os.path.isdir(output_directory):\n",
    "    os.mkdir(output_directory)\n",
    "else:\n",
    "    cleandir(output_directory)\n",
    "    \n",
    "# manage subdirs spectrum/ and plots/\n",
    "\n",
    "if not os.path.isdir(output_figures):\n",
    "    os.mkdir(output_figures)\n",
    "else:\n",
    "    cleandir(output_figures)"
   ]
  },
  {
   "cell_type": "markdown",
   "metadata": {},
   "source": [
    "# Configuration of the Spectractor running mode"
   ]
  },
  {
   "cell_type": "code",
   "execution_count": 62,
   "metadata": {
    "execution": {
     "iopub.execute_input": "2023-09-13T21:12:53.325322Z",
     "iopub.status.busy": "2023-09-13T21:12:53.325202Z",
     "iopub.status.idle": "2023-09-13T21:12:53.350734Z",
     "shell.execute_reply": "2023-09-13T21:12:53.350397Z",
     "shell.execute_reply.started": "2023-09-13T21:12:53.325311Z"
    },
    "tags": []
   },
   "outputs": [],
   "source": [
    "parameters.LSST_SAVEFIGPATH=True\n",
    "parameters.LSST_SAVEFIGPATH=output_figures"
   ]
  },
  {
   "cell_type": "code",
   "execution_count": 63,
   "metadata": {
    "execution": {
     "iopub.execute_input": "2023-09-13T21:12:53.383145Z",
     "iopub.status.busy": "2023-09-13T21:12:53.383026Z",
     "iopub.status.idle": "2023-09-13T21:12:53.407115Z",
     "shell.execute_reply": "2023-09-13T21:12:53.406742Z",
     "shell.execute_reply.started": "2023-09-13T21:12:53.383134Z"
    },
    "tags": []
   },
   "outputs": [],
   "source": [
    "parameters.debug=True\n",
    "parameters.verbose=True\n",
    "parameters.display=True\n",
    "parameters.LIVE_FIT=False"
   ]
  },
  {
   "cell_type": "code",
   "execution_count": 64,
   "metadata": {
    "execution": {
     "iopub.execute_input": "2023-09-13T21:12:53.437777Z",
     "iopub.status.busy": "2023-09-13T21:12:53.437658Z",
     "iopub.status.idle": "2023-09-13T21:12:53.466864Z",
     "shell.execute_reply": "2023-09-13T21:12:53.466471Z",
     "shell.execute_reply.started": "2023-09-13T21:12:53.437766Z"
    },
    "tags": []
   },
   "outputs": [
    {
     "name": "stdout",
     "output_type": "stream",
     "text": [
      "target_name_sel0 = M18\n",
      "target_name_sel = b'M18'\n"
     ]
    }
   ],
   "source": [
    "target_name_sel0 = find_target_name(target)\n",
    "print(f\"target_name_sel0 = {target_name_sel0}\")\n",
    "#target_name_sel0 = ''.join(target.split())\n",
    "#target_name_sel1 = target_name_sel0.encode(encoding='UTF-8',errors='strict')\n",
    "#target_name_sel = target_name_sel0.encode()\n",
    "target_name_sel = target_name_sel0.encode(encoding=\"ascii\", errors=\"ignore\")\n",
    "print(f'target_name_sel = {target_name_sel}')\n",
    "#target_name_sel=f\"{target_name_sel}\""
   ]
  },
  {
   "cell_type": "markdown",
   "metadata": {},
   "source": [
    "## Load the image in the new image file with Spectractor"
   ]
  },
  {
   "cell_type": "code",
   "execution_count": 65,
   "metadata": {
    "execution": {
     "iopub.execute_input": "2023-09-13T21:12:53.504748Z",
     "iopub.status.busy": "2023-09-13T21:12:53.504622Z",
     "iopub.status.idle": "2023-09-13T21:12:53.531961Z",
     "shell.execute_reply": "2023-09-13T21:12:53.531587Z",
     "shell.execute_reply.started": "2023-09-13T21:12:53.504736Z"
    },
    "tags": []
   },
   "outputs": [],
   "source": [
    "if target_name_sel == 'MU-COL':\n",
    "    target_name_sel = \"HD38666\""
   ]
  },
  {
   "cell_type": "code",
   "execution_count": 66,
   "metadata": {
    "execution": {
     "iopub.execute_input": "2023-09-13T21:12:53.563321Z",
     "iopub.status.busy": "2023-09-13T21:12:53.563203Z",
     "iopub.status.idle": "2023-09-13T21:12:53.586720Z",
     "shell.execute_reply": "2023-09-13T21:12:53.586353Z",
     "shell.execute_reply.started": "2023-09-13T21:12:53.563311Z"
    },
    "tags": []
   },
   "outputs": [
    {
     "data": {
      "text/plain": [
       "'holo4_001'"
      ]
     },
     "execution_count": 66,
     "metadata": {},
     "output_type": "execute_result"
    }
   ],
   "source": [
    "disperser_label"
   ]
  },
  {
   "cell_type": "code",
   "execution_count": 67,
   "metadata": {
    "execution": {
     "iopub.execute_input": "2023-09-13T21:12:53.616507Z",
     "iopub.status.busy": "2023-09-13T21:12:53.616395Z",
     "iopub.status.idle": "2023-09-13T21:13:01.981524Z",
     "shell.execute_reply": "2023-09-13T21:13:01.979769Z",
     "shell.execute_reply.started": "2023-09-13T21:12:53.616497Z"
    },
    "tags": []
   },
   "outputs": [
    {
     "data": {
      "text/html": [
       "<pre style=\"margin: 0.1em;\n",
       "padding-left: 0.25em;\n",
       "border-left-style: solid;\n",
       "font-family: var(--jp-code-font-family);\n",
       "font-size: var(--jp-code-font-size);\n",
       "line-height: var(--jp-code-line-height);\n",
       "\"><span style=\"color: var(--jp-warn-color2)\">Image</span> <span style=\"color: var(--jp-warn-color0)\">WARNING</span>: \n",
       "\tFitted read out noise seems to be different than input readout noise. Fit=4.2496389547574775 but average of self.read_out_noise is 8.5.</pre>"
      ],
      "text/plain": [
       "<IPython.core.display.HTML object>"
      ]
     },
     "metadata": {},
     "output_type": "display_data"
    },
    {
     "name": "stderr",
     "output_type": "stream",
     "text": [
      "2023-09-13 21:13:01  Image      check_statistical_error WARNING \n",
      "\tFitted read out noise seems to be different than input readout noise. Fit=4.2496389547574775 but average of self.read_out_noise is 8.5.\n"
     ]
    },
    {
     "ename": "AttributeError",
     "evalue": "'NoneType' object has no attribute 'lines'",
     "output_type": "error",
     "traceback": [
      "\u001b[0;31m---------------------------------------------------------------------------\u001b[0m",
      "\u001b[0;31mAttributeError\u001b[0m                            Traceback (most recent call last)",
      "Cell \u001b[0;32mIn[67], line 2\u001b[0m\n\u001b[1;32m      1\u001b[0m get_ipython()\u001b[38;5;241m.\u001b[39mrun_line_magic(\u001b[38;5;124m'\u001b[39m\u001b[38;5;124mmatplotlib\u001b[39m\u001b[38;5;124m'\u001b[39m, \u001b[38;5;124m'\u001b[39m\u001b[38;5;124minline\u001b[39m\u001b[38;5;124m'\u001b[39m)\n\u001b[0;32m----> 2\u001b[0m image\u001b[38;5;241m=\u001b[39m\u001b[43mImage\u001b[49m\u001b[43m(\u001b[49m\u001b[43mfile_name\u001b[49m\u001b[38;5;241;43m=\u001b[39;49m\u001b[43mfilename\u001b[49m\u001b[43m,\u001b[49m\u001b[43m \u001b[49m\u001b[43mdisperser_label\u001b[49m\u001b[38;5;241;43m=\u001b[39;49m\u001b[43mdisperser_label\u001b[49m\u001b[43m,\u001b[49m\u001b[43mtarget_label\u001b[49m\u001b[38;5;241;43m=\u001b[39;49m\u001b[43mtarget_name_sel\u001b[49m\u001b[43m,\u001b[49m\u001b[43m \u001b[49m\u001b[43mconfig\u001b[49m\u001b[38;5;241;43m=\u001b[39;49m\u001b[43mconfig\u001b[49m\u001b[43m)\u001b[49m\n",
      "File \u001b[0;32m~/repos/repos_w_2023_35/Spectractor/lib/python/spectractor/extractor/images.py:186\u001b[0m, in \u001b[0;36mImage.__init__\u001b[0;34m(self, file_name, target_label, disperser_label, config, **kwargs)\u001b[0m\n\u001b[1;32m    183\u001b[0m     t\u001b[38;5;241m.\u001b[39mreset_lambda_range(transmission_threshold\u001b[38;5;241m=\u001b[39m\u001b[38;5;241m1e-5\u001b[39m)\n\u001b[1;32m    185\u001b[0m \u001b[38;5;28;01mif\u001b[39;00m \u001b[38;5;28mself\u001b[39m\u001b[38;5;241m.\u001b[39mtarget_label \u001b[38;5;241m!=\u001b[39m \u001b[38;5;124m\"\u001b[39m\u001b[38;5;124m\"\u001b[39m:\n\u001b[0;32m--> 186\u001b[0m     \u001b[38;5;28mself\u001b[39m\u001b[38;5;241m.\u001b[39mtarget \u001b[38;5;241m=\u001b[39m \u001b[43mload_target\u001b[49m\u001b[43m(\u001b[49m\u001b[38;5;28;43mself\u001b[39;49m\u001b[38;5;241;43m.\u001b[39;49m\u001b[43mtarget_label\u001b[49m\u001b[43m,\u001b[49m\u001b[43m \u001b[49m\u001b[43mverbose\u001b[49m\u001b[38;5;241;43m=\u001b[39;49m\u001b[43mparameters\u001b[49m\u001b[38;5;241;43m.\u001b[39;49m\u001b[43mVERBOSE\u001b[49m\u001b[43m)\u001b[49m\n\u001b[1;32m    187\u001b[0m     \u001b[38;5;28mself\u001b[39m\u001b[38;5;241m.\u001b[39mheader[\u001b[38;5;124m'\u001b[39m\u001b[38;5;124mREDSHIFT\u001b[39m\u001b[38;5;124m'\u001b[39m] \u001b[38;5;241m=\u001b[39m \u001b[38;5;28mself\u001b[39m\u001b[38;5;241m.\u001b[39mtarget\u001b[38;5;241m.\u001b[39mredshift\n",
      "File \u001b[0;32m~/repos/repos_w_2023_35/Spectractor/lib/python/spectractor/extractor/targets.py:49\u001b[0m, in \u001b[0;36mload_target\u001b[0;34m(label, verbose)\u001b[0m\n\u001b[1;32m     19\u001b[0m \u001b[38;5;250m\u001b[39m\u001b[38;5;124;03m\"\"\"Load the target properties according to the type set by parameters.OBS_OBJECT_TYPE.\u001b[39;00m\n\u001b[1;32m     20\u001b[0m \n\u001b[1;32m     21\u001b[0m \u001b[38;5;124;03mCurrently, the type can be either \"STAR\", \"HG-AR\" or \"MONOCHROMATOR\". The label parameter gives the\u001b[39;00m\n\u001b[0;32m   (...)\u001b[0m\n\u001b[1;32m     46\u001b[0m \u001b[38;5;124;03m[253.652, 296.728, 302.15, 313.155, 334.148]\u001b[39;00m\n\u001b[1;32m     47\u001b[0m \u001b[38;5;124;03m\"\"\"\u001b[39;00m\n\u001b[1;32m     48\u001b[0m \u001b[38;5;28;01mif\u001b[39;00m parameters\u001b[38;5;241m.\u001b[39mOBS_OBJECT_TYPE \u001b[38;5;241m==\u001b[39m \u001b[38;5;124m'\u001b[39m\u001b[38;5;124mSTAR\u001b[39m\u001b[38;5;124m'\u001b[39m:\n\u001b[0;32m---> 49\u001b[0m     \u001b[38;5;28;01mreturn\u001b[39;00m \u001b[43mStar\u001b[49m\u001b[43m(\u001b[49m\u001b[43mlabel\u001b[49m\u001b[43m,\u001b[49m\u001b[43m \u001b[49m\u001b[43mverbose\u001b[49m\u001b[43m)\u001b[49m\n\u001b[1;32m     50\u001b[0m \u001b[38;5;28;01melif\u001b[39;00m parameters\u001b[38;5;241m.\u001b[39mOBS_OBJECT_TYPE \u001b[38;5;241m==\u001b[39m \u001b[38;5;124m'\u001b[39m\u001b[38;5;124mHG-AR\u001b[39m\u001b[38;5;124m'\u001b[39m:\n\u001b[1;32m     51\u001b[0m     \u001b[38;5;28;01mreturn\u001b[39;00m ArcLamp(label, verbose)\n",
      "File \u001b[0;32m~/repos/repos_w_2023_35/Spectractor/lib/python/spectractor/extractor/targets.py:234\u001b[0m, in \u001b[0;36mStar.__init__\u001b[0;34m(self, label, verbose)\u001b[0m\n\u001b[1;32m    232\u001b[0m \u001b[38;5;28mself\u001b[39m\u001b[38;5;241m.\u001b[39mmy_logger \u001b[38;5;241m=\u001b[39m set_logger(\u001b[38;5;28mself\u001b[39m\u001b[38;5;241m.\u001b[39m\u001b[38;5;18m__class__\u001b[39m\u001b[38;5;241m.\u001b[39m\u001b[38;5;18m__name__\u001b[39m)\n\u001b[1;32m    233\u001b[0m \u001b[38;5;28mself\u001b[39m\u001b[38;5;241m.\u001b[39msimbad_table \u001b[38;5;241m=\u001b[39m \u001b[38;5;28;01mNone\u001b[39;00m\n\u001b[0;32m--> 234\u001b[0m \u001b[38;5;28;43mself\u001b[39;49m\u001b[38;5;241;43m.\u001b[39;49m\u001b[43mload\u001b[49m\u001b[43m(\u001b[49m\u001b[43m)\u001b[49m\n",
      "File \u001b[0;32m~/repos/repos_w_2023_35/Spectractor/lib/python/spectractor/extractor/targets.py:283\u001b[0m, in \u001b[0;36mStar.load\u001b[0;34m(self)\u001b[0m\n\u001b[1;32m    281\u001b[0m \u001b[38;5;28;01melse\u001b[39;00m:\n\u001b[1;32m    282\u001b[0m     \u001b[38;5;28mself\u001b[39m\u001b[38;5;241m.\u001b[39mredshift \u001b[38;5;241m=\u001b[39m \u001b[38;5;241m0\u001b[39m\n\u001b[0;32m--> 283\u001b[0m \u001b[38;5;28;43mself\u001b[39;49m\u001b[38;5;241;43m.\u001b[39;49m\u001b[43mload_spectra\u001b[49m\u001b[43m(\u001b[49m\u001b[43m)\u001b[49m\n",
      "File \u001b[0;32m~/repos/repos_w_2023_35/Spectractor/lib/python/spectractor/extractor/targets.py:380\u001b[0m, in \u001b[0;36mStar.load_spectra\u001b[0;34m(self)\u001b[0m\n\u001b[1;32m    373\u001b[0m                 \u001b[38;5;28mself\u001b[39m\u001b[38;5;241m.\u001b[39mwavelengths\u001b[38;5;241m.\u001b[39mappend(waves)\n\u001b[1;32m    374\u001b[0m \u001b[38;5;28mself\u001b[39m\u001b[38;5;241m.\u001b[39mbuild_sed()\n\u001b[1;32m    375\u001b[0m \u001b[38;5;28mself\u001b[39m\u001b[38;5;241m.\u001b[39mmy_logger\u001b[38;5;241m.\u001b[39mdebug(\u001b[38;5;124mf\u001b[39m\u001b[38;5;124m\"\u001b[39m\u001b[38;5;130;01m\\n\u001b[39;00m\u001b[38;5;130;01m\\t\u001b[39;00m\u001b[38;5;124mTarget label: \u001b[39m\u001b[38;5;132;01m{\u001b[39;00m\u001b[38;5;28mself\u001b[39m\u001b[38;5;241m.\u001b[39mlabel\u001b[38;5;132;01m}\u001b[39;00m\u001b[38;5;124m\"\u001b[39m\n\u001b[1;32m    376\u001b[0m                      \u001b[38;5;124mf\u001b[39m\u001b[38;5;124m\"\u001b[39m\u001b[38;5;130;01m\\n\u001b[39;00m\u001b[38;5;130;01m\\t\u001b[39;00m\u001b[38;5;124mCalspec? \u001b[39m\u001b[38;5;132;01m{\u001b[39;00mis_calspec\u001b[38;5;132;01m}\u001b[39;00m\u001b[38;5;124m\"\u001b[39m\n\u001b[1;32m    377\u001b[0m                      \u001b[38;5;124mf\u001b[39m\u001b[38;5;124m\"\u001b[39m\u001b[38;5;130;01m\\n\u001b[39;00m\u001b[38;5;130;01m\\t\u001b[39;00m\u001b[38;5;124mNumber of spectra: \u001b[39m\u001b[38;5;132;01m{\u001b[39;00m\u001b[38;5;28mlen\u001b[39m(\u001b[38;5;28mself\u001b[39m\u001b[38;5;241m.\u001b[39mspectra)\u001b[38;5;132;01m}\u001b[39;00m\u001b[38;5;124m\"\u001b[39m\n\u001b[1;32m    378\u001b[0m                      \u001b[38;5;124mf\u001b[39m\u001b[38;5;124m\"\u001b[39m\u001b[38;5;130;01m\\n\u001b[39;00m\u001b[38;5;130;01m\\t\u001b[39;00m\u001b[38;5;124mRedshift: \u001b[39m\u001b[38;5;132;01m{\u001b[39;00m\u001b[38;5;28mself\u001b[39m\u001b[38;5;241m.\u001b[39mredshift\u001b[38;5;132;01m}\u001b[39;00m\u001b[38;5;124m\"\u001b[39m\n\u001b[1;32m    379\u001b[0m                      \u001b[38;5;124mf\u001b[39m\u001b[38;5;124m\"\u001b[39m\u001b[38;5;130;01m\\n\u001b[39;00m\u001b[38;5;130;01m\\t\u001b[39;00m\u001b[38;5;124mEmission spectrum ? \u001b[39m\u001b[38;5;132;01m{\u001b[39;00m\u001b[38;5;28mself\u001b[39m\u001b[38;5;241m.\u001b[39memission_spectrum\u001b[38;5;132;01m}\u001b[39;00m\u001b[38;5;124m\"\u001b[39m\n\u001b[0;32m--> 380\u001b[0m                      \u001b[38;5;124mf\u001b[39m\u001b[38;5;124m\"\u001b[39m\u001b[38;5;130;01m\\n\u001b[39;00m\u001b[38;5;130;01m\\t\u001b[39;00m\u001b[38;5;124mLines: \u001b[39m\u001b[38;5;132;01m{\u001b[39;00m[l\u001b[38;5;241m.\u001b[39mlabel\u001b[38;5;250m \u001b[39m\u001b[38;5;28;01mfor\u001b[39;00m\u001b[38;5;250m \u001b[39ml\u001b[38;5;250m \u001b[39m\u001b[38;5;129;01min\u001b[39;00m\u001b[38;5;250m \u001b[39m\u001b[38;5;28;43mself\u001b[39;49m\u001b[38;5;241;43m.\u001b[39;49m\u001b[43mlines\u001b[49m\u001b[38;5;241;43m.\u001b[39;49m\u001b[43mlines\u001b[49m]\u001b[38;5;132;01m}\u001b[39;00m\u001b[38;5;124m\"\u001b[39m)\n",
      "\u001b[0;31mAttributeError\u001b[0m: 'NoneType' object has no attribute 'lines'"
     ]
    }
   ],
   "source": [
    "%matplotlib inline\n",
    "image=Image(file_name=filename, disperser_label=disperser_label,target_label=target_name_sel, config=config)"
   ]
  },
  {
   "cell_type": "code",
   "execution_count": null,
   "metadata": {
    "execution": {
     "iopub.status.busy": "2023-09-13T21:13:01.982626Z",
     "iopub.status.idle": "2023-09-13T21:13:01.982779Z",
     "shell.execute_reply": "2023-09-13T21:13:01.982707Z",
     "shell.execute_reply.started": "2023-09-13T21:13:01.982700Z"
    },
    "tags": []
   },
   "outputs": [],
   "source": [
    "!ls /Volumes/Backup2020/DATA/"
   ]
  },
  {
   "cell_type": "code",
   "execution_count": null,
   "metadata": {
    "execution": {
     "iopub.status.busy": "2023-09-13T21:13:01.983978Z",
     "iopub.status.idle": "2023-09-13T21:13:01.984128Z",
     "shell.execute_reply": "2023-09-13T21:13:01.984060Z",
     "shell.execute_reply.started": "2023-09-13T21:13:01.984052Z"
    },
    "tags": []
   },
   "outputs": [],
   "source": [
    "image.data.shape"
   ]
  },
  {
   "cell_type": "markdown",
   "metadata": {},
   "source": [
    "## Show relevant parameters"
   ]
  },
  {
   "cell_type": "code",
   "execution_count": null,
   "metadata": {
    "execution": {
     "iopub.status.busy": "2023-09-13T21:13:01.985320Z",
     "iopub.status.idle": "2023-09-13T21:13:01.985474Z",
     "shell.execute_reply": "2023-09-13T21:13:01.985405Z",
     "shell.execute_reply.started": "2023-09-13T21:13:01.985398Z"
    },
    "tags": []
   },
   "outputs": [],
   "source": [
    "parameters.LSST_SAVEFIGPATH=True\n",
    "parameters.LSST_SAVEFIGPATH=output_figures"
   ]
  },
  {
   "cell_type": "code",
   "execution_count": null,
   "metadata": {
    "execution": {
     "iopub.status.busy": "2023-09-13T21:13:01.986679Z",
     "iopub.status.idle": "2023-09-13T21:13:01.986834Z",
     "shell.execute_reply": "2023-09-13T21:13:01.986762Z",
     "shell.execute_reply.started": "2023-09-13T21:13:01.986754Z"
    },
    "tags": []
   },
   "outputs": [],
   "source": [
    "image.header[\"FILTER\"]"
   ]
  },
  {
   "cell_type": "code",
   "execution_count": null,
   "metadata": {
    "execution": {
     "iopub.status.busy": "2023-09-13T21:13:01.987959Z",
     "iopub.status.idle": "2023-09-13T21:13:01.988099Z",
     "shell.execute_reply": "2023-09-13T21:13:01.988034Z",
     "shell.execute_reply.started": "2023-09-13T21:13:01.988027Z"
    },
    "tags": []
   },
   "outputs": [],
   "source": [
    "image.header"
   ]
  },
  {
   "cell_type": "markdown",
   "metadata": {},
   "source": [
    "# Plot image and find the target position\n",
    "\n",
    "- this image plotting is used to find the order 0 location to be set in logbook\n",
    "\n",
    "- for the moment this is humanly done"
   ]
  },
  {
   "cell_type": "markdown",
   "metadata": {},
   "source": [
    "## Load the new image file with Spectractor"
   ]
  },
  {
   "cell_type": "code",
   "execution_count": null,
   "metadata": {
    "execution": {
     "iopub.status.busy": "2023-09-13T21:13:01.989412Z",
     "iopub.status.idle": "2023-09-13T21:13:01.989558Z",
     "shell.execute_reply": "2023-09-13T21:13:01.989490Z",
     "shell.execute_reply.started": "2023-09-13T21:13:01.989483Z"
    },
    "tags": []
   },
   "outputs": [],
   "source": [
    "import matplotlib.pyplot as plt\n",
    "%matplotlib inline\n",
    "title=\"{}) {}\".format(idx,filename_image)\n",
    "image.plot_image(figsize=(12, 10),scale=\"log\",title=title)\n",
    "plt.show()"
   ]
  },
  {
   "cell_type": "markdown",
   "metadata": {},
   "source": [
    "- note now the position are written in the make_logbook.ipynb notebook"
   ]
  },
  {
   "cell_type": "markdown",
   "metadata": {},
   "source": [
    "## Set the 0th order location to be provided to Spectractor"
   ]
  },
  {
   "cell_type": "code",
   "execution_count": null,
   "metadata": {
    "execution": {
     "iopub.status.busy": "2023-09-13T21:13:01.990597Z",
     "iopub.status.idle": "2023-09-13T21:13:01.990730Z",
     "shell.execute_reply": "2023-09-13T21:13:01.990669Z",
     "shell.execute_reply.started": "2023-09-13T21:13:01.990662Z"
    },
    "tags": []
   },
   "outputs": [],
   "source": [
    "filename_image"
   ]
  },
  {
   "cell_type": "markdown",
   "metadata": {},
   "source": [
    "## Let Spectractor find the location of the 0th order"
   ]
  },
  {
   "cell_type": "code",
   "execution_count": null,
   "metadata": {
    "execution": {
     "iopub.status.busy": "2023-09-13T21:13:01.991979Z",
     "iopub.status.idle": "2023-09-13T21:13:01.992124Z",
     "shell.execute_reply": "2023-09-13T21:13:01.992055Z",
     "shell.execute_reply.started": "2023-09-13T21:13:01.992048Z"
    },
    "tags": []
   },
   "outputs": [],
   "source": [
    "parameters.VERBOSE = True\n",
    "parameters.DEBUG = True\n",
    "#x1, y1 = find_target(image, guess,rotated=False, use_wcs=False)\n",
    "x1, y1 = find_target(image, guess,rotated=False)"
   ]
  },
  {
   "cell_type": "code",
   "execution_count": null,
   "metadata": {
    "execution": {
     "iopub.status.busy": "2023-09-13T21:13:01.993290Z",
     "iopub.status.idle": "2023-09-13T21:13:01.993448Z",
     "shell.execute_reply": "2023-09-13T21:13:01.993370Z",
     "shell.execute_reply.started": "2023-09-13T21:13:01.993363Z"
    },
    "tags": []
   },
   "outputs": [],
   "source": [
    "print(x1,y1)"
   ]
  },
  {
   "cell_type": "markdown",
   "metadata": {},
   "source": [
    "## Check the location of 0th order and Analysis of the quality of its focus"
   ]
  },
  {
   "cell_type": "code",
   "execution_count": null,
   "metadata": {
    "execution": {
     "iopub.status.busy": "2023-09-13T21:13:01.994564Z",
     "iopub.status.idle": "2023-09-13T21:13:01.994707Z",
     "shell.execute_reply": "2023-09-13T21:13:01.994641Z",
     "shell.execute_reply.started": "2023-09-13T21:13:01.994633Z"
    },
    "tags": []
   },
   "outputs": [],
   "source": [
    "if x1>100:\n",
    "    WID=100\n",
    "else:\n",
    "    WID=50\n",
    "    \n",
    "\n",
    "thumbnail=np.copy(image.data[int(y1)-WID:int(y1)+WID,int(x1)-WID:int(x1)+WID])\n",
    "thumbnail_y=thumbnail.sum(axis=1)\n",
    "thumbnail_x=thumbnail.sum(axis=0)\n",
    "xx=np.linspace(int(x1)-WID,int(x1)+WID,len(thumbnail_x))\n",
    "yy=np.linspace(int(y1)-WID,int(y1)+WID,len(thumbnail_y))\n",
    "k0=kurtosis(thumbnail,axis=None,bias=True,fisher=True)\n",
    "kx=kurtosis(thumbnail_x,bias=True,fisher=True)\n",
    "ky=kurtosis(thumbnail_y,bias=True,fisher=True)\n",
    "s0=skew(thumbnail,axis=None,bias=True)\n",
    "sx=skew(thumbnail_x,bias=True)\n",
    "sy=skew(thumbnail_y,bias=True)\n",
    "        "
   ]
  },
  {
   "cell_type": "code",
   "execution_count": null,
   "metadata": {
    "execution": {
     "iopub.status.busy": "2023-09-13T21:13:01.995842Z",
     "iopub.status.idle": "2023-09-13T21:13:01.995991Z",
     "shell.execute_reply": "2023-09-13T21:13:01.995920Z",
     "shell.execute_reply.started": "2023-09-13T21:13:01.995913Z"
    },
    "tags": []
   },
   "outputs": [],
   "source": [
    "shape_str='\\n'.join((\n",
    "        r'skew     : Sk0 = {:3.3f}, Skx = {:3.3f}, Sky = {:3.3f} \\n'.format(s0,sx,sy),\n",
    "        r'kurtosis : K0  = {:3.3f}, Kx  = {:3.3f},  Ky = {:3.3f}'.format(k0,kx,ky)))"
   ]
  },
  {
   "cell_type": "code",
   "execution_count": null,
   "metadata": {
    "execution": {
     "iopub.status.busy": "2023-09-13T21:13:01.997064Z",
     "iopub.status.idle": "2023-09-13T21:13:01.997210Z",
     "shell.execute_reply": "2023-09-13T21:13:01.997140Z",
     "shell.execute_reply.started": "2023-09-13T21:13:01.997134Z"
    },
    "tags": []
   },
   "outputs": [],
   "source": [
    "skew_str='\\n'.join((\n",
    "        r'skew     : Sk0 = {:3.3f}'.format(s0),\n",
    "        r'             : Skx = {:3.3f}'.format(sx),\n",
    "        r'             : Sky = {:3.3f}'.format(sy)))"
   ]
  },
  {
   "cell_type": "code",
   "execution_count": null,
   "metadata": {
    "execution": {
     "iopub.status.busy": "2023-09-13T21:13:01.998435Z",
     "iopub.status.idle": "2023-09-13T21:13:01.998580Z",
     "shell.execute_reply": "2023-09-13T21:13:01.998512Z",
     "shell.execute_reply.started": "2023-09-13T21:13:01.998505Z"
    },
    "tags": []
   },
   "outputs": [],
   "source": [
    "kurt_str='\\n'.join((\n",
    "        r'kurtosis : K0 = {:3.3f}'.format(k0),\n",
    "        r'             : Kx = {:3.3f}'.format(kx),\n",
    "        r'             : Ky = {:3.3f}'.format(ky)))"
   ]
  },
  {
   "cell_type": "code",
   "execution_count": null,
   "metadata": {
    "execution": {
     "iopub.status.busy": "2023-09-13T21:13:01.999774Z",
     "iopub.status.idle": "2023-09-13T21:13:01.999924Z",
     "shell.execute_reply": "2023-09-13T21:13:01.999853Z",
     "shell.execute_reply.started": "2023-09-13T21:13:01.999846Z"
    },
    "tags": []
   },
   "outputs": [],
   "source": [
    "kurtosis_test_prob=kurtosistest(thumbnail,axis=None).pvalue\n",
    "skew_test_prob=skewtest(thumbnail,axis=None).pvalue\n",
    "normal_test_prob=normaltest(thumbnail,axis=None).pvalue"
   ]
  },
  {
   "cell_type": "code",
   "execution_count": null,
   "metadata": {
    "execution": {
     "iopub.status.busy": "2023-09-13T21:13:02.001155Z",
     "iopub.status.idle": "2023-09-13T21:13:02.001301Z",
     "shell.execute_reply": "2023-09-13T21:13:02.001232Z",
     "shell.execute_reply.started": "2023-09-13T21:13:02.001225Z"
    },
    "tags": []
   },
   "outputs": [],
   "source": [
    "kurtosis_test_val=kurtosistest(thumbnail,axis=None).statistic\n",
    "skew_test_val=skewtest(thumbnail,axis=None).statistic\n",
    "normal_test_val=normaltest(thumbnail,axis=None).statistic"
   ]
  },
  {
   "cell_type": "code",
   "execution_count": null,
   "metadata": {
    "execution": {
     "iopub.status.busy": "2023-09-13T21:13:02.003294Z",
     "iopub.status.idle": "2023-09-13T21:13:02.003444Z",
     "shell.execute_reply": "2023-09-13T21:13:02.003369Z",
     "shell.execute_reply.started": "2023-09-13T21:13:02.003362Z"
    },
    "tags": []
   },
   "outputs": [],
   "source": [
    "kurtosis_test_prob_x=kurtosistest(thumbnail_x).pvalue\n",
    "skew_test_prob_x=skewtest(thumbnail_x).pvalue\n",
    "normal_test_prob_x=normaltest(thumbnail_x).pvalue"
   ]
  },
  {
   "cell_type": "code",
   "execution_count": null,
   "metadata": {
    "execution": {
     "iopub.status.busy": "2023-09-13T21:13:02.004751Z",
     "iopub.status.idle": "2023-09-13T21:13:02.004892Z",
     "shell.execute_reply": "2023-09-13T21:13:02.004825Z",
     "shell.execute_reply.started": "2023-09-13T21:13:02.004819Z"
    },
    "tags": []
   },
   "outputs": [],
   "source": [
    "kurtosis_test_prob_y=kurtosistest(thumbnail_y).pvalue\n",
    "skew_test_prob_y=skewtest(thumbnail_y).pvalue\n",
    "normal_test_prob_y=normaltest(thumbnail_y).pvalue"
   ]
  },
  {
   "cell_type": "code",
   "execution_count": null,
   "metadata": {
    "execution": {
     "iopub.status.busy": "2023-09-13T21:13:02.006094Z",
     "iopub.status.idle": "2023-09-13T21:13:02.006238Z",
     "shell.execute_reply": "2023-09-13T21:13:02.006168Z",
     "shell.execute_reply.started": "2023-09-13T21:13:02.006162Z"
    },
    "tags": []
   },
   "outputs": [],
   "source": [
    "skew_str='\\n'.join((\n",
    "    r'skew     : Sk0 = {:3.3f}'.format(s0),\n",
    "    r'             : Skx = {:3.3f}'.format(sx),\n",
    "    r'             : Sky = {:3.3f}'.format(sy),\n",
    "    r'             : p_test   = {:3.3e}'.format(skew_test_prob),\n",
    "    r'             : p_test_x = {:3.3e}'.format(skew_test_prob_x),\n",
    "    r'             : p_test_y = {:3.3e}'.format(skew_test_prob_y)))"
   ]
  },
  {
   "cell_type": "code",
   "execution_count": null,
   "metadata": {
    "execution": {
     "iopub.status.busy": "2023-09-13T21:13:02.007616Z",
     "iopub.status.idle": "2023-09-13T21:13:02.007761Z",
     "shell.execute_reply": "2023-09-13T21:13:02.007692Z",
     "shell.execute_reply.started": "2023-09-13T21:13:02.007685Z"
    },
    "tags": []
   },
   "outputs": [],
   "source": [
    "kurt_str='\\n'.join((\n",
    "    r'kurtosis : K0 = {:3.3f}'.format(k0),\n",
    "    r'             : Kx = {:3.3f}'.format(kx),\n",
    "    r'             : Ky = {:3.3f}'.format(ky),\n",
    "    r'             : p_test   = {:3.3e}'.format(kurtosis_test_prob),\n",
    "    r'             : p_test_x = {:3.3e}'.format(kurtosis_test_prob_x),\n",
    "    r'             : p_test_y = {:3.3e}'.format(kurtosis_test_prob_y)))"
   ]
  },
  {
   "cell_type": "code",
   "execution_count": null,
   "metadata": {
    "execution": {
     "iopub.status.busy": "2023-09-13T21:13:02.008826Z",
     "iopub.status.idle": "2023-09-13T21:13:02.008960Z",
     "shell.execute_reply": "2023-09-13T21:13:02.008898Z",
     "shell.execute_reply.started": "2023-09-13T21:13:02.008892Z"
    },
    "tags": []
   },
   "outputs": [],
   "source": [
    "norm_str='\\n'.join((\n",
    "    r'normal  : p_test   = {:3.3e}'.format(normal_test_prob),\n",
    "    r'             : p_test_x = {:3.3e}'.format(normal_test_prob_x),\n",
    "    r'             : p_test_y = {:3.3e}'.format(normal_test_prob_y)))"
   ]
  },
  {
   "cell_type": "code",
   "execution_count": null,
   "metadata": {
    "execution": {
     "iopub.status.busy": "2023-09-13T21:13:02.009990Z",
     "iopub.status.idle": "2023-09-13T21:13:02.010125Z",
     "shell.execute_reply": "2023-09-13T21:13:02.010064Z",
     "shell.execute_reply.started": "2023-09-13T21:13:02.010057Z"
    },
    "tags": []
   },
   "outputs": [],
   "source": [
    "props = dict(boxstyle='round',edgecolor=\"w\",facecolor=\"w\", alpha=0.5)"
   ]
  },
  {
   "cell_type": "code",
   "execution_count": null,
   "metadata": {
    "execution": {
     "iopub.status.busy": "2023-09-13T21:13:02.011315Z",
     "iopub.status.idle": "2023-09-13T21:13:02.011463Z",
     "shell.execute_reply": "2023-09-13T21:13:02.011394Z",
     "shell.execute_reply.started": "2023-09-13T21:13:02.011388Z"
    },
    "tags": []
   },
   "outputs": [],
   "source": [
    "#matplotlib.pyplot.hist(x, \n",
    "#                       bins=10, \n",
    "#                       range=None, \n",
    "#                       normed=False, \n",
    "#                       weights=None, \n",
    "#                       cumulative=False, \n",
    "#                       bottom=None, \n",
    "#                       histtype=u'bar', \n",
    "#                       align=u'mid', \n",
    "#                       orientation=u'vertical', \n",
    "#                       rwidth=None, \n",
    "#                       log=False, \n",
    "#                       color=None, \n",
    "#                       label=None, \n",
    "#                       stacked=False, \n",
    "#                       hold=None, \n",
    "#                       **kwargs)"
   ]
  },
  {
   "cell_type": "code",
   "execution_count": null,
   "metadata": {
    "execution": {
     "iopub.status.busy": "2023-09-13T21:13:02.012637Z",
     "iopub.status.idle": "2023-09-13T21:13:02.012776Z",
     "shell.execute_reply": "2023-09-13T21:13:02.012711Z",
     "shell.execute_reply.started": "2023-09-13T21:13:02.012705Z"
    },
    "tags": []
   },
   "outputs": [],
   "source": [
    "%matplotlib inline\n",
    "fig=plt.figure(figsize=(10,10))\n",
    "fig.subplots_adjust(left=0.12, right=0.95, wspace=0.3,\n",
    "                    bottom=0.15, top=0.9)\n",
    "\n",
    "ax=fig.add_subplot(222)\n",
    "ax.imshow(thumbnail,origin=\"lower\",extent=(int(x1)-WID,int(x1)+WID,int(y1)-WID,int(y1)+WID))\n",
    "ax.set_xlabel(\"X\")\n",
    "ax.set_ylabel(\"Y\")\n",
    "\n",
    "ax=fig.add_subplot(221)\n",
    "base = plt.gca().transData\n",
    "rot = transforms.Affine2D().rotate_deg(-90)\n",
    "#ax.plot(yy,thumbnail_y,\"g\",rotation=u'vertical')\n",
    "ax.plot(-yy,thumbnail_y,\"g\",transform= rot + base)\n",
    "ax.set_ylabel(\"Y\")\n",
    "\n",
    "ax=fig.add_subplot(224)\n",
    "ax.plot(xx,thumbnail_x,\"b\")\n",
    "ax.set_xlabel(\"X\")\n",
    "plt.tight_layout()\n",
    "\n",
    "ax=fig.add_subplot(223)\n",
    "ax.set_xlim(0,10)\n",
    "ax.set_ylim(0,10)\n",
    "ax.set_xticklabels([])\n",
    "ax.set_xticks([])\n",
    "ax.set_yticks([])\n",
    "\n",
    "ax.text(0.05, 0.9, skew_str, transform=ax.transAxes, fontsize=12,verticalalignment='top', bbox=props)\n",
    "ax.text(0.05, 0.55, kurt_str, transform=ax.transAxes, fontsize=12,verticalalignment='top', bbox=props)\n",
    "ax.text(0.05, 0.2, norm_str, transform=ax.transAxes, fontsize=12,verticalalignment='top', bbox=props)\n",
    "plt.suptitle(title)"
   ]
  },
  {
   "cell_type": "code",
   "execution_count": null,
   "metadata": {
    "execution": {
     "iopub.status.busy": "2023-09-13T21:13:02.014204Z",
     "iopub.status.idle": "2023-09-13T21:13:02.014375Z",
     "shell.execute_reply": "2023-09-13T21:13:02.014300Z",
     "shell.execute_reply.started": "2023-09-13T21:13:02.014293Z"
    },
    "tags": []
   },
   "outputs": [],
   "source": [
    "# Usually stop here if one just want to get the 0th order location\n",
    "if not FLAG_GO_FOR_RECONSTRUCTION_WTH_SPECTRACTOR:\n",
    "    assert False\n",
    "else:\n",
    "    assert True"
   ]
  },
  {
   "cell_type": "markdown",
   "metadata": {},
   "source": [
    "# Go for spectrum reconstruction"
   ]
  },
  {
   "cell_type": "code",
   "execution_count": null,
   "metadata": {
    "execution": {
     "iopub.status.busy": "2023-09-13T21:13:02.014660Z",
     "iopub.status.idle": "2023-09-13T21:13:02.014792Z",
     "shell.execute_reply": "2023-09-13T21:13:02.014730Z",
     "shell.execute_reply.started": "2023-09-13T21:13:02.014724Z"
    },
    "tags": []
   },
   "outputs": [],
   "source": [
    "parameters.debug=True\n",
    "parameters.verbose=True\n",
    "parameters.display=True\n",
    "parameters.LIVE_FIT=False\n",
    "\n",
    "parameters.DEBUG=True\n",
    "parameters.VERBOSE=True\n",
    "parameters.DISPLAY=True\n",
    "parameters.LIVE_FIT=False"
   ]
  },
  {
   "cell_type": "code",
   "execution_count": null,
   "metadata": {
    "execution": {
     "iopub.status.busy": "2023-09-13T21:13:02.015349Z",
     "iopub.status.idle": "2023-09-13T21:13:02.015501Z",
     "shell.execute_reply": "2023-09-13T21:13:02.015431Z",
     "shell.execute_reply.started": "2023-09-13T21:13:02.015424Z"
    },
    "tags": []
   },
   "outputs": [],
   "source": [
    "filename"
   ]
  },
  {
   "cell_type": "code",
   "execution_count": null,
   "metadata": {
    "execution": {
     "iopub.status.busy": "2023-09-13T21:13:02.016078Z",
     "iopub.status.idle": "2023-09-13T21:13:02.016220Z",
     "shell.execute_reply": "2023-09-13T21:13:02.016152Z",
     "shell.execute_reply.started": "2023-09-13T21:13:02.016145Z"
    },
    "tags": []
   },
   "outputs": [],
   "source": [
    "output_directory"
   ]
  },
  {
   "cell_type": "code",
   "execution_count": null,
   "metadata": {
    "execution": {
     "iopub.status.busy": "2023-09-13T21:13:02.016672Z",
     "iopub.status.idle": "2023-09-13T21:13:02.016817Z",
     "shell.execute_reply": "2023-09-13T21:13:02.016752Z",
     "shell.execute_reply.started": "2023-09-13T21:13:02.016744Z"
    },
    "tags": []
   },
   "outputs": [],
   "source": [
    "%matplotlib inline\n",
    "if FLAG_RUNWITHEXCEPTIONS:\n",
    "    try:\n",
    "        spectrum = Spectractor(filename, output_directory, guess=[x1,y1], target_label=target_name_sel, disperser_label=disperser_label, config=config)\n",
    "    except:\n",
    "        errtype = sys.exc_info()[0]  # E.g. <class 'PermissionError'>\n",
    "        description = sys.exc_info()[1]   # E.g. [Errno 13] Permission denied: ...\n",
    "        \n",
    "        print(\"\\t +++++++++++++++++++++ Exception occured +++++++++++++++++++++++++++++++++++++++++\")\n",
    "        print(f\"\\t >>>>>  errtype = {errtype}\")\n",
    "        print(f\"\\t >>>>>> description = {description}\")\n",
    "else:\n",
    "    spectrum = Spectractor(filename, output_directory, guess=[x1,y1], target_label=target_name_sel, disperser_label=disperser_label, config=config)"
   ]
  },
  {
   "cell_type": "code",
   "execution_count": null,
   "metadata": {
    "tags": []
   },
   "outputs": [],
   "source": []
  },
  {
   "cell_type": "code",
   "execution_count": null,
   "metadata": {
    "execution": {
     "iopub.status.busy": "2023-09-13T21:13:02.017464Z",
     "iopub.status.idle": "2023-09-13T21:13:02.017728Z",
     "shell.execute_reply": "2023-09-13T21:13:02.017652Z",
     "shell.execute_reply.started": "2023-09-13T21:13:02.017644Z"
    },
    "tags": []
   },
   "outputs": [],
   "source": [
    "%matplotlib inline\n",
    "from matplotlib.backends.backend_pdf import PdfPages\n",
    "\n",
    "fig = plt.figure(figsize=[12, 6])\n",
    "ax = plt.gca()\n",
    "spectrum.plot_spectrum(ax=ax,force_lines=True) \n",
    "all_figs = [fig]\n",
    "# gerate a multipage pdf:\n",
    "multipage_pdf_file = f\"spectrum_final_{target}_{DATE}_{the_num}_{configdir}.pdf\"\n",
    "fullfn_multipage_pdf_file = os.path.join(output_figures,multipage_pdf_file)\n",
    "with PdfPages(fullfn_multipage_pdf_file) as pdf:\n",
    "    for the_fig in all_figs:\n",
    "        pdf.savefig(fig)\n",
    "        plt.close()\n"
   ]
  },
  {
   "cell_type": "markdown",
   "metadata": {},
   "source": [
    "# Backup output"
   ]
  },
  {
   "cell_type": "markdown",
   "metadata": {},
   "source": [
    "- If no crash occurs, arrive here\n",
    "\n",
    "./outputs_process_holo_config_DECONVOLUTION_PSF2D"
   ]
  },
  {
   "cell_type": "code",
   "execution_count": null,
   "metadata": {
    "execution": {
     "iopub.status.busy": "2023-09-13T21:13:02.018123Z",
     "iopub.status.idle": "2023-09-13T21:13:02.018263Z",
     "shell.execute_reply": "2023-09-13T21:13:02.018197Z",
     "shell.execute_reply.started": "2023-09-13T21:13:02.018191Z"
    },
    "tags": []
   },
   "outputs": [],
   "source": [
    "def cleandir(path):\n",
    "    if os.path.isdir(path):\n",
    "        files=os.listdir(path)\n",
    "        if len(files) > 0:\n",
    "            for f in files:\n",
    "                if os.path.isdir(os.path.join(path,f)):\n",
    "                    if f==\".ipynb_checkpoints\":\n",
    "                        shutil.rmtree(os.path.join(path,f))\n",
    "                    else:\n",
    "                        print(\" Cannot remove this directory {}\".format(os.path.join(path,f)))\n",
    "                else:\n",
    "                    os.remove(os.path.join(path,f))"
   ]
  },
  {
   "cell_type": "code",
   "execution_count": null,
   "metadata": {
    "execution": {
     "iopub.status.busy": "2023-09-13T21:13:02.018907Z",
     "iopub.status.idle": "2023-09-13T21:13:02.019138Z",
     "shell.execute_reply": "2023-09-13T21:13:02.019064Z",
     "shell.execute_reply.started": "2023-09-13T21:13:02.019056Z"
    },
    "tags": []
   },
   "outputs": [],
   "source": [
    "# this flag must be set if one want to clean results from previous runs\n",
    "if FLAG_MANAGE_OUTPUT_SPECTRACTOR:\n",
    "    \n",
    "    # manage global output directory of spectractor\n",
    "    # Basically it has the name of the input file image\n",
    "    \n",
    "    if not os.path.isdir(path_toptoptopoutput_spectractor):\n",
    "        os.mkdir(path_toptoptopoutput_spectractor)\n",
    "    \n",
    "    if not os.path.isdir(path_toptopoutput_spectractor):\n",
    "        os.mkdir(path_toptopoutput_spectractor) \n",
    "        \n",
    "    if configdir !=\"\":\n",
    "    # top directory    \n",
    "        if not os.path.isdir(path_topoutput_spectractor):\n",
    "            os.mkdir(path_topoutput_spectractor)   \n",
    "            \n",
    "            \n",
    "        if not os.path.isdir(path_output_spectractor):\n",
    "            os.mkdir(path_output_spectractor)\n",
    "  \n",
    "    \n",
    "    if not os.path.isdir(finalpath_output_spectractor):\n",
    "        os.mkdir(finalpath_output_spectractor)\n",
    "        os.mkdir(os.path.join(finalpath_output_spectractor,\"basespec\"))\n",
    "        os.mkdir(os.path.join(finalpath_output_spectractor,\"plots\"))\n",
    "    else:\n",
    "        cleandir(os.path.join(finalpath_output_spectractor,\"basespec\"))\n",
    "        cleandir(os.path.join(finalpath_output_spectractor,\"plots\"))"
   ]
  },
  {
   "cell_type": "code",
   "execution_count": null,
   "metadata": {
    "execution": {
     "iopub.status.busy": "2023-09-13T21:13:02.019600Z",
     "iopub.status.idle": "2023-09-13T21:13:02.019747Z",
     "shell.execute_reply": "2023-09-13T21:13:02.019677Z",
     "shell.execute_reply.started": "2023-09-13T21:13:02.019671Z"
    },
    "tags": []
   },
   "outputs": [],
   "source": [
    "print(\"******************************** SUCCESS ********************************************\")"
   ]
  },
  {
   "cell_type": "code",
   "execution_count": null,
   "metadata": {
    "execution": {
     "iopub.status.busy": "2023-09-13T21:13:02.020292Z",
     "iopub.status.idle": "2023-09-13T21:13:02.020443Z",
     "shell.execute_reply": "2023-09-13T21:13:02.020366Z",
     "shell.execute_reply.started": "2023-09-13T21:13:02.020360Z"
    }
   },
   "outputs": [],
   "source": [
    "copy_tree(output_directory,os.path.join(finalpath_output_spectractor,\"basespec\"))"
   ]
  },
  {
   "cell_type": "code",
   "execution_count": null,
   "metadata": {
    "execution": {
     "iopub.status.busy": "2023-09-13T21:13:02.020810Z",
     "iopub.status.idle": "2023-09-13T21:13:02.020948Z",
     "shell.execute_reply": "2023-09-13T21:13:02.020884Z",
     "shell.execute_reply.started": "2023-09-13T21:13:02.020878Z"
    }
   },
   "outputs": [],
   "source": [
    "copy_tree(output_figures,os.path.join(finalpath_output_spectractor,\"plots\"))"
   ]
  },
  {
   "cell_type": "code",
   "execution_count": null,
   "metadata": {
    "execution": {
     "iopub.status.busy": "2023-09-13T21:13:02.021520Z",
     "iopub.status.idle": "2023-09-13T21:13:02.021662Z",
     "shell.execute_reply": "2023-09-13T21:13:02.021594Z",
     "shell.execute_reply.started": "2023-09-13T21:13:02.021588Z"
    }
   },
   "outputs": [],
   "source": [
    "print(\"finalpath_output_spectractor = \",finalpath_output_spectractor)"
   ]
  },
  {
   "cell_type": "code",
   "execution_count": null,
   "metadata": {
    "execution": {
     "iopub.status.busy": "2023-09-13T21:13:02.022234Z",
     "iopub.status.idle": "2023-09-13T21:13:02.022390Z",
     "shell.execute_reply": "2023-09-13T21:13:02.022313Z",
     "shell.execute_reply.started": "2023-09-13T21:13:02.022307Z"
    }
   },
   "outputs": [],
   "source": [
    "os.listdir(os.path.join(finalpath_output_spectractor,\"basespec\"))"
   ]
  },
  {
   "cell_type": "code",
   "execution_count": null,
   "metadata": {
    "execution": {
     "iopub.status.busy": "2023-09-13T21:13:02.022868Z",
     "iopub.status.idle": "2023-09-13T21:13:02.023004Z",
     "shell.execute_reply": "2023-09-13T21:13:02.022941Z",
     "shell.execute_reply.started": "2023-09-13T21:13:02.022934Z"
    }
   },
   "outputs": [],
   "source": [
    "os.listdir(os.path.join(finalpath_output_spectractor,\"plots\"))"
   ]
  },
  {
   "cell_type": "code",
   "execution_count": null,
   "metadata": {
    "execution": {
     "iopub.status.busy": "2023-09-13T21:13:02.023651Z",
     "iopub.status.idle": "2023-09-13T21:13:02.023938Z",
     "shell.execute_reply": "2023-09-13T21:13:02.023861Z",
     "shell.execute_reply.started": "2023-09-13T21:13:02.023853Z"
    }
   },
   "outputs": [],
   "source": [
    "output_directory"
   ]
  },
  {
   "cell_type": "code",
   "execution_count": null,
   "metadata": {},
   "outputs": [],
   "source": []
  },
  {
   "cell_type": "code",
   "execution_count": null,
   "metadata": {},
   "outputs": [],
   "source": []
  },
  {
   "cell_type": "code",
   "execution_count": null,
   "metadata": {},
   "outputs": [],
   "source": []
  },
  {
   "cell_type": "code",
   "execution_count": null,
   "metadata": {},
   "outputs": [],
   "source": []
  }
 ],
 "metadata": {
  "kernelspec": {
   "display_name": "LSST",
   "language": "python",
   "name": "lsst"
  },
  "language_info": {
   "codemirror_mode": {
    "name": "ipython",
    "version": 3
   },
   "file_extension": ".py",
   "mimetype": "text/x-python",
   "name": "python",
   "nbconvert_exporter": "python",
   "pygments_lexer": "ipython3",
   "version": "3.11.4"
  },
  "toc": {
   "base_numbering": 1,
   "nav_menu": {},
   "number_sections": true,
   "sideBar": true,
   "skip_h1_title": false,
   "title_cell": "Table of Contents",
   "title_sidebar": "Contents",
   "toc_cell": false,
   "toc_position": {},
   "toc_section_display": true,
   "toc_window_display": false
  }
 },
 "nbformat": 4,
 "nbformat_minor": 4
}
