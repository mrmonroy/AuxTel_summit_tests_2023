{
 "cells": [
  {
   "cell_type": "markdown",
   "metadata": {},
   "source": [
    "# Build the logbook for Hologram with empty or filters"
   ]
  },
  {
   "cell_type": "markdown",
   "metadata": {},
   "source": [
    "- author : Sylvie Dagoret-Campagne\n",
    "- affiliation : IJCLab/IN2P3/CNES, DESC-LSST fullmember, behalf AuxTel Teal VERA C. Rubin observatory\n",
    "- creation date : September 6th 2023\n",
    "- last update : September 20th 2023\n",
    "\n",
    "\n",
    "Works directory per directory (day by day)\n",
    "\n",
    "For USDF"
   ]
  },
  {
   "cell_type": "code",
   "execution_count": 1,
   "metadata": {
    "execution": {
     "iopub.execute_input": "2023-09-20T12:14:32.918886Z",
     "iopub.status.busy": "2023-09-20T12:14:32.918726Z",
     "iopub.status.idle": "2023-09-20T12:14:32.922382Z",
     "shell.execute_reply": "2023-09-20T12:14:32.921997Z",
     "shell.execute_reply.started": "2023-09-20T12:14:32.918860Z"
    },
    "tags": []
   },
   "outputs": [
    {
     "data": {
      "text/plain": [
       "['/sdf/data/rubin/user/dagoret/AuxTel_summit_tests_2023/runspectractor_standalone/2023_09',\n",
       " '/home/d/dagoret/repos/repos_w_2023_35/analysis_tools/python',\n",
       " '/opt/lsst/software/stack/stack/miniconda3-py38_4.9.2-7.0.1/Linux64/cp_pipe/g857a3418e4+7df23b908a/python',\n",
       " '/opt/lsst/software/stack/stack/miniconda3-py38_4.9.2-7.0.1/Linux64/shapelet/g44018dc512+ea6441928c/python',\n",
       " '/opt/lsst/software/stack/stack/miniconda3-py38_4.9.2-7.0.1/Linux64/meas_modelfit/g93c4d6e787+79b822255a/python',\n",
       " '/opt/lsst/software/stack/stack/miniconda3-py38_4.9.2-7.0.1/Linux64/scarlet_extensions/g9d18589735+d445b4966c/lib/python',\n",
       " '/opt/lsst/software/stack/stack/miniconda3-py38_4.9.2-7.0.1/Linux64/proxmin/g33b4157f25/lib/python',\n",
       " '/opt/lsst/software/stack/stack/miniconda3-py38_4.9.2-7.0.1/Linux64/scarlet/g63ff1f842d+4083830bf8/lib/python',\n",
       " '/opt/lsst/software/stack/stack/miniconda3-py38_4.9.2-7.0.1/Linux64/meas_extensions_scarlet/g943cb464a2+f79590064d/python',\n",
       " '/opt/lsst/software/stack/stack/miniconda3-py38_4.9.2-7.0.1/Linux64/psfex/gc054bea089+81bc2a20b4/python',\n",
       " '/opt/lsst/software/stack/stack/miniconda3-py38_4.9.2-7.0.1/Linux64/meas_extensions_psfex/g58be5f913a+32f1932512/python',\n",
       " '/opt/lsst/software/stack/stack/miniconda3-py38_4.9.2-7.0.1/Linux64/meas_extensions_piff/gc86a011abf+9acc3d8d25/python',\n",
       " '/opt/lsst/software/stack/stack/miniconda3-py38_4.9.2-7.0.1/Linux64/meas_extensions_gaap/g8dd6597355+dceeeb951c/python',\n",
       " '/opt/lsst/software/stack/stack/miniconda3-py38_4.9.2-7.0.1/Linux64/meas_extensions_photometryKron/gb2715bf1a1+9acc3d8d25/python',\n",
       " '/opt/lsst/software/stack/stack/miniconda3-py38_4.9.2-7.0.1/Linux64/meas_extensions_convolved/g42fff21dfb+94f62ec815/python',\n",
       " '/opt/lsst/software/stack/stack/miniconda3-py38_4.9.2-7.0.1/Linux64/kht/gafcb7142de/cpp/build',\n",
       " '/opt/lsst/software/stack/stack/miniconda3-py38_4.9.2-7.0.1/Linux64/verify_metrics/gd129bed42c+81bc2a20b4/python',\n",
       " '/opt/lsst/software/stack/stack/miniconda3-py38_4.9.2-7.0.1/Linux64/felis/g56b87fd2ae+81bc2a20b4/python',\n",
       " '/opt/lsst/software/stack/stack/miniconda3-py38_4.9.2-7.0.1/Linux64/dax_apdb/g4c90b7bd52+fc57afb704/python',\n",
       " '/opt/lsst/software/stack/stack/miniconda3-py38_4.9.2-7.0.1/Linux64/verify/gffb8816710+02c788d496/python',\n",
       " '/opt/lsst/software/stack/stack/miniconda3-py38_4.9.2-7.0.1/Linux64/meas_deblender/g2cc88a2952+6327360372/python',\n",
       " '/opt/lsst/software/stack/stack/miniconda3-py38_4.9.2-7.0.1/Linux64/meas_extensions_shapeHSM/g571dde35ae+9acc3d8d25/python',\n",
       " '/opt/lsst/software/stack/stack/miniconda3-py38_4.9.2-7.0.1/Linux64/meas_extensions_trailedSources/g47da3c6c86+f7136a40d1/python',\n",
       " '/opt/lsst/software/stack/stack/miniconda3-py38_4.9.2-7.0.1/Linux64/meas_astrom/g0a0026dc87+9acc3d8d25/python',\n",
       " '/opt/lsst/software/stack/stack/miniconda3-py38_4.9.2-7.0.1/Linux64/ip_diffim/g07994bdeae+16b1756208/python',\n",
       " '/opt/lsst/software/stack/stack/miniconda3-py38_4.9.2-7.0.1/Linux64/dustmaps_cachedata/gbb0a0c949e+81bc2a20b4/python',\n",
       " '/opt/lsst/software/stack/stack/miniconda3-py38_4.9.2-7.0.1/Linux64/coadd_utils/g337abbeb29+ea6441928c/python',\n",
       " '/opt/lsst/software/stack/stack/miniconda3-py38_4.9.2-7.0.1/Linux64/pipe_tasks/g68a3911fdd+6ad9f154ac/python',\n",
       " '/opt/lsst/software/stack/stack/miniconda3-py38_4.9.2-7.0.1/Linux64/astro_metadata_translator/g0978aabd1f+2a7d2c9fe3/python',\n",
       " '/opt/lsst/software/stack/stack/miniconda3-py38_4.9.2-7.0.1/Linux64/obs_base/gcc620a9fd9+e9a6d3d3e6/python',\n",
       " '/opt/lsst/software/stack/stack/miniconda3-py38_4.9.2-7.0.1/Linux64/skymap/g37c6e7c3d5+905c2c68d7/python',\n",
       " '/opt/lsst/software/stack/stack/miniconda3-py38_4.9.2-7.0.1/Linux64/meas_base/g67924a670a+edc5793283/python',\n",
       " '/opt/lsst/software/stack/stack/miniconda3-py38_4.9.2-7.0.1/Linux64/meas_algorithms/g6f40f426a6+f7136a40d1/python',\n",
       " '/opt/lsst/software/stack/stack/miniconda3-py38_4.9.2-7.0.1/Linux64/ip_isr/gba31a79951+9acc3d8d25/python',\n",
       " '/opt/lsst/software/stack/stack/miniconda3-py38_4.9.2-7.0.1/Linux64/daf_relation/g8a20fa5453+e358f92434/python',\n",
       " '/opt/lsst/software/stack/stack/miniconda3-py38_4.9.2-7.0.1/Linux64/resources/g9e435448e7+e358f92434/python',\n",
       " '/opt/lsst/software/stack/stack/miniconda3-py38_4.9.2-7.0.1/Linux64/daf_butler/g11710eee44+2396472d69/python',\n",
       " '/opt/lsst/software/stack/stack/miniconda3-py38_4.9.2-7.0.1/Linux64/pipe_base/g6bb983e87d+fa056e98be/python',\n",
       " '/opt/lsst/software/stack/stack/miniconda3-py38_4.9.2-7.0.1/Linux64/afw/g5b0a815229+07073039e0/python',\n",
       " '/opt/lsst/software/stack/stack/miniconda3-py38_4.9.2-7.0.1/Linux64/astshim/g3273194fdb+f6908454ef/python',\n",
       " '/opt/lsst/software/stack/stack/miniconda3-py38_4.9.2-7.0.1/Linux64/log/g1e7d6db67d+e358f92434/python',\n",
       " '/opt/lsst/software/stack/stack/miniconda3-py38_4.9.2-7.0.1/Linux64/sphgeom/g6ae5381d9b+81bc2a20b4/python',\n",
       " '/opt/lsst/software/stack/stack/miniconda3-py38_4.9.2-7.0.1/Linux64/geom/ga1e77700b3+1440987d3f/python',\n",
       " '/opt/lsst/software/stack/stack/miniconda3-py38_4.9.2-7.0.1/Linux64/pex_config/g22560d942e+2a7d2c9fe3/python',\n",
       " '/opt/lsst/software/stack/stack/miniconda3-py38_4.9.2-7.0.1/Linux64/pex_exceptions/gdaeeff99f8+0d8dbea60f/python',\n",
       " '/opt/lsst/software/stack/stack/miniconda3-py38_4.9.2-7.0.1/Linux64/base/g98ffbb4407+81bc2a20b4/python',\n",
       " '/opt/lsst/software/stack/stack/miniconda3-py38_4.9.2-7.0.1/Linux64/cpputils/g9ddcbc5298+7f7571301f/python',\n",
       " '/opt/lsst/software/stack/stack/miniconda3-py38_4.9.2-7.0.1/Linux64/sconsUtils/g80c3e6a29f/python',\n",
       " '/opt/lsst/software/stack/stack/miniconda3-py38_4.9.2-7.0.1/Linux64/utils/gf0e1c1abb1+81bc2a20b4/python',\n",
       " '/opt/lsst/software/stack/stack/miniconda3-py38_4.9.2-7.0.1/Linux64/daf_base/gf041782ebf+2691319615/python',\n",
       " '/home/d/dagoret/repos/repos_w_2023_35/Spectractor/lib/python',\n",
       " '/home/d/dagoret/repos/repos_w_2023_35/atmospec/python',\n",
       " '/opt/lsst/software/stack/stack/miniconda3-py38_4.9.2-7.0.1/Linux64/ctrl_mpexec/g183f8e0c68+0b5ff14b26/python',\n",
       " '/opt/lsst/software/stack/stack/miniconda3-py38_4.9.2-7.0.1/Linux64/obs_lsst/g18ae76373f+3c91ea642d/python',\n",
       " '/opt/lsst/software/stack/stack/miniconda3-py38_4.9.2-7.0.1/Linux64/display_firefly/gae46bcf261+ea6441928c/python',\n",
       " '/opt/lsst/software/stack/stack/miniconda3-py38_4.9.2-7.0.1/Linux64/display_astrowidgets/g2bbee38e9b+ea6441928c/python',\n",
       " '/opt/lsst/software/stack/stack/miniconda3-py38_4.9.2-7.0.1/Linux64/gbdes/gc329cc8a54/build/pydir',\n",
       " '/opt/lsst/software/stack/stack/miniconda3-py38_4.9.2-7.0.1/Linux64/drp_tasks/geb290cab21+7b56d25c6a/python',\n",
       " '/opt/lsst/software/stack/stack/miniconda3-py38_4.9.2-7.0.1/Linux64/analysis_drp/gfadca26dcd+7df23b908a/python',\n",
       " '/opt/lsst/software/stack/stack/miniconda3-py38_4.9.2-7.0.1/Linux64/drp_pipe/g62dbaf9afa+539581bbb4/python',\n",
       " '/opt/lsst/software/stack/stack/miniconda3-py38_4.9.2-7.0.1/Linux64/cp_verify/ge14ceffff4+12c68b5962/python',\n",
       " '/opt/lsst/software/stack/stack/miniconda3-py38_4.9.2-7.0.1/Linux64/faro/ge8614a52ae+e4940fcbf0/python',\n",
       " '/opt/lsst/software/stack/stack/miniconda3-py38_4.9.2-7.0.1/Linux64/fgcm/g8d9a5b0805/lib/python',\n",
       " '/opt/lsst/software/stack/stack/miniconda3-py38_4.9.2-7.0.1/Linux64/fgcmcal/g023b260a0e+25821a5130/python',\n",
       " '/opt/lsst/software/stack/stack/miniconda3-py38_4.9.2-7.0.1/Linux64/display_matplotlib/g0265f82a02+ea6441928c/python',\n",
       " '/opt/lsst/software/stack/stack/miniconda3-py38_4.9.2-7.0.1/Linux64/ap_verify/g3bba7c13bf+c1b85e1378/python',\n",
       " '/opt/lsst/software/stack/stack/miniconda3-py38_4.9.2-7.0.1/Linux64/jointcal/g3c689f2686+4a33454177/python',\n",
       " '/opt/lsst/software/stack/stack/miniconda3-py38_4.9.2-7.0.1/Linux64/cbp/ga32fcf49c8+ea6441928c/python',\n",
       " '/opt/lsst/software/stack/stack/miniconda3-py38_4.9.2-7.0.1/Linux64/obs_subaru/g65833fab06+f9c311f76a/python',\n",
       " '/opt/lsst/software/stack/stack/miniconda3-py38_4.9.2-7.0.1/Linux64/obs_decam/gcd84e84c5d+9bde498c3c/python',\n",
       " '/opt/lsst/software/stack/stack/miniconda3-py38_4.9.2-7.0.1/Linux64/obs_cfht/g98ea1558ea+7a1fade221/python',\n",
       " '/opt/lsst/software/stack/stack/miniconda3-py38_4.9.2-7.0.1/Linux64/ctrl_bps_parsl/gfe186b85dc+6e30524a5b/python',\n",
       " '/opt/lsst/software/stack/stack/miniconda3-py38_4.9.2-7.0.1/Linux64/ctrl_bps_panda/g72cefa85e0+6e30524a5b/python',\n",
       " '/opt/lsst/software/stack/stack/miniconda3-py38_4.9.2-7.0.1/Linux64/ctrl_bps_htcondor/g4bda180e2e+6e30524a5b/python',\n",
       " '/opt/lsst/software/stack/stack/miniconda3-py38_4.9.2-7.0.1/Linux64/lsst_bps_plugins/g3a590c521e+29bb66eb6d/python',\n",
       " '/opt/lsst/software/stack/stack/miniconda3-py38_4.9.2-7.0.1/Linux64/ctrl_bps/gf871a26735+9b83f7e51d/python',\n",
       " '/opt/lsst/software/stack/stack/miniconda3-py38_4.9.2-7.0.1/Linux64/ctrl_platform_s3df/g3be6bbf6ee+b8e28c3ebe/python',\n",
       " '/opt/lsst/software/stack/stack/miniconda3-py38_4.9.2-7.0.1/Linux64/ctrl_execute/g3288a415c1+d78986aaf7/python',\n",
       " '/opt/lsst/software/stack/stack/miniconda3-py38_4.9.2-7.0.1/Linux64/display_ds9/gdb4ec4c597+ea6441928c/python',\n",
       " '/opt/lsst/software/stack/stack/miniconda3-py38_4.9.2-7.0.1/Linux64/meas_extensions_simpleShape/gcf0d15dbbd+f7136a40d1/python',\n",
       " '/opt/lsst/software/stack/stack/miniconda3-py38_4.9.2-7.0.1/Linux64/meas_transiNet/g2ca692352a+f7136a40d1/python',\n",
       " '/opt/lsst/software/stack/stack/miniconda3-py38_4.9.2-7.0.1/Linux64/alert_packet/gc1f99d08cb/python',\n",
       " '/opt/lsst/software/stack/stack/miniconda3-py38_4.9.2-7.0.1/Linux64/ap_association/g6758148a95+cc00875cc0/python',\n",
       " '/opt/lsst/software/stack/stack/miniconda3-py38_4.9.2-7.0.1/Linux64/ap_pipe/g06c608b3b8+b6810408d8/python',\n",
       " '/opt/lsst/software/stack/conda/miniconda3-py38_4.9.2/envs/lsst-scipipe-7.0.1/eups/python',\n",
       " '/opt/lsst/software/stack/conda/miniconda3-py38_4.9.2/envs/lsst-scipipe-7.0.1/lib/python311.zip',\n",
       " '/opt/lsst/software/stack/conda/miniconda3-py38_4.9.2/envs/lsst-scipipe-7.0.1/lib/python3.11',\n",
       " '/opt/lsst/software/stack/conda/miniconda3-py38_4.9.2/envs/lsst-scipipe-7.0.1/lib/python3.11/lib-dynload',\n",
       " '',\n",
       " '/home/d/dagoret/.local/lib/python3.11/site-packages',\n",
       " '/opt/lsst/software/stack/conda/miniconda3-py38_4.9.2/envs/lsst-scipipe-7.0.1/lib/python3.11/site-packages']"
      ]
     },
     "execution_count": 1,
     "metadata": {},
     "output_type": "execute_result"
    }
   ],
   "source": [
    "import sys\n",
    "sys.path"
   ]
  },
  {
   "cell_type": "code",
   "execution_count": 2,
   "metadata": {
    "execution": {
     "iopub.execute_input": "2023-09-20T12:14:32.923203Z",
     "iopub.status.busy": "2023-09-20T12:14:32.923083Z",
     "iopub.status.idle": "2023-09-20T12:14:33.136111Z",
     "shell.execute_reply": "2023-09-20T12:14:33.135648Z",
     "shell.execute_reply.started": "2023-09-20T12:14:32.923193Z"
    },
    "tags": []
   },
   "outputs": [
    {
     "name": "stdout",
     "output_type": "stream",
     "text": [
      "ls: cannot access /home/d/dagoret/rubin-user/AuxTelComm/notebooks_usdf/GeneratepseudoPostISRCCD/my_postisrccd_img: No such file or directory\n"
     ]
    }
   ],
   "source": [
    "! ls /home/d/dagoret/rubin-user/AuxTelComm/notebooks_usdf/GeneratepseudoPostISRCCD/my_postisrccd_img"
   ]
  },
  {
   "cell_type": "code",
   "execution_count": 3,
   "metadata": {
    "execution": {
     "iopub.execute_input": "2023-09-20T12:14:33.136934Z",
     "iopub.status.busy": "2023-09-20T12:14:33.136790Z",
     "iopub.status.idle": "2023-09-20T12:14:33.346798Z",
     "shell.execute_reply": "2023-09-20T12:14:33.346220Z",
     "shell.execute_reply.started": "2023-09-20T12:14:33.136918Z"
    },
    "tags": []
   },
   "outputs": [
    {
     "name": "stdout",
     "output_type": "stream",
     "text": [
      "20230117  20230131  20230705  20230720\t20230815  20230913\n",
      "20230118  20230202  20230706  20230801\t20230817  20230914\n",
      "20230119  20230704  20230718  20230802\t20230912\n"
     ]
    }
   ],
   "source": [
    "!ls /home/d/dagoret/rubin-user/DATA/AuxtelData2023/my_postisrccd_img_forspectractor_2023/empty~holo4_003\n"
   ]
  },
  {
   "cell_type": "markdown",
   "metadata": {},
   "source": [
    "# Select the combination DATE, FILTER, DISPERSER"
   ]
  },
  {
   "cell_type": "code",
   "execution_count": 4,
   "metadata": {
    "execution": {
     "iopub.execute_input": "2023-09-20T12:14:33.347740Z",
     "iopub.status.busy": "2023-09-20T12:14:33.347588Z",
     "iopub.status.idle": "2023-09-20T12:14:33.350297Z",
     "shell.execute_reply": "2023-09-20T12:14:33.349935Z",
     "shell.execute_reply.started": "2023-09-20T12:14:33.347719Z"
    },
    "tags": []
   },
   "outputs": [],
   "source": [
    "DATE = '20230912'\n",
    "filterdispersernames = [\"empty~holo4_001\",\\\n",
    "                        \"empty~holo4_003\",\\\n",
    "                        \"collimator~holo4_003\",\\\n",
    "                        \"cyl_lens~holo4_001\",\\\n",
    "                        \"cyl_lens~holo4_003\",\\\n",
    "                       ]\n",
    "filterdispersername = filterdispersernames[2]\n",
    "version=\"v7.0\"  # new orientation"
   ]
  },
  {
   "cell_type": "markdown",
   "metadata": {},
   "source": [
    "# If position need to be specified add it in this dictionnary"
   ]
  },
  {
   "cell_type": "code",
   "execution_count": 5,
   "metadata": {
    "execution": {
     "iopub.execute_input": "2023-09-20T12:14:33.351533Z",
     "iopub.status.busy": "2023-09-20T12:14:33.351409Z",
     "iopub.status.idle": "2023-09-20T12:14:33.354092Z",
     "shell.execute_reply": "2023-09-20T12:14:33.353750Z",
     "shell.execute_reply.started": "2023-09-20T12:14:33.351522Z"
    },
    "tags": []
   },
   "outputs": [],
   "source": [
    "# reconstructed / good /xpos /ypos\n",
    "\n",
    "if version == \"v7.0\":\n",
    "    info={\\\n",
    "\n",
    "          # with red filter\n",
    "          'exposure_2023031600351_postisrccd.fits':(1,1,300.,1700),\\\n",
    "         }\n",
    "        "
   ]
  },
  {
   "cell_type": "markdown",
   "metadata": {},
   "source": [
    "# Imports"
   ]
  },
  {
   "cell_type": "code",
   "execution_count": 6,
   "metadata": {
    "execution": {
     "iopub.execute_input": "2023-09-20T12:14:33.354670Z",
     "iopub.status.busy": "2023-09-20T12:14:33.354554Z",
     "iopub.status.idle": "2023-09-20T12:14:33.846722Z",
     "shell.execute_reply": "2023-09-20T12:14:33.846265Z",
     "shell.execute_reply.started": "2023-09-20T12:14:33.354659Z"
    },
    "tags": []
   },
   "outputs": [],
   "source": [
    "import numpy as np\n",
    "import matplotlib.pyplot as plt\n",
    "%matplotlib inline\n",
    "from mpl_toolkits.axes_grid1 import make_axes_locatable\n",
    "import pandas as pd\n",
    "\n",
    "import matplotlib.ticker                         # here's where the formatter is\n",
    "import os\n",
    "import re\n",
    "\n",
    "plt.rcParams[\"figure.figsize\"] = (16,4)\n",
    "plt.rcParams[\"axes.labelsize\"] = 'xx-large'\n",
    "plt.rcParams['axes.titlesize'] = 'xx-large'\n",
    "plt.rcParams['xtick.labelsize']= 'xx-large'\n",
    "plt.rcParams['ytick.labelsize']= 'xx-large'"
   ]
  },
  {
   "cell_type": "code",
   "execution_count": 7,
   "metadata": {
    "execution": {
     "iopub.execute_input": "2023-09-20T12:14:33.847636Z",
     "iopub.status.busy": "2023-09-20T12:14:33.847367Z",
     "iopub.status.idle": "2023-09-20T12:14:33.849890Z",
     "shell.execute_reply": "2023-09-20T12:14:33.849508Z",
     "shell.execute_reply.started": "2023-09-20T12:14:33.847623Z"
    },
    "tags": []
   },
   "outputs": [],
   "source": [
    "from astropy.io import fits"
   ]
  },
  {
   "cell_type": "code",
   "execution_count": 8,
   "metadata": {
    "execution": {
     "iopub.execute_input": "2023-09-20T12:14:33.850486Z",
     "iopub.status.busy": "2023-09-20T12:14:33.850367Z",
     "iopub.status.idle": "2023-09-20T12:14:33.855743Z",
     "shell.execute_reply": "2023-09-20T12:14:33.855365Z",
     "shell.execute_reply.started": "2023-09-20T12:14:33.850474Z"
    },
    "tags": []
   },
   "outputs": [
    {
     "name": "stderr",
     "output_type": "stream",
     "text": [
      "/tmp/ipykernel_4742/3547059130.py:1: DeprecationWarning: the imp module is deprecated in favour of importlib and slated for removal in Python 3.12; see the module's documentation for alternative uses\n",
      "  import imp\n"
     ]
    }
   ],
   "source": [
    "import imp\n",
    "MODULE_EXTENSIONS = ('.py', '.pyc', '.pyo')"
   ]
  },
  {
   "cell_type": "code",
   "execution_count": 9,
   "metadata": {
    "execution": {
     "iopub.execute_input": "2023-09-20T12:14:33.856345Z",
     "iopub.status.busy": "2023-09-20T12:14:33.856225Z",
     "iopub.status.idle": "2023-09-20T12:14:33.859059Z",
     "shell.execute_reply": "2023-09-20T12:14:33.858697Z",
     "shell.execute_reply.started": "2023-09-20T12:14:33.856334Z"
    },
    "tags": []
   },
   "outputs": [],
   "source": [
    "def package_contents(package_name):\n",
    "    file, pathname, description = imp.find_module(package_name)\n",
    "    if file:\n",
    "        raise ImportError('Not a package: %r', package_name)\n",
    "    # Use a set because some may be both source and compiled.\n",
    "    return set([os.path.splitext(module)[0]\n",
    "        for module in os.listdir(pathname)\n",
    "        if module.endswith(MODULE_EXTENSIONS)])"
   ]
  },
  {
   "cell_type": "code",
   "execution_count": 10,
   "metadata": {
    "execution": {
     "iopub.execute_input": "2023-09-20T12:14:33.859779Z",
     "iopub.status.busy": "2023-09-20T12:14:33.859652Z",
     "iopub.status.idle": "2023-09-20T12:14:33.872050Z",
     "shell.execute_reply": "2023-09-20T12:14:33.871714Z",
     "shell.execute_reply.started": "2023-09-20T12:14:33.859768Z"
    },
    "tags": []
   },
   "outputs": [
    {
     "data": {
      "text/plain": [
       "{'__init__',\n",
       " '_version',\n",
       " 'astrometry',\n",
       " 'config',\n",
       " 'logbook',\n",
       " 'parameters',\n",
       " 'tools'}"
      ]
     },
     "execution_count": 10,
     "metadata": {},
     "output_type": "execute_result"
    }
   ],
   "source": [
    "package_contents(\"spectractor\")"
   ]
  },
  {
   "cell_type": "code",
   "execution_count": 11,
   "metadata": {
    "execution": {
     "iopub.execute_input": "2023-09-20T12:14:33.872653Z",
     "iopub.status.busy": "2023-09-20T12:14:33.872540Z",
     "iopub.status.idle": "2023-09-20T12:14:33.879319Z",
     "shell.execute_reply": "2023-09-20T12:14:33.878963Z",
     "shell.execute_reply.started": "2023-09-20T12:14:33.872643Z"
    },
    "tags": []
   },
   "outputs": [
    {
     "data": {
      "text/plain": [
       "{'__init__',\n",
       " 'background',\n",
       " 'chromaticpsf',\n",
       " 'dispersers',\n",
       " 'extractor',\n",
       " 'images',\n",
       " 'psf',\n",
       " 'spectroscopy',\n",
       " 'spectrum',\n",
       " 'targets'}"
      ]
     },
     "execution_count": 11,
     "metadata": {},
     "output_type": "execute_result"
    }
   ],
   "source": [
    "package_contents(\"spectractor/extractor\")"
   ]
  },
  {
   "cell_type": "markdown",
   "metadata": {},
   "source": [
    "# Initialisation"
   ]
  },
  {
   "cell_type": "code",
   "execution_count": 12,
   "metadata": {
    "execution": {
     "iopub.execute_input": "2023-09-20T12:14:33.879930Z",
     "iopub.status.busy": "2023-09-20T12:14:33.879815Z",
     "iopub.status.idle": "2023-09-20T12:14:33.881801Z",
     "shell.execute_reply": "2023-09-20T12:14:33.881444Z",
     "shell.execute_reply.started": "2023-09-20T12:14:33.879920Z"
    },
    "tags": []
   },
   "outputs": [],
   "source": [
    "dir_logbooks=\"logbooks\""
   ]
  },
  {
   "cell_type": "code",
   "execution_count": 13,
   "metadata": {
    "execution": {
     "iopub.execute_input": "2023-09-20T12:14:33.882408Z",
     "iopub.status.busy": "2023-09-20T12:14:33.882292Z",
     "iopub.status.idle": "2023-09-20T12:14:33.885909Z",
     "shell.execute_reply": "2023-09-20T12:14:33.885545Z",
     "shell.execute_reply.started": "2023-09-20T12:14:33.882397Z"
    },
    "tags": []
   },
   "outputs": [],
   "source": [
    "import os\n",
    "if not os.path.exists(dir_logbooks):\n",
    "    os.makedirs(dir_logbooks)"
   ]
  },
  {
   "cell_type": "markdown",
   "metadata": {},
   "source": [
    "## Get inputs files and sort them according date and number"
   ]
  },
  {
   "cell_type": "code",
   "execution_count": 14,
   "metadata": {
    "execution": {
     "iopub.execute_input": "2023-09-20T12:14:33.887879Z",
     "iopub.status.busy": "2023-09-20T12:14:33.887755Z",
     "iopub.status.idle": "2023-09-20T12:14:33.890366Z",
     "shell.execute_reply": "2023-09-20T12:14:33.890008Z",
     "shell.execute_reply.started": "2023-09-20T12:14:33.887868Z"
    },
    "tags": []
   },
   "outputs": [],
   "source": [
    "home=os.getenv(\"HOME\")"
   ]
  },
  {
   "cell_type": "code",
   "execution_count": 15,
   "metadata": {
    "execution": {
     "iopub.execute_input": "2023-09-20T12:14:33.891027Z",
     "iopub.status.busy": "2023-09-20T12:14:33.890915Z",
     "iopub.status.idle": "2023-09-20T12:14:33.894950Z",
     "shell.execute_reply": "2023-09-20T12:14:33.894571Z",
     "shell.execute_reply.started": "2023-09-20T12:14:33.891017Z"
    }
   },
   "outputs": [],
   "source": [
    "image_path=filterdispersername\n",
    "logbook_csv=os.path.join(dir_logbooks,\"auxtellogbook_\" + filterdispersername + \"_\"+ DATE +\"_\" + version + \".csv\")\n",
    "logbook_xlsx=os.path.join(dir_logbooks,\"auxtellogbook_\" + filterdispersername + \"_\" +DATE +\"_\" + version + \".xlsx\")"
   ]
  },
  {
   "cell_type": "markdown",
   "metadata": {},
   "source": [
    "# Path"
   ]
  },
  {
   "cell_type": "code",
   "execution_count": 16,
   "metadata": {
    "execution": {
     "iopub.execute_input": "2023-09-20T12:14:33.895594Z",
     "iopub.status.busy": "2023-09-20T12:14:33.895479Z",
     "iopub.status.idle": "2023-09-20T12:14:33.906482Z",
     "shell.execute_reply": "2023-09-20T12:14:33.906123Z",
     "shell.execute_reply.started": "2023-09-20T12:14:33.895584Z"
    }
   },
   "outputs": [],
   "source": [
    "def GetPaths(computer_name):\n",
    "    \"\"\"\n",
    "    \"\"\"\n",
    "    \n",
    "    if computer_name == \"HOSTCC\":\n",
    "        \n",
    "        path_auxtel=\"/sps/lsst/groups/auxtel\"\n",
    "        path_spectractor=os.path.join(path_auxtel,\"softs/github/desc/Spectractor\")\n",
    "        path_spectractor_config=os.path.join(path_spectractor,\"config\")\n",
    "    \n",
    "        path_images=os.path.join(path_auxtel,\"data/hack_usdf/my_postisrccd_img_forspectractor_2023/\"+filterdispersername+\"/\"+DATE)\n",
    "        if configdir == \"\":\n",
    "            path_output_spectractor=os.path.join(path_auxtel,\"data/2023/OutputSpectractor/\"+imagemode+\"/\"+filterdispersername+\"/\"+DATE)\n",
    "        else:\n",
    "            path_output_spectractor=os.path.join(path_auxtel,\"data/2023/OutputSpectractor/\"+imagemode+\"/\"+filterdispersername+\"/\"+configdir+\"/\"+DATE)\n",
    "            path_topoutput_spectractor=os.path.join(path_auxtel,\"data/2023/OutputSpectractor/\"+imagemode+\"/\"+filterdispersername+\"/\"+configdir)\n",
    "            path_toptopoutput_spectractor=os.path.join(path_auxtel,\"data/2023/OutputSpectractor/\"+imagemode+\"/\"+filterdispersername)\n",
    "            path_toptoptopoutput_spectractor=os.path.join(path_auxtel,\"data/2023/OutputSpectractor/\"+imagemode)\n",
    "        \n",
    "    elif computer_name == \"LAPTOP1\":\n",
    "        path_auxtel=\"/Users/dagoret/DATA/AuxTelData2023\"\n",
    "        path_spectractor=os.path.join(path_auxtel,\"/Users/dagoret/MacOSX/GitHub/LSST/Spectractor\")\n",
    "        path_spectractor_config=os.path.join(path_spectractor,\"config\")\n",
    "        path_images=os.path.join(path_auxtel,\"data/2023/\"+filterdispersername+\"/\"+DATE)\n",
    "        if configdir == \"\":\n",
    "            path_output_spectractor=os.path.join(path_auxtel,\"data/2023/OutputSpectractor/\"+imagemode+\"/\"+filterdispersername+\"/\"+DATE)\n",
    "        else:\n",
    "            path_output_spectractor=os.path.join(path_auxtel,\"data/2023/OutputSpectractor/\"+imagemode+\"/\"+filterdispersername+\"/\"+configdir+\"/\"+DATE)\n",
    "            path_topoutput_spectractor=os.path.join(path_auxtel,\"data/2023/OutputSpectractor/\"+imagemode+\"/\"+filterdispersername+\"/\"+configdir)\n",
    "            path_toptopoutput_spectractor=os.path.join(path_auxtel,\"data/2023/OutputSpectractor/\"+imagemode+\"/\"+filterdispersername)\n",
    "            path_toptoptopoutput_spectractor=os.path.join(path_auxtel,\"data/2023/OutputSpectractor/\"+imagemode)\n",
    "        \n",
    "        \n",
    "    elif computer_name == \"WORKIMAC\":\n",
    "        path_auxtel=\"/Users/sylvie/DATA/AuxTelData2023\"\n",
    "        path_spectractor=os.path.join(path_auxtel,\"/Users/sylvie/MacOSX/GitHub/LSST/Spectractor\")\n",
    "        path_spectractor_config=os.path.join(path_spectractor,\"config\")\n",
    "        path_images=os.path.join(path_auxtel,\"data/2023/\"+filterdispersername+\"/\"+DATE)\n",
    "        if configdir == \"\":\n",
    "            path_output_spectractor=os.path.join(path_auxtel,\"data/2023/OutputSpectractor/\"+imagemode+\"/\"+filterdispersername+\"/\"+DATE)\n",
    "        else:\n",
    "            path_output_spectractor=os.path.join(path_auxtel,\"data/2023/OutputSpectractor/\"+imagemode+\"/\"+filterdispersername+\"/\"+configdir+\"/\"+DATE)\n",
    "            path_topoutput_spectractor=os.path.join(path_auxtel,\"data/2023/OutputSpectractor/\"+imagemode+\"/\"+filterdispersername+\"/\"+configdir)\n",
    "            path_toptopoutput_spectractor=os.path.join(path_auxtel,\"data/2023/OutputSpectractor/\"+imagemode+\"/\"+filterdispersername)\n",
    "            path_toptoptopoutput_spectractor=os.path.join(path_auxtel,\"data/2023/OutputSpectractor/\"+imagemode)\n",
    "            \n",
    "            \n",
    "        \n",
    "    elif computer_name == \"HOMEIMAC\":\n",
    "        path_auxtel=\"/Volumes/Backup2020/DATA\"\n",
    "        path_spectractor=os.path.join(path_auxtel,\"MacOSX/GitHub/LSST/Spectractor\")\n",
    "        path_spectractor_config=os.path.join(\".\",\"config\")\n",
    "        path_images=os.path.join(path_auxtel,\"hack_usdf/my_postisrccd_img_forspectractor_2023/\"+filterdispersername+\"/\"+DATE)\n",
    "        \n",
    "        # /Volumes/Backup2020/DATA/AuxTelDATA2023/data/2023/OutputSpectractor\n",
    "        \n",
    "        if configdir == \"\":\n",
    "            path_output_spectractor=os.path.join(path_auxtel,\"AuxTelDATA2023/data/2023/OutputSpectractor/\"+imagemode+\"/\"+filterdispersername+\"/\"+DATE)\n",
    "        else:\n",
    "            path_output_spectractor=os.path.join(path_auxtel,\"AuxTelDATA2023/data/2023/OutputSpectractor/\"+imagemode+\"/\"+filterdispersername+\"/\"+configdir+\"/\"+DATE)\n",
    "            path_topoutput_spectractor=os.path.join(path_auxtel,\"AuxTelDATA2023/data/2023/OutputSpectractor/\"+imagemode+\"/\"+filterdispersername+\"/\"+configdir)\n",
    "            path_toptopoutput_spectractor=os.path.join(path_auxtel,\"AuxTelDATA2023/data/2023/OutputSpectractor/\"+imagemode+\"/\"+filterdispersername)\n",
    "            path_toptoptopoutput_spectractor=os.path.join(path_auxtel,\"AuxTelDATA2023/data/2023/OutputSpectractor/\"+imagemode)\n",
    "    # /home/d/dagoret/rubin-user/DATA/AuxtelData2023/my_postisrccd_img_forspectractor_2023/empty~holo4_003\n",
    "    elif computer_name == \"USDF\":\n",
    "        path_auxtel=\"/home/d/dagoret/rubin-user/DATA\"\n",
    "        path_spectractor=os.path.join(\"/home/d/dagoret\",\"repos/repos_w_2023_35/Spectractor\")\n",
    "        path_spectractor_config=os.path.join(\".\",\"config\")\n",
    "        #path_images=os.path.join(path_auxtel,\"AuxtelData2023/my_postisrccd_img_forspectractor_2023/\"+filterdispersername+\"/\"+DATE)\n",
    "        path_images=os.path.join(path_auxtel,\"AuxtelData2023/dm_postisrccd_img_forspectractor_2023/\"+filterdispersername+\"/\"+DATE)\n",
    "        \n",
    "        # /Volumes/Backup2020/DATA/AuxTelDATA2023/data/2023/OutputSpectractor\n",
    "        \n",
    "        if configdir == \"\":\n",
    "            path_output_spectractor=os.path.join(path_auxtel,\"AuxtelData2023/OutputSpectractor/\"+imagemode+\"/\"+filterdispersername+\"/\"+DATE)\n",
    "        else:\n",
    "            path_output_spectractor=os.path.join(path_auxtel,\"AuxTelData2023/OutputSpectractor/\"+imagemode+\"/\"+filterdispersername+\"/\"+configdir+\"/\"+DATE)\n",
    "            path_topoutput_spectractor=os.path.join(path_auxtel,\"AuxtelData2023/OutputSpectractor/\"+imagemode+\"/\"+filterdispersername+\"/\"+configdir)\n",
    "            path_toptopoutput_spectractor=os.path.join(path_auxtel,\"AuxtelData2023/OutputSpectractor/\"+imagemode+\"/\"+filterdispersername)\n",
    "            path_toptoptopoutput_spectractor=os.path.join(path_auxtel,\"AuxtelData2023/OutputSpectractor/\"+imagemode)\n",
    "        \n",
    "        \n",
    "        \n",
    "    else:\n",
    "        print(f\"Unknown computer {computer_name}\")\n",
    "        \n",
    "              \n",
    "    return path_auxtel,path_spectractor,path_spectractor_config,path_images,path_toptoptopoutput_spectractor, path_toptopoutput_spectractor, path_topoutput_spectractor, path_output_spectractor\n",
    "        "
   ]
  },
  {
   "cell_type": "code",
   "execution_count": 17,
   "metadata": {
    "execution": {
     "iopub.execute_input": "2023-09-20T12:14:33.907087Z",
     "iopub.status.busy": "2023-09-20T12:14:33.906968Z",
     "iopub.status.idle": "2023-09-20T12:14:33.912588Z",
     "shell.execute_reply": "2023-09-20T12:14:33.912225Z",
     "shell.execute_reply.started": "2023-09-20T12:14:33.907077Z"
    }
   },
   "outputs": [],
   "source": [
    "configdir = \" \"\n",
    "imagemode = \" \"\n",
    "mycomputer_name = \"USDF\"\n",
    "path_auxtel,path_spectractor,path_spectractor_config,path_images,path_toptoptopoutput_spectractor, path_toptopoutput_spectractor, path_topoutput_spectractor, path_output_spectractor  = GetPaths(mycomputer_name)"
   ]
  },
  {
   "cell_type": "code",
   "execution_count": 18,
   "metadata": {
    "execution": {
     "iopub.execute_input": "2023-09-20T12:14:33.913183Z",
     "iopub.status.busy": "2023-09-20T12:14:33.913069Z",
     "iopub.status.idle": "2023-09-20T12:14:33.917870Z",
     "shell.execute_reply": "2023-09-20T12:14:33.917507Z",
     "shell.execute_reply.started": "2023-09-20T12:14:33.913173Z"
    },
    "tags": []
   },
   "outputs": [
    {
     "data": {
      "text/plain": [
       "'/home/d/dagoret/rubin-user/DATA'"
      ]
     },
     "execution_count": 18,
     "metadata": {},
     "output_type": "execute_result"
    }
   ],
   "source": [
    "path_auxtel"
   ]
  },
  {
   "cell_type": "code",
   "execution_count": 19,
   "metadata": {
    "execution": {
     "iopub.execute_input": "2023-09-20T12:14:33.918462Z",
     "iopub.status.busy": "2023-09-20T12:14:33.918348Z",
     "iopub.status.idle": "2023-09-20T12:14:33.921825Z",
     "shell.execute_reply": "2023-09-20T12:14:33.921456Z",
     "shell.execute_reply.started": "2023-09-20T12:14:33.918452Z"
    },
    "tags": []
   },
   "outputs": [
    {
     "data": {
      "text/plain": [
       "'/home/d/dagoret/rubin-user/DATA/AuxtelData2023/dm_postisrccd_img_forspectractor_2023/collimator~holo4_003/20230912'"
      ]
     },
     "execution_count": 19,
     "metadata": {},
     "output_type": "execute_result"
    }
   ],
   "source": [
    "#  /home/d/dagoret/rubin-user/DATA/AuxtelData2023/my_postisrccd_img_forspectractor_2023/empty~holo4_003\n",
    "path_images"
   ]
  },
  {
   "cell_type": "markdown",
   "metadata": {},
   "source": [
    "# Check the images exists"
   ]
  },
  {
   "cell_type": "code",
   "execution_count": 20,
   "metadata": {
    "execution": {
     "iopub.execute_input": "2023-09-20T12:14:33.922370Z",
     "iopub.status.busy": "2023-09-20T12:14:33.922260Z",
     "iopub.status.idle": "2023-09-20T12:14:33.925695Z",
     "shell.execute_reply": "2023-09-20T12:14:33.925350Z",
     "shell.execute_reply.started": "2023-09-20T12:14:33.922360Z"
    },
    "tags": []
   },
   "outputs": [],
   "source": [
    "dir_images=path_images"
   ]
  },
  {
   "cell_type": "code",
   "execution_count": 21,
   "metadata": {
    "execution": {
     "iopub.execute_input": "2023-09-20T12:14:33.926310Z",
     "iopub.status.busy": "2023-09-20T12:14:33.926198Z",
     "iopub.status.idle": "2023-09-20T12:14:33.929987Z",
     "shell.execute_reply": "2023-09-20T12:14:33.929630Z",
     "shell.execute_reply.started": "2023-09-20T12:14:33.926300Z"
    },
    "tags": []
   },
   "outputs": [
    {
     "data": {
      "text/plain": [
       "'/home/d/dagoret/rubin-user/DATA/AuxtelData2023/dm_postisrccd_img_forspectractor_2023/collimator~holo4_003/20230912'"
      ]
     },
     "execution_count": 21,
     "metadata": {},
     "output_type": "execute_result"
    }
   ],
   "source": [
    "dir_images"
   ]
  },
  {
   "cell_type": "code",
   "execution_count": 22,
   "metadata": {
    "execution": {
     "iopub.execute_input": "2023-09-20T12:14:33.930568Z",
     "iopub.status.busy": "2023-09-20T12:14:33.930458Z",
     "iopub.status.idle": "2023-09-20T12:14:34.141006Z",
     "shell.execute_reply": "2023-09-20T12:14:34.140471Z",
     "shell.execute_reply.started": "2023-09-20T12:14:33.930558Z"
    },
    "tags": []
   },
   "outputs": [
    {
     "name": "stdout",
     "output_type": "stream",
     "text": [
      "collimator~holo4_003  cyl_lens~holo4_003  empty~holo4_003\n",
      "cyl_lens~holo4_001    empty~holo4_001\t  transmitdata.sh\n"
     ]
    }
   ],
   "source": [
    "!ls /home/d/dagoret/rubin-user/DATA/AuxtelData2023/my_postisrccd_img_forspectractor_2023"
   ]
  },
  {
   "cell_type": "code",
   "execution_count": 23,
   "metadata": {
    "execution": {
     "iopub.execute_input": "2023-09-20T12:14:34.141890Z",
     "iopub.status.busy": "2023-09-20T12:14:34.141747Z",
     "iopub.status.idle": "2023-09-20T12:14:34.351847Z",
     "shell.execute_reply": "2023-09-20T12:14:34.351285Z",
     "shell.execute_reply.started": "2023-09-20T12:14:34.141876Z"
    },
    "tags": []
   },
   "outputs": [
    {
     "name": "stdout",
     "output_type": "stream",
     "text": [
      "exposure_2023081500089_pseudo-postisrccd.fits\n",
      "exposure_2023081500092_pseudo-postisrccd.fits\n",
      "exposure_2023081500093_pseudo-postisrccd.fits\n"
     ]
    }
   ],
   "source": [
    "! ls /home/d/dagoret/rubin-user/DATA/AuxtelData2023/my_postisrccd_img_forspectractor_2023/empty~holo4_003/20230815"
   ]
  },
  {
   "cell_type": "code",
   "execution_count": 24,
   "metadata": {
    "execution": {
     "iopub.execute_input": "2023-09-20T12:14:34.352818Z",
     "iopub.status.busy": "2023-09-20T12:14:34.352650Z",
     "iopub.status.idle": "2023-09-20T12:14:34.372957Z",
     "shell.execute_reply": "2023-09-20T12:14:34.372586Z",
     "shell.execute_reply.started": "2023-09-20T12:14:34.352802Z"
    }
   },
   "outputs": [],
   "source": [
    "all_files=os.listdir(dir_images)"
   ]
  },
  {
   "cell_type": "code",
   "execution_count": 25,
   "metadata": {
    "execution": {
     "iopub.execute_input": "2023-09-20T12:14:34.373584Z",
     "iopub.status.busy": "2023-09-20T12:14:34.373452Z",
     "iopub.status.idle": "2023-09-20T12:14:34.376424Z",
     "shell.execute_reply": "2023-09-20T12:14:34.376072Z",
     "shell.execute_reply.started": "2023-09-20T12:14:34.373573Z"
    }
   },
   "outputs": [
    {
     "data": {
      "text/plain": [
       "['exposure_2023091200282_dmpostisrccd.fits',\n",
       " 'exposure_2023091200386_dmpostisrccd.fits',\n",
       " 'exposure_2023091200251_dmpostisrccd.fits',\n",
       " 'exposure_2023091200401_dmpostisrccd.fits',\n",
       " 'exposure_2023091200426_dmpostisrccd.fits',\n",
       " 'exposure_2023091200296_dmpostisrccd.fits',\n",
       " 'exposure_2023091200297_dmpostisrccd.fits',\n",
       " 'exposure_2023091200281_dmpostisrccd.fits',\n",
       " 'exposure_2023091200311_dmpostisrccd.fits',\n",
       " 'exposure_2023091200341_dmpostisrccd.fits',\n",
       " 'exposure_2023091200402_dmpostisrccd.fits',\n",
       " 'exposure_2023091200372_dmpostisrccd.fits',\n",
       " 'exposure_2023091200371_dmpostisrccd.fits',\n",
       " 'exposure_2023091200326_dmpostisrccd.fits',\n",
       " 'exposure_2023091200266_dmpostisrccd.fits',\n",
       " 'exposure_2023091200425_dmpostisrccd.fits',\n",
       " 'exposure_2023091200252_dmpostisrccd.fits',\n",
       " 'exposure_2023091200342_dmpostisrccd.fits',\n",
       " 'exposure_2023091200387_dmpostisrccd.fits',\n",
       " 'exposure_2023091200312_dmpostisrccd.fits',\n",
       " 'exposure_2023091200356_dmpostisrccd.fits',\n",
       " 'exposure_2023091200327_dmpostisrccd.fits',\n",
       " 'exposure_2023091200267_dmpostisrccd.fits',\n",
       " 'exposure_2023091200357_dmpostisrccd.fits']"
      ]
     },
     "execution_count": 25,
     "metadata": {},
     "output_type": "execute_result"
    }
   ],
   "source": [
    "all_files"
   ]
  },
  {
   "cell_type": "code",
   "execution_count": 26,
   "metadata": {
    "execution": {
     "iopub.execute_input": "2023-09-20T12:14:34.377105Z",
     "iopub.status.busy": "2023-09-20T12:14:34.376988Z",
     "iopub.status.idle": "2023-09-20T12:14:34.379836Z",
     "shell.execute_reply": "2023-09-20T12:14:34.379488Z",
     "shell.execute_reply.started": "2023-09-20T12:14:34.377093Z"
    }
   },
   "outputs": [],
   "source": [
    "all_selected_files = []\n",
    "for filename in all_files:\n",
    "    if re.search(\".fits$\",filename):\n",
    "        all_selected_files.append(filename)\n",
    "N=len(all_selected_files)"
   ]
  },
  {
   "cell_type": "code",
   "execution_count": 27,
   "metadata": {
    "execution": {
     "iopub.execute_input": "2023-09-20T12:14:34.380433Z",
     "iopub.status.busy": "2023-09-20T12:14:34.380310Z",
     "iopub.status.idle": "2023-09-20T12:14:34.384567Z",
     "shell.execute_reply": "2023-09-20T12:14:34.384203Z",
     "shell.execute_reply.started": "2023-09-20T12:14:34.380420Z"
    }
   },
   "outputs": [],
   "source": [
    "all_selected_files=np.array(all_selected_files)"
   ]
  },
  {
   "cell_type": "markdown",
   "metadata": {},
   "source": [
    "### Sort files"
   ]
  },
  {
   "cell_type": "code",
   "execution_count": 31,
   "metadata": {
    "execution": {
     "iopub.execute_input": "2023-09-20T12:17:14.301321Z",
     "iopub.status.busy": "2023-09-20T12:17:14.301130Z",
     "iopub.status.idle": "2023-09-20T12:17:14.304093Z",
     "shell.execute_reply": "2023-09-20T12:17:14.303684Z",
     "shell.execute_reply.started": "2023-09-20T12:17:14.301308Z"
    },
    "tags": []
   },
   "outputs": [],
   "source": [
    "def file_tag_forsorting(filename):\n",
    "    #m=re.findall('exposure.*_(.*)_pseudo-postisrccd[.]fits$',filename)\n",
    "    m=re.findall('exposure.*_(.*)_dmpostisrccd[.]fits$',filename)\n",
    "    \n",
    "    return m[0]"
   ]
  },
  {
   "cell_type": "code",
   "execution_count": 29,
   "metadata": {
    "execution": {
     "iopub.execute_input": "2023-09-20T12:14:34.389292Z",
     "iopub.status.busy": "2023-09-20T12:14:34.389186Z",
     "iopub.status.idle": "2023-09-20T12:14:34.393961Z",
     "shell.execute_reply": "2023-09-20T12:14:34.393577Z",
     "shell.execute_reply.started": "2023-09-20T12:14:34.389282Z"
    }
   },
   "outputs": [
    {
     "data": {
      "text/plain": [
       "'2022031700310'"
      ]
     },
     "execution_count": 29,
     "metadata": {},
     "output_type": "execute_result"
    }
   ],
   "source": [
    "file_tag_forsorting('exposure_2022031700310_pseudo-postisrccd.fits')"
   ]
  },
  {
   "cell_type": "code",
   "execution_count": 32,
   "metadata": {
    "execution": {
     "iopub.execute_input": "2023-09-20T12:17:16.949505Z",
     "iopub.status.busy": "2023-09-20T12:17:16.949313Z",
     "iopub.status.idle": "2023-09-20T12:17:16.953273Z",
     "shell.execute_reply": "2023-09-20T12:17:16.952871Z",
     "shell.execute_reply.started": "2023-09-20T12:17:16.949491Z"
    },
    "tags": []
   },
   "outputs": [
    {
     "data": {
      "text/plain": [
       "array(['2023091200282', '2023091200386', '2023091200251', '2023091200401',\n",
       "       '2023091200426', '2023091200296', '2023091200297', '2023091200281',\n",
       "       '2023091200311', '2023091200341', '2023091200402', '2023091200372',\n",
       "       '2023091200371', '2023091200326', '2023091200266', '2023091200425',\n",
       "       '2023091200252', '2023091200342', '2023091200387', '2023091200312',\n",
       "       '2023091200356', '2023091200327', '2023091200267', '2023091200357'],\n",
       "      dtype='<U13')"
      ]
     },
     "execution_count": 32,
     "metadata": {},
     "output_type": "execute_result"
    }
   ],
   "source": [
    "#all_tags = [ file_tag_forsorting(filename)[0] for filename in all_selected_files]\n",
    "all_tags = [ file_tag_forsorting(filename) for filename in all_selected_files]\n",
    "all_tags=np.array(all_tags)\n",
    "all_tags"
   ]
  },
  {
   "cell_type": "code",
   "execution_count": 33,
   "metadata": {
    "execution": {
     "iopub.execute_input": "2023-09-20T12:17:23.135936Z",
     "iopub.status.busy": "2023-09-20T12:17:23.135638Z",
     "iopub.status.idle": "2023-09-20T12:17:23.138867Z",
     "shell.execute_reply": "2023-09-20T12:17:23.138321Z",
     "shell.execute_reply.started": "2023-09-20T12:17:23.135921Z"
    },
    "tags": []
   },
   "outputs": [],
   "source": [
    "indexes=np.argsort(all_tags)"
   ]
  },
  {
   "cell_type": "code",
   "execution_count": 34,
   "metadata": {
    "execution": {
     "iopub.execute_input": "2023-09-20T12:17:24.047789Z",
     "iopub.status.busy": "2023-09-20T12:17:24.047500Z",
     "iopub.status.idle": "2023-09-20T12:17:24.050138Z",
     "shell.execute_reply": "2023-09-20T12:17:24.049747Z",
     "shell.execute_reply.started": "2023-09-20T12:17:24.047775Z"
    },
    "tags": []
   },
   "outputs": [],
   "source": [
    "sorted_files=all_selected_files[indexes]"
   ]
  },
  {
   "cell_type": "code",
   "execution_count": 35,
   "metadata": {
    "execution": {
     "iopub.execute_input": "2023-09-20T12:17:24.879503Z",
     "iopub.status.busy": "2023-09-20T12:17:24.879221Z",
     "iopub.status.idle": "2023-09-20T12:17:24.882759Z",
     "shell.execute_reply": "2023-09-20T12:17:24.882381Z",
     "shell.execute_reply.started": "2023-09-20T12:17:24.879489Z"
    },
    "tags": []
   },
   "outputs": [
    {
     "data": {
      "text/plain": [
       "array(['exposure_2023091200251_dmpostisrccd.fits',\n",
       "       'exposure_2023091200252_dmpostisrccd.fits',\n",
       "       'exposure_2023091200266_dmpostisrccd.fits',\n",
       "       'exposure_2023091200267_dmpostisrccd.fits',\n",
       "       'exposure_2023091200281_dmpostisrccd.fits',\n",
       "       'exposure_2023091200282_dmpostisrccd.fits',\n",
       "       'exposure_2023091200296_dmpostisrccd.fits',\n",
       "       'exposure_2023091200297_dmpostisrccd.fits',\n",
       "       'exposure_2023091200311_dmpostisrccd.fits',\n",
       "       'exposure_2023091200312_dmpostisrccd.fits',\n",
       "       'exposure_2023091200326_dmpostisrccd.fits',\n",
       "       'exposure_2023091200327_dmpostisrccd.fits',\n",
       "       'exposure_2023091200341_dmpostisrccd.fits',\n",
       "       'exposure_2023091200342_dmpostisrccd.fits',\n",
       "       'exposure_2023091200356_dmpostisrccd.fits',\n",
       "       'exposure_2023091200357_dmpostisrccd.fits',\n",
       "       'exposure_2023091200371_dmpostisrccd.fits',\n",
       "       'exposure_2023091200372_dmpostisrccd.fits',\n",
       "       'exposure_2023091200386_dmpostisrccd.fits',\n",
       "       'exposure_2023091200387_dmpostisrccd.fits',\n",
       "       'exposure_2023091200401_dmpostisrccd.fits',\n",
       "       'exposure_2023091200402_dmpostisrccd.fits',\n",
       "       'exposure_2023091200425_dmpostisrccd.fits',\n",
       "       'exposure_2023091200426_dmpostisrccd.fits'], dtype='<U40')"
      ]
     },
     "execution_count": 35,
     "metadata": {},
     "output_type": "execute_result"
    }
   ],
   "source": [
    "sorted_files"
   ]
  },
  {
   "cell_type": "code",
   "execution_count": 36,
   "metadata": {
    "execution": {
     "iopub.execute_input": "2023-09-20T12:17:30.705047Z",
     "iopub.status.busy": "2023-09-20T12:17:30.704754Z",
     "iopub.status.idle": "2023-09-20T12:17:30.707448Z",
     "shell.execute_reply": "2023-09-20T12:17:30.707049Z",
     "shell.execute_reply.started": "2023-09-20T12:17:30.705034Z"
    },
    "tags": []
   },
   "outputs": [],
   "source": [
    "N=len(sorted_files)"
   ]
  },
  {
   "cell_type": "markdown",
   "metadata": {},
   "source": [
    "# Build the logbook from the headers"
   ]
  },
  {
   "cell_type": "code",
   "execution_count": 37,
   "metadata": {
    "execution": {
     "iopub.execute_input": "2023-09-20T12:17:32.266182Z",
     "iopub.status.busy": "2023-09-20T12:17:32.265997Z",
     "iopub.status.idle": "2023-09-20T12:17:32.396498Z",
     "shell.execute_reply": "2023-09-20T12:17:32.396076Z",
     "shell.execute_reply.started": "2023-09-20T12:17:32.266169Z"
    },
    "tags": []
   },
   "outputs": [],
   "source": [
    "idx=0\n",
    "#ccdir='/sps/lsst/groups/auxtel/data/2021/holo/FlipCleans'\n",
    "ccdir=dir_images\n",
    "all_dates=[]\n",
    "all_files=[]\n",
    "all_seqnum=[]\n",
    "all_subdir=[]\n",
    "all_indexes=[]\n",
    "all_targets=[]\n",
    "all_filters=[]\n",
    "all_disperser=[]\n",
    "all_airmass=[]\n",
    "all_exposures=[]\n",
    "all_focus=[]\n",
    "all_seeing=[]\n",
    "all_P=[]\n",
    "all_T=[]\n",
    "all_H=[]\n",
    "all_W=[]\n",
    "for filename in sorted_files:\n",
    "    fullfilename=os.path.join(dir_images,filename)\n",
    "    hdu = fits.open(fullfilename)\n",
    "    hdu0=hdu[0]\n",
    "    hdr0=hdu0.header \n",
    "    all_indexes.append(idx)\n",
    "    all_seqnum.append(hdr0['SEQNUM'])\n",
    "    all_files.append(filename)\n",
    "    all_subdir.append(ccdir)\n",
    "    targetname=hdr0['OBJECT']\n",
    "    all_targets.append(targetname)\n",
    "    all_dates.append(hdr0['DATE-OBS'])\n",
    "    all_airmass.append(hdr0['AMSTART'])\n",
    "    all_filters.append(hdr0['FILTER'])\n",
    "    all_disperser.append(hdr0['GRATING'])\n",
    "    all_exposures.append(hdr0['EXPTIME'])\n",
    "    all_focus.append(hdr0['FOCUSZ'])\n",
    "    all_seeing.append(hdr0['SEEING'])\n",
    "    all_P.append(hdr0['PRESSURE'])\n",
    "    all_T.append(hdr0['AIRTEMP'])\n",
    "    all_H.append(hdr0['HUMIDITY'])\n",
    "    all_W.append(hdr0['WINDSPD'])\n",
    "       \n",
    "    \n",
    "    idx+=1\n",
    "    "
   ]
  },
  {
   "cell_type": "markdown",
   "metadata": {},
   "source": [
    "# Make pandas dataframe"
   ]
  },
  {
   "cell_type": "markdown",
   "metadata": {},
   "source": [
    "## Create pandas dataframe"
   ]
  },
  {
   "cell_type": "code",
   "execution_count": 38,
   "metadata": {
    "execution": {
     "iopub.execute_input": "2023-09-20T12:17:33.727990Z",
     "iopub.status.busy": "2023-09-20T12:17:33.727826Z",
     "iopub.status.idle": "2023-09-20T12:17:33.731201Z",
     "shell.execute_reply": "2023-09-20T12:17:33.730825Z",
     "shell.execute_reply.started": "2023-09-20T12:17:33.727979Z"
    },
    "tags": []
   },
   "outputs": [],
   "source": [
    "df=pd.DataFrame()"
   ]
  },
  {
   "cell_type": "code",
   "execution_count": 39,
   "metadata": {
    "execution": {
     "iopub.execute_input": "2023-09-20T12:17:33.983179Z",
     "iopub.status.busy": "2023-09-20T12:17:33.983055Z",
     "iopub.status.idle": "2023-09-20T12:17:33.985749Z",
     "shell.execute_reply": "2023-09-20T12:17:33.985403Z",
     "shell.execute_reply.started": "2023-09-20T12:17:33.983168Z"
    },
    "tags": []
   },
   "outputs": [
    {
     "data": {
      "text/plain": [
       "24"
      ]
     },
     "execution_count": 39,
     "metadata": {},
     "output_type": "execute_result"
    }
   ],
   "source": [
    "len(all_airmass)"
   ]
  },
  {
   "cell_type": "code",
   "execution_count": 40,
   "metadata": {
    "execution": {
     "iopub.execute_input": "2023-09-20T12:17:34.485287Z",
     "iopub.status.busy": "2023-09-20T12:17:34.485018Z",
     "iopub.status.idle": "2023-09-20T12:17:34.487547Z",
     "shell.execute_reply": "2023-09-20T12:17:34.487171Z",
     "shell.execute_reply.started": "2023-09-20T12:17:34.485273Z"
    },
    "tags": []
   },
   "outputs": [],
   "source": [
    "N=len(all_indexes)"
   ]
  },
  {
   "cell_type": "markdown",
   "metadata": {},
   "source": [
    "## Fill with container info"
   ]
  },
  {
   "cell_type": "code",
   "execution_count": 41,
   "metadata": {
    "execution": {
     "iopub.execute_input": "2023-09-20T12:17:35.286092Z",
     "iopub.status.busy": "2023-09-20T12:17:35.285821Z",
     "iopub.status.idle": "2023-09-20T12:17:35.293026Z",
     "shell.execute_reply": "2023-09-20T12:17:35.292651Z",
     "shell.execute_reply.started": "2023-09-20T12:17:35.286080Z"
    },
    "tags": []
   },
   "outputs": [],
   "source": [
    "df['index']=all_indexes\n",
    "df['date']=all_dates\n",
    "df['path']=all_subdir\n",
    "df['file']=all_files\n",
    "df['num']=all_seqnum\n",
    "df['object']=all_targets\n",
    "df['filter']=all_filters\n",
    "df['disperser']=all_disperser\n",
    "df['airmass']=all_airmass\n",
    "df['exposure']=all_exposures\n",
    "df['focus']=all_focus\n",
    "df['seeing']=all_seeing\n",
    "df['pressure']=all_P\n",
    "df['temperature']=all_T\n",
    "df['humidity']=all_H\n",
    "df['windspd']=all_W"
   ]
  },
  {
   "cell_type": "markdown",
   "metadata": {},
   "source": [
    "## Add dictionnary info"
   ]
  },
  {
   "cell_type": "markdown",
   "metadata": {},
   "source": [
    "### Initialise new columns"
   ]
  },
  {
   "cell_type": "code",
   "execution_count": 42,
   "metadata": {
    "execution": {
     "iopub.execute_input": "2023-09-20T12:17:36.263933Z",
     "iopub.status.busy": "2023-09-20T12:17:36.263756Z",
     "iopub.status.idle": "2023-09-20T12:17:36.266938Z",
     "shell.execute_reply": "2023-09-20T12:17:36.266524Z",
     "shell.execute_reply.started": "2023-09-20T12:17:36.263919Z"
    },
    "tags": []
   },
   "outputs": [],
   "source": [
    "Obj_posXpix=np.full(N,np.nan)\n",
    "Obj_posYpix=np.full(N,np.nan)\n",
    "Dx=np.full(N,np.nan)\n",
    "Dy=np.full(N,np.nan)\n",
    "run=np.full(N,np.nan)\n",
    "quality=np.full(N,np.nan)\n",
    "skip=np.full(N,\"    \")"
   ]
  },
  {
   "cell_type": "markdown",
   "metadata": {},
   "source": [
    "### Fill dictionnary info"
   ]
  },
  {
   "cell_type": "code",
   "execution_count": 43,
   "metadata": {
    "execution": {
     "iopub.execute_input": "2023-09-20T12:17:36.665266Z",
     "iopub.status.busy": "2023-09-20T12:17:36.664848Z",
     "iopub.status.idle": "2023-09-20T12:17:36.668093Z",
     "shell.execute_reply": "2023-09-20T12:17:36.667723Z",
     "shell.execute_reply.started": "2023-09-20T12:17:36.665249Z"
    },
    "tags": []
   },
   "outputs": [],
   "source": [
    "# loop on rows index\n",
    "for idx in np.arange(N):\n",
    "    filename=all_files[idx]\n",
    "    # check if filename is in dictionnary\n",
    "    if filename in info.keys():\n",
    "        (run_flag,quality_flag,xpos,ypos)=info[filename]\n",
    "        Obj_posXpix[idx]=int(xpos)\n",
    "        Obj_posYpix[idx]=int(ypos)\n",
    "        run[idx]=run_flag\n",
    "        if quality_flag==1:\n",
    "            skip[idx] = \"    \"\n",
    "            quality[idx]=1\n",
    "        else:\n",
    "            skip[idx] = \"skip\"\n",
    "            quality[idx]=0"
   ]
  },
  {
   "cell_type": "code",
   "execution_count": 44,
   "metadata": {
    "execution": {
     "iopub.execute_input": "2023-09-20T12:17:36.853187Z",
     "iopub.status.busy": "2023-09-20T12:17:36.853071Z",
     "iopub.status.idle": "2023-09-20T12:17:36.856663Z",
     "shell.execute_reply": "2023-09-20T12:17:36.856306Z",
     "shell.execute_reply.started": "2023-09-20T12:17:36.853177Z"
    },
    "tags": []
   },
   "outputs": [],
   "source": [
    "df['Obj-posXpix']=Obj_posXpix\n",
    "df['Obj-posYpix']=Obj_posYpix\n",
    "df['Dx']=Dx\n",
    "df['Dy']=Dy\n",
    "df['skip']=skip\n",
    "df['run']=run\n",
    "df['quality']=quality"
   ]
  },
  {
   "cell_type": "code",
   "execution_count": 45,
   "metadata": {
    "execution": {
     "iopub.execute_input": "2023-09-20T12:17:37.052675Z",
     "iopub.status.busy": "2023-09-20T12:17:37.052325Z",
     "iopub.status.idle": "2023-09-20T12:17:37.054510Z",
     "shell.execute_reply": "2023-09-20T12:17:37.054148Z",
     "shell.execute_reply.started": "2023-09-20T12:17:37.052660Z"
    },
    "tags": []
   },
   "outputs": [],
   "source": [
    "pd.set_option('display.max_rows', None)"
   ]
  },
  {
   "cell_type": "code",
   "execution_count": 46,
   "metadata": {
    "execution": {
     "iopub.execute_input": "2023-09-20T12:17:37.244138Z",
     "iopub.status.busy": "2023-09-20T12:17:37.243772Z",
     "iopub.status.idle": "2023-09-20T12:17:37.260901Z",
     "shell.execute_reply": "2023-09-20T12:17:37.260538Z",
     "shell.execute_reply.started": "2023-09-20T12:17:37.244125Z"
    },
    "tags": []
   },
   "outputs": [
    {
     "data": {
      "text/html": [
       "<div>\n",
       "<style scoped>\n",
       "    .dataframe tbody tr th:only-of-type {\n",
       "        vertical-align: middle;\n",
       "    }\n",
       "\n",
       "    .dataframe tbody tr th {\n",
       "        vertical-align: top;\n",
       "    }\n",
       "\n",
       "    .dataframe thead th {\n",
       "        text-align: right;\n",
       "    }\n",
       "</style>\n",
       "<table border=\"1\" class=\"dataframe\">\n",
       "  <thead>\n",
       "    <tr style=\"text-align: right;\">\n",
       "      <th></th>\n",
       "      <th>index</th>\n",
       "      <th>date</th>\n",
       "      <th>path</th>\n",
       "      <th>file</th>\n",
       "      <th>num</th>\n",
       "      <th>object</th>\n",
       "      <th>filter</th>\n",
       "      <th>disperser</th>\n",
       "      <th>airmass</th>\n",
       "      <th>exposure</th>\n",
       "      <th>...</th>\n",
       "      <th>temperature</th>\n",
       "      <th>humidity</th>\n",
       "      <th>windspd</th>\n",
       "      <th>Obj-posXpix</th>\n",
       "      <th>Obj-posYpix</th>\n",
       "      <th>Dx</th>\n",
       "      <th>Dy</th>\n",
       "      <th>skip</th>\n",
       "      <th>run</th>\n",
       "      <th>quality</th>\n",
       "    </tr>\n",
       "  </thead>\n",
       "  <tbody>\n",
       "    <tr>\n",
       "      <th>0</th>\n",
       "      <td>0</td>\n",
       "      <td>2023-09-13T02:49:39.056</td>\n",
       "      <td>/home/d/dagoret/rubin-user/DATA/AuxtelData2023...</td>\n",
       "      <td>exposure_2023091200251_dmpostisrccd.fits</td>\n",
       "      <td>251</td>\n",
       "      <td>HD167060</td>\n",
       "      <td>collimator</td>\n",
       "      <td>holo4_003</td>\n",
       "      <td>1.394863</td>\n",
       "      <td>30.0</td>\n",
       "      <td>...</td>\n",
       "      <td>-0.6000</td>\n",
       "      <td>74.775002</td>\n",
       "      <td>6.0882</td>\n",
       "      <td>NaN</td>\n",
       "      <td>NaN</td>\n",
       "      <td>NaN</td>\n",
       "      <td>NaN</td>\n",
       "      <td></td>\n",
       "      <td>NaN</td>\n",
       "      <td>NaN</td>\n",
       "    </tr>\n",
       "    <tr>\n",
       "      <th>1</th>\n",
       "      <td>1</td>\n",
       "      <td>2023-09-13T02:50:21.993</td>\n",
       "      <td>/home/d/dagoret/rubin-user/DATA/AuxtelData2023...</td>\n",
       "      <td>exposure_2023091200252_dmpostisrccd.fits</td>\n",
       "      <td>252</td>\n",
       "      <td>HD167060</td>\n",
       "      <td>collimator</td>\n",
       "      <td>holo4_003</td>\n",
       "      <td>1.396716</td>\n",
       "      <td>30.0</td>\n",
       "      <td>...</td>\n",
       "      <td>-0.6000</td>\n",
       "      <td>73.375000</td>\n",
       "      <td>6.1716</td>\n",
       "      <td>NaN</td>\n",
       "      <td>NaN</td>\n",
       "      <td>NaN</td>\n",
       "      <td>NaN</td>\n",
       "      <td></td>\n",
       "      <td>NaN</td>\n",
       "      <td>NaN</td>\n",
       "    </tr>\n",
       "    <tr>\n",
       "      <th>2</th>\n",
       "      <td>2</td>\n",
       "      <td>2023-09-13T03:00:34.619</td>\n",
       "      <td>/home/d/dagoret/rubin-user/DATA/AuxtelData2023...</td>\n",
       "      <td>exposure_2023091200266_dmpostisrccd.fits</td>\n",
       "      <td>266</td>\n",
       "      <td>Feige110</td>\n",
       "      <td>collimator</td>\n",
       "      <td>holo4_003</td>\n",
       "      <td>1.204973</td>\n",
       "      <td>30.0</td>\n",
       "      <td>...</td>\n",
       "      <td>-0.6375</td>\n",
       "      <td>77.387497</td>\n",
       "      <td>6.4218</td>\n",
       "      <td>NaN</td>\n",
       "      <td>NaN</td>\n",
       "      <td>NaN</td>\n",
       "      <td>NaN</td>\n",
       "      <td></td>\n",
       "      <td>NaN</td>\n",
       "      <td>NaN</td>\n",
       "    </tr>\n",
       "    <tr>\n",
       "      <th>3</th>\n",
       "      <td>3</td>\n",
       "      <td>2023-09-13T03:01:17.817</td>\n",
       "      <td>/home/d/dagoret/rubin-user/DATA/AuxtelData2023...</td>\n",
       "      <td>exposure_2023091200267_dmpostisrccd.fits</td>\n",
       "      <td>267</td>\n",
       "      <td>Feige110</td>\n",
       "      <td>collimator</td>\n",
       "      <td>holo4_003</td>\n",
       "      <td>1.203372</td>\n",
       "      <td>30.0</td>\n",
       "      <td>...</td>\n",
       "      <td>-0.6000</td>\n",
       "      <td>77.324997</td>\n",
       "      <td>5.7546</td>\n",
       "      <td>NaN</td>\n",
       "      <td>NaN</td>\n",
       "      <td>NaN</td>\n",
       "      <td>NaN</td>\n",
       "      <td></td>\n",
       "      <td>NaN</td>\n",
       "      <td>NaN</td>\n",
       "    </tr>\n",
       "    <tr>\n",
       "      <th>4</th>\n",
       "      <td>4</td>\n",
       "      <td>2023-09-13T03:10:24.382</td>\n",
       "      <td>/home/d/dagoret/rubin-user/DATA/AuxtelData2023...</td>\n",
       "      <td>exposure_2023091200281_dmpostisrccd.fits</td>\n",
       "      <td>281</td>\n",
       "      <td>HD009051</td>\n",
       "      <td>collimator</td>\n",
       "      <td>holo4_003</td>\n",
       "      <td>1.488436</td>\n",
       "      <td>30.0</td>\n",
       "      <td>...</td>\n",
       "      <td>-0.5250</td>\n",
       "      <td>73.750000</td>\n",
       "      <td>6.4218</td>\n",
       "      <td>NaN</td>\n",
       "      <td>NaN</td>\n",
       "      <td>NaN</td>\n",
       "      <td>NaN</td>\n",
       "      <td></td>\n",
       "      <td>NaN</td>\n",
       "      <td>NaN</td>\n",
       "    </tr>\n",
       "    <tr>\n",
       "      <th>5</th>\n",
       "      <td>5</td>\n",
       "      <td>2023-09-13T03:11:07.307</td>\n",
       "      <td>/home/d/dagoret/rubin-user/DATA/AuxtelData2023...</td>\n",
       "      <td>exposure_2023091200282_dmpostisrccd.fits</td>\n",
       "      <td>282</td>\n",
       "      <td>HD009051</td>\n",
       "      <td>collimator</td>\n",
       "      <td>holo4_003</td>\n",
       "      <td>1.484045</td>\n",
       "      <td>30.0</td>\n",
       "      <td>...</td>\n",
       "      <td>-0.5500</td>\n",
       "      <td>73.437500</td>\n",
       "      <td>6.4218</td>\n",
       "      <td>NaN</td>\n",
       "      <td>NaN</td>\n",
       "      <td>NaN</td>\n",
       "      <td>NaN</td>\n",
       "      <td></td>\n",
       "      <td>NaN</td>\n",
       "      <td>NaN</td>\n",
       "    </tr>\n",
       "    <tr>\n",
       "      <th>6</th>\n",
       "      <td>6</td>\n",
       "      <td>2023-09-13T03:19:59.235</td>\n",
       "      <td>/home/d/dagoret/rubin-user/DATA/AuxtelData2023...</td>\n",
       "      <td>exposure_2023091200296_dmpostisrccd.fits</td>\n",
       "      <td>296</td>\n",
       "      <td>HD2811</td>\n",
       "      <td>collimator</td>\n",
       "      <td>holo4_003</td>\n",
       "      <td>1.180937</td>\n",
       "      <td>30.0</td>\n",
       "      <td>...</td>\n",
       "      <td>-0.4750</td>\n",
       "      <td>68.125000</td>\n",
       "      <td>6.4218</td>\n",
       "      <td>NaN</td>\n",
       "      <td>NaN</td>\n",
       "      <td>NaN</td>\n",
       "      <td>NaN</td>\n",
       "      <td></td>\n",
       "      <td>NaN</td>\n",
       "      <td>NaN</td>\n",
       "    </tr>\n",
       "    <tr>\n",
       "      <th>7</th>\n",
       "      <td>7</td>\n",
       "      <td>2023-09-13T03:20:42.256</td>\n",
       "      <td>/home/d/dagoret/rubin-user/DATA/AuxtelData2023...</td>\n",
       "      <td>exposure_2023091200297_dmpostisrccd.fits</td>\n",
       "      <td>297</td>\n",
       "      <td>HD2811</td>\n",
       "      <td>collimator</td>\n",
       "      <td>holo4_003</td>\n",
       "      <td>1.179290</td>\n",
       "      <td>30.0</td>\n",
       "      <td>...</td>\n",
       "      <td>-0.4750</td>\n",
       "      <td>67.625000</td>\n",
       "      <td>5.4210</td>\n",
       "      <td>NaN</td>\n",
       "      <td>NaN</td>\n",
       "      <td>NaN</td>\n",
       "      <td>NaN</td>\n",
       "      <td></td>\n",
       "      <td>NaN</td>\n",
       "      <td>NaN</td>\n",
       "    </tr>\n",
       "    <tr>\n",
       "      <th>8</th>\n",
       "      <td>8</td>\n",
       "      <td>2023-09-13T03:30:54.110</td>\n",
       "      <td>/home/d/dagoret/rubin-user/DATA/AuxtelData2023...</td>\n",
       "      <td>exposure_2023091200311_dmpostisrccd.fits</td>\n",
       "      <td>311</td>\n",
       "      <td>HD205905</td>\n",
       "      <td>collimator</td>\n",
       "      <td>holo4_003</td>\n",
       "      <td>1.009810</td>\n",
       "      <td>30.0</td>\n",
       "      <td>...</td>\n",
       "      <td>-0.5250</td>\n",
       "      <td>69.550003</td>\n",
       "      <td>5.6712</td>\n",
       "      <td>NaN</td>\n",
       "      <td>NaN</td>\n",
       "      <td>NaN</td>\n",
       "      <td>NaN</td>\n",
       "      <td></td>\n",
       "      <td>NaN</td>\n",
       "      <td>NaN</td>\n",
       "    </tr>\n",
       "    <tr>\n",
       "      <th>9</th>\n",
       "      <td>9</td>\n",
       "      <td>2023-09-13T03:31:37.086</td>\n",
       "      <td>/home/d/dagoret/rubin-user/DATA/AuxtelData2023...</td>\n",
       "      <td>exposure_2023091200312_dmpostisrccd.fits</td>\n",
       "      <td>312</td>\n",
       "      <td>HD205905</td>\n",
       "      <td>collimator</td>\n",
       "      <td>holo4_003</td>\n",
       "      <td>1.010173</td>\n",
       "      <td>30.0</td>\n",
       "      <td>...</td>\n",
       "      <td>-0.5500</td>\n",
       "      <td>68.574997</td>\n",
       "      <td>6.5052</td>\n",
       "      <td>NaN</td>\n",
       "      <td>NaN</td>\n",
       "      <td>NaN</td>\n",
       "      <td>NaN</td>\n",
       "      <td></td>\n",
       "      <td>NaN</td>\n",
       "      <td>NaN</td>\n",
       "    </tr>\n",
       "    <tr>\n",
       "      <th>10</th>\n",
       "      <td>10</td>\n",
       "      <td>2023-09-13T03:46:02.801</td>\n",
       "      <td>/home/d/dagoret/rubin-user/DATA/AuxtelData2023...</td>\n",
       "      <td>exposure_2023091200326_dmpostisrccd.fits</td>\n",
       "      <td>326</td>\n",
       "      <td>HD14943</td>\n",
       "      <td>collimator</td>\n",
       "      <td>holo4_003</td>\n",
       "      <td>1.476699</td>\n",
       "      <td>30.0</td>\n",
       "      <td>...</td>\n",
       "      <td>-0.4875</td>\n",
       "      <td>60.962502</td>\n",
       "      <td>6.4218</td>\n",
       "      <td>NaN</td>\n",
       "      <td>NaN</td>\n",
       "      <td>NaN</td>\n",
       "      <td>NaN</td>\n",
       "      <td></td>\n",
       "      <td>NaN</td>\n",
       "      <td>NaN</td>\n",
       "    </tr>\n",
       "    <tr>\n",
       "      <th>11</th>\n",
       "      <td>11</td>\n",
       "      <td>2023-09-13T03:46:45.778</td>\n",
       "      <td>/home/d/dagoret/rubin-user/DATA/AuxtelData2023...</td>\n",
       "      <td>exposure_2023091200327_dmpostisrccd.fits</td>\n",
       "      <td>327</td>\n",
       "      <td>HD14943</td>\n",
       "      <td>collimator</td>\n",
       "      <td>holo4_003</td>\n",
       "      <td>1.473562</td>\n",
       "      <td>30.0</td>\n",
       "      <td>...</td>\n",
       "      <td>-0.5000</td>\n",
       "      <td>61.924999</td>\n",
       "      <td>6.7554</td>\n",
       "      <td>NaN</td>\n",
       "      <td>NaN</td>\n",
       "      <td>NaN</td>\n",
       "      <td>NaN</td>\n",
       "      <td></td>\n",
       "      <td>NaN</td>\n",
       "      <td>NaN</td>\n",
       "    </tr>\n",
       "    <tr>\n",
       "      <th>12</th>\n",
       "      <td>12</td>\n",
       "      <td>2023-09-13T03:58:05.014</td>\n",
       "      <td>/home/d/dagoret/rubin-user/DATA/AuxtelData2023...</td>\n",
       "      <td>exposure_2023091200341_dmpostisrccd.fits</td>\n",
       "      <td>341</td>\n",
       "      <td>HD009051</td>\n",
       "      <td>collimator</td>\n",
       "      <td>holo4_003</td>\n",
       "      <td>1.260697</td>\n",
       "      <td>30.0</td>\n",
       "      <td>...</td>\n",
       "      <td>-0.5500</td>\n",
       "      <td>64.275002</td>\n",
       "      <td>6.5886</td>\n",
       "      <td>NaN</td>\n",
       "      <td>NaN</td>\n",
       "      <td>NaN</td>\n",
       "      <td>NaN</td>\n",
       "      <td></td>\n",
       "      <td>NaN</td>\n",
       "      <td>NaN</td>\n",
       "    </tr>\n",
       "    <tr>\n",
       "      <th>13</th>\n",
       "      <td>13</td>\n",
       "      <td>2023-09-13T03:58:47.961</td>\n",
       "      <td>/home/d/dagoret/rubin-user/DATA/AuxtelData2023...</td>\n",
       "      <td>exposure_2023091200342_dmpostisrccd.fits</td>\n",
       "      <td>342</td>\n",
       "      <td>HD009051</td>\n",
       "      <td>collimator</td>\n",
       "      <td>holo4_003</td>\n",
       "      <td>1.258101</td>\n",
       "      <td>30.0</td>\n",
       "      <td>...</td>\n",
       "      <td>-0.5500</td>\n",
       "      <td>64.900002</td>\n",
       "      <td>6.4218</td>\n",
       "      <td>NaN</td>\n",
       "      <td>NaN</td>\n",
       "      <td>NaN</td>\n",
       "      <td>NaN</td>\n",
       "      <td></td>\n",
       "      <td>NaN</td>\n",
       "      <td>NaN</td>\n",
       "    </tr>\n",
       "    <tr>\n",
       "      <th>14</th>\n",
       "      <td>14</td>\n",
       "      <td>2023-09-13T04:08:44.384</td>\n",
       "      <td>/home/d/dagoret/rubin-user/DATA/AuxtelData2023...</td>\n",
       "      <td>exposure_2023091200356_dmpostisrccd.fits</td>\n",
       "      <td>356</td>\n",
       "      <td>HD205905</td>\n",
       "      <td>collimator</td>\n",
       "      <td>holo4_003</td>\n",
       "      <td>1.040317</td>\n",
       "      <td>30.0</td>\n",
       "      <td>...</td>\n",
       "      <td>-0.6125</td>\n",
       "      <td>68.750000</td>\n",
       "      <td>7.7562</td>\n",
       "      <td>NaN</td>\n",
       "      <td>NaN</td>\n",
       "      <td>NaN</td>\n",
       "      <td>NaN</td>\n",
       "      <td></td>\n",
       "      <td>NaN</td>\n",
       "      <td>NaN</td>\n",
       "    </tr>\n",
       "    <tr>\n",
       "      <th>15</th>\n",
       "      <td>15</td>\n",
       "      <td>2023-09-13T04:09:27.293</td>\n",
       "      <td>/home/d/dagoret/rubin-user/DATA/AuxtelData2023...</td>\n",
       "      <td>exposure_2023091200357_dmpostisrccd.fits</td>\n",
       "      <td>357</td>\n",
       "      <td>HD205905</td>\n",
       "      <td>collimator</td>\n",
       "      <td>holo4_003</td>\n",
       "      <td>1.041120</td>\n",
       "      <td>30.0</td>\n",
       "      <td>...</td>\n",
       "      <td>-0.6500</td>\n",
       "      <td>69.025002</td>\n",
       "      <td>7.4226</td>\n",
       "      <td>NaN</td>\n",
       "      <td>NaN</td>\n",
       "      <td>NaN</td>\n",
       "      <td>NaN</td>\n",
       "      <td></td>\n",
       "      <td>NaN</td>\n",
       "      <td>NaN</td>\n",
       "    </tr>\n",
       "    <tr>\n",
       "      <th>16</th>\n",
       "      <td>16</td>\n",
       "      <td>2023-09-13T04:19:15.057</td>\n",
       "      <td>/home/d/dagoret/rubin-user/DATA/AuxtelData2023...</td>\n",
       "      <td>exposure_2023091200371_dmpostisrccd.fits</td>\n",
       "      <td>371</td>\n",
       "      <td>HD2811</td>\n",
       "      <td>collimator</td>\n",
       "      <td>holo4_003</td>\n",
       "      <td>1.078853</td>\n",
       "      <td>30.0</td>\n",
       "      <td>...</td>\n",
       "      <td>-0.7000</td>\n",
       "      <td>70.000000</td>\n",
       "      <td>6.7554</td>\n",
       "      <td>NaN</td>\n",
       "      <td>NaN</td>\n",
       "      <td>NaN</td>\n",
       "      <td>NaN</td>\n",
       "      <td></td>\n",
       "      <td>NaN</td>\n",
       "      <td>NaN</td>\n",
       "    </tr>\n",
       "    <tr>\n",
       "      <th>17</th>\n",
       "      <td>17</td>\n",
       "      <td>2023-09-13T04:19:58.093</td>\n",
       "      <td>/home/d/dagoret/rubin-user/DATA/AuxtelData2023...</td>\n",
       "      <td>exposure_2023091200372_dmpostisrccd.fits</td>\n",
       "      <td>372</td>\n",
       "      <td>HD2811</td>\n",
       "      <td>collimator</td>\n",
       "      <td>holo4_003</td>\n",
       "      <td>1.077989</td>\n",
       "      <td>30.0</td>\n",
       "      <td>...</td>\n",
       "      <td>-0.7000</td>\n",
       "      <td>70.050003</td>\n",
       "      <td>6.7554</td>\n",
       "      <td>NaN</td>\n",
       "      <td>NaN</td>\n",
       "      <td>NaN</td>\n",
       "      <td>NaN</td>\n",
       "      <td></td>\n",
       "      <td>NaN</td>\n",
       "      <td>NaN</td>\n",
       "    </tr>\n",
       "    <tr>\n",
       "      <th>18</th>\n",
       "      <td>18</td>\n",
       "      <td>2023-09-13T04:28:37.543</td>\n",
       "      <td>/home/d/dagoret/rubin-user/DATA/AuxtelData2023...</td>\n",
       "      <td>exposure_2023091200386_dmpostisrccd.fits</td>\n",
       "      <td>386</td>\n",
       "      <td>HD14943</td>\n",
       "      <td>collimator</td>\n",
       "      <td>holo4_003</td>\n",
       "      <td>1.319640</td>\n",
       "      <td>30.0</td>\n",
       "      <td>...</td>\n",
       "      <td>-0.6750</td>\n",
       "      <td>71.400002</td>\n",
       "      <td>6.4218</td>\n",
       "      <td>NaN</td>\n",
       "      <td>NaN</td>\n",
       "      <td>NaN</td>\n",
       "      <td>NaN</td>\n",
       "      <td></td>\n",
       "      <td>NaN</td>\n",
       "      <td>NaN</td>\n",
       "    </tr>\n",
       "    <tr>\n",
       "      <th>19</th>\n",
       "      <td>19</td>\n",
       "      <td>2023-09-13T04:29:20.455</td>\n",
       "      <td>/home/d/dagoret/rubin-user/DATA/AuxtelData2023...</td>\n",
       "      <td>exposure_2023091200387_dmpostisrccd.fits</td>\n",
       "      <td>387</td>\n",
       "      <td>HD14943</td>\n",
       "      <td>collimator</td>\n",
       "      <td>holo4_003</td>\n",
       "      <td>1.317462</td>\n",
       "      <td>30.0</td>\n",
       "      <td>...</td>\n",
       "      <td>-0.6750</td>\n",
       "      <td>71.724998</td>\n",
       "      <td>7.1724</td>\n",
       "      <td>NaN</td>\n",
       "      <td>NaN</td>\n",
       "      <td>NaN</td>\n",
       "      <td>NaN</td>\n",
       "      <td></td>\n",
       "      <td>NaN</td>\n",
       "      <td>NaN</td>\n",
       "    </tr>\n",
       "    <tr>\n",
       "      <th>20</th>\n",
       "      <td>20</td>\n",
       "      <td>2023-09-13T04:39:00.929</td>\n",
       "      <td>/home/d/dagoret/rubin-user/DATA/AuxtelData2023...</td>\n",
       "      <td>exposure_2023091200401_dmpostisrccd.fits</td>\n",
       "      <td>401</td>\n",
       "      <td>HD205905</td>\n",
       "      <td>collimator</td>\n",
       "      <td>holo4_003</td>\n",
       "      <td>1.082663</td>\n",
       "      <td>30.0</td>\n",
       "      <td>...</td>\n",
       "      <td>-0.7000</td>\n",
       "      <td>74.650002</td>\n",
       "      <td>6.9222</td>\n",
       "      <td>NaN</td>\n",
       "      <td>NaN</td>\n",
       "      <td>NaN</td>\n",
       "      <td>NaN</td>\n",
       "      <td></td>\n",
       "      <td>NaN</td>\n",
       "      <td>NaN</td>\n",
       "    </tr>\n",
       "    <tr>\n",
       "      <th>21</th>\n",
       "      <td>21</td>\n",
       "      <td>2023-09-13T04:39:44.125</td>\n",
       "      <td>/home/d/dagoret/rubin-user/DATA/AuxtelData2023...</td>\n",
       "      <td>exposure_2023091200402_dmpostisrccd.fits</td>\n",
       "      <td>402</td>\n",
       "      <td>HD205905</td>\n",
       "      <td>collimator</td>\n",
       "      <td>holo4_003</td>\n",
       "      <td>1.083889</td>\n",
       "      <td>30.0</td>\n",
       "      <td>...</td>\n",
       "      <td>-0.7000</td>\n",
       "      <td>75.275002</td>\n",
       "      <td>5.7546</td>\n",
       "      <td>NaN</td>\n",
       "      <td>NaN</td>\n",
       "      <td>NaN</td>\n",
       "      <td>NaN</td>\n",
       "      <td></td>\n",
       "      <td>NaN</td>\n",
       "      <td>NaN</td>\n",
       "    </tr>\n",
       "    <tr>\n",
       "      <th>22</th>\n",
       "      <td>22</td>\n",
       "      <td>2023-09-13T04:58:10.660</td>\n",
       "      <td>/home/d/dagoret/rubin-user/DATA/AuxtelData2023...</td>\n",
       "      <td>exposure_2023091200425_dmpostisrccd.fits</td>\n",
       "      <td>425</td>\n",
       "      <td>HD2811</td>\n",
       "      <td>collimator</td>\n",
       "      <td>holo4_003</td>\n",
       "      <td>1.043040</td>\n",
       "      <td>30.0</td>\n",
       "      <td>...</td>\n",
       "      <td>-0.7500</td>\n",
       "      <td>77.125000</td>\n",
       "      <td>7.5894</td>\n",
       "      <td>NaN</td>\n",
       "      <td>NaN</td>\n",
       "      <td>NaN</td>\n",
       "      <td>NaN</td>\n",
       "      <td></td>\n",
       "      <td>NaN</td>\n",
       "      <td>NaN</td>\n",
       "    </tr>\n",
       "    <tr>\n",
       "      <th>23</th>\n",
       "      <td>23</td>\n",
       "      <td>2023-09-13T04:58:53.654</td>\n",
       "      <td>/home/d/dagoret/rubin-user/DATA/AuxtelData2023...</td>\n",
       "      <td>exposure_2023091200426_dmpostisrccd.fits</td>\n",
       "      <td>426</td>\n",
       "      <td>HD2811</td>\n",
       "      <td>collimator</td>\n",
       "      <td>holo4_003</td>\n",
       "      <td>1.042579</td>\n",
       "      <td>30.0</td>\n",
       "      <td>...</td>\n",
       "      <td>-0.8000</td>\n",
       "      <td>77.650002</td>\n",
       "      <td>7.7562</td>\n",
       "      <td>NaN</td>\n",
       "      <td>NaN</td>\n",
       "      <td>NaN</td>\n",
       "      <td>NaN</td>\n",
       "      <td></td>\n",
       "      <td>NaN</td>\n",
       "      <td>NaN</td>\n",
       "    </tr>\n",
       "  </tbody>\n",
       "</table>\n",
       "<p>24 rows × 23 columns</p>\n",
       "</div>"
      ],
      "text/plain": [
       "    index                     date  \\\n",
       "0       0  2023-09-13T02:49:39.056   \n",
       "1       1  2023-09-13T02:50:21.993   \n",
       "2       2  2023-09-13T03:00:34.619   \n",
       "3       3  2023-09-13T03:01:17.817   \n",
       "4       4  2023-09-13T03:10:24.382   \n",
       "5       5  2023-09-13T03:11:07.307   \n",
       "6       6  2023-09-13T03:19:59.235   \n",
       "7       7  2023-09-13T03:20:42.256   \n",
       "8       8  2023-09-13T03:30:54.110   \n",
       "9       9  2023-09-13T03:31:37.086   \n",
       "10     10  2023-09-13T03:46:02.801   \n",
       "11     11  2023-09-13T03:46:45.778   \n",
       "12     12  2023-09-13T03:58:05.014   \n",
       "13     13  2023-09-13T03:58:47.961   \n",
       "14     14  2023-09-13T04:08:44.384   \n",
       "15     15  2023-09-13T04:09:27.293   \n",
       "16     16  2023-09-13T04:19:15.057   \n",
       "17     17  2023-09-13T04:19:58.093   \n",
       "18     18  2023-09-13T04:28:37.543   \n",
       "19     19  2023-09-13T04:29:20.455   \n",
       "20     20  2023-09-13T04:39:00.929   \n",
       "21     21  2023-09-13T04:39:44.125   \n",
       "22     22  2023-09-13T04:58:10.660   \n",
       "23     23  2023-09-13T04:58:53.654   \n",
       "\n",
       "                                                 path  \\\n",
       "0   /home/d/dagoret/rubin-user/DATA/AuxtelData2023...   \n",
       "1   /home/d/dagoret/rubin-user/DATA/AuxtelData2023...   \n",
       "2   /home/d/dagoret/rubin-user/DATA/AuxtelData2023...   \n",
       "3   /home/d/dagoret/rubin-user/DATA/AuxtelData2023...   \n",
       "4   /home/d/dagoret/rubin-user/DATA/AuxtelData2023...   \n",
       "5   /home/d/dagoret/rubin-user/DATA/AuxtelData2023...   \n",
       "6   /home/d/dagoret/rubin-user/DATA/AuxtelData2023...   \n",
       "7   /home/d/dagoret/rubin-user/DATA/AuxtelData2023...   \n",
       "8   /home/d/dagoret/rubin-user/DATA/AuxtelData2023...   \n",
       "9   /home/d/dagoret/rubin-user/DATA/AuxtelData2023...   \n",
       "10  /home/d/dagoret/rubin-user/DATA/AuxtelData2023...   \n",
       "11  /home/d/dagoret/rubin-user/DATA/AuxtelData2023...   \n",
       "12  /home/d/dagoret/rubin-user/DATA/AuxtelData2023...   \n",
       "13  /home/d/dagoret/rubin-user/DATA/AuxtelData2023...   \n",
       "14  /home/d/dagoret/rubin-user/DATA/AuxtelData2023...   \n",
       "15  /home/d/dagoret/rubin-user/DATA/AuxtelData2023...   \n",
       "16  /home/d/dagoret/rubin-user/DATA/AuxtelData2023...   \n",
       "17  /home/d/dagoret/rubin-user/DATA/AuxtelData2023...   \n",
       "18  /home/d/dagoret/rubin-user/DATA/AuxtelData2023...   \n",
       "19  /home/d/dagoret/rubin-user/DATA/AuxtelData2023...   \n",
       "20  /home/d/dagoret/rubin-user/DATA/AuxtelData2023...   \n",
       "21  /home/d/dagoret/rubin-user/DATA/AuxtelData2023...   \n",
       "22  /home/d/dagoret/rubin-user/DATA/AuxtelData2023...   \n",
       "23  /home/d/dagoret/rubin-user/DATA/AuxtelData2023...   \n",
       "\n",
       "                                        file  num    object      filter  \\\n",
       "0   exposure_2023091200251_dmpostisrccd.fits  251  HD167060  collimator   \n",
       "1   exposure_2023091200252_dmpostisrccd.fits  252  HD167060  collimator   \n",
       "2   exposure_2023091200266_dmpostisrccd.fits  266  Feige110  collimator   \n",
       "3   exposure_2023091200267_dmpostisrccd.fits  267  Feige110  collimator   \n",
       "4   exposure_2023091200281_dmpostisrccd.fits  281  HD009051  collimator   \n",
       "5   exposure_2023091200282_dmpostisrccd.fits  282  HD009051  collimator   \n",
       "6   exposure_2023091200296_dmpostisrccd.fits  296    HD2811  collimator   \n",
       "7   exposure_2023091200297_dmpostisrccd.fits  297    HD2811  collimator   \n",
       "8   exposure_2023091200311_dmpostisrccd.fits  311  HD205905  collimator   \n",
       "9   exposure_2023091200312_dmpostisrccd.fits  312  HD205905  collimator   \n",
       "10  exposure_2023091200326_dmpostisrccd.fits  326   HD14943  collimator   \n",
       "11  exposure_2023091200327_dmpostisrccd.fits  327   HD14943  collimator   \n",
       "12  exposure_2023091200341_dmpostisrccd.fits  341  HD009051  collimator   \n",
       "13  exposure_2023091200342_dmpostisrccd.fits  342  HD009051  collimator   \n",
       "14  exposure_2023091200356_dmpostisrccd.fits  356  HD205905  collimator   \n",
       "15  exposure_2023091200357_dmpostisrccd.fits  357  HD205905  collimator   \n",
       "16  exposure_2023091200371_dmpostisrccd.fits  371    HD2811  collimator   \n",
       "17  exposure_2023091200372_dmpostisrccd.fits  372    HD2811  collimator   \n",
       "18  exposure_2023091200386_dmpostisrccd.fits  386   HD14943  collimator   \n",
       "19  exposure_2023091200387_dmpostisrccd.fits  387   HD14943  collimator   \n",
       "20  exposure_2023091200401_dmpostisrccd.fits  401  HD205905  collimator   \n",
       "21  exposure_2023091200402_dmpostisrccd.fits  402  HD205905  collimator   \n",
       "22  exposure_2023091200425_dmpostisrccd.fits  425    HD2811  collimator   \n",
       "23  exposure_2023091200426_dmpostisrccd.fits  426    HD2811  collimator   \n",
       "\n",
       "    disperser   airmass  exposure  ...  temperature   humidity  windspd  \\\n",
       "0   holo4_003  1.394863      30.0  ...      -0.6000  74.775002   6.0882   \n",
       "1   holo4_003  1.396716      30.0  ...      -0.6000  73.375000   6.1716   \n",
       "2   holo4_003  1.204973      30.0  ...      -0.6375  77.387497   6.4218   \n",
       "3   holo4_003  1.203372      30.0  ...      -0.6000  77.324997   5.7546   \n",
       "4   holo4_003  1.488436      30.0  ...      -0.5250  73.750000   6.4218   \n",
       "5   holo4_003  1.484045      30.0  ...      -0.5500  73.437500   6.4218   \n",
       "6   holo4_003  1.180937      30.0  ...      -0.4750  68.125000   6.4218   \n",
       "7   holo4_003  1.179290      30.0  ...      -0.4750  67.625000   5.4210   \n",
       "8   holo4_003  1.009810      30.0  ...      -0.5250  69.550003   5.6712   \n",
       "9   holo4_003  1.010173      30.0  ...      -0.5500  68.574997   6.5052   \n",
       "10  holo4_003  1.476699      30.0  ...      -0.4875  60.962502   6.4218   \n",
       "11  holo4_003  1.473562      30.0  ...      -0.5000  61.924999   6.7554   \n",
       "12  holo4_003  1.260697      30.0  ...      -0.5500  64.275002   6.5886   \n",
       "13  holo4_003  1.258101      30.0  ...      -0.5500  64.900002   6.4218   \n",
       "14  holo4_003  1.040317      30.0  ...      -0.6125  68.750000   7.7562   \n",
       "15  holo4_003  1.041120      30.0  ...      -0.6500  69.025002   7.4226   \n",
       "16  holo4_003  1.078853      30.0  ...      -0.7000  70.000000   6.7554   \n",
       "17  holo4_003  1.077989      30.0  ...      -0.7000  70.050003   6.7554   \n",
       "18  holo4_003  1.319640      30.0  ...      -0.6750  71.400002   6.4218   \n",
       "19  holo4_003  1.317462      30.0  ...      -0.6750  71.724998   7.1724   \n",
       "20  holo4_003  1.082663      30.0  ...      -0.7000  74.650002   6.9222   \n",
       "21  holo4_003  1.083889      30.0  ...      -0.7000  75.275002   5.7546   \n",
       "22  holo4_003  1.043040      30.0  ...      -0.7500  77.125000   7.5894   \n",
       "23  holo4_003  1.042579      30.0  ...      -0.8000  77.650002   7.7562   \n",
       "\n",
       "    Obj-posXpix  Obj-posYpix  Dx  Dy  skip  run  quality  \n",
       "0           NaN          NaN NaN NaN        NaN      NaN  \n",
       "1           NaN          NaN NaN NaN        NaN      NaN  \n",
       "2           NaN          NaN NaN NaN        NaN      NaN  \n",
       "3           NaN          NaN NaN NaN        NaN      NaN  \n",
       "4           NaN          NaN NaN NaN        NaN      NaN  \n",
       "5           NaN          NaN NaN NaN        NaN      NaN  \n",
       "6           NaN          NaN NaN NaN        NaN      NaN  \n",
       "7           NaN          NaN NaN NaN        NaN      NaN  \n",
       "8           NaN          NaN NaN NaN        NaN      NaN  \n",
       "9           NaN          NaN NaN NaN        NaN      NaN  \n",
       "10          NaN          NaN NaN NaN        NaN      NaN  \n",
       "11          NaN          NaN NaN NaN        NaN      NaN  \n",
       "12          NaN          NaN NaN NaN        NaN      NaN  \n",
       "13          NaN          NaN NaN NaN        NaN      NaN  \n",
       "14          NaN          NaN NaN NaN        NaN      NaN  \n",
       "15          NaN          NaN NaN NaN        NaN      NaN  \n",
       "16          NaN          NaN NaN NaN        NaN      NaN  \n",
       "17          NaN          NaN NaN NaN        NaN      NaN  \n",
       "18          NaN          NaN NaN NaN        NaN      NaN  \n",
       "19          NaN          NaN NaN NaN        NaN      NaN  \n",
       "20          NaN          NaN NaN NaN        NaN      NaN  \n",
       "21          NaN          NaN NaN NaN        NaN      NaN  \n",
       "22          NaN          NaN NaN NaN        NaN      NaN  \n",
       "23          NaN          NaN NaN NaN        NaN      NaN  \n",
       "\n",
       "[24 rows x 23 columns]"
      ]
     },
     "execution_count": 46,
     "metadata": {},
     "output_type": "execute_result"
    }
   ],
   "source": [
    "df"
   ]
  },
  {
   "cell_type": "markdown",
   "metadata": {},
   "source": [
    "# Make logbook\n"
   ]
  },
  {
   "cell_type": "code",
   "execution_count": 47,
   "metadata": {
    "execution": {
     "iopub.execute_input": "2023-09-20T12:17:37.703864Z",
     "iopub.status.busy": "2023-09-20T12:17:37.703697Z",
     "iopub.status.idle": "2023-09-20T12:17:37.706663Z",
     "shell.execute_reply": "2023-09-20T12:17:37.706298Z",
     "shell.execute_reply.started": "2023-09-20T12:17:37.703851Z"
    },
    "tags": []
   },
   "outputs": [
    {
     "data": {
      "text/plain": [
       "24"
      ]
     },
     "execution_count": 47,
     "metadata": {},
     "output_type": "execute_result"
    }
   ],
   "source": [
    "N=len(df)\n",
    "N"
   ]
  },
  {
   "cell_type": "code",
   "execution_count": 48,
   "metadata": {
    "execution": {
     "iopub.execute_input": "2023-09-20T12:17:37.942221Z",
     "iopub.status.busy": "2023-09-20T12:17:37.942099Z",
     "iopub.status.idle": "2023-09-20T12:17:37.948418Z",
     "shell.execute_reply": "2023-09-20T12:17:37.948083Z",
     "shell.execute_reply.started": "2023-09-20T12:17:37.942211Z"
    },
    "tags": []
   },
   "outputs": [],
   "source": [
    "if N>0:\n",
    "#    df.to_excel(logbook_xlsx)\n",
    "    df.to_csv(logbook_csv)"
   ]
  },
  {
   "cell_type": "code",
   "execution_count": 49,
   "metadata": {
    "execution": {
     "iopub.execute_input": "2023-09-20T12:17:38.204669Z",
     "iopub.status.busy": "2023-09-20T12:17:38.204521Z",
     "iopub.status.idle": "2023-09-20T12:17:38.207244Z",
     "shell.execute_reply": "2023-09-20T12:17:38.206906Z",
     "shell.execute_reply.started": "2023-09-20T12:17:38.204656Z"
    },
    "tags": []
   },
   "outputs": [
    {
     "data": {
      "text/plain": [
       "'logbooks/auxtellogbook_collimator~holo4_003_20230912_v7.0.csv'"
      ]
     },
     "execution_count": 49,
     "metadata": {},
     "output_type": "execute_result"
    }
   ],
   "source": [
    "logbook_csv"
   ]
  },
  {
   "cell_type": "code",
   "execution_count": null,
   "metadata": {},
   "outputs": [],
   "source": []
  },
  {
   "cell_type": "code",
   "execution_count": null,
   "metadata": {},
   "outputs": [],
   "source": []
  },
  {
   "cell_type": "code",
   "execution_count": null,
   "metadata": {},
   "outputs": [],
   "source": []
  },
  {
   "cell_type": "code",
   "execution_count": null,
   "metadata": {},
   "outputs": [],
   "source": []
  }
 ],
 "metadata": {
  "kernelspec": {
   "display_name": "LSST",
   "language": "python",
   "name": "lsst"
  },
  "language_info": {
   "codemirror_mode": {
    "name": "ipython",
    "version": 3
   },
   "file_extension": ".py",
   "mimetype": "text/x-python",
   "name": "python",
   "nbconvert_exporter": "python",
   "pygments_lexer": "ipython3",
   "version": "3.11.4"
  },
  "toc": {
   "base_numbering": 1,
   "nav_menu": {},
   "number_sections": true,
   "sideBar": true,
   "skip_h1_title": false,
   "title_cell": "Table of Contents",
   "title_sidebar": "Contents",
   "toc_cell": false,
   "toc_position": {},
   "toc_section_display": true,
   "toc_window_display": false
  }
 },
 "nbformat": 4,
 "nbformat_minor": 4
}
