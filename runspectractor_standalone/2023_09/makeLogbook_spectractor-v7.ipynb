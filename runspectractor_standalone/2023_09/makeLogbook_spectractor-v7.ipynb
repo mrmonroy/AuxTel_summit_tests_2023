{
 "cells": [
  {
   "cell_type": "markdown",
   "metadata": {},
   "source": [
    "# Build the logbook for Hologram with empty or filters"
   ]
  },
  {
   "cell_type": "markdown",
   "metadata": {},
   "source": [
    "- author : Sylvie Dagoret-Campagne\n",
    "- affiliation : IJCLab/IN2P3/CNES, DESC-LSST fullmember, behalf AuxTel Teal VERA C. Rubin observatory\n",
    "- creation date : September 6th 2023\n",
    "- last update : September 13th 2023\n",
    "\n",
    "\n",
    "Works directory per directory (day by day)\n",
    "\n",
    "For USDF"
   ]
  },
  {
   "cell_type": "code",
   "execution_count": 1,
   "metadata": {
    "execution": {
     "iopub.execute_input": "2023-09-13T09:11:58.222316Z",
     "iopub.status.busy": "2023-09-13T09:11:58.222196Z",
     "iopub.status.idle": "2023-09-13T09:11:58.225394Z",
     "shell.execute_reply": "2023-09-13T09:11:58.225065Z",
     "shell.execute_reply.started": "2023-09-13T09:11:58.222304Z"
    },
    "tags": []
   },
   "outputs": [
    {
     "data": {
      "text/plain": [
       "['/sdf/data/rubin/user/dagoret/AuxTel_summit_tests_2023/runspectractor_standalone/2023_09',\n",
       " '/home/d/dagoret/repos/repos_w_2023_35/analysis_tools/python',\n",
       " '/opt/lsst/software/stack/stack/miniconda3-py38_4.9.2-7.0.1/Linux64/cp_pipe/g857a3418e4+7df23b908a/python',\n",
       " '/opt/lsst/software/stack/stack/miniconda3-py38_4.9.2-7.0.1/Linux64/shapelet/g44018dc512+ea6441928c/python',\n",
       " '/opt/lsst/software/stack/stack/miniconda3-py38_4.9.2-7.0.1/Linux64/meas_modelfit/g93c4d6e787+79b822255a/python',\n",
       " '/opt/lsst/software/stack/stack/miniconda3-py38_4.9.2-7.0.1/Linux64/scarlet_extensions/g9d18589735+d445b4966c/lib/python',\n",
       " '/opt/lsst/software/stack/stack/miniconda3-py38_4.9.2-7.0.1/Linux64/proxmin/g33b4157f25/lib/python',\n",
       " '/opt/lsst/software/stack/stack/miniconda3-py38_4.9.2-7.0.1/Linux64/scarlet/g63ff1f842d+4083830bf8/lib/python',\n",
       " '/opt/lsst/software/stack/stack/miniconda3-py38_4.9.2-7.0.1/Linux64/meas_extensions_scarlet/g943cb464a2+f79590064d/python',\n",
       " '/opt/lsst/software/stack/stack/miniconda3-py38_4.9.2-7.0.1/Linux64/psfex/gc054bea089+81bc2a20b4/python',\n",
       " '/opt/lsst/software/stack/stack/miniconda3-py38_4.9.2-7.0.1/Linux64/meas_extensions_psfex/g58be5f913a+32f1932512/python',\n",
       " '/opt/lsst/software/stack/stack/miniconda3-py38_4.9.2-7.0.1/Linux64/meas_extensions_piff/gc86a011abf+9acc3d8d25/python',\n",
       " '/opt/lsst/software/stack/stack/miniconda3-py38_4.9.2-7.0.1/Linux64/meas_extensions_gaap/g8dd6597355+dceeeb951c/python',\n",
       " '/opt/lsst/software/stack/stack/miniconda3-py38_4.9.2-7.0.1/Linux64/meas_extensions_photometryKron/gb2715bf1a1+9acc3d8d25/python',\n",
       " '/opt/lsst/software/stack/stack/miniconda3-py38_4.9.2-7.0.1/Linux64/meas_extensions_convolved/g42fff21dfb+94f62ec815/python',\n",
       " '/opt/lsst/software/stack/stack/miniconda3-py38_4.9.2-7.0.1/Linux64/kht/gafcb7142de/cpp/build',\n",
       " '/opt/lsst/software/stack/stack/miniconda3-py38_4.9.2-7.0.1/Linux64/verify_metrics/gd129bed42c+81bc2a20b4/python',\n",
       " '/opt/lsst/software/stack/stack/miniconda3-py38_4.9.2-7.0.1/Linux64/felis/g56b87fd2ae+81bc2a20b4/python',\n",
       " '/opt/lsst/software/stack/stack/miniconda3-py38_4.9.2-7.0.1/Linux64/dax_apdb/g4c90b7bd52+fc57afb704/python',\n",
       " '/opt/lsst/software/stack/stack/miniconda3-py38_4.9.2-7.0.1/Linux64/verify/gffb8816710+02c788d496/python',\n",
       " '/opt/lsst/software/stack/stack/miniconda3-py38_4.9.2-7.0.1/Linux64/meas_deblender/g2cc88a2952+6327360372/python',\n",
       " '/opt/lsst/software/stack/stack/miniconda3-py38_4.9.2-7.0.1/Linux64/meas_extensions_shapeHSM/g571dde35ae+9acc3d8d25/python',\n",
       " '/opt/lsst/software/stack/stack/miniconda3-py38_4.9.2-7.0.1/Linux64/meas_extensions_trailedSources/g47da3c6c86+f7136a40d1/python',\n",
       " '/opt/lsst/software/stack/stack/miniconda3-py38_4.9.2-7.0.1/Linux64/meas_astrom/g0a0026dc87+9acc3d8d25/python',\n",
       " '/opt/lsst/software/stack/stack/miniconda3-py38_4.9.2-7.0.1/Linux64/ip_diffim/g07994bdeae+16b1756208/python',\n",
       " '/opt/lsst/software/stack/stack/miniconda3-py38_4.9.2-7.0.1/Linux64/dustmaps_cachedata/gbb0a0c949e+81bc2a20b4/python',\n",
       " '/opt/lsst/software/stack/stack/miniconda3-py38_4.9.2-7.0.1/Linux64/coadd_utils/g337abbeb29+ea6441928c/python',\n",
       " '/opt/lsst/software/stack/stack/miniconda3-py38_4.9.2-7.0.1/Linux64/pipe_tasks/g68a3911fdd+6ad9f154ac/python',\n",
       " '/opt/lsst/software/stack/stack/miniconda3-py38_4.9.2-7.0.1/Linux64/astro_metadata_translator/g0978aabd1f+2a7d2c9fe3/python',\n",
       " '/opt/lsst/software/stack/stack/miniconda3-py38_4.9.2-7.0.1/Linux64/obs_base/gcc620a9fd9+e9a6d3d3e6/python',\n",
       " '/opt/lsst/software/stack/stack/miniconda3-py38_4.9.2-7.0.1/Linux64/skymap/g37c6e7c3d5+905c2c68d7/python',\n",
       " '/opt/lsst/software/stack/stack/miniconda3-py38_4.9.2-7.0.1/Linux64/meas_base/g67924a670a+edc5793283/python',\n",
       " '/opt/lsst/software/stack/stack/miniconda3-py38_4.9.2-7.0.1/Linux64/meas_algorithms/g6f40f426a6+f7136a40d1/python',\n",
       " '/opt/lsst/software/stack/stack/miniconda3-py38_4.9.2-7.0.1/Linux64/ip_isr/gba31a79951+9acc3d8d25/python',\n",
       " '/opt/lsst/software/stack/stack/miniconda3-py38_4.9.2-7.0.1/Linux64/daf_relation/g8a20fa5453+e358f92434/python',\n",
       " '/opt/lsst/software/stack/stack/miniconda3-py38_4.9.2-7.0.1/Linux64/resources/g9e435448e7+e358f92434/python',\n",
       " '/opt/lsst/software/stack/stack/miniconda3-py38_4.9.2-7.0.1/Linux64/daf_butler/g11710eee44+2396472d69/python',\n",
       " '/opt/lsst/software/stack/stack/miniconda3-py38_4.9.2-7.0.1/Linux64/pipe_base/g6bb983e87d+fa056e98be/python',\n",
       " '/opt/lsst/software/stack/stack/miniconda3-py38_4.9.2-7.0.1/Linux64/afw/g5b0a815229+07073039e0/python',\n",
       " '/opt/lsst/software/stack/stack/miniconda3-py38_4.9.2-7.0.1/Linux64/astshim/g3273194fdb+f6908454ef/python',\n",
       " '/opt/lsst/software/stack/stack/miniconda3-py38_4.9.2-7.0.1/Linux64/log/g1e7d6db67d+e358f92434/python',\n",
       " '/opt/lsst/software/stack/stack/miniconda3-py38_4.9.2-7.0.1/Linux64/sphgeom/g6ae5381d9b+81bc2a20b4/python',\n",
       " '/opt/lsst/software/stack/stack/miniconda3-py38_4.9.2-7.0.1/Linux64/geom/ga1e77700b3+1440987d3f/python',\n",
       " '/opt/lsst/software/stack/stack/miniconda3-py38_4.9.2-7.0.1/Linux64/pex_config/g22560d942e+2a7d2c9fe3/python',\n",
       " '/opt/lsst/software/stack/stack/miniconda3-py38_4.9.2-7.0.1/Linux64/pex_exceptions/gdaeeff99f8+0d8dbea60f/python',\n",
       " '/opt/lsst/software/stack/stack/miniconda3-py38_4.9.2-7.0.1/Linux64/base/g98ffbb4407+81bc2a20b4/python',\n",
       " '/opt/lsst/software/stack/stack/miniconda3-py38_4.9.2-7.0.1/Linux64/cpputils/g9ddcbc5298+7f7571301f/python',\n",
       " '/opt/lsst/software/stack/stack/miniconda3-py38_4.9.2-7.0.1/Linux64/sconsUtils/g80c3e6a29f/python',\n",
       " '/opt/lsst/software/stack/stack/miniconda3-py38_4.9.2-7.0.1/Linux64/utils/gf0e1c1abb1+81bc2a20b4/python',\n",
       " '/opt/lsst/software/stack/stack/miniconda3-py38_4.9.2-7.0.1/Linux64/daf_base/gf041782ebf+2691319615/python',\n",
       " '/home/d/dagoret/repos/repos_w_2023_35/Spectractor/lib/python',\n",
       " '/home/d/dagoret/repos/repos_w_2023_35/atmospec/python',\n",
       " '/opt/lsst/software/stack/stack/miniconda3-py38_4.9.2-7.0.1/Linux64/ctrl_mpexec/g183f8e0c68+0b5ff14b26/python',\n",
       " '/opt/lsst/software/stack/stack/miniconda3-py38_4.9.2-7.0.1/Linux64/obs_lsst/g18ae76373f+3c91ea642d/python',\n",
       " '/opt/lsst/software/stack/stack/miniconda3-py38_4.9.2-7.0.1/Linux64/display_firefly/gae46bcf261+ea6441928c/python',\n",
       " '/opt/lsst/software/stack/stack/miniconda3-py38_4.9.2-7.0.1/Linux64/display_astrowidgets/g2bbee38e9b+ea6441928c/python',\n",
       " '/opt/lsst/software/stack/stack/miniconda3-py38_4.9.2-7.0.1/Linux64/gbdes/gc329cc8a54/build/pydir',\n",
       " '/opt/lsst/software/stack/stack/miniconda3-py38_4.9.2-7.0.1/Linux64/drp_tasks/geb290cab21+7b56d25c6a/python',\n",
       " '/opt/lsst/software/stack/stack/miniconda3-py38_4.9.2-7.0.1/Linux64/analysis_drp/gfadca26dcd+7df23b908a/python',\n",
       " '/opt/lsst/software/stack/stack/miniconda3-py38_4.9.2-7.0.1/Linux64/drp_pipe/g62dbaf9afa+539581bbb4/python',\n",
       " '/opt/lsst/software/stack/stack/miniconda3-py38_4.9.2-7.0.1/Linux64/cp_verify/ge14ceffff4+12c68b5962/python',\n",
       " '/opt/lsst/software/stack/stack/miniconda3-py38_4.9.2-7.0.1/Linux64/faro/ge8614a52ae+e4940fcbf0/python',\n",
       " '/opt/lsst/software/stack/stack/miniconda3-py38_4.9.2-7.0.1/Linux64/fgcm/g8d9a5b0805/lib/python',\n",
       " '/opt/lsst/software/stack/stack/miniconda3-py38_4.9.2-7.0.1/Linux64/fgcmcal/g023b260a0e+25821a5130/python',\n",
       " '/opt/lsst/software/stack/stack/miniconda3-py38_4.9.2-7.0.1/Linux64/display_matplotlib/g0265f82a02+ea6441928c/python',\n",
       " '/opt/lsst/software/stack/stack/miniconda3-py38_4.9.2-7.0.1/Linux64/ap_verify/g3bba7c13bf+c1b85e1378/python',\n",
       " '/opt/lsst/software/stack/stack/miniconda3-py38_4.9.2-7.0.1/Linux64/jointcal/g3c689f2686+4a33454177/python',\n",
       " '/opt/lsst/software/stack/stack/miniconda3-py38_4.9.2-7.0.1/Linux64/cbp/ga32fcf49c8+ea6441928c/python',\n",
       " '/opt/lsst/software/stack/stack/miniconda3-py38_4.9.2-7.0.1/Linux64/obs_subaru/g65833fab06+f9c311f76a/python',\n",
       " '/opt/lsst/software/stack/stack/miniconda3-py38_4.9.2-7.0.1/Linux64/obs_decam/gcd84e84c5d+9bde498c3c/python',\n",
       " '/opt/lsst/software/stack/stack/miniconda3-py38_4.9.2-7.0.1/Linux64/obs_cfht/g98ea1558ea+7a1fade221/python',\n",
       " '/opt/lsst/software/stack/stack/miniconda3-py38_4.9.2-7.0.1/Linux64/ctrl_bps_parsl/gfe186b85dc+6e30524a5b/python',\n",
       " '/opt/lsst/software/stack/stack/miniconda3-py38_4.9.2-7.0.1/Linux64/ctrl_bps_panda/g72cefa85e0+6e30524a5b/python',\n",
       " '/opt/lsst/software/stack/stack/miniconda3-py38_4.9.2-7.0.1/Linux64/ctrl_bps_htcondor/g4bda180e2e+6e30524a5b/python',\n",
       " '/opt/lsst/software/stack/stack/miniconda3-py38_4.9.2-7.0.1/Linux64/lsst_bps_plugins/g3a590c521e+29bb66eb6d/python',\n",
       " '/opt/lsst/software/stack/stack/miniconda3-py38_4.9.2-7.0.1/Linux64/ctrl_bps/gf871a26735+9b83f7e51d/python',\n",
       " '/opt/lsst/software/stack/stack/miniconda3-py38_4.9.2-7.0.1/Linux64/ctrl_platform_s3df/g3be6bbf6ee+b8e28c3ebe/python',\n",
       " '/opt/lsst/software/stack/stack/miniconda3-py38_4.9.2-7.0.1/Linux64/ctrl_execute/g3288a415c1+d78986aaf7/python',\n",
       " '/opt/lsst/software/stack/stack/miniconda3-py38_4.9.2-7.0.1/Linux64/display_ds9/gdb4ec4c597+ea6441928c/python',\n",
       " '/opt/lsst/software/stack/stack/miniconda3-py38_4.9.2-7.0.1/Linux64/meas_extensions_simpleShape/gcf0d15dbbd+f7136a40d1/python',\n",
       " '/opt/lsst/software/stack/stack/miniconda3-py38_4.9.2-7.0.1/Linux64/meas_transiNet/g2ca692352a+f7136a40d1/python',\n",
       " '/opt/lsst/software/stack/stack/miniconda3-py38_4.9.2-7.0.1/Linux64/alert_packet/gc1f99d08cb/python',\n",
       " '/opt/lsst/software/stack/stack/miniconda3-py38_4.9.2-7.0.1/Linux64/ap_association/g6758148a95+cc00875cc0/python',\n",
       " '/opt/lsst/software/stack/stack/miniconda3-py38_4.9.2-7.0.1/Linux64/ap_pipe/g06c608b3b8+b6810408d8/python',\n",
       " '/opt/lsst/software/stack/conda/miniconda3-py38_4.9.2/envs/lsst-scipipe-7.0.1/eups/python',\n",
       " '/opt/lsst/software/stack/conda/miniconda3-py38_4.9.2/envs/lsst-scipipe-7.0.1/lib/python311.zip',\n",
       " '/opt/lsst/software/stack/conda/miniconda3-py38_4.9.2/envs/lsst-scipipe-7.0.1/lib/python3.11',\n",
       " '/opt/lsst/software/stack/conda/miniconda3-py38_4.9.2/envs/lsst-scipipe-7.0.1/lib/python3.11/lib-dynload',\n",
       " '',\n",
       " '/home/d/dagoret/.local/lib/python3.11/site-packages',\n",
       " '/opt/lsst/software/stack/conda/miniconda3-py38_4.9.2/envs/lsst-scipipe-7.0.1/lib/python3.11/site-packages']"
      ]
     },
     "execution_count": 1,
     "metadata": {},
     "output_type": "execute_result"
    }
   ],
   "source": [
    "import sys\n",
    "sys.path"
   ]
  },
  {
   "cell_type": "code",
   "execution_count": 2,
   "metadata": {
    "execution": {
     "iopub.execute_input": "2023-09-13T09:11:58.225961Z",
     "iopub.status.busy": "2023-09-13T09:11:58.225846Z",
     "iopub.status.idle": "2023-09-13T09:11:58.437409Z",
     "shell.execute_reply": "2023-09-13T09:11:58.436934Z",
     "shell.execute_reply.started": "2023-09-13T09:11:58.225951Z"
    },
    "tags": []
   },
   "outputs": [
    {
     "name": "stdout",
     "output_type": "stream",
     "text": [
      "ls: cannot access /home/d/dagoret/rubin-user/AuxTelComm/notebooks_usdf/GeneratepseudoPostISRCCD/my_postisrccd_img: No such file or directory\n"
     ]
    }
   ],
   "source": [
    "! ls /home/d/dagoret/rubin-user/AuxTelComm/notebooks_usdf/GeneratepseudoPostISRCCD/my_postisrccd_img"
   ]
  },
  {
   "cell_type": "code",
   "execution_count": 3,
   "metadata": {
    "execution": {
     "iopub.execute_input": "2023-09-13T09:11:58.438660Z",
     "iopub.status.busy": "2023-09-13T09:11:58.438265Z",
     "iopub.status.idle": "2023-09-13T09:11:58.643858Z",
     "shell.execute_reply": "2023-09-13T09:11:58.643343Z",
     "shell.execute_reply.started": "2023-09-13T09:11:58.438636Z"
    },
    "tags": []
   },
   "outputs": [
    {
     "name": "stdout",
     "output_type": "stream",
     "text": [
      "20230117  20230119  20230202  20230705\t20230718  20230801  20230815  20230912\n",
      "20230118  20230131  20230704  20230706\t20230720  20230802  20230817\n"
     ]
    }
   ],
   "source": [
    "!ls /home/d/dagoret/rubin-user/DATA/AuxtelData2023/my_postisrccd_img_forspectractor_2023/empty~holo4_003\n"
   ]
  },
  {
   "cell_type": "markdown",
   "metadata": {},
   "source": [
    "# Select the combination DATE, FILTER, DISPERSER"
   ]
  },
  {
   "cell_type": "code",
   "execution_count": 4,
   "metadata": {
    "execution": {
     "iopub.execute_input": "2023-09-13T09:11:58.644711Z",
     "iopub.status.busy": "2023-09-13T09:11:58.644573Z",
     "iopub.status.idle": "2023-09-13T09:11:58.647252Z",
     "shell.execute_reply": "2023-09-13T09:11:58.646922Z",
     "shell.execute_reply.started": "2023-09-13T09:11:58.644696Z"
    },
    "tags": []
   },
   "outputs": [],
   "source": [
    "DATE = '20230912'\n",
    "filterdispersernames = [\"empty~holo4_001\",\\\n",
    "                        \"empty~holo4_003\",\\\n",
    "                        \"collimator~holo4_003\",\\\n",
    "                        \"cyl_lens~holo4_001\",\\\n",
    "                        \"cyl_lens~holo4_003\",\\\n",
    "                       ]\n",
    "filterdispersername = filterdispersernames[4]\n",
    "version=\"v7.0\"  # new orientation"
   ]
  },
  {
   "cell_type": "markdown",
   "metadata": {},
   "source": [
    "# If position need to be specified add it in this dictionnary"
   ]
  },
  {
   "cell_type": "code",
   "execution_count": 5,
   "metadata": {
    "execution": {
     "iopub.execute_input": "2023-09-13T09:11:58.647839Z",
     "iopub.status.busy": "2023-09-13T09:11:58.647721Z",
     "iopub.status.idle": "2023-09-13T09:11:58.651323Z",
     "shell.execute_reply": "2023-09-13T09:11:58.650990Z",
     "shell.execute_reply.started": "2023-09-13T09:11:58.647829Z"
    },
    "tags": []
   },
   "outputs": [],
   "source": [
    "# reconstructed / good /xpos /ypos\n",
    "\n",
    "if version == \"v7.0\":\n",
    "    info={\\\n",
    "\n",
    "          # with red filter\n",
    "          'exposure_2023031600351_postisrccd.fits':(1,1,300.,1700),\\\n",
    "         }\n",
    "        "
   ]
  },
  {
   "cell_type": "markdown",
   "metadata": {},
   "source": [
    "# Imports"
   ]
  },
  {
   "cell_type": "code",
   "execution_count": 6,
   "metadata": {
    "execution": {
     "iopub.execute_input": "2023-09-13T09:11:58.652712Z",
     "iopub.status.busy": "2023-09-13T09:11:58.652592Z",
     "iopub.status.idle": "2023-09-13T09:11:59.140144Z",
     "shell.execute_reply": "2023-09-13T09:11:59.139674Z",
     "shell.execute_reply.started": "2023-09-13T09:11:58.652702Z"
    },
    "tags": []
   },
   "outputs": [],
   "source": [
    "import numpy as np\n",
    "import matplotlib.pyplot as plt\n",
    "%matplotlib inline\n",
    "from mpl_toolkits.axes_grid1 import make_axes_locatable\n",
    "import pandas as pd\n",
    "\n",
    "import matplotlib.ticker                         # here's where the formatter is\n",
    "import os\n",
    "import re\n",
    "\n",
    "plt.rcParams[\"figure.figsize\"] = (16,4)\n",
    "plt.rcParams[\"axes.labelsize\"] = 'xx-large'\n",
    "plt.rcParams['axes.titlesize'] = 'xx-large'\n",
    "plt.rcParams['xtick.labelsize']= 'xx-large'\n",
    "plt.rcParams['ytick.labelsize']= 'xx-large'"
   ]
  },
  {
   "cell_type": "code",
   "execution_count": 7,
   "metadata": {
    "execution": {
     "iopub.execute_input": "2023-09-13T09:11:59.140906Z",
     "iopub.status.busy": "2023-09-13T09:11:59.140656Z",
     "iopub.status.idle": "2023-09-13T09:11:59.143188Z",
     "shell.execute_reply": "2023-09-13T09:11:59.142799Z",
     "shell.execute_reply.started": "2023-09-13T09:11:59.140893Z"
    },
    "tags": []
   },
   "outputs": [],
   "source": [
    "from astropy.io import fits"
   ]
  },
  {
   "cell_type": "code",
   "execution_count": 8,
   "metadata": {
    "execution": {
     "iopub.execute_input": "2023-09-13T09:11:59.143920Z",
     "iopub.status.busy": "2023-09-13T09:11:59.143769Z",
     "iopub.status.idle": "2023-09-13T09:11:59.149166Z",
     "shell.execute_reply": "2023-09-13T09:11:59.148794Z",
     "shell.execute_reply.started": "2023-09-13T09:11:59.143905Z"
    },
    "tags": []
   },
   "outputs": [
    {
     "name": "stderr",
     "output_type": "stream",
     "text": [
      "/tmp/ipykernel_21887/3547059130.py:1: DeprecationWarning: the imp module is deprecated in favour of importlib and slated for removal in Python 3.12; see the module's documentation for alternative uses\n",
      "  import imp\n"
     ]
    }
   ],
   "source": [
    "import imp\n",
    "MODULE_EXTENSIONS = ('.py', '.pyc', '.pyo')"
   ]
  },
  {
   "cell_type": "code",
   "execution_count": 9,
   "metadata": {
    "execution": {
     "iopub.execute_input": "2023-09-13T09:11:59.149775Z",
     "iopub.status.busy": "2023-09-13T09:11:59.149658Z",
     "iopub.status.idle": "2023-09-13T09:11:59.152819Z",
     "shell.execute_reply": "2023-09-13T09:11:59.152464Z",
     "shell.execute_reply.started": "2023-09-13T09:11:59.149764Z"
    },
    "tags": []
   },
   "outputs": [],
   "source": [
    "def package_contents(package_name):\n",
    "    file, pathname, description = imp.find_module(package_name)\n",
    "    if file:\n",
    "        raise ImportError('Not a package: %r', package_name)\n",
    "    # Use a set because some may be both source and compiled.\n",
    "    return set([os.path.splitext(module)[0]\n",
    "        for module in os.listdir(pathname)\n",
    "        if module.endswith(MODULE_EXTENSIONS)])"
   ]
  },
  {
   "cell_type": "code",
   "execution_count": 10,
   "metadata": {
    "execution": {
     "iopub.execute_input": "2023-09-13T09:11:59.153406Z",
     "iopub.status.busy": "2023-09-13T09:11:59.153284Z",
     "iopub.status.idle": "2023-09-13T09:11:59.160073Z",
     "shell.execute_reply": "2023-09-13T09:11:59.159719Z",
     "shell.execute_reply.started": "2023-09-13T09:11:59.153395Z"
    },
    "tags": []
   },
   "outputs": [
    {
     "data": {
      "text/plain": [
       "{'__init__',\n",
       " '_version',\n",
       " 'astrometry',\n",
       " 'config',\n",
       " 'logbook',\n",
       " 'parameters',\n",
       " 'tools'}"
      ]
     },
     "execution_count": 10,
     "metadata": {},
     "output_type": "execute_result"
    }
   ],
   "source": [
    "package_contents(\"spectractor\")"
   ]
  },
  {
   "cell_type": "code",
   "execution_count": 11,
   "metadata": {
    "execution": {
     "iopub.execute_input": "2023-09-13T09:11:59.160659Z",
     "iopub.status.busy": "2023-09-13T09:11:59.160545Z",
     "iopub.status.idle": "2023-09-13T09:11:59.165230Z",
     "shell.execute_reply": "2023-09-13T09:11:59.164864Z",
     "shell.execute_reply.started": "2023-09-13T09:11:59.160649Z"
    },
    "tags": []
   },
   "outputs": [
    {
     "data": {
      "text/plain": [
       "{'__init__',\n",
       " 'background',\n",
       " 'chromaticpsf',\n",
       " 'dispersers',\n",
       " 'extractor',\n",
       " 'images',\n",
       " 'psf',\n",
       " 'spectroscopy',\n",
       " 'spectrum',\n",
       " 'targets'}"
      ]
     },
     "execution_count": 11,
     "metadata": {},
     "output_type": "execute_result"
    }
   ],
   "source": [
    "package_contents(\"spectractor/extractor\")"
   ]
  },
  {
   "cell_type": "markdown",
   "metadata": {},
   "source": [
    "# Initialisation"
   ]
  },
  {
   "cell_type": "code",
   "execution_count": 12,
   "metadata": {
    "execution": {
     "iopub.execute_input": "2023-09-13T09:11:59.165925Z",
     "iopub.status.busy": "2023-09-13T09:11:59.165810Z",
     "iopub.status.idle": "2023-09-13T09:11:59.167814Z",
     "shell.execute_reply": "2023-09-13T09:11:59.167456Z",
     "shell.execute_reply.started": "2023-09-13T09:11:59.165915Z"
    },
    "tags": []
   },
   "outputs": [],
   "source": [
    "dir_logbooks=\"logbooks\""
   ]
  },
  {
   "cell_type": "code",
   "execution_count": 13,
   "metadata": {
    "execution": {
     "iopub.execute_input": "2023-09-13T09:11:59.168394Z",
     "iopub.status.busy": "2023-09-13T09:11:59.168274Z",
     "iopub.status.idle": "2023-09-13T09:11:59.173848Z",
     "shell.execute_reply": "2023-09-13T09:11:59.173494Z",
     "shell.execute_reply.started": "2023-09-13T09:11:59.168377Z"
    },
    "tags": []
   },
   "outputs": [],
   "source": [
    "import os\n",
    "if not os.path.exists(dir_logbooks):\n",
    "    os.makedirs(dir_logbooks)"
   ]
  },
  {
   "cell_type": "markdown",
   "metadata": {},
   "source": [
    "## Get inputs files and sort them according date and number"
   ]
  },
  {
   "cell_type": "code",
   "execution_count": 14,
   "metadata": {
    "execution": {
     "iopub.execute_input": "2023-09-13T09:11:59.174419Z",
     "iopub.status.busy": "2023-09-13T09:11:59.174298Z",
     "iopub.status.idle": "2023-09-13T09:11:59.177859Z",
     "shell.execute_reply": "2023-09-13T09:11:59.177520Z",
     "shell.execute_reply.started": "2023-09-13T09:11:59.174409Z"
    },
    "tags": []
   },
   "outputs": [],
   "source": [
    "home=os.getenv(\"HOME\")"
   ]
  },
  {
   "cell_type": "code",
   "execution_count": 15,
   "metadata": {
    "execution": {
     "iopub.execute_input": "2023-09-13T09:11:59.178538Z",
     "iopub.status.busy": "2023-09-13T09:11:59.178426Z",
     "iopub.status.idle": "2023-09-13T09:11:59.181552Z",
     "shell.execute_reply": "2023-09-13T09:11:59.181192Z",
     "shell.execute_reply.started": "2023-09-13T09:11:59.178528Z"
    }
   },
   "outputs": [],
   "source": [
    "image_path=filterdispersername\n",
    "logbook_csv=os.path.join(dir_logbooks,\"auxtellogbook_\" + filterdispersername + \"_\"+ DATE +\"_\" + version + \".csv\")\n",
    "logbook_xlsx=os.path.join(dir_logbooks,\"auxtellogbook_\" + filterdispersername + \"_\" +DATE +\"_\" + version + \".xlsx\")"
   ]
  },
  {
   "cell_type": "markdown",
   "metadata": {},
   "source": [
    "# Path"
   ]
  },
  {
   "cell_type": "code",
   "execution_count": 16,
   "metadata": {
    "execution": {
     "iopub.execute_input": "2023-09-13T09:11:59.182112Z",
     "iopub.status.busy": "2023-09-13T09:11:59.182004Z",
     "iopub.status.idle": "2023-09-13T09:11:59.192484Z",
     "shell.execute_reply": "2023-09-13T09:11:59.192126Z",
     "shell.execute_reply.started": "2023-09-13T09:11:59.182103Z"
    }
   },
   "outputs": [],
   "source": [
    "def GetPaths(computer_name):\n",
    "    \"\"\"\n",
    "    \"\"\"\n",
    "    \n",
    "    if computer_name == \"HOSTCC\":\n",
    "        \n",
    "        path_auxtel=\"/sps/lsst/groups/auxtel\"\n",
    "        path_spectractor=os.path.join(path_auxtel,\"softs/github/desc/Spectractor\")\n",
    "        path_spectractor_config=os.path.join(path_spectractor,\"config\")\n",
    "    \n",
    "        path_images=os.path.join(path_auxtel,\"data/hack_usdf/my_postisrccd_img_forspectractor_2023/\"+filterdispersername+\"/\"+DATE)\n",
    "        if configdir == \"\":\n",
    "            path_output_spectractor=os.path.join(path_auxtel,\"data/2023/OutputSpectractor/\"+imagemode+\"/\"+filterdispersername+\"/\"+DATE)\n",
    "        else:\n",
    "            path_output_spectractor=os.path.join(path_auxtel,\"data/2023/OutputSpectractor/\"+imagemode+\"/\"+filterdispersername+\"/\"+configdir+\"/\"+DATE)\n",
    "            path_topoutput_spectractor=os.path.join(path_auxtel,\"data/2023/OutputSpectractor/\"+imagemode+\"/\"+filterdispersername+\"/\"+configdir)\n",
    "            path_toptopoutput_spectractor=os.path.join(path_auxtel,\"data/2023/OutputSpectractor/\"+imagemode+\"/\"+filterdispersername)\n",
    "            path_toptoptopoutput_spectractor=os.path.join(path_auxtel,\"data/2023/OutputSpectractor/\"+imagemode)\n",
    "        \n",
    "    elif computer_name == \"LAPTOP1\":\n",
    "        path_auxtel=\"/Users/dagoret/DATA/AuxTelData2023\"\n",
    "        path_spectractor=os.path.join(path_auxtel,\"/Users/dagoret/MacOSX/GitHub/LSST/Spectractor\")\n",
    "        path_spectractor_config=os.path.join(path_spectractor,\"config\")\n",
    "        path_images=os.path.join(path_auxtel,\"data/2023/\"+filterdispersername+\"/\"+DATE)\n",
    "        if configdir == \"\":\n",
    "            path_output_spectractor=os.path.join(path_auxtel,\"data/2023/OutputSpectractor/\"+imagemode+\"/\"+filterdispersername+\"/\"+DATE)\n",
    "        else:\n",
    "            path_output_spectractor=os.path.join(path_auxtel,\"data/2023/OutputSpectractor/\"+imagemode+\"/\"+filterdispersername+\"/\"+configdir+\"/\"+DATE)\n",
    "            path_topoutput_spectractor=os.path.join(path_auxtel,\"data/2023/OutputSpectractor/\"+imagemode+\"/\"+filterdispersername+\"/\"+configdir)\n",
    "            path_toptopoutput_spectractor=os.path.join(path_auxtel,\"data/2023/OutputSpectractor/\"+imagemode+\"/\"+filterdispersername)\n",
    "            path_toptoptopoutput_spectractor=os.path.join(path_auxtel,\"data/2023/OutputSpectractor/\"+imagemode)\n",
    "        \n",
    "        \n",
    "    elif computer_name == \"WORKIMAC\":\n",
    "        path_auxtel=\"/Users/sylvie/DATA/AuxTelData2023\"\n",
    "        path_spectractor=os.path.join(path_auxtel,\"/Users/sylvie/MacOSX/GitHub/LSST/Spectractor\")\n",
    "        path_spectractor_config=os.path.join(path_spectractor,\"config\")\n",
    "        path_images=os.path.join(path_auxtel,\"data/2023/\"+filterdispersername+\"/\"+DATE)\n",
    "        if configdir == \"\":\n",
    "            path_output_spectractor=os.path.join(path_auxtel,\"data/2023/OutputSpectractor/\"+imagemode+\"/\"+filterdispersername+\"/\"+DATE)\n",
    "        else:\n",
    "            path_output_spectractor=os.path.join(path_auxtel,\"data/2023/OutputSpectractor/\"+imagemode+\"/\"+filterdispersername+\"/\"+configdir+\"/\"+DATE)\n",
    "            path_topoutput_spectractor=os.path.join(path_auxtel,\"data/2023/OutputSpectractor/\"+imagemode+\"/\"+filterdispersername+\"/\"+configdir)\n",
    "            path_toptopoutput_spectractor=os.path.join(path_auxtel,\"data/2023/OutputSpectractor/\"+imagemode+\"/\"+filterdispersername)\n",
    "            path_toptoptopoutput_spectractor=os.path.join(path_auxtel,\"data/2023/OutputSpectractor/\"+imagemode)\n",
    "            \n",
    "            \n",
    "        \n",
    "    elif computer_name == \"HOMEIMAC\":\n",
    "        path_auxtel=\"/Volumes/Backup2020/DATA\"\n",
    "        path_spectractor=os.path.join(path_auxtel,\"MacOSX/GitHub/LSST/Spectractor\")\n",
    "        path_spectractor_config=os.path.join(\".\",\"config\")\n",
    "        path_images=os.path.join(path_auxtel,\"hack_usdf/my_postisrccd_img_forspectractor_2023/\"+filterdispersername+\"/\"+DATE)\n",
    "        \n",
    "        # /Volumes/Backup2020/DATA/AuxTelDATA2023/data/2023/OutputSpectractor\n",
    "        \n",
    "        if configdir == \"\":\n",
    "            path_output_spectractor=os.path.join(path_auxtel,\"AuxTelDATA2023/data/2023/OutputSpectractor/\"+imagemode+\"/\"+filterdispersername+\"/\"+DATE)\n",
    "        else:\n",
    "            path_output_spectractor=os.path.join(path_auxtel,\"AuxTelDATA2023/data/2023/OutputSpectractor/\"+imagemode+\"/\"+filterdispersername+\"/\"+configdir+\"/\"+DATE)\n",
    "            path_topoutput_spectractor=os.path.join(path_auxtel,\"AuxTelDATA2023/data/2023/OutputSpectractor/\"+imagemode+\"/\"+filterdispersername+\"/\"+configdir)\n",
    "            path_toptopoutput_spectractor=os.path.join(path_auxtel,\"AuxTelDATA2023/data/2023/OutputSpectractor/\"+imagemode+\"/\"+filterdispersername)\n",
    "            path_toptoptopoutput_spectractor=os.path.join(path_auxtel,\"AuxTelDATA2023/data/2023/OutputSpectractor/\"+imagemode)\n",
    "    # /home/d/dagoret/rubin-user/DATA/AuxtelData2023/my_postisrccd_img_forspectractor_2023/empty~holo4_003\n",
    "    elif computer_name == \"USDF\":\n",
    "        path_auxtel=\"/home/d/dagoret/rubin-user/DATA\"\n",
    "        path_spectractor=os.path.join(\"/home/d/dagoret\",\"repos/repos_w_2023_35/Spectractor\")\n",
    "        path_spectractor_config=os.path.join(\".\",\"config\")\n",
    "        path_images=os.path.join(path_auxtel,\"AuxtelData2023/my_postisrccd_img_forspectractor_2023/\"+filterdispersername+\"/\"+DATE)\n",
    "        \n",
    "        # /Volumes/Backup2020/DATA/AuxTelDATA2023/data/2023/OutputSpectractor\n",
    "        \n",
    "        if configdir == \"\":\n",
    "            path_output_spectractor=os.path.join(path_auxtel,\"AuxtelData2023/OutputSpectractor/\"+imagemode+\"/\"+filterdispersername+\"/\"+DATE)\n",
    "        else:\n",
    "            path_output_spectractor=os.path.join(path_auxtel,\"AuxTelData2023/OutputSpectractor/\"+imagemode+\"/\"+filterdispersername+\"/\"+configdir+\"/\"+DATE)\n",
    "            path_topoutput_spectractor=os.path.join(path_auxtel,\"AuxtelData2023/OutputSpectractor/\"+imagemode+\"/\"+filterdispersername+\"/\"+configdir)\n",
    "            path_toptopoutput_spectractor=os.path.join(path_auxtel,\"AuxtelData2023/OutputSpectractor/\"+imagemode+\"/\"+filterdispersername)\n",
    "            path_toptoptopoutput_spectractor=os.path.join(path_auxtel,\"AuxtelData2023/OutputSpectractor/\"+imagemode)\n",
    "        \n",
    "        \n",
    "        \n",
    "    else:\n",
    "        print(f\"Unknown computer {computer_name}\")\n",
    "        \n",
    "              \n",
    "    return path_auxtel,path_spectractor,path_spectractor_config,path_images,path_toptoptopoutput_spectractor, path_toptopoutput_spectractor, path_topoutput_spectractor, path_output_spectractor\n",
    "        "
   ]
  },
  {
   "cell_type": "code",
   "execution_count": 17,
   "metadata": {
    "execution": {
     "iopub.execute_input": "2023-09-13T09:11:59.193078Z",
     "iopub.status.busy": "2023-09-13T09:11:59.192961Z",
     "iopub.status.idle": "2023-09-13T09:11:59.196171Z",
     "shell.execute_reply": "2023-09-13T09:11:59.195829Z",
     "shell.execute_reply.started": "2023-09-13T09:11:59.193066Z"
    }
   },
   "outputs": [],
   "source": [
    "configdir = \" \"\n",
    "imagemode = \" \"\n",
    "mycomputer_name = \"USDF\"\n",
    "path_auxtel,path_spectractor,path_spectractor_config,path_images,path_toptoptopoutput_spectractor, path_toptopoutput_spectractor, path_topoutput_spectractor, path_output_spectractor  = GetPaths(mycomputer_name)"
   ]
  },
  {
   "cell_type": "code",
   "execution_count": 18,
   "metadata": {
    "execution": {
     "iopub.execute_input": "2023-09-13T09:11:59.196743Z",
     "iopub.status.busy": "2023-09-13T09:11:59.196630Z",
     "iopub.status.idle": "2023-09-13T09:11:59.200671Z",
     "shell.execute_reply": "2023-09-13T09:11:59.200278Z",
     "shell.execute_reply.started": "2023-09-13T09:11:59.196733Z"
    },
    "tags": []
   },
   "outputs": [
    {
     "data": {
      "text/plain": [
       "'/home/d/dagoret/rubin-user/DATA'"
      ]
     },
     "execution_count": 18,
     "metadata": {},
     "output_type": "execute_result"
    }
   ],
   "source": [
    "path_auxtel"
   ]
  },
  {
   "cell_type": "code",
   "execution_count": 19,
   "metadata": {
    "execution": {
     "iopub.execute_input": "2023-09-13T09:11:59.201364Z",
     "iopub.status.busy": "2023-09-13T09:11:59.201216Z",
     "iopub.status.idle": "2023-09-13T09:11:59.205534Z",
     "shell.execute_reply": "2023-09-13T09:11:59.205155Z",
     "shell.execute_reply.started": "2023-09-13T09:11:59.201351Z"
    },
    "tags": []
   },
   "outputs": [
    {
     "data": {
      "text/plain": [
       "'/home/d/dagoret/rubin-user/DATA/AuxtelData2023/my_postisrccd_img_forspectractor_2023/cyl_lens~holo4_003/20230912'"
      ]
     },
     "execution_count": 19,
     "metadata": {},
     "output_type": "execute_result"
    }
   ],
   "source": [
    "#  /home/d/dagoret/rubin-user/DATA/AuxtelData2023/my_postisrccd_img_forspectractor_2023/empty~holo4_003\n",
    "path_images"
   ]
  },
  {
   "cell_type": "markdown",
   "metadata": {},
   "source": [
    "# Check the images exists"
   ]
  },
  {
   "cell_type": "code",
   "execution_count": 20,
   "metadata": {
    "execution": {
     "iopub.execute_input": "2023-09-13T09:11:59.206158Z",
     "iopub.status.busy": "2023-09-13T09:11:59.206016Z",
     "iopub.status.idle": "2023-09-13T09:11:59.208139Z",
     "shell.execute_reply": "2023-09-13T09:11:59.207808Z",
     "shell.execute_reply.started": "2023-09-13T09:11:59.206144Z"
    },
    "tags": []
   },
   "outputs": [],
   "source": [
    "dir_images=path_images"
   ]
  },
  {
   "cell_type": "code",
   "execution_count": 21,
   "metadata": {
    "execution": {
     "iopub.execute_input": "2023-09-13T09:11:59.210503Z",
     "iopub.status.busy": "2023-09-13T09:11:59.210377Z",
     "iopub.status.idle": "2023-09-13T09:11:59.212990Z",
     "shell.execute_reply": "2023-09-13T09:11:59.212663Z",
     "shell.execute_reply.started": "2023-09-13T09:11:59.210493Z"
    },
    "tags": []
   },
   "outputs": [
    {
     "data": {
      "text/plain": [
       "'/home/d/dagoret/rubin-user/DATA/AuxtelData2023/my_postisrccd_img_forspectractor_2023/cyl_lens~holo4_003/20230912'"
      ]
     },
     "execution_count": 21,
     "metadata": {},
     "output_type": "execute_result"
    }
   ],
   "source": [
    "dir_images"
   ]
  },
  {
   "cell_type": "code",
   "execution_count": 22,
   "metadata": {
    "execution": {
     "iopub.execute_input": "2023-09-13T09:11:59.213553Z",
     "iopub.status.busy": "2023-09-13T09:11:59.213441Z",
     "iopub.status.idle": "2023-09-13T09:11:59.423120Z",
     "shell.execute_reply": "2023-09-13T09:11:59.422571Z",
     "shell.execute_reply.started": "2023-09-13T09:11:59.213542Z"
    },
    "tags": []
   },
   "outputs": [
    {
     "name": "stdout",
     "output_type": "stream",
     "text": [
      "exposure_2023081500089_pseudo-postisrccd.fits\n",
      "exposure_2023081500092_pseudo-postisrccd.fits\n",
      "exposure_2023081500093_pseudo-postisrccd.fits\n"
     ]
    }
   ],
   "source": [
    "! ls /home/d/dagoret/rubin-user/DATA/AuxtelData2023/my_postisrccd_img_forspectractor_2023/empty~holo4_003/20230815"
   ]
  },
  {
   "cell_type": "code",
   "execution_count": 23,
   "metadata": {
    "execution": {
     "iopub.execute_input": "2023-09-13T09:11:59.424005Z",
     "iopub.status.busy": "2023-09-13T09:11:59.423857Z",
     "iopub.status.idle": "2023-09-13T09:11:59.427874Z",
     "shell.execute_reply": "2023-09-13T09:11:59.427510Z",
     "shell.execute_reply.started": "2023-09-13T09:11:59.423990Z"
    }
   },
   "outputs": [],
   "source": [
    "all_files=os.listdir(dir_images)"
   ]
  },
  {
   "cell_type": "code",
   "execution_count": 24,
   "metadata": {
    "execution": {
     "iopub.execute_input": "2023-09-13T09:11:59.428511Z",
     "iopub.status.busy": "2023-09-13T09:11:59.428384Z",
     "iopub.status.idle": "2023-09-13T09:11:59.431583Z",
     "shell.execute_reply": "2023-09-13T09:11:59.431236Z",
     "shell.execute_reply.started": "2023-09-13T09:11:59.428501Z"
    }
   },
   "outputs": [
    {
     "data": {
      "text/plain": [
       "['exposure_2023091200124_pseudo-postisrccd.fits',\n",
       " 'exposure_2023091200191_pseudo-postisrccd.fits',\n",
       " 'exposure_2023091200125_pseudo-postisrccd.fits',\n",
       " 'exposure_2023091200193_pseudo-postisrccd.fits',\n",
       " 'exposure_2023091200194_pseudo-postisrccd.fits',\n",
       " 'exposure_2023091200126_pseudo-postisrccd.fits',\n",
       " 'exposure_2023091200192_pseudo-postisrccd.fits']"
      ]
     },
     "execution_count": 24,
     "metadata": {},
     "output_type": "execute_result"
    }
   ],
   "source": [
    "all_files"
   ]
  },
  {
   "cell_type": "code",
   "execution_count": 25,
   "metadata": {
    "execution": {
     "iopub.execute_input": "2023-09-13T09:11:59.432174Z",
     "iopub.status.busy": "2023-09-13T09:11:59.432064Z",
     "iopub.status.idle": "2023-09-13T09:11:59.436062Z",
     "shell.execute_reply": "2023-09-13T09:11:59.435721Z",
     "shell.execute_reply.started": "2023-09-13T09:11:59.432165Z"
    }
   },
   "outputs": [],
   "source": [
    "all_selected_files = []\n",
    "for filename in all_files:\n",
    "    if re.search(\".fits$\",filename):\n",
    "        all_selected_files.append(filename)\n",
    "N=len(all_selected_files)"
   ]
  },
  {
   "cell_type": "code",
   "execution_count": 26,
   "metadata": {
    "execution": {
     "iopub.execute_input": "2023-09-13T09:11:59.436638Z",
     "iopub.status.busy": "2023-09-13T09:11:59.436527Z",
     "iopub.status.idle": "2023-09-13T09:11:59.439804Z",
     "shell.execute_reply": "2023-09-13T09:11:59.439460Z",
     "shell.execute_reply.started": "2023-09-13T09:11:59.436628Z"
    }
   },
   "outputs": [],
   "source": [
    "all_selected_files=np.array(all_selected_files)"
   ]
  },
  {
   "cell_type": "markdown",
   "metadata": {},
   "source": [
    "### Sort files"
   ]
  },
  {
   "cell_type": "code",
   "execution_count": 27,
   "metadata": {
    "execution": {
     "iopub.execute_input": "2023-09-13T09:11:59.440400Z",
     "iopub.status.busy": "2023-09-13T09:11:59.440283Z",
     "iopub.status.idle": "2023-09-13T09:11:59.444152Z",
     "shell.execute_reply": "2023-09-13T09:11:59.443803Z",
     "shell.execute_reply.started": "2023-09-13T09:11:59.440389Z"
    }
   },
   "outputs": [],
   "source": [
    "def file_tag_forsorting(filename):\n",
    "    #m=re.findall('^Cor_holo4_003_.*([0-9][0-9][0-9][0-9]-[0-9][0-9]-[0-9][0-9]_.*)[.]fits$',filename)\n",
    "    m=re.findall('exposure.*_(.*)_pseudo-postisrccd[.]fits$',filename)\n",
    "    \n",
    "    return m[0]"
   ]
  },
  {
   "cell_type": "code",
   "execution_count": 28,
   "metadata": {
    "execution": {
     "iopub.execute_input": "2023-09-13T09:11:59.444747Z",
     "iopub.status.busy": "2023-09-13T09:11:59.444634Z",
     "iopub.status.idle": "2023-09-13T09:11:59.448878Z",
     "shell.execute_reply": "2023-09-13T09:11:59.448392Z",
     "shell.execute_reply.started": "2023-09-13T09:11:59.444737Z"
    }
   },
   "outputs": [
    {
     "data": {
      "text/plain": [
       "'2022031700310'"
      ]
     },
     "execution_count": 28,
     "metadata": {},
     "output_type": "execute_result"
    }
   ],
   "source": [
    "file_tag_forsorting('exposure_2022031700310_pseudo-postisrccd.fits')"
   ]
  },
  {
   "cell_type": "code",
   "execution_count": 29,
   "metadata": {
    "execution": {
     "iopub.execute_input": "2023-09-13T09:11:59.449489Z",
     "iopub.status.busy": "2023-09-13T09:11:59.449366Z",
     "iopub.status.idle": "2023-09-13T09:11:59.454026Z",
     "shell.execute_reply": "2023-09-13T09:11:59.453633Z",
     "shell.execute_reply.started": "2023-09-13T09:11:59.449479Z"
    }
   },
   "outputs": [
    {
     "data": {
      "text/plain": [
       "array(['2023091200124', '2023091200191', '2023091200125', '2023091200193',\n",
       "       '2023091200194', '2023091200126', '2023091200192'], dtype='<U13')"
      ]
     },
     "execution_count": 29,
     "metadata": {},
     "output_type": "execute_result"
    }
   ],
   "source": [
    "#all_tags = [ file_tag_forsorting(filename)[0] for filename in all_selected_files]\n",
    "all_tags = [ file_tag_forsorting(filename) for filename in all_selected_files]\n",
    "all_tags=np.array(all_tags)\n",
    "all_tags"
   ]
  },
  {
   "cell_type": "code",
   "execution_count": 30,
   "metadata": {
    "execution": {
     "iopub.execute_input": "2023-09-13T09:11:59.454630Z",
     "iopub.status.busy": "2023-09-13T09:11:59.454516Z",
     "iopub.status.idle": "2023-09-13T09:11:59.456739Z",
     "shell.execute_reply": "2023-09-13T09:11:59.456395Z",
     "shell.execute_reply.started": "2023-09-13T09:11:59.454620Z"
    }
   },
   "outputs": [],
   "source": [
    "indexes=np.argsort(all_tags)"
   ]
  },
  {
   "cell_type": "code",
   "execution_count": 31,
   "metadata": {
    "execution": {
     "iopub.execute_input": "2023-09-13T09:11:59.457340Z",
     "iopub.status.busy": "2023-09-13T09:11:59.457229Z",
     "iopub.status.idle": "2023-09-13T09:11:59.461226Z",
     "shell.execute_reply": "2023-09-13T09:11:59.460876Z",
     "shell.execute_reply.started": "2023-09-13T09:11:59.457331Z"
    }
   },
   "outputs": [],
   "source": [
    "sorted_files=all_selected_files[indexes]"
   ]
  },
  {
   "cell_type": "code",
   "execution_count": 32,
   "metadata": {
    "execution": {
     "iopub.execute_input": "2023-09-13T09:11:59.461865Z",
     "iopub.status.busy": "2023-09-13T09:11:59.461754Z",
     "iopub.status.idle": "2023-09-13T09:11:59.464862Z",
     "shell.execute_reply": "2023-09-13T09:11:59.464508Z",
     "shell.execute_reply.started": "2023-09-13T09:11:59.461855Z"
    }
   },
   "outputs": [
    {
     "data": {
      "text/plain": [
       "array(['exposure_2023091200124_pseudo-postisrccd.fits',\n",
       "       'exposure_2023091200125_pseudo-postisrccd.fits',\n",
       "       'exposure_2023091200126_pseudo-postisrccd.fits',\n",
       "       'exposure_2023091200191_pseudo-postisrccd.fits',\n",
       "       'exposure_2023091200192_pseudo-postisrccd.fits',\n",
       "       'exposure_2023091200193_pseudo-postisrccd.fits',\n",
       "       'exposure_2023091200194_pseudo-postisrccd.fits'], dtype='<U45')"
      ]
     },
     "execution_count": 32,
     "metadata": {},
     "output_type": "execute_result"
    }
   ],
   "source": [
    "sorted_files"
   ]
  },
  {
   "cell_type": "code",
   "execution_count": 33,
   "metadata": {
    "execution": {
     "iopub.execute_input": "2023-09-13T09:11:59.465460Z",
     "iopub.status.busy": "2023-09-13T09:11:59.465344Z",
     "iopub.status.idle": "2023-09-13T09:11:59.469155Z",
     "shell.execute_reply": "2023-09-13T09:11:59.468805Z",
     "shell.execute_reply.started": "2023-09-13T09:11:59.465450Z"
    }
   },
   "outputs": [],
   "source": [
    "N=len(sorted_files)"
   ]
  },
  {
   "cell_type": "markdown",
   "metadata": {},
   "source": [
    "# Build the logbook from the headers"
   ]
  },
  {
   "cell_type": "code",
   "execution_count": 34,
   "metadata": {
    "execution": {
     "iopub.execute_input": "2023-09-13T09:11:59.469790Z",
     "iopub.status.busy": "2023-09-13T09:11:59.469676Z",
     "iopub.status.idle": "2023-09-13T09:11:59.511939Z",
     "shell.execute_reply": "2023-09-13T09:11:59.511596Z",
     "shell.execute_reply.started": "2023-09-13T09:11:59.469780Z"
    }
   },
   "outputs": [],
   "source": [
    "idx=0\n",
    "#ccdir='/sps/lsst/groups/auxtel/data/2021/holo/FlipCleans'\n",
    "ccdir=dir_images\n",
    "all_dates=[]\n",
    "all_files=[]\n",
    "all_seqnum=[]\n",
    "all_subdir=[]\n",
    "all_indexes=[]\n",
    "all_targets=[]\n",
    "all_filters=[]\n",
    "all_disperser=[]\n",
    "all_airmass=[]\n",
    "all_exposures=[]\n",
    "all_focus=[]\n",
    "all_seeing=[]\n",
    "all_P=[]\n",
    "all_T=[]\n",
    "all_H=[]\n",
    "all_W=[]\n",
    "for filename in sorted_files:\n",
    "    fullfilename=os.path.join(dir_images,filename)\n",
    "    hdu = fits.open(fullfilename)\n",
    "    hdu0=hdu[0]\n",
    "    hdr0=hdu0.header \n",
    "    all_indexes.append(idx)\n",
    "    all_seqnum.append(hdr0['SEQNUM'])\n",
    "    all_files.append(filename)\n",
    "    all_subdir.append(ccdir)\n",
    "    targetname=hdr0['OBJECT']\n",
    "    all_targets.append(targetname)\n",
    "    all_dates.append(hdr0['DATE-OBS'])\n",
    "    all_airmass.append(hdr0['AMSTART'])\n",
    "    all_filters.append(hdr0['FILTER'])\n",
    "    all_disperser.append(hdr0['GRATING'])\n",
    "    all_exposures.append(hdr0['EXPTIME'])\n",
    "    all_focus.append(hdr0['FOCUSZ'])\n",
    "    all_seeing.append(hdr0['SEEING'])\n",
    "    all_P.append(hdr0['PRESSURE'])\n",
    "    all_T.append(hdr0['AIRTEMP'])\n",
    "    all_H.append(hdr0['HUMIDITY'])\n",
    "    all_W.append(hdr0['WINDSPD'])\n",
    "       \n",
    "    \n",
    "    idx+=1\n",
    "    "
   ]
  },
  {
   "cell_type": "markdown",
   "metadata": {},
   "source": [
    "# Make pandas dataframe"
   ]
  },
  {
   "cell_type": "markdown",
   "metadata": {},
   "source": [
    "## Create pandas dataframe"
   ]
  },
  {
   "cell_type": "code",
   "execution_count": 35,
   "metadata": {
    "execution": {
     "iopub.execute_input": "2023-09-13T09:11:59.512539Z",
     "iopub.status.busy": "2023-09-13T09:11:59.512421Z",
     "iopub.status.idle": "2023-09-13T09:11:59.515457Z",
     "shell.execute_reply": "2023-09-13T09:11:59.515096Z",
     "shell.execute_reply.started": "2023-09-13T09:11:59.512529Z"
    }
   },
   "outputs": [],
   "source": [
    "df=pd.DataFrame()"
   ]
  },
  {
   "cell_type": "code",
   "execution_count": 36,
   "metadata": {
    "execution": {
     "iopub.execute_input": "2023-09-13T09:11:59.516066Z",
     "iopub.status.busy": "2023-09-13T09:11:59.515950Z",
     "iopub.status.idle": "2023-09-13T09:11:59.519003Z",
     "shell.execute_reply": "2023-09-13T09:11:59.518666Z",
     "shell.execute_reply.started": "2023-09-13T09:11:59.516053Z"
    }
   },
   "outputs": [
    {
     "data": {
      "text/plain": [
       "7"
      ]
     },
     "execution_count": 36,
     "metadata": {},
     "output_type": "execute_result"
    }
   ],
   "source": [
    "len(all_airmass)"
   ]
  },
  {
   "cell_type": "code",
   "execution_count": 37,
   "metadata": {
    "execution": {
     "iopub.execute_input": "2023-09-13T09:11:59.519587Z",
     "iopub.status.busy": "2023-09-13T09:11:59.519475Z",
     "iopub.status.idle": "2023-09-13T09:11:59.523363Z",
     "shell.execute_reply": "2023-09-13T09:11:59.522995Z",
     "shell.execute_reply.started": "2023-09-13T09:11:59.519577Z"
    }
   },
   "outputs": [],
   "source": [
    "N=len(all_indexes)"
   ]
  },
  {
   "cell_type": "markdown",
   "metadata": {},
   "source": [
    "## Fill with container info"
   ]
  },
  {
   "cell_type": "code",
   "execution_count": 38,
   "metadata": {
    "execution": {
     "iopub.execute_input": "2023-09-13T09:11:59.523963Z",
     "iopub.status.busy": "2023-09-13T09:11:59.523851Z",
     "iopub.status.idle": "2023-09-13T09:11:59.530108Z",
     "shell.execute_reply": "2023-09-13T09:11:59.529760Z",
     "shell.execute_reply.started": "2023-09-13T09:11:59.523953Z"
    }
   },
   "outputs": [],
   "source": [
    "df['index']=all_indexes\n",
    "df['date']=all_dates\n",
    "df['path']=all_subdir\n",
    "df['file']=all_files\n",
    "df['num']=all_seqnum\n",
    "df['object']=all_targets\n",
    "df['filter']=all_filters\n",
    "df['disperser']=all_disperser\n",
    "df['airmass']=all_airmass\n",
    "df['exposure']=all_exposures\n",
    "df['focus']=all_focus\n",
    "df['seeing']=all_seeing\n",
    "df['pressure']=all_P\n",
    "df['temperature']=all_T\n",
    "df['humidity']=all_H\n",
    "df['windspd']=all_W"
   ]
  },
  {
   "cell_type": "markdown",
   "metadata": {},
   "source": [
    "## Add dictionnary info"
   ]
  },
  {
   "cell_type": "markdown",
   "metadata": {},
   "source": [
    "### Initialise new columns"
   ]
  },
  {
   "cell_type": "code",
   "execution_count": 39,
   "metadata": {
    "execution": {
     "iopub.execute_input": "2023-09-13T09:11:59.530729Z",
     "iopub.status.busy": "2023-09-13T09:11:59.530615Z",
     "iopub.status.idle": "2023-09-13T09:11:59.533252Z",
     "shell.execute_reply": "2023-09-13T09:11:59.532918Z",
     "shell.execute_reply.started": "2023-09-13T09:11:59.530719Z"
    }
   },
   "outputs": [],
   "source": [
    "Obj_posXpix=np.full(N,np.nan)\n",
    "Obj_posYpix=np.full(N,np.nan)\n",
    "Dx=np.full(N,np.nan)\n",
    "Dy=np.full(N,np.nan)\n",
    "run=np.full(N,np.nan)\n",
    "quality=np.full(N,np.nan)\n",
    "skip=np.full(N,\"    \")"
   ]
  },
  {
   "cell_type": "markdown",
   "metadata": {},
   "source": [
    "### Fill dictionnary info"
   ]
  },
  {
   "cell_type": "code",
   "execution_count": 40,
   "metadata": {
    "execution": {
     "iopub.execute_input": "2023-09-13T09:11:59.533845Z",
     "iopub.status.busy": "2023-09-13T09:11:59.533732Z",
     "iopub.status.idle": "2023-09-13T09:11:59.538436Z",
     "shell.execute_reply": "2023-09-13T09:11:59.538074Z",
     "shell.execute_reply.started": "2023-09-13T09:11:59.533835Z"
    }
   },
   "outputs": [],
   "source": [
    "# loop on rows index\n",
    "for idx in np.arange(N):\n",
    "    filename=all_files[idx]\n",
    "    # check if filename is in dictionnary\n",
    "    if filename in info.keys():\n",
    "        (run_flag,quality_flag,xpos,ypos)=info[filename]\n",
    "        Obj_posXpix[idx]=int(xpos)\n",
    "        Obj_posYpix[idx]=int(ypos)\n",
    "        run[idx]=run_flag\n",
    "        if quality_flag==1:\n",
    "            skip[idx] = \"    \"\n",
    "            quality[idx]=1\n",
    "        else:\n",
    "            skip[idx] = \"skip\"\n",
    "            quality[idx]=0"
   ]
  },
  {
   "cell_type": "code",
   "execution_count": 41,
   "metadata": {
    "execution": {
     "iopub.execute_input": "2023-09-13T09:11:59.539036Z",
     "iopub.status.busy": "2023-09-13T09:11:59.538923Z",
     "iopub.status.idle": "2023-09-13T09:11:59.542598Z",
     "shell.execute_reply": "2023-09-13T09:11:59.542242Z",
     "shell.execute_reply.started": "2023-09-13T09:11:59.539025Z"
    }
   },
   "outputs": [],
   "source": [
    "df['Obj-posXpix']=Obj_posXpix\n",
    "df['Obj-posYpix']=Obj_posYpix\n",
    "df['Dx']=Dx\n",
    "df['Dy']=Dy\n",
    "df['skip']=skip\n",
    "df['run']=run\n",
    "df['quality']=quality"
   ]
  },
  {
   "cell_type": "code",
   "execution_count": 42,
   "metadata": {
    "execution": {
     "iopub.execute_input": "2023-09-13T09:11:59.543210Z",
     "iopub.status.busy": "2023-09-13T09:11:59.543100Z",
     "iopub.status.idle": "2023-09-13T09:11:59.546057Z",
     "shell.execute_reply": "2023-09-13T09:11:59.545724Z",
     "shell.execute_reply.started": "2023-09-13T09:11:59.543200Z"
    }
   },
   "outputs": [],
   "source": [
    "pd.set_option('display.max_rows', None)"
   ]
  },
  {
   "cell_type": "code",
   "execution_count": 43,
   "metadata": {
    "execution": {
     "iopub.execute_input": "2023-09-13T09:11:59.546659Z",
     "iopub.status.busy": "2023-09-13T09:11:59.546546Z",
     "iopub.status.idle": "2023-09-13T09:11:59.560014Z",
     "shell.execute_reply": "2023-09-13T09:11:59.559675Z",
     "shell.execute_reply.started": "2023-09-13T09:11:59.546648Z"
    }
   },
   "outputs": [
    {
     "data": {
      "text/html": [
       "<div>\n",
       "<style scoped>\n",
       "    .dataframe tbody tr th:only-of-type {\n",
       "        vertical-align: middle;\n",
       "    }\n",
       "\n",
       "    .dataframe tbody tr th {\n",
       "        vertical-align: top;\n",
       "    }\n",
       "\n",
       "    .dataframe thead th {\n",
       "        text-align: right;\n",
       "    }\n",
       "</style>\n",
       "<table border=\"1\" class=\"dataframe\">\n",
       "  <thead>\n",
       "    <tr style=\"text-align: right;\">\n",
       "      <th></th>\n",
       "      <th>index</th>\n",
       "      <th>date</th>\n",
       "      <th>path</th>\n",
       "      <th>file</th>\n",
       "      <th>num</th>\n",
       "      <th>object</th>\n",
       "      <th>filter</th>\n",
       "      <th>disperser</th>\n",
       "      <th>airmass</th>\n",
       "      <th>exposure</th>\n",
       "      <th>...</th>\n",
       "      <th>temperature</th>\n",
       "      <th>humidity</th>\n",
       "      <th>windspd</th>\n",
       "      <th>Obj-posXpix</th>\n",
       "      <th>Obj-posYpix</th>\n",
       "      <th>Dx</th>\n",
       "      <th>Dy</th>\n",
       "      <th>skip</th>\n",
       "      <th>run</th>\n",
       "      <th>quality</th>\n",
       "    </tr>\n",
       "  </thead>\n",
       "  <tbody>\n",
       "    <tr>\n",
       "      <th>0</th>\n",
       "      <td>0</td>\n",
       "      <td>2023-09-12T23:48:57.141</td>\n",
       "      <td>/home/d/dagoret/rubin-user/DATA/AuxtelData2023...</td>\n",
       "      <td>exposure_2023091200124_pseudo-postisrccd.fits</td>\n",
       "      <td>124</td>\n",
       "      <td>gam Gru</td>\n",
       "      <td>cyl_lens</td>\n",
       "      <td>holo4_003</td>\n",
       "      <td>1.350272</td>\n",
       "      <td>60.0</td>\n",
       "      <td>...</td>\n",
       "      <td>-0.200</td>\n",
       "      <td>57.362499</td>\n",
       "      <td>4.9206</td>\n",
       "      <td>NaN</td>\n",
       "      <td>NaN</td>\n",
       "      <td>NaN</td>\n",
       "      <td>NaN</td>\n",
       "      <td></td>\n",
       "      <td>NaN</td>\n",
       "      <td>NaN</td>\n",
       "    </tr>\n",
       "    <tr>\n",
       "      <th>1</th>\n",
       "      <td>1</td>\n",
       "      <td>2023-09-12T23:50:10.329</td>\n",
       "      <td>/home/d/dagoret/rubin-user/DATA/AuxtelData2023...</td>\n",
       "      <td>exposure_2023091200125_pseudo-postisrccd.fits</td>\n",
       "      <td>125</td>\n",
       "      <td>gam Gru</td>\n",
       "      <td>cyl_lens</td>\n",
       "      <td>holo4_003</td>\n",
       "      <td>1.345133</td>\n",
       "      <td>90.0</td>\n",
       "      <td>...</td>\n",
       "      <td>-0.150</td>\n",
       "      <td>55.912498</td>\n",
       "      <td>5.1708</td>\n",
       "      <td>NaN</td>\n",
       "      <td>NaN</td>\n",
       "      <td>NaN</td>\n",
       "      <td>NaN</td>\n",
       "      <td></td>\n",
       "      <td>NaN</td>\n",
       "      <td>NaN</td>\n",
       "    </tr>\n",
       "    <tr>\n",
       "      <th>2</th>\n",
       "      <td>2</td>\n",
       "      <td>2023-09-12T23:51:53.252</td>\n",
       "      <td>/home/d/dagoret/rubin-user/DATA/AuxtelData2023...</td>\n",
       "      <td>exposure_2023091200126_pseudo-postisrccd.fits</td>\n",
       "      <td>126</td>\n",
       "      <td>gam Gru</td>\n",
       "      <td>cyl_lens</td>\n",
       "      <td>holo4_003</td>\n",
       "      <td>1.338019</td>\n",
       "      <td>120.0</td>\n",
       "      <td>...</td>\n",
       "      <td>-0.100</td>\n",
       "      <td>52.787498</td>\n",
       "      <td>4.9206</td>\n",
       "      <td>NaN</td>\n",
       "      <td>NaN</td>\n",
       "      <td>NaN</td>\n",
       "      <td>NaN</td>\n",
       "      <td></td>\n",
       "      <td>NaN</td>\n",
       "      <td>NaN</td>\n",
       "    </tr>\n",
       "    <tr>\n",
       "      <th>3</th>\n",
       "      <td>3</td>\n",
       "      <td>2023-09-13T01:15:44.897</td>\n",
       "      <td>/home/d/dagoret/rubin-user/DATA/AuxtelData2023...</td>\n",
       "      <td>exposure_2023091200191_pseudo-postisrccd.fits</td>\n",
       "      <td>191</td>\n",
       "      <td>zet Sgr</td>\n",
       "      <td>cyl_lens</td>\n",
       "      <td>holo4_003</td>\n",
       "      <td>1.021781</td>\n",
       "      <td>30.0</td>\n",
       "      <td>...</td>\n",
       "      <td>-0.275</td>\n",
       "      <td>50.200001</td>\n",
       "      <td>5.3376</td>\n",
       "      <td>NaN</td>\n",
       "      <td>NaN</td>\n",
       "      <td>NaN</td>\n",
       "      <td>NaN</td>\n",
       "      <td></td>\n",
       "      <td>NaN</td>\n",
       "      <td>NaN</td>\n",
       "    </tr>\n",
       "    <tr>\n",
       "      <th>4</th>\n",
       "      <td>4</td>\n",
       "      <td>2023-09-13T01:16:27.910</td>\n",
       "      <td>/home/d/dagoret/rubin-user/DATA/AuxtelData2023...</td>\n",
       "      <td>exposure_2023091200192_pseudo-postisrccd.fits</td>\n",
       "      <td>192</td>\n",
       "      <td>zet Sgr</td>\n",
       "      <td>cyl_lens</td>\n",
       "      <td>holo4_003</td>\n",
       "      <td>1.022366</td>\n",
       "      <td>60.0</td>\n",
       "      <td>...</td>\n",
       "      <td>-0.300</td>\n",
       "      <td>50.775002</td>\n",
       "      <td>4.9206</td>\n",
       "      <td>NaN</td>\n",
       "      <td>NaN</td>\n",
       "      <td>NaN</td>\n",
       "      <td>NaN</td>\n",
       "      <td></td>\n",
       "      <td>NaN</td>\n",
       "      <td>NaN</td>\n",
       "    </tr>\n",
       "    <tr>\n",
       "      <th>5</th>\n",
       "      <td>5</td>\n",
       "      <td>2023-09-13T01:17:40.949</td>\n",
       "      <td>/home/d/dagoret/rubin-user/DATA/AuxtelData2023...</td>\n",
       "      <td>exposure_2023091200193_pseudo-postisrccd.fits</td>\n",
       "      <td>193</td>\n",
       "      <td>zet Sgr</td>\n",
       "      <td>cyl_lens</td>\n",
       "      <td>holo4_003</td>\n",
       "      <td>1.023376</td>\n",
       "      <td>90.0</td>\n",
       "      <td>...</td>\n",
       "      <td>-0.375</td>\n",
       "      <td>52.150002</td>\n",
       "      <td>4.1700</td>\n",
       "      <td>NaN</td>\n",
       "      <td>NaN</td>\n",
       "      <td>NaN</td>\n",
       "      <td>NaN</td>\n",
       "      <td></td>\n",
       "      <td>NaN</td>\n",
       "      <td>NaN</td>\n",
       "    </tr>\n",
       "    <tr>\n",
       "      <th>6</th>\n",
       "      <td>6</td>\n",
       "      <td>2023-09-13T01:19:23.873</td>\n",
       "      <td>/home/d/dagoret/rubin-user/DATA/AuxtelData2023...</td>\n",
       "      <td>exposure_2023091200194_pseudo-postisrccd.fits</td>\n",
       "      <td>194</td>\n",
       "      <td>zet Sgr</td>\n",
       "      <td>cyl_lens</td>\n",
       "      <td>holo4_003</td>\n",
       "      <td>1.024842</td>\n",
       "      <td>120.0</td>\n",
       "      <td>...</td>\n",
       "      <td>-0.300</td>\n",
       "      <td>52.375000</td>\n",
       "      <td>4.9206</td>\n",
       "      <td>NaN</td>\n",
       "      <td>NaN</td>\n",
       "      <td>NaN</td>\n",
       "      <td>NaN</td>\n",
       "      <td></td>\n",
       "      <td>NaN</td>\n",
       "      <td>NaN</td>\n",
       "    </tr>\n",
       "  </tbody>\n",
       "</table>\n",
       "<p>7 rows × 23 columns</p>\n",
       "</div>"
      ],
      "text/plain": [
       "   index                     date  \\\n",
       "0      0  2023-09-12T23:48:57.141   \n",
       "1      1  2023-09-12T23:50:10.329   \n",
       "2      2  2023-09-12T23:51:53.252   \n",
       "3      3  2023-09-13T01:15:44.897   \n",
       "4      4  2023-09-13T01:16:27.910   \n",
       "5      5  2023-09-13T01:17:40.949   \n",
       "6      6  2023-09-13T01:19:23.873   \n",
       "\n",
       "                                                path  \\\n",
       "0  /home/d/dagoret/rubin-user/DATA/AuxtelData2023...   \n",
       "1  /home/d/dagoret/rubin-user/DATA/AuxtelData2023...   \n",
       "2  /home/d/dagoret/rubin-user/DATA/AuxtelData2023...   \n",
       "3  /home/d/dagoret/rubin-user/DATA/AuxtelData2023...   \n",
       "4  /home/d/dagoret/rubin-user/DATA/AuxtelData2023...   \n",
       "5  /home/d/dagoret/rubin-user/DATA/AuxtelData2023...   \n",
       "6  /home/d/dagoret/rubin-user/DATA/AuxtelData2023...   \n",
       "\n",
       "                                            file  num   object    filter  \\\n",
       "0  exposure_2023091200124_pseudo-postisrccd.fits  124  gam Gru  cyl_lens   \n",
       "1  exposure_2023091200125_pseudo-postisrccd.fits  125  gam Gru  cyl_lens   \n",
       "2  exposure_2023091200126_pseudo-postisrccd.fits  126  gam Gru  cyl_lens   \n",
       "3  exposure_2023091200191_pseudo-postisrccd.fits  191  zet Sgr  cyl_lens   \n",
       "4  exposure_2023091200192_pseudo-postisrccd.fits  192  zet Sgr  cyl_lens   \n",
       "5  exposure_2023091200193_pseudo-postisrccd.fits  193  zet Sgr  cyl_lens   \n",
       "6  exposure_2023091200194_pseudo-postisrccd.fits  194  zet Sgr  cyl_lens   \n",
       "\n",
       "   disperser   airmass  exposure  ...  temperature   humidity  windspd  \\\n",
       "0  holo4_003  1.350272      60.0  ...       -0.200  57.362499   4.9206   \n",
       "1  holo4_003  1.345133      90.0  ...       -0.150  55.912498   5.1708   \n",
       "2  holo4_003  1.338019     120.0  ...       -0.100  52.787498   4.9206   \n",
       "3  holo4_003  1.021781      30.0  ...       -0.275  50.200001   5.3376   \n",
       "4  holo4_003  1.022366      60.0  ...       -0.300  50.775002   4.9206   \n",
       "5  holo4_003  1.023376      90.0  ...       -0.375  52.150002   4.1700   \n",
       "6  holo4_003  1.024842     120.0  ...       -0.300  52.375000   4.9206   \n",
       "\n",
       "   Obj-posXpix  Obj-posYpix  Dx  Dy  skip  run  quality  \n",
       "0          NaN          NaN NaN NaN        NaN      NaN  \n",
       "1          NaN          NaN NaN NaN        NaN      NaN  \n",
       "2          NaN          NaN NaN NaN        NaN      NaN  \n",
       "3          NaN          NaN NaN NaN        NaN      NaN  \n",
       "4          NaN          NaN NaN NaN        NaN      NaN  \n",
       "5          NaN          NaN NaN NaN        NaN      NaN  \n",
       "6          NaN          NaN NaN NaN        NaN      NaN  \n",
       "\n",
       "[7 rows x 23 columns]"
      ]
     },
     "execution_count": 43,
     "metadata": {},
     "output_type": "execute_result"
    }
   ],
   "source": [
    "df"
   ]
  },
  {
   "cell_type": "markdown",
   "metadata": {},
   "source": [
    "# Make logbook\n"
   ]
  },
  {
   "cell_type": "code",
   "execution_count": 44,
   "metadata": {
    "execution": {
     "iopub.execute_input": "2023-09-13T09:11:59.560589Z",
     "iopub.status.busy": "2023-09-13T09:11:59.560475Z",
     "iopub.status.idle": "2023-09-13T09:11:59.563032Z",
     "shell.execute_reply": "2023-09-13T09:11:59.562674Z",
     "shell.execute_reply.started": "2023-09-13T09:11:59.560580Z"
    }
   },
   "outputs": [
    {
     "data": {
      "text/plain": [
       "7"
      ]
     },
     "execution_count": 44,
     "metadata": {},
     "output_type": "execute_result"
    }
   ],
   "source": [
    "N=len(df)\n",
    "N"
   ]
  },
  {
   "cell_type": "code",
   "execution_count": 45,
   "metadata": {
    "execution": {
     "iopub.execute_input": "2023-09-13T09:11:59.563599Z",
     "iopub.status.busy": "2023-09-13T09:11:59.563488Z",
     "iopub.status.idle": "2023-09-13T09:11:59.568369Z",
     "shell.execute_reply": "2023-09-13T09:11:59.568003Z",
     "shell.execute_reply.started": "2023-09-13T09:11:59.563589Z"
    },
    "tags": []
   },
   "outputs": [],
   "source": [
    "if N>0:\n",
    "#    df.to_excel(logbook_xlsx)\n",
    "    df.to_csv(logbook_csv)"
   ]
  },
  {
   "cell_type": "code",
   "execution_count": 46,
   "metadata": {
    "execution": {
     "iopub.execute_input": "2023-09-13T09:11:59.568958Z",
     "iopub.status.busy": "2023-09-13T09:11:59.568846Z",
     "iopub.status.idle": "2023-09-13T09:11:59.571542Z",
     "shell.execute_reply": "2023-09-13T09:11:59.571171Z",
     "shell.execute_reply.started": "2023-09-13T09:11:59.568948Z"
    }
   },
   "outputs": [
    {
     "data": {
      "text/plain": [
       "'logbooks/auxtellogbook_cyl_lens~holo4_003_20230912_v7.0.csv'"
      ]
     },
     "execution_count": 46,
     "metadata": {},
     "output_type": "execute_result"
    }
   ],
   "source": [
    "logbook_csv"
   ]
  },
  {
   "cell_type": "code",
   "execution_count": null,
   "metadata": {},
   "outputs": [],
   "source": []
  },
  {
   "cell_type": "code",
   "execution_count": null,
   "metadata": {},
   "outputs": [],
   "source": []
  },
  {
   "cell_type": "code",
   "execution_count": null,
   "metadata": {},
   "outputs": [],
   "source": []
  },
  {
   "cell_type": "code",
   "execution_count": null,
   "metadata": {},
   "outputs": [],
   "source": []
  }
 ],
 "metadata": {
  "kernelspec": {
   "display_name": "LSST",
   "language": "python",
   "name": "lsst"
  },
  "language_info": {
   "codemirror_mode": {
    "name": "ipython",
    "version": 3
   },
   "file_extension": ".py",
   "mimetype": "text/x-python",
   "name": "python",
   "nbconvert_exporter": "python",
   "pygments_lexer": "ipython3",
   "version": "3.11.4"
  },
  "toc": {
   "base_numbering": 1,
   "nav_menu": {},
   "number_sections": true,
   "sideBar": true,
   "skip_h1_title": false,
   "title_cell": "Table of Contents",
   "title_sidebar": "Contents",
   "toc_cell": false,
   "toc_position": {},
   "toc_section_display": true,
   "toc_window_display": false
  }
 },
 "nbformat": 4,
 "nbformat_minor": 4
}
