{
 "cells": [
  {
   "cell_type": "code",
   "execution_count": 1,
   "id": "ebfc3f2f-72ca-452b-9f75-c02c6937cdf9",
   "metadata": {
    "execution": {
     "iopub.execute_input": "2023-09-06T15:54:10.507402Z",
     "iopub.status.busy": "2023-09-06T15:54:10.507272Z",
     "iopub.status.idle": "2023-09-06T15:54:10.777557Z",
     "shell.execute_reply": "2023-09-06T15:54:10.776989Z",
     "shell.execute_reply.started": "2023-09-06T15:54:10.507389Z"
    },
    "tags": []
   },
   "outputs": [],
   "source": [
    "import numpy as np\n",
    "from astropy.io import fits\n",
    "import os\n",
    "import matplotlib\n",
    "import matplotlib.pyplot as plt\n",
    "from matplotlib.colors import LogNorm"
   ]
  },
  {
   "cell_type": "code",
   "execution_count": 2,
   "id": "ad0a0685-8d85-4bae-b316-41914d6e10aa",
   "metadata": {
    "execution": {
     "iopub.execute_input": "2023-09-06T15:54:10.778606Z",
     "iopub.status.busy": "2023-09-06T15:54:10.778337Z",
     "iopub.status.idle": "2023-09-06T15:54:11.835136Z",
     "shell.execute_reply": "2023-09-06T15:54:11.834568Z",
     "shell.execute_reply.started": "2023-09-06T15:54:10.778590Z"
    },
    "tags": []
   },
   "outputs": [],
   "source": [
    "from spectractor.extractor.extractor import Spectractor\n",
    "from spectractor.extractor.spectrum import Spectrum\n",
    "from spectractor import parameters\n",
    "from spectractor.extractor.images import *"
   ]
  },
  {
   "cell_type": "code",
   "execution_count": null,
   "id": "54bba059-3015-4f04-b988-baa37cbcba55",
   "metadata": {},
   "outputs": [],
   "source": []
  },
  {
   "cell_type": "markdown",
   "id": "f461e275-0e57-4a7a-bb27-41c5f7c46971",
   "metadata": {},
   "source": [
    "## Spectrum settings and paths "
   ]
  },
  {
   "cell_type": "code",
   "execution_count": 3,
   "id": "67b804da-dba4-406a-a912-2c8f82b29bf8",
   "metadata": {
    "execution": {
     "iopub.execute_input": "2023-09-06T15:54:11.836191Z",
     "iopub.status.busy": "2023-09-06T15:54:11.835843Z",
     "iopub.status.idle": "2023-09-06T15:54:11.838708Z",
     "shell.execute_reply": "2023-09-06T15:54:11.838295Z",
     "shell.execute_reply.started": "2023-09-06T15:54:11.836175Z"
    },
    "tags": []
   },
   "outputs": [],
   "source": [
    "spec_date = 20230117\n",
    "spec_source = 'MU-COL'\n",
    "spec_phys_filter = 'empty-holo4_003'"
   ]
  },
  {
   "cell_type": "code",
   "execution_count": 13,
   "id": "19931fed-4ddc-4db6-9281-8be2c274f562",
   "metadata": {
    "execution": {
     "iopub.execute_input": "2023-09-06T16:15:18.844461Z",
     "iopub.status.busy": "2023-09-06T16:15:18.844100Z",
     "iopub.status.idle": "2023-09-06T16:15:18.849467Z",
     "shell.execute_reply": "2023-09-06T16:15:18.848986Z",
     "shell.execute_reply.started": "2023-09-06T16:15:18.844444Z"
    },
    "tags": []
   },
   "outputs": [
    {
     "name": "stdout",
     "output_type": "stream",
     "text": [
      "Looking for  20230117_MU-COL_empty-holo4_003\n",
      "--------------\n",
      "exposure_2023011700266_empty-holo4_003_pseudo-postisrccd_flat.fits\n",
      "exposure_2023011700266_empty-holo4_003_pseudo-postisrccd_special_flat.fits\n",
      "exposure_2023011700265_empty-holo4_003_pseudo-postisrccd_flat.fits\n",
      "exposure_2023011700265_empty-holo4_003_pseudo-postisrccd_special_flat.fits\n",
      "exposure_2023011700266_empty-holo4_003_pseudo-postisrccd.fits\n",
      "exposure_2023011700265_empty-holo4_003_pseudo-postisrccd.fits\n"
     ]
    }
   ],
   "source": [
    "spec_path_base = '/home/m/monroy/notebooks/AuxTel_summit_tests_2023/special_flats_for_spectroscopy/pseudo_postisrccd_img/'\n",
    "\n",
    "if spec_date=='all':\n",
    "    date_label = 'all_dates_'\n",
    "else:\n",
    "    date_label = str(spec_date)+'_'\n",
    "if spec_source=='all':\n",
    "    source_label = 'all_sources_'\n",
    "else:\n",
    "    source_label = spec_source+'_'\n",
    "if spec_phys_filter=='all':\n",
    "    phys_filter_label = 'all_phys_filters'\n",
    "else:\n",
    "    phys_filter_label = spec_phys_filter\n",
    "\n",
    "spec_path_label = date_label+source_label+phys_filter_label\n",
    "print('Looking for ', spec_path_label)\n",
    "print('--------------')\n",
    "spec_path_ = [d for d in os.listdir(spec_path_base) if spec_path_label in d]\n",
    "assert len(spec_path_)==1\n",
    "spec_path_ = spec_path_[0]\n",
    "spec_path = os.path.join(spec_path_base,spec_path_)\n",
    "spec_list = os.listdir(spec_path)\n",
    "for s_ in spec_list:\n",
    "    print(s_)\n",
    "\n",
    "spec_list0 = [s for s in spec_list if 'flat' not in s]\n"
   ]
  },
  {
   "cell_type": "code",
   "execution_count": 18,
   "id": "33b2af0f-dfad-4f33-8817-547cbc9a3a02",
   "metadata": {
    "execution": {
     "iopub.execute_input": "2023-09-06T16:22:07.604975Z",
     "iopub.status.busy": "2023-09-06T16:22:07.604572Z",
     "iopub.status.idle": "2023-09-06T16:22:07.608487Z",
     "shell.execute_reply": "2023-09-06T16:22:07.607950Z",
     "shell.execute_reply.started": "2023-09-06T16:22:07.604950Z"
    },
    "tags": []
   },
   "outputs": [
    {
     "name": "stdout",
     "output_type": "stream",
     "text": [
      "Available sequence numbers:  ['266', '265']\n"
     ]
    }
   ],
   "source": [
    "seq_nums = []\n",
    "for s_ in spec_list0:\n",
    "    seq_nums.append(s_.replace('exposure_{0}00'.format(spec_date),'')[:3])\n",
    "print('Available sequence numbers: ', seq_nums)"
   ]
  },
  {
   "cell_type": "code",
   "execution_count": null,
   "id": "294aa3b6-7322-421e-a3d1-64d6f5f03621",
   "metadata": {},
   "outputs": [],
   "source": []
  },
  {
   "cell_type": "code",
   "execution_count": 19,
   "id": "ff421301-c27a-4060-89f3-7ba26bf93c7d",
   "metadata": {
    "execution": {
     "iopub.execute_input": "2023-09-06T16:22:11.456790Z",
     "iopub.status.busy": "2023-09-06T16:22:11.456558Z",
     "iopub.status.idle": "2023-09-06T16:22:11.459083Z",
     "shell.execute_reply": "2023-09-06T16:22:11.458722Z",
     "shell.execute_reply.started": "2023-09-06T16:22:11.456774Z"
    },
    "tags": []
   },
   "outputs": [],
   "source": [
    "spec_seq = 265"
   ]
  },
  {
   "cell_type": "markdown",
   "id": "eadaaef2-68a6-4317-a85e-a14a2d18f2a2",
   "metadata": {},
   "source": [
    "## Spectractor settings "
   ]
  },
  {
   "cell_type": "code",
   "execution_count": 20,
   "id": "193e2a20-9764-4e49-baa8-1202ff8a0c7d",
   "metadata": {
    "execution": {
     "iopub.execute_input": "2023-09-06T16:22:12.763429Z",
     "iopub.status.busy": "2023-09-06T16:22:12.762980Z",
     "iopub.status.idle": "2023-09-06T16:22:12.766202Z",
     "shell.execute_reply": "2023-09-06T16:22:12.765847Z",
     "shell.execute_reply.started": "2023-09-06T16:22:12.763412Z"
    },
    "tags": []
   },
   "outputs": [],
   "source": [
    "#filename=\"../tests/data/reduc_20170530_134.fits\"\n",
    "#config = \"./spectractor_configs/auxtel.ini\"\n",
    "config = \"./spectractor_configs/auxtel_rebin1.ini\"\n",
    "outdir = \"./spectractor_outputs/\"\n",
    "if os.path.exists(outdir)==False:\n",
    "    os.mkdir(outdir)\n",
    "disperser_label = spec_phys_filter\n",
    "if spec_source=='MU-COL':\n",
    "    target_label = \"HD38666\"\n",
    "else:\n",
    "    target_label = spec_source"
   ]
  },
  {
   "cell_type": "code",
   "execution_count": null,
   "id": "f809f41c-97e2-4b67-af39-58e6eb9748ec",
   "metadata": {},
   "outputs": [],
   "source": []
  },
  {
   "cell_type": "code",
   "execution_count": 21,
   "id": "fd9e142b-2d75-4b13-8cf0-8dc5093e67d3",
   "metadata": {
    "execution": {
     "iopub.execute_input": "2023-09-06T16:22:14.103612Z",
     "iopub.status.busy": "2023-09-06T16:22:14.103141Z",
     "iopub.status.idle": "2023-09-06T16:22:14.106496Z",
     "shell.execute_reply": "2023-09-06T16:22:14.106137Z",
     "shell.execute_reply.started": "2023-09-06T16:22:14.103594Z"
    },
    "tags": []
   },
   "outputs": [
    {
     "name": "stdout",
     "output_type": "stream",
     "text": [
      "exposure_2023011700265_empty-holo4_003_pseudo-postisrccd.fits\n",
      "exposure_2023011700265_empty-holo4_003_pseudo-postisrccd_flat.fits\n",
      "exposure_2023011700265_empty-holo4_003_pseudo-postisrccd_special_flat.fits\n"
     ]
    }
   ],
   "source": [
    "spec_name_0 = 'exposure_{0}00{1}_{2}_pseudo-postisrccd.fits'.format(spec_date,spec_seq,spec_phys_filter)\n",
    "spec_name_f = 'exposure_{0}00{1}_{2}_pseudo-postisrccd_flat.fits'.format(spec_date,spec_seq,spec_phys_filter)\n",
    "spec_name_sf = 'exposure_{0}00{1}_{2}_pseudo-postisrccd_special_flat.fits'.format(spec_date,spec_seq,spec_phys_filter)\n",
    "print(spec_name_0)\n",
    "print(spec_name_f)\n",
    "print(spec_name_sf)"
   ]
  },
  {
   "cell_type": "code",
   "execution_count": null,
   "id": "804c54aa-209a-4982-baa4-09f3bcab4ea2",
   "metadata": {},
   "outputs": [],
   "source": []
  },
  {
   "cell_type": "code",
   "execution_count": 22,
   "id": "52e64a8e-6ffc-4646-9a73-f2dcfc92790b",
   "metadata": {
    "execution": {
     "iopub.execute_input": "2023-09-06T16:22:15.075617Z",
     "iopub.status.busy": "2023-09-06T16:22:15.075192Z",
     "iopub.status.idle": "2023-09-06T16:22:15.078011Z",
     "shell.execute_reply": "2023-09-06T16:22:15.077674Z",
     "shell.execute_reply.started": "2023-09-06T16:22:15.075601Z"
    },
    "tags": []
   },
   "outputs": [],
   "source": [
    "filename_0 = os.path.join(spec_path,spec_name_0)\n",
    "filename_f = os.path.join(spec_path,spec_name_f)\n",
    "filename_sf = os.path.join(spec_path,spec_name_sf)"
   ]
  },
  {
   "cell_type": "code",
   "execution_count": null,
   "id": "4d501eb5-90a1-4b6a-b078-de9dedb27cfe",
   "metadata": {},
   "outputs": [],
   "source": []
  },
  {
   "cell_type": "code",
   "execution_count": 23,
   "id": "df0f0b53-84c8-4ed9-b839-4da8441eaab0",
   "metadata": {
    "execution": {
     "iopub.execute_input": "2023-09-06T16:22:16.094847Z",
     "iopub.status.busy": "2023-09-06T16:22:16.094469Z",
     "iopub.status.idle": "2023-09-06T16:22:16.112084Z",
     "shell.execute_reply": "2023-09-06T16:22:16.111737Z",
     "shell.execute_reply.started": "2023-09-06T16:22:16.094831Z"
    },
    "tags": []
   },
   "outputs": [],
   "source": [
    "ref_file_0 = fits.open(filename_0)\n",
    "ref_data_0 = ref_file_0[1].data\n",
    "\n",
    "ref_file_f = fits.open(filename_f)\n",
    "ref_data_f = ref_file_f[1].data\n",
    "\n",
    "ref_file_sf = fits.open(filename_sf)\n",
    "ref_data_sf = ref_file_sf[1].data"
   ]
  },
  {
   "cell_type": "code",
   "execution_count": 24,
   "id": "8d2d6aa6-bb1b-4caf-8b44-7baddc20c59a",
   "metadata": {
    "execution": {
     "iopub.execute_input": "2023-09-06T16:22:17.234258Z",
     "iopub.status.busy": "2023-09-06T16:22:17.233796Z",
     "iopub.status.idle": "2023-09-06T16:22:19.646878Z",
     "shell.execute_reply": "2023-09-06T16:22:19.646405Z",
     "shell.execute_reply.started": "2023-09-06T16:22:17.234241Z"
    },
    "tags": []
   },
   "outputs": [
    {
     "data": {
      "text/plain": [
       "<matplotlib.colorbar.Colorbar at 0x7fd44fe670d0>"
      ]
     },
     "execution_count": 24,
     "metadata": {},
     "output_type": "execute_result"
    },
    {
     "data": {
      "image/png": "[encoded data removed]",
      "text/plain": [
       "<Figure size 600x600 with 2 Axes>"
      ]
     },
     "metadata": {},
     "output_type": "display_data"
    }
   ],
   "source": [
    "%matplotlib inline\n",
    "fig = plt.figure(figsize=(6,6))\n",
    "ax = fig.add_subplot(111)\n",
    "im = ax.imshow(ref_data_0,cmap=\"gray\",origin='lower',norm=LogNorm())\n",
    "ax.axvline(x=2275,ls='--')\n",
    "ax.axvline(x=2355,ls='--')\n",
    "ax.axvline(x=2305,ls='--',color='r')\n",
    "ax.axvline(x=2400,ls='--',color='r')\n",
    "ax.set_title('Test')\n",
    "plt.colorbar(im,ax=ax)"
   ]
  },
  {
   "cell_type": "code",
   "execution_count": 25,
   "id": "85b08de0-92e9-47ad-ac70-f865e45c902a",
   "metadata": {
    "execution": {
     "iopub.execute_input": "2023-09-06T16:22:22.086609Z",
     "iopub.status.busy": "2023-09-06T16:22:22.086380Z",
     "iopub.status.idle": "2023-09-06T16:22:22.090228Z",
     "shell.execute_reply": "2023-09-06T16:22:22.089706Z",
     "shell.execute_reply.started": "2023-09-06T16:22:22.086592Z"
    },
    "tags": []
   },
   "outputs": [
    {
     "name": "stdout",
     "output_type": "stream",
     "text": [
      "4000 4000 4000\n",
      "(4000, 4072)\n"
     ]
    }
   ],
   "source": [
    "#ref_spec = np.sum(ref_data[:,2275:2355],axis=1)\n",
    "ref_spec_0 = ref_data_0[:,2305]\n",
    "ref_spec_f = ref_data_f[:,2305]\n",
    "ref_spec_sf = ref_data_sf[:,2305]\n",
    "print(len(ref_spec_0),len(ref_spec_f),len(ref_spec_sf))\n",
    "print(ref_data_0.shape)"
   ]
  },
  {
   "cell_type": "code",
   "execution_count": 26,
   "id": "c424b8f7-dfe0-44c5-af26-41a5fc2f5d49",
   "metadata": {
    "execution": {
     "iopub.execute_input": "2023-09-06T16:22:22.232343Z",
     "iopub.status.busy": "2023-09-06T16:22:22.232164Z",
     "iopub.status.idle": "2023-09-06T16:22:22.887904Z",
     "shell.execute_reply": "2023-09-06T16:22:22.887356Z",
     "shell.execute_reply.started": "2023-09-06T16:22:22.232326Z"
    },
    "tags": []
   },
   "outputs": [
    {
     "data": {
      "text/plain": [
       "Text(0.5, 0, 'Pixel')"
      ]
     },
     "execution_count": 26,
     "metadata": {},
     "output_type": "execute_result"
    },
    {
     "data": {
      "image/png": "[encoded data removed]",
      "text/plain": [
       "<Figure size 640x480 with 1 Axes>"
      ]
     },
     "metadata": {},
     "output_type": "display_data"
    }
   ],
   "source": [
    "pix_ = np.arange(len(ref_spec_0))\n",
    "plt.plot(pix_,ref_spec_0[::-1],color='b')\n",
    "plt.plot(pix_,ref_spec_f[::-1],color='purple')\n",
    "plt.plot(pix_,ref_spec_sf[::-1],color='orange')\n",
    "plt.xlim(1000,4000)\n",
    "#plt.ylim(0,5e4)\n",
    "plt.grid()\n",
    "plt.xlabel('Pixel')"
   ]
  },
  {
   "cell_type": "code",
   "execution_count": null,
   "id": "3cc7ef74-f261-4970-ad37-9c4db5b3e21c",
   "metadata": {
    "execution": {
     "iopub.status.busy": "2023-09-06T15:54:12.177591Z",
     "iopub.status.idle": "2023-09-06T15:54:12.178002Z",
     "shell.execute_reply": "2023-09-06T15:54:12.177899Z",
     "shell.execute_reply.started": "2023-09-06T15:54:12.177889Z"
    },
    "tags": []
   },
   "outputs": [],
   "source": [
    "pix_ = np.arange(len(ref_spec_0))\n",
    "plt.plot(pix_,ref_spec_0[::-1],color='b')\n",
    "plt.plot(pix_,ref_spec_f[::-1],color='purple')\n",
    "plt.plot(pix_,ref_spec_sf[::-1],color='orange')\n",
    "plt.xlim(1950,2050)\n",
    "plt.ylim(12000,20000)\n",
    "#plt.ylim(0,200)\n",
    "plt.grid()\n",
    "plt.xlabel('Pixel')"
   ]
  },
  {
   "cell_type": "code",
   "execution_count": null,
   "id": "4d80551c-0c28-41e3-9413-b2c0bae00cf9",
   "metadata": {},
   "outputs": [],
   "source": []
  },
  {
   "cell_type": "code",
   "execution_count": null,
   "id": "8f1f5883-f5ec-44bb-9cee-b712b18532e9",
   "metadata": {},
   "outputs": [],
   "source": []
  },
  {
   "cell_type": "code",
   "execution_count": null,
   "id": "10769d4e-b56d-425a-ac7e-e02134a0bf5a",
   "metadata": {
    "execution": {
     "iopub.status.busy": "2023-09-06T15:54:12.178501Z",
     "iopub.status.idle": "2023-09-06T15:54:12.178679Z",
     "shell.execute_reply": "2023-09-06T15:54:12.178594Z",
     "shell.execute_reply.started": "2023-09-06T15:54:12.178586Z"
    },
    "tags": []
   },
   "outputs": [],
   "source": [
    "flat_date = 20230116\n",
    "flat_filter = 'empty_1'\n",
    "\n",
    "flat_path_base = './special_flats/'\n",
    "flat_path_ = os.path.join(flat_path_base,str(flat_date))\n",
    "\n",
    "fpath_list = [f for f in os.listdir(flat_path_) if str(flat_date) in f]\n",
    "for f_ in fpath_list:\n",
    "    print(f_)"
   ]
  },
  {
   "cell_type": "code",
   "execution_count": null,
   "id": "0342bcba-7d9c-48ed-93cf-a4bf39cea157",
   "metadata": {
    "execution": {
     "iopub.status.busy": "2023-09-06T15:54:12.179365Z",
     "iopub.status.idle": "2023-09-06T15:54:12.179705Z",
     "shell.execute_reply": "2023-09-06T15:54:12.179613Z",
     "shell.execute_reply.started": "2023-09-06T15:54:12.179603Z"
    },
    "tags": []
   },
   "outputs": [],
   "source": [
    "flat_id = 2023011600015\n",
    "\n",
    "flat_path = os.path.join(flat_path_,str(flat_id))\n",
    "\n",
    "flat_list0 = [f for f in os.listdir(flat_path) if '.fits' in f and flat_filter in f]\n",
    "\n",
    "flat_list = []\n",
    "sflat_list = []\n",
    "print('Available flats: ')\n",
    "for f_ in flat_list0:\n",
    "    flat_list = [f for f in flat_list0 if 'special' not in f]\n",
    "    sflat_list = [f for f in flat_list0 if 'special' in f]\n",
    "    print('        ',f_)\n",
    "assert len(flat_list)==1\n",
    "assert len(sflat_list)==1\n",
    "flat_file = flat_list[0]\n",
    "sflat_file = sflat_list[0]"
   ]
  },
  {
   "cell_type": "code",
   "execution_count": null,
   "id": "4094504b-8f25-4d0c-a52c-74e1186265a6",
   "metadata": {
    "execution": {
     "iopub.status.busy": "2023-09-06T15:54:12.180277Z",
     "iopub.status.idle": "2023-09-06T15:54:12.180652Z",
     "shell.execute_reply": "2023-09-06T15:54:12.180558Z",
     "shell.execute_reply.started": "2023-09-06T15:54:12.180548Z"
    },
    "tags": []
   },
   "outputs": [],
   "source": [
    "sflat = fits.open(os.path.join(flat_path,sflat_file))\n",
    "flat = fits.open(os.path.join(flat_path,flat_file))\n",
    "sflat_data = sflat[1].data\n",
    "flat_data = flat[1].data"
   ]
  },
  {
   "cell_type": "code",
   "execution_count": null,
   "id": "ac53c740-7b9b-413e-b3ae-59abd724bd8c",
   "metadata": {
    "execution": {
     "iopub.status.busy": "2023-09-06T15:54:12.181261Z",
     "iopub.status.idle": "2023-09-06T15:54:12.181441Z",
     "shell.execute_reply": "2023-09-06T15:54:12.181356Z",
     "shell.execute_reply.started": "2023-09-06T15:54:12.181348Z"
    },
    "tags": []
   },
   "outputs": [],
   "source": [
    "%matplotlib inline\n",
    "fig = plt.figure(figsize=(6,6))\n",
    "ax = fig.add_subplot(111)\n",
    "im = ax.imshow(sflat_data,cmap=\"gray\",origin='lower')#,norm=LogNorm())\n",
    "ax.axvline(x=2275,ls='--')\n",
    "ax.axvline(x=2355,ls='--')\n",
    "ax.axvline(x=2305,ls='--',color='r')\n",
    "ax.set_title('Flat')\n",
    "plt.colorbar(im,ax=ax)"
   ]
  },
  {
   "cell_type": "code",
   "execution_count": null,
   "id": "ede8816e-a3f2-4798-946e-080dff89e918",
   "metadata": {
    "execution": {
     "iopub.status.busy": "2023-09-06T15:54:12.182123Z",
     "iopub.status.idle": "2023-09-06T15:54:12.182304Z",
     "shell.execute_reply": "2023-09-06T15:54:12.182217Z",
     "shell.execute_reply.started": "2023-09-06T15:54:12.182209Z"
    },
    "tags": []
   },
   "outputs": [],
   "source": [
    "ref_sflat = sflat_data[:,2305]\n",
    "ref_flat = flat_data[:,2305]"
   ]
  },
  {
   "cell_type": "code",
   "execution_count": null,
   "id": "603b9a85-2d96-4b87-a7a9-94940fae3530",
   "metadata": {
    "execution": {
     "iopub.status.busy": "2023-09-06T15:54:12.182876Z",
     "iopub.status.idle": "2023-09-06T15:54:12.183056Z",
     "shell.execute_reply": "2023-09-06T15:54:12.182974Z",
     "shell.execute_reply.started": "2023-09-06T15:54:12.182959Z"
    },
    "tags": []
   },
   "outputs": [],
   "source": [
    "pix_ = np.arange(len(ref_spec_0))\n",
    "plt.plot(pix_,ref_sflat[::-1],color='b')\n",
    "plt.plot(pix_,ref_flat[::-1],color='purple')\n",
    "#plt.xlim(1950,2050)\n",
    "#plt.ylim(12000,20000)\n",
    "plt.grid()\n",
    "plt.xlabel('Pixel')"
   ]
  },
  {
   "cell_type": "code",
   "execution_count": null,
   "id": "8b45a76b-25b3-4a14-bf92-e4a1f018e050",
   "metadata": {
    "execution": {
     "iopub.status.busy": "2023-09-06T15:54:12.183786Z",
     "iopub.status.idle": "2023-09-06T15:54:12.183973Z",
     "shell.execute_reply": "2023-09-06T15:54:12.183880Z",
     "shell.execute_reply.started": "2023-09-06T15:54:12.183872Z"
    },
    "tags": []
   },
   "outputs": [],
   "source": [
    "pix_ = np.arange(len(ref_spec_0))\n",
    "plt.plot(pix_,ref_spec_0[::-1],color='b')\n",
    "plt.plot(pix_,ref_spec_f[::-1],color='purple')\n",
    "plt.plot(pix_,ref_spec_sf[::-1],color='orange')\n",
    "plt.plot(pix_,ref_sflat[::-1]*38000.,ls=':',color='b')\n",
    "plt.plot(pix_,ref_flat[::-1]*38000.,ls=':',color='purple')\n",
    "plt.xlim(1450,1500)\n",
    "#plt.ylim(12500,18000)\n",
    "plt.ylim(37000,42000)\n",
    "plt.grid()\n",
    "plt.xlabel('Pixel')\n",
    "plt.legend()"
   ]
  },
  {
   "cell_type": "code",
   "execution_count": null,
   "id": "c04a3b73-ce7d-4382-ade2-a258ba6bd5f4",
   "metadata": {},
   "outputs": [],
   "source": []
  },
  {
   "cell_type": "code",
   "execution_count": null,
   "id": "8af2d95e-249c-469f-8010-ad0305e90a95",
   "metadata": {},
   "outputs": [],
   "source": []
  },
  {
   "cell_type": "code",
   "execution_count": null,
   "id": "7e2c526d-095c-4e84-a8f4-71053ebaa191",
   "metadata": {},
   "outputs": [],
   "source": []
  },
  {
   "cell_type": "code",
   "execution_count": null,
   "id": "2a155c39-ea6c-4340-825a-059f7819939c",
   "metadata": {},
   "outputs": [],
   "source": []
  },
  {
   "cell_type": "code",
   "execution_count": null,
   "id": "b302bd14-1537-4159-b672-9ed444906f1e",
   "metadata": {},
   "outputs": [],
   "source": []
  },
  {
   "cell_type": "code",
   "execution_count": null,
   "id": "c20dde3f-2301-4a45-a04b-031846582bf3",
   "metadata": {
    "execution": {
     "iopub.status.busy": "2023-09-06T15:54:12.184659Z",
     "iopub.status.idle": "2023-09-06T15:54:12.184838Z",
     "shell.execute_reply": "2023-09-06T15:54:12.184750Z",
     "shell.execute_reply.started": "2023-09-06T15:54:12.184742Z"
    },
    "tags": []
   },
   "outputs": [],
   "source": [
    "image_0 = Image(filename_0,target_label=target_label,disperser_label=disperser_label,config=config)"
   ]
  },
  {
   "cell_type": "code",
   "execution_count": null,
   "id": "b3c355bb-8a18-4c33-8aa1-6890cb2a2254",
   "metadata": {
    "execution": {
     "iopub.status.busy": "2023-09-06T15:54:12.185430Z",
     "iopub.status.idle": "2023-09-06T15:54:12.185927Z",
     "shell.execute_reply": "2023-09-06T15:54:12.185831Z",
     "shell.execute_reply.started": "2023-09-06T15:54:12.185821Z"
    },
    "tags": []
   },
   "outputs": [],
   "source": [
    "%matplotlib inline\n",
    "title=\"Spectrum NO flat\"\n",
    "image_0.plot_image(figsize=(12, 10),scale=\"log\",title=title)\n",
    "plt.show()"
   ]
  },
  {
   "cell_type": "code",
   "execution_count": null,
   "id": "f30e7596-27d4-48f2-b82e-e1df651bd891",
   "metadata": {
    "execution": {
     "iopub.status.busy": "2023-09-06T15:54:12.186414Z",
     "iopub.status.idle": "2023-09-06T15:54:12.186726Z",
     "shell.execute_reply": "2023-09-06T15:54:12.186636Z",
     "shell.execute_reply.started": "2023-09-06T15:54:12.186626Z"
    },
    "tags": []
   },
   "outputs": [],
   "source": [
    "image_f = Image(filename_f,target_label=target_label,disperser_label=disperser_label,config=config)"
   ]
  },
  {
   "cell_type": "code",
   "execution_count": null,
   "id": "14181327-a63d-40ad-a3a9-523dc3d680cf",
   "metadata": {
    "execution": {
     "iopub.status.busy": "2023-09-06T15:54:12.187322Z",
     "iopub.status.idle": "2023-09-06T15:54:12.187496Z",
     "shell.execute_reply": "2023-09-06T15:54:12.187411Z",
     "shell.execute_reply.started": "2023-09-06T15:54:12.187403Z"
    },
    "tags": []
   },
   "outputs": [],
   "source": [
    "%matplotlib inline\n",
    "title=\"Spectrum NORMAL flat\"\n",
    "image_f.plot_image(figsize=(12, 10),scale=\"log\",title=title)\n",
    "plt.show()"
   ]
  },
  {
   "cell_type": "code",
   "execution_count": null,
   "id": "2626a273-81ff-4825-89a4-b20ec3450aaa",
   "metadata": {
    "execution": {
     "iopub.status.busy": "2023-09-06T15:54:12.188210Z",
     "iopub.status.idle": "2023-09-06T15:54:12.188388Z",
     "shell.execute_reply": "2023-09-06T15:54:12.188302Z",
     "shell.execute_reply.started": "2023-09-06T15:54:12.188294Z"
    },
    "tags": []
   },
   "outputs": [],
   "source": [
    "image_sf = Image(filename_sf,target_label=target_label,disperser_label=disperser_label,config=config)"
   ]
  },
  {
   "cell_type": "code",
   "execution_count": null,
   "id": "f4bb5eec-5cb8-4ee5-911a-98cf622ad031",
   "metadata": {
    "execution": {
     "iopub.status.busy": "2023-09-06T15:54:12.189082Z",
     "iopub.status.idle": "2023-09-06T15:54:12.189259Z",
     "shell.execute_reply": "2023-09-06T15:54:12.189175Z",
     "shell.execute_reply.started": "2023-09-06T15:54:12.189167Z"
    },
    "tags": []
   },
   "outputs": [],
   "source": [
    "%matplotlib inline\n",
    "title=\"Spectrum SPECIAL flat\"\n",
    "image_sf.plot_image(figsize=(12, 10),scale=\"log\",title=title)\n",
    "plt.show()"
   ]
  },
  {
   "cell_type": "code",
   "execution_count": null,
   "id": "49c42ad8-cea8-486a-9f92-51b4b9953179",
   "metadata": {},
   "outputs": [],
   "source": []
  },
  {
   "cell_type": "code",
   "execution_count": null,
   "id": "ada1cd4a-7c04-47b6-840d-a7d678fadcdb",
   "metadata": {},
   "outputs": [],
   "source": []
  },
  {
   "cell_type": "markdown",
   "id": "0c775700-742d-4c0c-af2c-0f522179a2f3",
   "metadata": {},
   "source": [
    "## Set approximate coordinates for the zero order "
   ]
  },
  {
   "cell_type": "code",
   "execution_count": null,
   "id": "5fb4d7f7-9ad3-4caf-be2c-63d2b4305cee",
   "metadata": {
    "execution": {
     "iopub.status.busy": "2023-09-06T15:54:12.189839Z",
     "iopub.status.idle": "2023-09-06T15:54:12.190016Z",
     "shell.execute_reply": "2023-09-06T15:54:12.189929Z",
     "shell.execute_reply.started": "2023-09-06T15:54:12.189921Z"
    },
    "tags": []
   },
   "outputs": [],
   "source": [
    "fig = plt.figure(figsize=(10,10))\n",
    "ax = fig.add_subplot(111)\n",
    "im = ax.imshow(image_0.data,cmap=\"jet\",origin='lower',norm=LogNorm())\n",
    "ax.axvline(x=272,ls='--',color='b')\n",
    "ax.axhline(y=1750,ls='--',color='b')\n",
    "plt.colorbar(im,ax=ax)"
   ]
  },
  {
   "cell_type": "code",
   "execution_count": null,
   "id": "51f718e7-e2f9-4f23-b057-309cbd81a631",
   "metadata": {
    "execution": {
     "iopub.status.busy": "2023-09-06T15:54:12.190514Z",
     "iopub.status.idle": "2023-09-06T15:54:12.190685Z",
     "shell.execute_reply": "2023-09-06T15:54:12.190603Z",
     "shell.execute_reply.started": "2023-09-06T15:54:12.190595Z"
    },
    "tags": []
   },
   "outputs": [],
   "source": [
    "guess0 = [272,1750]"
   ]
  },
  {
   "cell_type": "code",
   "execution_count": null,
   "id": "bb859b9b-8fb6-4193-b469-1cee2e72e570",
   "metadata": {},
   "outputs": [],
   "source": []
  },
  {
   "cell_type": "code",
   "execution_count": null,
   "id": "bb878c1b-7bea-4396-80e2-89f9b8f9a812",
   "metadata": {
    "execution": {
     "iopub.status.busy": "2023-09-06T15:54:12.191266Z",
     "iopub.status.idle": "2023-09-06T15:54:12.191482Z",
     "shell.execute_reply": "2023-09-06T15:54:12.191392Z",
     "shell.execute_reply.started": "2023-09-06T15:54:12.191383Z"
    },
    "tags": []
   },
   "outputs": [],
   "source": [
    "%matplotlib inline\n",
    "x1, y1 = find_target(image_0, guess0,rotated=False)"
   ]
  },
  {
   "cell_type": "code",
   "execution_count": null,
   "id": "a6819612-ba5c-49e5-ab11-e3e3731d31f2",
   "metadata": {
    "execution": {
     "iopub.status.busy": "2023-09-06T15:54:12.191968Z",
     "iopub.status.idle": "2023-09-06T15:54:12.192133Z",
     "shell.execute_reply": "2023-09-06T15:54:12.192055Z",
     "shell.execute_reply.started": "2023-09-06T15:54:12.192047Z"
    },
    "tags": []
   },
   "outputs": [],
   "source": [
    "print(x1,y1)\n",
    "guess = [x1,y1]"
   ]
  },
  {
   "cell_type": "code",
   "execution_count": null,
   "id": "4bf8a7d7-3b89-46ee-8296-d03ab6fb903b",
   "metadata": {},
   "outputs": [],
   "source": []
  },
  {
   "cell_type": "code",
   "execution_count": null,
   "id": "6db36102-3623-4210-b696-696a520c2eaf",
   "metadata": {},
   "outputs": [],
   "source": []
  },
  {
   "cell_type": "code",
   "execution_count": null,
   "id": "2a3aff42-6ff4-45ae-8d37-65a589ce1b28",
   "metadata": {
    "execution": {
     "iopub.status.busy": "2023-09-06T15:54:12.192884Z",
     "iopub.status.idle": "2023-09-06T15:54:12.193066Z",
     "shell.execute_reply": "2023-09-06T15:54:12.192978Z",
     "shell.execute_reply.started": "2023-09-06T15:54:12.192970Z"
    },
    "tags": []
   },
   "outputs": [],
   "source": [
    "spectrum_0 = Spectractor(filename_0, outdir, guess=guess, target_label=target_label, disperser_label=disperser_label, config=config)"
   ]
  },
  {
   "cell_type": "code",
   "execution_count": null,
   "id": "fff96c49-8524-40b1-b7b0-0d5a5a59926b",
   "metadata": {
    "execution": {
     "iopub.status.busy": "2023-09-06T15:54:12.193416Z",
     "iopub.status.idle": "2023-09-06T15:54:12.193571Z",
     "shell.execute_reply": "2023-09-06T15:54:12.193499Z",
     "shell.execute_reply.started": "2023-09-06T15:54:12.193491Z"
    },
    "tags": []
   },
   "outputs": [],
   "source": [
    "%matplotlib inline\n",
    "spectrum_0.plot_spectrogram()\n",
    "plt.show()"
   ]
  },
  {
   "cell_type": "code",
   "execution_count": null,
   "id": "945be529-bc1f-471f-93f5-8e35f21694ac",
   "metadata": {},
   "outputs": [],
   "source": []
  },
  {
   "cell_type": "code",
   "execution_count": null,
   "id": "2b5b3138-e6b2-49ba-8dd4-aa2b03fa694e",
   "metadata": {
    "execution": {
     "iopub.status.busy": "2023-09-06T15:54:12.194045Z",
     "iopub.status.idle": "2023-09-06T15:54:12.194216Z",
     "shell.execute_reply": "2023-09-06T15:54:12.194131Z",
     "shell.execute_reply.started": "2023-09-06T15:54:12.194123Z"
    },
    "tags": []
   },
   "outputs": [],
   "source": [
    "%matplotlib inline\n",
    "spectrum_0.plot_spectrum()\n",
    "plt.show()"
   ]
  },
  {
   "cell_type": "code",
   "execution_count": null,
   "id": "ad955d77-3324-4ee4-ba2e-7dadbb105c82",
   "metadata": {},
   "outputs": [],
   "source": []
  },
  {
   "cell_type": "code",
   "execution_count": null,
   "id": "4be38bb9-5ea7-4826-a513-b913dd9a3bf6",
   "metadata": {
    "execution": {
     "iopub.status.busy": "2023-09-06T15:54:12.194698Z",
     "iopub.status.idle": "2023-09-06T15:54:12.194857Z",
     "shell.execute_reply": "2023-09-06T15:54:12.194782Z",
     "shell.execute_reply.started": "2023-09-06T15:54:12.194774Z"
    },
    "tags": []
   },
   "outputs": [],
   "source": [
    "spectrum_f = Spectractor(filename_f, outdir, guess=guess, target_label=target_label, disperser_label=disperser_label, config=config)"
   ]
  },
  {
   "cell_type": "code",
   "execution_count": null,
   "id": "f03bd2df-169d-497f-ae94-cb4267f8316b",
   "metadata": {
    "execution": {
     "iopub.status.busy": "2023-09-06T15:54:12.195511Z",
     "iopub.status.idle": "2023-09-06T15:54:12.195676Z",
     "shell.execute_reply": "2023-09-06T15:54:12.195600Z",
     "shell.execute_reply.started": "2023-09-06T15:54:12.195592Z"
    },
    "tags": []
   },
   "outputs": [],
   "source": [
    "%matplotlib inline\n",
    "spectrum_f.plot_spectrogram()\n",
    "plt.show()"
   ]
  },
  {
   "cell_type": "code",
   "execution_count": null,
   "id": "1e771453-b952-4857-8d8d-5640f9710c34",
   "metadata": {
    "execution": {
     "iopub.status.busy": "2023-09-06T15:54:12.196250Z",
     "iopub.status.idle": "2023-09-06T15:54:12.196412Z",
     "shell.execute_reply": "2023-09-06T15:54:12.196336Z",
     "shell.execute_reply.started": "2023-09-06T15:54:12.196328Z"
    },
    "tags": []
   },
   "outputs": [],
   "source": [
    "%matplotlib inline\n",
    "spectrum_f.plot_spectrum()\n",
    "plt.show()"
   ]
  },
  {
   "cell_type": "code",
   "execution_count": null,
   "id": "8501f5ea-2a71-4b20-bba8-e70f499cbd5c",
   "metadata": {},
   "outputs": [],
   "source": []
  },
  {
   "cell_type": "code",
   "execution_count": null,
   "id": "f99eef39-1b95-42c6-bdd3-0e22aa3175b4",
   "metadata": {
    "execution": {
     "iopub.status.busy": "2023-09-06T15:54:12.196993Z",
     "iopub.status.idle": "2023-09-06T15:54:12.197165Z",
     "shell.execute_reply": "2023-09-06T15:54:12.197080Z",
     "shell.execute_reply.started": "2023-09-06T15:54:12.197072Z"
    },
    "tags": []
   },
   "outputs": [],
   "source": [
    "spectrum_sf = Spectractor(filename_sf, outdir, guess=guess, target_label=target_label, disperser_label=disperser_label, config=config)"
   ]
  },
  {
   "cell_type": "code",
   "execution_count": null,
   "id": "1c752267-69e3-4b98-af98-d97841faf239",
   "metadata": {
    "execution": {
     "iopub.status.busy": "2023-09-06T15:54:12.197566Z",
     "iopub.status.idle": "2023-09-06T15:54:12.197725Z",
     "shell.execute_reply": "2023-09-06T15:54:12.197651Z",
     "shell.execute_reply.started": "2023-09-06T15:54:12.197643Z"
    },
    "tags": []
   },
   "outputs": [],
   "source": [
    "%matplotlib inline\n",
    "spectrum_sf.plot_spectrogram()\n",
    "plt.show()"
   ]
  },
  {
   "cell_type": "code",
   "execution_count": null,
   "id": "35141110-96ea-4a2e-a3b8-7db37e9e9627",
   "metadata": {
    "execution": {
     "iopub.status.busy": "2023-09-06T15:54:12.198537Z",
     "iopub.status.idle": "2023-09-06T15:54:12.198708Z",
     "shell.execute_reply": "2023-09-06T15:54:12.198624Z",
     "shell.execute_reply.started": "2023-09-06T15:54:12.198617Z"
    },
    "tags": []
   },
   "outputs": [],
   "source": [
    "%matplotlib inline\n",
    "spectrum_sf.plot_spectrum()\n",
    "plt.show()"
   ]
  },
  {
   "cell_type": "code",
   "execution_count": null,
   "id": "ea5bd48e-ddb4-41b2-aebe-a62d546e5eea",
   "metadata": {},
   "outputs": [],
   "source": []
  },
  {
   "cell_type": "code",
   "execution_count": null,
   "id": "e77e865a-e165-4360-9cf8-6e53423eef02",
   "metadata": {
    "execution": {
     "iopub.status.busy": "2023-09-06T15:54:12.199224Z",
     "iopub.status.idle": "2023-09-06T15:54:12.199388Z",
     "shell.execute_reply": "2023-09-06T15:54:12.199311Z",
     "shell.execute_reply.started": "2023-09-06T15:54:12.199303Z"
    },
    "tags": []
   },
   "outputs": [],
   "source": [
    "(spectrum_0.lambda_ref==spectrum_f.lambda_ref)"
   ]
  },
  {
   "cell_type": "code",
   "execution_count": null,
   "id": "8c1859b9-def7-42bb-bbfd-38adf88ef17c",
   "metadata": {
    "execution": {
     "iopub.status.busy": "2023-09-06T15:54:12.199968Z",
     "iopub.status.idle": "2023-09-06T15:54:12.200138Z",
     "shell.execute_reply": "2023-09-06T15:54:12.200060Z",
     "shell.execute_reply.started": "2023-09-06T15:54:12.200051Z"
    }
   },
   "outputs": [],
   "source": [
    "spectrum_0.lambda_ref"
   ]
  },
  {
   "cell_type": "code",
   "execution_count": null,
   "id": "22790990-8db7-4b21-8b75-511c7331f6f2",
   "metadata": {
    "execution": {
     "iopub.status.busy": "2023-09-06T15:54:12.200511Z",
     "iopub.status.idle": "2023-09-06T15:54:12.200671Z",
     "shell.execute_reply": "2023-09-06T15:54:12.200595Z",
     "shell.execute_reply.started": "2023-09-06T15:54:12.200587Z"
    },
    "tags": []
   },
   "outputs": [],
   "source": [
    "l0 = spectrum_0.lambdas\n",
    "lf = spectrum_f.lambdas\n",
    "lsf = spectrum_sf.lambdas\n",
    "\n",
    "spec0 = spectrum_0.data\n",
    "specf = spectrum_f.data\n",
    "specsf = spectrum_sf.data\n",
    "\n",
    "spec02 = spectrum_0.data_next_order\n",
    "specf2 = spectrum_f.data_next_order\n",
    "specsf2 = spectrum_sf.data_next_order\n"
   ]
  },
  {
   "cell_type": "code",
   "execution_count": null,
   "id": "4606081d-6ced-4839-8602-ad918618833c",
   "metadata": {
    "execution": {
     "iopub.status.busy": "2023-09-06T15:54:12.201377Z",
     "iopub.status.idle": "2023-09-06T15:54:12.201552Z",
     "shell.execute_reply": "2023-09-06T15:54:12.201467Z",
     "shell.execute_reply.started": "2023-09-06T15:54:12.201459Z"
    },
    "tags": []
   },
   "outputs": [],
   "source": [
    "plt.figure(figsize=(10,6))\n",
    "plt.plot(l0,spec0,ls='-',color='b',label='NO flat',alpha=0.5)\n",
    "plt.plot(lf,specf,ls=':',color='purple',label='Normal flat')\n",
    "plt.plot(lsf,specsf,ls=':',color='orange',label='Special flat')\n",
    "plt.grid()\n",
    "plt.xlabel(r'$\\lambda$ [nm]')\n",
    "plt.ylabel(r'Flux [$erg/s/cm^2/nm$]')\n",
    "plt.legend(loc=\"best\")"
   ]
  },
  {
   "cell_type": "code",
   "execution_count": null,
   "id": "301729fb-a861-469b-aca1-529586c22b05",
   "metadata": {
    "execution": {
     "iopub.status.busy": "2023-09-06T15:54:12.201973Z",
     "iopub.status.idle": "2023-09-06T15:54:12.202137Z",
     "shell.execute_reply": "2023-09-06T15:54:12.202061Z",
     "shell.execute_reply.started": "2023-09-06T15:54:12.202052Z"
    },
    "tags": []
   },
   "outputs": [],
   "source": [
    "plt.figure(figsize=(10,6))\n",
    "plt.plot(l0,spec0,ls='-',color='b',label='NO flat',alpha=0.5)\n",
    "plt.plot(lf,specf,ls=':',color='purple',label='Normal flat')\n",
    "plt.plot(lsf,specsf,ls=':',color='orange',label='Special flat')\n",
    "plt.xlim(600,640)\n",
    "plt.ylim(1.5e-11,2.2e-11)\n",
    "plt.grid()\n",
    "plt.xlabel(r'$\\lambda$ [nm]')\n",
    "plt.ylabel(r'Flux [$erg/s/cm^2/nm$]')\n",
    "plt.legend(loc=\"best\")"
   ]
  },
  {
   "cell_type": "code",
   "execution_count": null,
   "id": "f471bdbb-b5f3-41d3-a838-0d2052efaae3",
   "metadata": {},
   "outputs": [],
   "source": []
  },
  {
   "cell_type": "code",
   "execution_count": null,
   "id": "566eddd5-9f84-495d-8457-a35901c32ab7",
   "metadata": {
    "execution": {
     "iopub.status.busy": "2023-09-06T15:54:12.202674Z",
     "iopub.status.idle": "2023-09-06T15:54:12.202836Z",
     "shell.execute_reply": "2023-09-06T15:54:12.202760Z",
     "shell.execute_reply.started": "2023-09-06T15:54:12.202752Z"
    },
    "tags": []
   },
   "outputs": [],
   "source": [
    "plt.figure(figsize=(10,6))\n",
    "plt.plot(l0,spec0,ls='-',color='b',label='NO flat',alpha=0.5)\n",
    "plt.plot(lf,specf,ls=':',color='purple',label='Normal flat')\n",
    "plt.plot(lsf,specsf,ls=':',color='orange',label='Special flat')\n",
    "plt.xlim(350,450)\n",
    "#plt.ylim(-1e-11,1.3e-11)\n",
    "plt.grid()\n",
    "plt.xlabel(r'$\\lambda$ [nm]')\n",
    "plt.ylabel(r'Flux [$erg/s/cm^2/nm$]')\n",
    "plt.legend(loc=\"best\")"
   ]
  },
  {
   "cell_type": "code",
   "execution_count": null,
   "id": "738e7ed5-378b-4ba3-adb8-ffb8df1e9d15",
   "metadata": {},
   "outputs": [],
   "source": []
  },
  {
   "cell_type": "code",
   "execution_count": null,
   "id": "a04e73f7-2faa-4fc2-a044-b1ed47b932ca",
   "metadata": {},
   "outputs": [],
   "source": []
  },
  {
   "cell_type": "code",
   "execution_count": null,
   "id": "474b06a2-028e-4786-a11b-37c561577167",
   "metadata": {
    "execution": {
     "iopub.status.busy": "2023-09-06T15:54:12.203368Z",
     "iopub.status.idle": "2023-09-06T15:54:12.203540Z",
     "shell.execute_reply": "2023-09-06T15:54:12.203455Z",
     "shell.execute_reply.started": "2023-09-06T15:54:12.203447Z"
    },
    "tags": []
   },
   "outputs": [],
   "source": [
    "plt.figure(figsize=(10,6))\n",
    "plt.plot(l0,spec02,ls='-',color='b',label='NO flat',alpha=0.5)\n",
    "plt.plot(lf,specf2,ls=':',color='purple',label='Normal flat')\n",
    "plt.plot(lsf,specsf2,ls=':',color='orange',label='Special flat')\n",
    "plt.xlim(300,500)\n",
    "plt.grid()\n",
    "plt.xlabel(r'$\\lambda$ [nm]')\n",
    "plt.ylabel(r'Flux [$erg/s/cm^2/nm$]')\n",
    "plt.legend(loc=\"best\")"
   ]
  },
  {
   "cell_type": "code",
   "execution_count": null,
   "id": "88baa89e-835f-4018-881f-c7a12b60ed14",
   "metadata": {},
   "outputs": [],
   "source": []
  },
  {
   "cell_type": "code",
   "execution_count": null,
   "id": "be98c4f4-5508-4052-a0ac-db25b1af0f0f",
   "metadata": {},
   "outputs": [],
   "source": []
  },
  {
   "cell_type": "code",
   "execution_count": null,
   "id": "16edb0ae-2d07-4570-84ce-bbfd749866af",
   "metadata": {},
   "outputs": [],
   "source": []
  }
 ],
 "metadata": {
  "kernelspec": {
   "display_name": "LSST",
   "language": "python",
   "name": "lsst"
  },
  "language_info": {
   "codemirror_mode": {
    "name": "ipython",
    "version": 3
   },
   "file_extension": ".py",
   "mimetype": "text/x-python",
   "name": "python",
   "nbconvert_exporter": "python",
   "pygments_lexer": "ipython3",
   "version": "3.10.10"
  }
 },
 "nbformat": 4,
 "nbformat_minor": 5
}
